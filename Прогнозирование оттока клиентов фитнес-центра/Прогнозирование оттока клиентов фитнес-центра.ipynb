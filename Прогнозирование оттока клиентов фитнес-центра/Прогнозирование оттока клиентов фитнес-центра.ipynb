{
 "cells": [
  {
   "cell_type": "markdown",
   "metadata": {},
   "source": [
    "# Разработка стретегии взаимодействия с клиентами, в т.ч. прогнозирование вероятности оттока, с помощью машинного обучения для сети фитнес-центров «Культурист-датасаентист»\n",
    "\n",
    "Сеть фитнес-центров «Культурист-датасаентист» разрабатывает стратегию взаимодействия с клиентами на основе аналитических данных.\n",
    "\n",
    "Распространённая проблема фитнес-клубов и других сервисов — отток клиентов. \n",
    "\n",
    "Для фитнес-центра можно считать, что клиент попал в отток, если за последний месяц ни разу не посетил спортзал, т.е. если он начал новую жизнь с понедельника, немного походил в спортзал, а потом пропал — скорее всего, он не вернётся.\n",
    "\n",
    "Чтобы бороться с оттоком, отдел по работе с клиентами «Культуриста-датасаентиста» перевёл в электронный вид множество клиентских анкет. Наша задача — провести анализ и подготовить план действий по удержанию клиентов.\n",
    "\n",
    "**Задача**\n",
    "- научиться прогнозировать вероятность оттока (на уровне следующего месяца) для каждого клиента;\n",
    "- сформировать типичные портреты клиентов: выделить несколько наиболее ярких групп и охарактеризовать их основные свойства;\n",
    "- проанализировать основные признаки, наиболее сильно влияющие на отток;\n",
    "- сформулировать основные выводы и разработать рекомендации по повышению качества работы с клиентами:\n",
    "    - выделить целевые группы клиентов;\n",
    "    - предложить меры по снижению оттока;\n",
    "    - определить другие особенности взаимодействия с клиентами."
   ]
  },
  {
   "cell_type": "markdown",
   "metadata": {
    "toc": true
   },
   "source": [
    "<h1>Содержание<span class=\"tocSkip\"></span></h1>\n",
    "<div class=\"toc\"><ul class=\"toc-item\"><li><span><a href=\"#Описание-данных\" data-toc-modified-id=\"Описание-данных-1\"><span class=\"toc-item-num\">1&nbsp;&nbsp;</span>Описание данных</a></span></li><li><span><a href=\"#Импортирование-библиотек-и-данных-из-файла\" data-toc-modified-id=\"Импортирование-библиотек-и-данных-из-файла-2\"><span class=\"toc-item-num\">2&nbsp;&nbsp;</span>Импортирование библиотек и данных из файла</a></span></li><li><span><a href=\"#Исследовательский-анализ-данных\" data-toc-modified-id=\"Исследовательский-анализ-данных-3\"><span class=\"toc-item-num\">3&nbsp;&nbsp;</span>Исследовательский анализ данных</a></span><ul class=\"toc-item\"><li><span><a href=\"#Построение-столбчатых-гистограмм-и-распределения-признаков-для-тех,-кто-ушёл-(отток)-и-тех,-кто-остался-(не-попали-в-отток)\" data-toc-modified-id=\"Построение-столбчатых-гистограмм-и-распределения-признаков-для-тех,-кто-ушёл-(отток)-и-тех,-кто-остался-(не-попали-в-отток)-3.1\"><span class=\"toc-item-num\">3.1&nbsp;&nbsp;</span>Построение столбчатых гистограмм и распределения признаков для тех, кто ушёл (отток) и тех, кто остался (не попали в отток)</a></span></li><li><span><a href=\"#Построение-матрицы-корреляций\" data-toc-modified-id=\"Построение-матрицы-корреляций-3.2\"><span class=\"toc-item-num\">3.2&nbsp;&nbsp;</span>Построение матрицы корреляций</a></span></li></ul></li><li><span><a href=\"#Построение-модели-прогнозирования-оттока-клиентов\" data-toc-modified-id=\"Построение-модели-прогнозирования-оттока-клиентов-4\"><span class=\"toc-item-num\">4&nbsp;&nbsp;</span>Построение модели прогнозирования оттока клиентов</a></span><ul class=\"toc-item\"><li><span><a href=\"#Обучение-модели-на-train-выборке-логистической-регрессией\" data-toc-modified-id=\"Обучение-модели-на-train-выборке-логистической-регрессией-4.1\"><span class=\"toc-item-num\">4.1&nbsp;&nbsp;</span>Обучение модели на train-выборке логистической регрессией</a></span></li><li><span><a href=\"#Обучение-модели-на-train-выборке-случайным-лесом\" data-toc-modified-id=\"Обучение-модели-на-train-выборке-случайным-лесом-4.2\"><span class=\"toc-item-num\">4.2&nbsp;&nbsp;</span>Обучение модели на train-выборке случайным лесом</a></span></li></ul></li><li><span><a href=\"#Кластеризация-клиентов\" data-toc-modified-id=\"Кластеризация-клиентов-5\"><span class=\"toc-item-num\">5&nbsp;&nbsp;</span>Кластеризация клиентов</a></span><ul class=\"toc-item\"><li><span><a href=\"#Построение-матрицы-расстояний\" data-toc-modified-id=\"Построение-матрицы-расстояний-5.1\"><span class=\"toc-item-num\">5.1&nbsp;&nbsp;</span>Построение матрицы расстояний</a></span></li><li><span><a href=\"#Обучение-модели-кластеризации-на-основании-алгоритма-K-Means\" data-toc-modified-id=\"Обучение-модели-кластеризации-на-основании-алгоритма-K-Means-5.2\"><span class=\"toc-item-num\">5.2&nbsp;&nbsp;</span>Обучение модели кластеризации на основании алгоритма K-Means</a></span></li></ul></li><li><span><a href=\"#Выводы-и-рекомендации\" data-toc-modified-id=\"Выводы-и-рекомендации-6\"><span class=\"toc-item-num\">6&nbsp;&nbsp;</span>Выводы и рекомендации</a></span><ul class=\"toc-item\"><li><span><a href=\"#Общие-итоги:\" data-toc-modified-id=\"Общие-итоги:-6.1\"><span class=\"toc-item-num\">6.1&nbsp;&nbsp;</span>Общие итоги:</a></span></li><li><span><a href=\"#Вывод\" data-toc-modified-id=\"Вывод-6.2\"><span class=\"toc-item-num\">6.2&nbsp;&nbsp;</span>Вывод</a></span></li><li><span><a href=\"#Рекомендации\" data-toc-modified-id=\"Рекомендации-6.3\"><span class=\"toc-item-num\">6.3&nbsp;&nbsp;</span>Рекомендации</a></span></li></ul></li></ul></div>"
   ]
  },
  {
   "cell_type": "markdown",
   "metadata": {},
   "source": [
    "## Описание данных\n",
    "\n",
    "«Культурист-датасаентист» предоставил сведения в csv-файлах. Заказчик подготовил данные, которые содержат данные на месяц до оттока и факт оттока на определённый месяц. Набор данных включает следующие поля:\n",
    "\n",
    "- **'Churn'** — факт оттока в текущем месяце;\n",
    "- Текущие поля в датасете:\n",
    "    - Данные клиента за предыдущий до проверки факта оттока месяц:\n",
    "        - **'gender'** — пол;\n",
    "        - **'Near_Location'** — проживание или работа в районе, где находится фитнес-центр;\n",
    "        - **'Partner'** — сотрудник компании-партнёра клуба (сотрудничество с компаниями, чьи сотрудники могут получать скидки на абонемент — в таком случае фитнес-центр хранит информацию о работодателе клиента);\n",
    "        - **'Promo_friends'** — факт первоначальной записи в рамках акции «приведи друга» (использовал промо-код от знакомого при оплате первого абонемента);\n",
    "        - **'Phone'** — наличие контактного телефона;\n",
    "        - **'Age'** — возраст;\n",
    "        - **'Lifetime'** — время с момента первого обращения в фитнес-центр (в месяцах).\n",
    "- Информация на основе журнала посещений, покупок и информация о текущем статусе абонемента клиента:\n",
    "    - **'Contract_period'** — длительность текущего действующего абонемента (месяц, 3 месяца, 6 месяцев, год);\n",
    "    - **'Month_to_end_contract'** — срок до окончания текущего действующего абонемента (в месяцах);\n",
    "    - **'Group_visits'** — факт посещения групповых занятий;\n",
    "    - **'Avg_class_frequency_total'** — средняя частота посещений в неделю за все время с начала действия абонемента;\n",
    "    - **'Avg_class_frequency_current_month'** — средняя частота посещений в неделю за предыдущий месяц;\n",
    "    - **'Avg_additional_charges_total'** — суммарная выручка от других услуг фитнес-центра: кафе, спорт-товары, косметический и массажный салон.\n",
    "\n",
    "## Импортирование библиотек и данных из файла"
   ]
  },
  {
   "cell_type": "code",
   "execution_count": 1,
   "metadata": {},
   "outputs": [],
   "source": [
    "import pandas as pd\n",
    "import numpy as np \n",
    "import pylab\n",
    "import scipy.stats as stats\n",
    "import matplotlib.pyplot as plt\n",
    "import seaborn as sns\n",
    "\n",
    "from sklearn.preprocessing import StandardScaler\n",
    "from sklearn.model_selection import train_test_split\n",
    "from sklearn.linear_model import Lasso, Ridge, LogisticRegression\n",
    "\n",
    "from sklearn.metrics import mean_absolute_error, mean_squared_error, r2_score, silhouette_score\n",
    "from sklearn.metrics import accuracy_score, precision_score, recall_score, f1_score, roc_auc_score\n",
    "\n",
    "from sklearn.tree import DecisionTreeRegressor\n",
    "\n",
    "from sklearn.ensemble import RandomForestRegressor, GradientBoostingRegressor\n",
    "from sklearn.ensemble import RandomForestClassifier, GradientBoostingClassifier\n",
    "\n",
    "from scipy.cluster.hierarchy import dendrogram, linkage\n",
    "\n",
    "from sklearn.cluster import KMeans\n",
    "import itertools"
   ]
  },
  {
   "cell_type": "code",
   "execution_count": 2,
   "metadata": {},
   "outputs": [
    {
     "data": {
      "text/html": [
       "<div>\n",
       "<style scoped>\n",
       "    .dataframe tbody tr th:only-of-type {\n",
       "        vertical-align: middle;\n",
       "    }\n",
       "\n",
       "    .dataframe tbody tr th {\n",
       "        vertical-align: top;\n",
       "    }\n",
       "\n",
       "    .dataframe thead th {\n",
       "        text-align: right;\n",
       "    }\n",
       "</style>\n",
       "<table border=\"1\" class=\"dataframe\">\n",
       "  <thead>\n",
       "    <tr style=\"text-align: right;\">\n",
       "      <th></th>\n",
       "      <th>gender</th>\n",
       "      <th>Near_Location</th>\n",
       "      <th>Partner</th>\n",
       "      <th>Promo_friends</th>\n",
       "      <th>Phone</th>\n",
       "      <th>Contract_period</th>\n",
       "      <th>Group_visits</th>\n",
       "      <th>Age</th>\n",
       "      <th>Avg_additional_charges_total</th>\n",
       "      <th>Month_to_end_contract</th>\n",
       "      <th>Lifetime</th>\n",
       "      <th>Avg_class_frequency_total</th>\n",
       "      <th>Avg_class_frequency_current_month</th>\n",
       "      <th>Churn</th>\n",
       "    </tr>\n",
       "  </thead>\n",
       "  <tbody>\n",
       "    <tr>\n",
       "      <td>0</td>\n",
       "      <td>1</td>\n",
       "      <td>1</td>\n",
       "      <td>1</td>\n",
       "      <td>1</td>\n",
       "      <td>0</td>\n",
       "      <td>6</td>\n",
       "      <td>1</td>\n",
       "      <td>29</td>\n",
       "      <td>14.227470</td>\n",
       "      <td>5.0</td>\n",
       "      <td>3</td>\n",
       "      <td>0.020398</td>\n",
       "      <td>0.000000</td>\n",
       "      <td>0</td>\n",
       "    </tr>\n",
       "    <tr>\n",
       "      <td>1</td>\n",
       "      <td>0</td>\n",
       "      <td>1</td>\n",
       "      <td>0</td>\n",
       "      <td>0</td>\n",
       "      <td>1</td>\n",
       "      <td>12</td>\n",
       "      <td>1</td>\n",
       "      <td>31</td>\n",
       "      <td>113.202938</td>\n",
       "      <td>12.0</td>\n",
       "      <td>7</td>\n",
       "      <td>1.922936</td>\n",
       "      <td>1.910244</td>\n",
       "      <td>0</td>\n",
       "    </tr>\n",
       "    <tr>\n",
       "      <td>2</td>\n",
       "      <td>0</td>\n",
       "      <td>1</td>\n",
       "      <td>1</td>\n",
       "      <td>0</td>\n",
       "      <td>1</td>\n",
       "      <td>1</td>\n",
       "      <td>0</td>\n",
       "      <td>28</td>\n",
       "      <td>129.448479</td>\n",
       "      <td>1.0</td>\n",
       "      <td>2</td>\n",
       "      <td>1.859098</td>\n",
       "      <td>1.736502</td>\n",
       "      <td>0</td>\n",
       "    </tr>\n",
       "    <tr>\n",
       "      <td>3</td>\n",
       "      <td>0</td>\n",
       "      <td>1</td>\n",
       "      <td>1</td>\n",
       "      <td>1</td>\n",
       "      <td>1</td>\n",
       "      <td>12</td>\n",
       "      <td>1</td>\n",
       "      <td>33</td>\n",
       "      <td>62.669863</td>\n",
       "      <td>12.0</td>\n",
       "      <td>2</td>\n",
       "      <td>3.205633</td>\n",
       "      <td>3.357215</td>\n",
       "      <td>0</td>\n",
       "    </tr>\n",
       "    <tr>\n",
       "      <td>4</td>\n",
       "      <td>1</td>\n",
       "      <td>1</td>\n",
       "      <td>1</td>\n",
       "      <td>1</td>\n",
       "      <td>1</td>\n",
       "      <td>1</td>\n",
       "      <td>0</td>\n",
       "      <td>26</td>\n",
       "      <td>198.362265</td>\n",
       "      <td>1.0</td>\n",
       "      <td>3</td>\n",
       "      <td>1.113884</td>\n",
       "      <td>1.120078</td>\n",
       "      <td>0</td>\n",
       "    </tr>\n",
       "  </tbody>\n",
       "</table>\n",
       "</div>"
      ],
      "text/plain": [
       "   gender  Near_Location  Partner  Promo_friends  Phone  Contract_period  \\\n",
       "0       1              1        1              1      0                6   \n",
       "1       0              1        0              0      1               12   \n",
       "2       0              1        1              0      1                1   \n",
       "3       0              1        1              1      1               12   \n",
       "4       1              1        1              1      1                1   \n",
       "\n",
       "   Group_visits  Age  Avg_additional_charges_total  Month_to_end_contract  \\\n",
       "0             1   29                     14.227470                    5.0   \n",
       "1             1   31                    113.202938                   12.0   \n",
       "2             0   28                    129.448479                    1.0   \n",
       "3             1   33                     62.669863                   12.0   \n",
       "4             0   26                    198.362265                    1.0   \n",
       "\n",
       "   Lifetime  Avg_class_frequency_total  Avg_class_frequency_current_month  \\\n",
       "0         3                   0.020398                           0.000000   \n",
       "1         7                   1.922936                           1.910244   \n",
       "2         2                   1.859098                           1.736502   \n",
       "3         2                   3.205633                           3.357215   \n",
       "4         3                   1.113884                           1.120078   \n",
       "\n",
       "   Churn  \n",
       "0      0  \n",
       "1      0  \n",
       "2      0  \n",
       "3      0  \n",
       "4      0  "
      ]
     },
     "execution_count": 2,
     "metadata": {},
     "output_type": "execute_result"
    }
   ],
   "source": [
    "df = pd.read_csv('/datasets/gym_churn.csv')\n",
    "df.head()"
   ]
  },
  {
   "cell_type": "markdown",
   "metadata": {},
   "source": [
    "Данные загружены, отображаются корректно, в них нет временных показателей (дат). Необходимо изменить названия столбцов для удобства (привести к нижнему регистру)."
   ]
  },
  {
   "cell_type": "markdown",
   "metadata": {},
   "source": [
    "## Исследовательский анализ данных"
   ]
  },
  {
   "cell_type": "code",
   "execution_count": 3,
   "metadata": {},
   "outputs": [
    {
     "name": "stdout",
     "output_type": "stream",
     "text": [
      "<class 'pandas.core.frame.DataFrame'>\n",
      "RangeIndex: 4000 entries, 0 to 3999\n",
      "Data columns (total 14 columns):\n",
      "gender                               4000 non-null int64\n",
      "Near_Location                        4000 non-null int64\n",
      "Partner                              4000 non-null int64\n",
      "Promo_friends                        4000 non-null int64\n",
      "Phone                                4000 non-null int64\n",
      "Contract_period                      4000 non-null int64\n",
      "Group_visits                         4000 non-null int64\n",
      "Age                                  4000 non-null int64\n",
      "Avg_additional_charges_total         4000 non-null float64\n",
      "Month_to_end_contract                4000 non-null float64\n",
      "Lifetime                             4000 non-null int64\n",
      "Avg_class_frequency_total            4000 non-null float64\n",
      "Avg_class_frequency_current_month    4000 non-null float64\n",
      "Churn                                4000 non-null int64\n",
      "dtypes: float64(4), int64(10)\n",
      "memory usage: 437.6 KB\n"
     ]
    }
   ],
   "source": [
    "df.info()"
   ]
  },
  {
   "cell_type": "markdown",
   "metadata": {},
   "source": [
    "Данные хорошие, пропусков нет. Всего мы имеем данные о 4 тыс клиентов."
   ]
  },
  {
   "cell_type": "code",
   "execution_count": 4,
   "metadata": {},
   "outputs": [
    {
     "data": {
      "text/plain": [
       "0"
      ]
     },
     "execution_count": 4,
     "metadata": {},
     "output_type": "execute_result"
    }
   ],
   "source": [
    "df.duplicated().sum()"
   ]
  },
  {
   "cell_type": "markdown",
   "metadata": {},
   "source": [
    "Дубликатов нет."
   ]
  },
  {
   "cell_type": "code",
   "execution_count": 5,
   "metadata": {
    "scrolled": false
   },
   "outputs": [
    {
     "data": {
      "text/html": [
       "<div>\n",
       "<style scoped>\n",
       "    .dataframe tbody tr th:only-of-type {\n",
       "        vertical-align: middle;\n",
       "    }\n",
       "\n",
       "    .dataframe tbody tr th {\n",
       "        vertical-align: top;\n",
       "    }\n",
       "\n",
       "    .dataframe thead th {\n",
       "        text-align: right;\n",
       "    }\n",
       "</style>\n",
       "<table border=\"1\" class=\"dataframe\">\n",
       "  <thead>\n",
       "    <tr style=\"text-align: right;\">\n",
       "      <th></th>\n",
       "      <th>count</th>\n",
       "      <th>mean</th>\n",
       "      <th>std</th>\n",
       "      <th>min</th>\n",
       "      <th>25%</th>\n",
       "      <th>50%</th>\n",
       "      <th>75%</th>\n",
       "      <th>max</th>\n",
       "    </tr>\n",
       "  </thead>\n",
       "  <tbody>\n",
       "    <tr>\n",
       "      <td>gender</td>\n",
       "      <td>4000.0</td>\n",
       "      <td>0.510250</td>\n",
       "      <td>0.499957</td>\n",
       "      <td>0.000000</td>\n",
       "      <td>0.000000</td>\n",
       "      <td>1.000000</td>\n",
       "      <td>1.000000</td>\n",
       "      <td>1.000000</td>\n",
       "    </tr>\n",
       "    <tr>\n",
       "      <td>Near_Location</td>\n",
       "      <td>4000.0</td>\n",
       "      <td>0.845250</td>\n",
       "      <td>0.361711</td>\n",
       "      <td>0.000000</td>\n",
       "      <td>1.000000</td>\n",
       "      <td>1.000000</td>\n",
       "      <td>1.000000</td>\n",
       "      <td>1.000000</td>\n",
       "    </tr>\n",
       "    <tr>\n",
       "      <td>Partner</td>\n",
       "      <td>4000.0</td>\n",
       "      <td>0.486750</td>\n",
       "      <td>0.499887</td>\n",
       "      <td>0.000000</td>\n",
       "      <td>0.000000</td>\n",
       "      <td>0.000000</td>\n",
       "      <td>1.000000</td>\n",
       "      <td>1.000000</td>\n",
       "    </tr>\n",
       "    <tr>\n",
       "      <td>Promo_friends</td>\n",
       "      <td>4000.0</td>\n",
       "      <td>0.308500</td>\n",
       "      <td>0.461932</td>\n",
       "      <td>0.000000</td>\n",
       "      <td>0.000000</td>\n",
       "      <td>0.000000</td>\n",
       "      <td>1.000000</td>\n",
       "      <td>1.000000</td>\n",
       "    </tr>\n",
       "    <tr>\n",
       "      <td>Phone</td>\n",
       "      <td>4000.0</td>\n",
       "      <td>0.903500</td>\n",
       "      <td>0.295313</td>\n",
       "      <td>0.000000</td>\n",
       "      <td>1.000000</td>\n",
       "      <td>1.000000</td>\n",
       "      <td>1.000000</td>\n",
       "      <td>1.000000</td>\n",
       "    </tr>\n",
       "    <tr>\n",
       "      <td>Contract_period</td>\n",
       "      <td>4000.0</td>\n",
       "      <td>4.681250</td>\n",
       "      <td>4.549706</td>\n",
       "      <td>1.000000</td>\n",
       "      <td>1.000000</td>\n",
       "      <td>1.000000</td>\n",
       "      <td>6.000000</td>\n",
       "      <td>12.000000</td>\n",
       "    </tr>\n",
       "    <tr>\n",
       "      <td>Group_visits</td>\n",
       "      <td>4000.0</td>\n",
       "      <td>0.412250</td>\n",
       "      <td>0.492301</td>\n",
       "      <td>0.000000</td>\n",
       "      <td>0.000000</td>\n",
       "      <td>0.000000</td>\n",
       "      <td>1.000000</td>\n",
       "      <td>1.000000</td>\n",
       "    </tr>\n",
       "    <tr>\n",
       "      <td>Age</td>\n",
       "      <td>4000.0</td>\n",
       "      <td>29.184250</td>\n",
       "      <td>3.258367</td>\n",
       "      <td>18.000000</td>\n",
       "      <td>27.000000</td>\n",
       "      <td>29.000000</td>\n",
       "      <td>31.000000</td>\n",
       "      <td>41.000000</td>\n",
       "    </tr>\n",
       "    <tr>\n",
       "      <td>Avg_additional_charges_total</td>\n",
       "      <td>4000.0</td>\n",
       "      <td>146.943728</td>\n",
       "      <td>96.355602</td>\n",
       "      <td>0.148205</td>\n",
       "      <td>68.868830</td>\n",
       "      <td>136.220159</td>\n",
       "      <td>210.949625</td>\n",
       "      <td>552.590740</td>\n",
       "    </tr>\n",
       "    <tr>\n",
       "      <td>Month_to_end_contract</td>\n",
       "      <td>4000.0</td>\n",
       "      <td>4.322750</td>\n",
       "      <td>4.191297</td>\n",
       "      <td>1.000000</td>\n",
       "      <td>1.000000</td>\n",
       "      <td>1.000000</td>\n",
       "      <td>6.000000</td>\n",
       "      <td>12.000000</td>\n",
       "    </tr>\n",
       "    <tr>\n",
       "      <td>Lifetime</td>\n",
       "      <td>4000.0</td>\n",
       "      <td>3.724750</td>\n",
       "      <td>3.749267</td>\n",
       "      <td>0.000000</td>\n",
       "      <td>1.000000</td>\n",
       "      <td>3.000000</td>\n",
       "      <td>5.000000</td>\n",
       "      <td>31.000000</td>\n",
       "    </tr>\n",
       "    <tr>\n",
       "      <td>Avg_class_frequency_total</td>\n",
       "      <td>4000.0</td>\n",
       "      <td>1.879020</td>\n",
       "      <td>0.972245</td>\n",
       "      <td>0.000000</td>\n",
       "      <td>1.180875</td>\n",
       "      <td>1.832768</td>\n",
       "      <td>2.536078</td>\n",
       "      <td>6.023668</td>\n",
       "    </tr>\n",
       "    <tr>\n",
       "      <td>Avg_class_frequency_current_month</td>\n",
       "      <td>4000.0</td>\n",
       "      <td>1.767052</td>\n",
       "      <td>1.052906</td>\n",
       "      <td>0.000000</td>\n",
       "      <td>0.963003</td>\n",
       "      <td>1.719574</td>\n",
       "      <td>2.510336</td>\n",
       "      <td>6.146783</td>\n",
       "    </tr>\n",
       "    <tr>\n",
       "      <td>Churn</td>\n",
       "      <td>4000.0</td>\n",
       "      <td>0.265250</td>\n",
       "      <td>0.441521</td>\n",
       "      <td>0.000000</td>\n",
       "      <td>0.000000</td>\n",
       "      <td>0.000000</td>\n",
       "      <td>1.000000</td>\n",
       "      <td>1.000000</td>\n",
       "    </tr>\n",
       "  </tbody>\n",
       "</table>\n",
       "</div>"
      ],
      "text/plain": [
       "                                    count        mean        std        min  \\\n",
       "gender                             4000.0    0.510250   0.499957   0.000000   \n",
       "Near_Location                      4000.0    0.845250   0.361711   0.000000   \n",
       "Partner                            4000.0    0.486750   0.499887   0.000000   \n",
       "Promo_friends                      4000.0    0.308500   0.461932   0.000000   \n",
       "Phone                              4000.0    0.903500   0.295313   0.000000   \n",
       "Contract_period                    4000.0    4.681250   4.549706   1.000000   \n",
       "Group_visits                       4000.0    0.412250   0.492301   0.000000   \n",
       "Age                                4000.0   29.184250   3.258367  18.000000   \n",
       "Avg_additional_charges_total       4000.0  146.943728  96.355602   0.148205   \n",
       "Month_to_end_contract              4000.0    4.322750   4.191297   1.000000   \n",
       "Lifetime                           4000.0    3.724750   3.749267   0.000000   \n",
       "Avg_class_frequency_total          4000.0    1.879020   0.972245   0.000000   \n",
       "Avg_class_frequency_current_month  4000.0    1.767052   1.052906   0.000000   \n",
       "Churn                              4000.0    0.265250   0.441521   0.000000   \n",
       "\n",
       "                                         25%         50%         75%  \\\n",
       "gender                              0.000000    1.000000    1.000000   \n",
       "Near_Location                       1.000000    1.000000    1.000000   \n",
       "Partner                             0.000000    0.000000    1.000000   \n",
       "Promo_friends                       0.000000    0.000000    1.000000   \n",
       "Phone                               1.000000    1.000000    1.000000   \n",
       "Contract_period                     1.000000    1.000000    6.000000   \n",
       "Group_visits                        0.000000    0.000000    1.000000   \n",
       "Age                                27.000000   29.000000   31.000000   \n",
       "Avg_additional_charges_total       68.868830  136.220159  210.949625   \n",
       "Month_to_end_contract               1.000000    1.000000    6.000000   \n",
       "Lifetime                            1.000000    3.000000    5.000000   \n",
       "Avg_class_frequency_total           1.180875    1.832768    2.536078   \n",
       "Avg_class_frequency_current_month   0.963003    1.719574    2.510336   \n",
       "Churn                               0.000000    0.000000    1.000000   \n",
       "\n",
       "                                          max  \n",
       "gender                               1.000000  \n",
       "Near_Location                        1.000000  \n",
       "Partner                              1.000000  \n",
       "Promo_friends                        1.000000  \n",
       "Phone                                1.000000  \n",
       "Contract_period                     12.000000  \n",
       "Group_visits                         1.000000  \n",
       "Age                                 41.000000  \n",
       "Avg_additional_charges_total       552.590740  \n",
       "Month_to_end_contract               12.000000  \n",
       "Lifetime                            31.000000  \n",
       "Avg_class_frequency_total            6.023668  \n",
       "Avg_class_frequency_current_month    6.146783  \n",
       "Churn                                1.000000  "
      ]
     },
     "metadata": {},
     "output_type": "display_data"
    }
   ],
   "source": [
    "display(df.describe().T)"
   ]
  },
  {
   "cell_type": "markdown",
   "metadata": {},
   "source": [
    "Данные распределены корректно, однако неравномерно.\n",
    "\n",
    "На данном этапе исследования можно сказать: \n",
    "- у нас есть данные по посетителям от 18 до 41 года\n",
    "- имеются данные о мужчинах и женщинах, в выборке и тех, и других примерно равное количество (среднее = 0,51, медиана = 1)\n",
    "\n",
    "Приведем названия столбцов к нижнему регистру:"
   ]
  },
  {
   "cell_type": "code",
   "execution_count": 6,
   "metadata": {},
   "outputs": [
    {
     "data": {
      "text/plain": [
       "['gender',\n",
       " 'near_location',\n",
       " 'partner',\n",
       " 'promo_friends',\n",
       " 'phone',\n",
       " 'contract_period',\n",
       " 'group_visits',\n",
       " 'age',\n",
       " 'avg_additional_charges_total',\n",
       " 'month_to_end_contract',\n",
       " 'lifetime',\n",
       " 'avg_class_frequency_total',\n",
       " 'avg_class_frequency_current_month',\n",
       " 'churn']"
      ]
     },
     "execution_count": 6,
     "metadata": {},
     "output_type": "execute_result"
    }
   ],
   "source": [
    "df.columns = df.columns.str.lower()\n",
    "df.columns.to_list()"
   ]
  },
  {
   "cell_type": "markdown",
   "metadata": {},
   "source": [
    "Названия столбцов изменены.\n",
    "\n",
    "Теперь посмотрим на средние значения признаков в двух группах — тех, кто ушел в отток и тех, кто остался:"
   ]
  },
  {
   "cell_type": "code",
   "execution_count": 7,
   "metadata": {
    "scrolled": false
   },
   "outputs": [
    {
     "data": {
      "text/html": [
       "<div>\n",
       "<style scoped>\n",
       "    .dataframe tbody tr th:only-of-type {\n",
       "        vertical-align: middle;\n",
       "    }\n",
       "\n",
       "    .dataframe tbody tr th {\n",
       "        vertical-align: top;\n",
       "    }\n",
       "\n",
       "    .dataframe thead th {\n",
       "        text-align: right;\n",
       "    }\n",
       "</style>\n",
       "<table border=\"1\" class=\"dataframe\">\n",
       "  <thead>\n",
       "    <tr style=\"text-align: right;\">\n",
       "      <th>churn</th>\n",
       "      <th>0</th>\n",
       "      <th>1</th>\n",
       "    </tr>\n",
       "  </thead>\n",
       "  <tbody>\n",
       "    <tr>\n",
       "      <td>gender</td>\n",
       "      <td>0.510037</td>\n",
       "      <td>0.510839</td>\n",
       "    </tr>\n",
       "    <tr>\n",
       "      <td>near_location</td>\n",
       "      <td>0.873086</td>\n",
       "      <td>0.768143</td>\n",
       "    </tr>\n",
       "    <tr>\n",
       "      <td>partner</td>\n",
       "      <td>0.534195</td>\n",
       "      <td>0.355325</td>\n",
       "    </tr>\n",
       "    <tr>\n",
       "      <td>promo_friends</td>\n",
       "      <td>0.353522</td>\n",
       "      <td>0.183789</td>\n",
       "    </tr>\n",
       "    <tr>\n",
       "      <td>phone</td>\n",
       "      <td>0.903709</td>\n",
       "      <td>0.902922</td>\n",
       "    </tr>\n",
       "    <tr>\n",
       "      <td>contract_period</td>\n",
       "      <td>5.747193</td>\n",
       "      <td>1.728558</td>\n",
       "    </tr>\n",
       "    <tr>\n",
       "      <td>group_visits</td>\n",
       "      <td>0.464103</td>\n",
       "      <td>0.268615</td>\n",
       "    </tr>\n",
       "    <tr>\n",
       "      <td>age</td>\n",
       "      <td>29.976523</td>\n",
       "      <td>26.989632</td>\n",
       "    </tr>\n",
       "    <tr>\n",
       "      <td>avg_additional_charges_total</td>\n",
       "      <td>158.445715</td>\n",
       "      <td>115.082899</td>\n",
       "    </tr>\n",
       "    <tr>\n",
       "      <td>month_to_end_contract</td>\n",
       "      <td>5.283089</td>\n",
       "      <td>1.662582</td>\n",
       "    </tr>\n",
       "    <tr>\n",
       "      <td>lifetime</td>\n",
       "      <td>4.711807</td>\n",
       "      <td>0.990575</td>\n",
       "    </tr>\n",
       "    <tr>\n",
       "      <td>avg_class_frequency_total</td>\n",
       "      <td>2.024876</td>\n",
       "      <td>1.474995</td>\n",
       "    </tr>\n",
       "    <tr>\n",
       "      <td>avg_class_frequency_current_month</td>\n",
       "      <td>2.027882</td>\n",
       "      <td>1.044546</td>\n",
       "    </tr>\n",
       "  </tbody>\n",
       "</table>\n",
       "</div>"
      ],
      "text/plain": [
       "churn                                       0           1\n",
       "gender                               0.510037    0.510839\n",
       "near_location                        0.873086    0.768143\n",
       "partner                              0.534195    0.355325\n",
       "promo_friends                        0.353522    0.183789\n",
       "phone                                0.903709    0.902922\n",
       "contract_period                      5.747193    1.728558\n",
       "group_visits                         0.464103    0.268615\n",
       "age                                 29.976523   26.989632\n",
       "avg_additional_charges_total       158.445715  115.082899\n",
       "month_to_end_contract                5.283089    1.662582\n",
       "lifetime                             4.711807    0.990575\n",
       "avg_class_frequency_total            2.024876    1.474995\n",
       "avg_class_frequency_current_month    2.027882    1.044546"
      ]
     },
     "execution_count": 7,
     "metadata": {},
     "output_type": "execute_result"
    }
   ],
   "source": [
    "churn_group = df.groupby('churn').agg('mean').T\n",
    "churn_group"
   ]
  },
  {
   "cell_type": "markdown",
   "metadata": {},
   "source": [
    "Признаки распределены вокруг целевой переменной достаточно неравномерно, учтем это при дальнейшей работе.\n",
    "\n",
    "Сейчас можно сказать, что:\n",
    "- чуть больше остаются те, кто живет рядом\n",
    "- больше пользователи склонны оставаться по партнерским программам и акциям \"приведи друга\"\n",
    "- чаще уходят те, кто заключил краткосрочные контракты, в отличии от тех, кто занимается по долгосрочным."
   ]
  },
  {
   "cell_type": "markdown",
   "metadata": {},
   "source": [
    "### Построение столбчатых гистограмм и распределения признаков для тех, кто ушёл (отток) и тех, кто остался (не попали в отток)"
   ]
  },
  {
   "cell_type": "code",
   "execution_count": 8,
   "metadata": {
    "scrolled": false
   },
   "outputs": [
    {
     "data": {
      "image/png": "[encoded data removed]",
      "text/plain": [
       "<Figure size 432x288 with 1 Axes>"
      ]
     },
     "metadata": {
      "needs_background": "light"
     },
     "output_type": "display_data"
    },
    {
     "data": {
      "image/png": "[encoded data removed]",
      "text/plain": [
       "<Figure size 432x288 with 1 Axes>"
      ]
     },
     "metadata": {
      "needs_background": "light"
     },
     "output_type": "display_data"
    },
    {
     "data": {
      "image/png": "[encoded data removed]",
      "text/plain": [
       "<Figure size 432x288 with 1 Axes>"
      ]
     },
     "metadata": {
      "needs_background": "light"
     },
     "output_type": "display_data"
    },
    {
     "data": {
      "image/png": "[encoded data removed]",
      "text/plain": [
       "<Figure size 432x288 with 1 Axes>"
      ]
     },
     "metadata": {
      "needs_background": "light"
     },
     "output_type": "display_data"
    },
    {
     "data": {
      "image/png": "[encoded data removed]",
      "text/plain": [
       "<Figure size 432x288 with 1 Axes>"
      ]
     },
     "metadata": {
      "needs_background": "light"
     },
     "output_type": "display_data"
    },
    {
     "data": {
      "image/png": "[encoded data removed]",
      "text/plain": [
       "<Figure size 432x288 with 1 Axes>"
      ]
     },
     "metadata": {
      "needs_background": "light"
     },
     "output_type": "display_data"
    },
    {
     "data": {
      "image/png": "[encoded data removed]",
      "text/plain": [
       "<Figure size 432x288 with 1 Axes>"
      ]
     },
     "metadata": {
      "needs_background": "light"
     },
     "output_type": "display_data"
    },
    {
     "data": {
      "image/png": "[encoded data removed]",
      "text/plain": [
       "<Figure size 432x288 with 1 Axes>"
      ]
     },
     "metadata": {
      "needs_background": "light"
     },
     "output_type": "display_data"
    },
    {
     "data": {
      "image/png": "[encoded data removed]",
      "text/plain": [
       "<Figure size 432x288 with 1 Axes>"
      ]
     },
     "metadata": {
      "needs_background": "light"
     },
     "output_type": "display_data"
    },
    {
     "data": {
      "image/png": "[encoded data removed]",
      "text/plain": [
       "<Figure size 432x288 with 1 Axes>"
      ]
     },
     "metadata": {
      "needs_background": "light"
     },
     "output_type": "display_data"
    },
    {
     "data": {
      "image/png": "[encoded data removed]",
      "text/plain": [
       "<Figure size 432x288 with 1 Axes>"
      ]
     },
     "metadata": {
      "needs_background": "light"
     },
     "output_type": "display_data"
    },
    {
     "data": {
      "image/png": "[encoded data removed]",
      "text/plain": [
       "<Figure size 432x288 with 1 Axes>"
      ]
     },
     "metadata": {
      "needs_background": "light"
     },
     "output_type": "display_data"
    },
    {
     "data": {
      "image/png": "[encoded data removed]",
      "text/plain": [
       "<Figure size 432x288 with 1 Axes>"
      ]
     },
     "metadata": {
      "needs_background": "light"
     },
     "output_type": "display_data"
    }
   ],
   "source": [
    "for i in df.drop('churn', axis=1).columns:\n",
    "    df.query('churn==0')[i].hist(bins=10,\n",
    "                                 color=['#c9c9ff'],\n",
    "                                 label='Лояльные пользователи')\n",
    "    \n",
    "    df.query('churn==1')[i].hist(bins=10, \n",
    "                                 color=['#f1cbff'], \n",
    "                                 label='Ушедшие пользователи')\n",
    "  \n",
    "    plt.title('Распределение по признаку' + ' - ' + i)\n",
    "    \n",
    "    plt.xlabel(i)\n",
    "    plt.ylabel('Частота')\n",
    "    plt.legend(bbox_to_anchor=(1.5, 1))\n",
    "    \n",
    "    plt.show()"
   ]
  },
  {
   "cell_type": "markdown",
   "metadata": {},
   "source": [
    "Пол – распределен примерно одинаково, на отток, по всей вероятности, не влияет.\n",
    "Близость расположения к фитнес-центру – на графике видим, что у нас гораздо больше пользователей, которые живут рядом, среди них доля оттока значительно меньше, в сравнении с оттоком среди живущих далеко.\n",
    "\n",
    "Сотрудники компаний-партнеров клуба – общее количество посетителей вне зависимости их статуса, представлены почти равномерно. Однако, среди клиентов являющихся сотрудниками компаний-партнеров, число лояльных посетителей значительно больше, чем ушедших, а среди тех, кто не является сотрудником, количество лояльных и ушедших примерно равно.\n",
    "\n",
    "Акция «Приведи друга» - количество посетителей, пришедших по этой акции почти в два раза меньше, чем обычных. Однако, среди акционных клиентов примерно ¾ - лояльные, а вот среди обычных посетителей около половины попадают в отток.\n",
    "\n",
    "Контактный телефон – в нашей баз представлено подавляющее количество посетителей, оставивших свой номер, однако, по графику можно сказать, что это не влияет на лояльность.\n",
    "\n",
    "Длительность абонемента – в информации о данных было сказано о длительности абонементов в 1, 3, 6, 12 месяцев, однако абонементы в 3 месяца в нашу выборку не попали. На графике видим, что чем длительнее абонемент, тем больше количество лояльных посетителей, также стоит отметить, что среди тех, у кого абонемент длится 1 месяц примерно четверть не попадает в отток.\n",
    "\n",
    "Посещение групповых занятий – количество всех посетителей делятся примерно равными долями, однако среди тех, кто посещает групповые занятия примерно в 4 раза больше лояльных клиентов, а среди тех, кто не посещает – около половины в итоге уходят.\n",
    "\n",
    "Возраст – все посетители фитнес-центров – это люди от 18 до 41 года. Притом мы наблюдаем, что чем старше возраст – тем бОльшая вероятность, что человек останется. До 25 лет склонность уйти или остаться примерно равна, более старшие возраста – больше вероятность остаться. Основной контингент посетителей – 25 – 35 лет, с пиком около 30.\n",
    "\n",
    "Суммарная выручка от других услуг – в целом распределение асимметричное, правостороннее. По графику можно сказать, что лояльные клиенты гораздо больше склонны приобретать сопутствующие услуги в фитнес-центрах – отличие от ушедших более чем в два раза.\n",
    "\n",
    "Срок до окончания текущего действующего абонемента – дублирует выводы по длительности абонементов – чем длительнее абонемент – тем более лояльный клиент, абонемент на 1 месяц – отток почти ¾ посетителей.\n",
    "\n",
    "Время с момента первого обращения в фитнес-центр (в месяцах) – судя по графику – чем дольше человек посещает фитнес-центр, тем больше вероятность, что он останется. Больше всего уходят в первые пару месяцев, а в целом – в первые полгода. В наших данных представлено больше всего посетителей с Lifetime около 3 и 6 месяцев, далее количество постепенно уменьшается, самые долгие посещения – около 2х лет.\n",
    "\n",
    "Средняя частота посещений в неделю за все время с начала действия абонемента – среди лояльных клиентов частота занятий в среднем 1-4 раза в неделю, реже до 6 раз. Среди попавших в отток – 0-2 раза в неделю, реже 3 раза. Можно сказать, что если человек стабильно занимается 2-4 раза в неделю – бОльшая вероятность, что он останется и далее.\n",
    "\n",
    "Средняя частота посещений в неделю за предыдущий месяц – примерно та же картина, что и количество посещений за весь период, разве что в ушедших клиентах можно отметить, что их посещения стремятся к 0 или реже 1-2 раза в неделю.\n",
    "\n",
    "В итоге, можем сказать, что пол и наличие контактного телефона скорей всего не влияют на отток клиентов, а все остальные показатели имеют обратное влияние на целевую переменную в разной степени силы."
   ]
  },
  {
   "cell_type": "markdown",
   "metadata": {},
   "source": [
    "### Построение матрицы корреляций"
   ]
  },
  {
   "cell_type": "code",
   "execution_count": 9,
   "metadata": {
    "scrolled": false
   },
   "outputs": [
    {
     "data": {
      "image/png": "[encoded data removed]",
      "text/plain": [
       "<Figure size 720x720 with 2 Axes>"
      ]
     },
     "metadata": {
      "needs_background": "light"
     },
     "output_type": "display_data"
    }
   ],
   "source": [
    "corr = df.corr()\n",
    "\n",
    "plt.figure(figsize = (10, 10))\n",
    "\n",
    "mask = np.triu(np.ones_like(corr, dtype=np.bool))\n",
    "\n",
    "sns.heatmap(corr, \n",
    "            square = True, \n",
    "            annot = True, \n",
    "            mask=mask,\n",
    "            fmt=\".2f\", \n",
    "            cmap='inferno',\n",
    "            linewidths=.42, \n",
    "            vmax=.95)\n",
    "\n",
    "plt.title('Матрица корреляции признаков')\n",
    "plt.show()"
   ]
  },
  {
   "cell_type": "markdown",
   "metadata": {},
   "source": [
    "По матрице корреляций можно также сказать, что мы не наблюдаем сильно скоррелированных признаков для целевой переменной. Однако, мы видим, что есть корреляция между показателями, описывающими длительность абонементов, вероятно, наблюдение было проведено на этапе близком к покупке каждого из абонементов. Также стоит отметить корреляцию признаков, которые описывают частоту посещения фитнес-центров - она говорит о том, что скорей всего, клиенты посещают занятия какое-то постоянное для себя количество раз, поэтому данный показатель не изменяется во времени."
   ]
  },
  {
   "cell_type": "markdown",
   "metadata": {},
   "source": [
    "**Вывод:**\n",
    "\n",
    "Данные хорошие, распределены корректно, однако неравномерно, в них нет временных показателей (дат). Пропусков нет. Всего мы имеем данные о 4 тыс клиентов. Дубликатов нет. Названия столбцов приведены к нижнему регистру.\n",
    "\n",
    "На данном этапе можно сказать:\n",
    "- чуть больше остаются те, кто живет рядом\n",
    "- больше пользователи склонны оставаться по партнерским программам и акциям \"приведи друга\"\n",
    "- чаще уходят те, кто заключил краткосрочные контракты, в отличии от тех, кто занимается по долгосрочным.\n",
    "\n",
    "Мы можем сказать, что пол и наличие контактного телефона скорей всего не влияют на отток клиентов, а все остальные показатели имеют обратное влияние на целевую переменную в разной степени силы.\n",
    "\n",
    "По матрице корреляций мы не наблюдаем сильно скоррелированных признаков для целевой переменной. Однако, мы видим, что есть корреляция между показателями, описывающими длительность абонементов, вероятно, наблюдение было проведено на этапе близком к покупке каждого из абонементов. Также стоит отметить корреляцию признаков, которые описывают частоту посещения фитнес-центров - она говорит о том, что скорей всего, клиенты посещают занятия какое-то постоянное для себя количество раз, поэтому данный показатель не изменяется во времени."
   ]
  },
  {
   "cell_type": "markdown",
   "metadata": {},
   "source": [
    "## Построение модели прогнозирования оттока клиентов\n",
    "\n",
    "Определим переменные:\n",
    "y - целевой признак - факт оттока клиентов\n",
    "x - признаки целевой переменной"
   ]
  },
  {
   "cell_type": "code",
   "execution_count": 10,
   "metadata": {},
   "outputs": [],
   "source": [
    "y = df['churn']\n",
    "x = df.drop('churn', axis=1)"
   ]
  },
  {
   "cell_type": "markdown",
   "metadata": {},
   "source": [
    "Разобьем данные на обучающую и валидационную выборку (80% и 20%) функцией train_test_split(), с параметром random_state = 0."
   ]
  },
  {
   "cell_type": "code",
   "execution_count": 11,
   "metadata": {},
   "outputs": [],
   "source": [
    "X_train, X_test, y_train, y_test = train_test_split(x, y, test_size = 0.2, random_state = 0)"
   ]
  },
  {
   "cell_type": "markdown",
   "metadata": {},
   "source": [
    "### Обучение модели на train-выборке логистической регрессией\n",
    "\n",
    "Зададим алгоритм для нашей модели:"
   ]
  },
  {
   "cell_type": "code",
   "execution_count": 12,
   "metadata": {},
   "outputs": [],
   "source": [
    "lr_model = LogisticRegression(solver='liblinear')"
   ]
  },
  {
   "cell_type": "markdown",
   "metadata": {},
   "source": [
    "Обучим модель:"
   ]
  },
  {
   "cell_type": "code",
   "execution_count": 13,
   "metadata": {},
   "outputs": [
    {
     "data": {
      "text/plain": [
       "LogisticRegression(C=1.0, class_weight=None, dual=False, fit_intercept=True,\n",
       "                   intercept_scaling=1, l1_ratio=None, max_iter=100,\n",
       "                   multi_class='warn', n_jobs=None, penalty='l2',\n",
       "                   random_state=None, solver='liblinear', tol=0.0001, verbose=0,\n",
       "                   warm_start=False)"
      ]
     },
     "execution_count": 13,
     "metadata": {},
     "output_type": "execute_result"
    }
   ],
   "source": [
    "lr_model.fit(X_train, y_train)"
   ]
  },
  {
   "cell_type": "markdown",
   "metadata": {},
   "source": [
    "Воспользуемся обученной моделью, чтобы сделать прогнозы:"
   ]
  },
  {
   "cell_type": "code",
   "execution_count": 14,
   "metadata": {},
   "outputs": [],
   "source": [
    "predictions = lr_model.predict(X_test)\n",
    "probabilities = lr_model.predict_proba(X_test)[:, 1]"
   ]
  },
  {
   "cell_type": "markdown",
   "metadata": {},
   "source": [
    "Выведем изученные метрики для полученного прогноза:"
   ]
  },
  {
   "cell_type": "code",
   "execution_count": 15,
   "metadata": {},
   "outputs": [
    {
     "name": "stdout",
     "output_type": "stream",
     "text": [
      "Accuracy: 0.93\n",
      "Precision: 0.86\n",
      "Recall: 0.83\n"
     ]
    }
   ],
   "source": [
    "print('Accuracy: {:.2f}' .format(accuracy_score(y_test, predictions)))\n",
    "print('Precision: {:.2f}' .format(precision_score(y_test, predictions)))\n",
    "print('Recall: {:.2f}' .format(recall_score(y_test, predictions)))"
   ]
  },
  {
   "cell_type": "markdown",
   "metadata": {},
   "source": [
    "Модель логистической регрессии достаточно хорошо себя показала,\n",
    "\n",
    "особенно:\n",
    "- доля правильных ответов (accuracy),\n",
    "\n",
    "и чуть ниже по показателям:\n",
    "\n",
    "- точность (precision),\n",
    "- полнота (recall)"
   ]
  },
  {
   "cell_type": "markdown",
   "metadata": {},
   "source": [
    "### Обучение модели на train-выборке случайным лесом\n",
    "\n",
    "Зададим алгоритм для модели:"
   ]
  },
  {
   "cell_type": "code",
   "execution_count": 16,
   "metadata": {},
   "outputs": [],
   "source": [
    "rf_model = RandomForestClassifier(n_estimators = 100, random_state = 0)"
   ]
  },
  {
   "cell_type": "markdown",
   "metadata": {},
   "source": [
    "Обучим модель случайного леса"
   ]
  },
  {
   "cell_type": "code",
   "execution_count": 17,
   "metadata": {},
   "outputs": [
    {
     "data": {
      "text/plain": [
       "RandomForestClassifier(bootstrap=True, class_weight=None, criterion='gini',\n",
       "                       max_depth=None, max_features='auto', max_leaf_nodes=None,\n",
       "                       min_impurity_decrease=0.0, min_impurity_split=None,\n",
       "                       min_samples_leaf=1, min_samples_split=2,\n",
       "                       min_weight_fraction_leaf=0.0, n_estimators=100,\n",
       "                       n_jobs=None, oob_score=False, random_state=0, verbose=0,\n",
       "                       warm_start=False)"
      ]
     },
     "execution_count": 17,
     "metadata": {},
     "output_type": "execute_result"
    }
   ],
   "source": [
    "rf_model.fit(X_train, y_train)"
   ]
  },
  {
   "cell_type": "markdown",
   "metadata": {},
   "source": [
    "Воспользуемся обученной моделью, чтобы сделать прогнозы:"
   ]
  },
  {
   "cell_type": "code",
   "execution_count": 18,
   "metadata": {},
   "outputs": [],
   "source": [
    "rf_predictions = rf_model.predict(X_test)\n",
    "rf_probabilities = rf_model.predict_proba(X_test)[:, 1]"
   ]
  },
  {
   "cell_type": "markdown",
   "metadata": {},
   "source": [
    "Выведем все изученные метрики для полученного прогноза:"
   ]
  },
  {
   "cell_type": "code",
   "execution_count": 19,
   "metadata": {
    "scrolled": true
   },
   "outputs": [
    {
     "name": "stdout",
     "output_type": "stream",
     "text": [
      "Accuracy: 0.92\n",
      "Precision: 0.84\n",
      "Recall: 0.82\n"
     ]
    }
   ],
   "source": [
    "print('Accuracy: {:.2f}' .format(accuracy_score(y_test, rf_predictions)))\n",
    "print('Precision: {:.2f}' .format(precision_score(y_test, rf_predictions)))\n",
    "print('Recall: {:.2f}' .format(recall_score(y_test, rf_predictions)))"
   ]
  },
  {
   "cell_type": "markdown",
   "metadata": {},
   "source": [
    "Модель случайного леса тоже дает хорошие показатели, однако в сравнении с логистической регрессией чуть ниже по всем значениям.\n",
    "\n",
    "**Вывод:**\n",
    "\n",
    "Мы разбили данные на обучающую и валидационную выборку в соотношении 80% и 20%, функцией train_test_split(), с параметром random_state = 0. Обучили модель  на train-выборке двумя способами:\n",
    "- логистической регрессией,\n",
    "- случайным лесом.\n",
    "\n",
    "Можно сказать, что модель логистической регрессии показала себя лучше, чем модель случайного леса по всем показателям:\n",
    "- доля правильных ответов (accuracy),\n",
    "- точность (precision),\n",
    "- полнота (recall)."
   ]
  },
  {
   "cell_type": "markdown",
   "metadata": {},
   "source": [
    "## Кластеризация клиентов\n",
    "\n",
    "Стандартизируем данные и отложим столбец с оттоком:"
   ]
  },
  {
   "cell_type": "code",
   "execution_count": 20,
   "metadata": {},
   "outputs": [],
   "source": [
    "scaler = StandardScaler()\n",
    "X_sc = scaler.fit_transform(x)"
   ]
  },
  {
   "cell_type": "markdown",
   "metadata": {},
   "source": [
    "### Построение матрицы расстояний\n",
    "\n",
    "Сохраним матрицу расстояний и построим дендрограмму:"
   ]
  },
  {
   "cell_type": "code",
   "execution_count": 21,
   "metadata": {},
   "outputs": [
    {
     "data": {
      "image/png": "[encoded data removed]",
      "text/plain": [
       "<Figure size 1080x720 with 1 Axes>"
      ]
     },
     "metadata": {
      "needs_background": "light"
     },
     "output_type": "display_data"
    }
   ],
   "source": [
    "linked = linkage(X_sc, method = 'ward') \n",
    "\n",
    "plt.figure(figsize=(15, 10))  \n",
    "dendrogram(linked, orientation='top')\n",
    "plt.text(35, 66, '5 кластеров', ha='left', va='center')\n",
    "plt.hlines(y=64, xmin=-1, xmax=40000, linestyle='--')\n",
    "plt.text(35, 56, '6 кластеров', ha='left', va='center')\n",
    "plt.hlines(y=54, xmin=-1, xmax=40000, linestyle='--')\n",
    "plt.xticks([])\n",
    "plt.show() "
   ]
  },
  {
   "cell_type": "markdown",
   "metadata": {},
   "source": [
    "На дендрограмме получилось 4 кластера, однако крайний справа, на мой взгляд, слишком большой - примерно половина от общего количества, поэтому можно предположить наличие 5 кластеров по линиям пересечения пунктиром. Также можно было бы предположить 6 кластеров, которые были бы чуть более равномерно распределены, однако в условиях нашей задачи указано количество кластеров - 5, поэтому остановимся на этом."
   ]
  },
  {
   "cell_type": "markdown",
   "metadata": {},
   "source": [
    "### Обучение модели кластеризации на основании алгоритма K-Means\n",
    "\n",
    "Зададим модель k_means с количеством кластеров, равное 5:"
   ]
  },
  {
   "cell_type": "code",
   "execution_count": 22,
   "metadata": {},
   "outputs": [],
   "source": [
    "km = KMeans(n_clusters = 5, random_state=0)"
   ]
  },
  {
   "cell_type": "markdown",
   "metadata": {},
   "source": [
    "Применяем алгоритм к данным и формируем вектор кластеров:"
   ]
  },
  {
   "cell_type": "code",
   "execution_count": 23,
   "metadata": {},
   "outputs": [],
   "source": [
    "labels = km.fit_predict(X_sc)"
   ]
  },
  {
   "cell_type": "markdown",
   "metadata": {},
   "source": [
    "Сохраняем метки кластера в поле нашего датасета:"
   ]
  },
  {
   "cell_type": "code",
   "execution_count": 24,
   "metadata": {},
   "outputs": [],
   "source": [
    "df['cluster'] = labels"
   ]
  },
  {
   "cell_type": "markdown",
   "metadata": {},
   "source": [
    "Выведем статистику по средним значениям наших признаков по кластеру, для удобства восприятия изменим номера кластеров"
   ]
  },
  {
   "cell_type": "code",
   "execution_count": 25,
   "metadata": {},
   "outputs": [
    {
     "data": {
      "text/html": [
       "<div>\n",
       "<style scoped>\n",
       "    .dataframe tbody tr th:only-of-type {\n",
       "        vertical-align: middle;\n",
       "    }\n",
       "\n",
       "    .dataframe tbody tr th {\n",
       "        vertical-align: top;\n",
       "    }\n",
       "\n",
       "    .dataframe thead th {\n",
       "        text-align: right;\n",
       "    }\n",
       "</style>\n",
       "<table border=\"1\" class=\"dataframe\">\n",
       "  <thead>\n",
       "    <tr style=\"text-align: right;\">\n",
       "      <th>cluster</th>\n",
       "      <th>1</th>\n",
       "      <th>2</th>\n",
       "      <th>3</th>\n",
       "      <th>4</th>\n",
       "      <th>5</th>\n",
       "    </tr>\n",
       "  </thead>\n",
       "  <tbody>\n",
       "    <tr>\n",
       "      <td>gender</td>\n",
       "      <td>0.502473</td>\n",
       "      <td>0.522078</td>\n",
       "      <td>0.495050</td>\n",
       "      <td>0.485737</td>\n",
       "      <td>0.560335</td>\n",
       "    </tr>\n",
       "    <tr>\n",
       "      <td>near_location</td>\n",
       "      <td>0.959446</td>\n",
       "      <td>0.862338</td>\n",
       "      <td>0.000000</td>\n",
       "      <td>1.000000</td>\n",
       "      <td>0.976105</td>\n",
       "    </tr>\n",
       "    <tr>\n",
       "      <td>partner</td>\n",
       "      <td>0.783383</td>\n",
       "      <td>0.470130</td>\n",
       "      <td>0.463366</td>\n",
       "      <td>0.350238</td>\n",
       "      <td>0.356033</td>\n",
       "    </tr>\n",
       "    <tr>\n",
       "      <td>promo_friends</td>\n",
       "      <td>0.574679</td>\n",
       "      <td>0.306494</td>\n",
       "      <td>0.079208</td>\n",
       "      <td>0.240095</td>\n",
       "      <td>0.229391</td>\n",
       "    </tr>\n",
       "    <tr>\n",
       "      <td>phone</td>\n",
       "      <td>1.000000</td>\n",
       "      <td>0.000000</td>\n",
       "      <td>1.000000</td>\n",
       "      <td>1.000000</td>\n",
       "      <td>0.998805</td>\n",
       "    </tr>\n",
       "    <tr>\n",
       "      <td>contract_period</td>\n",
       "      <td>10.884273</td>\n",
       "      <td>4.787013</td>\n",
       "      <td>2.352475</td>\n",
       "      <td>1.948494</td>\n",
       "      <td>2.665472</td>\n",
       "    </tr>\n",
       "    <tr>\n",
       "      <td>group_visits</td>\n",
       "      <td>0.543027</td>\n",
       "      <td>0.425974</td>\n",
       "      <td>0.215842</td>\n",
       "      <td>0.341521</td>\n",
       "      <td>0.473118</td>\n",
       "    </tr>\n",
       "    <tr>\n",
       "      <td>age</td>\n",
       "      <td>29.980218</td>\n",
       "      <td>29.301299</td>\n",
       "      <td>28.477228</td>\n",
       "      <td>28.167987</td>\n",
       "      <td>30.127838</td>\n",
       "    </tr>\n",
       "    <tr>\n",
       "      <td>avg_additional_charges_total</td>\n",
       "      <td>160.706969</td>\n",
       "      <td>143.957664</td>\n",
       "      <td>135.457501</td>\n",
       "      <td>131.622204</td>\n",
       "      <td>161.724258</td>\n",
       "    </tr>\n",
       "    <tr>\n",
       "      <td>month_to_end_contract</td>\n",
       "      <td>9.950544</td>\n",
       "      <td>4.475325</td>\n",
       "      <td>2.198020</td>\n",
       "      <td>1.856577</td>\n",
       "      <td>2.455197</td>\n",
       "    </tr>\n",
       "    <tr>\n",
       "      <td>lifetime</td>\n",
       "      <td>4.738872</td>\n",
       "      <td>3.924675</td>\n",
       "      <td>2.809901</td>\n",
       "      <td>2.440571</td>\n",
       "      <td>4.896057</td>\n",
       "    </tr>\n",
       "    <tr>\n",
       "      <td>avg_class_frequency_total</td>\n",
       "      <td>1.983305</td>\n",
       "      <td>1.847220</td>\n",
       "      <td>1.660461</td>\n",
       "      <td>1.247634</td>\n",
       "      <td>2.851531</td>\n",
       "    </tr>\n",
       "    <tr>\n",
       "      <td>avg_class_frequency_current_month</td>\n",
       "      <td>1.976225</td>\n",
       "      <td>1.716369</td>\n",
       "      <td>1.477324</td>\n",
       "      <td>1.012983</td>\n",
       "      <td>2.849473</td>\n",
       "    </tr>\n",
       "    <tr>\n",
       "      <td>churn</td>\n",
       "      <td>0.027695</td>\n",
       "      <td>0.267532</td>\n",
       "      <td>0.443564</td>\n",
       "      <td>0.514263</td>\n",
       "      <td>0.068100</td>\n",
       "    </tr>\n",
       "  </tbody>\n",
       "</table>\n",
       "</div>"
      ],
      "text/plain": [
       "cluster                                     1           2           3  \\\n",
       "gender                               0.502473    0.522078    0.495050   \n",
       "near_location                        0.959446    0.862338    0.000000   \n",
       "partner                              0.783383    0.470130    0.463366   \n",
       "promo_friends                        0.574679    0.306494    0.079208   \n",
       "phone                                1.000000    0.000000    1.000000   \n",
       "contract_period                     10.884273    4.787013    2.352475   \n",
       "group_visits                         0.543027    0.425974    0.215842   \n",
       "age                                 29.980218   29.301299   28.477228   \n",
       "avg_additional_charges_total       160.706969  143.957664  135.457501   \n",
       "month_to_end_contract                9.950544    4.475325    2.198020   \n",
       "lifetime                             4.738872    3.924675    2.809901   \n",
       "avg_class_frequency_total            1.983305    1.847220    1.660461   \n",
       "avg_class_frequency_current_month    1.976225    1.716369    1.477324   \n",
       "churn                                0.027695    0.267532    0.443564   \n",
       "\n",
       "cluster                                     4           5  \n",
       "gender                               0.485737    0.560335  \n",
       "near_location                        1.000000    0.976105  \n",
       "partner                              0.350238    0.356033  \n",
       "promo_friends                        0.240095    0.229391  \n",
       "phone                                1.000000    0.998805  \n",
       "contract_period                      1.948494    2.665472  \n",
       "group_visits                         0.341521    0.473118  \n",
       "age                                 28.167987   30.127838  \n",
       "avg_additional_charges_total       131.622204  161.724258  \n",
       "month_to_end_contract                1.856577    2.455197  \n",
       "lifetime                             2.440571    4.896057  \n",
       "avg_class_frequency_total            1.247634    2.851531  \n",
       "avg_class_frequency_current_month    1.012983    2.849473  \n",
       "churn                                0.514263    0.068100  "
      ]
     },
     "execution_count": 25,
     "metadata": {},
     "output_type": "execute_result"
    }
   ],
   "source": [
    "df['cluster'] += 1\n",
    "df.groupby(['cluster']).mean().T"
   ]
  },
  {
   "cell_type": "markdown",
   "metadata": {},
   "source": [
    "В таблице слишком много разнородных значений, чтобы сделать полноценный анализ, однако, можно выделить, что меньше всего ушедших клиентов в 1 и 5 кластере, также 1й кластер сильно выделяется на фоне остальных по совокупности показателей, которые мы выше определили, как способствующие лояльности, т.е в этом кластере достаточно много пользователей, которые живут рядом с фитнес-центром, пришли по акции \"приведи друга\", чаще ходят на групповые занятия, имеют долговременные абонементы и т.п, гендер распределен по кластерам достаточно равномерно. "
   ]
  },
  {
   "cell_type": "markdown",
   "metadata": {},
   "source": [
    "Создадим список логических и дискретных признаков, а последним поместим сам Отток для удобста визуализации:"
   ]
  },
  {
   "cell_type": "code",
   "execution_count": 26,
   "metadata": {
    "scrolled": false
   },
   "outputs": [
    {
     "data": {
      "image/png": "[encoded data removed]",
      "text/plain": [
       "<Figure size 432x288 with 1 Axes>"
      ]
     },
     "metadata": {
      "needs_background": "light"
     },
     "output_type": "display_data"
    },
    {
     "data": {
      "image/png": "[encoded data removed]",
      "text/plain": [
       "<Figure size 432x288 with 1 Axes>"
      ]
     },
     "metadata": {
      "needs_background": "light"
     },
     "output_type": "display_data"
    },
    {
     "data": {
      "image/png": "[encoded data removed]",
      "text/plain": [
       "<Figure size 432x288 with 1 Axes>"
      ]
     },
     "metadata": {
      "needs_background": "light"
     },
     "output_type": "display_data"
    },
    {
     "data": {
      "image/png": "[encoded data removed]",
      "text/plain": [
       "<Figure size 432x288 with 1 Axes>"
      ]
     },
     "metadata": {
      "needs_background": "light"
     },
     "output_type": "display_data"
    },
    {
     "data": {
      "image/png": "[encoded data removed]",
      "text/plain": [
       "<Figure size 432x288 with 1 Axes>"
      ]
     },
     "metadata": {
      "needs_background": "light"
     },
     "output_type": "display_data"
    },
    {
     "data": {
      "image/png": "[encoded data removed]",
      "text/plain": [
       "<Figure size 432x288 with 1 Axes>"
      ]
     },
     "metadata": {
      "needs_background": "light"
     },
     "output_type": "display_data"
    },
    {
     "data": {
      "image/png": "[encoded data removed]",
      "text/plain": [
       "<Figure size 432x288 with 1 Axes>"
      ]
     },
     "metadata": {
      "needs_background": "light"
     },
     "output_type": "display_data"
    }
   ],
   "source": [
    "lists = (['gender', \n",
    "          'near_location', \n",
    "          'partner', \n",
    "          'promo_friends', \n",
    "          'phone',\n",
    "          'group_visits', \n",
    "          'churn'])\n",
    "\n",
    "color_palette = ['#c9c9ff', '#f1cbff']\n",
    "\n",
    "fig, ax = plt.subplots()\n",
    "for column in lists:\n",
    "    plt.title(\"Распределение признака \"+ column)\n",
    "    sns.countplot(data = df,\n",
    "                  x = 'cluster', \n",
    "                  hue = column, \n",
    "                  palette = color_palette)\n",
    "    plt.xlabel('Кластеры')\n",
    "    plt.ylabel(\"Количество\")\n",
    "    \n",
    "    plt.show()"
   ]
  },
  {
   "cell_type": "markdown",
   "metadata": {},
   "source": [
    "1 кластер\n",
    "- Гендер распределен равномерно\n",
    "- Местоположение клиентов в подавляющем большинстве рядом с фитнес-центром\n",
    "- Клиенты пришли в основном от компаний-партнеров\n",
    "- Чуть больше половины пришли по акции «приведи друга»\n",
    "- Имеют контактные данные\n",
    "- Чуть больше половины посещают групповые занятия\n",
    "- Максимально лояльные клиенты\n",
    "\n",
    "2 кластер\n",
    "- Гендер распределен практически равномерно\n",
    "- Местоположение клиентов в большинстве рядом с фитнес-центром, однако в половину меньше, чем в 1 кластере\n",
    "- Клиенты пришли примерно в одинаковом количестве сами или от компаний-партнеров\n",
    "- Примерно 2/3 пришли без акции «приведи друга»\n",
    "- Не имеют контактные данные\n",
    "- Чуть больше половины не посещают групповые занятия\n",
    "- Примерно 2/3 клиентов лояльны\n",
    "\n",
    "3 кластер\n",
    "- Гендер распределен равномерно\n",
    "- Местоположение клиентов далеко от фитнес-центра\n",
    "- Клиенты пришли примерно в одинаковом количестве сами или от компаний-партнеров\n",
    "- В основном пришли без акции «приведи друга»\n",
    "- Имеют контактные данные\n",
    "- Примерно ¾ клиентов посещают групповые занятия\n",
    "- Лояльных клиентов чуть больше, чем попавших в отток\n",
    "\n",
    "4 кластер\n",
    "- Гендер распределен равномерно\n",
    "- Местоположение клиентов рядом с фитнес-центром\n",
    "- Примерно 2/3 клиентов пришли не от компаний-партнеров\n",
    "- Примерно ¾ пришли без акции «приведи друга»\n",
    "- Имеют контактные данные\n",
    "- Примерно 2/3 клиентов не посещают групповые занятия\n",
    "- Лояльных клиентов чуть меньше, чем попавших в отток\n",
    "\n",
    "5 кластер\n",
    "- Гендер распределен почти равномерно\n",
    "- Местоположение клиентов в большинстве случаев рядом с фитнес-центром\n",
    "- Примерно 2/3 клиентов пришли не от компаний-партнеров\n",
    "- Примерно ¾ пришли без акции «приведи друга»\n",
    "- Имеют контактные данные\n",
    "- Примерно в равных долях посещают и не посещают групповые занятия\n",
    "- В подавляющем большинстве лояльные клиенты"
   ]
  },
  {
   "cell_type": "code",
   "execution_count": 27,
   "metadata": {
    "scrolled": false
   },
   "outputs": [
    {
     "data": {
      "image/png": "[encoded data removed]",
      "text/plain": [
       "<Figure size 432x288 with 1 Axes>"
      ]
     },
     "metadata": {
      "needs_background": "light"
     },
     "output_type": "display_data"
    },
    {
     "data": {
      "image/png": "[encoded data removed]",
      "text/plain": [
       "<Figure size 432x288 with 1 Axes>"
      ]
     },
     "metadata": {
      "needs_background": "light"
     },
     "output_type": "display_data"
    },
    {
     "data": {
      "image/png": "[encoded data removed]",
      "text/plain": [
       "<Figure size 432x288 with 1 Axes>"
      ]
     },
     "metadata": {
      "needs_background": "light"
     },
     "output_type": "display_data"
    },
    {
     "data": {
      "image/png": "[encoded data removed]",
      "text/plain": [
       "<Figure size 432x288 with 1 Axes>"
      ]
     },
     "metadata": {
      "needs_background": "light"
     },
     "output_type": "display_data"
    },
    {
     "data": {
      "image/png": "[encoded data removed]",
      "text/plain": [
       "<Figure size 432x288 with 1 Axes>"
      ]
     },
     "metadata": {
      "needs_background": "light"
     },
     "output_type": "display_data"
    }
   ],
   "source": [
    "lists_2 = (['age', \n",
    "            'lifetime',\n",
    "            'avg_class_frequency_total',\n",
    "            'avg_class_frequency_current_month', \n",
    "            'avg_additional_charges_total'])\n",
    "\n",
    "fig, ax = plt.subplots()\n",
    "for column in lists_2:\n",
    "    plt.title(\"Распределение признака \" + column)\n",
    "    sns.boxplot(data = df, \n",
    "                x ='cluster', \n",
    "                y = column, \n",
    "                palette = 'pastel')\n",
    "    plt.xlabel('Кластеры')\n",
    "    plt.ylabel('Количество')\n",
    "    plt.show()"
   ]
  },
  {
   "cell_type": "markdown",
   "metadata": {},
   "source": [
    "1 кластер\n",
    "-\tСредний возраст 30 лет\n",
    "-\tLifetime – медианное время около 4 месяцев\n",
    "-\tCредняя частота посещений в неделю за все время с начала действия абонемента – 1-3 раза в неделю\n",
    "-\tСредняя частота посещений в неделю за предыдущий месяц – также 1-3 раза в неделю\n",
    "-\tСуммарная выручка от других услуг фитнес-центра – примерно 80-220 у.е. в среднем\n",
    "\n",
    "2 кластер\n",
    "-\tСредний возраст около 29 лет\n",
    "-\tLifetime – медианное время около 3 месяцев\n",
    "-\tCредняя частота посещений в неделю за все время с начала действия абонемента – 1-3 раза в неделю, чуть реже, чем в 1 кластере\n",
    "-\tСредняя частота посещений в неделю за предыдущий месяц – также 1-3 раза в неделю\n",
    "-\tСуммарная выручка от других услуг фитнес-центра – примерно 70-200 у.е. в среднем\n",
    "\n",
    " 3 кластер\n",
    "-\tВозраст примерно 26-31 год\n",
    "-\tLifetime – медианное время около 2 месяцев\n",
    "-\tCредняя частота посещений в неделю за все время с начала действия абонемента – 1-2 (иногда 3) раза в неделю\n",
    "-\tСредняя частота посещений в неделю за предыдущий месяц – также 1-2 (иногда 3)  раза в неделю\n",
    "-\tСуммарная выручка от других услуг фитнес-центра – примерно 60-200 у.е. в среднем\n",
    "\n",
    "4 кластер\n",
    "-\tВозраст примерно 26-30 лет\n",
    "-\tLifetime – всего около 2 месяцев\n",
    "-\tCредняя частота посещений в неделю за все время с начала действия абонемента – до 2х раз в неделю, медиана стремится к 1 р/н\n",
    "-\tСредняя частота посещений в неделю за предыдущий месяц – также до 2х раз в неделю\n",
    "-\tСуммарная выручка от других услуг фитнес-центра – примерно 60-200 у.е. в среднем, похоже на 3 кластер\n",
    "\n",
    "5 кластер\n",
    "-\tСредний возраст в среднем 30 лет\n",
    "-\tLifetime – медианное время около 5 месяцев, в среднем самый длительный по посещениям кластер\n",
    "-\tCредняя частота посещений в неделю за все время с начала действия абонемента – 2-4 раза в неделю\n",
    "-\tСредняя частота посещений в неделю за предыдущий месяц – также 2-4 раза в неделю\n",
    "-\tСуммарная выручка от других услуг фитнес-центра – примерно 80-220 у.е. в среднем, как и в 1 кластере"
   ]
  },
  {
   "cell_type": "code",
   "execution_count": 28,
   "metadata": {
    "scrolled": true
   },
   "outputs": [
    {
     "data": {
      "image/png": "[encoded data removed]",
      "text/plain": [
       "<Figure size 432x288 with 1 Axes>"
      ]
     },
     "metadata": {
      "needs_background": "light"
     },
     "output_type": "display_data"
    }
   ],
   "source": [
    "df.groupby('cluster')['churn'].agg('mean').plot(kind='bar', color = ['#c9c9ff'])\n",
    "\n",
    "plt.title('Доля оттока для кластеров')\n",
    "plt.xlabel('Кластеры')\n",
    "plt.ylabel('Доля оттока')\n",
    "plt.xticks(rotation=0)\n",
    "plt.show()"
   ]
  },
  {
   "cell_type": "markdown",
   "metadata": {},
   "source": [
    "По графику видим, что \n",
    "- самые склонные к оттоку - 3 и 4 кластеры\n",
    "- самые лояльные 1 и 5 кластеры\n",
    "- 2 кластер примерно на 25% склонен к оттоку"
   ]
  },
  {
   "cell_type": "markdown",
   "metadata": {},
   "source": [
    "## Выводы и рекомендации"
   ]
  },
  {
   "cell_type": "markdown",
   "metadata": {},
   "source": [
    "### Общие итоги:\n",
    "\n",
    "«Культурист-датасаентист» предоставил сведения в csv-файлах. Заказчик подготовил данные, которые содержат данные на месяц до оттока и факт оттока на определённый месяц. Набор данных включает следующие поля:\n",
    "\n",
    "- **'Churn'** — факт оттока в текущем месяце;\n",
    "- Текущие поля в датасете:\n",
    "    - Данные клиента за предыдущий до проверки факта оттока месяц:\n",
    "        - **'gender'** — пол;\n",
    "        - **'Near_Location'** — проживание или работа в районе, где находится фитнес-центр;\n",
    "        - **'Partner'** — сотрудник компании-партнёра клуба (сотрудничество с компаниями, чьи сотрудники могут получать скидки на абонемент — в таком случае фитнес-центр хранит информацию о работодателе клиента);\n",
    "        - **'Promo_friends'** — факт первоначальной записи в рамках акции «приведи друга» (использовал промо-код от знакомого при оплате первого абонемента);\n",
    "        - **'Phone'** — наличие контактного телефона;\n",
    "        - **'Age'** — возраст;\n",
    "        - **'Lifetime'** — время с момента первого обращения в фитнес-центр (в месяцах).\n",
    "- Информация на основе журнала посещений, покупок и информация о текущем статусе абонемента клиента:\n",
    "    - **'Contract_period'** — длительность текущего действующего абонемента (месяц, 3 месяца, 6 месяцев, год);\n",
    "    - **'Month_to_end_contract'** — срок до окончания текущего действующего абонемента (в месяцах);\n",
    "    - **'Group_visits'** — факт посещения групповых занятий;\n",
    "    - **'Avg_class_frequency_total'** — средняя частота посещений в неделю за все время с начала действия абонемента;\n",
    "    - **'Avg_class_frequency_current_month'** — средняя частота посещений в неделю за предыдущий месяц;\n",
    "    - **'Avg_additional_charges_total'** — суммарная выручка от других услуг фитнес-центра: кафе, спорт-товары, косметический и массажный салон.\n",
    "    \n",
    "Данные хорошие, распределены корректно, однако неравномерно, в них нет временных показателей (дат). Пропусков нет. Всего мы имеем данные о 4 тыс клиентов. Дубликатов нет. Названия столбцов приведены к нижнему регистру.\n",
    "\n",
    "На данном этапе можно сказать:\n",
    "- чуть больше остаются те, кто живет рядом\n",
    "- больше пользователи склонны оставаться по партнерским программам и акциям \"приведи друга\"\n",
    "- чаще уходят те, кто заключил краткосрочные контракты, в отличии от тех, кто занимается по долгосрочным.\n",
    "\n",
    "Мы можем сказать, что пол и наличие контактного телефона скорей всего не влияют на отток клиентов, а все остальные показатели имеют обратное влияние на целевую переменную в разной степени силы.\n",
    "\n",
    "По матрице корреляций мы не наблюдаем сильно скоррелированных признаков для целевой переменной. Однако, мы видим, что есть корреляция между показателями, описывающими длительность абонементов, вероятно, наблюдение было проведено на этапе близком к покупке каждого из абонементов. Также стоит отметить корреляцию признаков, которые описывают частоту посещения фитнес-центров - она говорит о том, что скорей всего, клиенты посещают занятия какое-то постоянное для себя количество раз, поэтому данный показатель не изменяется во времени.\n",
    "\n",
    "Мы разбили данные на обучающую и валидационную выборку в соотношении 80% и 20%, функцией train_test_split(), с параметром random_state = 0. Обучили модель  на train-выборке двумя способами:\n",
    "- логистической регрессией\n",
    "    - Accuracy: 0.93\n",
    "    - Precision: 0.86\n",
    "    - Recall: 0.83\n",
    "- случайным лесом\n",
    "    - Accuracy: 0.92\n",
    "    - Precision: 0.84\n",
    "    - Recall: 0.82\n",
    "\n",
    "Можно сказать, что модель логистической регрессии показала себя лучше, чем модель случайного леса по всем показателям:\n",
    "- доля правильных ответов (accuracy),\n",
    "- точность (precision),\n",
    "- полнота (recall).\n",
    "\n",
    "Мы построили матрицу расстояний функцией linkage() на стандартизованной матрице признаков и нарисовали дендрограмму. На дендрограмме получилось 4 кластера, т.к. крайний справа, слишком объемный - примерно половина от общего количества, поэтому мы предположили наличие 5 кластеров по линиям пересечения пунктиром.\n",
    "\n",
    "Мы обучили модель кластеризации на основании алгоритма K-Means и спрогнозировали кластеры клиентов на основании предыдущего пункта и условий задачи равным 5. Далее, на этих условиях построили таблицу из средник значений признаков для кластеров.\n",
    "\n",
    "В таблице большой объем разнородных значений, чтобы сделать полноценный анализ, однако, можно выделить, что меньше всего ушедших клиентов в 1 и 5 кластере, также 1й кластер сильно выделяется на фоне остальных по совокупности показателей, которые мы выше определили, как способствующие лояльности, т.е в этом кластере достаточно много пользователей, которые живут рядом с фитнес-центром, пришли по акции \"приведи друга\", чаще ходят на групповые занятия, имеют долговременные абонементы и т.п, гендер распределен по кластерам достаточно равномерно.\n",
    "\n",
    "Для удобста визуализации и составления выводов мы построили распределения признаков по кластерам и получили следующие характеристики кластеров:\n",
    "\n",
    "**1 кластер**\n",
    "-\tГендер распределен равномерно\n",
    "-\tМестоположение клиентов в подавляющем большинстве рядом с фитнес-центром\n",
    "-\tКлиенты пришли в основном от компаний-партнеров\n",
    "-\tЧуть больше половины пришли по акции «приведи друга»\n",
    "-\tИмеют контактные данные\n",
    "-\tЧуть больше половины посещают групповые занятия\n",
    "-\tМаксимально лояльные клиенты\n",
    "-\tСредний возраст 30 лет\n",
    "-\tLifetime – медианное время около 4 месяцев\n",
    "-\tCредняя частота посещений в неделю за все время с начала действия абонемента – 1-3 раза в неделю\n",
    "-\tСредняя частота посещений в неделю за предыдущий месяц – также 1-3 раза в неделю\n",
    "-\tСуммарная выручка от других услуг фитнес-центра – примерно 80-220 у.е. в среднем\n",
    "\n",
    "**2 кластер**\n",
    "-\tГендер распределен практически равномерно\n",
    "-\tМестоположение клиентов в большинстве рядом с фитнес-центром, однако в половину меньше, чем в 1 кластере\n",
    "-\tКлиенты пришли примерно в одинаковом количестве сами или от компаний-партнеров\n",
    "-\tПримерно 2/3 пришли без акции «приведи друга»\n",
    "-\tНе имеют контактные данные\n",
    "-\tЧуть больше половины не посещают групповые занятия\n",
    "-\tПримерно 2/3 клиентов лояльны\n",
    "-\tСредний возраст около 29 лет\n",
    "-\tLifetime – медианное время около 3 месяцев\n",
    "-\tCредняя частота посещений в неделю за все время с начала действия абонемента – 1-3 раза в неделю, чуть реже, чем в 1 кластере\n",
    "-\tСредняя частота посещений в неделю за предыдущий месяц – также 1-3 раза в неделю\n",
    "-\tСуммарная выручка от других услуг фитнес-центра – примерно 70-200 у.е. в среднем\n",
    "\n",
    "**3 кластер**\n",
    "-\tГендер распределен равномерно\n",
    "-\tМестоположение клиентов далеко от фитнес-центра\n",
    "-\tКлиенты пришли примерно в одинаковом количестве сами или от компаний-партнеров\n",
    "-\tВ основном пришли без акции «приведи друга»\n",
    "-\tИмеют контактные данные\n",
    "-\tПримерно ¾ клиентов посещают групповые занятия\n",
    "-\tЛояльных клиентов чуть больше, чем попавших в отток\n",
    "-\tВозраст примерно 26-31 год\n",
    "-\tLifetime – медианное время около 2 месяцев\n",
    "-\tCредняя частота посещений в неделю за все время с начала действия абонемента – 1-2 (иногда 3) раза в неделю\n",
    "-\tСредняя частота посещений в неделю за предыдущий месяц – также 1-2 (иногда 3)  раза в неделю\n",
    "-\tСуммарная выручка от других услуг фитнес-центра – примерно 60-200 у.е. в среднем\n",
    "\n",
    "**4 кластер**\n",
    "-\tГендер распределен равномерно\n",
    "-\tМестоположение клиентов рядом с фитнес-центром\n",
    "-\tПримерно 2/3 клиентов пришли не от компаний-партнеров\n",
    "-\tПримерно ¾ пришли без акции «приведи друга»\n",
    "-\tИмеют контактные данные\n",
    "-\tПримерно 2/3 клиентов не посещают групповые занятия\n",
    "-\tЛояльных клиентов чуть меньше, чем попавших в отток\n",
    "-\tВозраст примерно 26-30 лет\n",
    "-\tLifetime – всего около 2 месяцев\n",
    "-\tCредняя частота посещений в неделю за все время с начала действия абонемента – до 2х раз в неделю, медиана стремится к 1 р/н\n",
    "-\tСредняя частота посещений в неделю за предыдущий месяц – также до 2х раз в неделю\n",
    "-\tСуммарная выручка от других услуг фитнес-центра – примерно 60-200 у.е. в среднем, похоже на 3 кластер\n",
    "\n",
    "**5 кластер**\n",
    "-\tГендер распределен почти равномерно\n",
    "-\tМестоположение клиентов в большинстве случаев рядом с фитнес-центром\n",
    "-\tПримерно 2/3 клиентов пришли не от компаний-партнеров\n",
    "-\tПримерно ¾ пришли без акции «приведи друга»\n",
    "-\tИмеют контактные данные\n",
    "-\tПримерно в равных долях посещают и не посещают групповые занятия\n",
    "-\tВ подавляющем большинстве лояльные клиенты\n",
    "-\tСредний возраст в среднем 30 лет\n",
    "-\tLifetime – медианное время около 5 месяцев, в среднем самый длительный по посещениям кластер\n",
    "-\tCредняя частота посещений в неделю за все время с начала действия абонемента – 2-4 раза в неделю\n",
    "-\tСредняя частота посещений в неделю за предыдущий месяц – также 2-4 раза в неделю\n",
    "-\tСуммарная выручка от других услуг фитнес-центра – примерно 80-220 у.е. в среднем, как и в 1 кластере\n",
    "\n",
    "Далее мы посчитали долю оттока по кластерам и получили:\n",
    "- самые склонные к оттоку - 3 и 4 кластеры\n",
    "- самые лояльные 1 и 5 кластеры\n",
    "- 2 кластер примерно на 25% склонен к оттоку\n",
    "\n",
    "### Вывод\n",
    "\n",
    "**На основании проведенного исследования можно сказать:**\n",
    "-\tБолее перспективная модель ML была модель логистической регрессии.\n",
    "-\tПосетителей фитнес-центров можно разделить на 5 групп (кластеров) с различными характеристиками\n",
    "-\tНаиболее перспективными явились 1 и 5 группы, которые характеризуются такими показателями, как:\n",
    "    -\tСредний возраст 30 лет\n",
    "    -\tСредняя частота посещений в неделю за все время с начала действия абонемента – 1-3 раза или чаще, посещают групповые занятия\n",
    "    -\tЗаключают длительные контракты\n",
    "    -\tМестоположение клиентов в подавляющем большинстве рядом с фитнес-центром\n",
    "    -\tПриходят от компаний-партнеров, по акции «приведи друга»\n",
    "    -\tСуммарная выручка от других услуг фитнес-центра – примерно 80-220 у.е. – больше чем в других группах\n"
   ]
  },
  {
   "cell_type": "markdown",
   "metadata": {},
   "source": [
    "### Рекомендации\n",
    "\n",
    "По итогу можно предложить такие рекомендации:\n",
    "\n",
    "-\tРассмотреть возможность проводить акции для потенциальных клиентов в компаниях-партнерах, а именно для людей, соответствующих критериям:\n",
    "    -\tСредний возраст 30 лет\n",
    "    -\tМестоположение клиентов в подавляющем большинстве рядом с фитнес-центром\n",
    "-\tРассмотреть возможность проводить акции в рамках приобретения длительных контрактов\n",
    "-\tВозможно, рассмотреть варианты различных наполнений для длительных контрактов – наличие длительных контрактов на любой вкус\n",
    "-\tПоддерживать удобство расписания для максимального количества клиентов в части групповых занятий и их разнообразие\n",
    "-\tРазвивать инфраструктуру каждого конкретного фитнес-центра - кафе, спорт-товары, косметический и массажный салон."
   ]
  }
 ],
 "metadata": {
  "ExecuteTimeLog": [
   {
    "duration": 364,
    "start_time": "2021-12-23T14:04:39.473Z"
   },
   {
    "duration": 1730,
    "start_time": "2021-12-23T14:04:44.245Z"
   },
   {
    "duration": 1829,
    "start_time": "2021-12-23T14:04:48.317Z"
   },
   {
    "duration": 10,
    "start_time": "2021-12-23T14:08:21.178Z"
   },
   {
    "duration": 37,
    "start_time": "2021-12-23T14:09:36.918Z"
   },
   {
    "duration": 36,
    "start_time": "2021-12-23T14:10:31.137Z"
   },
   {
    "duration": 4,
    "start_time": "2021-12-23T14:12:01.359Z"
   },
   {
    "duration": 52,
    "start_time": "2021-12-23T14:12:06.207Z"
   },
   {
    "duration": 43,
    "start_time": "2021-12-23T14:13:55.594Z"
   },
   {
    "duration": 338,
    "start_time": "2021-12-23T14:31:21.918Z"
   },
   {
    "duration": 5,
    "start_time": "2021-12-23T14:33:05.729Z"
   },
   {
    "duration": 5,
    "start_time": "2021-12-23T14:34:21.441Z"
   },
   {
    "duration": 18,
    "start_time": "2021-12-23T14:34:46.541Z"
   },
   {
    "duration": 12,
    "start_time": "2021-12-23T14:35:00.982Z"
   },
   {
    "duration": 7,
    "start_time": "2021-12-23T14:49:28.141Z"
   },
   {
    "duration": 15,
    "start_time": "2021-12-23T14:49:36.510Z"
   },
   {
    "duration": 293,
    "start_time": "2021-12-23T14:50:54.596Z"
   },
   {
    "duration": 446,
    "start_time": "2021-12-23T14:51:08.290Z"
   },
   {
    "duration": 469,
    "start_time": "2021-12-23T14:51:41.467Z"
   },
   {
    "duration": 452,
    "start_time": "2021-12-23T14:51:49.762Z"
   },
   {
    "duration": 38,
    "start_time": "2021-12-23T15:00:46.274Z"
   },
   {
    "duration": 43,
    "start_time": "2021-12-23T15:00:52.247Z"
   },
   {
    "duration": 9,
    "start_time": "2021-12-23T15:00:55.674Z"
   },
   {
    "duration": 3116,
    "start_time": "2021-12-23T15:06:06.011Z"
   },
   {
    "duration": 3587,
    "start_time": "2021-12-23T15:16:00.619Z"
   },
   {
    "duration": 237730,
    "start_time": "2021-12-23T15:30:17.087Z"
   },
   {
    "duration": 3456,
    "start_time": "2021-12-23T15:34:57.295Z"
   },
   {
    "duration": 4958,
    "start_time": "2021-12-23T15:37:57.014Z"
   },
   {
    "duration": 2893,
    "start_time": "2021-12-23T15:40:01.861Z"
   },
   {
    "duration": 3273,
    "start_time": "2021-12-23T15:41:21.467Z"
   },
   {
    "duration": 2945,
    "start_time": "2021-12-23T15:41:40.994Z"
   },
   {
    "duration": 417,
    "start_time": "2021-12-23T15:46:15.524Z"
   },
   {
    "duration": 458,
    "start_time": "2021-12-23T15:47:33.376Z"
   },
   {
    "duration": 2786,
    "start_time": "2021-12-23T15:47:50.993Z"
   },
   {
    "duration": 2899,
    "start_time": "2021-12-23T15:48:05.223Z"
   },
   {
    "duration": 3206,
    "start_time": "2021-12-23T15:50:23.768Z"
   },
   {
    "duration": 3309,
    "start_time": "2021-12-23T15:51:59.636Z"
   },
   {
    "duration": 307,
    "start_time": "2021-12-23T15:55:15.657Z"
   },
   {
    "duration": 1542,
    "start_time": "2021-12-23T15:56:17.737Z"
   },
   {
    "duration": 1460,
    "start_time": "2021-12-23T15:56:54.335Z"
   },
   {
    "duration": 1950,
    "start_time": "2021-12-23T15:57:02.955Z"
   },
   {
    "duration": 1228,
    "start_time": "2021-12-23T15:57:24.014Z"
   },
   {
    "duration": 1606,
    "start_time": "2021-12-23T15:57:36.579Z"
   },
   {
    "duration": 1685,
    "start_time": "2021-12-23T15:58:15.960Z"
   },
   {
    "duration": 1123,
    "start_time": "2021-12-23T15:58:24.504Z"
   },
   {
    "duration": 7206,
    "start_time": "2021-12-23T16:05:29.628Z"
   },
   {
    "duration": 5,
    "start_time": "2021-12-23T16:05:48.923Z"
   },
   {
    "duration": 312,
    "start_time": "2021-12-23T16:05:55.515Z"
   },
   {
    "duration": 100,
    "start_time": "2021-12-23T16:09:44.397Z"
   },
   {
    "duration": 29,
    "start_time": "2021-12-23T16:09:44.499Z"
   },
   {
    "duration": 8,
    "start_time": "2021-12-23T16:09:44.530Z"
   },
   {
    "duration": 21,
    "start_time": "2021-12-23T16:09:44.540Z"
   },
   {
    "duration": 41,
    "start_time": "2021-12-23T16:09:44.563Z"
   },
   {
    "duration": 5,
    "start_time": "2021-12-23T16:09:44.605Z"
   },
   {
    "duration": 30,
    "start_time": "2021-12-23T16:09:44.611Z"
   },
   {
    "duration": 4604,
    "start_time": "2021-12-23T16:09:44.644Z"
   },
   {
    "duration": 1642,
    "start_time": "2021-12-23T16:09:49.251Z"
   },
   {
    "duration": 4,
    "start_time": "2021-12-23T16:09:50.896Z"
   },
   {
    "duration": 7,
    "start_time": "2021-12-23T16:09:50.903Z"
   },
   {
    "duration": 109,
    "start_time": "2021-12-23T16:16:24.820Z"
   },
   {
    "duration": 355,
    "start_time": "2021-12-23T16:16:29.958Z"
   },
   {
    "duration": 81,
    "start_time": "2021-12-23T17:13:29.551Z"
   },
   {
    "duration": 112,
    "start_time": "2021-12-23T17:13:38.919Z"
   },
   {
    "duration": 78,
    "start_time": "2021-12-23T17:15:54.855Z"
   },
   {
    "duration": 1694,
    "start_time": "2021-12-24T11:34:54.440Z"
   },
   {
    "duration": 52,
    "start_time": "2021-12-24T11:34:56.137Z"
   },
   {
    "duration": 11,
    "start_time": "2021-12-24T11:34:56.192Z"
   },
   {
    "duration": 11,
    "start_time": "2021-12-24T11:34:56.207Z"
   },
   {
    "duration": 93,
    "start_time": "2021-12-24T11:34:56.220Z"
   },
   {
    "duration": 6,
    "start_time": "2021-12-24T11:34:56.316Z"
   },
   {
    "duration": 39,
    "start_time": "2021-12-24T11:34:56.324Z"
   },
   {
    "duration": 5506,
    "start_time": "2021-12-24T11:34:56.368Z"
   },
   {
    "duration": 1798,
    "start_time": "2021-12-24T11:35:01.877Z"
   },
   {
    "duration": 6,
    "start_time": "2021-12-24T11:35:03.677Z"
   },
   {
    "duration": 8,
    "start_time": "2021-12-24T11:35:03.686Z"
   },
   {
    "duration": 267,
    "start_time": "2021-12-24T11:35:03.696Z"
   },
   {
    "duration": 567,
    "start_time": "2021-12-24T11:35:03.966Z"
   },
   {
    "duration": 505,
    "start_time": "2021-12-24T11:35:04.536Z"
   },
   {
    "duration": -1887,
    "start_time": "2021-12-24T11:35:06.931Z"
   },
   {
    "duration": -1890,
    "start_time": "2021-12-24T11:35:06.935Z"
   },
   {
    "duration": 1276,
    "start_time": "2021-12-24T12:43:20.387Z"
   },
   {
    "duration": 506,
    "start_time": "2021-12-24T16:19:19.867Z"
   },
   {
    "duration": 1191,
    "start_time": "2021-12-24T16:23:37.800Z"
   },
   {
    "duration": 34,
    "start_time": "2021-12-24T16:23:38.992Z"
   },
   {
    "duration": 11,
    "start_time": "2021-12-24T16:23:39.028Z"
   },
   {
    "duration": 11,
    "start_time": "2021-12-24T16:23:39.041Z"
   },
   {
    "duration": 47,
    "start_time": "2021-12-24T16:23:39.054Z"
   },
   {
    "duration": 5,
    "start_time": "2021-12-24T16:23:39.103Z"
   },
   {
    "duration": 12,
    "start_time": "2021-12-24T16:23:39.109Z"
   },
   {
    "duration": 3008,
    "start_time": "2021-12-24T16:23:39.123Z"
   },
   {
    "duration": 820,
    "start_time": "2021-12-24T16:23:42.134Z"
   },
   {
    "duration": 5,
    "start_time": "2021-12-24T16:23:42.956Z"
   },
   {
    "duration": 11,
    "start_time": "2021-12-24T16:23:42.962Z"
   },
   {
    "duration": 11,
    "start_time": "2021-12-24T16:23:42.975Z"
   },
   {
    "duration": 31,
    "start_time": "2021-12-24T16:23:42.988Z"
   },
   {
    "duration": 43,
    "start_time": "2021-12-24T16:23:43.020Z"
   },
   {
    "duration": 306,
    "start_time": "2021-12-24T16:23:43.066Z"
   },
   {
    "duration": 3,
    "start_time": "2021-12-24T16:23:43.374Z"
   },
   {
    "duration": 312,
    "start_time": "2021-12-24T16:23:43.379Z"
   },
   {
    "duration": 39,
    "start_time": "2021-12-24T16:23:43.692Z"
   },
   {
    "duration": 28,
    "start_time": "2021-12-24T16:23:43.733Z"
   },
   {
    "duration": 286,
    "start_time": "2021-12-24T16:23:43.762Z"
   },
   {
    "duration": -60,
    "start_time": "2021-12-24T16:23:44.110Z"
   },
   {
    "duration": -63,
    "start_time": "2021-12-24T16:23:44.114Z"
   },
   {
    "duration": 7,
    "start_time": "2021-12-24T16:24:07.110Z"
   },
   {
    "duration": 8,
    "start_time": "2021-12-24T16:37:30.653Z"
   },
   {
    "duration": 3,
    "start_time": "2021-12-24T16:38:07.262Z"
   },
   {
    "duration": 309,
    "start_time": "2021-12-24T16:38:09.972Z"
   },
   {
    "duration": 37,
    "start_time": "2021-12-24T16:38:13.186Z"
   },
   {
    "duration": 8,
    "start_time": "2021-12-24T16:38:15.516Z"
   },
   {
    "duration": 81909,
    "start_time": "2021-12-24T16:48:10.986Z"
   },
   {
    "duration": 6,
    "start_time": "2021-12-24T16:55:36.089Z"
   },
   {
    "duration": 84574,
    "start_time": "2021-12-24T16:55:40.153Z"
   },
   {
    "duration": 544,
    "start_time": "2021-12-24T17:01:05.221Z"
   },
   {
    "duration": -201,
    "start_time": "2021-12-24T17:02:51.643Z"
   },
   {
    "duration": -267,
    "start_time": "2021-12-24T17:05:11.571Z"
   },
   {
    "duration": 4577,
    "start_time": "2021-12-24T17:05:23.460Z"
   },
   {
    "duration": 4186,
    "start_time": "2021-12-24T17:06:55.665Z"
   },
   {
    "duration": 4355,
    "start_time": "2021-12-24T17:07:20.574Z"
   },
   {
    "duration": 4203,
    "start_time": "2021-12-24T17:21:41.930Z"
   },
   {
    "duration": 3,
    "start_time": "2021-12-24T17:24:44.602Z"
   },
   {
    "duration": 1517,
    "start_time": "2021-12-24T17:24:47.147Z"
   },
   {
    "duration": 4,
    "start_time": "2021-12-24T17:24:51.490Z"
   },
   {
    "duration": 18,
    "start_time": "2021-12-24T17:24:56.155Z"
   },
   {
    "duration": 13,
    "start_time": "2021-12-24T17:25:18.453Z"
   },
   {
    "duration": 14,
    "start_time": "2021-12-24T17:33:21.909Z"
   },
   {
    "duration": 18,
    "start_time": "2021-12-24T17:34:25.590Z"
   },
   {
    "duration": 17,
    "start_time": "2021-12-24T17:34:36.662Z"
   },
   {
    "duration": 3,
    "start_time": "2021-12-24T17:36:33.345Z"
   },
   {
    "duration": 302,
    "start_time": "2021-12-25T06:24:13.515Z"
   },
   {
    "duration": 1549,
    "start_time": "2021-12-25T06:24:19.268Z"
   },
   {
    "duration": 47,
    "start_time": "2021-12-25T06:24:20.819Z"
   },
   {
    "duration": 10,
    "start_time": "2021-12-25T06:24:20.869Z"
   },
   {
    "duration": 24,
    "start_time": "2021-12-25T06:24:20.881Z"
   },
   {
    "duration": 64,
    "start_time": "2021-12-25T06:24:20.907Z"
   },
   {
    "duration": 5,
    "start_time": "2021-12-25T06:24:20.973Z"
   },
   {
    "duration": 26,
    "start_time": "2021-12-25T06:24:20.980Z"
   },
   {
    "duration": 4804,
    "start_time": "2021-12-25T06:24:21.008Z"
   },
   {
    "duration": 1179,
    "start_time": "2021-12-25T06:24:25.815Z"
   },
   {
    "duration": 6,
    "start_time": "2021-12-25T06:24:26.997Z"
   },
   {
    "duration": 14,
    "start_time": "2021-12-25T06:24:27.005Z"
   },
   {
    "duration": 3,
    "start_time": "2021-12-25T06:24:27.022Z"
   },
   {
    "duration": 38,
    "start_time": "2021-12-25T06:24:27.027Z"
   },
   {
    "duration": 81,
    "start_time": "2021-12-25T06:24:27.067Z"
   },
   {
    "duration": 294,
    "start_time": "2021-12-25T06:24:27.151Z"
   },
   {
    "duration": 3,
    "start_time": "2021-12-25T06:24:27.446Z"
   },
   {
    "duration": 296,
    "start_time": "2021-12-25T06:24:27.450Z"
   },
   {
    "duration": 37,
    "start_time": "2021-12-25T06:24:27.747Z"
   },
   {
    "duration": 7,
    "start_time": "2021-12-25T06:24:27.785Z"
   },
   {
    "duration": 11,
    "start_time": "2021-12-25T06:24:27.793Z"
   },
   {
    "duration": 6705,
    "start_time": "2021-12-25T06:24:27.806Z"
   },
   {
    "duration": 3,
    "start_time": "2021-12-25T06:24:34.514Z"
   },
   {
    "duration": 1726,
    "start_time": "2021-12-25T06:24:34.519Z"
   },
   {
    "duration": 3,
    "start_time": "2021-12-25T06:24:36.247Z"
   },
   {
    "duration": 21,
    "start_time": "2021-12-25T06:24:36.252Z"
   },
   {
    "duration": 1325,
    "start_time": "2021-12-25T06:24:36.275Z"
   },
   {
    "duration": 1260,
    "start_time": "2021-12-25T06:25:55.493Z"
   },
   {
    "duration": 3368,
    "start_time": "2021-12-25T06:26:46.262Z"
   },
   {
    "duration": 3048,
    "start_time": "2021-12-25T06:26:53.276Z"
   },
   {
    "duration": 3069,
    "start_time": "2021-12-25T06:27:33.264Z"
   },
   {
    "duration": 3048,
    "start_time": "2021-12-25T06:27:52.309Z"
   },
   {
    "duration": 3379,
    "start_time": "2021-12-25T06:28:19.802Z"
   },
   {
    "duration": 3135,
    "start_time": "2021-12-25T06:28:59.498Z"
   },
   {
    "duration": 707,
    "start_time": "2021-12-25T06:30:23.024Z"
   },
   {
    "duration": 1356,
    "start_time": "2021-12-25T06:33:27.164Z"
   },
   {
    "duration": 479,
    "start_time": "2021-12-25T06:34:14.017Z"
   },
   {
    "duration": 373,
    "start_time": "2021-12-25T06:34:28.577Z"
   },
   {
    "duration": 365,
    "start_time": "2021-12-25T06:38:58.092Z"
   },
   {
    "duration": 1719,
    "start_time": "2021-12-25T06:40:33.608Z"
   },
   {
    "duration": 384,
    "start_time": "2021-12-25T06:41:25.077Z"
   },
   {
    "duration": 326,
    "start_time": "2021-12-25T06:41:35.758Z"
   },
   {
    "duration": 1335,
    "start_time": "2021-12-25T06:41:43.588Z"
   },
   {
    "duration": 373,
    "start_time": "2021-12-25T06:45:47.701Z"
   },
   {
    "duration": 355,
    "start_time": "2021-12-25T06:48:44.320Z"
   },
   {
    "duration": 332,
    "start_time": "2021-12-25T06:48:56.426Z"
   },
   {
    "duration": 1328,
    "start_time": "2021-12-25T06:52:09.831Z"
   },
   {
    "duration": 356,
    "start_time": "2021-12-25T06:52:26.939Z"
   },
   {
    "duration": 194,
    "start_time": "2021-12-25T06:55:19.781Z"
   },
   {
    "duration": 1369,
    "start_time": "2021-12-25T06:55:29.221Z"
   },
   {
    "duration": 1320,
    "start_time": "2021-12-25T06:56:41.523Z"
   },
   {
    "duration": 1379,
    "start_time": "2021-12-25T07:07:43.523Z"
   },
   {
    "duration": 1177,
    "start_time": "2021-12-25T07:08:58.872Z"
   },
   {
    "duration": 1096,
    "start_time": "2021-12-25T07:15:00.967Z"
   },
   {
    "duration": 784,
    "start_time": "2021-12-25T07:18:09.083Z"
   },
   {
    "duration": 740,
    "start_time": "2021-12-25T07:18:19.021Z"
   },
   {
    "duration": 126,
    "start_time": "2021-12-25T07:24:46.857Z"
   },
   {
    "duration": 129,
    "start_time": "2021-12-25T07:25:32.718Z"
   },
   {
    "duration": 126,
    "start_time": "2021-12-25T07:26:28.305Z"
   },
   {
    "duration": 130,
    "start_time": "2021-12-25T07:26:34.074Z"
   },
   {
    "duration": 125,
    "start_time": "2021-12-25T07:26:54.759Z"
   },
   {
    "duration": 214,
    "start_time": "2021-12-25T07:27:06.344Z"
   },
   {
    "duration": 367,
    "start_time": "2021-12-25T10:24:59.062Z"
   },
   {
    "duration": 1597,
    "start_time": "2021-12-25T10:25:16.712Z"
   },
   {
    "duration": 43,
    "start_time": "2021-12-25T10:25:21.754Z"
   },
   {
    "duration": 8,
    "start_time": "2021-12-25T10:25:29.282Z"
   },
   {
    "duration": 60,
    "start_time": "2021-12-25T10:25:29.293Z"
   },
   {
    "duration": 10,
    "start_time": "2021-12-25T10:25:29.356Z"
   },
   {
    "duration": 28,
    "start_time": "2021-12-25T10:25:29.369Z"
   },
   {
    "duration": 90,
    "start_time": "2021-12-25T10:25:29.399Z"
   },
   {
    "duration": 6,
    "start_time": "2021-12-25T10:25:29.492Z"
   },
   {
    "duration": 14,
    "start_time": "2021-12-25T10:25:29.524Z"
   },
   {
    "duration": 5203,
    "start_time": "2021-12-25T10:25:29.543Z"
   },
   {
    "duration": 1251,
    "start_time": "2021-12-25T10:25:34.749Z"
   },
   {
    "duration": 5,
    "start_time": "2021-12-25T10:25:36.003Z"
   },
   {
    "duration": 33,
    "start_time": "2021-12-25T10:25:36.010Z"
   },
   {
    "duration": 14,
    "start_time": "2021-12-25T10:25:36.046Z"
   },
   {
    "duration": 52,
    "start_time": "2021-12-25T10:25:36.062Z"
   },
   {
    "duration": 109,
    "start_time": "2021-12-25T10:25:36.116Z"
   },
   {
    "duration": 202,
    "start_time": "2021-12-25T10:25:36.228Z"
   },
   {
    "duration": 11,
    "start_time": "2021-12-25T10:25:36.433Z"
   },
   {
    "duration": 530,
    "start_time": "2021-12-25T10:25:36.447Z"
   },
   {
    "duration": 73,
    "start_time": "2021-12-25T10:25:36.979Z"
   },
   {
    "duration": 10,
    "start_time": "2021-12-25T10:25:37.055Z"
   },
   {
    "duration": 15,
    "start_time": "2021-12-25T10:25:37.067Z"
   },
   {
    "duration": 7082,
    "start_time": "2021-12-25T10:25:37.084Z"
   },
   {
    "duration": 4,
    "start_time": "2021-12-25T10:25:44.168Z"
   },
   {
    "duration": 1647,
    "start_time": "2021-12-25T10:25:44.176Z"
   },
   {
    "duration": 5,
    "start_time": "2021-12-25T10:25:45.826Z"
   },
   {
    "duration": 23,
    "start_time": "2021-12-25T10:25:45.834Z"
   },
   {
    "duration": 1993,
    "start_time": "2021-12-25T10:25:45.859Z"
   },
   {
    "duration": 2232,
    "start_time": "2021-12-25T10:25:47.855Z"
   },
   {
    "duration": 237,
    "start_time": "2021-12-25T10:25:50.090Z"
   },
   {
    "duration": 1840,
    "start_time": "2021-12-25T10:28:32.265Z"
   },
   {
    "duration": 21,
    "start_time": "2021-12-25T11:30:32.560Z"
   },
   {
    "duration": 21,
    "start_time": "2021-12-25T11:30:41.322Z"
   },
   {
    "duration": 2130,
    "start_time": "2021-12-26T10:13:05.094Z"
   },
   {
    "duration": 35,
    "start_time": "2021-12-26T10:13:07.226Z"
   },
   {
    "duration": 8,
    "start_time": "2021-12-26T10:13:07.263Z"
   },
   {
    "duration": 9,
    "start_time": "2021-12-26T10:13:07.273Z"
   },
   {
    "duration": 43,
    "start_time": "2021-12-26T10:13:07.292Z"
   },
   {
    "duration": 5,
    "start_time": "2021-12-26T10:13:07.337Z"
   },
   {
    "duration": 12,
    "start_time": "2021-12-26T10:13:07.343Z"
   },
   {
    "duration": 3373,
    "start_time": "2021-12-26T10:13:07.358Z"
   },
   {
    "duration": 849,
    "start_time": "2021-12-26T10:13:10.732Z"
   },
   {
    "duration": 9,
    "start_time": "2021-12-26T10:13:11.583Z"
   },
   {
    "duration": 9,
    "start_time": "2021-12-26T10:13:11.593Z"
   },
   {
    "duration": 3,
    "start_time": "2021-12-26T10:13:11.603Z"
   },
   {
    "duration": 25,
    "start_time": "2021-12-26T10:13:11.608Z"
   },
   {
    "duration": 114,
    "start_time": "2021-12-26T10:13:11.634Z"
   },
   {
    "duration": 104,
    "start_time": "2021-12-26T10:13:11.793Z"
   },
   {
    "duration": 3,
    "start_time": "2021-12-26T10:13:11.899Z"
   },
   {
    "duration": 300,
    "start_time": "2021-12-26T10:13:11.903Z"
   },
   {
    "duration": 36,
    "start_time": "2021-12-26T10:13:12.205Z"
   },
   {
    "duration": 7,
    "start_time": "2021-12-26T10:13:12.243Z"
   },
   {
    "duration": 5,
    "start_time": "2021-12-26T10:13:12.252Z"
   },
   {
    "duration": 4364,
    "start_time": "2021-12-26T10:13:12.259Z"
   },
   {
    "duration": 3,
    "start_time": "2021-12-26T10:13:16.624Z"
   },
   {
    "duration": 1369,
    "start_time": "2021-12-26T10:13:16.629Z"
   },
   {
    "duration": 92,
    "start_time": "2021-12-26T10:13:18.000Z"
   },
   {
    "duration": 22,
    "start_time": "2021-12-26T10:13:18.094Z"
   },
   {
    "duration": 1250,
    "start_time": "2021-12-26T10:13:18.118Z"
   },
   {
    "duration": 1068,
    "start_time": "2021-12-26T10:13:19.370Z"
   },
   {
    "duration": 161,
    "start_time": "2021-12-26T10:13:20.440Z"
   },
   {
    "duration": 1229,
    "start_time": "2022-02-07T15:23:19.597Z"
   },
   {
    "duration": 32,
    "start_time": "2022-02-07T15:23:20.828Z"
   },
   {
    "duration": 7,
    "start_time": "2022-02-07T15:23:20.862Z"
   },
   {
    "duration": 8,
    "start_time": "2022-02-07T15:23:20.871Z"
   },
   {
    "duration": 60,
    "start_time": "2022-02-07T15:23:20.880Z"
   },
   {
    "duration": 5,
    "start_time": "2022-02-07T15:23:20.941Z"
   },
   {
    "duration": 14,
    "start_time": "2022-02-07T15:23:20.947Z"
   },
   {
    "duration": 3315,
    "start_time": "2022-02-07T15:23:20.964Z"
   },
   {
    "duration": 924,
    "start_time": "2022-02-07T15:23:24.281Z"
   },
   {
    "duration": 5,
    "start_time": "2022-02-07T15:23:25.207Z"
   },
   {
    "duration": 7,
    "start_time": "2022-02-07T15:23:25.214Z"
   },
   {
    "duration": 2,
    "start_time": "2022-02-07T15:23:25.222Z"
   },
   {
    "duration": 25,
    "start_time": "2022-02-07T15:23:25.226Z"
   },
   {
    "duration": 102,
    "start_time": "2022-02-07T15:23:25.253Z"
   },
   {
    "duration": 156,
    "start_time": "2022-02-07T15:23:25.358Z"
   },
   {
    "duration": 3,
    "start_time": "2022-02-07T15:23:25.516Z"
   },
   {
    "duration": 323,
    "start_time": "2022-02-07T15:23:25.520Z"
   },
   {
    "duration": 44,
    "start_time": "2022-02-07T15:23:25.844Z"
   },
   {
    "duration": 24,
    "start_time": "2022-02-07T15:23:25.890Z"
   },
   {
    "duration": 6,
    "start_time": "2022-02-07T15:23:25.915Z"
   },
   {
    "duration": 4498,
    "start_time": "2022-02-07T15:23:25.922Z"
   },
   {
    "duration": 2,
    "start_time": "2022-02-07T15:23:30.422Z"
   },
   {
    "duration": 1594,
    "start_time": "2022-02-07T15:23:30.427Z"
   },
   {
    "duration": 3,
    "start_time": "2022-02-07T15:23:32.113Z"
   },
   {
    "duration": 14,
    "start_time": "2022-02-07T15:23:32.118Z"
   },
   {
    "duration": 1322,
    "start_time": "2022-02-07T15:23:32.134Z"
   },
   {
    "duration": 1094,
    "start_time": "2022-02-07T15:23:33.458Z"
   },
   {
    "duration": 155,
    "start_time": "2022-02-07T15:23:34.554Z"
   }
  ],
  "kernelspec": {
   "display_name": "Python 3 (ipykernel)",
   "language": "python",
   "name": "python3"
  },
  "language_info": {
   "codemirror_mode": {
    "name": "ipython",
    "version": 3
   },
   "file_extension": ".py",
   "mimetype": "text/x-python",
   "name": "python",
   "nbconvert_exporter": "python",
   "pygments_lexer": "ipython3",
   "version": "3.9.7"
  },
  "toc": {
   "base_numbering": 1,
   "nav_menu": {},
   "number_sections": true,
   "sideBar": false,
   "skip_h1_title": true,
   "title_cell": "Содержание",
   "title_sidebar": "",
   "toc_cell": true,
   "toc_position": {},
   "toc_section_display": false,
   "toc_window_display": false
  }
 },
 "nbformat": 4,
 "nbformat_minor": 2
}
