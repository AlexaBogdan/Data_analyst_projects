{
 "cells": [
  {
   "cell_type": "markdown",
   "metadata": {},
   "source": [
    "# Исследование популярности компьютерных игр\n",
    "\n",
    "Мы работаем в интернет-магазине «Стримчик», который продаёт по всему миру компьютерные игры.\n",
    "\n",
    "Из открытых источников доступны исторические данные о продажах игр, оценки пользователей и экспертов, жанры и платформы (например, Xbox или PlayStation).\n",
    "Перед нами данные до 2016 года. Представим, что сейчас декабрь 2016 г., и мы планируем кампанию на 2017-й.\n",
    "\n",
    "Нам нужно выявить определяющие успешность игры закономерности. Это позволит сделать ставку на потенциально популярный продукт и спланировать рекламные кампании."
   ]
  },
  {
   "cell_type": "markdown",
   "metadata": {
    "toc": true
   },
   "source": [
    "<h1>Содержание<span class=\"tocSkip\"></span></h1>\n",
    "<div class=\"toc\"><ul class=\"toc-item\"><li><span><a href=\"#Изучение-данных-из-файла\" data-toc-modified-id=\"Изучение-данных-из-файла-1\"><span class=\"toc-item-num\">1&nbsp;&nbsp;</span>Изучение данных из файла</a></span></li><li><span><a href=\"#Предобработка-данных\" data-toc-modified-id=\"Предобработка-данных-2\"><span class=\"toc-item-num\">2&nbsp;&nbsp;</span>Предобработка данных</a></span><ul class=\"toc-item\"><li><span><a href=\"#Замена-названий-столбцов-(приведение-к-нижнему-регистру)\" data-toc-modified-id=\"Замена-названий-столбцов-(приведение-к-нижнему-регистру)-2.1\"><span class=\"toc-item-num\">2.1&nbsp;&nbsp;</span>Замена названий столбцов (приведение к нижнему регистру)</a></span></li><li><span><a href=\"#Преобразование-типов-данных-и-работа-с-пропусками\" data-toc-modified-id=\"Преобразование-типов-данных-и-работа-с-пропусками-2.2\"><span class=\"toc-item-num\">2.2&nbsp;&nbsp;</span>Преобразование типов данных и работа с пропусками</a></span></li></ul></li><li><span><a href=\"#Расчёты-и-добавление-результатов-в-таблицу\" data-toc-modified-id=\"Расчёты-и-добавление-результатов-в-таблицу-3\"><span class=\"toc-item-num\">3&nbsp;&nbsp;</span>Расчёты и добавление результатов в таблицу</a></span></li><li><span><a href=\"#Исследовательский-анализ-данных\" data-toc-modified-id=\"Исследовательский-анализ-данных-4\"><span class=\"toc-item-num\">4&nbsp;&nbsp;</span>Исследовательский анализ данных</a></span><ul class=\"toc-item\"><li><span><a href=\"#Сколько-игр-выпускалось-в-разные-годы.\" data-toc-modified-id=\"Сколько-игр-выпускалось-в-разные-годы.-4.1\"><span class=\"toc-item-num\">4.1&nbsp;&nbsp;</span>Сколько игр выпускалось в разные годы.</a></span></li><li><span><a href=\"#Как-менялись-продажи-по-платформам.\" data-toc-modified-id=\"Как-менялись-продажи-по-платформам.-4.2\"><span class=\"toc-item-num\">4.2&nbsp;&nbsp;</span>Как менялись продажи по платформам.</a></span></li><li><span><a href=\"#Срок-жизни-платформы\" data-toc-modified-id=\"Срок-жизни-платформы-4.3\"><span class=\"toc-item-num\">4.3&nbsp;&nbsp;</span>Срок жизни платформы</a></span></li></ul></li><li><span><a href=\"#Построение-прогноза-на-2017-год\" data-toc-modified-id=\"Построение-прогноза-на-2017-год-5\"><span class=\"toc-item-num\">5&nbsp;&nbsp;</span>Построение прогноза на 2017 год</a></span><ul class=\"toc-item\"><li><span><a href=\"#Актуальный-период\" data-toc-modified-id=\"Актуальный-период-5.1\"><span class=\"toc-item-num\">5.1&nbsp;&nbsp;</span>Актуальный период</a></span></li><li><span><a href=\"#Поведение-платформ-на-рынке\" data-toc-modified-id=\"Поведение-платформ-на-рынке-5.2\"><span class=\"toc-item-num\">5.2&nbsp;&nbsp;</span>Поведение платформ на рынке</a></span></li><li><span><a href=\"#Общее-распределение-игр-по-жанрам\" data-toc-modified-id=\"Общее-распределение-игр-по-жанрам-5.3\"><span class=\"toc-item-num\">5.3&nbsp;&nbsp;</span>Общее распределение игр по жанрам</a></span></li></ul></li><li><span><a href=\"#Портрет-пользователя-каждого-региона\" data-toc-modified-id=\"Портрет-пользователя-каждого-региона-6\"><span class=\"toc-item-num\">6&nbsp;&nbsp;</span>Портрет пользователя каждого региона</a></span><ul class=\"toc-item\"><li><span><a href=\"#Самые-популярные-платформы-(топ-5)\" data-toc-modified-id=\"Самые-популярные-платформы-(топ-5)-6.1\"><span class=\"toc-item-num\">6.1&nbsp;&nbsp;</span>Самые популярные платформы (топ-5)</a></span></li><li><span><a href=\"#Самые-популярные-жанры-(топ-5)\" data-toc-modified-id=\"Самые-популярные-жанры-(топ-5)-6.2\"><span class=\"toc-item-num\">6.2&nbsp;&nbsp;</span>Самые популярные жанры (топ-5)</a></span></li><li><span><a href=\"#Влияние-рейтинга-ESRB-на-продажи\" data-toc-modified-id=\"Влияние-рейтинга-ESRB-на-продажи-6.3\"><span class=\"toc-item-num\">6.3&nbsp;&nbsp;</span>Влияние рейтинга ESRB на продажи</a></span></li></ul></li><li><span><a href=\"#Гипотезы\" data-toc-modified-id=\"Гипотезы-7\"><span class=\"toc-item-num\">7&nbsp;&nbsp;</span>Гипотезы</a></span><ul class=\"toc-item\"><li><span><a href=\"#Средние-пользовательские-рейтинги-платформ\" data-toc-modified-id=\"Средние-пользовательские-рейтинги-платформ-7.1\"><span class=\"toc-item-num\">7.1&nbsp;&nbsp;</span>Средние пользовательские рейтинги платформ</a></span></li><li><span><a href=\"#Средние-пользовательские-рейтинги-жанров\" data-toc-modified-id=\"Средние-пользовательские-рейтинги-жанров-7.2\"><span class=\"toc-item-num\">7.2&nbsp;&nbsp;</span>Средние пользовательские рейтинги жанров</a></span></li></ul></li><li><span><a href=\"#Общий-вывод\" data-toc-modified-id=\"Общий-вывод-8\"><span class=\"toc-item-num\">8&nbsp;&nbsp;</span>Общий вывод</a></span></li></ul></div>"
   ]
  },
  {
   "cell_type": "markdown",
   "metadata": {},
   "source": [
    "## Изучение данных из файла\n",
    "\n",
    "Импортируем библиотеки"
   ]
  },
  {
   "cell_type": "code",
   "execution_count": 1,
   "metadata": {},
   "outputs": [],
   "source": [
    "import pandas as pd\n",
    "import numpy as np\n",
    "from IPython.display import display\n",
    "pd.options.display.max_columns = None\n",
    "import seaborn as sns\n",
    "import matplotlib.pyplot as plt\n",
    "import math as mt\n",
    "%matplotlib inline\n",
    "from scipy import stats as st"
   ]
  },
  {
   "cell_type": "markdown",
   "metadata": {},
   "source": [
    "У нас одна база данных, определим имя и прочитаем её"
   ]
  },
  {
   "cell_type": "code",
   "execution_count": 2,
   "metadata": {},
   "outputs": [],
   "source": [
    "df = pd.read_csv('/datasets/games.csv')"
   ]
  },
  {
   "cell_type": "markdown",
   "metadata": {},
   "source": [
    "Теперь изучим её:"
   ]
  },
  {
   "cell_type": "code",
   "execution_count": 3,
   "metadata": {},
   "outputs": [
    {
     "name": "stdout",
     "output_type": "stream",
     "text": [
      "<class 'pandas.core.frame.DataFrame'>\n",
      "RangeIndex: 16715 entries, 0 to 16714\n",
      "Data columns (total 11 columns):\n",
      "Name               16713 non-null object\n",
      "Platform           16715 non-null object\n",
      "Year_of_Release    16446 non-null float64\n",
      "Genre              16713 non-null object\n",
      "NA_sales           16715 non-null float64\n",
      "EU_sales           16715 non-null float64\n",
      "JP_sales           16715 non-null float64\n",
      "Other_sales        16715 non-null float64\n",
      "Critic_Score       8137 non-null float64\n",
      "User_Score         10014 non-null object\n",
      "Rating             9949 non-null object\n",
      "dtypes: float64(6), object(5)\n",
      "memory usage: 1.4+ MB\n"
     ]
    }
   ],
   "source": [
    "df.info()"
   ]
  },
  {
   "cell_type": "code",
   "execution_count": 4,
   "metadata": {},
   "outputs": [
    {
     "data": {
      "text/html": [
       "<div>\n",
       "<style scoped>\n",
       "    .dataframe tbody tr th:only-of-type {\n",
       "        vertical-align: middle;\n",
       "    }\n",
       "\n",
       "    .dataframe tbody tr th {\n",
       "        vertical-align: top;\n",
       "    }\n",
       "\n",
       "    .dataframe thead th {\n",
       "        text-align: right;\n",
       "    }\n",
       "</style>\n",
       "<table border=\"1\" class=\"dataframe\">\n",
       "  <thead>\n",
       "    <tr style=\"text-align: right;\">\n",
       "      <th></th>\n",
       "      <th>Name</th>\n",
       "      <th>Platform</th>\n",
       "      <th>Year_of_Release</th>\n",
       "      <th>Genre</th>\n",
       "      <th>NA_sales</th>\n",
       "      <th>EU_sales</th>\n",
       "      <th>JP_sales</th>\n",
       "      <th>Other_sales</th>\n",
       "      <th>Critic_Score</th>\n",
       "      <th>User_Score</th>\n",
       "      <th>Rating</th>\n",
       "    </tr>\n",
       "  </thead>\n",
       "  <tbody>\n",
       "    <tr>\n",
       "      <td>0</td>\n",
       "      <td>Wii Sports</td>\n",
       "      <td>Wii</td>\n",
       "      <td>2006.0</td>\n",
       "      <td>Sports</td>\n",
       "      <td>41.36</td>\n",
       "      <td>28.96</td>\n",
       "      <td>3.77</td>\n",
       "      <td>8.45</td>\n",
       "      <td>76.0</td>\n",
       "      <td>8</td>\n",
       "      <td>E</td>\n",
       "    </tr>\n",
       "    <tr>\n",
       "      <td>1</td>\n",
       "      <td>Super Mario Bros.</td>\n",
       "      <td>NES</td>\n",
       "      <td>1985.0</td>\n",
       "      <td>Platform</td>\n",
       "      <td>29.08</td>\n",
       "      <td>3.58</td>\n",
       "      <td>6.81</td>\n",
       "      <td>0.77</td>\n",
       "      <td>NaN</td>\n",
       "      <td>NaN</td>\n",
       "      <td>NaN</td>\n",
       "    </tr>\n",
       "    <tr>\n",
       "      <td>2</td>\n",
       "      <td>Mario Kart Wii</td>\n",
       "      <td>Wii</td>\n",
       "      <td>2008.0</td>\n",
       "      <td>Racing</td>\n",
       "      <td>15.68</td>\n",
       "      <td>12.76</td>\n",
       "      <td>3.79</td>\n",
       "      <td>3.29</td>\n",
       "      <td>82.0</td>\n",
       "      <td>8.3</td>\n",
       "      <td>E</td>\n",
       "    </tr>\n",
       "    <tr>\n",
       "      <td>3</td>\n",
       "      <td>Wii Sports Resort</td>\n",
       "      <td>Wii</td>\n",
       "      <td>2009.0</td>\n",
       "      <td>Sports</td>\n",
       "      <td>15.61</td>\n",
       "      <td>10.93</td>\n",
       "      <td>3.28</td>\n",
       "      <td>2.95</td>\n",
       "      <td>80.0</td>\n",
       "      <td>8</td>\n",
       "      <td>E</td>\n",
       "    </tr>\n",
       "    <tr>\n",
       "      <td>4</td>\n",
       "      <td>Pokemon Red/Pokemon Blue</td>\n",
       "      <td>GB</td>\n",
       "      <td>1996.0</td>\n",
       "      <td>Role-Playing</td>\n",
       "      <td>11.27</td>\n",
       "      <td>8.89</td>\n",
       "      <td>10.22</td>\n",
       "      <td>1.00</td>\n",
       "      <td>NaN</td>\n",
       "      <td>NaN</td>\n",
       "      <td>NaN</td>\n",
       "    </tr>\n",
       "  </tbody>\n",
       "</table>\n",
       "</div>"
      ],
      "text/plain": [
       "                       Name Platform  Year_of_Release         Genre  NA_sales  \\\n",
       "0                Wii Sports      Wii           2006.0        Sports     41.36   \n",
       "1         Super Mario Bros.      NES           1985.0      Platform     29.08   \n",
       "2            Mario Kart Wii      Wii           2008.0        Racing     15.68   \n",
       "3         Wii Sports Resort      Wii           2009.0        Sports     15.61   \n",
       "4  Pokemon Red/Pokemon Blue       GB           1996.0  Role-Playing     11.27   \n",
       "\n",
       "   EU_sales  JP_sales  Other_sales  Critic_Score User_Score Rating  \n",
       "0     28.96      3.77         8.45          76.0          8      E  \n",
       "1      3.58      6.81         0.77           NaN        NaN    NaN  \n",
       "2     12.76      3.79         3.29          82.0        8.3      E  \n",
       "3     10.93      3.28         2.95          80.0          8      E  \n",
       "4      8.89     10.22         1.00           NaN        NaN    NaN  "
      ]
     },
     "metadata": {},
     "output_type": "display_data"
    }
   ],
   "source": [
    "display(df.head())"
   ]
  },
  {
   "cell_type": "markdown",
   "metadata": {},
   "source": [
    "**Вывод**\n",
    "\n",
    "Данные \n",
    "- у нас 16715 строк\n",
    "- 11 столбцов\n",
    "- в названиях столбцов есть буквы в верхнем регистре (необходимо исправить)\n",
    "- столбцы year_of_release, user_score требует изменения типа данных\n",
    "- в 6 столбцах есть пропуски, т.к дата - это один из основных критериев для нашей работы, то со столбцом year_of_release поработаем далее прицельно."
   ]
  },
  {
   "cell_type": "code",
   "execution_count": 5,
   "metadata": {},
   "outputs": [
    {
     "data": {
      "text/plain": [
       "0"
      ]
     },
     "execution_count": 5,
     "metadata": {},
     "output_type": "execute_result"
    }
   ],
   "source": [
    "df.duplicated().sum()"
   ]
  },
  {
   "cell_type": "markdown",
   "metadata": {},
   "source": [
    "## Предобработка данных"
   ]
  },
  {
   "cell_type": "markdown",
   "metadata": {},
   "source": [
    "### Замена названий столбцов (приведение к нижнему регистру)"
   ]
  },
  {
   "cell_type": "markdown",
   "metadata": {},
   "source": [
    "Выведем названия столбцов и посмотрим нет ли еще каких-нибудь ошибок в записи."
   ]
  },
  {
   "cell_type": "code",
   "execution_count": 6,
   "metadata": {},
   "outputs": [
    {
     "data": {
      "text/plain": [
       "Index(['Name', 'Platform', 'Year_of_Release', 'Genre', 'NA_sales', 'EU_sales',\n",
       "       'JP_sales', 'Other_sales', 'Critic_Score', 'User_Score', 'Rating'],\n",
       "      dtype='object')"
      ]
     },
     "execution_count": 6,
     "metadata": {},
     "output_type": "execute_result"
    }
   ],
   "source": [
    "df.columns"
   ]
  },
  {
   "cell_type": "code",
   "execution_count": 7,
   "metadata": {},
   "outputs": [
    {
     "data": {
      "text/plain": [
       "Index(['name', 'platform', 'year_of_release', 'genre', 'na_sales', 'eu_sales',\n",
       "       'jp_sales', 'other_sales', 'critic_score', 'user_score', 'rating'],\n",
       "      dtype='object')"
      ]
     },
     "execution_count": 7,
     "metadata": {},
     "output_type": "execute_result"
    }
   ],
   "source": [
    "df.columns = df.columns.str.lower()\n",
    "df.columns"
   ]
  },
  {
   "cell_type": "markdown",
   "metadata": {},
   "source": [
    "Т.к в остальном всё нормально - привели названия столбцов к нижнему регистру через str.lower() и проверили."
   ]
  },
  {
   "cell_type": "markdown",
   "metadata": {},
   "source": [
    "### Преобразование типов данных и работа с пропусками\n",
    "\n",
    "- Перед тем как работать с изменением типов данных в столбце year_of_release, посчитаем пропуски.\n",
    "- Т.к нам не принципиально сейчас иметь полный формат даты, то можно перевести year_of_release в тип int64.\n",
    "- user_score приведем к типу float64, как и у родственных столбцов. Воспользуемся errors='coerce', чтобы некорректные значения принудительно заменялись на NaN"
   ]
  },
  {
   "cell_type": "code",
   "execution_count": 8,
   "metadata": {},
   "outputs": [
    {
     "data": {
      "text/plain": [
       "array([2006., 1985., 2008., 2009., 1996., 1989., 1984., 2005., 1999.,\n",
       "       2007., 2010., 2013., 2004., 1990., 1988., 2002., 2001., 2011.,\n",
       "       1998., 2015., 2012., 2014., 1992., 1997., 1993., 1994., 1982.,\n",
       "       2016., 2003., 1986., 2000.,   nan, 1995., 1991., 1981., 1987.,\n",
       "       1980., 1983.])"
      ]
     },
     "execution_count": 8,
     "metadata": {},
     "output_type": "execute_result"
    }
   ],
   "source": [
    "df['year_of_release'].unique()"
   ]
  },
  {
   "cell_type": "code",
   "execution_count": 9,
   "metadata": {
    "scrolled": false
   },
   "outputs": [
    {
     "name": "stdout",
     "output_type": "stream",
     "text": [
      "Пропуски в столбце \"year_of_release\": 269\n"
     ]
    }
   ],
   "source": [
    "print('Пропуски в столбце \"year_of_release\":',\n",
    "      len(df[df['year_of_release'].isna()]))"
   ]
  },
  {
   "cell_type": "markdown",
   "metadata": {},
   "source": [
    "Пропусков не так много, а наличие года для нас важно, поэтому можем удалить строки с пропусками, т.к заполнение пропусков каким-либо значением может исказить последующие результаты."
   ]
  },
  {
   "cell_type": "code",
   "execution_count": 10,
   "metadata": {},
   "outputs": [
    {
     "name": "stdout",
     "output_type": "stream",
     "text": [
      "Пропуски в столбце \"year_of_release\": 0\n"
     ]
    }
   ],
   "source": [
    "df = df.dropna(subset = ['year_of_release'])\n",
    "print('Пропуски в столбце \"year_of_release\": {}'.format(df['year_of_release'].isna().sum()))"
   ]
  },
  {
   "cell_type": "code",
   "execution_count": 11,
   "metadata": {},
   "outputs": [
    {
     "data": {
      "text/plain": [
       "name                0.012161\n",
       "platform            0.000000\n",
       "year_of_release     0.000000\n",
       "genre               0.012161\n",
       "na_sales            0.000000\n",
       "eu_sales            0.000000\n",
       "jp_sales            0.000000\n",
       "other_sales         0.000000\n",
       "critic_score       51.459321\n",
       "user_score         40.173902\n",
       "rating             40.605618\n",
       "dtype: float64"
      ]
     },
     "execution_count": 11,
     "metadata": {},
     "output_type": "execute_result"
    }
   ],
   "source": [
    "df.isna().mean() * 100"
   ]
  },
  {
   "cell_type": "code",
   "execution_count": 12,
   "metadata": {},
   "outputs": [
    {
     "data": {
      "text/plain": [
       "0    2006\n",
       "1    1985\n",
       "2    2008\n",
       "3    2009\n",
       "4    1996\n",
       "Name: year_of_release, dtype: int64"
      ]
     },
     "execution_count": 12,
     "metadata": {},
     "output_type": "execute_result"
    }
   ],
   "source": [
    "df['year_of_release'] = df[df['year_of_release'].notna()]['year_of_release'].astype('int64')\n",
    "df['year_of_release'].head()"
   ]
  },
  {
   "cell_type": "markdown",
   "metadata": {},
   "source": [
    "Посмотрим топ-10 самых встречающихся значений:"
   ]
  },
  {
   "cell_type": "code",
   "execution_count": 13,
   "metadata": {
    "scrolled": false
   },
   "outputs": [
    {
     "data": {
      "text/plain": [
       "tbd    2376\n",
       "7.8     322\n",
       "8       285\n",
       "8.2     276\n",
       "8.3     252\n",
       "7.5     249\n",
       "8.5     247\n",
       "7.9     246\n",
       "8.1     237\n",
       "7.7     236\n",
       "Name: user_score, dtype: int64"
      ]
     },
     "execution_count": 13,
     "metadata": {},
     "output_type": "execute_result"
    }
   ],
   "source": [
    "df['user_score'].value_counts().head(10)"
   ]
  },
  {
   "cell_type": "markdown",
   "metadata": {},
   "source": [
    "Итак, больше всего у нас загадочных \"tbd\", изменим тип данных столбца, а данные значения заменим на NaN."
   ]
  },
  {
   "cell_type": "code",
   "execution_count": 14,
   "metadata": {
    "scrolled": false
   },
   "outputs": [
    {
     "data": {
      "text/plain": [
       "0    8.0\n",
       "1    NaN\n",
       "2    8.3\n",
       "3    8.0\n",
       "4    NaN\n",
       "Name: user_score, dtype: float64"
      ]
     },
     "execution_count": 14,
     "metadata": {},
     "output_type": "execute_result"
    }
   ],
   "source": [
    "df['user_score'] = pd.to_numeric(df['user_score'], errors='coerce')\n",
    "df['user_score'].head()"
   ]
  },
  {
   "cell_type": "code",
   "execution_count": 15,
   "metadata": {},
   "outputs": [
    {
     "name": "stdout",
     "output_type": "stream",
     "text": [
      "<class 'pandas.core.frame.DataFrame'>\n",
      "Int64Index: 16446 entries, 0 to 16714\n",
      "Data columns (total 11 columns):\n",
      "name               16444 non-null object\n",
      "platform           16446 non-null object\n",
      "year_of_release    16446 non-null int64\n",
      "genre              16444 non-null object\n",
      "na_sales           16446 non-null float64\n",
      "eu_sales           16446 non-null float64\n",
      "jp_sales           16446 non-null float64\n",
      "other_sales        16446 non-null float64\n",
      "critic_score       7983 non-null float64\n",
      "user_score         7463 non-null float64\n",
      "rating             9768 non-null object\n",
      "dtypes: float64(6), int64(1), object(4)\n",
      "memory usage: 1.5+ MB\n"
     ]
    }
   ],
   "source": [
    "df.info()"
   ]
  },
  {
   "cell_type": "markdown",
   "metadata": {},
   "source": [
    "Количество строк изменилось за счет удаления строк с нулевыми датами, а также за счет смены типа данных в столбце \"user_score\".\n",
    "\n",
    "На данном этапе в остальных столбцах с пропусками работать не будем, т.к они могут нам помешать в будущем (исказить результаты)."
   ]
  },
  {
   "cell_type": "markdown",
   "metadata": {},
   "source": [
    "## Расчёты и добавление результатов в таблицу\n",
    "\n",
    "- посчитаем суммарные продажи и запишем в новый столбец"
   ]
  },
  {
   "cell_type": "code",
   "execution_count": 16,
   "metadata": {},
   "outputs": [
    {
     "data": {
      "text/html": [
       "<div>\n",
       "<style scoped>\n",
       "    .dataframe tbody tr th:only-of-type {\n",
       "        vertical-align: middle;\n",
       "    }\n",
       "\n",
       "    .dataframe tbody tr th {\n",
       "        vertical-align: top;\n",
       "    }\n",
       "\n",
       "    .dataframe thead th {\n",
       "        text-align: right;\n",
       "    }\n",
       "</style>\n",
       "<table border=\"1\" class=\"dataframe\">\n",
       "  <thead>\n",
       "    <tr style=\"text-align: right;\">\n",
       "      <th></th>\n",
       "      <th>name</th>\n",
       "      <th>platform</th>\n",
       "      <th>year_of_release</th>\n",
       "      <th>genre</th>\n",
       "      <th>na_sales</th>\n",
       "      <th>eu_sales</th>\n",
       "      <th>jp_sales</th>\n",
       "      <th>other_sales</th>\n",
       "      <th>critic_score</th>\n",
       "      <th>user_score</th>\n",
       "      <th>rating</th>\n",
       "      <th>tot_sales</th>\n",
       "    </tr>\n",
       "  </thead>\n",
       "  <tbody>\n",
       "    <tr>\n",
       "      <td>0</td>\n",
       "      <td>Wii Sports</td>\n",
       "      <td>Wii</td>\n",
       "      <td>2006</td>\n",
       "      <td>Sports</td>\n",
       "      <td>41.36</td>\n",
       "      <td>28.96</td>\n",
       "      <td>3.77</td>\n",
       "      <td>8.45</td>\n",
       "      <td>76.0</td>\n",
       "      <td>8.0</td>\n",
       "      <td>E</td>\n",
       "      <td>82.54</td>\n",
       "    </tr>\n",
       "    <tr>\n",
       "      <td>1</td>\n",
       "      <td>Super Mario Bros.</td>\n",
       "      <td>NES</td>\n",
       "      <td>1985</td>\n",
       "      <td>Platform</td>\n",
       "      <td>29.08</td>\n",
       "      <td>3.58</td>\n",
       "      <td>6.81</td>\n",
       "      <td>0.77</td>\n",
       "      <td>NaN</td>\n",
       "      <td>NaN</td>\n",
       "      <td>NaN</td>\n",
       "      <td>40.24</td>\n",
       "    </tr>\n",
       "    <tr>\n",
       "      <td>2</td>\n",
       "      <td>Mario Kart Wii</td>\n",
       "      <td>Wii</td>\n",
       "      <td>2008</td>\n",
       "      <td>Racing</td>\n",
       "      <td>15.68</td>\n",
       "      <td>12.76</td>\n",
       "      <td>3.79</td>\n",
       "      <td>3.29</td>\n",
       "      <td>82.0</td>\n",
       "      <td>8.3</td>\n",
       "      <td>E</td>\n",
       "      <td>35.52</td>\n",
       "    </tr>\n",
       "    <tr>\n",
       "      <td>3</td>\n",
       "      <td>Wii Sports Resort</td>\n",
       "      <td>Wii</td>\n",
       "      <td>2009</td>\n",
       "      <td>Sports</td>\n",
       "      <td>15.61</td>\n",
       "      <td>10.93</td>\n",
       "      <td>3.28</td>\n",
       "      <td>2.95</td>\n",
       "      <td>80.0</td>\n",
       "      <td>8.0</td>\n",
       "      <td>E</td>\n",
       "      <td>32.77</td>\n",
       "    </tr>\n",
       "    <tr>\n",
       "      <td>4</td>\n",
       "      <td>Pokemon Red/Pokemon Blue</td>\n",
       "      <td>GB</td>\n",
       "      <td>1996</td>\n",
       "      <td>Role-Playing</td>\n",
       "      <td>11.27</td>\n",
       "      <td>8.89</td>\n",
       "      <td>10.22</td>\n",
       "      <td>1.00</td>\n",
       "      <td>NaN</td>\n",
       "      <td>NaN</td>\n",
       "      <td>NaN</td>\n",
       "      <td>31.38</td>\n",
       "    </tr>\n",
       "  </tbody>\n",
       "</table>\n",
       "</div>"
      ],
      "text/plain": [
       "                       name platform  year_of_release         genre  na_sales  \\\n",
       "0                Wii Sports      Wii             2006        Sports     41.36   \n",
       "1         Super Mario Bros.      NES             1985      Platform     29.08   \n",
       "2            Mario Kart Wii      Wii             2008        Racing     15.68   \n",
       "3         Wii Sports Resort      Wii             2009        Sports     15.61   \n",
       "4  Pokemon Red/Pokemon Blue       GB             1996  Role-Playing     11.27   \n",
       "\n",
       "   eu_sales  jp_sales  other_sales  critic_score  user_score rating  tot_sales  \n",
       "0     28.96      3.77         8.45          76.0         8.0      E      82.54  \n",
       "1      3.58      6.81         0.77           NaN         NaN    NaN      40.24  \n",
       "2     12.76      3.79         3.29          82.0         8.3      E      35.52  \n",
       "3     10.93      3.28         2.95          80.0         8.0      E      32.77  \n",
       "4      8.89     10.22         1.00           NaN         NaN    NaN      31.38  "
      ]
     },
     "execution_count": 16,
     "metadata": {},
     "output_type": "execute_result"
    }
   ],
   "source": [
    "df['tot_sales'] = (\n",
    "    df['na_sales'] +\n",
    "    df['eu_sales'] +\n",
    "    df['jp_sales'] +\n",
    "    df['other_sales']\n",
    ")\n",
    "df.head()"
   ]
  },
  {
   "cell_type": "markdown",
   "metadata": {},
   "source": [
    "## Исследовательский анализ данных"
   ]
  },
  {
   "cell_type": "markdown",
   "metadata": {},
   "source": [
    "### Сколько игр выпускалось в разные годы.\n",
    "\n",
    "Отсортируем таблицу по интересующим нас значениям и посчитаем количество выпускаемых игр в год."
   ]
  },
  {
   "cell_type": "code",
   "execution_count": 17,
   "metadata": {
    "scrolled": true
   },
   "outputs": [
    {
     "data": {
      "text/html": [
       "<div>\n",
       "<style scoped>\n",
       "    .dataframe tbody tr th:only-of-type {\n",
       "        vertical-align: middle;\n",
       "    }\n",
       "\n",
       "    .dataframe tbody tr th {\n",
       "        vertical-align: top;\n",
       "    }\n",
       "\n",
       "    .dataframe thead th {\n",
       "        text-align: right;\n",
       "    }\n",
       "</style>\n",
       "<table border=\"1\" class=\"dataframe\">\n",
       "  <thead>\n",
       "    <tr style=\"text-align: right;\">\n",
       "      <th>platform</th>\n",
       "      <th>2600</th>\n",
       "      <th>3DO</th>\n",
       "      <th>3DS</th>\n",
       "      <th>DC</th>\n",
       "      <th>DS</th>\n",
       "      <th>GB</th>\n",
       "      <th>GBA</th>\n",
       "      <th>GC</th>\n",
       "      <th>GEN</th>\n",
       "      <th>GG</th>\n",
       "      <th>N64</th>\n",
       "      <th>NES</th>\n",
       "      <th>NG</th>\n",
       "      <th>PC</th>\n",
       "      <th>PCFX</th>\n",
       "      <th>PS</th>\n",
       "      <th>PS2</th>\n",
       "      <th>PS3</th>\n",
       "      <th>PS4</th>\n",
       "      <th>PSP</th>\n",
       "      <th>PSV</th>\n",
       "      <th>SAT</th>\n",
       "      <th>SCD</th>\n",
       "      <th>SNES</th>\n",
       "      <th>TG16</th>\n",
       "      <th>WS</th>\n",
       "      <th>Wii</th>\n",
       "      <th>WiiU</th>\n",
       "      <th>X360</th>\n",
       "      <th>XB</th>\n",
       "      <th>XOne</th>\n",
       "      <th>Total</th>\n",
       "    </tr>\n",
       "    <tr>\n",
       "      <th>year_of_release</th>\n",
       "      <th></th>\n",
       "      <th></th>\n",
       "      <th></th>\n",
       "      <th></th>\n",
       "      <th></th>\n",
       "      <th></th>\n",
       "      <th></th>\n",
       "      <th></th>\n",
       "      <th></th>\n",
       "      <th></th>\n",
       "      <th></th>\n",
       "      <th></th>\n",
       "      <th></th>\n",
       "      <th></th>\n",
       "      <th></th>\n",
       "      <th></th>\n",
       "      <th></th>\n",
       "      <th></th>\n",
       "      <th></th>\n",
       "      <th></th>\n",
       "      <th></th>\n",
       "      <th></th>\n",
       "      <th></th>\n",
       "      <th></th>\n",
       "      <th></th>\n",
       "      <th></th>\n",
       "      <th></th>\n",
       "      <th></th>\n",
       "      <th></th>\n",
       "      <th></th>\n",
       "      <th></th>\n",
       "      <th></th>\n",
       "    </tr>\n",
       "  </thead>\n",
       "  <tbody>\n",
       "    <tr>\n",
       "      <td>1980</td>\n",
       "      <td>9</td>\n",
       "      <td>0</td>\n",
       "      <td>0</td>\n",
       "      <td>0</td>\n",
       "      <td>0</td>\n",
       "      <td>0</td>\n",
       "      <td>0</td>\n",
       "      <td>0</td>\n",
       "      <td>0</td>\n",
       "      <td>0</td>\n",
       "      <td>0</td>\n",
       "      <td>0</td>\n",
       "      <td>0</td>\n",
       "      <td>0</td>\n",
       "      <td>0</td>\n",
       "      <td>0</td>\n",
       "      <td>0</td>\n",
       "      <td>0</td>\n",
       "      <td>0</td>\n",
       "      <td>0</td>\n",
       "      <td>0</td>\n",
       "      <td>0</td>\n",
       "      <td>0</td>\n",
       "      <td>0</td>\n",
       "      <td>0</td>\n",
       "      <td>0</td>\n",
       "      <td>0</td>\n",
       "      <td>0</td>\n",
       "      <td>0</td>\n",
       "      <td>0</td>\n",
       "      <td>0</td>\n",
       "      <td>9</td>\n",
       "    </tr>\n",
       "    <tr>\n",
       "      <td>1981</td>\n",
       "      <td>46</td>\n",
       "      <td>0</td>\n",
       "      <td>0</td>\n",
       "      <td>0</td>\n",
       "      <td>0</td>\n",
       "      <td>0</td>\n",
       "      <td>0</td>\n",
       "      <td>0</td>\n",
       "      <td>0</td>\n",
       "      <td>0</td>\n",
       "      <td>0</td>\n",
       "      <td>0</td>\n",
       "      <td>0</td>\n",
       "      <td>0</td>\n",
       "      <td>0</td>\n",
       "      <td>0</td>\n",
       "      <td>0</td>\n",
       "      <td>0</td>\n",
       "      <td>0</td>\n",
       "      <td>0</td>\n",
       "      <td>0</td>\n",
       "      <td>0</td>\n",
       "      <td>0</td>\n",
       "      <td>0</td>\n",
       "      <td>0</td>\n",
       "      <td>0</td>\n",
       "      <td>0</td>\n",
       "      <td>0</td>\n",
       "      <td>0</td>\n",
       "      <td>0</td>\n",
       "      <td>0</td>\n",
       "      <td>46</td>\n",
       "    </tr>\n",
       "    <tr>\n",
       "      <td>1982</td>\n",
       "      <td>36</td>\n",
       "      <td>0</td>\n",
       "      <td>0</td>\n",
       "      <td>0</td>\n",
       "      <td>0</td>\n",
       "      <td>0</td>\n",
       "      <td>0</td>\n",
       "      <td>0</td>\n",
       "      <td>0</td>\n",
       "      <td>0</td>\n",
       "      <td>0</td>\n",
       "      <td>0</td>\n",
       "      <td>0</td>\n",
       "      <td>0</td>\n",
       "      <td>0</td>\n",
       "      <td>0</td>\n",
       "      <td>0</td>\n",
       "      <td>0</td>\n",
       "      <td>0</td>\n",
       "      <td>0</td>\n",
       "      <td>0</td>\n",
       "      <td>0</td>\n",
       "      <td>0</td>\n",
       "      <td>0</td>\n",
       "      <td>0</td>\n",
       "      <td>0</td>\n",
       "      <td>0</td>\n",
       "      <td>0</td>\n",
       "      <td>0</td>\n",
       "      <td>0</td>\n",
       "      <td>0</td>\n",
       "      <td>36</td>\n",
       "    </tr>\n",
       "    <tr>\n",
       "      <td>1983</td>\n",
       "      <td>11</td>\n",
       "      <td>0</td>\n",
       "      <td>0</td>\n",
       "      <td>0</td>\n",
       "      <td>0</td>\n",
       "      <td>0</td>\n",
       "      <td>0</td>\n",
       "      <td>0</td>\n",
       "      <td>0</td>\n",
       "      <td>0</td>\n",
       "      <td>0</td>\n",
       "      <td>6</td>\n",
       "      <td>0</td>\n",
       "      <td>0</td>\n",
       "      <td>0</td>\n",
       "      <td>0</td>\n",
       "      <td>0</td>\n",
       "      <td>0</td>\n",
       "      <td>0</td>\n",
       "      <td>0</td>\n",
       "      <td>0</td>\n",
       "      <td>0</td>\n",
       "      <td>0</td>\n",
       "      <td>0</td>\n",
       "      <td>0</td>\n",
       "      <td>0</td>\n",
       "      <td>0</td>\n",
       "      <td>0</td>\n",
       "      <td>0</td>\n",
       "      <td>0</td>\n",
       "      <td>0</td>\n",
       "      <td>17</td>\n",
       "    </tr>\n",
       "    <tr>\n",
       "      <td>1984</td>\n",
       "      <td>1</td>\n",
       "      <td>0</td>\n",
       "      <td>0</td>\n",
       "      <td>0</td>\n",
       "      <td>0</td>\n",
       "      <td>0</td>\n",
       "      <td>0</td>\n",
       "      <td>0</td>\n",
       "      <td>0</td>\n",
       "      <td>0</td>\n",
       "      <td>0</td>\n",
       "      <td>13</td>\n",
       "      <td>0</td>\n",
       "      <td>0</td>\n",
       "      <td>0</td>\n",
       "      <td>0</td>\n",
       "      <td>0</td>\n",
       "      <td>0</td>\n",
       "      <td>0</td>\n",
       "      <td>0</td>\n",
       "      <td>0</td>\n",
       "      <td>0</td>\n",
       "      <td>0</td>\n",
       "      <td>0</td>\n",
       "      <td>0</td>\n",
       "      <td>0</td>\n",
       "      <td>0</td>\n",
       "      <td>0</td>\n",
       "      <td>0</td>\n",
       "      <td>0</td>\n",
       "      <td>0</td>\n",
       "      <td>14</td>\n",
       "    </tr>\n",
       "    <tr>\n",
       "      <td>1985</td>\n",
       "      <td>1</td>\n",
       "      <td>0</td>\n",
       "      <td>0</td>\n",
       "      <td>0</td>\n",
       "      <td>1</td>\n",
       "      <td>0</td>\n",
       "      <td>0</td>\n",
       "      <td>0</td>\n",
       "      <td>0</td>\n",
       "      <td>0</td>\n",
       "      <td>0</td>\n",
       "      <td>11</td>\n",
       "      <td>0</td>\n",
       "      <td>1</td>\n",
       "      <td>0</td>\n",
       "      <td>0</td>\n",
       "      <td>0</td>\n",
       "      <td>0</td>\n",
       "      <td>0</td>\n",
       "      <td>0</td>\n",
       "      <td>0</td>\n",
       "      <td>0</td>\n",
       "      <td>0</td>\n",
       "      <td>0</td>\n",
       "      <td>0</td>\n",
       "      <td>0</td>\n",
       "      <td>0</td>\n",
       "      <td>0</td>\n",
       "      <td>0</td>\n",
       "      <td>0</td>\n",
       "      <td>0</td>\n",
       "      <td>14</td>\n",
       "    </tr>\n",
       "    <tr>\n",
       "      <td>1986</td>\n",
       "      <td>2</td>\n",
       "      <td>0</td>\n",
       "      <td>0</td>\n",
       "      <td>0</td>\n",
       "      <td>0</td>\n",
       "      <td>0</td>\n",
       "      <td>0</td>\n",
       "      <td>0</td>\n",
       "      <td>0</td>\n",
       "      <td>0</td>\n",
       "      <td>0</td>\n",
       "      <td>19</td>\n",
       "      <td>0</td>\n",
       "      <td>0</td>\n",
       "      <td>0</td>\n",
       "      <td>0</td>\n",
       "      <td>0</td>\n",
       "      <td>0</td>\n",
       "      <td>0</td>\n",
       "      <td>0</td>\n",
       "      <td>0</td>\n",
       "      <td>0</td>\n",
       "      <td>0</td>\n",
       "      <td>0</td>\n",
       "      <td>0</td>\n",
       "      <td>0</td>\n",
       "      <td>0</td>\n",
       "      <td>0</td>\n",
       "      <td>0</td>\n",
       "      <td>0</td>\n",
       "      <td>0</td>\n",
       "      <td>21</td>\n",
       "    </tr>\n",
       "    <tr>\n",
       "      <td>1987</td>\n",
       "      <td>6</td>\n",
       "      <td>0</td>\n",
       "      <td>0</td>\n",
       "      <td>0</td>\n",
       "      <td>0</td>\n",
       "      <td>0</td>\n",
       "      <td>0</td>\n",
       "      <td>0</td>\n",
       "      <td>0</td>\n",
       "      <td>0</td>\n",
       "      <td>0</td>\n",
       "      <td>10</td>\n",
       "      <td>0</td>\n",
       "      <td>0</td>\n",
       "      <td>0</td>\n",
       "      <td>0</td>\n",
       "      <td>0</td>\n",
       "      <td>0</td>\n",
       "      <td>0</td>\n",
       "      <td>0</td>\n",
       "      <td>0</td>\n",
       "      <td>0</td>\n",
       "      <td>0</td>\n",
       "      <td>0</td>\n",
       "      <td>0</td>\n",
       "      <td>0</td>\n",
       "      <td>0</td>\n",
       "      <td>0</td>\n",
       "      <td>0</td>\n",
       "      <td>0</td>\n",
       "      <td>0</td>\n",
       "      <td>16</td>\n",
       "    </tr>\n",
       "    <tr>\n",
       "      <td>1988</td>\n",
       "      <td>2</td>\n",
       "      <td>0</td>\n",
       "      <td>0</td>\n",
       "      <td>0</td>\n",
       "      <td>0</td>\n",
       "      <td>1</td>\n",
       "      <td>0</td>\n",
       "      <td>0</td>\n",
       "      <td>0</td>\n",
       "      <td>0</td>\n",
       "      <td>0</td>\n",
       "      <td>11</td>\n",
       "      <td>0</td>\n",
       "      <td>1</td>\n",
       "      <td>0</td>\n",
       "      <td>0</td>\n",
       "      <td>0</td>\n",
       "      <td>0</td>\n",
       "      <td>0</td>\n",
       "      <td>0</td>\n",
       "      <td>0</td>\n",
       "      <td>0</td>\n",
       "      <td>0</td>\n",
       "      <td>0</td>\n",
       "      <td>0</td>\n",
       "      <td>0</td>\n",
       "      <td>0</td>\n",
       "      <td>0</td>\n",
       "      <td>0</td>\n",
       "      <td>0</td>\n",
       "      <td>0</td>\n",
       "      <td>15</td>\n",
       "    </tr>\n",
       "    <tr>\n",
       "      <td>1989</td>\n",
       "      <td>2</td>\n",
       "      <td>0</td>\n",
       "      <td>0</td>\n",
       "      <td>0</td>\n",
       "      <td>0</td>\n",
       "      <td>10</td>\n",
       "      <td>0</td>\n",
       "      <td>0</td>\n",
       "      <td>0</td>\n",
       "      <td>0</td>\n",
       "      <td>0</td>\n",
       "      <td>5</td>\n",
       "      <td>0</td>\n",
       "      <td>0</td>\n",
       "      <td>0</td>\n",
       "      <td>0</td>\n",
       "      <td>0</td>\n",
       "      <td>0</td>\n",
       "      <td>0</td>\n",
       "      <td>0</td>\n",
       "      <td>0</td>\n",
       "      <td>0</td>\n",
       "      <td>0</td>\n",
       "      <td>0</td>\n",
       "      <td>0</td>\n",
       "      <td>0</td>\n",
       "      <td>0</td>\n",
       "      <td>0</td>\n",
       "      <td>0</td>\n",
       "      <td>0</td>\n",
       "      <td>0</td>\n",
       "      <td>17</td>\n",
       "    </tr>\n",
       "    <tr>\n",
       "      <td>1990</td>\n",
       "      <td>0</td>\n",
       "      <td>0</td>\n",
       "      <td>0</td>\n",
       "      <td>0</td>\n",
       "      <td>0</td>\n",
       "      <td>3</td>\n",
       "      <td>0</td>\n",
       "      <td>0</td>\n",
       "      <td>1</td>\n",
       "      <td>0</td>\n",
       "      <td>0</td>\n",
       "      <td>8</td>\n",
       "      <td>0</td>\n",
       "      <td>0</td>\n",
       "      <td>0</td>\n",
       "      <td>0</td>\n",
       "      <td>0</td>\n",
       "      <td>0</td>\n",
       "      <td>0</td>\n",
       "      <td>0</td>\n",
       "      <td>0</td>\n",
       "      <td>0</td>\n",
       "      <td>0</td>\n",
       "      <td>4</td>\n",
       "      <td>0</td>\n",
       "      <td>0</td>\n",
       "      <td>0</td>\n",
       "      <td>0</td>\n",
       "      <td>0</td>\n",
       "      <td>0</td>\n",
       "      <td>0</td>\n",
       "      <td>16</td>\n",
       "    </tr>\n",
       "    <tr>\n",
       "      <td>1991</td>\n",
       "      <td>0</td>\n",
       "      <td>0</td>\n",
       "      <td>0</td>\n",
       "      <td>0</td>\n",
       "      <td>0</td>\n",
       "      <td>9</td>\n",
       "      <td>0</td>\n",
       "      <td>0</td>\n",
       "      <td>1</td>\n",
       "      <td>0</td>\n",
       "      <td>0</td>\n",
       "      <td>7</td>\n",
       "      <td>0</td>\n",
       "      <td>0</td>\n",
       "      <td>0</td>\n",
       "      <td>0</td>\n",
       "      <td>0</td>\n",
       "      <td>0</td>\n",
       "      <td>0</td>\n",
       "      <td>0</td>\n",
       "      <td>0</td>\n",
       "      <td>0</td>\n",
       "      <td>0</td>\n",
       "      <td>24</td>\n",
       "      <td>0</td>\n",
       "      <td>0</td>\n",
       "      <td>0</td>\n",
       "      <td>0</td>\n",
       "      <td>0</td>\n",
       "      <td>0</td>\n",
       "      <td>0</td>\n",
       "      <td>41</td>\n",
       "    </tr>\n",
       "    <tr>\n",
       "      <td>1992</td>\n",
       "      <td>0</td>\n",
       "      <td>0</td>\n",
       "      <td>0</td>\n",
       "      <td>0</td>\n",
       "      <td>0</td>\n",
       "      <td>7</td>\n",
       "      <td>0</td>\n",
       "      <td>0</td>\n",
       "      <td>6</td>\n",
       "      <td>1</td>\n",
       "      <td>0</td>\n",
       "      <td>3</td>\n",
       "      <td>0</td>\n",
       "      <td>5</td>\n",
       "      <td>0</td>\n",
       "      <td>0</td>\n",
       "      <td>0</td>\n",
       "      <td>0</td>\n",
       "      <td>0</td>\n",
       "      <td>0</td>\n",
       "      <td>0</td>\n",
       "      <td>0</td>\n",
       "      <td>0</td>\n",
       "      <td>21</td>\n",
       "      <td>0</td>\n",
       "      <td>0</td>\n",
       "      <td>0</td>\n",
       "      <td>0</td>\n",
       "      <td>0</td>\n",
       "      <td>0</td>\n",
       "      <td>0</td>\n",
       "      <td>43</td>\n",
       "    </tr>\n",
       "    <tr>\n",
       "      <td>1993</td>\n",
       "      <td>0</td>\n",
       "      <td>0</td>\n",
       "      <td>0</td>\n",
       "      <td>0</td>\n",
       "      <td>0</td>\n",
       "      <td>0</td>\n",
       "      <td>0</td>\n",
       "      <td>0</td>\n",
       "      <td>9</td>\n",
       "      <td>0</td>\n",
       "      <td>0</td>\n",
       "      <td>4</td>\n",
       "      <td>2</td>\n",
       "      <td>0</td>\n",
       "      <td>0</td>\n",
       "      <td>0</td>\n",
       "      <td>0</td>\n",
       "      <td>0</td>\n",
       "      <td>0</td>\n",
       "      <td>0</td>\n",
       "      <td>0</td>\n",
       "      <td>0</td>\n",
       "      <td>1</td>\n",
       "      <td>46</td>\n",
       "      <td>0</td>\n",
       "      <td>0</td>\n",
       "      <td>0</td>\n",
       "      <td>0</td>\n",
       "      <td>0</td>\n",
       "      <td>0</td>\n",
       "      <td>0</td>\n",
       "      <td>62</td>\n",
       "    </tr>\n",
       "    <tr>\n",
       "      <td>1994</td>\n",
       "      <td>0</td>\n",
       "      <td>1</td>\n",
       "      <td>0</td>\n",
       "      <td>0</td>\n",
       "      <td>0</td>\n",
       "      <td>3</td>\n",
       "      <td>0</td>\n",
       "      <td>0</td>\n",
       "      <td>12</td>\n",
       "      <td>0</td>\n",
       "      <td>0</td>\n",
       "      <td>1</td>\n",
       "      <td>4</td>\n",
       "      <td>6</td>\n",
       "      <td>0</td>\n",
       "      <td>17</td>\n",
       "      <td>0</td>\n",
       "      <td>0</td>\n",
       "      <td>0</td>\n",
       "      <td>0</td>\n",
       "      <td>0</td>\n",
       "      <td>19</td>\n",
       "      <td>5</td>\n",
       "      <td>53</td>\n",
       "      <td>0</td>\n",
       "      <td>0</td>\n",
       "      <td>0</td>\n",
       "      <td>0</td>\n",
       "      <td>0</td>\n",
       "      <td>0</td>\n",
       "      <td>0</td>\n",
       "      <td>121</td>\n",
       "    </tr>\n",
       "    <tr>\n",
       "      <td>1995</td>\n",
       "      <td>0</td>\n",
       "      <td>2</td>\n",
       "      <td>0</td>\n",
       "      <td>0</td>\n",
       "      <td>0</td>\n",
       "      <td>4</td>\n",
       "      <td>0</td>\n",
       "      <td>0</td>\n",
       "      <td>0</td>\n",
       "      <td>0</td>\n",
       "      <td>0</td>\n",
       "      <td>0</td>\n",
       "      <td>4</td>\n",
       "      <td>2</td>\n",
       "      <td>0</td>\n",
       "      <td>99</td>\n",
       "      <td>0</td>\n",
       "      <td>0</td>\n",
       "      <td>0</td>\n",
       "      <td>0</td>\n",
       "      <td>0</td>\n",
       "      <td>52</td>\n",
       "      <td>0</td>\n",
       "      <td>54</td>\n",
       "      <td>2</td>\n",
       "      <td>0</td>\n",
       "      <td>0</td>\n",
       "      <td>0</td>\n",
       "      <td>0</td>\n",
       "      <td>0</td>\n",
       "      <td>0</td>\n",
       "      <td>219</td>\n",
       "    </tr>\n",
       "    <tr>\n",
       "      <td>1996</td>\n",
       "      <td>0</td>\n",
       "      <td>0</td>\n",
       "      <td>0</td>\n",
       "      <td>0</td>\n",
       "      <td>0</td>\n",
       "      <td>6</td>\n",
       "      <td>0</td>\n",
       "      <td>0</td>\n",
       "      <td>0</td>\n",
       "      <td>0</td>\n",
       "      <td>18</td>\n",
       "      <td>0</td>\n",
       "      <td>2</td>\n",
       "      <td>4</td>\n",
       "      <td>1</td>\n",
       "      <td>164</td>\n",
       "      <td>0</td>\n",
       "      <td>0</td>\n",
       "      <td>0</td>\n",
       "      <td>0</td>\n",
       "      <td>0</td>\n",
       "      <td>38</td>\n",
       "      <td>0</td>\n",
       "      <td>30</td>\n",
       "      <td>0</td>\n",
       "      <td>0</td>\n",
       "      <td>0</td>\n",
       "      <td>0</td>\n",
       "      <td>0</td>\n",
       "      <td>0</td>\n",
       "      <td>0</td>\n",
       "      <td>263</td>\n",
       "    </tr>\n",
       "    <tr>\n",
       "      <td>1997</td>\n",
       "      <td>0</td>\n",
       "      <td>0</td>\n",
       "      <td>0</td>\n",
       "      <td>0</td>\n",
       "      <td>0</td>\n",
       "      <td>8</td>\n",
       "      <td>0</td>\n",
       "      <td>0</td>\n",
       "      <td>0</td>\n",
       "      <td>0</td>\n",
       "      <td>49</td>\n",
       "      <td>0</td>\n",
       "      <td>0</td>\n",
       "      <td>6</td>\n",
       "      <td>0</td>\n",
       "      <td>188</td>\n",
       "      <td>0</td>\n",
       "      <td>0</td>\n",
       "      <td>0</td>\n",
       "      <td>0</td>\n",
       "      <td>0</td>\n",
       "      <td>34</td>\n",
       "      <td>0</td>\n",
       "      <td>4</td>\n",
       "      <td>0</td>\n",
       "      <td>0</td>\n",
       "      <td>0</td>\n",
       "      <td>0</td>\n",
       "      <td>0</td>\n",
       "      <td>0</td>\n",
       "      <td>0</td>\n",
       "      <td>289</td>\n",
       "    </tr>\n",
       "    <tr>\n",
       "      <td>1998</td>\n",
       "      <td>0</td>\n",
       "      <td>0</td>\n",
       "      <td>0</td>\n",
       "      <td>7</td>\n",
       "      <td>0</td>\n",
       "      <td>8</td>\n",
       "      <td>0</td>\n",
       "      <td>0</td>\n",
       "      <td>0</td>\n",
       "      <td>0</td>\n",
       "      <td>77</td>\n",
       "      <td>0</td>\n",
       "      <td>0</td>\n",
       "      <td>8</td>\n",
       "      <td>0</td>\n",
       "      <td>248</td>\n",
       "      <td>0</td>\n",
       "      <td>0</td>\n",
       "      <td>0</td>\n",
       "      <td>0</td>\n",
       "      <td>0</td>\n",
       "      <td>29</td>\n",
       "      <td>0</td>\n",
       "      <td>2</td>\n",
       "      <td>0</td>\n",
       "      <td>0</td>\n",
       "      <td>0</td>\n",
       "      <td>0</td>\n",
       "      <td>0</td>\n",
       "      <td>0</td>\n",
       "      <td>0</td>\n",
       "      <td>379</td>\n",
       "    </tr>\n",
       "    <tr>\n",
       "      <td>1999</td>\n",
       "      <td>0</td>\n",
       "      <td>0</td>\n",
       "      <td>0</td>\n",
       "      <td>14</td>\n",
       "      <td>0</td>\n",
       "      <td>11</td>\n",
       "      <td>0</td>\n",
       "      <td>0</td>\n",
       "      <td>0</td>\n",
       "      <td>0</td>\n",
       "      <td>102</td>\n",
       "      <td>0</td>\n",
       "      <td>0</td>\n",
       "      <td>7</td>\n",
       "      <td>0</td>\n",
       "      <td>200</td>\n",
       "      <td>0</td>\n",
       "      <td>0</td>\n",
       "      <td>0</td>\n",
       "      <td>0</td>\n",
       "      <td>0</td>\n",
       "      <td>1</td>\n",
       "      <td>0</td>\n",
       "      <td>1</td>\n",
       "      <td>0</td>\n",
       "      <td>2</td>\n",
       "      <td>0</td>\n",
       "      <td>0</td>\n",
       "      <td>0</td>\n",
       "      <td>0</td>\n",
       "      <td>0</td>\n",
       "      <td>338</td>\n",
       "    </tr>\n",
       "    <tr>\n",
       "      <td>2000</td>\n",
       "      <td>0</td>\n",
       "      <td>0</td>\n",
       "      <td>0</td>\n",
       "      <td>20</td>\n",
       "      <td>0</td>\n",
       "      <td>17</td>\n",
       "      <td>1</td>\n",
       "      <td>0</td>\n",
       "      <td>0</td>\n",
       "      <td>0</td>\n",
       "      <td>60</td>\n",
       "      <td>0</td>\n",
       "      <td>0</td>\n",
       "      <td>7</td>\n",
       "      <td>0</td>\n",
       "      <td>160</td>\n",
       "      <td>82</td>\n",
       "      <td>0</td>\n",
       "      <td>0</td>\n",
       "      <td>0</td>\n",
       "      <td>0</td>\n",
       "      <td>0</td>\n",
       "      <td>0</td>\n",
       "      <td>0</td>\n",
       "      <td>0</td>\n",
       "      <td>2</td>\n",
       "      <td>0</td>\n",
       "      <td>0</td>\n",
       "      <td>0</td>\n",
       "      <td>1</td>\n",
       "      <td>0</td>\n",
       "      <td>350</td>\n",
       "    </tr>\n",
       "    <tr>\n",
       "      <td>2001</td>\n",
       "      <td>0</td>\n",
       "      <td>0</td>\n",
       "      <td>0</td>\n",
       "      <td>8</td>\n",
       "      <td>0</td>\n",
       "      <td>10</td>\n",
       "      <td>107</td>\n",
       "      <td>22</td>\n",
       "      <td>0</td>\n",
       "      <td>0</td>\n",
       "      <td>9</td>\n",
       "      <td>0</td>\n",
       "      <td>0</td>\n",
       "      <td>15</td>\n",
       "      <td>0</td>\n",
       "      <td>91</td>\n",
       "      <td>185</td>\n",
       "      <td>0</td>\n",
       "      <td>0</td>\n",
       "      <td>0</td>\n",
       "      <td>0</td>\n",
       "      <td>0</td>\n",
       "      <td>0</td>\n",
       "      <td>0</td>\n",
       "      <td>0</td>\n",
       "      <td>2</td>\n",
       "      <td>0</td>\n",
       "      <td>0</td>\n",
       "      <td>0</td>\n",
       "      <td>33</td>\n",
       "      <td>0</td>\n",
       "      <td>482</td>\n",
       "    </tr>\n",
       "    <tr>\n",
       "      <td>2002</td>\n",
       "      <td>0</td>\n",
       "      <td>0</td>\n",
       "      <td>0</td>\n",
       "      <td>1</td>\n",
       "      <td>0</td>\n",
       "      <td>0</td>\n",
       "      <td>198</td>\n",
       "      <td>152</td>\n",
       "      <td>0</td>\n",
       "      <td>0</td>\n",
       "      <td>1</td>\n",
       "      <td>0</td>\n",
       "      <td>0</td>\n",
       "      <td>19</td>\n",
       "      <td>0</td>\n",
       "      <td>20</td>\n",
       "      <td>280</td>\n",
       "      <td>0</td>\n",
       "      <td>0</td>\n",
       "      <td>0</td>\n",
       "      <td>0</td>\n",
       "      <td>0</td>\n",
       "      <td>0</td>\n",
       "      <td>0</td>\n",
       "      <td>0</td>\n",
       "      <td>0</td>\n",
       "      <td>0</td>\n",
       "      <td>0</td>\n",
       "      <td>0</td>\n",
       "      <td>158</td>\n",
       "      <td>0</td>\n",
       "      <td>829</td>\n",
       "    </tr>\n",
       "    <tr>\n",
       "      <td>2003</td>\n",
       "      <td>0</td>\n",
       "      <td>0</td>\n",
       "      <td>0</td>\n",
       "      <td>0</td>\n",
       "      <td>0</td>\n",
       "      <td>0</td>\n",
       "      <td>150</td>\n",
       "      <td>144</td>\n",
       "      <td>0</td>\n",
       "      <td>0</td>\n",
       "      <td>0</td>\n",
       "      <td>0</td>\n",
       "      <td>0</td>\n",
       "      <td>33</td>\n",
       "      <td>0</td>\n",
       "      <td>3</td>\n",
       "      <td>256</td>\n",
       "      <td>0</td>\n",
       "      <td>0</td>\n",
       "      <td>0</td>\n",
       "      <td>0</td>\n",
       "      <td>0</td>\n",
       "      <td>0</td>\n",
       "      <td>0</td>\n",
       "      <td>0</td>\n",
       "      <td>0</td>\n",
       "      <td>0</td>\n",
       "      <td>0</td>\n",
       "      <td>0</td>\n",
       "      <td>189</td>\n",
       "      <td>0</td>\n",
       "      <td>775</td>\n",
       "    </tr>\n",
       "    <tr>\n",
       "      <td>2004</td>\n",
       "      <td>0</td>\n",
       "      <td>0</td>\n",
       "      <td>0</td>\n",
       "      <td>0</td>\n",
       "      <td>23</td>\n",
       "      <td>0</td>\n",
       "      <td>175</td>\n",
       "      <td>83</td>\n",
       "      <td>0</td>\n",
       "      <td>0</td>\n",
       "      <td>0</td>\n",
       "      <td>0</td>\n",
       "      <td>0</td>\n",
       "      <td>30</td>\n",
       "      <td>0</td>\n",
       "      <td>0</td>\n",
       "      <td>259</td>\n",
       "      <td>0</td>\n",
       "      <td>0</td>\n",
       "      <td>15</td>\n",
       "      <td>0</td>\n",
       "      <td>0</td>\n",
       "      <td>0</td>\n",
       "      <td>0</td>\n",
       "      <td>0</td>\n",
       "      <td>0</td>\n",
       "      <td>0</td>\n",
       "      <td>0</td>\n",
       "      <td>0</td>\n",
       "      <td>177</td>\n",
       "      <td>0</td>\n",
       "      <td>762</td>\n",
       "    </tr>\n",
       "    <tr>\n",
       "      <td>2005</td>\n",
       "      <td>0</td>\n",
       "      <td>0</td>\n",
       "      <td>0</td>\n",
       "      <td>0</td>\n",
       "      <td>118</td>\n",
       "      <td>0</td>\n",
       "      <td>135</td>\n",
       "      <td>97</td>\n",
       "      <td>0</td>\n",
       "      <td>0</td>\n",
       "      <td>0</td>\n",
       "      <td>0</td>\n",
       "      <td>0</td>\n",
       "      <td>37</td>\n",
       "      <td>0</td>\n",
       "      <td>0</td>\n",
       "      <td>260</td>\n",
       "      <td>0</td>\n",
       "      <td>0</td>\n",
       "      <td>95</td>\n",
       "      <td>0</td>\n",
       "      <td>0</td>\n",
       "      <td>0</td>\n",
       "      <td>0</td>\n",
       "      <td>0</td>\n",
       "      <td>0</td>\n",
       "      <td>0</td>\n",
       "      <td>0</td>\n",
       "      <td>18</td>\n",
       "      <td>179</td>\n",
       "      <td>0</td>\n",
       "      <td>939</td>\n",
       "    </tr>\n",
       "    <tr>\n",
       "      <td>2006</td>\n",
       "      <td>0</td>\n",
       "      <td>0</td>\n",
       "      <td>0</td>\n",
       "      <td>0</td>\n",
       "      <td>201</td>\n",
       "      <td>0</td>\n",
       "      <td>39</td>\n",
       "      <td>40</td>\n",
       "      <td>0</td>\n",
       "      <td>0</td>\n",
       "      <td>0</td>\n",
       "      <td>0</td>\n",
       "      <td>0</td>\n",
       "      <td>52</td>\n",
       "      <td>0</td>\n",
       "      <td>0</td>\n",
       "      <td>259</td>\n",
       "      <td>27</td>\n",
       "      <td>0</td>\n",
       "      <td>189</td>\n",
       "      <td>0</td>\n",
       "      <td>0</td>\n",
       "      <td>0</td>\n",
       "      <td>0</td>\n",
       "      <td>0</td>\n",
       "      <td>0</td>\n",
       "      <td>44</td>\n",
       "      <td>0</td>\n",
       "      <td>93</td>\n",
       "      <td>62</td>\n",
       "      <td>0</td>\n",
       "      <td>1006</td>\n",
       "    </tr>\n",
       "    <tr>\n",
       "      <td>2007</td>\n",
       "      <td>0</td>\n",
       "      <td>0</td>\n",
       "      <td>0</td>\n",
       "      <td>1</td>\n",
       "      <td>376</td>\n",
       "      <td>0</td>\n",
       "      <td>6</td>\n",
       "      <td>4</td>\n",
       "      <td>0</td>\n",
       "      <td>0</td>\n",
       "      <td>0</td>\n",
       "      <td>0</td>\n",
       "      <td>0</td>\n",
       "      <td>62</td>\n",
       "      <td>0</td>\n",
       "      <td>0</td>\n",
       "      <td>214</td>\n",
       "      <td>90</td>\n",
       "      <td>0</td>\n",
       "      <td>133</td>\n",
       "      <td>0</td>\n",
       "      <td>0</td>\n",
       "      <td>0</td>\n",
       "      <td>0</td>\n",
       "      <td>0</td>\n",
       "      <td>0</td>\n",
       "      <td>185</td>\n",
       "      <td>0</td>\n",
       "      <td>123</td>\n",
       "      <td>3</td>\n",
       "      <td>0</td>\n",
       "      <td>1197</td>\n",
       "    </tr>\n",
       "    <tr>\n",
       "      <td>2008</td>\n",
       "      <td>0</td>\n",
       "      <td>0</td>\n",
       "      <td>0</td>\n",
       "      <td>1</td>\n",
       "      <td>492</td>\n",
       "      <td>0</td>\n",
       "      <td>0</td>\n",
       "      <td>0</td>\n",
       "      <td>0</td>\n",
       "      <td>0</td>\n",
       "      <td>0</td>\n",
       "      <td>0</td>\n",
       "      <td>0</td>\n",
       "      <td>76</td>\n",
       "      <td>0</td>\n",
       "      <td>0</td>\n",
       "      <td>191</td>\n",
       "      <td>138</td>\n",
       "      <td>0</td>\n",
       "      <td>100</td>\n",
       "      <td>0</td>\n",
       "      <td>0</td>\n",
       "      <td>0</td>\n",
       "      <td>0</td>\n",
       "      <td>0</td>\n",
       "      <td>0</td>\n",
       "      <td>282</td>\n",
       "      <td>0</td>\n",
       "      <td>146</td>\n",
       "      <td>1</td>\n",
       "      <td>0</td>\n",
       "      <td>1427</td>\n",
       "    </tr>\n",
       "    <tr>\n",
       "      <td>2009</td>\n",
       "      <td>0</td>\n",
       "      <td>0</td>\n",
       "      <td>0</td>\n",
       "      <td>0</td>\n",
       "      <td>403</td>\n",
       "      <td>0</td>\n",
       "      <td>0</td>\n",
       "      <td>0</td>\n",
       "      <td>0</td>\n",
       "      <td>0</td>\n",
       "      <td>0</td>\n",
       "      <td>0</td>\n",
       "      <td>0</td>\n",
       "      <td>107</td>\n",
       "      <td>0</td>\n",
       "      <td>0</td>\n",
       "      <td>96</td>\n",
       "      <td>162</td>\n",
       "      <td>0</td>\n",
       "      <td>161</td>\n",
       "      <td>0</td>\n",
       "      <td>0</td>\n",
       "      <td>0</td>\n",
       "      <td>0</td>\n",
       "      <td>0</td>\n",
       "      <td>0</td>\n",
       "      <td>325</td>\n",
       "      <td>0</td>\n",
       "      <td>172</td>\n",
       "      <td>0</td>\n",
       "      <td>0</td>\n",
       "      <td>1426</td>\n",
       "    </tr>\n",
       "    <tr>\n",
       "      <td>2010</td>\n",
       "      <td>0</td>\n",
       "      <td>0</td>\n",
       "      <td>0</td>\n",
       "      <td>0</td>\n",
       "      <td>323</td>\n",
       "      <td>0</td>\n",
       "      <td>0</td>\n",
       "      <td>0</td>\n",
       "      <td>0</td>\n",
       "      <td>0</td>\n",
       "      <td>0</td>\n",
       "      <td>0</td>\n",
       "      <td>0</td>\n",
       "      <td>90</td>\n",
       "      <td>0</td>\n",
       "      <td>0</td>\n",
       "      <td>38</td>\n",
       "      <td>181</td>\n",
       "      <td>0</td>\n",
       "      <td>188</td>\n",
       "      <td>0</td>\n",
       "      <td>0</td>\n",
       "      <td>0</td>\n",
       "      <td>0</td>\n",
       "      <td>0</td>\n",
       "      <td>0</td>\n",
       "      <td>253</td>\n",
       "      <td>0</td>\n",
       "      <td>182</td>\n",
       "      <td>0</td>\n",
       "      <td>0</td>\n",
       "      <td>1255</td>\n",
       "    </tr>\n",
       "    <tr>\n",
       "      <td>2011</td>\n",
       "      <td>0</td>\n",
       "      <td>0</td>\n",
       "      <td>116</td>\n",
       "      <td>0</td>\n",
       "      <td>153</td>\n",
       "      <td>0</td>\n",
       "      <td>0</td>\n",
       "      <td>0</td>\n",
       "      <td>0</td>\n",
       "      <td>0</td>\n",
       "      <td>0</td>\n",
       "      <td>0</td>\n",
       "      <td>0</td>\n",
       "      <td>139</td>\n",
       "      <td>0</td>\n",
       "      <td>0</td>\n",
       "      <td>7</td>\n",
       "      <td>215</td>\n",
       "      <td>0</td>\n",
       "      <td>139</td>\n",
       "      <td>18</td>\n",
       "      <td>0</td>\n",
       "      <td>0</td>\n",
       "      <td>0</td>\n",
       "      <td>0</td>\n",
       "      <td>0</td>\n",
       "      <td>143</td>\n",
       "      <td>0</td>\n",
       "      <td>206</td>\n",
       "      <td>0</td>\n",
       "      <td>0</td>\n",
       "      <td>1136</td>\n",
       "    </tr>\n",
       "    <tr>\n",
       "      <td>2012</td>\n",
       "      <td>0</td>\n",
       "      <td>0</td>\n",
       "      <td>93</td>\n",
       "      <td>0</td>\n",
       "      <td>23</td>\n",
       "      <td>0</td>\n",
       "      <td>0</td>\n",
       "      <td>0</td>\n",
       "      <td>0</td>\n",
       "      <td>0</td>\n",
       "      <td>0</td>\n",
       "      <td>0</td>\n",
       "      <td>0</td>\n",
       "      <td>61</td>\n",
       "      <td>0</td>\n",
       "      <td>0</td>\n",
       "      <td>0</td>\n",
       "      <td>148</td>\n",
       "      <td>0</td>\n",
       "      <td>106</td>\n",
       "      <td>53</td>\n",
       "      <td>0</td>\n",
       "      <td>0</td>\n",
       "      <td>0</td>\n",
       "      <td>0</td>\n",
       "      <td>0</td>\n",
       "      <td>31</td>\n",
       "      <td>32</td>\n",
       "      <td>106</td>\n",
       "      <td>0</td>\n",
       "      <td>0</td>\n",
       "      <td>653</td>\n",
       "    </tr>\n",
       "    <tr>\n",
       "      <td>2013</td>\n",
       "      <td>0</td>\n",
       "      <td>0</td>\n",
       "      <td>91</td>\n",
       "      <td>0</td>\n",
       "      <td>8</td>\n",
       "      <td>0</td>\n",
       "      <td>0</td>\n",
       "      <td>0</td>\n",
       "      <td>0</td>\n",
       "      <td>0</td>\n",
       "      <td>0</td>\n",
       "      <td>0</td>\n",
       "      <td>0</td>\n",
       "      <td>38</td>\n",
       "      <td>0</td>\n",
       "      <td>0</td>\n",
       "      <td>0</td>\n",
       "      <td>126</td>\n",
       "      <td>16</td>\n",
       "      <td>54</td>\n",
       "      <td>63</td>\n",
       "      <td>0</td>\n",
       "      <td>0</td>\n",
       "      <td>0</td>\n",
       "      <td>0</td>\n",
       "      <td>0</td>\n",
       "      <td>12</td>\n",
       "      <td>42</td>\n",
       "      <td>75</td>\n",
       "      <td>0</td>\n",
       "      <td>19</td>\n",
       "      <td>544</td>\n",
       "    </tr>\n",
       "    <tr>\n",
       "      <td>2014</td>\n",
       "      <td>0</td>\n",
       "      <td>0</td>\n",
       "      <td>80</td>\n",
       "      <td>0</td>\n",
       "      <td>0</td>\n",
       "      <td>0</td>\n",
       "      <td>0</td>\n",
       "      <td>0</td>\n",
       "      <td>0</td>\n",
       "      <td>0</td>\n",
       "      <td>0</td>\n",
       "      <td>0</td>\n",
       "      <td>0</td>\n",
       "      <td>47</td>\n",
       "      <td>0</td>\n",
       "      <td>0</td>\n",
       "      <td>0</td>\n",
       "      <td>108</td>\n",
       "      <td>75</td>\n",
       "      <td>10</td>\n",
       "      <td>100</td>\n",
       "      <td>0</td>\n",
       "      <td>0</td>\n",
       "      <td>0</td>\n",
       "      <td>0</td>\n",
       "      <td>0</td>\n",
       "      <td>6</td>\n",
       "      <td>31</td>\n",
       "      <td>63</td>\n",
       "      <td>0</td>\n",
       "      <td>61</td>\n",
       "      <td>581</td>\n",
       "    </tr>\n",
       "    <tr>\n",
       "      <td>2015</td>\n",
       "      <td>0</td>\n",
       "      <td>0</td>\n",
       "      <td>86</td>\n",
       "      <td>0</td>\n",
       "      <td>0</td>\n",
       "      <td>0</td>\n",
       "      <td>0</td>\n",
       "      <td>0</td>\n",
       "      <td>0</td>\n",
       "      <td>0</td>\n",
       "      <td>0</td>\n",
       "      <td>0</td>\n",
       "      <td>0</td>\n",
       "      <td>50</td>\n",
       "      <td>0</td>\n",
       "      <td>0</td>\n",
       "      <td>0</td>\n",
       "      <td>73</td>\n",
       "      <td>137</td>\n",
       "      <td>3</td>\n",
       "      <td>110</td>\n",
       "      <td>0</td>\n",
       "      <td>0</td>\n",
       "      <td>0</td>\n",
       "      <td>0</td>\n",
       "      <td>0</td>\n",
       "      <td>4</td>\n",
       "      <td>28</td>\n",
       "      <td>35</td>\n",
       "      <td>0</td>\n",
       "      <td>80</td>\n",
       "      <td>606</td>\n",
       "    </tr>\n",
       "    <tr>\n",
       "      <td>2016</td>\n",
       "      <td>0</td>\n",
       "      <td>0</td>\n",
       "      <td>46</td>\n",
       "      <td>0</td>\n",
       "      <td>0</td>\n",
       "      <td>0</td>\n",
       "      <td>0</td>\n",
       "      <td>0</td>\n",
       "      <td>0</td>\n",
       "      <td>0</td>\n",
       "      <td>0</td>\n",
       "      <td>0</td>\n",
       "      <td>0</td>\n",
       "      <td>54</td>\n",
       "      <td>0</td>\n",
       "      <td>0</td>\n",
       "      <td>0</td>\n",
       "      <td>38</td>\n",
       "      <td>164</td>\n",
       "      <td>0</td>\n",
       "      <td>85</td>\n",
       "      <td>0</td>\n",
       "      <td>0</td>\n",
       "      <td>0</td>\n",
       "      <td>0</td>\n",
       "      <td>0</td>\n",
       "      <td>1</td>\n",
       "      <td>14</td>\n",
       "      <td>13</td>\n",
       "      <td>0</td>\n",
       "      <td>87</td>\n",
       "      <td>502</td>\n",
       "    </tr>\n",
       "    <tr>\n",
       "      <td>Total</td>\n",
       "      <td>116</td>\n",
       "      <td>3</td>\n",
       "      <td>512</td>\n",
       "      <td>52</td>\n",
       "      <td>2121</td>\n",
       "      <td>97</td>\n",
       "      <td>811</td>\n",
       "      <td>542</td>\n",
       "      <td>29</td>\n",
       "      <td>1</td>\n",
       "      <td>316</td>\n",
       "      <td>98</td>\n",
       "      <td>12</td>\n",
       "      <td>957</td>\n",
       "      <td>1</td>\n",
       "      <td>1190</td>\n",
       "      <td>2127</td>\n",
       "      <td>1306</td>\n",
       "      <td>392</td>\n",
       "      <td>1193</td>\n",
       "      <td>429</td>\n",
       "      <td>173</td>\n",
       "      <td>6</td>\n",
       "      <td>239</td>\n",
       "      <td>2</td>\n",
       "      <td>6</td>\n",
       "      <td>1286</td>\n",
       "      <td>147</td>\n",
       "      <td>1232</td>\n",
       "      <td>803</td>\n",
       "      <td>247</td>\n",
       "      <td>16446</td>\n",
       "    </tr>\n",
       "  </tbody>\n",
       "</table>\n",
       "</div>"
      ],
      "text/plain": [
       "platform         2600  3DO  3DS  DC    DS  GB  GBA   GC  GEN  GG  N64  NES  \\\n",
       "year_of_release                                                              \n",
       "1980                9    0    0   0     0   0    0    0    0   0    0    0   \n",
       "1981               46    0    0   0     0   0    0    0    0   0    0    0   \n",
       "1982               36    0    0   0     0   0    0    0    0   0    0    0   \n",
       "1983               11    0    0   0     0   0    0    0    0   0    0    6   \n",
       "1984                1    0    0   0     0   0    0    0    0   0    0   13   \n",
       "1985                1    0    0   0     1   0    0    0    0   0    0   11   \n",
       "1986                2    0    0   0     0   0    0    0    0   0    0   19   \n",
       "1987                6    0    0   0     0   0    0    0    0   0    0   10   \n",
       "1988                2    0    0   0     0   1    0    0    0   0    0   11   \n",
       "1989                2    0    0   0     0  10    0    0    0   0    0    5   \n",
       "1990                0    0    0   0     0   3    0    0    1   0    0    8   \n",
       "1991                0    0    0   0     0   9    0    0    1   0    0    7   \n",
       "1992                0    0    0   0     0   7    0    0    6   1    0    3   \n",
       "1993                0    0    0   0     0   0    0    0    9   0    0    4   \n",
       "1994                0    1    0   0     0   3    0    0   12   0    0    1   \n",
       "1995                0    2    0   0     0   4    0    0    0   0    0    0   \n",
       "1996                0    0    0   0     0   6    0    0    0   0   18    0   \n",
       "1997                0    0    0   0     0   8    0    0    0   0   49    0   \n",
       "1998                0    0    0   7     0   8    0    0    0   0   77    0   \n",
       "1999                0    0    0  14     0  11    0    0    0   0  102    0   \n",
       "2000                0    0    0  20     0  17    1    0    0   0   60    0   \n",
       "2001                0    0    0   8     0  10  107   22    0   0    9    0   \n",
       "2002                0    0    0   1     0   0  198  152    0   0    1    0   \n",
       "2003                0    0    0   0     0   0  150  144    0   0    0    0   \n",
       "2004                0    0    0   0    23   0  175   83    0   0    0    0   \n",
       "2005                0    0    0   0   118   0  135   97    0   0    0    0   \n",
       "2006                0    0    0   0   201   0   39   40    0   0    0    0   \n",
       "2007                0    0    0   1   376   0    6    4    0   0    0    0   \n",
       "2008                0    0    0   1   492   0    0    0    0   0    0    0   \n",
       "2009                0    0    0   0   403   0    0    0    0   0    0    0   \n",
       "2010                0    0    0   0   323   0    0    0    0   0    0    0   \n",
       "2011                0    0  116   0   153   0    0    0    0   0    0    0   \n",
       "2012                0    0   93   0    23   0    0    0    0   0    0    0   \n",
       "2013                0    0   91   0     8   0    0    0    0   0    0    0   \n",
       "2014                0    0   80   0     0   0    0    0    0   0    0    0   \n",
       "2015                0    0   86   0     0   0    0    0    0   0    0    0   \n",
       "2016                0    0   46   0     0   0    0    0    0   0    0    0   \n",
       "Total             116    3  512  52  2121  97  811  542   29   1  316   98   \n",
       "\n",
       "platform         NG   PC  PCFX    PS   PS2   PS3  PS4   PSP  PSV  SAT  SCD  \\\n",
       "year_of_release                                                              \n",
       "1980              0    0     0     0     0     0    0     0    0    0    0   \n",
       "1981              0    0     0     0     0     0    0     0    0    0    0   \n",
       "1982              0    0     0     0     0     0    0     0    0    0    0   \n",
       "1983              0    0     0     0     0     0    0     0    0    0    0   \n",
       "1984              0    0     0     0     0     0    0     0    0    0    0   \n",
       "1985              0    1     0     0     0     0    0     0    0    0    0   \n",
       "1986              0    0     0     0     0     0    0     0    0    0    0   \n",
       "1987              0    0     0     0     0     0    0     0    0    0    0   \n",
       "1988              0    1     0     0     0     0    0     0    0    0    0   \n",
       "1989              0    0     0     0     0     0    0     0    0    0    0   \n",
       "1990              0    0     0     0     0     0    0     0    0    0    0   \n",
       "1991              0    0     0     0     0     0    0     0    0    0    0   \n",
       "1992              0    5     0     0     0     0    0     0    0    0    0   \n",
       "1993              2    0     0     0     0     0    0     0    0    0    1   \n",
       "1994              4    6     0    17     0     0    0     0    0   19    5   \n",
       "1995              4    2     0    99     0     0    0     0    0   52    0   \n",
       "1996              2    4     1   164     0     0    0     0    0   38    0   \n",
       "1997              0    6     0   188     0     0    0     0    0   34    0   \n",
       "1998              0    8     0   248     0     0    0     0    0   29    0   \n",
       "1999              0    7     0   200     0     0    0     0    0    1    0   \n",
       "2000              0    7     0   160    82     0    0     0    0    0    0   \n",
       "2001              0   15     0    91   185     0    0     0    0    0    0   \n",
       "2002              0   19     0    20   280     0    0     0    0    0    0   \n",
       "2003              0   33     0     3   256     0    0     0    0    0    0   \n",
       "2004              0   30     0     0   259     0    0    15    0    0    0   \n",
       "2005              0   37     0     0   260     0    0    95    0    0    0   \n",
       "2006              0   52     0     0   259    27    0   189    0    0    0   \n",
       "2007              0   62     0     0   214    90    0   133    0    0    0   \n",
       "2008              0   76     0     0   191   138    0   100    0    0    0   \n",
       "2009              0  107     0     0    96   162    0   161    0    0    0   \n",
       "2010              0   90     0     0    38   181    0   188    0    0    0   \n",
       "2011              0  139     0     0     7   215    0   139   18    0    0   \n",
       "2012              0   61     0     0     0   148    0   106   53    0    0   \n",
       "2013              0   38     0     0     0   126   16    54   63    0    0   \n",
       "2014              0   47     0     0     0   108   75    10  100    0    0   \n",
       "2015              0   50     0     0     0    73  137     3  110    0    0   \n",
       "2016              0   54     0     0     0    38  164     0   85    0    0   \n",
       "Total            12  957     1  1190  2127  1306  392  1193  429  173    6   \n",
       "\n",
       "platform         SNES  TG16  WS   Wii  WiiU  X360   XB  XOne  Total  \n",
       "year_of_release                                                      \n",
       "1980                0     0   0     0     0     0    0     0      9  \n",
       "1981                0     0   0     0     0     0    0     0     46  \n",
       "1982                0     0   0     0     0     0    0     0     36  \n",
       "1983                0     0   0     0     0     0    0     0     17  \n",
       "1984                0     0   0     0     0     0    0     0     14  \n",
       "1985                0     0   0     0     0     0    0     0     14  \n",
       "1986                0     0   0     0     0     0    0     0     21  \n",
       "1987                0     0   0     0     0     0    0     0     16  \n",
       "1988                0     0   0     0     0     0    0     0     15  \n",
       "1989                0     0   0     0     0     0    0     0     17  \n",
       "1990                4     0   0     0     0     0    0     0     16  \n",
       "1991               24     0   0     0     0     0    0     0     41  \n",
       "1992               21     0   0     0     0     0    0     0     43  \n",
       "1993               46     0   0     0     0     0    0     0     62  \n",
       "1994               53     0   0     0     0     0    0     0    121  \n",
       "1995               54     2   0     0     0     0    0     0    219  \n",
       "1996               30     0   0     0     0     0    0     0    263  \n",
       "1997                4     0   0     0     0     0    0     0    289  \n",
       "1998                2     0   0     0     0     0    0     0    379  \n",
       "1999                1     0   2     0     0     0    0     0    338  \n",
       "2000                0     0   2     0     0     0    1     0    350  \n",
       "2001                0     0   2     0     0     0   33     0    482  \n",
       "2002                0     0   0     0     0     0  158     0    829  \n",
       "2003                0     0   0     0     0     0  189     0    775  \n",
       "2004                0     0   0     0     0     0  177     0    762  \n",
       "2005                0     0   0     0     0    18  179     0    939  \n",
       "2006                0     0   0    44     0    93   62     0   1006  \n",
       "2007                0     0   0   185     0   123    3     0   1197  \n",
       "2008                0     0   0   282     0   146    1     0   1427  \n",
       "2009                0     0   0   325     0   172    0     0   1426  \n",
       "2010                0     0   0   253     0   182    0     0   1255  \n",
       "2011                0     0   0   143     0   206    0     0   1136  \n",
       "2012                0     0   0    31    32   106    0     0    653  \n",
       "2013                0     0   0    12    42    75    0    19    544  \n",
       "2014                0     0   0     6    31    63    0    61    581  \n",
       "2015                0     0   0     4    28    35    0    80    606  \n",
       "2016                0     0   0     1    14    13    0    87    502  \n",
       "Total             239     2   6  1286   147  1232  803   247  16446  "
      ]
     },
     "execution_count": 17,
     "metadata": {},
     "output_type": "execute_result"
    }
   ],
   "source": [
    "pd.crosstab(df['platform'], \n",
    "            df['year_of_release'], margins=True, \n",
    "            margins_name=\"Total\", \n",
    "           ).T"
   ]
  },
  {
   "cell_type": "markdown",
   "metadata": {},
   "source": [
    "Если посмотреть на полную таблицу, то можно увидеть интересную особенность:\n",
    "- с 1980 по 1993г. количество игр плавно возрастало с 9 до 60 штук\n",
    "- с 1994г. аж до 2008г. - количество игр уверенно нарастало до пика в 1427 штук\n",
    "- в период 2009-2011гг. - количество игр было примерно на одном уровне (больше 1100 штук), однако с постепенным снижением\n",
    "- в 2012г. продажи упали почти в 2 раза (653 штуки) и до 2016г. включительно, медленно снижались до 502 штук в год\n",
    "- такой спад с 2012г может говорить о том, что в это время также начали развиваться игры на мобильных платформах (их здесь не представлено)\n",
    "\n",
    "\n",
    "Сделаем гистограмму для упрощения восприятия:"
   ]
  },
  {
   "cell_type": "code",
   "execution_count": 18,
   "metadata": {
    "scrolled": true
   },
   "outputs": [
    {
     "data": {
      "image/png": "[encoded data removed]",
      "text/plain": [
       "<Figure size 1080x360 with 1 Axes>"
      ]
     },
     "metadata": {
      "needs_background": "light"
     },
     "output_type": "display_data"
    }
   ],
   "source": [
    "df.groupby('year_of_release')['name'].count().plot(\n",
    "            kind='bar', y='name', figsize=(15,5), edgecolor='black'\n",
    ")\n",
    "plt.title('Игры, выпущенные с 1980 по 2016г.')\n",
    "plt.xticks(rotation=45)\n",
    "plt.xlabel('')\n",
    "plt.ylabel('Общие продажи')\n",
    "plt.show()"
   ]
  },
  {
   "cell_type": "markdown",
   "metadata": {},
   "source": [
    "На гистограмме мы видим всё то же самое, только в более удобном для понимания виде.\n",
    "\n",
    "**Вывод:** \n",
    "- исходя из тенденции снижения продаж в последние 5 лет, нам интересен период с 2012 по 2016г включительно.\n",
    "- вероятно, с 2012г за внимание пользователей игр стали бороться также мобильные платформы, которых нет в нашем исследовании."
   ]
  },
  {
   "cell_type": "markdown",
   "metadata": {},
   "source": [
    "### Как менялись продажи по платформам. \n",
    "\n",
    "Отсортируем данные по продажам и платформам и построим гистограмму для наглядности:"
   ]
  },
  {
   "cell_type": "code",
   "execution_count": 20,
   "metadata": {},
   "outputs": [
    {
     "data": {
      "image/png": "[encoded data removed]",
      "text/plain": [
       "<Figure size 1080x720 with 1 Axes>"
      ]
     },
     "metadata": {
      "needs_background": "light"
     },
     "output_type": "display_data"
    }
   ],
   "source": [
    "df.groupby('platform')['tot_sales'].sum().sort_values(ascending=True).plot(\n",
    "            kind='barh', y='tot_sales', figsize=(15,10), edgecolor='black', \n",
    ")\n",
    "plt.title('Общие продажи игр по платформам')\n",
    "plt.xticks(rotation=45)\n",
    "plt.grid()\n",
    "plt.xlabel('Общие продажи')\n",
    "plt.ylabel('Платформы')\n",
    "plt.show()"
   ]
  },
  {
   "cell_type": "markdown",
   "metadata": {},
   "source": [
    "Теперь выделим топ-10 платформ:"
   ]
  },
  {
   "cell_type": "code",
   "execution_count": 21,
   "metadata": {},
   "outputs": [
    {
     "data": {
      "text/html": [
       "<div>\n",
       "<style scoped>\n",
       "    .dataframe tbody tr th:only-of-type {\n",
       "        vertical-align: middle;\n",
       "    }\n",
       "\n",
       "    .dataframe tbody tr th {\n",
       "        vertical-align: top;\n",
       "    }\n",
       "\n",
       "    .dataframe thead th {\n",
       "        text-align: right;\n",
       "    }\n",
       "</style>\n",
       "<table border=\"1\" class=\"dataframe\">\n",
       "  <thead>\n",
       "    <tr style=\"text-align: right;\">\n",
       "      <th></th>\n",
       "      <th>tot_sales</th>\n",
       "    </tr>\n",
       "    <tr>\n",
       "      <th>platform</th>\n",
       "      <th></th>\n",
       "    </tr>\n",
       "  </thead>\n",
       "  <tbody>\n",
       "    <tr>\n",
       "      <td>PS2</td>\n",
       "      <td>1233.56</td>\n",
       "    </tr>\n",
       "    <tr>\n",
       "      <td>X360</td>\n",
       "      <td>961.24</td>\n",
       "    </tr>\n",
       "    <tr>\n",
       "      <td>PS3</td>\n",
       "      <td>931.34</td>\n",
       "    </tr>\n",
       "    <tr>\n",
       "      <td>Wii</td>\n",
       "      <td>891.18</td>\n",
       "    </tr>\n",
       "    <tr>\n",
       "      <td>DS</td>\n",
       "      <td>802.78</td>\n",
       "    </tr>\n",
       "    <tr>\n",
       "      <td>PS</td>\n",
       "      <td>727.58</td>\n",
       "    </tr>\n",
       "    <tr>\n",
       "      <td>PS4</td>\n",
       "      <td>314.14</td>\n",
       "    </tr>\n",
       "    <tr>\n",
       "      <td>GBA</td>\n",
       "      <td>312.88</td>\n",
       "    </tr>\n",
       "    <tr>\n",
       "      <td>PSP</td>\n",
       "      <td>289.53</td>\n",
       "    </tr>\n",
       "    <tr>\n",
       "      <td>3DS</td>\n",
       "      <td>257.81</td>\n",
       "    </tr>\n",
       "  </tbody>\n",
       "</table>\n",
       "</div>"
      ],
      "text/plain": [
       "          tot_sales\n",
       "platform           \n",
       "PS2         1233.56\n",
       "X360         961.24\n",
       "PS3          931.34\n",
       "Wii          891.18\n",
       "DS           802.78\n",
       "PS           727.58\n",
       "PS4          314.14\n",
       "GBA          312.88\n",
       "PSP          289.53\n",
       "3DS          257.81"
      ]
     },
     "execution_count": 21,
     "metadata": {},
     "output_type": "execute_result"
    }
   ],
   "source": [
    "df.groupby('platform')['tot_sales'].sum().to_frame(\n",
    "    'tot_sales').sort_values(\n",
    "    by='tot_sales', ascending=False\n",
    ").head(10)"
   ]
  },
  {
   "cell_type": "markdown",
   "metadata": {},
   "source": [
    "В лидерах у нас PS2, X360, PS3, также Wii и DS. Выберем платформы для более глубокого анализа. А именно - за какой характерный срок появляются новые и исчезают старые платформы.\n",
    "\n",
    "\n",
    "\n",
    "### Срок жизни платформы\n",
    "\n",
    "- Итак, выберем платформы для анализа - они должны быть старше 2011г, чтобы можно было делать выводы об исчезновении.\n",
    "- Посчитаем и добавим в таблицу срок жизни платформ."
   ]
  },
  {
   "cell_type": "code",
   "execution_count": 22,
   "metadata": {
    "scrolled": false
   },
   "outputs": [
    {
     "name": "stderr",
     "output_type": "stream",
     "text": [
      "/opt/conda/lib/python3.7/site-packages/ipykernel_launcher.py:6: SettingWithCopyWarning: \n",
      "A value is trying to be set on a copy of a slice from a DataFrame.\n",
      "Try using .loc[row_indexer,col_indexer] = value instead\n",
      "\n",
      "See the caveats in the documentation: http://pandas.pydata.org/pandas-docs/stable/user_guide/indexing.html#returning-a-view-versus-a-copy\n",
      "  \n"
     ]
    },
    {
     "data": {
      "text/html": [
       "<div>\n",
       "<style scoped>\n",
       "    .dataframe tbody tr th:only-of-type {\n",
       "        vertical-align: middle;\n",
       "    }\n",
       "\n",
       "    .dataframe tbody tr th {\n",
       "        vertical-align: top;\n",
       "    }\n",
       "\n",
       "    .dataframe thead th {\n",
       "        text-align: right;\n",
       "    }\n",
       "</style>\n",
       "<table border=\"1\" class=\"dataframe\">\n",
       "  <thead>\n",
       "    <tr style=\"text-align: right;\">\n",
       "      <th></th>\n",
       "      <th>name</th>\n",
       "      <th>platform</th>\n",
       "      <th>year_of_release</th>\n",
       "      <th>genre</th>\n",
       "      <th>na_sales</th>\n",
       "      <th>eu_sales</th>\n",
       "      <th>jp_sales</th>\n",
       "      <th>other_sales</th>\n",
       "      <th>critic_score</th>\n",
       "      <th>user_score</th>\n",
       "      <th>rating</th>\n",
       "      <th>tot_sales</th>\n",
       "      <th>life_time</th>\n",
       "    </tr>\n",
       "  </thead>\n",
       "  <tbody>\n",
       "    <tr>\n",
       "      <td>0</td>\n",
       "      <td>Wii Sports</td>\n",
       "      <td>Wii</td>\n",
       "      <td>2006</td>\n",
       "      <td>Sports</td>\n",
       "      <td>41.36</td>\n",
       "      <td>28.96</td>\n",
       "      <td>3.77</td>\n",
       "      <td>8.45</td>\n",
       "      <td>76.0</td>\n",
       "      <td>8.0</td>\n",
       "      <td>E</td>\n",
       "      <td>82.54</td>\n",
       "      <td>4</td>\n",
       "    </tr>\n",
       "    <tr>\n",
       "      <td>1</td>\n",
       "      <td>Super Mario Bros.</td>\n",
       "      <td>NES</td>\n",
       "      <td>1985</td>\n",
       "      <td>Platform</td>\n",
       "      <td>29.08</td>\n",
       "      <td>3.58</td>\n",
       "      <td>6.81</td>\n",
       "      <td>0.77</td>\n",
       "      <td>NaN</td>\n",
       "      <td>NaN</td>\n",
       "      <td>NaN</td>\n",
       "      <td>40.24</td>\n",
       "      <td>11</td>\n",
       "    </tr>\n",
       "    <tr>\n",
       "      <td>2</td>\n",
       "      <td>Mario Kart Wii</td>\n",
       "      <td>Wii</td>\n",
       "      <td>2008</td>\n",
       "      <td>Racing</td>\n",
       "      <td>15.68</td>\n",
       "      <td>12.76</td>\n",
       "      <td>3.79</td>\n",
       "      <td>3.29</td>\n",
       "      <td>82.0</td>\n",
       "      <td>8.3</td>\n",
       "      <td>E</td>\n",
       "      <td>35.52</td>\n",
       "      <td>4</td>\n",
       "    </tr>\n",
       "    <tr>\n",
       "      <td>3</td>\n",
       "      <td>Wii Sports Resort</td>\n",
       "      <td>Wii</td>\n",
       "      <td>2009</td>\n",
       "      <td>Sports</td>\n",
       "      <td>15.61</td>\n",
       "      <td>10.93</td>\n",
       "      <td>3.28</td>\n",
       "      <td>2.95</td>\n",
       "      <td>80.0</td>\n",
       "      <td>8.0</td>\n",
       "      <td>E</td>\n",
       "      <td>32.77</td>\n",
       "      <td>4</td>\n",
       "    </tr>\n",
       "    <tr>\n",
       "      <td>4</td>\n",
       "      <td>Pokemon Red/Pokemon Blue</td>\n",
       "      <td>GB</td>\n",
       "      <td>1996</td>\n",
       "      <td>Role-Playing</td>\n",
       "      <td>11.27</td>\n",
       "      <td>8.89</td>\n",
       "      <td>10.22</td>\n",
       "      <td>1.00</td>\n",
       "      <td>NaN</td>\n",
       "      <td>NaN</td>\n",
       "      <td>NaN</td>\n",
       "      <td>31.38</td>\n",
       "      <td>13</td>\n",
       "    </tr>\n",
       "  </tbody>\n",
       "</table>\n",
       "</div>"
      ],
      "text/plain": [
       "                       name platform  year_of_release         genre  na_sales  \\\n",
       "0                Wii Sports      Wii             2006        Sports     41.36   \n",
       "1         Super Mario Bros.      NES             1985      Platform     29.08   \n",
       "2            Mario Kart Wii      Wii             2008        Racing     15.68   \n",
       "3         Wii Sports Resort      Wii             2009        Sports     15.61   \n",
       "4  Pokemon Red/Pokemon Blue       GB             1996  Role-Playing     11.27   \n",
       "\n",
       "   eu_sales  jp_sales  other_sales  critic_score  user_score rating  \\\n",
       "0     28.96      3.77         8.45          76.0         8.0      E   \n",
       "1      3.58      6.81         0.77           NaN         NaN    NaN   \n",
       "2     12.76      3.79         3.29          82.0         8.3      E   \n",
       "3     10.93      3.28         2.95          80.0         8.0      E   \n",
       "4      8.89     10.22         1.00           NaN         NaN    NaN   \n",
       "\n",
       "   tot_sales  life_time  \n",
       "0      82.54          4  \n",
       "1      40.24         11  \n",
       "2      35.52          4  \n",
       "3      32.77          4  \n",
       "4      31.38         13  "
      ]
     },
     "execution_count": 22,
     "metadata": {},
     "output_type": "execute_result"
    }
   ],
   "source": [
    "old_platform = df.query('year_of_release < 2011')\n",
    "born_year = old_platform.groupby('platform')['year_of_release'].agg(min)\n",
    "deadline = old_platform.groupby('platform')['year_of_release'].agg(max)\n",
    "life_time = deadline - born_year\n",
    "life_time.to_dict()\n",
    "old_platform['life_time'] = old_platform['platform'].map(life_time)\n",
    "old_platform.head()"
   ]
  },
  {
   "cell_type": "markdown",
   "metadata": {},
   "source": [
    "Построим \"ящик с усами\", чтобы определиться с дальнейшими действиями:"
   ]
  },
  {
   "cell_type": "code",
   "execution_count": 23,
   "metadata": {},
   "outputs": [
    {
     "data": {
      "image/png": "[encoded data removed]",
      "text/plain": [
       "<Figure size 1080x360 with 1 Axes>"
      ]
     },
     "metadata": {
      "needs_background": "light"
     },
     "output_type": "display_data"
    }
   ],
   "source": [
    "q75 = old_platform['life_time'].quantile([.75])\n",
    "q25 = old_platform['life_time'].quantile([.25])\n",
    "iqr = q75 - q25\n",
    "low_range = q25 - (1.5 * iqr)\n",
    "high_range = q75 + (1.5 * iqr)\n",
    "plt.figure(figsize=(15, 5))\n",
    "sns.boxplot(old_platform['life_time'], color='steelblue')\n",
    "plt.xlim = (low_range, high_range)\n",
    "plt.title('Разброс значений срока жизни платформ')\n",
    "plt.xlabel('годы')\n",
    "plt.grid()\n",
    "plt.show()"
   ]
  },
  {
   "cell_type": "markdown",
   "metadata": {},
   "source": [
    "Удалим выбросы и посчитаем среднее и медиану. Т.к нижняя граница у нас получилась на \"0\", то выбор границ выбросов усложняется, однако, предположим, что рассматривать платформы со сроком жизни менее 3х лет не имеет смысла, то возьмем за нижнюю границу - 3, а за верхнюю 15."
   ]
  },
  {
   "cell_type": "code",
   "execution_count": 24,
   "metadata": {
    "scrolled": true
   },
   "outputs": [
    {
     "name": "stdout",
     "output_type": "stream",
     "text": [
      "          life_time\n",
      "platform           \n",
      "GB               13\n",
      "NES              11\n",
      "PS2              10\n",
      "DC               10\n",
      "2600              9\n",
      "SNES              9\n",
      "PS                9\n",
      "XB                8\n",
      "GBA               7\n",
      "N64               6\n",
      "\n",
      "Медиана срока жизни платформы: 6.5 лет\n",
      "Среднее срока жизни платформы: 7.2 года\n"
     ]
    }
   ],
   "source": [
    "games_pivot = old_platform.query('3 <= life_time <=15 ').pivot_table(\n",
    "    index='platform', \n",
    "    values='life_time').sort_values(\n",
    "    by='life_time', ascending=False)\n",
    "\n",
    "print(games_pivot.head(10))\n",
    "print()\n",
    "print('Медиана срока жизни платформы:', games_pivot['life_time'].median(), 'лет')\n",
    "print('Среднее срока жизни платформы: {:.1f}'.format(games_pivot['life_time'].mean()), 'года')"
   ]
  },
  {
   "cell_type": "markdown",
   "metadata": {},
   "source": [
    "**Вывод:**\n",
    "- в среднем срок жизни платформы около 7 лет\n",
    "- однако, стоит отметить, что самая долговечная платформа - это ПК, что вполне объяснимо, т.к меняются мощности компьютеров, а платформа, как таковая, остается неизменной\n",
    "- также, обращает на себя внимание, что не сами платформы перестают существовать, а меняется количество выпускаемых к ним игр"
   ]
  },
  {
   "cell_type": "markdown",
   "metadata": {},
   "source": [
    "## Построение прогноза на 2017 год"
   ]
  },
  {
   "cell_type": "markdown",
   "metadata": {},
   "source": [
    "### Актуальный период\n",
    "\n",
    "На основании проведенного исследования, мы выбираем последние 5 лет, как актуальный период.\n",
    "\n",
    "Обновим нашу базу данных с учетом периода."
   ]
  },
  {
   "cell_type": "code",
   "execution_count": 25,
   "metadata": {
    "scrolled": false
   },
   "outputs": [
    {
     "data": {
      "text/html": [
       "<div>\n",
       "<style scoped>\n",
       "    .dataframe tbody tr th:only-of-type {\n",
       "        vertical-align: middle;\n",
       "    }\n",
       "\n",
       "    .dataframe tbody tr th {\n",
       "        vertical-align: top;\n",
       "    }\n",
       "\n",
       "    .dataframe thead th {\n",
       "        text-align: right;\n",
       "    }\n",
       "</style>\n",
       "<table border=\"1\" class=\"dataframe\">\n",
       "  <thead>\n",
       "    <tr style=\"text-align: right;\">\n",
       "      <th></th>\n",
       "      <th>name</th>\n",
       "      <th>platform</th>\n",
       "      <th>year_of_release</th>\n",
       "      <th>genre</th>\n",
       "      <th>na_sales</th>\n",
       "      <th>eu_sales</th>\n",
       "      <th>jp_sales</th>\n",
       "      <th>other_sales</th>\n",
       "      <th>critic_score</th>\n",
       "      <th>user_score</th>\n",
       "      <th>rating</th>\n",
       "      <th>tot_sales</th>\n",
       "    </tr>\n",
       "  </thead>\n",
       "  <tbody>\n",
       "    <tr>\n",
       "      <td>16</td>\n",
       "      <td>Grand Theft Auto V</td>\n",
       "      <td>PS3</td>\n",
       "      <td>2013</td>\n",
       "      <td>Action</td>\n",
       "      <td>7.02</td>\n",
       "      <td>9.09</td>\n",
       "      <td>0.98</td>\n",
       "      <td>3.96</td>\n",
       "      <td>97.0</td>\n",
       "      <td>8.2</td>\n",
       "      <td>M</td>\n",
       "      <td>21.05</td>\n",
       "    </tr>\n",
       "    <tr>\n",
       "      <td>23</td>\n",
       "      <td>Grand Theft Auto V</td>\n",
       "      <td>X360</td>\n",
       "      <td>2013</td>\n",
       "      <td>Action</td>\n",
       "      <td>9.66</td>\n",
       "      <td>5.14</td>\n",
       "      <td>0.06</td>\n",
       "      <td>1.41</td>\n",
       "      <td>97.0</td>\n",
       "      <td>8.1</td>\n",
       "      <td>M</td>\n",
       "      <td>16.27</td>\n",
       "    </tr>\n",
       "    <tr>\n",
       "      <td>31</td>\n",
       "      <td>Call of Duty: Black Ops 3</td>\n",
       "      <td>PS4</td>\n",
       "      <td>2015</td>\n",
       "      <td>Shooter</td>\n",
       "      <td>6.03</td>\n",
       "      <td>5.86</td>\n",
       "      <td>0.36</td>\n",
       "      <td>2.38</td>\n",
       "      <td>NaN</td>\n",
       "      <td>NaN</td>\n",
       "      <td>NaN</td>\n",
       "      <td>14.63</td>\n",
       "    </tr>\n",
       "    <tr>\n",
       "      <td>33</td>\n",
       "      <td>Pokemon X/Pokemon Y</td>\n",
       "      <td>3DS</td>\n",
       "      <td>2013</td>\n",
       "      <td>Role-Playing</td>\n",
       "      <td>5.28</td>\n",
       "      <td>4.19</td>\n",
       "      <td>4.35</td>\n",
       "      <td>0.78</td>\n",
       "      <td>NaN</td>\n",
       "      <td>NaN</td>\n",
       "      <td>NaN</td>\n",
       "      <td>14.60</td>\n",
       "    </tr>\n",
       "    <tr>\n",
       "      <td>34</td>\n",
       "      <td>Call of Duty: Black Ops II</td>\n",
       "      <td>PS3</td>\n",
       "      <td>2012</td>\n",
       "      <td>Shooter</td>\n",
       "      <td>4.99</td>\n",
       "      <td>5.73</td>\n",
       "      <td>0.65</td>\n",
       "      <td>2.42</td>\n",
       "      <td>83.0</td>\n",
       "      <td>5.3</td>\n",
       "      <td>M</td>\n",
       "      <td>13.79</td>\n",
       "    </tr>\n",
       "  </tbody>\n",
       "</table>\n",
       "</div>"
      ],
      "text/plain": [
       "                          name platform  year_of_release         genre  \\\n",
       "16          Grand Theft Auto V      PS3             2013        Action   \n",
       "23          Grand Theft Auto V     X360             2013        Action   \n",
       "31   Call of Duty: Black Ops 3      PS4             2015       Shooter   \n",
       "33         Pokemon X/Pokemon Y      3DS             2013  Role-Playing   \n",
       "34  Call of Duty: Black Ops II      PS3             2012       Shooter   \n",
       "\n",
       "    na_sales  eu_sales  jp_sales  other_sales  critic_score  user_score  \\\n",
       "16      7.02      9.09      0.98         3.96          97.0         8.2   \n",
       "23      9.66      5.14      0.06         1.41          97.0         8.1   \n",
       "31      6.03      5.86      0.36         2.38           NaN         NaN   \n",
       "33      5.28      4.19      4.35         0.78           NaN         NaN   \n",
       "34      4.99      5.73      0.65         2.42          83.0         5.3   \n",
       "\n",
       "   rating  tot_sales  \n",
       "16      M      21.05  \n",
       "23      M      16.27  \n",
       "31    NaN      14.63  \n",
       "33    NaN      14.60  \n",
       "34      M      13.79  "
      ]
     },
     "execution_count": 25,
     "metadata": {},
     "output_type": "execute_result"
    }
   ],
   "source": [
    "df_new = df.copy()\n",
    "df_new = df_new.query('year_of_release > 2011')\n",
    "df_new.head()"
   ]
  },
  {
   "cell_type": "code",
   "execution_count": 26,
   "metadata": {},
   "outputs": [
    {
     "name": "stdout",
     "output_type": "stream",
     "text": [
      "<class 'pandas.core.frame.DataFrame'>\n",
      "Int64Index: 2886 entries, 16 to 16714\n",
      "Data columns (total 12 columns):\n",
      "name               2886 non-null object\n",
      "platform           2886 non-null object\n",
      "year_of_release    2886 non-null int64\n",
      "genre              2886 non-null object\n",
      "na_sales           2886 non-null float64\n",
      "eu_sales           2886 non-null float64\n",
      "jp_sales           2886 non-null float64\n",
      "other_sales        2886 non-null float64\n",
      "critic_score       1312 non-null float64\n",
      "user_score         1531 non-null float64\n",
      "rating             1611 non-null object\n",
      "tot_sales          2886 non-null float64\n",
      "dtypes: float64(7), int64(1), object(4)\n",
      "memory usage: 293.1+ KB\n"
     ]
    }
   ],
   "source": [
    "df_new.info()"
   ]
  },
  {
   "cell_type": "markdown",
   "metadata": {},
   "source": [
    "Отфильтруем данные, чтобы выявить лидеров:"
   ]
  },
  {
   "cell_type": "code",
   "execution_count": 27,
   "metadata": {},
   "outputs": [
    {
     "data": {
      "text/html": [
       "<div>\n",
       "<style scoped>\n",
       "    .dataframe tbody tr th:only-of-type {\n",
       "        vertical-align: middle;\n",
       "    }\n",
       "\n",
       "    .dataframe tbody tr th {\n",
       "        vertical-align: top;\n",
       "    }\n",
       "\n",
       "    .dataframe thead th {\n",
       "        text-align: right;\n",
       "    }\n",
       "</style>\n",
       "<table border=\"1\" class=\"dataframe\">\n",
       "  <thead>\n",
       "    <tr style=\"text-align: right;\">\n",
       "      <th>year_of_release</th>\n",
       "      <th>2012</th>\n",
       "      <th>2013</th>\n",
       "      <th>2014</th>\n",
       "      <th>2015</th>\n",
       "      <th>2016</th>\n",
       "      <th>total</th>\n",
       "    </tr>\n",
       "    <tr>\n",
       "      <th>platform</th>\n",
       "      <th></th>\n",
       "      <th></th>\n",
       "      <th></th>\n",
       "      <th></th>\n",
       "      <th></th>\n",
       "      <th></th>\n",
       "    </tr>\n",
       "  </thead>\n",
       "  <tbody>\n",
       "    <tr>\n",
       "      <td>total</td>\n",
       "      <td>653</td>\n",
       "      <td>544</td>\n",
       "      <td>581</td>\n",
       "      <td>606</td>\n",
       "      <td>502</td>\n",
       "      <td>2886</td>\n",
       "    </tr>\n",
       "    <tr>\n",
       "      <td>PS4</td>\n",
       "      <td>0</td>\n",
       "      <td>16</td>\n",
       "      <td>75</td>\n",
       "      <td>137</td>\n",
       "      <td>164</td>\n",
       "      <td>392</td>\n",
       "    </tr>\n",
       "    <tr>\n",
       "      <td>XOne</td>\n",
       "      <td>0</td>\n",
       "      <td>19</td>\n",
       "      <td>61</td>\n",
       "      <td>80</td>\n",
       "      <td>87</td>\n",
       "      <td>247</td>\n",
       "    </tr>\n",
       "    <tr>\n",
       "      <td>PSV</td>\n",
       "      <td>53</td>\n",
       "      <td>63</td>\n",
       "      <td>100</td>\n",
       "      <td>110</td>\n",
       "      <td>85</td>\n",
       "      <td>411</td>\n",
       "    </tr>\n",
       "    <tr>\n",
       "      <td>PC</td>\n",
       "      <td>61</td>\n",
       "      <td>38</td>\n",
       "      <td>47</td>\n",
       "      <td>50</td>\n",
       "      <td>54</td>\n",
       "      <td>250</td>\n",
       "    </tr>\n",
       "    <tr>\n",
       "      <td>3DS</td>\n",
       "      <td>93</td>\n",
       "      <td>91</td>\n",
       "      <td>80</td>\n",
       "      <td>86</td>\n",
       "      <td>46</td>\n",
       "      <td>396</td>\n",
       "    </tr>\n",
       "    <tr>\n",
       "      <td>PS3</td>\n",
       "      <td>148</td>\n",
       "      <td>126</td>\n",
       "      <td>108</td>\n",
       "      <td>73</td>\n",
       "      <td>38</td>\n",
       "      <td>493</td>\n",
       "    </tr>\n",
       "    <tr>\n",
       "      <td>WiiU</td>\n",
       "      <td>32</td>\n",
       "      <td>42</td>\n",
       "      <td>31</td>\n",
       "      <td>28</td>\n",
       "      <td>14</td>\n",
       "      <td>147</td>\n",
       "    </tr>\n",
       "    <tr>\n",
       "      <td>X360</td>\n",
       "      <td>106</td>\n",
       "      <td>75</td>\n",
       "      <td>63</td>\n",
       "      <td>35</td>\n",
       "      <td>13</td>\n",
       "      <td>292</td>\n",
       "    </tr>\n",
       "    <tr>\n",
       "      <td>Wii</td>\n",
       "      <td>31</td>\n",
       "      <td>12</td>\n",
       "      <td>6</td>\n",
       "      <td>4</td>\n",
       "      <td>1</td>\n",
       "      <td>54</td>\n",
       "    </tr>\n",
       "    <tr>\n",
       "      <td>DS</td>\n",
       "      <td>23</td>\n",
       "      <td>8</td>\n",
       "      <td>0</td>\n",
       "      <td>0</td>\n",
       "      <td>0</td>\n",
       "      <td>31</td>\n",
       "    </tr>\n",
       "    <tr>\n",
       "      <td>PSP</td>\n",
       "      <td>106</td>\n",
       "      <td>54</td>\n",
       "      <td>10</td>\n",
       "      <td>3</td>\n",
       "      <td>0</td>\n",
       "      <td>173</td>\n",
       "    </tr>\n",
       "  </tbody>\n",
       "</table>\n",
       "</div>"
      ],
      "text/plain": [
       "year_of_release  2012  2013  2014  2015  2016  total\n",
       "platform                                            \n",
       "total             653   544   581   606   502   2886\n",
       "PS4                 0    16    75   137   164    392\n",
       "XOne                0    19    61    80    87    247\n",
       "PSV                53    63   100   110    85    411\n",
       "PC                 61    38    47    50    54    250\n",
       "3DS                93    91    80    86    46    396\n",
       "PS3               148   126   108    73    38    493\n",
       "WiiU               32    42    31    28    14    147\n",
       "X360              106    75    63    35    13    292\n",
       "Wii                31    12     6     4     1     54\n",
       "DS                 23     8     0     0     0     31\n",
       "PSP               106    54    10     3     0    173"
      ]
     },
     "execution_count": 27,
     "metadata": {},
     "output_type": "execute_result"
    }
   ],
   "source": [
    "pd.crosstab(df_new['platform'], \n",
    "            df_new['year_of_release'],\n",
    "            margins=True, margins_name=\"total\"\n",
    "           ).sort_values(by=2016, ascending=False)"
   ]
  },
  {
   "cell_type": "markdown",
   "metadata": {},
   "source": [
    "Итак:\n",
    "- мы видим явного лидера - PS4\n",
    "- также набирает популярность - XOne\n",
    "- держится примерно на одном уровне - PC\n",
    "- представители старого поколения сильно сдают позиции - PSP, Wii, DS"
   ]
  },
  {
   "cell_type": "markdown",
   "metadata": {},
   "source": [
    "### Поведение платформ на рынке\n",
    "\n",
    "Отфильтруем наши топ-5 платформ."
   ]
  },
  {
   "cell_type": "code",
   "execution_count": 28,
   "metadata": {
    "scrolled": true
   },
   "outputs": [
    {
     "data": {
      "text/html": [
       "<div>\n",
       "<style scoped>\n",
       "    .dataframe tbody tr th:only-of-type {\n",
       "        vertical-align: middle;\n",
       "    }\n",
       "\n",
       "    .dataframe tbody tr th {\n",
       "        vertical-align: top;\n",
       "    }\n",
       "\n",
       "    .dataframe thead th {\n",
       "        text-align: right;\n",
       "    }\n",
       "</style>\n",
       "<table border=\"1\" class=\"dataframe\">\n",
       "  <thead>\n",
       "    <tr style=\"text-align: right;\">\n",
       "      <th></th>\n",
       "      <th>name</th>\n",
       "      <th>platform</th>\n",
       "      <th>year_of_release</th>\n",
       "      <th>genre</th>\n",
       "      <th>na_sales</th>\n",
       "      <th>eu_sales</th>\n",
       "      <th>jp_sales</th>\n",
       "      <th>other_sales</th>\n",
       "      <th>critic_score</th>\n",
       "      <th>user_score</th>\n",
       "      <th>rating</th>\n",
       "      <th>tot_sales</th>\n",
       "    </tr>\n",
       "  </thead>\n",
       "  <tbody>\n",
       "    <tr>\n",
       "      <td>31</td>\n",
       "      <td>Call of Duty: Black Ops 3</td>\n",
       "      <td>PS4</td>\n",
       "      <td>2015</td>\n",
       "      <td>Shooter</td>\n",
       "      <td>6.03</td>\n",
       "      <td>5.86</td>\n",
       "      <td>0.36</td>\n",
       "      <td>2.38</td>\n",
       "      <td>NaN</td>\n",
       "      <td>NaN</td>\n",
       "      <td>NaN</td>\n",
       "      <td>14.63</td>\n",
       "    </tr>\n",
       "    <tr>\n",
       "      <td>33</td>\n",
       "      <td>Pokemon X/Pokemon Y</td>\n",
       "      <td>3DS</td>\n",
       "      <td>2013</td>\n",
       "      <td>Role-Playing</td>\n",
       "      <td>5.28</td>\n",
       "      <td>4.19</td>\n",
       "      <td>4.35</td>\n",
       "      <td>0.78</td>\n",
       "      <td>NaN</td>\n",
       "      <td>NaN</td>\n",
       "      <td>NaN</td>\n",
       "      <td>14.60</td>\n",
       "    </tr>\n",
       "    <tr>\n",
       "      <td>42</td>\n",
       "      <td>Grand Theft Auto V</td>\n",
       "      <td>PS4</td>\n",
       "      <td>2014</td>\n",
       "      <td>Action</td>\n",
       "      <td>3.96</td>\n",
       "      <td>6.31</td>\n",
       "      <td>0.38</td>\n",
       "      <td>1.97</td>\n",
       "      <td>97.0</td>\n",
       "      <td>8.3</td>\n",
       "      <td>M</td>\n",
       "      <td>12.62</td>\n",
       "    </tr>\n",
       "    <tr>\n",
       "      <td>47</td>\n",
       "      <td>Pokemon Omega Ruby/Pokemon Alpha Sapphire</td>\n",
       "      <td>3DS</td>\n",
       "      <td>2014</td>\n",
       "      <td>Role-Playing</td>\n",
       "      <td>4.35</td>\n",
       "      <td>3.49</td>\n",
       "      <td>3.10</td>\n",
       "      <td>0.74</td>\n",
       "      <td>NaN</td>\n",
       "      <td>NaN</td>\n",
       "      <td>NaN</td>\n",
       "      <td>11.68</td>\n",
       "    </tr>\n",
       "    <tr>\n",
       "      <td>62</td>\n",
       "      <td>New Super Mario Bros. 2</td>\n",
       "      <td>3DS</td>\n",
       "      <td>2012</td>\n",
       "      <td>Platform</td>\n",
       "      <td>3.66</td>\n",
       "      <td>3.14</td>\n",
       "      <td>2.47</td>\n",
       "      <td>0.63</td>\n",
       "      <td>78.0</td>\n",
       "      <td>7.2</td>\n",
       "      <td>E</td>\n",
       "      <td>9.90</td>\n",
       "    </tr>\n",
       "  </tbody>\n",
       "</table>\n",
       "</div>"
      ],
      "text/plain": [
       "                                         name platform  year_of_release  \\\n",
       "31                  Call of Duty: Black Ops 3      PS4             2015   \n",
       "33                        Pokemon X/Pokemon Y      3DS             2013   \n",
       "42                         Grand Theft Auto V      PS4             2014   \n",
       "47  Pokemon Omega Ruby/Pokemon Alpha Sapphire      3DS             2014   \n",
       "62                    New Super Mario Bros. 2      3DS             2012   \n",
       "\n",
       "           genre  na_sales  eu_sales  jp_sales  other_sales  critic_score  \\\n",
       "31       Shooter      6.03      5.86      0.36         2.38           NaN   \n",
       "33  Role-Playing      5.28      4.19      4.35         0.78           NaN   \n",
       "42        Action      3.96      6.31      0.38         1.97          97.0   \n",
       "47  Role-Playing      4.35      3.49      3.10         0.74           NaN   \n",
       "62      Platform      3.66      3.14      2.47         0.63          78.0   \n",
       "\n",
       "    user_score rating  tot_sales  \n",
       "31         NaN    NaN      14.63  \n",
       "33         NaN    NaN      14.60  \n",
       "42         8.3      M      12.62  \n",
       "47         NaN    NaN      11.68  \n",
       "62         7.2      E       9.90  "
      ]
     },
     "execution_count": 28,
     "metadata": {},
     "output_type": "execute_result"
    }
   ],
   "source": [
    "leaders = ['PS4', 'XOne', 'PSV', 'PC', '3DS']\n",
    "top_5 = df_new.query('platform in @leaders')\n",
    "top_5.head()"
   ]
  },
  {
   "cell_type": "markdown",
   "metadata": {},
   "source": [
    "Теперь построим график для наглядности:"
   ]
  },
  {
   "cell_type": "code",
   "execution_count": 29,
   "metadata": {
    "scrolled": false
   },
   "outputs": [
    {
     "data": {
      "image/png": "[encoded data removed]",
      "text/plain": [
       "<Figure size 1080x360 with 1 Axes>"
      ]
     },
     "metadata": {
      "needs_background": "light"
     },
     "output_type": "display_data"
    }
   ],
   "source": [
    "plt.figure(figsize=(15, 5))\n",
    "sns.barplot(y='tot_sales',\n",
    "            x='year_of_release',\n",
    "            hue='platform',\n",
    "            data = top_5,\n",
    "            hue_order = leaders)\n",
    "\n",
    "plt.title('Продажи игр потенциально прибыльных платформ')\n",
    "plt.xlabel('год')\n",
    "plt.ylabel('продажи')\n",
    "plt.show()"
   ]
  },
  {
   "cell_type": "markdown",
   "metadata": {},
   "source": [
    "Построим график «ящик с усами» по глобальным продажам игр в разбивке по платформам:"
   ]
  },
  {
   "cell_type": "code",
   "execution_count": 30,
   "metadata": {},
   "outputs": [
    {
     "data": {
      "image/png": "[encoded data removed]",
      "text/plain": [
       "<Figure size 1080x720 with 1 Axes>"
      ]
     },
     "metadata": {
      "needs_background": "light"
     },
     "output_type": "display_data"
    }
   ],
   "source": [
    "plt.figure(figsize=(15,10))\n",
    "\n",
    "sns.boxplot(y='platform', x='tot_sales',\n",
    "            data = top_5.query('tot_sales < 4'),\n",
    "            order=leaders, orient='h')\n",
    "plt.title('Разброс глобальных продаж игр потенциально прибыльных платформ')\n",
    "plt.xlabel('Глобальные продажи')\n",
    "plt.ylabel('')\n",
    "plt.show()"
   ]
  },
  {
   "cell_type": "markdown",
   "metadata": {},
   "source": [
    "Установим верхнюю границу в общих продажах на 4, чтобы минимизировать выбросы и для удобства визуализации.\n",
    "\n",
    "**Вывод:**\n",
    "- несомненные лидеры продаж - PS4 и XOne\n",
    "- PC немного отстает от консольных версий, что вероятно связано с необходимостью обновления аппаратной части компьтера, что явно дороже покупки консоли\n",
    "\n",
    "\n",
    "\n",
    "Посмотрим, как влияют на продажи внутри одной популярной платформы отзывы пользователей и критиков. Построем диаграмму рассеяния и посчитаем корреляцию между отзывами и продажами. Сформулируем выводы.\n",
    "\n",
    "1. Корреляция между оценками пользователей и продажами:"
   ]
  },
  {
   "cell_type": "code",
   "execution_count": 31,
   "metadata": {
    "scrolled": true
   },
   "outputs": [
    {
     "data": {
      "text/plain": [
       "-0.032"
      ]
     },
     "execution_count": 31,
     "metadata": {},
     "output_type": "execute_result"
    }
   ],
   "source": [
    "PS4 = top_5[top_5['platform']=='PS4']\n",
    "round(PS4['user_score'].corr(PS4['tot_sales']),3)"
   ]
  },
  {
   "cell_type": "markdown",
   "metadata": {},
   "source": [
    "Построим диаграмму рассеяния по оценкам пользователей:"
   ]
  },
  {
   "cell_type": "code",
   "execution_count": 32,
   "metadata": {
    "scrolled": false
   },
   "outputs": [
    {
     "data": {
      "image/png": "[encoded data removed]",
      "text/plain": [
       "<Figure size 864x432 with 1 Axes>"
      ]
     },
     "metadata": {
      "needs_background": "light"
     },
     "output_type": "display_data"
    }
   ],
   "source": [
    "plt.figure(figsize=(12,6))\n",
    "sns.scatterplot(x='user_score', y='tot_sales', data=PS4)\n",
    "plt.grid()\n",
    "plt.ylabel('Продажи')\n",
    "plt.xlabel('Оценки пользователей')\n",
    "plt.title('Диаграмма рассеяния по оценкам пользователей');"
   ]
  },
  {
   "cell_type": "markdown",
   "metadata": {},
   "source": [
    "Корреляция между оценкой критиков и продажам:"
   ]
  },
  {
   "cell_type": "code",
   "execution_count": 33,
   "metadata": {},
   "outputs": [
    {
     "data": {
      "text/plain": [
       "0.407"
      ]
     },
     "execution_count": 33,
     "metadata": {},
     "output_type": "execute_result"
    }
   ],
   "source": [
    "round(PS4['critic_score'].corr(PS4['tot_sales']),3)"
   ]
  },
  {
   "cell_type": "markdown",
   "metadata": {},
   "source": [
    "Построим диаграмму рассеяния по оценкам критиков:"
   ]
  },
  {
   "cell_type": "code",
   "execution_count": 34,
   "metadata": {
    "scrolled": true
   },
   "outputs": [
    {
     "data": {
      "image/png": "[encoded data removed]",
      "text/plain": [
       "<Figure size 864x432 with 1 Axes>"
      ]
     },
     "metadata": {
      "needs_background": "light"
     },
     "output_type": "display_data"
    }
   ],
   "source": [
    "plt.figure(figsize=(12,6))\n",
    "sns.scatterplot(x='critic_score', y='tot_sales', data=PS4)\n",
    "plt.grid()\n",
    "plt.ylabel('Продажи')\n",
    "plt.xlabel('Оценки критиков')\n",
    "plt.title('Диаграмма рассеяния по оценкам критиков');"
   ]
  },
  {
   "cell_type": "markdown",
   "metadata": {},
   "source": [
    "**Вывод:**\n",
    "- оценка пользователей очень слабо влияет на продажи\n",
    "- оценка критиков же влияет на продажи умеренно\n",
    "\n",
    "Соотнесем выводы с продажами игр на других платформах.\n",
    "- Напишем функцию, которая будет отрисовывать графики рассеивания и считать корреляции"
   ]
  },
  {
   "cell_type": "code",
   "execution_count": 35,
   "metadata": {},
   "outputs": [],
   "source": [
    "\n",
    "def other_platform_matrix(name_of_platform):\n",
    "    platform = top_5[top_5['platform']==name_of_platform]\n",
    "    fig, ax = plt.subplots(1 ,2, figsize=(15,5))\n",
    "    sns.scatterplot(x='user_score', y='tot_sales', data=platform, ax=ax[0])\n",
    "    sns.scatterplot(x='critic_score', y='tot_sales', data=platform, ax=ax[1])\n",
    "    fig.suptitle(name_of_platform, fontsize=15)\n",
    "    ax[0].set(xlabel='Оценка пользователей')\n",
    "    ax[1].set(xlabel='Оценка критиков')\n",
    "    ax[0].set(ylabel='Количество продаж')\n",
    "    ax[1].set(ylabel='Количество продаж')\n",
    "    plt.show()\n",
    "    \n",
    "    correl = platform['user_score'].corr(platform['tot_sales'])\n",
    "    critic_correl = platform['critic_score'].corr(platform['tot_sales'])\n",
    "    \n",
    "    \n",
    "    if 0.3 >= abs(critic_correl) >= 0:\n",
    "        print('Корреляция между отзывами критиков и игровой платформой ',\n",
    "              name_of_platform.upper(), ': Слабая', round(critic_correl,3))\n",
    "    if 0.5 >= abs(critic_correl) >= 0.3:\n",
    "        print('Корреляция между отзывами критиков и игровой платформой ',\n",
    "              name_of_platform.upper(), ': Умеренная', round(critic_correl,3))\n",
    "    if 0.7 >= abs(critic_correl) >= 0.5:\n",
    "        print('Корреляция между отзывами критиков и игровой платформой ',\n",
    "              name_of_platform.upper(), ': Высокая', round(critic_correl,3))\n",
    "    if 0.9 >= abs(critic_correl) >= 0.7:\n",
    "        print('Корреляция между отзывами критиков и игровой платформой ',\n",
    "              name_of_platform.upper(), ': Весьма высокая', round(critic_correl,3))\n",
    "    if 1 >= abs(critic_correl) >= 0.9:\n",
    "        print('Корреляция между отзывами критиков и игровой платформой ',\n",
    "              name_of_platform.upper(), ': Сильная', round(critic_correl,3))\n",
    "        \n",
    "    \n",
    "    if 0.3 >= abs(correl)>= 0:\n",
    "        print('Корреляция между отзывами пользователей и продажами ',\n",
    "              name_of_platform.upper(), ': Слабая', round(correl,3))\n",
    "    if 0.5 >= abs(correl) >= 0.3:\n",
    "        print('Корреляция между отзывами пользователей и продажами ',\n",
    "              name_of_platform.upper(), ': Умеренная', round(correl,3))\n",
    "    if 0.7 >= abs(correl) >= 0.5:\n",
    "        print('Корреляция между отзывами пользователей и продажами ',\n",
    "              name_of_platform.upper(), ': Высокая', round(correl,3))\n",
    "    if 0.9 >= abs(correl) >= 0.7:\n",
    "        print('Корреляция между отзывами пользователей и продажами ',\n",
    "              name_of_platform.upper(), ': Весьма высокая', round(correl,3))\n",
    "    if 1 >= abs(correl) >= 0.9:\n",
    "        print('Корреляция между отзывами пользователей и продажами ',\n",
    "              name_of_platform.upper(), ': Сильная', round(correl,3))"
   ]
  },
  {
   "cell_type": "markdown",
   "metadata": {},
   "source": [
    "Теперь с помощью цикла выведем графики:"
   ]
  },
  {
   "cell_type": "code",
   "execution_count": 36,
   "metadata": {},
   "outputs": [
    {
     "data": {
      "image/png": "[encoded data removed]",
      "text/plain": [
       "<Figure size 1080x360 with 2 Axes>"
      ]
     },
     "metadata": {
      "needs_background": "light"
     },
     "output_type": "display_data"
    },
    {
     "name": "stdout",
     "output_type": "stream",
     "text": [
      "Корреляция между отзывами критиков и игровой платформой  PS4 : Умеренная 0.407\n",
      "Корреляция между отзывами пользователей и продажами  PS4 : Слабая -0.032\n"
     ]
    },
    {
     "data": {
      "image/png": "[encoded data removed]",
      "text/plain": [
       "<Figure size 1080x360 with 2 Axes>"
      ]
     },
     "metadata": {
      "needs_background": "light"
     },
     "output_type": "display_data"
    },
    {
     "name": "stdout",
     "output_type": "stream",
     "text": [
      "Корреляция между отзывами критиков и игровой платформой  XONE : Умеренная 0.417\n",
      "Корреляция между отзывами пользователей и продажами  XONE : Слабая -0.069\n"
     ]
    },
    {
     "data": {
      "image/png": "[encoded data removed]",
      "text/plain": [
       "<Figure size 1080x360 with 2 Axes>"
      ]
     },
     "metadata": {
      "needs_background": "light"
     },
     "output_type": "display_data"
    },
    {
     "name": "stdout",
     "output_type": "stream",
     "text": [
      "Корреляция между отзывами критиков и игровой платформой  PSV : Слабая 0.094\n",
      "Корреляция между отзывами пользователей и продажами  PSV : Слабая -0.004\n"
     ]
    },
    {
     "data": {
      "image/png": "[encoded data removed]",
      "text/plain": [
       "<Figure size 1080x360 with 2 Axes>"
      ]
     },
     "metadata": {
      "needs_background": "light"
     },
     "output_type": "display_data"
    },
    {
     "name": "stdout",
     "output_type": "stream",
     "text": [
      "Корреляция между отзывами критиков и игровой платформой  PC : Слабая 0.237\n",
      "Корреляция между отзывами пользователей и продажами  PC : Слабая -0.122\n"
     ]
    },
    {
     "data": {
      "image/png": "[encoded data removed]",
      "text/plain": [
       "<Figure size 1080x360 with 2 Axes>"
      ]
     },
     "metadata": {
      "needs_background": "light"
     },
     "output_type": "display_data"
    },
    {
     "name": "stdout",
     "output_type": "stream",
     "text": [
      "Корреляция между отзывами критиков и игровой платформой  3DS : Умеренная 0.321\n",
      "Корреляция между отзывами пользователей и продажами  3DS : Слабая 0.198\n"
     ]
    }
   ],
   "source": [
    "for platform in leaders:\n",
    "    other_platform_matrix(platform)"
   ]
  },
  {
   "cell_type": "markdown",
   "metadata": {},
   "source": [
    "**Вывод** По всем остальным платформам также можно сказать, что:\n",
    "- оценка критиков умеренно влияет на продажи платформ PS4, XOne и 3DS\n",
    "- оценки пользователей очень слабо влияют на продажи PS4, XOne и 3DS\n",
    "- оценки критиков, как и пользователей очень слабо влияют на продажи таких платформ, как PSV и PC\n",
    "\n",
    "### Общее распределение игр по жанрам\n",
    "\n",
    "Отфильтруем таблицу топ-5 по жанрам:"
   ]
  },
  {
   "cell_type": "code",
   "execution_count": 37,
   "metadata": {
    "scrolled": true
   },
   "outputs": [
    {
     "data": {
      "text/html": [
       "<div>\n",
       "<style scoped>\n",
       "    .dataframe tbody tr th:only-of-type {\n",
       "        vertical-align: middle;\n",
       "    }\n",
       "\n",
       "    .dataframe tbody tr th {\n",
       "        vertical-align: top;\n",
       "    }\n",
       "\n",
       "    .dataframe thead th {\n",
       "        text-align: right;\n",
       "    }\n",
       "</style>\n",
       "<table border=\"1\" class=\"dataframe\">\n",
       "  <thead>\n",
       "    <tr style=\"text-align: right;\">\n",
       "      <th>year_of_release</th>\n",
       "      <th>2012</th>\n",
       "      <th>2013</th>\n",
       "      <th>2014</th>\n",
       "      <th>2015</th>\n",
       "      <th>2016</th>\n",
       "      <th>All</th>\n",
       "    </tr>\n",
       "    <tr>\n",
       "      <th>genre</th>\n",
       "      <th></th>\n",
       "      <th></th>\n",
       "      <th></th>\n",
       "      <th></th>\n",
       "      <th></th>\n",
       "      <th></th>\n",
       "    </tr>\n",
       "  </thead>\n",
       "  <tbody>\n",
       "    <tr>\n",
       "      <td>All</td>\n",
       "      <td>90.77</td>\n",
       "      <td>124.49</td>\n",
       "      <td>223.01</td>\n",
       "      <td>221.59</td>\n",
       "      <td>120.04</td>\n",
       "      <td>779.90</td>\n",
       "    </tr>\n",
       "    <tr>\n",
       "      <td>Action</td>\n",
       "      <td>23.94</td>\n",
       "      <td>26.88</td>\n",
       "      <td>69.59</td>\n",
       "      <td>61.14</td>\n",
       "      <td>26.82</td>\n",
       "      <td>208.37</td>\n",
       "    </tr>\n",
       "    <tr>\n",
       "      <td>Shooter</td>\n",
       "      <td>5.40</td>\n",
       "      <td>19.95</td>\n",
       "      <td>44.22</td>\n",
       "      <td>58.27</td>\n",
       "      <td>37.79</td>\n",
       "      <td>165.63</td>\n",
       "    </tr>\n",
       "    <tr>\n",
       "      <td>Role-Playing</td>\n",
       "      <td>22.53</td>\n",
       "      <td>31.48</td>\n",
       "      <td>37.46</td>\n",
       "      <td>35.77</td>\n",
       "      <td>17.30</td>\n",
       "      <td>144.54</td>\n",
       "    </tr>\n",
       "    <tr>\n",
       "      <td>Sports</td>\n",
       "      <td>4.84</td>\n",
       "      <td>11.07</td>\n",
       "      <td>25.66</td>\n",
       "      <td>30.27</td>\n",
       "      <td>21.21</td>\n",
       "      <td>93.05</td>\n",
       "    </tr>\n",
       "    <tr>\n",
       "      <td>Simulation</td>\n",
       "      <td>11.51</td>\n",
       "      <td>7.28</td>\n",
       "      <td>5.51</td>\n",
       "      <td>4.93</td>\n",
       "      <td>1.89</td>\n",
       "      <td>31.12</td>\n",
       "    </tr>\n",
       "    <tr>\n",
       "      <td>Platform</td>\n",
       "      <td>12.18</td>\n",
       "      <td>7.68</td>\n",
       "      <td>6.63</td>\n",
       "      <td>0.84</td>\n",
       "      <td>2.80</td>\n",
       "      <td>30.13</td>\n",
       "    </tr>\n",
       "    <tr>\n",
       "      <td>Misc</td>\n",
       "      <td>2.84</td>\n",
       "      <td>5.44</td>\n",
       "      <td>13.71</td>\n",
       "      <td>6.74</td>\n",
       "      <td>1.39</td>\n",
       "      <td>30.12</td>\n",
       "    </tr>\n",
       "    <tr>\n",
       "      <td>Racing</td>\n",
       "      <td>2.65</td>\n",
       "      <td>5.21</td>\n",
       "      <td>7.04</td>\n",
       "      <td>7.96</td>\n",
       "      <td>2.79</td>\n",
       "      <td>25.65</td>\n",
       "    </tr>\n",
       "    <tr>\n",
       "      <td>Fighting</td>\n",
       "      <td>1.29</td>\n",
       "      <td>1.81</td>\n",
       "      <td>8.40</td>\n",
       "      <td>7.08</td>\n",
       "      <td>3.31</td>\n",
       "      <td>21.89</td>\n",
       "    </tr>\n",
       "    <tr>\n",
       "      <td>Adventure</td>\n",
       "      <td>1.67</td>\n",
       "      <td>3.04</td>\n",
       "      <td>3.63</td>\n",
       "      <td>6.04</td>\n",
       "      <td>3.60</td>\n",
       "      <td>17.98</td>\n",
       "    </tr>\n",
       "    <tr>\n",
       "      <td>Strategy</td>\n",
       "      <td>0.96</td>\n",
       "      <td>3.79</td>\n",
       "      <td>0.92</td>\n",
       "      <td>1.85</td>\n",
       "      <td>1.13</td>\n",
       "      <td>8.65</td>\n",
       "    </tr>\n",
       "    <tr>\n",
       "      <td>Puzzle</td>\n",
       "      <td>0.96</td>\n",
       "      <td>0.86</td>\n",
       "      <td>0.24</td>\n",
       "      <td>0.70</td>\n",
       "      <td>0.01</td>\n",
       "      <td>2.77</td>\n",
       "    </tr>\n",
       "  </tbody>\n",
       "</table>\n",
       "</div>"
      ],
      "text/plain": [
       "year_of_release   2012    2013    2014    2015    2016     All\n",
       "genre                                                         \n",
       "All              90.77  124.49  223.01  221.59  120.04  779.90\n",
       "Action           23.94   26.88   69.59   61.14   26.82  208.37\n",
       "Shooter           5.40   19.95   44.22   58.27   37.79  165.63\n",
       "Role-Playing     22.53   31.48   37.46   35.77   17.30  144.54\n",
       "Sports            4.84   11.07   25.66   30.27   21.21   93.05\n",
       "Simulation       11.51    7.28    5.51    4.93    1.89   31.12\n",
       "Platform         12.18    7.68    6.63    0.84    2.80   30.13\n",
       "Misc              2.84    5.44   13.71    6.74    1.39   30.12\n",
       "Racing            2.65    5.21    7.04    7.96    2.79   25.65\n",
       "Fighting          1.29    1.81    8.40    7.08    3.31   21.89\n",
       "Adventure         1.67    3.04    3.63    6.04    3.60   17.98\n",
       "Strategy          0.96    3.79    0.92    1.85    1.13    8.65\n",
       "Puzzle            0.96    0.86    0.24    0.70    0.01    2.77"
      ]
     },
     "execution_count": 37,
     "metadata": {},
     "output_type": "execute_result"
    }
   ],
   "source": [
    "top_5.pivot_table(index='genre',\n",
    "                  columns='year_of_release',\n",
    "                  values='tot_sales',\n",
    "                  aggfunc='sum',\n",
    "                  margins=True,\n",
    "                  margins_name=\"All\").sort_values(\n",
    "    by='All', ascending=False)"
   ]
  },
  {
   "cell_type": "markdown",
   "metadata": {},
   "source": [
    "- самые популярные жанры \"экшн\" и \"стрелялки\"\n",
    "- самый не популярный - \"головоломки\"\n",
    "- также достаточно популярны \"ролевые\" игры и \"спорт\"\n",
    "- стабильно на низком уровне жанры: \"гонки\", \"драки\", \"приключения\" и \"стратегии\""
   ]
  },
  {
   "cell_type": "code",
   "execution_count": 38,
   "metadata": {},
   "outputs": [
    {
     "data": {
      "image/png": "[encoded data removed]",
      "text/plain": [
       "<Figure size 1296x1080 with 1 Axes>"
      ]
     },
     "metadata": {
      "needs_background": "light"
     },
     "output_type": "display_data"
    }
   ],
   "source": [
    "h = top_5.pivot_table(index='genre',\n",
    "                  columns='year_of_release',\n",
    "                  values='tot_sales',\n",
    "                  aggfunc='sum')\n",
    "\n",
    "plt.figure(figsize=(18,15))\n",
    "for i in range(h.shape[0]):\n",
    "    plt.plot(h.iloc[i])\n",
    "plt.legend(h.index, bbox_to_anchor=(1.33, 1))\n",
    "plt.xticks(ticks=[2012, 2013, 2014, 2015, 2016])\n",
    "plt.grid()\n",
    "plt.title(\"Продажи по жанрам 5 потенциально прибыльных платформ\");"
   ]
  },
  {
   "cell_type": "code",
   "execution_count": 39,
   "metadata": {},
   "outputs": [
    {
     "data": {
      "text/html": [
       "<div>\n",
       "<style scoped>\n",
       "    .dataframe tbody tr th:only-of-type {\n",
       "        vertical-align: middle;\n",
       "    }\n",
       "\n",
       "    .dataframe tbody tr th {\n",
       "        vertical-align: top;\n",
       "    }\n",
       "\n",
       "    .dataframe thead th {\n",
       "        text-align: right;\n",
       "    }\n",
       "</style>\n",
       "<table border=\"1\" class=\"dataframe\">\n",
       "  <thead>\n",
       "    <tr style=\"text-align: right;\">\n",
       "      <th>year_of_release</th>\n",
       "      <th>2012</th>\n",
       "      <th>2013</th>\n",
       "      <th>2014</th>\n",
       "      <th>2015</th>\n",
       "      <th>2016</th>\n",
       "    </tr>\n",
       "    <tr>\n",
       "      <th>genre</th>\n",
       "      <th></th>\n",
       "      <th></th>\n",
       "      <th></th>\n",
       "      <th></th>\n",
       "      <th></th>\n",
       "    </tr>\n",
       "  </thead>\n",
       "  <tbody>\n",
       "    <tr>\n",
       "      <td>Action</td>\n",
       "      <td>23.94</td>\n",
       "      <td>26.88</td>\n",
       "      <td>69.59</td>\n",
       "      <td>61.14</td>\n",
       "      <td>26.82</td>\n",
       "    </tr>\n",
       "    <tr>\n",
       "      <td>Adventure</td>\n",
       "      <td>1.67</td>\n",
       "      <td>3.04</td>\n",
       "      <td>3.63</td>\n",
       "      <td>6.04</td>\n",
       "      <td>3.60</td>\n",
       "    </tr>\n",
       "    <tr>\n",
       "      <td>Fighting</td>\n",
       "      <td>1.29</td>\n",
       "      <td>1.81</td>\n",
       "      <td>8.40</td>\n",
       "      <td>7.08</td>\n",
       "      <td>3.31</td>\n",
       "    </tr>\n",
       "    <tr>\n",
       "      <td>Misc</td>\n",
       "      <td>2.84</td>\n",
       "      <td>5.44</td>\n",
       "      <td>13.71</td>\n",
       "      <td>6.74</td>\n",
       "      <td>1.39</td>\n",
       "    </tr>\n",
       "    <tr>\n",
       "      <td>Platform</td>\n",
       "      <td>12.18</td>\n",
       "      <td>7.68</td>\n",
       "      <td>6.63</td>\n",
       "      <td>0.84</td>\n",
       "      <td>2.80</td>\n",
       "    </tr>\n",
       "    <tr>\n",
       "      <td>Puzzle</td>\n",
       "      <td>0.96</td>\n",
       "      <td>0.86</td>\n",
       "      <td>0.24</td>\n",
       "      <td>0.70</td>\n",
       "      <td>0.01</td>\n",
       "    </tr>\n",
       "    <tr>\n",
       "      <td>Racing</td>\n",
       "      <td>2.65</td>\n",
       "      <td>5.21</td>\n",
       "      <td>7.04</td>\n",
       "      <td>7.96</td>\n",
       "      <td>2.79</td>\n",
       "    </tr>\n",
       "    <tr>\n",
       "      <td>Role-Playing</td>\n",
       "      <td>22.53</td>\n",
       "      <td>31.48</td>\n",
       "      <td>37.46</td>\n",
       "      <td>35.77</td>\n",
       "      <td>17.30</td>\n",
       "    </tr>\n",
       "    <tr>\n",
       "      <td>Shooter</td>\n",
       "      <td>5.40</td>\n",
       "      <td>19.95</td>\n",
       "      <td>44.22</td>\n",
       "      <td>58.27</td>\n",
       "      <td>37.79</td>\n",
       "    </tr>\n",
       "    <tr>\n",
       "      <td>Simulation</td>\n",
       "      <td>11.51</td>\n",
       "      <td>7.28</td>\n",
       "      <td>5.51</td>\n",
       "      <td>4.93</td>\n",
       "      <td>1.89</td>\n",
       "    </tr>\n",
       "    <tr>\n",
       "      <td>Sports</td>\n",
       "      <td>4.84</td>\n",
       "      <td>11.07</td>\n",
       "      <td>25.66</td>\n",
       "      <td>30.27</td>\n",
       "      <td>21.21</td>\n",
       "    </tr>\n",
       "    <tr>\n",
       "      <td>Strategy</td>\n",
       "      <td>0.96</td>\n",
       "      <td>3.79</td>\n",
       "      <td>0.92</td>\n",
       "      <td>1.85</td>\n",
       "      <td>1.13</td>\n",
       "    </tr>\n",
       "  </tbody>\n",
       "</table>\n",
       "</div>"
      ],
      "text/plain": [
       "year_of_release   2012   2013   2014   2015   2016\n",
       "genre                                             \n",
       "Action           23.94  26.88  69.59  61.14  26.82\n",
       "Adventure         1.67   3.04   3.63   6.04   3.60\n",
       "Fighting          1.29   1.81   8.40   7.08   3.31\n",
       "Misc              2.84   5.44  13.71   6.74   1.39\n",
       "Platform         12.18   7.68   6.63   0.84   2.80\n",
       "Puzzle            0.96   0.86   0.24   0.70   0.01\n",
       "Racing            2.65   5.21   7.04   7.96   2.79\n",
       "Role-Playing     22.53  31.48  37.46  35.77  17.30\n",
       "Shooter           5.40  19.95  44.22  58.27  37.79\n",
       "Simulation       11.51   7.28   5.51   4.93   1.89\n",
       "Sports            4.84  11.07  25.66  30.27  21.21\n",
       "Strategy          0.96   3.79   0.92   1.85   1.13"
      ]
     },
     "execution_count": 39,
     "metadata": {},
     "output_type": "execute_result"
    }
   ],
   "source": [
    "h"
   ]
  },
  {
   "cell_type": "markdown",
   "metadata": {},
   "source": [
    "## Портрет пользователя каждого региона\n",
    "\n",
    "Напишем функцию построения графиков для популярных жанров и платформ по регионам:"
   ]
  },
  {
   "cell_type": "code",
   "execution_count": 40,
   "metadata": {},
   "outputs": [],
   "source": [
    "def diag_plot (data, column, region):\n",
    "    region_data = top_5.groupby([column])[region].sum().sort_values(ascending=False).head()\n",
    "    data = region_data\n",
    "    \n",
    "    data.plot(y=column, kind='bar', figsize=(15,5),\n",
    "              color=['red', 'steelblue', 'violet', 'lightgreen', 'lightblue'],\n",
    "              edgecolor='black'\n",
    "             )\n",
    "\n",
    "    \n",
    "    plt.title('Распределение по продажам')\n",
    "    plt.xticks(rotation=0)\n",
    "    plt.ylabel('Продажи')\n",
    "    plt.xlabel('')\n",
    "    plt.show()"
   ]
  },
  {
   "cell_type": "markdown",
   "metadata": {},
   "source": [
    "### Самые популярные платформы (топ-5)\n",
    "\n",
    "1. Регион \"Северная Америка\""
   ]
  },
  {
   "cell_type": "code",
   "execution_count": 41,
   "metadata": {
    "scrolled": true
   },
   "outputs": [
    {
     "data": {
      "image/png": "[encoded data removed]",
      "text/plain": [
       "<Figure size 1080x360 with 1 Axes>"
      ]
     },
     "metadata": {
      "needs_background": "light"
     },
     "output_type": "display_data"
    }
   ],
   "source": [
    "diag_plot(top_5, 'platform', 'na_sales')"
   ]
  },
  {
   "cell_type": "markdown",
   "metadata": {},
   "source": [
    "- Самая популярная в Сев. Америке платформа - PS4\n",
    "- Меньше всех популярна - PSV\n",
    "\n",
    "2. Регион \"Европа\""
   ]
  },
  {
   "cell_type": "code",
   "execution_count": 42,
   "metadata": {},
   "outputs": [
    {
     "data": {
      "image/png": "[encoded data removed]",
      "text/plain": [
       "<Figure size 1080x360 with 1 Axes>"
      ]
     },
     "metadata": {
      "needs_background": "light"
     },
     "output_type": "display_data"
    }
   ],
   "source": [
    "diag_plot(top_5, 'platform', 'eu_sales')"
   ]
  },
  {
   "cell_type": "markdown",
   "metadata": {},
   "source": [
    "- яркий лидер среди платформ - PS4\n",
    "- примерно одинаковый уровень у XOne, PC и 3DS\n",
    "- и в самом конце снова - PSV\n",
    "\n",
    "3. Регион \"Япония\""
   ]
  },
  {
   "cell_type": "code",
   "execution_count": 43,
   "metadata": {},
   "outputs": [
    {
     "data": {
      "image/png": "[encoded data removed]",
      "text/plain": [
       "<Figure size 1080x360 with 1 Axes>"
      ]
     },
     "metadata": {
      "needs_background": "light"
     },
     "output_type": "display_data"
    }
   ],
   "source": [
    "diag_plot(top_5, 'platform', 'jp_sales')"
   ]
  },
  {
   "cell_type": "markdown",
   "metadata": {},
   "source": [
    "- Безусловный лидер платформа 3DS\n",
    "- Более менее значимые позиции занимают PSV и PS4\n",
    "- В хвосте XOne\n",
    "- Игры на PC, судя по всему, в Японии вообще не популярны\n",
    "\n",
    "### Самые популярные жанры (топ-5)\n",
    "\n",
    "1. Регион \"Северная Америка\""
   ]
  },
  {
   "cell_type": "code",
   "execution_count": 44,
   "metadata": {},
   "outputs": [
    {
     "data": {
      "image/png": "[encoded data removed]",
      "text/plain": [
       "<Figure size 1080x360 with 1 Axes>"
      ]
     },
     "metadata": {
      "needs_background": "light"
     },
     "output_type": "display_data"
    }
   ],
   "source": [
    "diag_plot(top_5, 'genre', 'na_sales')"
   ]
  },
  {
   "cell_type": "markdown",
   "metadata": {},
   "source": [
    "- Самые популярные жанры в Сев. Америке - \"экшн\" и \"шутер\"\n",
    "- Самый непопулярный жанр из топ 5 - \"платформенные\"\n",
    "\n",
    "2. Регион \"Европа\""
   ]
  },
  {
   "cell_type": "code",
   "execution_count": 45,
   "metadata": {},
   "outputs": [
    {
     "data": {
      "image/png": "[encoded data removed]",
      "text/plain": [
       "<Figure size 1080x360 with 1 Axes>"
      ]
     },
     "metadata": {
      "needs_background": "light"
     },
     "output_type": "display_data"
    }
   ],
   "source": [
    "diag_plot(top_5, 'genre', 'eu_sales')"
   ]
  },
  {
   "cell_type": "markdown",
   "metadata": {},
   "source": [
    "- Единственный лидер \"экшн\"\n",
    "- В отстающих в этот раз \"гонки\"\n",
    "\n",
    "3. Регион \"Япония\""
   ]
  },
  {
   "cell_type": "code",
   "execution_count": 46,
   "metadata": {
    "scrolled": false
   },
   "outputs": [
    {
     "data": {
      "image/png": "[encoded data removed]",
      "text/plain": [
       "<Figure size 1080x360 with 1 Axes>"
      ]
     },
     "metadata": {
      "needs_background": "light"
     },
     "output_type": "display_data"
    }
   ],
   "source": [
    "diag_plot(top_5, 'genre', 'jp_sales')"
   ]
  },
  {
   "cell_type": "markdown",
   "metadata": {},
   "source": [
    "- В жанрах лидируют \"ролевые\" игры\n",
    "- Несколько отстает жанр \"экшн\"\n",
    "- Примерно на одном уровне популярности: \"симуляторы\", \"приключения\" и \"разное\""
   ]
  },
  {
   "cell_type": "markdown",
   "metadata": {},
   "source": [
    "### Влияние рейтинга ESRB на продажи\n",
    "\n",
    "1. Северная Америка"
   ]
  },
  {
   "cell_type": "code",
   "execution_count": 47,
   "metadata": {
    "scrolled": true
   },
   "outputs": [
    {
     "data": {
      "image/png": "[encoded data removed]",
      "text/plain": [
       "<Figure size 1080x360 with 1 Axes>"
      ]
     },
     "metadata": {
      "needs_background": "light"
     },
     "output_type": "display_data"
    }
   ],
   "source": [
    "diag_plot(top_5, 'rating', 'na_sales')"
   ]
  },
  {
   "cell_type": "markdown",
   "metadata": {},
   "source": [
    "2. Европа"
   ]
  },
  {
   "cell_type": "code",
   "execution_count": 48,
   "metadata": {},
   "outputs": [
    {
     "data": {
      "image/png": "[encoded data removed]",
      "text/plain": [
       "<Figure size 1080x360 with 1 Axes>"
      ]
     },
     "metadata": {
      "needs_background": "light"
     },
     "output_type": "display_data"
    }
   ],
   "source": [
    "diag_plot(top_5, 'rating', 'eu_sales')"
   ]
  },
  {
   "cell_type": "markdown",
   "metadata": {},
   "source": [
    "3. Япония"
   ]
  },
  {
   "cell_type": "code",
   "execution_count": 49,
   "metadata": {},
   "outputs": [
    {
     "data": {
      "image/png": "[encoded data removed]",
      "text/plain": [
       "<Figure size 1080x360 with 1 Axes>"
      ]
     },
     "metadata": {
      "needs_background": "light"
     },
     "output_type": "display_data"
    }
   ],
   "source": [
    "diag_plot(top_5, 'rating', 'jp_sales')"
   ]
  },
  {
   "cell_type": "markdown",
   "metadata": {},
   "source": [
    "- судя по всему в Европе и Америке пользователи больше любят игры 18+\n",
    "- на втором месте идут игры 6+\n",
    "- завершают линейку игры для подростков и 10+\n",
    "- в Японии пользователи снова не похожи на западных - самые популярные игры 6+\n",
    "- на втором месте подростковые игры\n",
    "- а лидеры Запада в Японии (18+) аж на 3ем месте по продажам\n",
    "- завершают рейтинг игры 10+"
   ]
  },
  {
   "cell_type": "markdown",
   "metadata": {},
   "source": [
    "**Вывод:**\n",
    "- Европа и Америка похожи в своей любви к PS4 и жанру \"экшн\"\n",
    "- В плане предпочтения платформ в целом, можно сказать, что у пользователей из Америки и Европы вкусы очень похожи\n",
    "- Также вкусы Америки и Европы сходятся и в желании \"пострелять\"\n",
    "- Можно отметить довольно большой интерес пользователей этих регионов и к жанрам \"ролевые\" и \"спорт\"\n",
    "- В хвосте топ 5 платформ у американских пользователей жанр \"платформенные\", а у европейских \"гонки\"\n",
    "- Вкусе японских пользователей разительно отличаются от остальных - лидер 3DS\n",
    "- Более менее значимые позиции занимают PSV и PS4, а вот PC не входит в топ 5\n",
    "- Жанры тоже отличаются от пользователей из Европы и Америки - самый любимый - \"ролевые\"\n",
    "- А фаворит запада - \"экшн\" гораздо менее любим\n",
    "- Примерно на одном уровне популярности: \"симуляторы\", \"приключения\" и \"разное\" - чем также отличается от западных пользователей\n",
    "- В Европе и Америке пользователи больше любят игры 18+\n",
    "- На втором месте идут игры 6+\n",
    "- В Японии пользователи не похожи на западных - самые популярные игры 6+\n",
    "- на втором месте подростковые игры\n",
    "- а лидеры Запада в Японии (18+) на 3ем месте по продажам"
   ]
  },
  {
   "cell_type": "markdown",
   "metadata": {},
   "source": [
    "## Гипотезы"
   ]
  },
  {
   "cell_type": "markdown",
   "metadata": {},
   "source": [
    "### Средние пользовательские рейтинги платформ\n",
    "\n",
    ">Средние пользовательские рейтинги платформ Xbox One и PC одинаковые\n",
    "\n",
    "Сформулируем гипотезы:\n",
    "\n",
    "Нулевая гипотеза H₀: Средние пользовательские рейтинги платформ Xbox One и PC одинаковые;\n",
    "Альтернативная гипотеза H₁: Средние пользовательские рейтинги платформ Xbox One и PC различаются"
   ]
  },
  {
   "cell_type": "code",
   "execution_count": 50,
   "metadata": {},
   "outputs": [
    {
     "name": "stdout",
     "output_type": "stream",
     "text": [
      "Средний рейтинг пользователя для xbox платформ 6.521\n",
      "Средний рейтинг пользователя для PC платформ 6.429\n"
     ]
    }
   ],
   "source": [
    "xone_hyp = top_5[top_5['platform']=='XOne']['user_score']\n",
    "pc_hyp = top_5[top_5['platform']=='PC']['user_score']\n",
    "\n",
    "print('Средний рейтинг пользователя для xbox платформ',\n",
    "      round(xone_hyp.mean(), 3))\n",
    "print('Средний рейтинг пользователя для PC платформ',\n",
    "      round(pc_hyp.mean(), 3))"
   ]
  },
  {
   "cell_type": "markdown",
   "metadata": {},
   "source": [
    "Выполним проверку гипотезы. Будем использовать метод ttest_ind"
   ]
  },
  {
   "cell_type": "code",
   "execution_count": 51,
   "metadata": {},
   "outputs": [
    {
     "name": "stdout",
     "output_type": "stream",
     "text": [
      "p-значение: 0.549\n",
      "Не получилось отвергнуть нулевую гипотезу\n"
     ]
    }
   ],
   "source": [
    "alpha = 0.01\n",
    "\n",
    "results = st.ttest_ind(xone_hyp.dropna(), pc_hyp.dropna(), equal_var=False)\n",
    "\n",
    "print('p-значение:', round(results.pvalue, 3))\n",
    "\n",
    "\n",
    "if (results.pvalue < alpha):\n",
    "    print(\"Отвергаем нулевую гипотезу\")\n",
    "else:\n",
    "    print(\"Не получилось отвергнуть нулевую гипотезу\")"
   ]
  },
  {
   "cell_type": "markdown",
   "metadata": {},
   "source": [
    "**Вывод:** Значение p-value равно чуть меньше 55%. Таким образом, не получилось опровергнуть Нулевую гипотезу. То есть, с вероятностью в 55% можно получить различность рейтингов двух платформ"
   ]
  },
  {
   "cell_type": "markdown",
   "metadata": {},
   "source": [
    "### Средние пользовательские рейтинги жанров\n",
    "\n",
    ">Средние пользовательские рейтинги жанров Action и Sports разные\n",
    "\n",
    "Сформулируем нулевые гипотезы:\n",
    "\n",
    "Нулевая гипотеза H₀: Средние пользовательские рейтинги жанров Action и Sports одинаковые\n",
    "Альтернативная гипотеза H₁: Средние пользовательские рейтинги жанров Action и Sports различаются"
   ]
  },
  {
   "cell_type": "code",
   "execution_count": 52,
   "metadata": {},
   "outputs": [
    {
     "name": "stdout",
     "output_type": "stream",
     "text": [
      "Средняя оценка по жанру \"экшн\" 6.88\n",
      "Средняя оценка по жанру \"спорт\" 5.652\n"
     ]
    }
   ],
   "source": [
    "genre_action_hyp = top_5[top_5['genre']=='Action']['user_score']\n",
    "genre_sports_hyp = top_5[top_5['genre']=='Sports']['user_score']\n",
    "\n",
    "print('Средняя оценка по жанру \"экшн\"', round(genre_action_hyp.mean(), 3))\n",
    "print('Средняя оценка по жанру \"спорт\"', round(genre_sports_hyp.mean(), 3))"
   ]
  },
  {
   "cell_type": "markdown",
   "metadata": {},
   "source": [
    "Выполним проверку гипотезы. Будем использовать метод ttest_ind"
   ]
  },
  {
   "cell_type": "code",
   "execution_count": 53,
   "metadata": {},
   "outputs": [
    {
     "name": "stdout",
     "output_type": "stream",
     "text": [
      "p-значение: 0.0\n",
      "Отвергаем нулевую гипотезу\n"
     ]
    }
   ],
   "source": [
    "alpha = 0.01\n",
    "\n",
    "results = st.ttest_ind(genre_action_hyp.dropna(), genre_sports_hyp.dropna(), equal_var=False)\n",
    "\n",
    "print('p-значение:', round(results.pvalue, 3))\n",
    "\n",
    "\n",
    "if (results.pvalue < alpha):\n",
    "    print(\"Отвергаем нулевую гипотезу\")\n",
    "else:\n",
    "    print(\"Не получилось отвергнуть нулевую гипотезу\")"
   ]
  },
  {
   "cell_type": "markdown",
   "metadata": {},
   "source": [
    "**Вывод:** Получив p-value, мы отвергли Нулевую гипотезу. Таким образом, у нас практически нет вероятности получить одинаковые средние оценки по двум жанрам.\n",
    "\n",
    "**Вывод по проверке гипотез**\n",
    "\n",
    "Проверили гипотезы по ТЗ:\n",
    "\n",
    "Гипотеза: \"Средние пользовательские рейтинги платформ Xbox one и PC одинаковые\".\n",
    "- Нулевую гипотезу не удалось опровергнуть.  \n",
    "\n",
    "Гипотеза: \"Средние пользовательские рейтинги жанров Action и Sports разные\".\n",
    "- Отвергаем нулевую гипотезу."
   ]
  },
  {
   "cell_type": "markdown",
   "metadata": {},
   "source": [
    "## Общий вывод\n",
    "\n",
    "- Перед анализом данных, мы подготовили наши данные, привели к правильным данным столбцы, привели к нижнему регистру таблицы и сами названия колонок. Привели к правильным типам данных необходимые столбцы.\n",
    "- Сделали необходимые расчеты и добавили их в таблицу (суммарные продажи).\n",
    "- Выявили, что с 1980 по 2008. количество игр возрастало с 9 до пика в 1427 штук. В период 2009-2011гг. - количество игр было примерно на одном уровне (больше 1100 штук), однако с постепенным снижением. В 2012г. продажи упали почти в 2 раза (653 штуки) и до 2016г. включительно, медленно снижались до 502 штук в год - такой спад с 2012г может говорить о том, что в это время также начали развиваться игры на мобильных платформах.\n",
    "- За весь период консольных приставок самые популярные оказались: PS2, X360, PS3, также Wii и DS.\n",
    "- Определили, что в среднем срок жизни платформы около 7 лет, а самая долговечная платформа - это ПК, т.к меняются мощности компьютеров, а платформа, как таковая, остается неизменной. Также, обращает на себя внимание, что не сами платформы перестают существовать, а меняется количество выпускаемых к ним игр.\n",
    "- Исходя из тенденции снижения продаж в последние 5 лет, мы выбрали наиболее оптимальный период для проведения исследования с 2012 по 2016г включительно.\n",
    "- В ходе исследования выяснилось, что лидеры продаж - PS4 и XOne, PC немного отстает от консольных версий, что вероятно связано с необходимостью обновления аппаратной части компьтера, что явно дороже покупки консоли, также в топ 5 попали PSV и 3DS. В свою очередь представители старого поколения сильно сдают позиции - PSP, Wii, DS.\n",
    "- Удалось выявить, что оценка пользователей очень слабо влияет на продажи, а оценка критиков, в среднем, влияет на продажи умеренно.\n",
    "- По жанрам, в среднем, можно сказать, что самые популярные это \"экшн\" и \"стрелялки\", а самый не популярный - \"головоломки\". Также достаточно популярны \"ролевые\" игры и \"спорт\"; и стабильно на низком уровне жанры: \"гонки\", \"драки\", \"приключения\" и \"стратегии\".\n",
    "- В плане предпочтения платформ в целом, можно сказать, что у пользователей из Америки и Европы вкусы очень похожи, также как и в своей любви к жанрам \"экшн\" и \"пострелять\". Можно отметить довольно большой интерес пользователей этих регионов и к жанрам \"ролевые\" и \"спорт\". Завершают топ 5 платформ у американских пользователей жанр \"платформенные\", а у европейских \"гонки\".\n",
    "- Вкусы же японских пользователей отличаются от остальных их лидер 3DS. Более менее значимые позиции занимают PSV и PS4, а вот PC не входит в топ 5.\n",
    "- Любимые жанры тоже отличаются от пользователей из Европы и Америки - самый любимый - \"ролевые\". А фаворит запада - \"экшн\" гораздо менее любим. Примерно на одном уровне популярности: \"симуляторы\", \"приключения\" и \"разное\" - чем также японские пользователи отличается от западных.\n",
    "- В Европе и Америке пользователи больше любят игры 18+. На втором месте идут игры 6+. В Японии пользователи снова не похожи на западных - самые популярные игры у них 6+, на втором месте подростковые игры, а лидеры Запада в Японии (18+) на 3ем месте по продажам.\n",
    "- Проверили гипотезы по ТЗ: Гипотеза: \"Средние пользовательские рейтинги платформ Xbox one и PC одинаковые\". Нулевую гипотезу не удалось опровергнуть. Гипотеза: \"Средние пользовательские рейтинги жанров Action и Sports разные\". Отвергаем нулевую гипотезу.\n",
    "\n",
    "**Общий вывод:**\n",
    "\n",
    "- Исходя из всех данных предполагаем, что в Европе и Америке лучше всего продавать игры для таких приставок как PS4 (или XOne в Америке).\n",
    "- Жанры для западных пользователей необходимо выбирать \"экшн\" и \"шутер\", а сами игры с рейтингом \"18+\", тогда продажи будут значительно больше, чем если продавать другие игры.\n",
    "- Необходимо учитывать, что портрет пользователя из Японии отличается от западного, поэтому в этом регионе имеет смысл рекламировать игры для 3DS, а жанры выбирать \"ролевые\" или \"экшн\". Рейтинг здесь самый лояльный 6+."
   ]
  }
 ],
 "metadata": {
  "ExecuteTimeLog": [
   {
    "duration": 1310,
    "start_time": "2021-09-10T09:38:08.570Z"
   },
   {
    "duration": 242,
    "start_time": "2021-09-10T09:40:11.243Z"
   },
   {
    "duration": 42,
    "start_time": "2021-09-10T09:40:17.023Z"
   },
   {
    "duration": 13,
    "start_time": "2021-09-10T09:41:18.510Z"
   },
   {
    "duration": 18,
    "start_time": "2021-09-10T09:43:43.544Z"
   },
   {
    "duration": 32,
    "start_time": "2021-09-10T09:45:38.546Z"
   },
   {
    "duration": 207,
    "start_time": "2021-09-11T09:51:23.558Z"
   },
   {
    "duration": 1110,
    "start_time": "2021-09-11T09:51:30.510Z"
   },
   {
    "duration": 37,
    "start_time": "2021-09-11T09:51:31.621Z"
   },
   {
    "duration": 10,
    "start_time": "2021-09-11T09:51:31.660Z"
   },
   {
    "duration": 28,
    "start_time": "2021-09-11T09:51:31.671Z"
   },
   {
    "duration": 28,
    "start_time": "2021-09-11T09:51:31.701Z"
   },
   {
    "duration": 4,
    "start_time": "2021-09-11T09:52:32.619Z"
   },
   {
    "duration": 5,
    "start_time": "2021-09-11T09:52:44.283Z"
   },
   {
    "duration": 18,
    "start_time": "2021-09-11T09:56:47.889Z"
   },
   {
    "duration": 13,
    "start_time": "2021-09-11T09:58:24.909Z"
   },
   {
    "duration": 5,
    "start_time": "2021-09-11T10:12:33.495Z"
   },
   {
    "duration": 5,
    "start_time": "2021-09-11T10:12:39.663Z"
   },
   {
    "duration": 235,
    "start_time": "2021-09-11T10:12:43.479Z"
   },
   {
    "duration": 10,
    "start_time": "2021-09-11T10:14:54.149Z"
   },
   {
    "duration": 1073,
    "start_time": "2021-09-11T10:18:48.928Z"
   },
   {
    "duration": 7,
    "start_time": "2021-09-11T10:19:00.815Z"
   },
   {
    "duration": 172,
    "start_time": "2021-09-11T10:24:43.406Z"
   },
   {
    "duration": 6,
    "start_time": "2021-09-11T10:25:01.639Z"
   },
   {
    "duration": 3,
    "start_time": "2021-09-11T10:25:07.101Z"
   },
   {
    "duration": 38,
    "start_time": "2021-09-11T10:25:07.106Z"
   },
   {
    "duration": 10,
    "start_time": "2021-09-11T10:25:07.146Z"
   },
   {
    "duration": 17,
    "start_time": "2021-09-11T10:25:07.158Z"
   },
   {
    "duration": 4267,
    "start_time": "2021-09-11T10:25:07.357Z"
   },
   {
    "duration": -1016,
    "start_time": "2021-09-11T10:25:12.642Z"
   },
   {
    "duration": -1017,
    "start_time": "2021-09-11T10:25:12.644Z"
   },
   {
    "duration": -1024,
    "start_time": "2021-09-11T10:25:12.652Z"
   },
   {
    "duration": -1026,
    "start_time": "2021-09-11T10:25:12.655Z"
   },
   {
    "duration": 3,
    "start_time": "2021-09-11T10:25:36.402Z"
   },
   {
    "duration": 38,
    "start_time": "2021-09-11T10:25:36.407Z"
   },
   {
    "duration": 8,
    "start_time": "2021-09-11T10:25:36.447Z"
   },
   {
    "duration": 12,
    "start_time": "2021-09-11T10:25:36.457Z"
   },
   {
    "duration": 8,
    "start_time": "2021-09-11T10:25:36.471Z"
   },
   {
    "duration": 9,
    "start_time": "2021-09-11T10:25:36.481Z"
   },
   {
    "duration": 5,
    "start_time": "2021-09-11T10:25:36.492Z"
   },
   {
    "duration": 8,
    "start_time": "2021-09-11T10:25:36.499Z"
   },
   {
    "duration": 10,
    "start_time": "2021-09-11T10:25:36.509Z"
   },
   {
    "duration": 4062,
    "start_time": "2021-09-11T10:25:54.594Z"
   },
   {
    "duration": 5,
    "start_time": "2021-09-11T10:26:42.449Z"
   },
   {
    "duration": 6,
    "start_time": "2021-09-11T10:27:18.502Z"
   },
   {
    "duration": 6,
    "start_time": "2021-09-11T10:27:32.710Z"
   },
   {
    "duration": 7,
    "start_time": "2021-09-11T10:28:05.865Z"
   },
   {
    "duration": 6,
    "start_time": "2021-09-11T10:28:16.771Z"
   },
   {
    "duration": -996,
    "start_time": "2021-09-11T10:28:39.991Z"
   },
   {
    "duration": 4169,
    "start_time": "2021-09-11T10:28:39.170Z"
   },
   {
    "duration": 7,
    "start_time": "2021-09-11T10:28:56.698Z"
   },
   {
    "duration": 61,
    "start_time": "2021-09-11T10:35:12.785Z"
   },
   {
    "duration": 3,
    "start_time": "2021-09-11T10:35:41.642Z"
   },
   {
    "duration": 50,
    "start_time": "2021-09-11T10:35:41.647Z"
   },
   {
    "duration": 9,
    "start_time": "2021-09-11T10:35:41.699Z"
   },
   {
    "duration": 23,
    "start_time": "2021-09-11T10:35:41.710Z"
   },
   {
    "duration": 15,
    "start_time": "2021-09-11T10:35:41.735Z"
   },
   {
    "duration": 12,
    "start_time": "2021-09-11T10:35:41.752Z"
   },
   {
    "duration": 16,
    "start_time": "2021-09-11T10:35:41.765Z"
   },
   {
    "duration": 15,
    "start_time": "2021-09-11T10:35:41.783Z"
   },
   {
    "duration": 62,
    "start_time": "2021-09-11T10:35:41.800Z"
   },
   {
    "duration": 56,
    "start_time": "2021-09-11T10:36:24.325Z"
   },
   {
    "duration": 56,
    "start_time": "2021-09-11T10:36:27.771Z"
   },
   {
    "duration": 52,
    "start_time": "2021-09-11T10:36:42.171Z"
   },
   {
    "duration": 6,
    "start_time": "2021-09-11T10:37:06.827Z"
   },
   {
    "duration": 6,
    "start_time": "2021-09-11T10:37:22.188Z"
   },
   {
    "duration": 17,
    "start_time": "2021-09-11T10:37:59.216Z"
   },
   {
    "duration": 3,
    "start_time": "2021-09-11T10:38:13.651Z"
   },
   {
    "duration": 41,
    "start_time": "2021-09-11T10:38:13.656Z"
   },
   {
    "duration": 9,
    "start_time": "2021-09-11T10:38:13.699Z"
   },
   {
    "duration": 20,
    "start_time": "2021-09-11T10:38:13.709Z"
   },
   {
    "duration": 7,
    "start_time": "2021-09-11T10:38:13.731Z"
   },
   {
    "duration": 8,
    "start_time": "2021-09-11T10:38:13.739Z"
   },
   {
    "duration": 9,
    "start_time": "2021-09-11T10:38:13.748Z"
   },
   {
    "duration": 29,
    "start_time": "2021-09-11T10:38:13.759Z"
   },
   {
    "duration": 6,
    "start_time": "2021-09-11T10:38:13.789Z"
   },
   {
    "duration": 3,
    "start_time": "2021-09-11T10:38:44.345Z"
   },
   {
    "duration": 41,
    "start_time": "2021-09-11T10:38:44.350Z"
   },
   {
    "duration": 9,
    "start_time": "2021-09-11T10:38:44.393Z"
   },
   {
    "duration": 14,
    "start_time": "2021-09-11T10:38:44.404Z"
   },
   {
    "duration": 8,
    "start_time": "2021-09-11T10:38:44.419Z"
   },
   {
    "duration": 9,
    "start_time": "2021-09-11T10:38:44.429Z"
   },
   {
    "duration": 8,
    "start_time": "2021-09-11T10:38:44.440Z"
   },
   {
    "duration": 36,
    "start_time": "2021-09-11T10:38:44.450Z"
   },
   {
    "duration": 12,
    "start_time": "2021-09-11T10:38:44.488Z"
   },
   {
    "duration": 1209,
    "start_time": "2021-09-11T10:51:16.002Z"
   },
   {
    "duration": 40,
    "start_time": "2021-09-11T10:51:17.212Z"
   },
   {
    "duration": 11,
    "start_time": "2021-09-11T10:51:17.254Z"
   },
   {
    "duration": 19,
    "start_time": "2021-09-11T10:51:17.267Z"
   },
   {
    "duration": 4,
    "start_time": "2021-09-11T10:51:17.288Z"
   },
   {
    "duration": 7,
    "start_time": "2021-09-11T10:51:17.294Z"
   },
   {
    "duration": 8,
    "start_time": "2021-09-11T10:51:17.302Z"
   },
   {
    "duration": 10,
    "start_time": "2021-09-11T10:51:17.312Z"
   },
   {
    "duration": 208,
    "start_time": "2021-09-11T10:52:03.761Z"
   },
   {
    "duration": 170,
    "start_time": "2021-09-11T10:52:24.448Z"
   },
   {
    "duration": 1097,
    "start_time": "2021-09-11T10:52:31.812Z"
   },
   {
    "duration": 38,
    "start_time": "2021-09-11T10:52:32.911Z"
   },
   {
    "duration": 10,
    "start_time": "2021-09-11T10:52:32.951Z"
   },
   {
    "duration": 22,
    "start_time": "2021-09-11T10:52:32.963Z"
   },
   {
    "duration": 4,
    "start_time": "2021-09-11T10:52:32.986Z"
   },
   {
    "duration": 6,
    "start_time": "2021-09-11T10:52:32.991Z"
   },
   {
    "duration": 8,
    "start_time": "2021-09-11T10:52:32.999Z"
   },
   {
    "duration": 12,
    "start_time": "2021-09-11T10:52:33.008Z"
   },
   {
    "duration": 207,
    "start_time": "2021-09-11T10:52:50.228Z"
   },
   {
    "duration": 1079,
    "start_time": "2021-09-11T10:53:13.108Z"
   },
   {
    "duration": 35,
    "start_time": "2021-09-11T10:53:14.189Z"
   },
   {
    "duration": 9,
    "start_time": "2021-09-11T10:53:14.226Z"
   },
   {
    "duration": 13,
    "start_time": "2021-09-11T10:53:14.237Z"
   },
   {
    "duration": 5,
    "start_time": "2021-09-11T10:53:14.252Z"
   },
   {
    "duration": 6,
    "start_time": "2021-09-11T10:53:14.258Z"
   },
   {
    "duration": 19,
    "start_time": "2021-09-11T10:53:14.266Z"
   },
   {
    "duration": 8,
    "start_time": "2021-09-11T10:53:14.287Z"
   },
   {
    "duration": 16,
    "start_time": "2021-09-11T10:53:14.297Z"
   },
   {
    "duration": 219,
    "start_time": "2021-09-11T10:54:01.588Z"
   },
   {
    "duration": 1067,
    "start_time": "2021-09-11T10:56:07.113Z"
   },
   {
    "duration": 35,
    "start_time": "2021-09-11T10:56:08.182Z"
   },
   {
    "duration": 10,
    "start_time": "2021-09-11T10:56:08.219Z"
   },
   {
    "duration": 13,
    "start_time": "2021-09-11T10:56:08.231Z"
   },
   {
    "duration": 5,
    "start_time": "2021-09-11T10:56:08.246Z"
   },
   {
    "duration": 12,
    "start_time": "2021-09-11T10:56:08.252Z"
   },
   {
    "duration": 19,
    "start_time": "2021-09-11T10:56:08.266Z"
   },
   {
    "duration": 9,
    "start_time": "2021-09-11T10:56:08.287Z"
   },
   {
    "duration": 4,
    "start_time": "2021-09-11T10:56:08.297Z"
   },
   {
    "duration": 3,
    "start_time": "2021-09-11T10:57:20.314Z"
   },
   {
    "duration": 204,
    "start_time": "2021-09-11T10:57:34.225Z"
   },
   {
    "duration": 1108,
    "start_time": "2021-09-11T10:59:19.576Z"
   },
   {
    "duration": 38,
    "start_time": "2021-09-11T10:59:20.686Z"
   },
   {
    "duration": 10,
    "start_time": "2021-09-11T10:59:20.726Z"
   },
   {
    "duration": 15,
    "start_time": "2021-09-11T10:59:20.738Z"
   },
   {
    "duration": 6,
    "start_time": "2021-09-11T10:59:20.755Z"
   },
   {
    "duration": 23,
    "start_time": "2021-09-11T10:59:20.763Z"
   },
   {
    "duration": 6,
    "start_time": "2021-09-11T10:59:20.788Z"
   },
   {
    "duration": 12,
    "start_time": "2021-09-11T10:59:20.796Z"
   },
   {
    "duration": 4,
    "start_time": "2021-09-11T10:59:20.810Z"
   },
   {
    "duration": 238,
    "start_time": "2021-09-11T10:59:20.816Z"
   },
   {
    "duration": -1055,
    "start_time": "2021-09-11T10:59:22.111Z"
   },
   {
    "duration": 12,
    "start_time": "2021-09-11T10:59:33.133Z"
   },
   {
    "duration": 12,
    "start_time": "2021-09-11T10:59:47.606Z"
   },
   {
    "duration": 16,
    "start_time": "2021-09-11T11:02:18.772Z"
   },
   {
    "duration": 554,
    "start_time": "2021-09-11T11:13:02.448Z"
   },
   {
    "duration": 14,
    "start_time": "2021-09-11T11:13:26.374Z"
   },
   {
    "duration": 3,
    "start_time": "2021-09-11T11:13:35.342Z"
   },
   {
    "duration": 48,
    "start_time": "2021-09-11T11:13:35.349Z"
   },
   {
    "duration": 9,
    "start_time": "2021-09-11T11:13:35.399Z"
   },
   {
    "duration": 12,
    "start_time": "2021-09-11T11:13:35.410Z"
   },
   {
    "duration": 11,
    "start_time": "2021-09-11T11:13:35.423Z"
   },
   {
    "duration": 8,
    "start_time": "2021-09-11T11:13:35.435Z"
   },
   {
    "duration": 9,
    "start_time": "2021-09-11T11:13:35.445Z"
   },
   {
    "duration": 34,
    "start_time": "2021-09-11T11:13:35.456Z"
   },
   {
    "duration": 14,
    "start_time": "2021-09-11T11:13:35.492Z"
   },
   {
    "duration": 12,
    "start_time": "2021-09-11T11:13:35.508Z"
   },
   {
    "duration": 185,
    "start_time": "2021-09-11T11:17:45.334Z"
   },
   {
    "duration": 12,
    "start_time": "2021-09-11T11:18:39.991Z"
   },
   {
    "duration": 15,
    "start_time": "2021-09-11T11:18:56.547Z"
   },
   {
    "duration": 13,
    "start_time": "2021-09-11T11:20:37.864Z"
   },
   {
    "duration": 14,
    "start_time": "2021-09-11T11:20:49.902Z"
   },
   {
    "duration": 13,
    "start_time": "2021-09-11T11:40:33.948Z"
   },
   {
    "duration": 11,
    "start_time": "2021-09-11T11:44:33.013Z"
   },
   {
    "duration": 16,
    "start_time": "2021-09-11T11:44:40.834Z"
   },
   {
    "duration": 17,
    "start_time": "2021-09-11T11:45:18.052Z"
   },
   {
    "duration": 19,
    "start_time": "2021-09-11T11:46:23.312Z"
   },
   {
    "duration": 18,
    "start_time": "2021-09-11T11:47:25.010Z"
   },
   {
    "duration": 12,
    "start_time": "2021-09-11T11:48:40.271Z"
   },
   {
    "duration": 12,
    "start_time": "2021-09-11T11:49:49.600Z"
   },
   {
    "duration": 16,
    "start_time": "2021-09-11T11:52:44.232Z"
   },
   {
    "duration": 24,
    "start_time": "2021-09-11T11:53:34.509Z"
   },
   {
    "duration": 18,
    "start_time": "2021-09-11T11:54:07.788Z"
   },
   {
    "duration": 17,
    "start_time": "2021-09-11T11:54:20.875Z"
   },
   {
    "duration": 20,
    "start_time": "2021-09-11T11:54:30.533Z"
   },
   {
    "duration": 1815,
    "start_time": "2021-09-13T08:33:02.477Z"
   },
   {
    "duration": 1814,
    "start_time": "2021-09-13T08:33:09.213Z"
   },
   {
    "duration": 47,
    "start_time": "2021-09-13T08:33:11.029Z"
   },
   {
    "duration": 15,
    "start_time": "2021-09-13T08:33:11.079Z"
   },
   {
    "duration": 23,
    "start_time": "2021-09-13T08:33:11.096Z"
   },
   {
    "duration": 5,
    "start_time": "2021-09-13T08:33:11.122Z"
   },
   {
    "duration": 7,
    "start_time": "2021-09-13T08:33:11.162Z"
   },
   {
    "duration": 15,
    "start_time": "2021-09-13T08:33:11.171Z"
   },
   {
    "duration": 15,
    "start_time": "2021-09-13T08:33:11.190Z"
   },
   {
    "duration": 57,
    "start_time": "2021-09-13T08:33:11.207Z"
   },
   {
    "duration": 23,
    "start_time": "2021-09-13T08:33:11.266Z"
   },
   {
    "duration": 23,
    "start_time": "2021-09-13T08:33:11.291Z"
   },
   {
    "duration": 664,
    "start_time": "2021-09-13T08:33:11.316Z"
   },
   {
    "duration": 8969,
    "start_time": "2021-09-13T08:34:43.400Z"
   },
   {
    "duration": 1955,
    "start_time": "2021-09-13T08:36:12.299Z"
   },
   {
    "duration": 1352,
    "start_time": "2021-09-13T08:39:27.634Z"
   },
   {
    "duration": 7792,
    "start_time": "2021-09-13T08:39:41.696Z"
   },
   {
    "duration": 1258,
    "start_time": "2021-09-13T08:42:42.536Z"
   },
   {
    "duration": 10,
    "start_time": "2021-09-13T08:44:42.121Z"
   },
   {
    "duration": 571,
    "start_time": "2021-09-13T08:49:26.540Z"
   },
   {
    "duration": 564,
    "start_time": "2021-09-13T08:49:42.362Z"
   },
   {
    "duration": 5,
    "start_time": "2021-09-13T08:49:45.663Z"
   },
   {
    "duration": 57,
    "start_time": "2021-09-13T08:49:45.671Z"
   },
   {
    "duration": 15,
    "start_time": "2021-09-13T08:49:45.732Z"
   },
   {
    "duration": 29,
    "start_time": "2021-09-13T08:49:45.750Z"
   },
   {
    "duration": 16,
    "start_time": "2021-09-13T08:49:45.782Z"
   },
   {
    "duration": 10,
    "start_time": "2021-09-13T08:49:45.801Z"
   },
   {
    "duration": 11,
    "start_time": "2021-09-13T08:49:45.813Z"
   },
   {
    "duration": 41,
    "start_time": "2021-09-13T08:49:45.826Z"
   },
   {
    "duration": 22,
    "start_time": "2021-09-13T08:49:45.870Z"
   },
   {
    "duration": 23,
    "start_time": "2021-09-13T08:49:45.895Z"
   },
   {
    "duration": 50,
    "start_time": "2021-09-13T08:49:45.921Z"
   },
   {
    "duration": 583,
    "start_time": "2021-09-13T08:49:45.973Z"
   },
   {
    "duration": 1253,
    "start_time": "2021-09-13T08:50:41.575Z"
   },
   {
    "duration": 2527,
    "start_time": "2021-09-13T09:00:04.973Z"
   },
   {
    "duration": 4,
    "start_time": "2021-09-13T09:00:10.760Z"
   },
   {
    "duration": 53,
    "start_time": "2021-09-13T09:00:10.767Z"
   },
   {
    "duration": 13,
    "start_time": "2021-09-13T09:00:10.823Z"
   },
   {
    "duration": 36,
    "start_time": "2021-09-13T09:00:10.838Z"
   },
   {
    "duration": 10,
    "start_time": "2021-09-13T09:00:10.877Z"
   },
   {
    "duration": 17,
    "start_time": "2021-09-13T09:00:10.889Z"
   },
   {
    "duration": 8,
    "start_time": "2021-09-13T09:00:10.908Z"
   },
   {
    "duration": 17,
    "start_time": "2021-09-13T09:00:10.919Z"
   },
   {
    "duration": 27,
    "start_time": "2021-09-13T09:00:10.940Z"
   },
   {
    "duration": 24,
    "start_time": "2021-09-13T09:00:10.970Z"
   },
   {
    "duration": 27,
    "start_time": "2021-09-13T09:00:10.997Z"
   },
   {
    "duration": 44,
    "start_time": "2021-09-13T09:00:11.026Z"
   },
   {
    "duration": 1258,
    "start_time": "2021-09-13T09:00:11.072Z"
   },
   {
    "duration": 11,
    "start_time": "2021-09-13T09:00:26.668Z"
   },
   {
    "duration": 1702,
    "start_time": "2021-09-13T09:07:58.342Z"
   },
   {
    "duration": 5,
    "start_time": "2021-09-13T09:09:22.474Z"
   },
   {
    "duration": 51,
    "start_time": "2021-09-13T09:09:22.482Z"
   },
   {
    "duration": 13,
    "start_time": "2021-09-13T09:09:22.535Z"
   },
   {
    "duration": 24,
    "start_time": "2021-09-13T09:09:22.551Z"
   },
   {
    "duration": 10,
    "start_time": "2021-09-13T09:09:22.577Z"
   },
   {
    "duration": 16,
    "start_time": "2021-09-13T09:09:22.589Z"
   },
   {
    "duration": 9,
    "start_time": "2021-09-13T09:09:22.608Z"
   },
   {
    "duration": 18,
    "start_time": "2021-09-13T09:09:22.619Z"
   },
   {
    "duration": 31,
    "start_time": "2021-09-13T09:09:22.641Z"
   },
   {
    "duration": 26,
    "start_time": "2021-09-13T09:09:22.675Z"
   },
   {
    "duration": 19,
    "start_time": "2021-09-13T09:09:22.703Z"
   },
   {
    "duration": 140,
    "start_time": "2021-09-13T09:09:22.724Z"
   },
   {
    "duration": 1598,
    "start_time": "2021-09-13T09:09:22.867Z"
   },
   {
    "duration": 1402,
    "start_time": "2021-09-13T09:11:11.041Z"
   },
   {
    "duration": 1398,
    "start_time": "2021-09-13T09:12:32.952Z"
   },
   {
    "duration": 1670,
    "start_time": "2021-09-13T09:12:54.575Z"
   },
   {
    "duration": 1727,
    "start_time": "2021-09-13T09:14:03.797Z"
   },
   {
    "duration": 1831,
    "start_time": "2021-09-13T09:14:21.892Z"
   },
   {
    "duration": 5,
    "start_time": "2021-09-13T09:20:08.234Z"
   },
   {
    "duration": 57,
    "start_time": "2021-09-13T09:20:08.241Z"
   },
   {
    "duration": 13,
    "start_time": "2021-09-13T09:20:08.301Z"
   },
   {
    "duration": 19,
    "start_time": "2021-09-13T09:20:08.318Z"
   },
   {
    "duration": 27,
    "start_time": "2021-09-13T09:20:08.340Z"
   },
   {
    "duration": 12,
    "start_time": "2021-09-13T09:20:08.369Z"
   },
   {
    "duration": 6,
    "start_time": "2021-09-13T09:20:08.383Z"
   },
   {
    "duration": 19,
    "start_time": "2021-09-13T09:20:08.391Z"
   },
   {
    "duration": 15,
    "start_time": "2021-09-13T09:20:08.413Z"
   },
   {
    "duration": 23,
    "start_time": "2021-09-13T09:20:08.462Z"
   },
   {
    "duration": 22,
    "start_time": "2021-09-13T09:20:08.487Z"
   },
   {
    "duration": 56,
    "start_time": "2021-09-13T09:20:08.512Z"
   },
   {
    "duration": 1886,
    "start_time": "2021-09-13T09:20:08.571Z"
   },
   {
    "duration": 1803,
    "start_time": "2021-09-13T09:20:33.281Z"
   },
   {
    "duration": 1773,
    "start_time": "2021-09-13T09:20:45.154Z"
   },
   {
    "duration": 1876,
    "start_time": "2021-09-13T09:24:32.343Z"
   },
   {
    "duration": 7739,
    "start_time": "2021-09-13T09:28:36.341Z"
   },
   {
    "duration": 9333,
    "start_time": "2021-09-13T09:29:15.994Z"
   },
   {
    "duration": 2597,
    "start_time": "2021-09-13T09:35:29.641Z"
   },
   {
    "duration": 5,
    "start_time": "2021-09-13T09:36:00.604Z"
   },
   {
    "duration": 57,
    "start_time": "2021-09-13T09:36:00.612Z"
   },
   {
    "duration": 15,
    "start_time": "2021-09-13T09:36:00.672Z"
   },
   {
    "duration": 48,
    "start_time": "2021-09-13T09:36:00.690Z"
   },
   {
    "duration": 31,
    "start_time": "2021-09-13T09:36:00.741Z"
   },
   {
    "duration": 27,
    "start_time": "2021-09-13T09:36:00.775Z"
   },
   {
    "duration": 25,
    "start_time": "2021-09-13T09:36:00.805Z"
   },
   {
    "duration": 25,
    "start_time": "2021-09-13T09:36:00.833Z"
   },
   {
    "duration": 26,
    "start_time": "2021-09-13T09:36:00.861Z"
   },
   {
    "duration": 37,
    "start_time": "2021-09-13T09:36:00.890Z"
   },
   {
    "duration": 19,
    "start_time": "2021-09-13T09:36:00.930Z"
   },
   {
    "duration": 31,
    "start_time": "2021-09-13T09:36:00.952Z"
   },
   {
    "duration": 4032,
    "start_time": "2021-09-13T09:36:00.986Z"
   },
   {
    "duration": 2137,
    "start_time": "2021-09-13T09:36:30.739Z"
   },
   {
    "duration": 1521,
    "start_time": "2021-09-13T09:37:33.129Z"
   },
   {
    "duration": 5,
    "start_time": "2021-09-13T09:40:21.046Z"
   },
   {
    "duration": 48,
    "start_time": "2021-09-13T09:40:21.054Z"
   },
   {
    "duration": 13,
    "start_time": "2021-09-13T09:40:21.105Z"
   },
   {
    "duration": 20,
    "start_time": "2021-09-13T09:40:21.122Z"
   },
   {
    "duration": 7,
    "start_time": "2021-09-13T09:40:21.161Z"
   },
   {
    "duration": 9,
    "start_time": "2021-09-13T09:40:21.170Z"
   },
   {
    "duration": 4,
    "start_time": "2021-09-13T09:40:21.181Z"
   },
   {
    "duration": 18,
    "start_time": "2021-09-13T09:40:21.187Z"
   },
   {
    "duration": 55,
    "start_time": "2021-09-13T09:40:21.209Z"
   },
   {
    "duration": 25,
    "start_time": "2021-09-13T09:40:21.267Z"
   },
   {
    "duration": 21,
    "start_time": "2021-09-13T09:40:21.294Z"
   },
   {
    "duration": 57,
    "start_time": "2021-09-13T09:40:21.317Z"
   },
   {
    "duration": 1441,
    "start_time": "2021-09-13T09:40:21.377Z"
   },
   {
    "duration": 1763,
    "start_time": "2021-09-13T09:43:20.920Z"
   },
   {
    "duration": 17,
    "start_time": "2021-09-13T09:52:45.485Z"
   },
   {
    "duration": 17,
    "start_time": "2021-09-13T09:52:52.515Z"
   },
   {
    "duration": 366,
    "start_time": "2021-09-13T09:55:23.685Z"
   },
   {
    "duration": 18,
    "start_time": "2021-09-13T09:55:44.477Z"
   },
   {
    "duration": 20,
    "start_time": "2021-09-13T09:56:14.074Z"
   },
   {
    "duration": 20,
    "start_time": "2021-09-13T09:56:37.428Z"
   },
   {
    "duration": 5,
    "start_time": "2021-09-13T09:59:10.290Z"
   },
   {
    "duration": 12,
    "start_time": "2021-09-13T09:59:20.144Z"
   },
   {
    "duration": 16,
    "start_time": "2021-09-13T09:59:37.858Z"
   },
   {
    "duration": 712,
    "start_time": "2021-09-13T09:59:52.473Z"
   },
   {
    "duration": 16,
    "start_time": "2021-09-13T10:02:46.599Z"
   },
   {
    "duration": 25,
    "start_time": "2021-09-13T10:03:06.198Z"
   },
   {
    "duration": 16,
    "start_time": "2021-09-13T10:03:32.260Z"
   },
   {
    "duration": 4,
    "start_time": "2021-09-13T10:13:56.539Z"
   },
   {
    "duration": 71,
    "start_time": "2021-09-13T10:13:56.546Z"
   },
   {
    "duration": 13,
    "start_time": "2021-09-13T10:13:56.620Z"
   },
   {
    "duration": 36,
    "start_time": "2021-09-13T10:13:56.637Z"
   },
   {
    "duration": 41,
    "start_time": "2021-09-13T10:13:56.676Z"
   },
   {
    "duration": 31,
    "start_time": "2021-09-13T10:13:56.720Z"
   },
   {
    "duration": 27,
    "start_time": "2021-09-13T10:13:56.754Z"
   },
   {
    "duration": 36,
    "start_time": "2021-09-13T10:13:56.785Z"
   },
   {
    "duration": 28,
    "start_time": "2021-09-13T10:13:56.824Z"
   },
   {
    "duration": 53,
    "start_time": "2021-09-13T10:13:56.854Z"
   },
   {
    "duration": 40,
    "start_time": "2021-09-13T10:13:56.910Z"
   },
   {
    "duration": 25,
    "start_time": "2021-09-13T10:13:56.952Z"
   },
   {
    "duration": 49,
    "start_time": "2021-09-13T10:13:56.979Z"
   },
   {
    "duration": 847,
    "start_time": "2021-09-13T10:13:57.031Z"
   },
   {
    "duration": 16,
    "start_time": "2021-09-13T10:18:41.125Z"
   },
   {
    "duration": 19,
    "start_time": "2021-09-13T10:20:05.253Z"
   },
   {
    "duration": 17,
    "start_time": "2021-09-13T10:20:17.944Z"
   },
   {
    "duration": 12,
    "start_time": "2021-09-13T10:21:20.915Z"
   },
   {
    "duration": 17,
    "start_time": "2021-09-13T10:22:05.775Z"
   },
   {
    "duration": 152,
    "start_time": "2021-09-13T10:22:20.233Z"
   },
   {
    "duration": 852,
    "start_time": "2021-09-13T10:23:29.412Z"
   },
   {
    "duration": 137,
    "start_time": "2021-09-13T10:23:50.528Z"
   },
   {
    "duration": 352,
    "start_time": "2021-09-13T10:25:11.462Z"
   },
   {
    "duration": 1028,
    "start_time": "2021-09-13T10:25:29.055Z"
   },
   {
    "duration": 341,
    "start_time": "2021-09-13T10:27:12.839Z"
   },
   {
    "duration": 385,
    "start_time": "2021-09-13T10:27:31.174Z"
   },
   {
    "duration": 15,
    "start_time": "2021-09-13T10:27:41.818Z"
   },
   {
    "duration": 129,
    "start_time": "2021-09-13T10:27:57.205Z"
   },
   {
    "duration": 767,
    "start_time": "2021-09-13T10:28:06.980Z"
   },
   {
    "duration": 24,
    "start_time": "2021-09-13T10:32:59.465Z"
   },
   {
    "duration": 30,
    "start_time": "2021-09-13T10:33:09.813Z"
   },
   {
    "duration": 26,
    "start_time": "2021-09-13T10:33:21.590Z"
   },
   {
    "duration": 32,
    "start_time": "2021-09-13T10:33:50.095Z"
   },
   {
    "duration": 31,
    "start_time": "2021-09-13T10:34:21.063Z"
   },
   {
    "duration": 30,
    "start_time": "2021-09-13T10:34:58.922Z"
   },
   {
    "duration": 24,
    "start_time": "2021-09-13T10:36:26.526Z"
   },
   {
    "duration": 267,
    "start_time": "2021-09-13T10:38:27.983Z"
   },
   {
    "duration": 43,
    "start_time": "2021-09-13T10:39:15.372Z"
   },
   {
    "duration": 68,
    "start_time": "2021-09-13T10:40:01.293Z"
   },
   {
    "duration": 1396,
    "start_time": "2021-09-13T10:41:11.689Z"
   },
   {
    "duration": 1308,
    "start_time": "2021-09-13T10:41:26.303Z"
   },
   {
    "duration": 68,
    "start_time": "2021-09-13T10:41:52.703Z"
   },
   {
    "duration": 25,
    "start_time": "2021-09-13T10:43:38.346Z"
   },
   {
    "duration": 30,
    "start_time": "2021-09-13T10:43:44.475Z"
   },
   {
    "duration": 26,
    "start_time": "2021-09-13T10:44:06.087Z"
   },
   {
    "duration": 30,
    "start_time": "2021-09-13T10:44:09.927Z"
   },
   {
    "duration": 28,
    "start_time": "2021-09-13T10:44:26.616Z"
   },
   {
    "duration": 21,
    "start_time": "2021-09-13T10:48:46.530Z"
   },
   {
    "duration": 314,
    "start_time": "2021-09-13T10:49:39.375Z"
   },
   {
    "duration": 289,
    "start_time": "2021-09-13T10:49:50.483Z"
   },
   {
    "duration": 337,
    "start_time": "2021-09-13T10:50:47.253Z"
   },
   {
    "duration": 777,
    "start_time": "2021-09-13T10:50:54.635Z"
   },
   {
    "duration": 3192,
    "start_time": "2021-09-13T10:51:12.417Z"
   },
   {
    "duration": 1523,
    "start_time": "2021-09-13T10:51:55.516Z"
   },
   {
    "duration": 278,
    "start_time": "2021-09-13T10:52:01.195Z"
   },
   {
    "duration": 551,
    "start_time": "2021-09-13T10:52:12.873Z"
   },
   {
    "duration": 349,
    "start_time": "2021-09-13T10:55:29.439Z"
   },
   {
    "duration": 365,
    "start_time": "2021-09-13T10:56:30.431Z"
   },
   {
    "duration": 75,
    "start_time": "2021-09-13T10:57:24.432Z"
   },
   {
    "duration": 5,
    "start_time": "2021-09-13T10:57:29.173Z"
   },
   {
    "duration": 48,
    "start_time": "2021-09-13T10:57:29.181Z"
   },
   {
    "duration": 28,
    "start_time": "2021-09-13T10:57:29.233Z"
   },
   {
    "duration": 18,
    "start_time": "2021-09-13T10:57:29.265Z"
   },
   {
    "duration": 9,
    "start_time": "2021-09-13T10:57:29.285Z"
   },
   {
    "duration": 9,
    "start_time": "2021-09-13T10:57:29.296Z"
   },
   {
    "duration": 9,
    "start_time": "2021-09-13T10:57:29.307Z"
   },
   {
    "duration": 43,
    "start_time": "2021-09-13T10:57:29.319Z"
   },
   {
    "duration": 27,
    "start_time": "2021-09-13T10:57:29.366Z"
   },
   {
    "duration": 38,
    "start_time": "2021-09-13T10:57:29.395Z"
   },
   {
    "duration": 20,
    "start_time": "2021-09-13T10:57:29.436Z"
   },
   {
    "duration": 20,
    "start_time": "2021-09-13T10:57:29.462Z"
   },
   {
    "duration": 384,
    "start_time": "2021-09-13T10:57:29.485Z"
   },
   {
    "duration": 65,
    "start_time": "2021-09-13T10:57:29.871Z"
   },
   {
    "duration": 36,
    "start_time": "2021-09-13T10:57:29.939Z"
   },
   {
    "duration": 13,
    "start_time": "2021-09-13T10:57:29.978Z"
   },
   {
    "duration": 691,
    "start_time": "2021-09-13T10:57:29.994Z"
   },
   {
    "duration": 41,
    "start_time": "2021-09-13T11:03:19.000Z"
   },
   {
    "duration": 14,
    "start_time": "2021-09-13T11:04:12.158Z"
   },
   {
    "duration": 36,
    "start_time": "2021-09-13T11:04:25.504Z"
   },
   {
    "duration": 24,
    "start_time": "2021-09-13T11:05:03.299Z"
   },
   {
    "duration": 29,
    "start_time": "2021-09-13T11:05:13.705Z"
   },
   {
    "duration": 23,
    "start_time": "2021-09-13T11:05:26.323Z"
   },
   {
    "duration": 21,
    "start_time": "2021-09-13T11:06:39.981Z"
   },
   {
    "duration": 22,
    "start_time": "2021-09-13T11:07:15.252Z"
   },
   {
    "duration": 22,
    "start_time": "2021-09-13T11:07:23.626Z"
   },
   {
    "duration": 5,
    "start_time": "2021-09-13T11:08:27.073Z"
   },
   {
    "duration": 51,
    "start_time": "2021-09-13T11:08:27.080Z"
   },
   {
    "duration": 13,
    "start_time": "2021-09-13T11:08:27.134Z"
   },
   {
    "duration": 26,
    "start_time": "2021-09-13T11:08:27.150Z"
   },
   {
    "duration": 10,
    "start_time": "2021-09-13T11:08:27.178Z"
   },
   {
    "duration": 13,
    "start_time": "2021-09-13T11:08:27.190Z"
   },
   {
    "duration": 19,
    "start_time": "2021-09-13T11:08:27.205Z"
   },
   {
    "duration": 4,
    "start_time": "2021-09-13T11:08:27.227Z"
   },
   {
    "duration": 38,
    "start_time": "2021-09-13T11:08:27.233Z"
   },
   {
    "duration": 25,
    "start_time": "2021-09-13T11:08:27.274Z"
   },
   {
    "duration": 20,
    "start_time": "2021-09-13T11:08:27.301Z"
   },
   {
    "duration": 50,
    "start_time": "2021-09-13T11:08:27.323Z"
   },
   {
    "duration": 406,
    "start_time": "2021-09-13T11:08:27.375Z"
   },
   {
    "duration": 80,
    "start_time": "2021-09-13T11:08:27.783Z"
   },
   {
    "duration": 14,
    "start_time": "2021-09-13T11:08:27.865Z"
   },
   {
    "duration": 16,
    "start_time": "2021-09-13T11:08:27.882Z"
   },
   {
    "duration": 678,
    "start_time": "2021-09-13T11:08:27.900Z"
   },
   {
    "duration": 5,
    "start_time": "2021-09-13T11:09:11.855Z"
   },
   {
    "duration": 50,
    "start_time": "2021-09-13T11:09:11.863Z"
   },
   {
    "duration": 13,
    "start_time": "2021-09-13T11:09:11.917Z"
   },
   {
    "duration": 45,
    "start_time": "2021-09-13T11:09:11.933Z"
   },
   {
    "duration": 19,
    "start_time": "2021-09-13T11:09:11.981Z"
   },
   {
    "duration": 22,
    "start_time": "2021-09-13T11:09:12.003Z"
   },
   {
    "duration": 23,
    "start_time": "2021-09-13T11:09:12.028Z"
   },
   {
    "duration": 38,
    "start_time": "2021-09-13T11:09:12.054Z"
   },
   {
    "duration": 22,
    "start_time": "2021-09-13T11:09:12.094Z"
   },
   {
    "duration": 30,
    "start_time": "2021-09-13T11:09:12.118Z"
   },
   {
    "duration": 25,
    "start_time": "2021-09-13T11:09:12.150Z"
   },
   {
    "duration": 163,
    "start_time": "2021-09-13T11:09:12.178Z"
   },
   {
    "duration": 346,
    "start_time": "2021-09-13T11:09:12.343Z"
   },
   {
    "duration": -1708,
    "start_time": "2021-09-13T11:09:14.401Z"
   },
   {
    "duration": -1720,
    "start_time": "2021-09-13T11:09:14.415Z"
   },
   {
    "duration": -1721,
    "start_time": "2021-09-13T11:09:14.418Z"
   },
   {
    "duration": -1721,
    "start_time": "2021-09-13T11:09:14.421Z"
   },
   {
    "duration": 63,
    "start_time": "2021-09-13T11:09:24.119Z"
   },
   {
    "duration": 15,
    "start_time": "2021-09-13T11:09:27.430Z"
   },
   {
    "duration": 713,
    "start_time": "2021-09-13T11:09:32.343Z"
   },
   {
    "duration": 654,
    "start_time": "2021-09-13T12:20:36.298Z"
   },
   {
    "duration": 742,
    "start_time": "2021-09-13T12:20:55.322Z"
   },
   {
    "duration": 339,
    "start_time": "2021-09-13T12:22:55.074Z"
   },
   {
    "duration": 352,
    "start_time": "2021-09-13T12:23:13.144Z"
   },
   {
    "duration": 253,
    "start_time": "2021-09-13T12:23:36.454Z"
   },
   {
    "duration": 5,
    "start_time": "2021-09-13T12:24:04.685Z"
   },
   {
    "duration": 54,
    "start_time": "2021-09-13T12:24:04.693Z"
   },
   {
    "duration": 13,
    "start_time": "2021-09-13T12:24:04.750Z"
   },
   {
    "duration": 19,
    "start_time": "2021-09-13T12:24:04.766Z"
   },
   {
    "duration": 8,
    "start_time": "2021-09-13T12:24:04.787Z"
   },
   {
    "duration": 7,
    "start_time": "2021-09-13T12:24:04.798Z"
   },
   {
    "duration": 13,
    "start_time": "2021-09-13T12:24:04.808Z"
   },
   {
    "duration": 6,
    "start_time": "2021-09-13T12:24:04.823Z"
   },
   {
    "duration": 15,
    "start_time": "2021-09-13T12:24:04.861Z"
   },
   {
    "duration": 28,
    "start_time": "2021-09-13T12:24:04.879Z"
   },
   {
    "duration": 24,
    "start_time": "2021-09-13T12:24:04.909Z"
   },
   {
    "duration": 283,
    "start_time": "2021-09-13T12:24:04.962Z"
   },
   {
    "duration": 798,
    "start_time": "2021-09-13T12:25:51.661Z"
   },
   {
    "duration": 52763,
    "start_time": "2021-09-13T12:26:18.319Z"
   },
   {
    "duration": 306,
    "start_time": "2021-09-13T12:29:06.552Z"
   },
   {
    "duration": 1817,
    "start_time": "2021-09-13T12:39:07.184Z"
   },
   {
    "duration": 1327,
    "start_time": "2021-09-13T12:39:39.331Z"
   },
   {
    "duration": 1013,
    "start_time": "2021-09-13T12:39:53.991Z"
   },
   {
    "duration": 362,
    "start_time": "2021-09-13T12:43:05.595Z"
   },
   {
    "duration": 5,
    "start_time": "2021-09-13T12:43:16.700Z"
   },
   {
    "duration": 58,
    "start_time": "2021-09-13T12:43:16.707Z"
   },
   {
    "duration": 13,
    "start_time": "2021-09-13T12:43:16.768Z"
   },
   {
    "duration": 35,
    "start_time": "2021-09-13T12:43:16.783Z"
   },
   {
    "duration": 18,
    "start_time": "2021-09-13T12:43:16.821Z"
   },
   {
    "duration": 17,
    "start_time": "2021-09-13T12:43:16.842Z"
   },
   {
    "duration": 20,
    "start_time": "2021-09-13T12:43:16.861Z"
   },
   {
    "duration": 11,
    "start_time": "2021-09-13T12:43:16.884Z"
   },
   {
    "duration": 31,
    "start_time": "2021-09-13T12:43:16.897Z"
   },
   {
    "duration": 45,
    "start_time": "2021-09-13T12:43:16.930Z"
   },
   {
    "duration": 21,
    "start_time": "2021-09-13T12:43:16.977Z"
   },
   {
    "duration": 305,
    "start_time": "2021-09-13T12:43:17.000Z"
   },
   {
    "duration": 7376,
    "start_time": "2021-09-13T12:44:19.338Z"
   },
   {
    "duration": 4124,
    "start_time": "2021-09-13T12:51:45.107Z"
   },
   {
    "duration": 6,
    "start_time": "2021-09-13T12:52:16.487Z"
   },
   {
    "duration": 49,
    "start_time": "2021-09-13T12:52:16.496Z"
   },
   {
    "duration": 13,
    "start_time": "2021-09-13T12:52:16.548Z"
   },
   {
    "duration": 18,
    "start_time": "2021-09-13T12:52:16.564Z"
   },
   {
    "duration": 8,
    "start_time": "2021-09-13T12:52:16.584Z"
   },
   {
    "duration": 9,
    "start_time": "2021-09-13T12:52:16.595Z"
   },
   {
    "duration": 15,
    "start_time": "2021-09-13T12:52:16.606Z"
   },
   {
    "duration": 38,
    "start_time": "2021-09-13T12:52:16.623Z"
   },
   {
    "duration": 17,
    "start_time": "2021-09-13T12:52:16.665Z"
   },
   {
    "duration": 22,
    "start_time": "2021-09-13T12:52:16.684Z"
   },
   {
    "duration": 24,
    "start_time": "2021-09-13T12:52:16.709Z"
   },
   {
    "duration": 1138,
    "start_time": "2021-09-13T12:52:16.762Z"
   },
   {
    "duration": 6,
    "start_time": "2021-09-13T12:53:37.934Z"
   },
   {
    "duration": 62,
    "start_time": "2021-09-13T12:53:37.943Z"
   },
   {
    "duration": 13,
    "start_time": "2021-09-13T12:53:38.008Z"
   },
   {
    "duration": 32,
    "start_time": "2021-09-13T12:53:38.024Z"
   },
   {
    "duration": 18,
    "start_time": "2021-09-13T12:53:38.058Z"
   },
   {
    "duration": 22,
    "start_time": "2021-09-13T12:53:38.079Z"
   },
   {
    "duration": 15,
    "start_time": "2021-09-13T12:53:38.104Z"
   },
   {
    "duration": 19,
    "start_time": "2021-09-13T12:53:38.122Z"
   },
   {
    "duration": 15,
    "start_time": "2021-09-13T12:53:38.144Z"
   },
   {
    "duration": 25,
    "start_time": "2021-09-13T12:53:38.161Z"
   },
   {
    "duration": 26,
    "start_time": "2021-09-13T12:53:38.188Z"
   },
   {
    "duration": 779,
    "start_time": "2021-09-13T12:53:38.216Z"
   },
   {
    "duration": 6,
    "start_time": "2021-09-13T12:54:14.273Z"
   },
   {
    "duration": 49,
    "start_time": "2021-09-13T12:54:14.282Z"
   },
   {
    "duration": 13,
    "start_time": "2021-09-13T12:54:14.333Z"
   },
   {
    "duration": 26,
    "start_time": "2021-09-13T12:54:14.349Z"
   },
   {
    "duration": 14,
    "start_time": "2021-09-13T12:54:14.378Z"
   },
   {
    "duration": 11,
    "start_time": "2021-09-13T12:54:14.394Z"
   },
   {
    "duration": 15,
    "start_time": "2021-09-13T12:54:14.407Z"
   },
   {
    "duration": 21,
    "start_time": "2021-09-13T12:54:14.426Z"
   },
   {
    "duration": 25,
    "start_time": "2021-09-13T12:54:14.450Z"
   },
   {
    "duration": 27,
    "start_time": "2021-09-13T12:54:14.477Z"
   },
   {
    "duration": 20,
    "start_time": "2021-09-13T12:54:14.507Z"
   },
   {
    "duration": 797,
    "start_time": "2021-09-13T12:54:14.530Z"
   },
   {
    "duration": 101,
    "start_time": "2021-09-13T12:55:26.461Z"
   },
   {
    "duration": 106,
    "start_time": "2021-09-13T12:55:38.329Z"
   },
   {
    "duration": 95,
    "start_time": "2021-09-13T12:55:46.751Z"
   },
   {
    "duration": 300,
    "start_time": "2021-09-13T12:56:20.696Z"
   },
   {
    "duration": 364,
    "start_time": "2021-09-13T12:56:42.349Z"
   },
   {
    "duration": 55,
    "start_time": "2021-09-13T12:59:05.478Z"
   },
   {
    "duration": 44,
    "start_time": "2021-09-13T12:59:05.536Z"
   },
   {
    "duration": 13,
    "start_time": "2021-09-13T12:59:05.583Z"
   },
   {
    "duration": 23,
    "start_time": "2021-09-13T12:59:05.598Z"
   },
   {
    "duration": 18,
    "start_time": "2021-09-13T12:59:05.623Z"
   },
   {
    "duration": 22,
    "start_time": "2021-09-13T12:59:05.644Z"
   },
   {
    "duration": 14,
    "start_time": "2021-09-13T12:59:05.668Z"
   },
   {
    "duration": 4,
    "start_time": "2021-09-13T12:59:05.686Z"
   },
   {
    "duration": 24,
    "start_time": "2021-09-13T12:59:05.693Z"
   },
   {
    "duration": 52,
    "start_time": "2021-09-13T12:59:05.720Z"
   },
   {
    "duration": 21,
    "start_time": "2021-09-13T12:59:05.775Z"
   },
   {
    "duration": 356,
    "start_time": "2021-09-13T12:59:05.799Z"
   },
   {
    "duration": 350,
    "start_time": "2021-09-13T13:03:30.882Z"
   },
   {
    "duration": 9,
    "start_time": "2021-09-13T13:03:48.341Z"
   },
   {
    "duration": 60,
    "start_time": "2021-09-13T13:03:48.353Z"
   },
   {
    "duration": 13,
    "start_time": "2021-09-13T13:03:48.416Z"
   },
   {
    "duration": 18,
    "start_time": "2021-09-13T13:03:48.431Z"
   },
   {
    "duration": 12,
    "start_time": "2021-09-13T13:03:48.451Z"
   },
   {
    "duration": 9,
    "start_time": "2021-09-13T13:03:48.465Z"
   },
   {
    "duration": 11,
    "start_time": "2021-09-13T13:03:48.477Z"
   },
   {
    "duration": 11,
    "start_time": "2021-09-13T13:03:48.491Z"
   },
   {
    "duration": 24,
    "start_time": "2021-09-13T13:03:48.505Z"
   },
   {
    "duration": 42,
    "start_time": "2021-09-13T13:03:48.532Z"
   },
   {
    "duration": 21,
    "start_time": "2021-09-13T13:03:48.576Z"
   },
   {
    "duration": 379,
    "start_time": "2021-09-13T13:03:48.599Z"
   },
   {
    "duration": 509,
    "start_time": "2021-09-13T13:04:29.935Z"
   },
   {
    "duration": 26,
    "start_time": "2021-09-13T13:08:01.279Z"
   },
   {
    "duration": 331,
    "start_time": "2021-09-13T13:08:24.779Z"
   },
   {
    "duration": 26,
    "start_time": "2021-09-13T13:09:12.936Z"
   },
   {
    "duration": 26,
    "start_time": "2021-09-13T13:09:40.535Z"
   },
   {
    "duration": 367,
    "start_time": "2021-09-13T13:10:51.973Z"
   },
   {
    "duration": 615,
    "start_time": "2021-09-13T13:11:28.241Z"
   },
   {
    "duration": 287,
    "start_time": "2021-09-13T13:13:37.801Z"
   },
   {
    "duration": 1261,
    "start_time": "2021-09-13T13:14:08.861Z"
   },
   {
    "duration": 8302,
    "start_time": "2021-09-13T13:14:56.746Z"
   },
   {
    "duration": 1443,
    "start_time": "2021-09-13T13:15:22.719Z"
   },
   {
    "duration": 372,
    "start_time": "2021-09-13T13:17:14.473Z"
   },
   {
    "duration": 370,
    "start_time": "2021-09-13T13:17:23.460Z"
   },
   {
    "duration": 1411,
    "start_time": "2021-09-13T13:17:34.906Z"
   },
   {
    "duration": 1702,
    "start_time": "2021-09-13T13:21:47.676Z"
   },
   {
    "duration": 1748,
    "start_time": "2021-09-13T13:21:59.804Z"
   },
   {
    "duration": 1646,
    "start_time": "2021-09-13T13:22:10.867Z"
   },
   {
    "duration": 1464,
    "start_time": "2021-09-13T13:23:56.167Z"
   },
   {
    "duration": 1608,
    "start_time": "2021-09-13T13:24:04.583Z"
   },
   {
    "duration": 1429,
    "start_time": "2021-09-13T13:24:54.267Z"
   },
   {
    "duration": 1320,
    "start_time": "2021-09-13T13:26:00.688Z"
   },
   {
    "duration": 1476,
    "start_time": "2021-09-13T13:26:27.447Z"
   },
   {
    "duration": 31,
    "start_time": "2021-09-13T13:28:22.263Z"
   },
   {
    "duration": 38,
    "start_time": "2021-09-13T13:28:33.863Z"
   },
   {
    "duration": 35,
    "start_time": "2021-09-13T13:29:12.416Z"
   },
   {
    "duration": 1401,
    "start_time": "2021-09-13T13:34:22.464Z"
   },
   {
    "duration": 22,
    "start_time": "2021-09-13T13:35:15.383Z"
   },
   {
    "duration": 1389,
    "start_time": "2021-09-13T13:41:09.618Z"
   },
   {
    "duration": 8,
    "start_time": "2021-09-13T13:41:20.586Z"
   },
   {
    "duration": 46,
    "start_time": "2021-09-13T13:41:20.596Z"
   },
   {
    "duration": 13,
    "start_time": "2021-09-13T13:41:20.645Z"
   },
   {
    "duration": 31,
    "start_time": "2021-09-13T13:41:20.661Z"
   },
   {
    "duration": 9,
    "start_time": "2021-09-13T13:41:20.695Z"
   },
   {
    "duration": 11,
    "start_time": "2021-09-13T13:41:20.707Z"
   },
   {
    "duration": 11,
    "start_time": "2021-09-13T13:41:20.720Z"
   },
   {
    "duration": 27,
    "start_time": "2021-09-13T13:41:20.735Z"
   },
   {
    "duration": 21,
    "start_time": "2021-09-13T13:41:20.765Z"
   },
   {
    "duration": 23,
    "start_time": "2021-09-13T13:41:20.789Z"
   },
   {
    "duration": 46,
    "start_time": "2021-09-13T13:41:20.815Z"
   },
   {
    "duration": 22,
    "start_time": "2021-09-13T13:41:20.863Z"
   },
   {
    "duration": 1633,
    "start_time": "2021-09-13T13:41:20.887Z"
   },
   {
    "duration": 35,
    "start_time": "2021-09-13T13:48:25.049Z"
   },
   {
    "duration": 27,
    "start_time": "2021-09-13T13:48:43.156Z"
   },
   {
    "duration": 28,
    "start_time": "2021-09-13T13:49:36.484Z"
   },
   {
    "duration": 43,
    "start_time": "2021-09-13T13:49:48.244Z"
   },
   {
    "duration": 29,
    "start_time": "2021-09-13T13:50:33.637Z"
   },
   {
    "duration": 23,
    "start_time": "2021-09-13T13:52:27.341Z"
   },
   {
    "duration": 21,
    "start_time": "2021-09-13T13:52:50.250Z"
   },
   {
    "duration": 22,
    "start_time": "2021-09-13T13:55:16.233Z"
   },
   {
    "duration": 1444,
    "start_time": "2021-09-13T16:26:56.915Z"
   },
   {
    "duration": 47,
    "start_time": "2021-09-13T16:26:58.363Z"
   },
   {
    "duration": 12,
    "start_time": "2021-09-13T16:26:58.413Z"
   },
   {
    "duration": 22,
    "start_time": "2021-09-13T16:26:58.428Z"
   },
   {
    "duration": 31,
    "start_time": "2021-09-13T16:26:58.453Z"
   },
   {
    "duration": 8,
    "start_time": "2021-09-13T16:26:58.487Z"
   },
   {
    "duration": 11,
    "start_time": "2021-09-13T16:26:58.498Z"
   },
   {
    "duration": 4,
    "start_time": "2021-09-13T16:26:58.512Z"
   },
   {
    "duration": 16,
    "start_time": "2021-09-13T16:26:58.518Z"
   },
   {
    "duration": 64,
    "start_time": "2021-09-13T16:26:58.536Z"
   },
   {
    "duration": 20,
    "start_time": "2021-09-13T16:26:58.602Z"
   },
   {
    "duration": 21,
    "start_time": "2021-09-13T16:26:58.624Z"
   },
   {
    "duration": 901,
    "start_time": "2021-09-13T16:26:58.683Z"
   },
   {
    "duration": 27,
    "start_time": "2021-09-13T16:26:59.587Z"
   },
   {
    "duration": 19,
    "start_time": "2021-09-13T16:26:59.616Z"
   },
   {
    "duration": 983,
    "start_time": "2021-09-13T16:27:23.931Z"
   },
   {
    "duration": 1089,
    "start_time": "2021-09-13T16:27:42.295Z"
   },
   {
    "duration": 8,
    "start_time": "2021-09-13T16:27:48.114Z"
   },
   {
    "duration": 52,
    "start_time": "2021-09-13T16:27:48.124Z"
   },
   {
    "duration": 13,
    "start_time": "2021-09-13T16:27:48.178Z"
   },
   {
    "duration": 20,
    "start_time": "2021-09-13T16:27:48.193Z"
   },
   {
    "duration": 6,
    "start_time": "2021-09-13T16:27:48.215Z"
   },
   {
    "duration": 8,
    "start_time": "2021-09-13T16:27:48.224Z"
   },
   {
    "duration": 53,
    "start_time": "2021-09-13T16:27:48.234Z"
   },
   {
    "duration": 4,
    "start_time": "2021-09-13T16:27:48.290Z"
   },
   {
    "duration": 16,
    "start_time": "2021-09-13T16:27:48.299Z"
   },
   {
    "duration": 22,
    "start_time": "2021-09-13T16:27:48.318Z"
   },
   {
    "duration": 58,
    "start_time": "2021-09-13T16:27:48.342Z"
   },
   {
    "duration": 20,
    "start_time": "2021-09-13T16:27:48.403Z"
   },
   {
    "duration": 932,
    "start_time": "2021-09-13T16:27:48.425Z"
   },
   {
    "duration": 37,
    "start_time": "2021-09-13T16:27:49.360Z"
   },
   {
    "duration": 20,
    "start_time": "2021-09-13T16:27:49.400Z"
   },
   {
    "duration": 9,
    "start_time": "2021-09-13T16:28:22.066Z"
   },
   {
    "duration": 49,
    "start_time": "2021-09-13T16:28:22.078Z"
   },
   {
    "duration": 17,
    "start_time": "2021-09-13T16:28:22.130Z"
   },
   {
    "duration": 46,
    "start_time": "2021-09-13T16:28:22.150Z"
   },
   {
    "duration": 8,
    "start_time": "2021-09-13T16:28:22.199Z"
   },
   {
    "duration": 7,
    "start_time": "2021-09-13T16:28:22.209Z"
   },
   {
    "duration": 11,
    "start_time": "2021-09-13T16:28:22.219Z"
   },
   {
    "duration": 5,
    "start_time": "2021-09-13T16:28:22.233Z"
   },
   {
    "duration": 15,
    "start_time": "2021-09-13T16:28:22.285Z"
   },
   {
    "duration": 25,
    "start_time": "2021-09-13T16:28:22.303Z"
   },
   {
    "duration": 51,
    "start_time": "2021-09-13T16:28:22.331Z"
   },
   {
    "duration": 23,
    "start_time": "2021-09-13T16:28:22.385Z"
   },
   {
    "duration": 977,
    "start_time": "2021-09-13T16:28:22.411Z"
   },
   {
    "duration": 27,
    "start_time": "2021-09-13T16:28:23.391Z"
   },
   {
    "duration": 21,
    "start_time": "2021-09-13T16:28:23.421Z"
   },
   {
    "duration": 986,
    "start_time": "2021-09-13T16:28:34.499Z"
   },
   {
    "duration": 1213,
    "start_time": "2021-09-13T16:28:50.185Z"
   },
   {
    "duration": 1290,
    "start_time": "2021-09-13T16:29:00.673Z"
   },
   {
    "duration": 1185,
    "start_time": "2021-09-13T16:31:52.081Z"
   },
   {
    "duration": 5,
    "start_time": "2021-09-13T16:32:12.893Z"
   },
   {
    "duration": 58,
    "start_time": "2021-09-13T16:32:12.903Z"
   },
   {
    "duration": 13,
    "start_time": "2021-09-13T16:32:12.964Z"
   },
   {
    "duration": 18,
    "start_time": "2021-09-13T16:32:12.983Z"
   },
   {
    "duration": 11,
    "start_time": "2021-09-13T16:32:13.004Z"
   },
   {
    "duration": 8,
    "start_time": "2021-09-13T16:32:13.018Z"
   },
   {
    "duration": 15,
    "start_time": "2021-09-13T16:32:13.028Z"
   },
   {
    "duration": 37,
    "start_time": "2021-09-13T16:32:13.046Z"
   },
   {
    "duration": 17,
    "start_time": "2021-09-13T16:32:13.088Z"
   },
   {
    "duration": 29,
    "start_time": "2021-09-13T16:32:13.109Z"
   },
   {
    "duration": 51,
    "start_time": "2021-09-13T16:32:13.140Z"
   },
   {
    "duration": 25,
    "start_time": "2021-09-13T16:32:13.194Z"
   },
   {
    "duration": 1528,
    "start_time": "2021-09-13T16:32:13.222Z"
   },
   {
    "duration": 35,
    "start_time": "2021-09-13T16:32:14.753Z"
   },
   {
    "duration": 21,
    "start_time": "2021-09-13T16:32:14.790Z"
   },
   {
    "duration": 1392,
    "start_time": "2021-09-13T16:32:14.813Z"
   },
   {
    "duration": 8,
    "start_time": "2021-09-13T16:32:32.217Z"
   },
   {
    "duration": 47,
    "start_time": "2021-09-13T16:32:32.229Z"
   },
   {
    "duration": 12,
    "start_time": "2021-09-13T16:32:32.279Z"
   },
   {
    "duration": 18,
    "start_time": "2021-09-13T16:32:32.295Z"
   },
   {
    "duration": 6,
    "start_time": "2021-09-13T16:32:32.316Z"
   },
   {
    "duration": 9,
    "start_time": "2021-09-13T16:32:32.324Z"
   },
   {
    "duration": 18,
    "start_time": "2021-09-13T16:32:32.335Z"
   },
   {
    "duration": 3,
    "start_time": "2021-09-13T16:32:32.383Z"
   },
   {
    "duration": 17,
    "start_time": "2021-09-13T16:32:32.392Z"
   },
   {
    "duration": 24,
    "start_time": "2021-09-13T16:32:32.412Z"
   },
   {
    "duration": 60,
    "start_time": "2021-09-13T16:32:32.439Z"
   },
   {
    "duration": 22,
    "start_time": "2021-09-13T16:32:32.502Z"
   },
   {
    "duration": 1422,
    "start_time": "2021-09-13T16:32:32.526Z"
   },
   {
    "duration": 46,
    "start_time": "2021-09-13T16:32:33.951Z"
   },
   {
    "duration": 20,
    "start_time": "2021-09-13T16:32:33.999Z"
   },
   {
    "duration": 920,
    "start_time": "2021-09-13T16:32:34.021Z"
   },
   {
    "duration": 849,
    "start_time": "2021-09-13T16:33:03.069Z"
   },
   {
    "duration": 8,
    "start_time": "2021-09-13T16:37:24.483Z"
   },
   {
    "duration": 49,
    "start_time": "2021-09-13T16:37:24.493Z"
   },
   {
    "duration": 39,
    "start_time": "2021-09-13T16:37:24.545Z"
   },
   {
    "duration": 19,
    "start_time": "2021-09-13T16:37:24.586Z"
   },
   {
    "duration": 10,
    "start_time": "2021-09-13T16:37:24.607Z"
   },
   {
    "duration": 7,
    "start_time": "2021-09-13T16:37:24.620Z"
   },
   {
    "duration": 8,
    "start_time": "2021-09-13T16:37:24.630Z"
   },
   {
    "duration": 41,
    "start_time": "2021-09-13T16:37:24.642Z"
   },
   {
    "duration": 16,
    "start_time": "2021-09-13T16:37:24.686Z"
   },
   {
    "duration": 21,
    "start_time": "2021-09-13T16:37:24.705Z"
   },
   {
    "duration": 27,
    "start_time": "2021-09-13T16:37:24.728Z"
   },
   {
    "duration": 20,
    "start_time": "2021-09-13T16:37:24.782Z"
   },
   {
    "duration": 1089,
    "start_time": "2021-09-13T16:37:24.804Z"
   },
   {
    "duration": 27,
    "start_time": "2021-09-13T16:37:25.895Z"
   },
   {
    "duration": 19,
    "start_time": "2021-09-13T16:37:25.924Z"
   },
   {
    "duration": 730,
    "start_time": "2021-09-13T16:37:25.946Z"
   },
   {
    "duration": 5,
    "start_time": "2021-09-13T16:38:19.395Z"
   },
   {
    "duration": 51,
    "start_time": "2021-09-13T16:38:19.403Z"
   },
   {
    "duration": 27,
    "start_time": "2021-09-13T16:38:19.457Z"
   },
   {
    "duration": 21,
    "start_time": "2021-09-13T16:38:19.487Z"
   },
   {
    "duration": 10,
    "start_time": "2021-09-13T16:38:19.510Z"
   },
   {
    "duration": 7,
    "start_time": "2021-09-13T16:38:19.523Z"
   },
   {
    "duration": 10,
    "start_time": "2021-09-13T16:38:19.532Z"
   },
   {
    "duration": 38,
    "start_time": "2021-09-13T16:38:19.544Z"
   },
   {
    "duration": 24,
    "start_time": "2021-09-13T16:38:19.585Z"
   },
   {
    "duration": 23,
    "start_time": "2021-09-13T16:38:19.612Z"
   },
   {
    "duration": 45,
    "start_time": "2021-09-13T16:38:19.638Z"
   },
   {
    "duration": 21,
    "start_time": "2021-09-13T16:38:19.686Z"
   },
   {
    "duration": 1049,
    "start_time": "2021-09-13T16:38:19.710Z"
   },
   {
    "duration": 48,
    "start_time": "2021-09-13T16:38:20.762Z"
   },
   {
    "duration": 21,
    "start_time": "2021-09-13T16:38:20.812Z"
   },
   {
    "duration": 868,
    "start_time": "2021-09-13T16:38:20.835Z"
   },
   {
    "duration": 5,
    "start_time": "2021-09-13T16:42:19.619Z"
   },
   {
    "duration": 47,
    "start_time": "2021-09-13T16:42:19.627Z"
   },
   {
    "duration": 12,
    "start_time": "2021-09-13T16:42:19.678Z"
   },
   {
    "duration": 18,
    "start_time": "2021-09-13T16:42:19.693Z"
   },
   {
    "duration": 9,
    "start_time": "2021-09-13T16:42:19.714Z"
   },
   {
    "duration": 10,
    "start_time": "2021-09-13T16:42:19.725Z"
   },
   {
    "duration": 51,
    "start_time": "2021-09-13T16:42:19.737Z"
   },
   {
    "duration": 3,
    "start_time": "2021-09-13T16:42:19.790Z"
   },
   {
    "duration": 16,
    "start_time": "2021-09-13T16:42:19.796Z"
   },
   {
    "duration": 22,
    "start_time": "2021-09-13T16:42:19.815Z"
   },
   {
    "duration": 22,
    "start_time": "2021-09-13T16:42:19.882Z"
   },
   {
    "duration": 22,
    "start_time": "2021-09-13T16:42:19.906Z"
   },
   {
    "duration": 1157,
    "start_time": "2021-09-13T16:42:19.931Z"
   },
   {
    "duration": 26,
    "start_time": "2021-09-13T16:42:21.090Z"
   },
   {
    "duration": 23,
    "start_time": "2021-09-13T16:42:21.119Z"
   },
   {
    "duration": 977,
    "start_time": "2021-09-13T16:42:21.144Z"
   },
   {
    "duration": 1160,
    "start_time": "2021-09-13T16:42:33.943Z"
   },
   {
    "duration": 9,
    "start_time": "2021-09-13T17:20:20.537Z"
   },
   {
    "duration": 72,
    "start_time": "2021-09-13T17:20:20.549Z"
   },
   {
    "duration": 13,
    "start_time": "2021-09-13T17:20:20.624Z"
   },
   {
    "duration": 54,
    "start_time": "2021-09-13T17:20:20.640Z"
   },
   {
    "duration": 50,
    "start_time": "2021-09-13T17:20:20.697Z"
   },
   {
    "duration": 74,
    "start_time": "2021-09-13T17:20:20.749Z"
   },
   {
    "duration": 58,
    "start_time": "2021-09-13T17:20:20.826Z"
   },
   {
    "duration": 56,
    "start_time": "2021-09-13T17:20:20.888Z"
   },
   {
    "duration": 56,
    "start_time": "2021-09-13T17:20:20.947Z"
   },
   {
    "duration": 24,
    "start_time": "2021-09-13T17:20:21.006Z"
   },
   {
    "duration": 22,
    "start_time": "2021-09-13T17:20:21.034Z"
   },
   {
    "duration": 40,
    "start_time": "2021-09-13T17:20:21.058Z"
   },
   {
    "duration": 1388,
    "start_time": "2021-09-13T17:20:21.101Z"
   },
   {
    "duration": 31,
    "start_time": "2021-09-13T17:20:22.492Z"
   },
   {
    "duration": 31,
    "start_time": "2021-09-13T17:20:22.525Z"
   },
   {
    "duration": 940,
    "start_time": "2021-09-13T17:20:22.558Z"
   },
   {
    "duration": 116,
    "start_time": "2021-09-13T17:26:44.340Z"
   },
   {
    "duration": 181,
    "start_time": "2021-09-13T17:28:04.014Z"
   },
   {
    "duration": 8,
    "start_time": "2021-09-13T17:28:18.847Z"
   },
   {
    "duration": 96,
    "start_time": "2021-09-13T17:28:18.858Z"
   },
   {
    "duration": 15,
    "start_time": "2021-09-13T17:28:18.957Z"
   },
   {
    "duration": 42,
    "start_time": "2021-09-13T17:28:18.975Z"
   },
   {
    "duration": 20,
    "start_time": "2021-09-13T17:28:19.020Z"
   },
   {
    "duration": 26,
    "start_time": "2021-09-13T17:28:19.043Z"
   },
   {
    "duration": 36,
    "start_time": "2021-09-13T17:28:19.072Z"
   },
   {
    "duration": 13,
    "start_time": "2021-09-13T17:28:19.111Z"
   },
   {
    "duration": 22,
    "start_time": "2021-09-13T17:28:19.128Z"
   },
   {
    "duration": 27,
    "start_time": "2021-09-13T17:28:19.153Z"
   },
   {
    "duration": 32,
    "start_time": "2021-09-13T17:28:19.183Z"
   },
   {
    "duration": 31,
    "start_time": "2021-09-13T17:28:19.218Z"
   },
   {
    "duration": 1466,
    "start_time": "2021-09-13T17:28:19.252Z"
   },
   {
    "duration": 28,
    "start_time": "2021-09-13T17:28:20.721Z"
   },
   {
    "duration": 44,
    "start_time": "2021-09-13T17:28:20.752Z"
   },
   {
    "duration": 148,
    "start_time": "2021-09-13T17:28:20.799Z"
   },
   {
    "duration": -308,
    "start_time": "2021-09-13T17:28:21.258Z"
   },
   {
    "duration": 33,
    "start_time": "2021-09-13T17:28:59.383Z"
   },
   {
    "duration": 105,
    "start_time": "2021-09-13T17:29:54.755Z"
   },
   {
    "duration": 33,
    "start_time": "2021-09-13T17:30:00.307Z"
   },
   {
    "duration": 34,
    "start_time": "2021-09-13T17:30:36.211Z"
   },
   {
    "duration": 40,
    "start_time": "2021-09-13T17:30:46.828Z"
   },
   {
    "duration": 34,
    "start_time": "2021-09-13T17:30:55.356Z"
   },
   {
    "duration": 1196,
    "start_time": "2021-09-13T17:31:21.071Z"
   },
   {
    "duration": 2840,
    "start_time": "2021-09-13T17:32:12.631Z"
   },
   {
    "duration": 1336,
    "start_time": "2021-09-13T17:32:41.419Z"
   },
   {
    "duration": 319,
    "start_time": "2021-09-15T10:49:12.319Z"
   },
   {
    "duration": 303,
    "start_time": "2021-09-15T10:49:17.347Z"
   },
   {
    "duration": 1267,
    "start_time": "2021-09-15T10:49:22.298Z"
   },
   {
    "duration": 41,
    "start_time": "2021-09-15T10:49:23.567Z"
   },
   {
    "duration": 12,
    "start_time": "2021-09-15T10:49:23.610Z"
   },
   {
    "duration": 24,
    "start_time": "2021-09-15T10:49:23.624Z"
   },
   {
    "duration": 8,
    "start_time": "2021-09-15T10:49:23.650Z"
   },
   {
    "duration": 20,
    "start_time": "2021-09-15T10:49:23.659Z"
   },
   {
    "duration": 3,
    "start_time": "2021-09-15T10:49:23.681Z"
   },
   {
    "duration": 13,
    "start_time": "2021-09-15T10:49:23.686Z"
   },
   {
    "duration": 2,
    "start_time": "2021-09-15T10:49:23.702Z"
   },
   {
    "duration": 19,
    "start_time": "2021-09-15T10:49:23.706Z"
   },
   {
    "duration": 23,
    "start_time": "2021-09-15T10:49:23.727Z"
   },
   {
    "duration": 33,
    "start_time": "2021-09-15T10:49:23.752Z"
   },
   {
    "duration": 17,
    "start_time": "2021-09-15T10:49:23.787Z"
   },
   {
    "duration": 1045,
    "start_time": "2021-09-15T10:49:23.807Z"
   },
   {
    "duration": 29,
    "start_time": "2021-09-15T10:49:24.853Z"
   },
   {
    "duration": 16,
    "start_time": "2021-09-15T10:49:24.884Z"
   },
   {
    "duration": 26,
    "start_time": "2021-09-15T10:49:24.902Z"
   },
   {
    "duration": 836,
    "start_time": "2021-09-15T10:49:24.929Z"
   },
   {
    "duration": 5,
    "start_time": "2021-09-15T10:52:06.174Z"
   },
   {
    "duration": 45,
    "start_time": "2021-09-15T10:52:06.181Z"
   },
   {
    "duration": 13,
    "start_time": "2021-09-15T10:52:06.228Z"
   },
   {
    "duration": 14,
    "start_time": "2021-09-15T10:52:06.244Z"
   },
   {
    "duration": 20,
    "start_time": "2021-09-15T10:52:06.260Z"
   },
   {
    "duration": 6,
    "start_time": "2021-09-15T10:52:06.282Z"
   },
   {
    "duration": 4,
    "start_time": "2021-09-15T10:52:06.290Z"
   },
   {
    "duration": 336,
    "start_time": "2021-09-15T10:52:06.296Z"
   },
   {
    "duration": 445,
    "start_time": "2021-09-15T10:52:06.189Z"
   },
   {
    "duration": 440,
    "start_time": "2021-09-15T10:52:06.195Z"
   },
   {
    "duration": 406,
    "start_time": "2021-09-15T10:52:06.230Z"
   },
   {
    "duration": 396,
    "start_time": "2021-09-15T10:52:06.241Z"
   },
   {
    "duration": 392,
    "start_time": "2021-09-15T10:52:06.246Z"
   },
   {
    "duration": 382,
    "start_time": "2021-09-15T10:52:06.257Z"
   },
   {
    "duration": 379,
    "start_time": "2021-09-15T10:52:06.261Z"
   },
   {
    "duration": 375,
    "start_time": "2021-09-15T10:52:06.266Z"
   },
   {
    "duration": 371,
    "start_time": "2021-09-15T10:52:06.271Z"
   },
   {
    "duration": 369,
    "start_time": "2021-09-15T10:52:06.274Z"
   },
   {
    "duration": 366,
    "start_time": "2021-09-15T10:52:06.278Z"
   },
   {
    "duration": 6,
    "start_time": "2021-09-15T10:52:48.122Z"
   },
   {
    "duration": 42,
    "start_time": "2021-09-15T10:52:48.130Z"
   },
   {
    "duration": 11,
    "start_time": "2021-09-15T10:52:48.174Z"
   },
   {
    "duration": 13,
    "start_time": "2021-09-15T10:52:48.187Z"
   },
   {
    "duration": 5,
    "start_time": "2021-09-15T10:52:48.202Z"
   },
   {
    "duration": 12,
    "start_time": "2021-09-15T10:52:48.209Z"
   },
   {
    "duration": 4,
    "start_time": "2021-09-15T10:52:48.225Z"
   },
   {
    "duration": 7357,
    "start_time": "2021-09-15T10:52:48.232Z"
   },
   {
    "duration": 422,
    "start_time": "2021-09-15T10:52:55.169Z"
   },
   {
    "duration": 416,
    "start_time": "2021-09-15T10:52:55.177Z"
   },
   {
    "duration": 413,
    "start_time": "2021-09-15T10:52:55.181Z"
   },
   {
    "duration": 410,
    "start_time": "2021-09-15T10:52:55.185Z"
   },
   {
    "duration": 408,
    "start_time": "2021-09-15T10:52:55.188Z"
   },
   {
    "duration": 405,
    "start_time": "2021-09-15T10:52:55.192Z"
   },
   {
    "duration": 402,
    "start_time": "2021-09-15T10:52:55.196Z"
   },
   {
    "duration": 399,
    "start_time": "2021-09-15T10:52:55.200Z"
   },
   {
    "duration": 397,
    "start_time": "2021-09-15T10:52:55.203Z"
   },
   {
    "duration": 395,
    "start_time": "2021-09-15T10:52:55.206Z"
   },
   {
    "duration": 392,
    "start_time": "2021-09-15T10:52:55.210Z"
   },
   {
    "duration": 5,
    "start_time": "2021-09-15T10:53:13.754Z"
   },
   {
    "duration": 42,
    "start_time": "2021-09-15T10:53:13.761Z"
   },
   {
    "duration": 11,
    "start_time": "2021-09-15T10:53:13.805Z"
   },
   {
    "duration": 13,
    "start_time": "2021-09-15T10:53:13.818Z"
   },
   {
    "duration": 5,
    "start_time": "2021-09-15T10:53:13.833Z"
   },
   {
    "duration": 37,
    "start_time": "2021-09-15T10:53:13.840Z"
   },
   {
    "duration": 3,
    "start_time": "2021-09-15T10:53:13.879Z"
   },
   {
    "duration": 12,
    "start_time": "2021-09-15T10:53:13.884Z"
   },
   {
    "duration": 12,
    "start_time": "2021-09-15T10:53:13.899Z"
   },
   {
    "duration": 2,
    "start_time": "2021-09-15T10:53:13.914Z"
   },
   {
    "duration": 14,
    "start_time": "2021-09-15T10:53:13.918Z"
   },
   {
    "duration": 44,
    "start_time": "2021-09-15T10:53:13.934Z"
   },
   {
    "duration": 13,
    "start_time": "2021-09-15T10:53:13.980Z"
   },
   {
    "duration": 92,
    "start_time": "2021-09-15T10:53:13.995Z"
   },
   {
    "duration": 1087,
    "start_time": "2021-09-15T10:53:14.089Z"
   },
   {
    "duration": 20,
    "start_time": "2021-09-15T10:53:15.178Z"
   },
   {
    "duration": 16,
    "start_time": "2021-09-15T10:53:15.200Z"
   },
   {
    "duration": 27,
    "start_time": "2021-09-15T10:53:15.218Z"
   },
   {
    "duration": 840,
    "start_time": "2021-09-15T10:53:15.277Z"
   },
   {
    "duration": 16,
    "start_time": "2021-09-15T11:02:25.526Z"
   },
   {
    "duration": 5,
    "start_time": "2021-09-15T11:10:23.697Z"
   },
   {
    "duration": 5,
    "start_time": "2021-09-15T11:10:32.977Z"
   },
   {
    "duration": 43,
    "start_time": "2021-09-15T11:10:32.984Z"
   },
   {
    "duration": 11,
    "start_time": "2021-09-15T11:10:33.029Z"
   },
   {
    "duration": 22,
    "start_time": "2021-09-15T11:10:33.042Z"
   },
   {
    "duration": 13,
    "start_time": "2021-09-15T11:10:33.065Z"
   },
   {
    "duration": 5,
    "start_time": "2021-09-15T11:10:33.080Z"
   },
   {
    "duration": 5,
    "start_time": "2021-09-15T11:10:33.187Z"
   },
   {
    "duration": 12,
    "start_time": "2021-09-15T11:10:33.194Z"
   },
   {
    "duration": 10,
    "start_time": "2021-09-15T11:10:33.208Z"
   },
   {
    "duration": 2,
    "start_time": "2021-09-15T11:10:33.220Z"
   },
   {
    "duration": 15,
    "start_time": "2021-09-15T11:10:33.224Z"
   },
   {
    "duration": 37,
    "start_time": "2021-09-15T11:10:33.241Z"
   },
   {
    "duration": 14,
    "start_time": "2021-09-15T11:10:33.281Z"
   },
   {
    "duration": 14,
    "start_time": "2021-09-15T11:10:33.298Z"
   },
   {
    "duration": 1042,
    "start_time": "2021-09-15T11:10:33.314Z"
   },
   {
    "duration": 27,
    "start_time": "2021-09-15T11:10:34.358Z"
   },
   {
    "duration": 15,
    "start_time": "2021-09-15T11:10:34.388Z"
   },
   {
    "duration": 28,
    "start_time": "2021-09-15T11:10:34.405Z"
   },
   {
    "duration": 832,
    "start_time": "2021-09-15T11:10:34.434Z"
   },
   {
    "duration": 5,
    "start_time": "2021-09-15T11:37:30.202Z"
   },
   {
    "duration": 45,
    "start_time": "2021-09-15T11:37:30.209Z"
   },
   {
    "duration": 11,
    "start_time": "2021-09-15T11:37:30.256Z"
   },
   {
    "duration": 20,
    "start_time": "2021-09-15T11:37:30.270Z"
   },
   {
    "duration": 10,
    "start_time": "2021-09-15T11:37:30.293Z"
   },
   {
    "duration": 12,
    "start_time": "2021-09-15T11:37:30.306Z"
   },
   {
    "duration": 12,
    "start_time": "2021-09-15T11:37:30.321Z"
   },
   {
    "duration": 11,
    "start_time": "2021-09-15T11:37:30.335Z"
   },
   {
    "duration": 14,
    "start_time": "2021-09-15T11:37:30.349Z"
   },
   {
    "duration": 12,
    "start_time": "2021-09-15T11:37:30.378Z"
   },
   {
    "duration": 25,
    "start_time": "2021-09-15T11:37:30.392Z"
   },
   {
    "duration": 14,
    "start_time": "2021-09-15T11:37:30.418Z"
   },
   {
    "duration": 14,
    "start_time": "2021-09-15T11:37:30.434Z"
   },
   {
    "duration": 1095,
    "start_time": "2021-09-15T11:37:30.450Z"
   },
   {
    "duration": 31,
    "start_time": "2021-09-15T11:37:31.547Z"
   },
   {
    "duration": 14,
    "start_time": "2021-09-15T11:37:31.580Z"
   },
   {
    "duration": 29,
    "start_time": "2021-09-15T11:37:31.597Z"
   },
   {
    "duration": 813,
    "start_time": "2021-09-15T11:37:31.629Z"
   },
   {
    "duration": 316,
    "start_time": "2021-09-15T11:41:50.590Z"
   },
   {
    "duration": 198,
    "start_time": "2021-09-15T11:42:18.995Z"
   },
   {
    "duration": 397,
    "start_time": "2021-09-15T11:54:46.368Z"
   },
   {
    "duration": 282,
    "start_time": "2021-09-15T11:59:20.323Z"
   },
   {
    "duration": 453,
    "start_time": "2021-09-15T11:59:42.267Z"
   },
   {
    "duration": 415,
    "start_time": "2021-09-15T11:59:53.031Z"
   },
   {
    "duration": 445,
    "start_time": "2021-09-15T12:01:35.986Z"
   },
   {
    "duration": 442,
    "start_time": "2021-09-15T12:02:08.728Z"
   },
   {
    "duration": 528,
    "start_time": "2021-09-15T12:02:19.504Z"
   },
   {
    "duration": 646,
    "start_time": "2021-09-15T12:03:12.190Z"
   },
   {
    "duration": 269,
    "start_time": "2021-09-15T12:06:44.511Z"
   },
   {
    "duration": 10,
    "start_time": "2021-09-15T12:06:57.167Z"
   },
   {
    "duration": 10,
    "start_time": "2021-09-15T12:07:34.356Z"
   },
   {
    "duration": 5,
    "start_time": "2021-09-15T12:14:01.075Z"
   },
   {
    "duration": 84,
    "start_time": "2021-09-15T12:15:28.213Z"
   },
   {
    "duration": 268,
    "start_time": "2021-09-15T12:15:42.859Z"
   },
   {
    "duration": 268,
    "start_time": "2021-09-15T12:16:09.422Z"
   },
   {
    "duration": 91,
    "start_time": "2021-09-15T12:18:26.969Z"
   },
   {
    "duration": 284,
    "start_time": "2021-09-15T12:18:40.167Z"
   },
   {
    "duration": 4,
    "start_time": "2021-09-15T12:18:46.962Z"
   },
   {
    "duration": 54,
    "start_time": "2021-09-15T12:18:46.969Z"
   },
   {
    "duration": 10,
    "start_time": "2021-09-15T12:18:47.025Z"
   },
   {
    "duration": 21,
    "start_time": "2021-09-15T12:18:47.037Z"
   },
   {
    "duration": 13,
    "start_time": "2021-09-15T12:18:47.059Z"
   },
   {
    "duration": 17,
    "start_time": "2021-09-15T12:18:47.074Z"
   },
   {
    "duration": 11,
    "start_time": "2021-09-15T12:18:47.093Z"
   },
   {
    "duration": 14,
    "start_time": "2021-09-15T12:18:47.107Z"
   },
   {
    "duration": 18,
    "start_time": "2021-09-15T12:18:47.123Z"
   },
   {
    "duration": 12,
    "start_time": "2021-09-15T12:18:47.142Z"
   },
   {
    "duration": 282,
    "start_time": "2021-09-15T12:18:47.156Z"
   },
   {
    "duration": 316,
    "start_time": "2021-09-15T12:18:47.125Z"
   },
   {
    "duration": 285,
    "start_time": "2021-09-15T12:18:47.157Z"
   },
   {
    "duration": 279,
    "start_time": "2021-09-15T12:18:47.164Z"
   },
   {
    "duration": 277,
    "start_time": "2021-09-15T12:18:47.168Z"
   },
   {
    "duration": 272,
    "start_time": "2021-09-15T12:18:47.174Z"
   },
   {
    "duration": 269,
    "start_time": "2021-09-15T12:18:47.178Z"
   },
   {
    "duration": 267,
    "start_time": "2021-09-15T12:18:47.182Z"
   },
   {
    "duration": 265,
    "start_time": "2021-09-15T12:18:47.185Z"
   },
   {
    "duration": 261,
    "start_time": "2021-09-15T12:18:47.190Z"
   },
   {
    "duration": 5,
    "start_time": "2021-09-15T12:19:16.284Z"
   },
   {
    "duration": 5,
    "start_time": "2021-09-15T12:19:43.127Z"
   },
   {
    "duration": 4,
    "start_time": "2021-09-15T12:21:31.918Z"
   },
   {
    "duration": 4,
    "start_time": "2021-09-15T12:22:31.167Z"
   },
   {
    "duration": 49,
    "start_time": "2021-09-15T12:22:31.173Z"
   },
   {
    "duration": 10,
    "start_time": "2021-09-15T12:22:31.224Z"
   },
   {
    "duration": 20,
    "start_time": "2021-09-15T12:22:31.236Z"
   },
   {
    "duration": 7,
    "start_time": "2021-09-15T12:22:31.257Z"
   },
   {
    "duration": 19,
    "start_time": "2021-09-15T12:22:31.265Z"
   },
   {
    "duration": 10,
    "start_time": "2021-09-15T12:22:31.287Z"
   },
   {
    "duration": 11,
    "start_time": "2021-09-15T12:22:31.299Z"
   },
   {
    "duration": 10,
    "start_time": "2021-09-15T12:22:31.311Z"
   },
   {
    "duration": 17,
    "start_time": "2021-09-15T12:22:31.323Z"
   },
   {
    "duration": 10,
    "start_time": "2021-09-15T12:22:31.342Z"
   },
   {
    "duration": 11,
    "start_time": "2021-09-15T12:22:31.354Z"
   },
   {
    "duration": 10,
    "start_time": "2021-09-15T12:22:31.367Z"
   },
   {
    "duration": 30,
    "start_time": "2021-09-15T12:22:31.379Z"
   },
   {
    "duration": 93,
    "start_time": "2021-09-15T12:22:31.411Z"
   },
   {
    "duration": 374,
    "start_time": "2021-09-15T12:22:31.506Z"
   },
   {
    "duration": 416,
    "start_time": "2021-09-15T12:22:31.882Z"
   },
   {
    "duration": 10,
    "start_time": "2021-09-15T12:22:32.301Z"
   },
   {
    "duration": 18,
    "start_time": "2021-09-15T12:22:32.314Z"
   },
   {
    "duration": 13,
    "start_time": "2021-09-15T12:22:32.334Z"
   },
   {
    "duration": 52,
    "start_time": "2021-09-15T12:22:32.349Z"
   },
   {
    "duration": 749,
    "start_time": "2021-09-15T12:22:32.403Z"
   },
   {
    "duration": 267,
    "start_time": "2021-09-15T12:27:46.040Z"
   },
   {
    "duration": 307,
    "start_time": "2021-09-15T12:29:18.482Z"
   },
   {
    "duration": 8,
    "start_time": "2021-09-15T12:29:32.734Z"
   },
   {
    "duration": 10,
    "start_time": "2021-09-15T12:29:37.380Z"
   },
   {
    "duration": 5,
    "start_time": "2021-09-15T12:30:09.869Z"
   },
   {
    "duration": 47,
    "start_time": "2021-09-15T12:30:09.876Z"
   },
   {
    "duration": 10,
    "start_time": "2021-09-15T12:30:09.925Z"
   },
   {
    "duration": 28,
    "start_time": "2021-09-15T12:30:09.936Z"
   },
   {
    "duration": 19,
    "start_time": "2021-09-15T12:30:09.965Z"
   },
   {
    "duration": 27,
    "start_time": "2021-09-15T12:30:09.986Z"
   },
   {
    "duration": 31,
    "start_time": "2021-09-15T12:30:10.014Z"
   },
   {
    "duration": 16,
    "start_time": "2021-09-15T12:30:10.046Z"
   },
   {
    "duration": 24,
    "start_time": "2021-09-15T12:30:10.064Z"
   },
   {
    "duration": 11,
    "start_time": "2021-09-15T12:30:10.089Z"
   },
   {
    "duration": 14,
    "start_time": "2021-09-15T12:30:10.102Z"
   },
   {
    "duration": 29,
    "start_time": "2021-09-15T12:30:10.120Z"
   },
   {
    "duration": 291,
    "start_time": "2021-09-15T12:30:10.151Z"
   },
   {
    "duration": 252,
    "start_time": "2021-09-15T12:30:10.192Z"
   },
   {
    "duration": 251,
    "start_time": "2021-09-15T12:30:10.194Z"
   },
   {
    "duration": 248,
    "start_time": "2021-09-15T12:30:10.197Z"
   },
   {
    "duration": 244,
    "start_time": "2021-09-15T12:30:10.202Z"
   },
   {
    "duration": 241,
    "start_time": "2021-09-15T12:30:10.206Z"
   },
   {
    "duration": 236,
    "start_time": "2021-09-15T12:30:10.212Z"
   },
   {
    "duration": 234,
    "start_time": "2021-09-15T12:30:10.215Z"
   },
   {
    "duration": 5,
    "start_time": "2021-09-15T12:31:45.699Z"
   },
   {
    "duration": 43,
    "start_time": "2021-09-15T12:31:45.706Z"
   },
   {
    "duration": 10,
    "start_time": "2021-09-15T12:31:45.751Z"
   },
   {
    "duration": 11,
    "start_time": "2021-09-15T12:31:45.763Z"
   },
   {
    "duration": 8,
    "start_time": "2021-09-15T12:31:45.776Z"
   },
   {
    "duration": 6,
    "start_time": "2021-09-15T12:31:45.785Z"
   },
   {
    "duration": 7,
    "start_time": "2021-09-15T12:31:45.793Z"
   },
   {
    "duration": 10,
    "start_time": "2021-09-15T12:31:45.802Z"
   },
   {
    "duration": 10,
    "start_time": "2021-09-15T12:31:45.814Z"
   },
   {
    "duration": 8,
    "start_time": "2021-09-15T12:31:45.826Z"
   },
   {
    "duration": 11,
    "start_time": "2021-09-15T12:31:45.836Z"
   },
   {
    "duration": 16,
    "start_time": "2021-09-15T12:31:45.877Z"
   },
   {
    "duration": 316,
    "start_time": "2021-09-15T12:31:45.895Z"
   },
   {
    "duration": 277,
    "start_time": "2021-09-15T12:31:45.935Z"
   },
   {
    "duration": 275,
    "start_time": "2021-09-15T12:31:45.938Z"
   },
   {
    "duration": 273,
    "start_time": "2021-09-15T12:31:45.941Z"
   },
   {
    "duration": 269,
    "start_time": "2021-09-15T12:31:45.946Z"
   },
   {
    "duration": 267,
    "start_time": "2021-09-15T12:31:45.949Z"
   },
   {
    "duration": 265,
    "start_time": "2021-09-15T12:31:45.952Z"
   },
   {
    "duration": 263,
    "start_time": "2021-09-15T12:31:45.955Z"
   },
   {
    "duration": 19,
    "start_time": "2021-09-15T12:32:22.110Z"
   },
   {
    "duration": 20,
    "start_time": "2021-09-15T12:35:52.053Z"
   },
   {
    "duration": 7,
    "start_time": "2021-09-15T12:36:12.714Z"
   },
   {
    "duration": 4,
    "start_time": "2021-09-15T12:36:17.422Z"
   },
   {
    "duration": 52,
    "start_time": "2021-09-15T12:36:17.428Z"
   },
   {
    "duration": 9,
    "start_time": "2021-09-15T12:36:17.483Z"
   },
   {
    "duration": 13,
    "start_time": "2021-09-15T12:36:17.494Z"
   },
   {
    "duration": 4,
    "start_time": "2021-09-15T12:36:17.509Z"
   },
   {
    "duration": 5,
    "start_time": "2021-09-15T12:36:17.515Z"
   },
   {
    "duration": 5,
    "start_time": "2021-09-15T12:36:17.522Z"
   },
   {
    "duration": 4,
    "start_time": "2021-09-15T12:36:17.530Z"
   },
   {
    "duration": 46,
    "start_time": "2021-09-15T12:36:17.536Z"
   },
   {
    "duration": 13,
    "start_time": "2021-09-15T12:36:17.584Z"
   },
   {
    "duration": 9,
    "start_time": "2021-09-15T12:36:17.599Z"
   },
   {
    "duration": 16,
    "start_time": "2021-09-15T12:36:17.610Z"
   },
   {
    "duration": 116,
    "start_time": "2021-09-15T12:36:17.628Z"
   },
   {
    "duration": 379,
    "start_time": "2021-09-15T12:36:17.746Z"
   },
   {
    "duration": 484,
    "start_time": "2021-09-15T12:36:18.127Z"
   },
   {
    "duration": 10,
    "start_time": "2021-09-15T12:36:18.613Z"
   },
   {
    "duration": 16,
    "start_time": "2021-09-15T12:36:18.625Z"
   },
   {
    "duration": 39,
    "start_time": "2021-09-15T12:36:18.642Z"
   },
   {
    "duration": 23,
    "start_time": "2021-09-15T12:36:18.683Z"
   },
   {
    "duration": 739,
    "start_time": "2021-09-15T12:36:18.708Z"
   },
   {
    "duration": 8,
    "start_time": "2021-09-15T12:36:39.012Z"
   },
   {
    "duration": 5,
    "start_time": "2021-09-15T12:36:42.822Z"
   },
   {
    "duration": 43,
    "start_time": "2021-09-15T12:36:42.829Z"
   },
   {
    "duration": 10,
    "start_time": "2021-09-15T12:36:42.874Z"
   },
   {
    "duration": 27,
    "start_time": "2021-09-15T12:36:42.886Z"
   },
   {
    "duration": 10,
    "start_time": "2021-09-15T12:36:42.915Z"
   },
   {
    "duration": 24,
    "start_time": "2021-09-15T12:36:42.927Z"
   },
   {
    "duration": 17,
    "start_time": "2021-09-15T12:36:42.954Z"
   },
   {
    "duration": 12,
    "start_time": "2021-09-15T12:36:42.974Z"
   },
   {
    "duration": 17,
    "start_time": "2021-09-15T12:36:42.988Z"
   },
   {
    "duration": 17,
    "start_time": "2021-09-15T12:36:43.007Z"
   },
   {
    "duration": 20,
    "start_time": "2021-09-15T12:36:43.026Z"
   },
   {
    "duration": 31,
    "start_time": "2021-09-15T12:36:43.048Z"
   },
   {
    "duration": 90,
    "start_time": "2021-09-15T12:36:43.081Z"
   },
   {
    "duration": 389,
    "start_time": "2021-09-15T12:36:43.175Z"
   },
   {
    "duration": 412,
    "start_time": "2021-09-15T12:36:43.566Z"
   },
   {
    "duration": 10,
    "start_time": "2021-09-15T12:36:43.980Z"
   },
   {
    "duration": 17,
    "start_time": "2021-09-15T12:36:43.991Z"
   },
   {
    "duration": 13,
    "start_time": "2021-09-15T12:36:44.010Z"
   },
   {
    "duration": 51,
    "start_time": "2021-09-15T12:36:44.026Z"
   },
   {
    "duration": 753,
    "start_time": "2021-09-15T12:36:44.079Z"
   },
   {
    "duration": 10,
    "start_time": "2021-09-15T12:37:46.933Z"
   },
   {
    "duration": 10,
    "start_time": "2021-09-15T12:48:15.302Z"
   },
   {
    "duration": 275,
    "start_time": "2021-09-15T12:50:06.049Z"
   },
   {
    "duration": 257,
    "start_time": "2021-09-15T12:50:18.971Z"
   },
   {
    "duration": 5,
    "start_time": "2021-09-15T12:53:25.499Z"
   },
   {
    "duration": 8,
    "start_time": "2021-09-15T12:54:20.287Z"
   },
   {
    "duration": 8,
    "start_time": "2021-09-15T12:55:10.269Z"
   },
   {
    "duration": 5,
    "start_time": "2021-09-15T12:55:16.890Z"
   },
   {
    "duration": 52,
    "start_time": "2021-09-15T12:55:16.898Z"
   },
   {
    "duration": 10,
    "start_time": "2021-09-15T12:55:16.953Z"
   },
   {
    "duration": 21,
    "start_time": "2021-09-15T12:55:16.965Z"
   },
   {
    "duration": 11,
    "start_time": "2021-09-15T12:55:16.988Z"
   },
   {
    "duration": 18,
    "start_time": "2021-09-15T12:55:17.001Z"
   },
   {
    "duration": 19,
    "start_time": "2021-09-15T12:55:17.020Z"
   },
   {
    "duration": 17,
    "start_time": "2021-09-15T12:55:17.042Z"
   },
   {
    "duration": 20,
    "start_time": "2021-09-15T12:55:17.061Z"
   },
   {
    "duration": 13,
    "start_time": "2021-09-15T12:55:17.083Z"
   },
   {
    "duration": 16,
    "start_time": "2021-09-15T12:55:17.097Z"
   },
   {
    "duration": 25,
    "start_time": "2021-09-15T12:55:17.114Z"
   },
   {
    "duration": 16,
    "start_time": "2021-09-15T12:55:17.140Z"
   },
   {
    "duration": 18,
    "start_time": "2021-09-15T12:55:17.158Z"
   },
   {
    "duration": 85,
    "start_time": "2021-09-15T12:55:17.178Z"
   },
   {
    "duration": 448,
    "start_time": "2021-09-15T12:55:17.264Z"
   },
   {
    "duration": 488,
    "start_time": "2021-09-15T12:55:17.714Z"
   },
   {
    "duration": 9,
    "start_time": "2021-09-15T12:55:18.203Z"
   },
   {
    "duration": 23,
    "start_time": "2021-09-15T12:55:18.214Z"
   },
   {
    "duration": 13,
    "start_time": "2021-09-15T12:55:18.239Z"
   },
   {
    "duration": 40,
    "start_time": "2021-09-15T12:55:18.253Z"
   },
   {
    "duration": 735,
    "start_time": "2021-09-15T12:55:18.295Z"
   },
   {
    "duration": 5,
    "start_time": "2021-09-15T12:55:50.707Z"
   },
   {
    "duration": 48,
    "start_time": "2021-09-15T12:55:50.714Z"
   },
   {
    "duration": 9,
    "start_time": "2021-09-15T12:55:50.764Z"
   },
   {
    "duration": 34,
    "start_time": "2021-09-15T12:55:50.775Z"
   },
   {
    "duration": 21,
    "start_time": "2021-09-15T12:55:50.810Z"
   },
   {
    "duration": 29,
    "start_time": "2021-09-15T12:55:50.833Z"
   },
   {
    "duration": 9,
    "start_time": "2021-09-15T12:55:50.865Z"
   },
   {
    "duration": 18,
    "start_time": "2021-09-15T12:55:50.877Z"
   },
   {
    "duration": 12,
    "start_time": "2021-09-15T12:55:50.897Z"
   },
   {
    "duration": 8,
    "start_time": "2021-09-15T12:55:50.911Z"
   },
   {
    "duration": 16,
    "start_time": "2021-09-15T12:55:50.920Z"
   },
   {
    "duration": 27,
    "start_time": "2021-09-15T12:55:50.938Z"
   },
   {
    "duration": 18,
    "start_time": "2021-09-15T12:55:50.966Z"
   },
   {
    "duration": 19,
    "start_time": "2021-09-15T12:55:50.986Z"
   },
   {
    "duration": 104,
    "start_time": "2021-09-15T12:55:51.008Z"
   },
   {
    "duration": 362,
    "start_time": "2021-09-15T12:55:51.114Z"
   },
   {
    "duration": 408,
    "start_time": "2021-09-15T12:55:51.478Z"
   },
   {
    "duration": 10,
    "start_time": "2021-09-15T12:55:51.887Z"
   },
   {
    "duration": 16,
    "start_time": "2021-09-15T12:55:51.899Z"
   },
   {
    "duration": 12,
    "start_time": "2021-09-15T12:55:51.917Z"
   },
   {
    "duration": 55,
    "start_time": "2021-09-15T12:55:51.931Z"
   },
   {
    "duration": 740,
    "start_time": "2021-09-15T12:55:51.988Z"
   },
   {
    "duration": 8,
    "start_time": "2021-09-15T12:58:06.211Z"
   },
   {
    "duration": 7,
    "start_time": "2021-09-15T12:58:16.814Z"
   },
   {
    "duration": 5,
    "start_time": "2021-09-15T12:58:30.881Z"
   },
   {
    "duration": 48,
    "start_time": "2021-09-15T12:58:30.887Z"
   },
   {
    "duration": 10,
    "start_time": "2021-09-15T12:58:30.937Z"
   },
   {
    "duration": 19,
    "start_time": "2021-09-15T12:58:30.949Z"
   },
   {
    "duration": 12,
    "start_time": "2021-09-15T12:58:30.970Z"
   },
   {
    "duration": 14,
    "start_time": "2021-09-15T12:58:30.983Z"
   },
   {
    "duration": 13,
    "start_time": "2021-09-15T12:58:30.999Z"
   },
   {
    "duration": 11,
    "start_time": "2021-09-15T12:58:31.015Z"
   },
   {
    "duration": 22,
    "start_time": "2021-09-15T12:58:31.028Z"
   },
   {
    "duration": 10,
    "start_time": "2021-09-15T12:58:31.052Z"
   },
   {
    "duration": 22,
    "start_time": "2021-09-15T12:58:31.063Z"
   },
   {
    "duration": 24,
    "start_time": "2021-09-15T12:58:31.086Z"
   },
   {
    "duration": 26,
    "start_time": "2021-09-15T12:58:31.112Z"
   },
   {
    "duration": 33,
    "start_time": "2021-09-15T12:58:31.139Z"
   },
   {
    "duration": 87,
    "start_time": "2021-09-15T12:58:31.173Z"
   },
   {
    "duration": 449,
    "start_time": "2021-09-15T12:58:31.262Z"
   },
   {
    "duration": 417,
    "start_time": "2021-09-15T12:58:31.713Z"
   },
   {
    "duration": 9,
    "start_time": "2021-09-15T12:58:32.132Z"
   },
   {
    "duration": 37,
    "start_time": "2021-09-15T12:58:32.144Z"
   },
   {
    "duration": 19,
    "start_time": "2021-09-15T12:58:32.183Z"
   },
   {
    "duration": 33,
    "start_time": "2021-09-15T12:58:32.204Z"
   },
   {
    "duration": 753,
    "start_time": "2021-09-15T12:58:32.239Z"
   },
   {
    "duration": 4,
    "start_time": "2021-09-15T13:01:13.684Z"
   },
   {
    "duration": 55,
    "start_time": "2021-09-15T13:01:13.690Z"
   },
   {
    "duration": 9,
    "start_time": "2021-09-15T13:01:13.747Z"
   },
   {
    "duration": 32,
    "start_time": "2021-09-15T13:01:13.758Z"
   },
   {
    "duration": 11,
    "start_time": "2021-09-15T13:01:13.791Z"
   },
   {
    "duration": 28,
    "start_time": "2021-09-15T13:01:13.803Z"
   },
   {
    "duration": 19,
    "start_time": "2021-09-15T13:01:13.833Z"
   },
   {
    "duration": 22,
    "start_time": "2021-09-15T13:01:13.854Z"
   },
   {
    "duration": 19,
    "start_time": "2021-09-15T13:01:13.877Z"
   },
   {
    "duration": 8,
    "start_time": "2021-09-15T13:01:13.898Z"
   },
   {
    "duration": 7,
    "start_time": "2021-09-15T13:01:13.907Z"
   },
   {
    "duration": 8,
    "start_time": "2021-09-15T13:01:13.915Z"
   },
   {
    "duration": 11,
    "start_time": "2021-09-15T13:01:13.924Z"
   },
   {
    "duration": 40,
    "start_time": "2021-09-15T13:01:13.937Z"
   },
   {
    "duration": 16,
    "start_time": "2021-09-15T13:01:13.979Z"
   },
   {
    "duration": 103,
    "start_time": "2021-09-15T13:01:13.997Z"
   },
   {
    "duration": 380,
    "start_time": "2021-09-15T13:01:14.102Z"
   },
   {
    "duration": 436,
    "start_time": "2021-09-15T13:01:14.485Z"
   },
   {
    "duration": 11,
    "start_time": "2021-09-15T13:01:14.924Z"
   },
   {
    "duration": 17,
    "start_time": "2021-09-15T13:01:14.937Z"
   },
   {
    "duration": 15,
    "start_time": "2021-09-15T13:01:14.977Z"
   },
   {
    "duration": 27,
    "start_time": "2021-09-15T13:01:14.994Z"
   },
   {
    "duration": 1139,
    "start_time": "2021-09-15T13:01:15.023Z"
   },
   {
    "duration": 5,
    "start_time": "2021-09-15T13:04:24.889Z"
   },
   {
    "duration": 44,
    "start_time": "2021-09-15T13:04:24.897Z"
   },
   {
    "duration": 11,
    "start_time": "2021-09-15T13:04:24.944Z"
   },
   {
    "duration": 20,
    "start_time": "2021-09-15T13:04:24.958Z"
   },
   {
    "duration": 7,
    "start_time": "2021-09-15T13:04:24.980Z"
   },
   {
    "duration": 8,
    "start_time": "2021-09-15T13:04:24.989Z"
   },
   {
    "duration": 6,
    "start_time": "2021-09-15T13:04:24.999Z"
   },
   {
    "duration": 7,
    "start_time": "2021-09-15T13:04:25.007Z"
   },
   {
    "duration": 9,
    "start_time": "2021-09-15T13:04:25.016Z"
   },
   {
    "duration": 7,
    "start_time": "2021-09-15T13:04:25.027Z"
   },
   {
    "duration": 43,
    "start_time": "2021-09-15T13:04:25.036Z"
   },
   {
    "duration": 12,
    "start_time": "2021-09-15T13:04:25.081Z"
   },
   {
    "duration": 11,
    "start_time": "2021-09-15T13:04:25.095Z"
   },
   {
    "duration": 116,
    "start_time": "2021-09-15T13:04:25.107Z"
   },
   {
    "duration": 106,
    "start_time": "2021-09-15T13:04:25.225Z"
   },
   {
    "duration": 370,
    "start_time": "2021-09-15T13:04:25.333Z"
   },
   {
    "duration": 524,
    "start_time": "2021-09-15T13:04:25.705Z"
   },
   {
    "duration": 12,
    "start_time": "2021-09-15T13:04:26.231Z"
   },
   {
    "duration": 33,
    "start_time": "2021-09-15T13:04:26.245Z"
   },
   {
    "duration": 14,
    "start_time": "2021-09-15T13:04:26.279Z"
   },
   {
    "duration": 23,
    "start_time": "2021-09-15T13:04:26.295Z"
   },
   {
    "duration": 760,
    "start_time": "2021-09-15T13:04:26.320Z"
   },
   {
    "duration": 10,
    "start_time": "2021-09-15T13:04:52.040Z"
   },
   {
    "duration": 10,
    "start_time": "2021-09-15T13:05:41.335Z"
   },
   {
    "duration": 10,
    "start_time": "2021-09-15T13:05:55.566Z"
   },
   {
    "duration": 10,
    "start_time": "2021-09-15T13:06:48.125Z"
   },
   {
    "duration": 21,
    "start_time": "2021-09-15T13:25:41.012Z"
   },
   {
    "duration": 13,
    "start_time": "2021-09-15T13:26:01.812Z"
   },
   {
    "duration": 483,
    "start_time": "2021-09-15T13:27:06.527Z"
   },
   {
    "duration": 21,
    "start_time": "2021-09-15T13:27:50.435Z"
   },
   {
    "duration": 7,
    "start_time": "2021-09-15T13:28:43.052Z"
   },
   {
    "duration": 21,
    "start_time": "2021-09-15T13:28:57.602Z"
   },
   {
    "duration": 16,
    "start_time": "2021-09-15T13:30:27.646Z"
   },
   {
    "duration": 33,
    "start_time": "2021-09-15T13:32:20.436Z"
   },
   {
    "duration": 191,
    "start_time": "2021-09-15T13:37:24.759Z"
   },
   {
    "duration": 193,
    "start_time": "2021-09-15T13:39:54.150Z"
   },
   {
    "duration": 201,
    "start_time": "2021-09-15T13:40:43.075Z"
   },
   {
    "duration": 17,
    "start_time": "2021-09-15T13:44:58.467Z"
   },
   {
    "duration": 17,
    "start_time": "2021-09-15T13:45:41.225Z"
   },
   {
    "duration": 19,
    "start_time": "2021-09-15T13:50:02.067Z"
   },
   {
    "duration": 19,
    "start_time": "2021-09-15T13:50:19.340Z"
   },
   {
    "duration": 17,
    "start_time": "2021-09-15T13:50:40.290Z"
   },
   {
    "duration": 422,
    "start_time": "2021-09-15T14:02:38.697Z"
   },
   {
    "duration": 256,
    "start_time": "2021-09-15T14:03:02.400Z"
   },
   {
    "duration": 280,
    "start_time": "2021-09-15T14:03:09.402Z"
   },
   {
    "duration": 6,
    "start_time": "2021-09-15T14:03:26.832Z"
   },
   {
    "duration": 51,
    "start_time": "2021-09-15T14:03:26.841Z"
   },
   {
    "duration": 14,
    "start_time": "2021-09-15T14:03:26.895Z"
   },
   {
    "duration": 20,
    "start_time": "2021-09-15T14:03:26.911Z"
   },
   {
    "duration": 15,
    "start_time": "2021-09-15T14:03:26.933Z"
   },
   {
    "duration": 27,
    "start_time": "2021-09-15T14:03:26.951Z"
   },
   {
    "duration": 6,
    "start_time": "2021-09-15T14:03:26.981Z"
   },
   {
    "duration": 6,
    "start_time": "2021-09-15T14:03:26.989Z"
   },
   {
    "duration": 118,
    "start_time": "2021-09-15T14:03:26.998Z"
   },
   {
    "duration": 9,
    "start_time": "2021-09-15T14:03:27.119Z"
   },
   {
    "duration": 18,
    "start_time": "2021-09-15T14:03:27.130Z"
   },
   {
    "duration": 50,
    "start_time": "2021-09-15T14:03:27.150Z"
   },
   {
    "duration": 33,
    "start_time": "2021-09-15T14:03:27.203Z"
   },
   {
    "duration": 41,
    "start_time": "2021-09-15T14:03:27.239Z"
   },
   {
    "duration": 100,
    "start_time": "2021-09-15T14:03:27.282Z"
   },
   {
    "duration": 386,
    "start_time": "2021-09-15T14:03:27.384Z"
   },
   {
    "duration": 435,
    "start_time": "2021-09-15T14:03:27.772Z"
   },
   {
    "duration": 12,
    "start_time": "2021-09-15T14:03:28.209Z"
   },
   {
    "duration": 25,
    "start_time": "2021-09-15T14:03:28.223Z"
   },
   {
    "duration": 240,
    "start_time": "2021-09-15T14:03:28.250Z"
   },
   {
    "duration": 18,
    "start_time": "2021-09-15T14:03:28.492Z"
   },
   {
    "duration": 307,
    "start_time": "2021-09-15T14:03:28.512Z"
   },
   {
    "duration": 18,
    "start_time": "2021-09-15T14:03:28.820Z"
   },
   {
    "duration": 39,
    "start_time": "2021-09-15T14:03:28.839Z"
   },
   {
    "duration": 25,
    "start_time": "2021-09-15T14:03:28.879Z"
   },
   {
    "duration": 787,
    "start_time": "2021-09-15T14:03:28.905Z"
   },
   {
    "duration": 288,
    "start_time": "2021-09-15T14:04:56.034Z"
   },
   {
    "duration": 8,
    "start_time": "2021-09-15T14:13:00.406Z"
   },
   {
    "duration": 46,
    "start_time": "2021-09-15T14:15:38.451Z"
   },
   {
    "duration": 4,
    "start_time": "2021-09-15T14:16:57.954Z"
   },
   {
    "duration": 41,
    "start_time": "2021-09-15T14:16:57.960Z"
   },
   {
    "duration": 10,
    "start_time": "2021-09-15T14:16:58.003Z"
   },
   {
    "duration": 12,
    "start_time": "2021-09-15T14:16:58.015Z"
   },
   {
    "duration": 5,
    "start_time": "2021-09-15T14:16:58.029Z"
   },
   {
    "duration": 9,
    "start_time": "2021-09-15T14:16:58.036Z"
   },
   {
    "duration": 34,
    "start_time": "2021-09-15T14:16:58.046Z"
   },
   {
    "duration": 7,
    "start_time": "2021-09-15T14:16:58.083Z"
   },
   {
    "duration": 9,
    "start_time": "2021-09-15T14:16:58.092Z"
   },
   {
    "duration": 8,
    "start_time": "2021-09-15T14:16:58.103Z"
   },
   {
    "duration": 6,
    "start_time": "2021-09-15T14:16:58.113Z"
   },
   {
    "duration": 11,
    "start_time": "2021-09-15T14:16:58.121Z"
   },
   {
    "duration": 49,
    "start_time": "2021-09-15T14:16:58.134Z"
   },
   {
    "duration": 15,
    "start_time": "2021-09-15T14:16:58.185Z"
   },
   {
    "duration": 114,
    "start_time": "2021-09-15T14:16:58.202Z"
   },
   {
    "duration": 368,
    "start_time": "2021-09-15T14:16:58.318Z"
   },
   {
    "duration": 607,
    "start_time": "2021-09-15T14:16:58.687Z"
   },
   {
    "duration": 13,
    "start_time": "2021-09-15T14:16:59.297Z"
   },
   {
    "duration": 29,
    "start_time": "2021-09-15T14:16:59.312Z"
   },
   {
    "duration": 218,
    "start_time": "2021-09-15T14:16:59.342Z"
   },
   {
    "duration": 22,
    "start_time": "2021-09-15T14:16:59.562Z"
   },
   {
    "duration": 16,
    "start_time": "2021-09-15T14:16:59.586Z"
   },
   {
    "duration": 8,
    "start_time": "2021-09-15T14:16:59.604Z"
   },
   {
    "duration": 74,
    "start_time": "2021-09-15T14:16:59.614Z"
   },
   {
    "duration": 24,
    "start_time": "2021-09-15T14:16:59.689Z"
   },
   {
    "duration": 767,
    "start_time": "2021-09-15T14:16:59.714Z"
   },
   {
    "duration": 295,
    "start_time": "2021-09-15T14:34:28.734Z"
   },
   {
    "duration": 45,
    "start_time": "2021-09-15T14:34:43.151Z"
   },
   {
    "duration": 17,
    "start_time": "2021-09-15T14:40:06.159Z"
   },
   {
    "duration": 288,
    "start_time": "2021-09-15T14:41:15.698Z"
   },
   {
    "duration": 355,
    "start_time": "2021-09-15T14:42:20.256Z"
   },
   {
    "duration": 698,
    "start_time": "2021-09-15T14:42:50.365Z"
   },
   {
    "duration": 707,
    "start_time": "2021-09-15T14:44:08.088Z"
   },
   {
    "duration": 711,
    "start_time": "2021-09-15T14:44:14.391Z"
   },
   {
    "duration": 706,
    "start_time": "2021-09-15T14:44:21.430Z"
   },
   {
    "duration": 708,
    "start_time": "2021-09-15T14:44:47.487Z"
   },
   {
    "duration": 16,
    "start_time": "2021-09-15T14:48:45.392Z"
   },
   {
    "duration": 859,
    "start_time": "2021-09-15T14:48:49.442Z"
   },
   {
    "duration": 323,
    "start_time": "2021-09-15T14:48:54.753Z"
   },
   {
    "duration": 338,
    "start_time": "2021-09-15T14:50:41.261Z"
   },
   {
    "duration": 21,
    "start_time": "2021-09-15T14:52:15.801Z"
   },
   {
    "duration": 507,
    "start_time": "2021-09-15T14:52:50.672Z"
   },
   {
    "duration": 389,
    "start_time": "2021-09-15T14:53:02.620Z"
   },
   {
    "duration": 355,
    "start_time": "2021-09-15T14:53:08.090Z"
   },
   {
    "duration": 355,
    "start_time": "2021-09-15T14:54:14.828Z"
   },
   {
    "duration": 364,
    "start_time": "2021-09-15T14:54:49.945Z"
   },
   {
    "duration": 21,
    "start_time": "2021-09-15T14:57:03.776Z"
   },
   {
    "duration": 290,
    "start_time": "2021-09-15T15:04:15.278Z"
   },
   {
    "duration": 262,
    "start_time": "2021-09-15T15:04:39.215Z"
   },
   {
    "duration": 429,
    "start_time": "2021-09-15T15:06:00.913Z"
   },
   {
    "duration": 41,
    "start_time": "2021-09-15T15:06:14.111Z"
   },
   {
    "duration": 6,
    "start_time": "2021-09-15T18:09:07.363Z"
   },
   {
    "duration": 1507,
    "start_time": "2021-09-15T18:09:11.389Z"
   },
   {
    "duration": 48,
    "start_time": "2021-09-15T18:09:12.899Z"
   },
   {
    "duration": 16,
    "start_time": "2021-09-15T18:09:12.950Z"
   },
   {
    "duration": 35,
    "start_time": "2021-09-15T18:09:12.969Z"
   },
   {
    "duration": 10,
    "start_time": "2021-09-15T18:09:13.007Z"
   },
   {
    "duration": 11,
    "start_time": "2021-09-15T18:09:13.019Z"
   },
   {
    "duration": 7,
    "start_time": "2021-09-15T18:09:13.032Z"
   },
   {
    "duration": 44,
    "start_time": "2021-09-15T18:09:13.042Z"
   },
   {
    "duration": 11,
    "start_time": "2021-09-15T18:09:13.090Z"
   },
   {
    "duration": 12,
    "start_time": "2021-09-15T18:09:13.104Z"
   },
   {
    "duration": 10,
    "start_time": "2021-09-15T18:09:13.118Z"
   },
   {
    "duration": 60,
    "start_time": "2021-09-15T18:09:13.130Z"
   },
   {
    "duration": 17,
    "start_time": "2021-09-15T18:09:13.193Z"
   },
   {
    "duration": 23,
    "start_time": "2021-09-15T18:09:13.212Z"
   },
   {
    "duration": 196,
    "start_time": "2021-09-15T18:09:13.238Z"
   },
   {
    "duration": 636,
    "start_time": "2021-09-15T18:09:13.437Z"
   },
   {
    "duration": 703,
    "start_time": "2021-09-15T18:09:14.082Z"
   },
   {
    "duration": 14,
    "start_time": "2021-09-15T18:09:14.787Z"
   },
   {
    "duration": 36,
    "start_time": "2021-09-15T18:09:14.803Z"
   },
   {
    "duration": 353,
    "start_time": "2021-09-15T18:09:14.842Z"
   },
   {
    "duration": 28,
    "start_time": "2021-09-15T18:09:15.197Z"
   },
   {
    "duration": 56,
    "start_time": "2021-09-15T18:09:15.228Z"
   },
   {
    "duration": 12,
    "start_time": "2021-09-15T18:09:15.286Z"
   },
   {
    "duration": 89,
    "start_time": "2021-09-15T18:09:15.301Z"
   },
   {
    "duration": 24,
    "start_time": "2021-09-15T18:09:15.392Z"
   },
   {
    "duration": 1425,
    "start_time": "2021-09-15T18:09:15.418Z"
   },
   {
    "duration": 720,
    "start_time": "2021-09-15T18:09:16.849Z"
   },
   {
    "duration": 119,
    "start_time": "2021-09-15T18:09:17.571Z"
   },
   {
    "duration": 6,
    "start_time": "2021-09-15T18:09:17.693Z"
   },
   {
    "duration": 308,
    "start_time": "2021-09-15T18:10:53.096Z"
   },
   {
    "duration": 6,
    "start_time": "2021-09-15T18:11:14.386Z"
   },
   {
    "duration": 323,
    "start_time": "2021-09-15T18:11:19.186Z"
   },
   {
    "duration": 350,
    "start_time": "2021-09-15T18:14:24.045Z"
   },
   {
    "duration": 6,
    "start_time": "2021-09-15T18:14:48.105Z"
   },
   {
    "duration": 319,
    "start_time": "2021-09-15T18:14:51.275Z"
   },
   {
    "duration": 350,
    "start_time": "2021-09-15T18:14:54.875Z"
   },
   {
    "duration": 403,
    "start_time": "2021-09-15T18:16:16.683Z"
   },
   {
    "duration": 340,
    "start_time": "2021-09-15T18:20:08.510Z"
   },
   {
    "duration": 352,
    "start_time": "2021-09-15T18:23:20.007Z"
   },
   {
    "duration": 322,
    "start_time": "2021-09-15T18:27:45.980Z"
   },
   {
    "duration": 6,
    "start_time": "2021-09-15T18:31:32.909Z"
   },
   {
    "duration": 32,
    "start_time": "2021-09-15T18:31:48.295Z"
   },
   {
    "duration": 541,
    "start_time": "2021-09-15T18:32:31.200Z"
   },
   {
    "duration": 49,
    "start_time": "2021-09-15T18:32:40.787Z"
   },
   {
    "duration": 361,
    "start_time": "2021-09-15T18:33:21.593Z"
   },
   {
    "duration": 344,
    "start_time": "2021-09-15T18:33:33.013Z"
   },
   {
    "duration": 445,
    "start_time": "2021-09-15T18:33:38.227Z"
   },
   {
    "duration": 383,
    "start_time": "2021-09-15T18:34:16.055Z"
   },
   {
    "duration": 15,
    "start_time": "2021-09-15T18:34:21.525Z"
   },
   {
    "duration": 394,
    "start_time": "2021-09-15T18:37:07.427Z"
   },
   {
    "duration": 781,
    "start_time": "2021-09-15T19:01:09.304Z"
   },
   {
    "duration": 469,
    "start_time": "2021-09-15T19:01:20.317Z"
   },
   {
    "duration": 477,
    "start_time": "2021-09-15T19:02:16.743Z"
   },
   {
    "duration": 484,
    "start_time": "2021-09-15T19:02:55.551Z"
   },
   {
    "duration": 71,
    "start_time": "2021-09-15T19:05:01.451Z"
   },
   {
    "duration": 424,
    "start_time": "2021-09-15T19:16:06.554Z"
   },
   {
    "duration": 7,
    "start_time": "2021-09-15T19:16:21.362Z"
   },
   {
    "duration": 56,
    "start_time": "2021-09-15T19:16:21.371Z"
   },
   {
    "duration": 14,
    "start_time": "2021-09-15T19:16:21.430Z"
   },
   {
    "duration": 47,
    "start_time": "2021-09-15T19:16:21.448Z"
   },
   {
    "duration": 7,
    "start_time": "2021-09-15T19:16:21.498Z"
   },
   {
    "duration": 9,
    "start_time": "2021-09-15T19:16:21.508Z"
   },
   {
    "duration": 8,
    "start_time": "2021-09-15T19:16:21.522Z"
   },
   {
    "duration": 52,
    "start_time": "2021-09-15T19:16:21.534Z"
   },
   {
    "duration": 12,
    "start_time": "2021-09-15T19:16:21.589Z"
   },
   {
    "duration": 13,
    "start_time": "2021-09-15T19:16:21.603Z"
   },
   {
    "duration": 10,
    "start_time": "2021-09-15T19:16:21.618Z"
   },
   {
    "duration": 58,
    "start_time": "2021-09-15T19:16:21.630Z"
   },
   {
    "duration": 16,
    "start_time": "2021-09-15T19:16:21.691Z"
   },
   {
    "duration": 23,
    "start_time": "2021-09-15T19:16:21.710Z"
   },
   {
    "duration": 183,
    "start_time": "2021-09-15T19:16:21.735Z"
   },
   {
    "duration": 639,
    "start_time": "2021-09-15T19:16:21.921Z"
   },
   {
    "duration": 724,
    "start_time": "2021-09-15T19:16:22.564Z"
   },
   {
    "duration": 13,
    "start_time": "2021-09-15T19:16:23.291Z"
   },
   {
    "duration": 36,
    "start_time": "2021-09-15T19:16:23.309Z"
   },
   {
    "duration": 356,
    "start_time": "2021-09-15T19:16:23.348Z"
   },
   {
    "duration": 27,
    "start_time": "2021-09-15T19:16:23.706Z"
   },
   {
    "duration": 49,
    "start_time": "2021-09-15T19:16:23.735Z"
   },
   {
    "duration": 11,
    "start_time": "2021-09-15T19:16:23.786Z"
   },
   {
    "duration": 172,
    "start_time": "2021-09-15T19:16:23.799Z"
   },
   {
    "duration": 27,
    "start_time": "2021-09-15T19:16:23.974Z"
   },
   {
    "duration": 1279,
    "start_time": "2021-09-15T19:16:24.003Z"
   },
   {
    "duration": 447,
    "start_time": "2021-09-15T19:16:25.284Z"
   },
   {
    "duration": 10,
    "start_time": "2021-09-15T19:16:25.735Z"
   },
   {
    "duration": 88,
    "start_time": "2021-09-15T19:16:25.748Z"
   },
   {
    "duration": 7,
    "start_time": "2021-09-15T19:16:25.840Z"
   },
   {
    "duration": 349,
    "start_time": "2021-09-15T19:16:25.850Z"
   },
   {
    "duration": 352,
    "start_time": "2021-09-15T19:16:26.203Z"
   },
   {
    "duration": 334,
    "start_time": "2021-09-15T19:16:26.558Z"
   },
   {
    "duration": 354,
    "start_time": "2021-09-15T19:16:26.895Z"
   },
   {
    "duration": 370,
    "start_time": "2021-09-15T19:16:27.251Z"
   },
   {
    "duration": 344,
    "start_time": "2021-09-15T19:16:27.624Z"
   },
   {
    "duration": 630,
    "start_time": "2021-09-15T19:17:06.279Z"
   },
   {
    "duration": 431,
    "start_time": "2021-09-15T19:17:50.622Z"
   },
   {
    "duration": 563,
    "start_time": "2021-09-15T19:17:59.932Z"
   },
   {
    "duration": 648,
    "start_time": "2021-09-15T19:18:07.938Z"
   },
   {
    "duration": 591,
    "start_time": "2021-09-15T19:18:41.865Z"
   },
   {
    "duration": 9,
    "start_time": "2021-09-15T19:20:44.012Z"
   },
   {
    "duration": 10,
    "start_time": "2021-09-15T19:20:46.342Z"
   },
   {
    "duration": 7,
    "start_time": "2021-09-15T19:20:49.948Z"
   },
   {
    "duration": 56,
    "start_time": "2021-09-15T19:20:49.958Z"
   },
   {
    "duration": 16,
    "start_time": "2021-09-15T19:20:50.019Z"
   },
   {
    "duration": 47,
    "start_time": "2021-09-15T19:20:50.038Z"
   },
   {
    "duration": 14,
    "start_time": "2021-09-15T19:20:50.087Z"
   },
   {
    "duration": 9,
    "start_time": "2021-09-15T19:20:50.104Z"
   },
   {
    "duration": 10,
    "start_time": "2021-09-15T19:20:50.115Z"
   },
   {
    "duration": 9,
    "start_time": "2021-09-15T19:20:50.127Z"
   },
   {
    "duration": 47,
    "start_time": "2021-09-15T19:20:50.140Z"
   },
   {
    "duration": 14,
    "start_time": "2021-09-15T19:20:50.190Z"
   },
   {
    "duration": 10,
    "start_time": "2021-09-15T19:20:50.206Z"
   },
   {
    "duration": 17,
    "start_time": "2021-09-15T19:20:50.219Z"
   },
   {
    "duration": 55,
    "start_time": "2021-09-15T19:20:50.238Z"
   },
   {
    "duration": 19,
    "start_time": "2021-09-15T19:20:50.295Z"
   },
   {
    "duration": 175,
    "start_time": "2021-09-15T19:20:50.316Z"
   },
   {
    "duration": 727,
    "start_time": "2021-09-15T19:20:50.493Z"
   },
   {
    "duration": 802,
    "start_time": "2021-09-15T19:20:51.222Z"
   },
   {
    "duration": 13,
    "start_time": "2021-09-15T19:20:52.027Z"
   },
   {
    "duration": 55,
    "start_time": "2021-09-15T19:20:52.042Z"
   },
   {
    "duration": 324,
    "start_time": "2021-09-15T19:20:52.099Z"
   },
   {
    "duration": 28,
    "start_time": "2021-09-15T19:20:52.425Z"
   },
   {
    "duration": 41,
    "start_time": "2021-09-15T19:20:52.456Z"
   },
   {
    "duration": 10,
    "start_time": "2021-09-15T19:20:52.500Z"
   },
   {
    "duration": 91,
    "start_time": "2021-09-15T19:20:52.512Z"
   },
   {
    "duration": 21,
    "start_time": "2021-09-15T19:20:52.606Z"
   },
   {
    "duration": 1324,
    "start_time": "2021-09-15T19:20:52.629Z"
   },
   {
    "duration": 593,
    "start_time": "2021-09-15T19:20:53.957Z"
   },
   {
    "duration": 9,
    "start_time": "2021-09-15T19:20:54.553Z"
   },
   {
    "duration": 76,
    "start_time": "2021-09-15T19:20:54.564Z"
   },
   {
    "duration": 6,
    "start_time": "2021-09-15T19:20:54.642Z"
   },
   {
    "duration": 339,
    "start_time": "2021-09-15T19:20:54.650Z"
   },
   {
    "duration": 438,
    "start_time": "2021-09-15T19:20:54.992Z"
   },
   {
    "duration": 339,
    "start_time": "2021-09-15T19:20:55.432Z"
   },
   {
    "duration": 360,
    "start_time": "2021-09-15T19:20:55.774Z"
   },
   {
    "duration": 366,
    "start_time": "2021-09-15T19:20:56.136Z"
   },
   {
    "duration": 357,
    "start_time": "2021-09-15T19:20:56.504Z"
   },
   {
    "duration": 587,
    "start_time": "2021-09-15T19:22:40.551Z"
   },
   {
    "duration": 499,
    "start_time": "2021-09-15T19:22:48.617Z"
   },
   {
    "duration": 518,
    "start_time": "2021-09-15T19:23:13.101Z"
   },
   {
    "duration": 518,
    "start_time": "2021-09-15T19:26:06.508Z"
   },
   {
    "duration": 592,
    "start_time": "2021-09-15T19:26:11.148Z"
   },
   {
    "duration": 567,
    "start_time": "2021-09-15T19:26:15.849Z"
   },
   {
    "duration": 7,
    "start_time": "2021-09-15T19:27:37.946Z"
   },
   {
    "duration": 13,
    "start_time": "2021-09-15T19:32:08.564Z"
   },
   {
    "duration": 4030,
    "start_time": "2021-09-15T19:34:52.010Z"
   },
   {
    "duration": 105,
    "start_time": "2021-09-15T19:36:53.084Z"
   },
   {
    "duration": 13,
    "start_time": "2021-09-15T19:37:44.703Z"
   },
   {
    "duration": 13,
    "start_time": "2021-09-15T19:39:24.889Z"
   },
   {
    "duration": 13,
    "start_time": "2021-09-15T19:42:48.287Z"
   },
   {
    "duration": 13,
    "start_time": "2021-09-15T19:43:21.245Z"
   },
   {
    "duration": 12,
    "start_time": "2021-09-15T19:51:14.378Z"
   },
   {
    "duration": 4080,
    "start_time": "2021-09-15T19:51:19.641Z"
   },
   {
    "duration": 114,
    "start_time": "2021-09-15T19:53:12.337Z"
   },
   {
    "duration": 3916,
    "start_time": "2021-09-15T19:53:16.645Z"
   },
   {
    "duration": 13,
    "start_time": "2021-09-15T19:59:21.739Z"
   },
   {
    "duration": 4291,
    "start_time": "2021-09-15T19:59:27.509Z"
   },
   {
    "duration": 13,
    "start_time": "2021-09-15T20:02:01.383Z"
   },
   {
    "duration": 4368,
    "start_time": "2021-09-15T20:02:05.092Z"
   },
   {
    "duration": 15,
    "start_time": "2021-09-15T20:05:22.085Z"
   },
   {
    "duration": 4567,
    "start_time": "2021-09-15T20:05:24.659Z"
   },
   {
    "duration": 304,
    "start_time": "2021-09-15T20:06:32.987Z"
   },
   {
    "duration": 14,
    "start_time": "2021-09-15T20:06:46.605Z"
   },
   {
    "duration": 4004,
    "start_time": "2021-09-15T20:06:48.959Z"
   },
   {
    "duration": 14,
    "start_time": "2021-09-15T20:08:02.588Z"
   },
   {
    "duration": 4542,
    "start_time": "2021-09-15T20:08:05.514Z"
   },
   {
    "duration": 7,
    "start_time": "2021-09-15T21:09:23.659Z"
   },
   {
    "duration": 10,
    "start_time": "2021-09-15T21:09:46.376Z"
   },
   {
    "duration": 1022,
    "start_time": "2021-09-15T21:23:18.510Z"
   },
   {
    "duration": 106,
    "start_time": "2021-09-15T21:25:09.174Z"
   },
   {
    "duration": 7,
    "start_time": "2021-09-15T21:25:16.053Z"
   },
   {
    "duration": 1065,
    "start_time": "2021-09-15T21:25:19.659Z"
   },
   {
    "duration": 6,
    "start_time": "2021-09-15T21:25:36.161Z"
   },
   {
    "duration": 316,
    "start_time": "2021-09-15T21:25:39.404Z"
   },
   {
    "duration": 7,
    "start_time": "2021-09-15T21:25:46.186Z"
   },
   {
    "duration": 50,
    "start_time": "2021-09-15T21:25:46.195Z"
   },
   {
    "duration": 12,
    "start_time": "2021-09-15T21:25:46.248Z"
   },
   {
    "duration": 15,
    "start_time": "2021-09-15T21:25:46.282Z"
   },
   {
    "duration": 7,
    "start_time": "2021-09-15T21:25:46.300Z"
   },
   {
    "duration": 7,
    "start_time": "2021-09-15T21:25:46.310Z"
   },
   {
    "duration": 10,
    "start_time": "2021-09-15T21:25:46.321Z"
   },
   {
    "duration": 54,
    "start_time": "2021-09-15T21:25:46.334Z"
   },
   {
    "duration": 13,
    "start_time": "2021-09-15T21:25:46.390Z"
   },
   {
    "duration": 10,
    "start_time": "2021-09-15T21:25:46.406Z"
   },
   {
    "duration": 9,
    "start_time": "2021-09-15T21:25:46.418Z"
   },
   {
    "duration": 58,
    "start_time": "2021-09-15T21:25:46.430Z"
   },
   {
    "duration": 14,
    "start_time": "2021-09-15T21:25:46.490Z"
   },
   {
    "duration": 18,
    "start_time": "2021-09-15T21:25:46.506Z"
   },
   {
    "duration": 201,
    "start_time": "2021-09-15T21:25:46.526Z"
   },
   {
    "duration": 617,
    "start_time": "2021-09-15T21:25:46.729Z"
   },
   {
    "duration": 824,
    "start_time": "2021-09-15T21:25:47.348Z"
   },
   {
    "duration": 20,
    "start_time": "2021-09-15T21:25:48.174Z"
   },
   {
    "duration": 31,
    "start_time": "2021-09-15T21:25:48.201Z"
   },
   {
    "duration": 350,
    "start_time": "2021-09-15T21:25:48.236Z"
   },
   {
    "duration": 29,
    "start_time": "2021-09-15T21:25:48.589Z"
   },
   {
    "duration": 23,
    "start_time": "2021-09-15T21:25:48.621Z"
   },
   {
    "duration": 46,
    "start_time": "2021-09-15T21:25:48.646Z"
   },
   {
    "duration": 101,
    "start_time": "2021-09-15T21:25:48.695Z"
   },
   {
    "duration": 21,
    "start_time": "2021-09-15T21:25:48.799Z"
   },
   {
    "duration": 1269,
    "start_time": "2021-09-15T21:25:48.823Z"
   },
   {
    "duration": 582,
    "start_time": "2021-09-15T21:25:50.095Z"
   },
   {
    "duration": 10,
    "start_time": "2021-09-15T21:25:50.684Z"
   },
   {
    "duration": 572,
    "start_time": "2021-09-15T21:25:50.696Z"
   },
   {
    "duration": 15,
    "start_time": "2021-09-15T21:25:51.270Z"
   },
   {
    "duration": 548,
    "start_time": "2021-09-15T21:25:51.288Z"
   },
   {
    "duration": 16,
    "start_time": "2021-09-15T21:25:51.839Z"
   },
   {
    "duration": 4007,
    "start_time": "2021-09-15T21:25:51.858Z"
   },
   {
    "duration": 75,
    "start_time": "2021-09-15T21:25:55.867Z"
   },
   {
    "duration": 5,
    "start_time": "2021-09-15T21:25:55.944Z"
   },
   {
    "duration": 336,
    "start_time": "2021-09-15T21:25:55.951Z"
   },
   {
    "duration": 399,
    "start_time": "2021-09-15T21:25:56.289Z"
   },
   {
    "duration": 334,
    "start_time": "2021-09-15T21:25:56.691Z"
   },
   {
    "duration": 445,
    "start_time": "2021-09-15T21:25:57.031Z"
   },
   {
    "duration": 355,
    "start_time": "2021-09-15T21:25:57.482Z"
   },
   {
    "duration": 352,
    "start_time": "2021-09-15T21:25:57.840Z"
   },
   {
    "duration": 968,
    "start_time": "2021-09-15T21:25:58.194Z"
   },
   {
    "duration": 6,
    "start_time": "2021-09-15T21:26:59.460Z"
   },
   {
    "duration": 63,
    "start_time": "2021-09-15T21:29:22.303Z"
   },
   {
    "duration": 6,
    "start_time": "2021-09-15T21:30:48.265Z"
   },
   {
    "duration": 322,
    "start_time": "2021-09-15T21:30:50.593Z"
   },
   {
    "duration": 420,
    "start_time": "2021-09-15T21:31:16.719Z"
   },
   {
    "duration": 7,
    "start_time": "2021-09-15T21:31:23.001Z"
   },
   {
    "duration": 325,
    "start_time": "2021-09-15T21:31:26.576Z"
   },
   {
    "duration": 6,
    "start_time": "2021-09-15T21:31:35.022Z"
   },
   {
    "duration": 309,
    "start_time": "2021-09-15T21:31:37.941Z"
   },
   {
    "duration": 7,
    "start_time": "2021-09-15T21:31:46.408Z"
   },
   {
    "duration": 51,
    "start_time": "2021-09-15T21:31:46.417Z"
   },
   {
    "duration": 13,
    "start_time": "2021-09-15T21:31:46.471Z"
   },
   {
    "duration": 15,
    "start_time": "2021-09-15T21:31:46.487Z"
   },
   {
    "duration": 8,
    "start_time": "2021-09-15T21:31:46.504Z"
   },
   {
    "duration": 10,
    "start_time": "2021-09-15T21:31:46.514Z"
   },
   {
    "duration": 13,
    "start_time": "2021-09-15T21:31:46.527Z"
   },
   {
    "duration": 44,
    "start_time": "2021-09-15T21:31:46.543Z"
   },
   {
    "duration": 16,
    "start_time": "2021-09-15T21:31:46.597Z"
   },
   {
    "duration": 15,
    "start_time": "2021-09-15T21:31:46.616Z"
   },
   {
    "duration": 55,
    "start_time": "2021-09-15T21:31:46.634Z"
   },
   {
    "duration": 25,
    "start_time": "2021-09-15T21:31:46.692Z"
   },
   {
    "duration": 20,
    "start_time": "2021-09-15T21:31:46.720Z"
   },
   {
    "duration": 54,
    "start_time": "2021-09-15T21:31:46.743Z"
   },
   {
    "duration": 162,
    "start_time": "2021-09-15T21:31:46.800Z"
   },
   {
    "duration": 611,
    "start_time": "2021-09-15T21:31:46.965Z"
   },
   {
    "duration": 756,
    "start_time": "2021-09-15T21:31:47.583Z"
   },
   {
    "duration": 14,
    "start_time": "2021-09-15T21:31:48.341Z"
   },
   {
    "duration": 52,
    "start_time": "2021-09-15T21:31:48.357Z"
   },
   {
    "duration": 349,
    "start_time": "2021-09-15T21:31:48.412Z"
   },
   {
    "duration": 34,
    "start_time": "2021-09-15T21:31:48.763Z"
   },
   {
    "duration": 23,
    "start_time": "2021-09-15T21:31:48.800Z"
   },
   {
    "duration": 10,
    "start_time": "2021-09-15T21:31:48.830Z"
   },
   {
    "duration": 109,
    "start_time": "2021-09-15T21:31:48.844Z"
   },
   {
    "duration": 37,
    "start_time": "2021-09-15T21:31:48.956Z"
   },
   {
    "duration": 1233,
    "start_time": "2021-09-15T21:31:48.996Z"
   },
   {
    "duration": 581,
    "start_time": "2021-09-15T21:31:50.231Z"
   },
   {
    "duration": 9,
    "start_time": "2021-09-15T21:31:50.814Z"
   },
   {
    "duration": 671,
    "start_time": "2021-09-15T21:31:50.825Z"
   },
   {
    "duration": 7,
    "start_time": "2021-09-15T21:31:51.498Z"
   },
   {
    "duration": 524,
    "start_time": "2021-09-15T21:31:51.508Z"
   },
   {
    "duration": 14,
    "start_time": "2021-09-15T21:31:52.035Z"
   },
   {
    "duration": 4109,
    "start_time": "2021-09-15T21:31:52.052Z"
   },
   {
    "duration": 70,
    "start_time": "2021-09-15T21:31:56.164Z"
   },
   {
    "duration": 7,
    "start_time": "2021-09-15T21:31:56.237Z"
   },
   {
    "duration": 335,
    "start_time": "2021-09-15T21:31:56.247Z"
   },
   {
    "duration": 334,
    "start_time": "2021-09-15T21:31:56.584Z"
   },
   {
    "duration": 332,
    "start_time": "2021-09-15T21:31:56.922Z"
   },
   {
    "duration": 445,
    "start_time": "2021-09-15T21:31:57.257Z"
   },
   {
    "duration": 351,
    "start_time": "2021-09-15T21:31:57.704Z"
   },
   {
    "duration": 459,
    "start_time": "2021-09-15T21:31:58.059Z"
   },
   {
    "duration": 941,
    "start_time": "2021-09-15T21:31:58.521Z"
   },
   {
    "duration": 70,
    "start_time": "2021-09-15T21:31:59.465Z"
   },
   {
    "duration": 953,
    "start_time": "2021-09-15T21:33:07.070Z"
   },
   {
    "duration": 306,
    "start_time": "2021-09-15T21:34:36.709Z"
   },
   {
    "duration": 317,
    "start_time": "2021-09-15T21:35:07.800Z"
   },
   {
    "duration": 333,
    "start_time": "2021-09-15T21:35:28.403Z"
   },
   {
    "duration": 11,
    "start_time": "2021-09-15T21:49:35.562Z"
   },
   {
    "duration": 10,
    "start_time": "2021-09-15T21:49:54.592Z"
   },
   {
    "duration": 10,
    "start_time": "2021-09-15T21:50:42.122Z"
   },
   {
    "duration": 10,
    "start_time": "2021-09-15T21:51:39.349Z"
   },
   {
    "duration": 9,
    "start_time": "2021-09-15T21:52:05.030Z"
   },
   {
    "duration": 10,
    "start_time": "2021-09-15T21:53:02.120Z"
   },
   {
    "duration": 9,
    "start_time": "2021-09-15T21:53:15.745Z"
   },
   {
    "duration": 10,
    "start_time": "2021-09-15T21:58:01.002Z"
   },
   {
    "duration": 8,
    "start_time": "2021-09-15T21:58:03.816Z"
   },
   {
    "duration": 1669,
    "start_time": "2021-09-15T22:02:12.328Z"
   },
   {
    "duration": 12,
    "start_time": "2021-09-15T22:02:33.257Z"
   },
   {
    "duration": 10,
    "start_time": "2021-09-15T22:03:50.392Z"
   },
   {
    "duration": 7,
    "start_time": "2021-09-15T22:04:42.412Z"
   },
   {
    "duration": 56,
    "start_time": "2021-09-15T22:04:42.422Z"
   },
   {
    "duration": 17,
    "start_time": "2021-09-15T22:04:42.482Z"
   },
   {
    "duration": 15,
    "start_time": "2021-09-15T22:04:42.501Z"
   },
   {
    "duration": 8,
    "start_time": "2021-09-15T22:04:42.518Z"
   },
   {
    "duration": 7,
    "start_time": "2021-09-15T22:04:42.528Z"
   },
   {
    "duration": 6,
    "start_time": "2021-09-15T22:04:42.583Z"
   },
   {
    "duration": 8,
    "start_time": "2021-09-15T22:04:42.592Z"
   },
   {
    "duration": 10,
    "start_time": "2021-09-15T22:04:42.604Z"
   },
   {
    "duration": 12,
    "start_time": "2021-09-15T22:04:42.618Z"
   },
   {
    "duration": 13,
    "start_time": "2021-09-15T22:04:42.683Z"
   },
   {
    "duration": 22,
    "start_time": "2021-09-15T22:04:42.699Z"
   },
   {
    "duration": 18,
    "start_time": "2021-09-15T22:04:42.724Z"
   },
   {
    "duration": 63,
    "start_time": "2021-09-15T22:04:42.745Z"
   },
   {
    "duration": 177,
    "start_time": "2021-09-15T22:04:42.811Z"
   },
   {
    "duration": 702,
    "start_time": "2021-09-15T22:04:42.990Z"
   },
   {
    "duration": 682,
    "start_time": "2021-09-15T22:04:43.695Z"
   },
   {
    "duration": 13,
    "start_time": "2021-09-15T22:04:44.383Z"
   },
   {
    "duration": 30,
    "start_time": "2021-09-15T22:04:44.398Z"
   },
   {
    "duration": 362,
    "start_time": "2021-09-15T22:04:44.430Z"
   },
   {
    "duration": 25,
    "start_time": "2021-09-15T22:04:44.794Z"
   },
   {
    "duration": 57,
    "start_time": "2021-09-15T22:04:44.821Z"
   },
   {
    "duration": 31,
    "start_time": "2021-09-15T22:04:44.881Z"
   },
   {
    "duration": 74,
    "start_time": "2021-09-15T22:04:44.914Z"
   },
   {
    "duration": 20,
    "start_time": "2021-09-15T22:04:44.990Z"
   },
   {
    "duration": 1247,
    "start_time": "2021-09-15T22:04:45.012Z"
   },
   {
    "duration": 567,
    "start_time": "2021-09-15T22:04:46.266Z"
   },
   {
    "duration": 9,
    "start_time": "2021-09-15T22:04:46.836Z"
   },
   {
    "duration": 581,
    "start_time": "2021-09-15T22:04:46.848Z"
   },
   {
    "duration": 7,
    "start_time": "2021-09-15T22:04:47.432Z"
   },
   {
    "duration": 576,
    "start_time": "2021-09-15T22:04:47.441Z"
   },
   {
    "duration": 14,
    "start_time": "2021-09-15T22:04:48.020Z"
   },
   {
    "duration": 4024,
    "start_time": "2021-09-15T22:04:48.036Z"
   },
   {
    "duration": 75,
    "start_time": "2021-09-15T22:04:52.063Z"
   },
   {
    "duration": 6,
    "start_time": "2021-09-15T22:04:52.141Z"
   },
   {
    "duration": 326,
    "start_time": "2021-09-15T22:04:52.150Z"
   },
   {
    "duration": 342,
    "start_time": "2021-09-15T22:04:52.482Z"
   },
   {
    "duration": 315,
    "start_time": "2021-09-15T22:04:52.827Z"
   },
   {
    "duration": 351,
    "start_time": "2021-09-15T22:04:53.144Z"
   },
   {
    "duration": 360,
    "start_time": "2021-09-15T22:04:53.498Z"
   },
   {
    "duration": 332,
    "start_time": "2021-09-15T22:04:53.861Z"
   },
   {
    "duration": 330,
    "start_time": "2021-09-15T22:04:54.195Z"
   },
   {
    "duration": 327,
    "start_time": "2021-09-15T22:04:54.527Z"
   },
   {
    "duration": 428,
    "start_time": "2021-09-15T22:04:54.857Z"
   },
   {
    "duration": 17,
    "start_time": "2021-09-15T22:04:55.287Z"
   },
   {
    "duration": 70,
    "start_time": "2021-09-15T22:04:55.307Z"
   },
   {
    "duration": 16,
    "start_time": "2021-09-15T22:04:55.380Z"
   },
   {
    "duration": 10,
    "start_time": "2021-09-15T22:04:55.399Z"
   },
   {
    "duration": 7,
    "start_time": "2021-09-15T22:37:13.041Z"
   },
   {
    "duration": 48,
    "start_time": "2021-09-15T22:37:13.050Z"
   },
   {
    "duration": 13,
    "start_time": "2021-09-15T22:37:13.101Z"
   },
   {
    "duration": 14,
    "start_time": "2021-09-15T22:37:13.117Z"
   },
   {
    "duration": 10,
    "start_time": "2021-09-15T22:37:13.134Z"
   },
   {
    "duration": 37,
    "start_time": "2021-09-15T22:37:13.146Z"
   },
   {
    "duration": 8,
    "start_time": "2021-09-15T22:37:13.185Z"
   },
   {
    "duration": 7,
    "start_time": "2021-09-15T22:37:13.195Z"
   },
   {
    "duration": 11,
    "start_time": "2021-09-15T22:37:13.207Z"
   },
   {
    "duration": 11,
    "start_time": "2021-09-15T22:37:13.221Z"
   },
   {
    "duration": 50,
    "start_time": "2021-09-15T22:37:13.234Z"
   },
   {
    "duration": 15,
    "start_time": "2021-09-15T22:37:13.287Z"
   },
   {
    "duration": 16,
    "start_time": "2021-09-15T22:37:13.305Z"
   },
   {
    "duration": 20,
    "start_time": "2021-09-15T22:37:13.324Z"
   },
   {
    "duration": 205,
    "start_time": "2021-09-15T22:37:13.346Z"
   },
   {
    "duration": 628,
    "start_time": "2021-09-15T22:37:13.554Z"
   },
   {
    "duration": 800,
    "start_time": "2021-09-15T22:37:14.185Z"
   },
   {
    "duration": 12,
    "start_time": "2021-09-15T22:37:14.987Z"
   },
   {
    "duration": 34,
    "start_time": "2021-09-15T22:37:15.003Z"
   },
   {
    "duration": 352,
    "start_time": "2021-09-15T22:37:15.040Z"
   },
   {
    "duration": 26,
    "start_time": "2021-09-15T22:37:15.395Z"
   },
   {
    "duration": 21,
    "start_time": "2021-09-15T22:37:15.423Z"
   },
   {
    "duration": 38,
    "start_time": "2021-09-15T22:37:15.447Z"
   },
   {
    "duration": 74,
    "start_time": "2021-09-15T22:37:15.487Z"
   },
   {
    "duration": 20,
    "start_time": "2021-09-15T22:37:15.582Z"
   },
   {
    "duration": 1288,
    "start_time": "2021-09-15T22:37:15.604Z"
   },
   {
    "duration": 580,
    "start_time": "2021-09-15T22:37:16.898Z"
   },
   {
    "duration": 9,
    "start_time": "2021-09-15T22:37:17.484Z"
   },
   {
    "duration": 579,
    "start_time": "2021-09-15T22:37:17.495Z"
   },
   {
    "duration": 10,
    "start_time": "2021-09-15T22:37:18.077Z"
   },
   {
    "duration": 541,
    "start_time": "2021-09-15T22:37:18.090Z"
   },
   {
    "duration": 111,
    "start_time": "2021-09-15T22:37:18.634Z"
   },
   {
    "duration": 3967,
    "start_time": "2021-09-15T22:37:18.748Z"
   },
   {
    "duration": 80,
    "start_time": "2021-09-15T22:37:22.717Z"
   },
   {
    "duration": 6,
    "start_time": "2021-09-15T22:37:22.800Z"
   },
   {
    "duration": 326,
    "start_time": "2021-09-15T22:37:22.808Z"
   },
   {
    "duration": 327,
    "start_time": "2021-09-15T22:37:23.136Z"
   },
   {
    "duration": 328,
    "start_time": "2021-09-15T22:37:23.466Z"
   },
   {
    "duration": 353,
    "start_time": "2021-09-15T22:37:23.797Z"
   },
   {
    "duration": 339,
    "start_time": "2021-09-15T22:37:24.153Z"
   },
   {
    "duration": 412,
    "start_time": "2021-09-15T22:37:24.495Z"
   },
   {
    "duration": 336,
    "start_time": "2021-09-15T22:37:24.909Z"
   },
   {
    "duration": 323,
    "start_time": "2021-09-15T22:37:25.247Z"
   },
   {
    "duration": 333,
    "start_time": "2021-09-15T22:37:25.573Z"
   },
   {
    "duration": 11,
    "start_time": "2021-09-15T22:37:25.909Z"
   },
   {
    "duration": 11,
    "start_time": "2021-09-15T22:37:25.922Z"
   },
   {
    "duration": 10,
    "start_time": "2021-09-15T22:37:25.936Z"
   },
   {
    "duration": 42,
    "start_time": "2021-09-15T22:37:25.948Z"
   },
   {
    "duration": 338,
    "start_time": "2021-09-17T13:51:04.243Z"
   },
   {
    "duration": 1739,
    "start_time": "2021-09-17T13:51:08.596Z"
   },
   {
    "duration": 63,
    "start_time": "2021-09-17T13:51:10.338Z"
   },
   {
    "duration": 17,
    "start_time": "2021-09-17T13:51:10.404Z"
   },
   {
    "duration": 58,
    "start_time": "2021-09-17T13:51:10.424Z"
   },
   {
    "duration": 32,
    "start_time": "2021-09-17T13:51:10.486Z"
   },
   {
    "duration": 5,
    "start_time": "2021-09-17T13:51:10.521Z"
   },
   {
    "duration": 38,
    "start_time": "2021-09-17T13:51:10.529Z"
   },
   {
    "duration": 35,
    "start_time": "2021-09-17T13:51:10.570Z"
   },
   {
    "duration": 9,
    "start_time": "2021-09-17T13:51:10.609Z"
   },
   {
    "duration": 19,
    "start_time": "2021-09-17T13:51:10.621Z"
   },
   {
    "duration": 35,
    "start_time": "2021-09-17T13:51:10.643Z"
   },
   {
    "duration": 20,
    "start_time": "2021-09-17T13:51:10.683Z"
   },
   {
    "duration": 34,
    "start_time": "2021-09-17T13:51:10.706Z"
   },
   {
    "duration": 26,
    "start_time": "2021-09-17T13:51:10.743Z"
   },
   {
    "duration": 42,
    "start_time": "2021-09-17T13:51:10.779Z"
   },
   {
    "duration": 180,
    "start_time": "2021-09-17T13:51:10.824Z"
   },
   {
    "duration": 686,
    "start_time": "2021-09-17T13:51:11.006Z"
   },
   {
    "duration": 788,
    "start_time": "2021-09-17T13:51:11.695Z"
   },
   {
    "duration": 18,
    "start_time": "2021-09-17T13:51:12.490Z"
   },
   {
    "duration": 74,
    "start_time": "2021-09-17T13:51:12.511Z"
   },
   {
    "duration": 378,
    "start_time": "2021-09-17T13:51:12.589Z"
   },
   {
    "duration": 37,
    "start_time": "2021-09-17T13:51:12.969Z"
   },
   {
    "duration": 51,
    "start_time": "2021-09-17T13:51:13.009Z"
   },
   {
    "duration": 17,
    "start_time": "2021-09-17T13:51:13.063Z"
   },
   {
    "duration": 117,
    "start_time": "2021-09-17T13:51:13.083Z"
   },
   {
    "duration": 29,
    "start_time": "2021-09-17T13:51:13.203Z"
   },
   {
    "duration": 1675,
    "start_time": "2021-09-17T13:51:13.257Z"
   },
   {
    "duration": 728,
    "start_time": "2021-09-17T13:51:14.935Z"
   },
   {
    "duration": 10,
    "start_time": "2021-09-17T13:51:15.669Z"
   },
   {
    "duration": 607,
    "start_time": "2021-09-17T13:51:15.682Z"
   },
   {
    "duration": 9,
    "start_time": "2021-09-17T13:51:16.292Z"
   },
   {
    "duration": 670,
    "start_time": "2021-09-17T13:51:16.304Z"
   },
   {
    "duration": 19,
    "start_time": "2021-09-17T13:51:16.977Z"
   },
   {
    "duration": 4397,
    "start_time": "2021-09-17T13:51:16.999Z"
   },
   {
    "duration": 90,
    "start_time": "2021-09-17T13:51:21.399Z"
   },
   {
    "duration": 7,
    "start_time": "2021-09-17T13:51:21.493Z"
   },
   {
    "duration": 384,
    "start_time": "2021-09-17T13:51:21.503Z"
   },
   {
    "duration": 383,
    "start_time": "2021-09-17T13:51:21.890Z"
   },
   {
    "duration": 622,
    "start_time": "2021-09-17T13:51:22.276Z"
   },
   {
    "duration": 410,
    "start_time": "2021-09-17T13:51:22.904Z"
   },
   {
    "duration": 386,
    "start_time": "2021-09-17T13:51:23.317Z"
   },
   {
    "duration": 374,
    "start_time": "2021-09-17T13:51:23.705Z"
   },
   {
    "duration": 382,
    "start_time": "2021-09-17T13:51:24.082Z"
   },
   {
    "duration": 463,
    "start_time": "2021-09-17T13:51:24.468Z"
   },
   {
    "duration": 378,
    "start_time": "2021-09-17T13:51:24.934Z"
   },
   {
    "duration": 11,
    "start_time": "2021-09-17T13:51:25.314Z"
   },
   {
    "duration": 37,
    "start_time": "2021-09-17T13:51:25.327Z"
   },
   {
    "duration": 40,
    "start_time": "2021-09-17T13:51:25.367Z"
   },
   {
    "duration": 43,
    "start_time": "2021-09-17T13:51:25.410Z"
   },
   {
    "duration": 8,
    "start_time": "2021-09-17T14:02:21.896Z"
   },
   {
    "duration": 41,
    "start_time": "2021-09-17T14:02:56.452Z"
   },
   {
    "duration": 594,
    "start_time": "2021-09-17T14:06:16.100Z"
   },
   {
    "duration": 483,
    "start_time": "2021-09-17T14:06:51.406Z"
   },
   {
    "duration": 484,
    "start_time": "2021-09-17T14:06:59.309Z"
   },
   {
    "duration": 12250,
    "start_time": "2021-09-17T14:11:21.047Z"
   },
   {
    "duration": 480,
    "start_time": "2021-09-17T14:12:05.629Z"
   },
   {
    "duration": 554,
    "start_time": "2021-09-17T14:12:23.446Z"
   },
   {
    "duration": 562,
    "start_time": "2021-09-17T14:12:39.342Z"
   },
   {
    "duration": 85,
    "start_time": "2021-09-17T14:13:49.586Z"
   },
   {
    "duration": 90,
    "start_time": "2021-09-17T14:14:20.952Z"
   },
   {
    "duration": 432,
    "start_time": "2021-09-17T14:14:45.093Z"
   },
   {
    "duration": 385,
    "start_time": "2021-09-17T14:23:45.459Z"
   },
   {
    "duration": 6703,
    "start_time": "2021-09-17T14:24:00.075Z"
   },
   {
    "duration": 7,
    "start_time": "2021-09-17T14:24:15.149Z"
   },
   {
    "duration": 71,
    "start_time": "2021-09-17T14:24:15.160Z"
   },
   {
    "duration": 23,
    "start_time": "2021-09-17T14:24:15.234Z"
   },
   {
    "duration": 32,
    "start_time": "2021-09-17T14:24:15.263Z"
   },
   {
    "duration": 34,
    "start_time": "2021-09-17T14:24:15.298Z"
   },
   {
    "duration": 8,
    "start_time": "2021-09-17T14:24:15.354Z"
   },
   {
    "duration": 8,
    "start_time": "2021-09-17T14:24:15.366Z"
   },
   {
    "duration": 23,
    "start_time": "2021-09-17T14:24:15.377Z"
   },
   {
    "duration": 19,
    "start_time": "2021-09-17T14:24:15.403Z"
   },
   {
    "duration": 17,
    "start_time": "2021-09-17T14:24:15.459Z"
   },
   {
    "duration": 12,
    "start_time": "2021-09-17T14:24:15.479Z"
   },
   {
    "duration": 18,
    "start_time": "2021-09-17T14:24:15.494Z"
   },
   {
    "duration": 62,
    "start_time": "2021-09-17T14:24:15.514Z"
   },
   {
    "duration": 18,
    "start_time": "2021-09-17T14:24:15.578Z"
   },
   {
    "duration": 30,
    "start_time": "2021-09-17T14:24:15.599Z"
   },
   {
    "duration": 189,
    "start_time": "2021-09-17T14:24:15.631Z"
   },
   {
    "duration": 655,
    "start_time": "2021-09-17T14:24:15.823Z"
   },
   {
    "duration": 444,
    "start_time": "2021-09-17T14:24:16.481Z"
   },
   {
    "duration": 748,
    "start_time": "2021-09-17T14:24:16.930Z"
   },
   {
    "duration": 14,
    "start_time": "2021-09-17T14:24:17.681Z"
   },
   {
    "duration": 64,
    "start_time": "2021-09-17T14:24:17.698Z"
   },
   {
    "duration": 344,
    "start_time": "2021-09-17T14:24:17.765Z"
   },
   {
    "duration": 51,
    "start_time": "2021-09-17T14:24:18.111Z"
   },
   {
    "duration": 32,
    "start_time": "2021-09-17T14:24:18.165Z"
   },
   {
    "duration": 12,
    "start_time": "2021-09-17T14:24:18.199Z"
   },
   {
    "duration": 290,
    "start_time": "2021-09-17T14:24:18.214Z"
   },
   {
    "duration": 25,
    "start_time": "2021-09-17T14:24:18.506Z"
   },
   {
    "duration": 1524,
    "start_time": "2021-09-17T14:24:18.534Z"
   },
   {
    "duration": 604,
    "start_time": "2021-09-17T14:24:20.061Z"
   },
   {
    "duration": 11,
    "start_time": "2021-09-17T14:24:20.668Z"
   },
   {
    "duration": 797,
    "start_time": "2021-09-17T14:24:20.682Z"
   },
   {
    "duration": 7,
    "start_time": "2021-09-17T14:24:21.482Z"
   },
   {
    "duration": 595,
    "start_time": "2021-09-17T14:24:21.492Z"
   },
   {
    "duration": 14,
    "start_time": "2021-09-17T14:24:22.090Z"
   },
   {
    "duration": 4300,
    "start_time": "2021-09-17T14:24:22.106Z"
   },
   {
    "duration": 92,
    "start_time": "2021-09-17T14:24:26.408Z"
   },
   {
    "duration": 9922,
    "start_time": "2021-09-17T14:24:26.503Z"
   },
   {
    "duration": -163,
    "start_time": "2021-09-17T14:24:36.591Z"
   },
   {
    "duration": -171,
    "start_time": "2021-09-17T14:24:36.600Z"
   },
   {
    "duration": -180,
    "start_time": "2021-09-17T14:24:36.610Z"
   },
   {
    "duration": -186,
    "start_time": "2021-09-17T14:24:36.618Z"
   },
   {
    "duration": -191,
    "start_time": "2021-09-17T14:24:36.624Z"
   },
   {
    "duration": -196,
    "start_time": "2021-09-17T14:24:36.630Z"
   },
   {
    "duration": -201,
    "start_time": "2021-09-17T14:24:36.637Z"
   },
   {
    "duration": -206,
    "start_time": "2021-09-17T14:24:36.643Z"
   },
   {
    "duration": -222,
    "start_time": "2021-09-17T14:24:36.660Z"
   },
   {
    "duration": -235,
    "start_time": "2021-09-17T14:24:36.674Z"
   },
   {
    "duration": -250,
    "start_time": "2021-09-17T14:24:36.691Z"
   },
   {
    "duration": -264,
    "start_time": "2021-09-17T14:24:36.706Z"
   },
   {
    "duration": -278,
    "start_time": "2021-09-17T14:24:36.722Z"
   },
   {
    "duration": -290,
    "start_time": "2021-09-17T14:24:36.735Z"
   },
   {
    "duration": 1424,
    "start_time": "2021-09-17T14:26:30.992Z"
   },
   {
    "duration": 96,
    "start_time": "2021-09-17T14:28:13.470Z"
   },
   {
    "duration": 6455,
    "start_time": "2021-09-17T14:28:31.997Z"
   },
   {
    "duration": 7829,
    "start_time": "2021-09-17T14:31:20.410Z"
   },
   {
    "duration": 276,
    "start_time": "2021-09-17T14:33:09.668Z"
   },
   {
    "duration": 293,
    "start_time": "2021-09-17T14:33:31.071Z"
   },
   {
    "duration": 301,
    "start_time": "2021-09-17T14:33:49.799Z"
   },
   {
    "duration": 539,
    "start_time": "2021-09-17T14:34:11.493Z"
   },
   {
    "duration": 98,
    "start_time": "2021-09-17T14:39:06.253Z"
   },
   {
    "duration": 797,
    "start_time": "2021-09-17T14:39:13.743Z"
   },
   {
    "duration": 1969,
    "start_time": "2021-09-17T14:41:51.453Z"
   },
   {
    "duration": 1961,
    "start_time": "2021-09-17T14:42:14.405Z"
   },
   {
    "duration": 554,
    "start_time": "2021-09-17T14:42:30.976Z"
   },
   {
    "duration": 544,
    "start_time": "2021-09-17T14:42:51.365Z"
   },
   {
    "duration": 573,
    "start_time": "2021-09-17T14:42:58.575Z"
   },
   {
    "duration": 548,
    "start_time": "2021-09-17T14:43:13.671Z"
   },
   {
    "duration": 717,
    "start_time": "2021-09-17T14:43:23.723Z"
   },
   {
    "duration": 565,
    "start_time": "2021-09-17T14:43:35.607Z"
   },
   {
    "duration": 569,
    "start_time": "2021-09-17T14:43:54.500Z"
   },
   {
    "duration": 556,
    "start_time": "2021-09-17T14:44:04.689Z"
   },
   {
    "duration": 578,
    "start_time": "2021-09-17T14:44:27.031Z"
   },
   {
    "duration": 7,
    "start_time": "2021-09-17T14:56:42.594Z"
   },
   {
    "duration": 77,
    "start_time": "2021-09-17T14:56:42.608Z"
   },
   {
    "duration": 14,
    "start_time": "2021-09-17T14:56:42.687Z"
   },
   {
    "duration": 52,
    "start_time": "2021-09-17T14:56:42.704Z"
   },
   {
    "duration": 31,
    "start_time": "2021-09-17T14:56:42.760Z"
   },
   {
    "duration": 8,
    "start_time": "2021-09-17T14:56:42.794Z"
   },
   {
    "duration": 18,
    "start_time": "2021-09-17T14:56:42.804Z"
   },
   {
    "duration": 20,
    "start_time": "2021-09-17T14:56:42.854Z"
   },
   {
    "duration": 7,
    "start_time": "2021-09-17T14:56:42.884Z"
   },
   {
    "duration": 26,
    "start_time": "2021-09-17T14:56:42.894Z"
   },
   {
    "duration": 37,
    "start_time": "2021-09-17T14:56:42.923Z"
   },
   {
    "duration": 23,
    "start_time": "2021-09-17T14:56:42.964Z"
   },
   {
    "duration": 24,
    "start_time": "2021-09-17T14:56:42.990Z"
   },
   {
    "duration": 46,
    "start_time": "2021-09-17T14:56:43.017Z"
   },
   {
    "duration": 29,
    "start_time": "2021-09-17T14:56:43.066Z"
   },
   {
    "duration": 188,
    "start_time": "2021-09-17T14:56:43.098Z"
   },
   {
    "duration": 655,
    "start_time": "2021-09-17T14:56:43.288Z"
   },
   {
    "duration": 559,
    "start_time": "2021-09-17T14:56:43.946Z"
   },
   {
    "duration": 741,
    "start_time": "2021-09-17T14:56:44.509Z"
   },
   {
    "duration": 23,
    "start_time": "2021-09-17T14:56:45.257Z"
   },
   {
    "duration": 36,
    "start_time": "2021-09-17T14:56:45.282Z"
   },
   {
    "duration": 509,
    "start_time": "2021-09-17T14:56:45.321Z"
   },
   {
    "duration": 49,
    "start_time": "2021-09-17T14:56:45.832Z"
   },
   {
    "duration": 29,
    "start_time": "2021-09-17T14:56:45.889Z"
   },
   {
    "duration": 34,
    "start_time": "2021-09-17T14:56:45.921Z"
   },
   {
    "duration": 122,
    "start_time": "2021-09-17T14:56:45.958Z"
   },
   {
    "duration": 24,
    "start_time": "2021-09-17T14:56:46.083Z"
   },
   {
    "duration": 1484,
    "start_time": "2021-09-17T14:56:46.110Z"
   },
   {
    "duration": 618,
    "start_time": "2021-09-17T14:56:47.597Z"
   },
   {
    "duration": 11,
    "start_time": "2021-09-17T14:56:48.218Z"
   },
   {
    "duration": 613,
    "start_time": "2021-09-17T14:56:48.232Z"
   },
   {
    "duration": 17,
    "start_time": "2021-09-17T14:56:48.847Z"
   },
   {
    "duration": 652,
    "start_time": "2021-09-17T14:56:48.867Z"
   },
   {
    "duration": 19,
    "start_time": "2021-09-17T14:56:49.522Z"
   },
   {
    "duration": 4118,
    "start_time": "2021-09-17T14:56:49.559Z"
   },
   {
    "duration": 220,
    "start_time": "2021-09-17T14:56:53.680Z"
   },
   {
    "duration": 602,
    "start_time": "2021-09-17T14:56:53.902Z"
   },
   {
    "duration": 8,
    "start_time": "2021-09-17T14:56:54.507Z"
   },
   {
    "duration": 398,
    "start_time": "2021-09-17T14:56:54.518Z"
   },
   {
    "duration": 374,
    "start_time": "2021-09-17T14:56:54.919Z"
   },
   {
    "duration": 360,
    "start_time": "2021-09-17T14:56:55.296Z"
   },
   {
    "duration": 369,
    "start_time": "2021-09-17T14:56:55.660Z"
   },
   {
    "duration": 375,
    "start_time": "2021-09-17T14:56:56.032Z"
   },
   {
    "duration": 355,
    "start_time": "2021-09-17T14:56:56.409Z"
   },
   {
    "duration": 345,
    "start_time": "2021-09-17T14:56:56.767Z"
   },
   {
    "duration": 349,
    "start_time": "2021-09-17T14:56:57.115Z"
   },
   {
    "duration": 364,
    "start_time": "2021-09-17T14:56:57.467Z"
   },
   {
    "duration": 10,
    "start_time": "2021-09-17T14:56:57.833Z"
   },
   {
    "duration": 42,
    "start_time": "2021-09-17T14:56:57.855Z"
   },
   {
    "duration": 34,
    "start_time": "2021-09-17T14:56:57.899Z"
   },
   {
    "duration": 27,
    "start_time": "2021-09-17T14:56:57.936Z"
   },
   {
    "duration": 13,
    "start_time": "2021-09-17T15:00:14.945Z"
   },
   {
    "duration": 680,
    "start_time": "2021-09-17T15:09:02.461Z"
   },
   {
    "duration": 473,
    "start_time": "2021-09-17T15:13:10.842Z"
   },
   {
    "duration": 2523,
    "start_time": "2021-09-17T15:14:36.265Z"
   },
   {
    "duration": 2783,
    "start_time": "2021-09-17T15:15:02.806Z"
   },
   {
    "duration": 40188,
    "start_time": "2021-09-17T15:16:26.808Z"
   },
   {
    "duration": 415,
    "start_time": "2021-09-17T15:17:38.964Z"
   },
   {
    "duration": 377,
    "start_time": "2021-09-17T15:18:01.503Z"
   },
   {
    "duration": 82,
    "start_time": "2021-09-17T15:21:13.025Z"
   },
   {
    "duration": 82,
    "start_time": "2021-09-17T15:21:49.106Z"
   },
   {
    "duration": 15,
    "start_time": "2021-09-17T15:21:56.169Z"
   },
   {
    "duration": 7,
    "start_time": "2021-09-17T15:22:23.929Z"
   },
   {
    "duration": 460,
    "start_time": "2021-09-17T15:26:22.926Z"
   },
   {
    "duration": 459,
    "start_time": "2021-09-17T15:30:36.761Z"
   },
   {
    "duration": 1846,
    "start_time": "2021-09-17T15:36:31.536Z"
   },
   {
    "duration": 676,
    "start_time": "2021-09-17T15:38:57.463Z"
   },
   {
    "duration": 646,
    "start_time": "2021-09-17T15:39:27.979Z"
   },
   {
    "duration": 460,
    "start_time": "2021-09-17T15:39:35.701Z"
   },
   {
    "duration": 99,
    "start_time": "2021-09-17T15:44:52.090Z"
   },
   {
    "duration": 513,
    "start_time": "2021-09-17T15:45:00.541Z"
   },
   {
    "duration": 71,
    "start_time": "2021-09-17T15:45:18.258Z"
   },
   {
    "duration": 108,
    "start_time": "2021-09-17T15:46:40.299Z"
   },
   {
    "duration": 85,
    "start_time": "2021-09-17T15:46:44.401Z"
   },
   {
    "duration": 320,
    "start_time": "2021-09-17T15:46:52.799Z"
   },
   {
    "duration": 87,
    "start_time": "2021-09-17T15:47:13.392Z"
   },
   {
    "duration": 549,
    "start_time": "2021-09-17T15:47:31.648Z"
   },
   {
    "duration": 73,
    "start_time": "2021-09-17T15:48:03.845Z"
   },
   {
    "duration": 634,
    "start_time": "2021-09-17T15:48:11.635Z"
   },
   {
    "duration": 6208,
    "start_time": "2021-09-17T20:22:10.599Z"
   },
   {
    "duration": 300,
    "start_time": "2021-09-17T20:22:31.089Z"
   },
   {
    "duration": 251,
    "start_time": "2021-09-17T20:22:38.486Z"
   },
   {
    "duration": 6348,
    "start_time": "2021-09-17T20:22:51.678Z"
   },
   {
    "duration": 294,
    "start_time": "2021-09-17T20:35:18.968Z"
   },
   {
    "duration": 819,
    "start_time": "2021-09-17T20:35:26.107Z"
   },
   {
    "duration": 8006,
    "start_time": "2021-09-17T20:35:32.377Z"
   },
   {
    "duration": 70,
    "start_time": "2021-09-17T20:52:22.312Z"
   },
   {
    "duration": 202,
    "start_time": "2021-09-17T20:57:11.562Z"
   },
   {
    "duration": 191,
    "start_time": "2021-09-17T20:57:25.066Z"
   },
   {
    "duration": 68,
    "start_time": "2021-09-17T20:57:54.237Z"
   },
   {
    "duration": 186,
    "start_time": "2021-09-17T20:58:10.491Z"
   },
   {
    "duration": 268,
    "start_time": "2021-09-17T20:58:25.071Z"
   },
   {
    "duration": 2060,
    "start_time": "2021-09-17T20:58:29.530Z"
   },
   {
    "duration": 261,
    "start_time": "2021-09-17T20:58:50.679Z"
   },
   {
    "duration": 276,
    "start_time": "2021-09-17T20:58:59.754Z"
   },
   {
    "duration": 31,
    "start_time": "2021-09-17T20:59:09.934Z"
   },
   {
    "duration": 266,
    "start_time": "2021-09-17T20:59:15.116Z"
   },
   {
    "duration": 6439,
    "start_time": "2021-09-17T21:00:04.354Z"
   },
   {
    "duration": 6,
    "start_time": "2021-09-17T21:00:24.746Z"
   },
   {
    "duration": 7,
    "start_time": "2021-09-17T21:00:50.384Z"
   },
   {
    "duration": 6,
    "start_time": "2021-09-17T21:00:57.616Z"
   },
   {
    "duration": 262,
    "start_time": "2021-09-17T21:02:54.151Z"
   },
   {
    "duration": 331,
    "start_time": "2021-09-17T21:03:06.427Z"
   },
   {
    "duration": 327,
    "start_time": "2021-09-17T21:03:42.712Z"
   },
   {
    "duration": 404,
    "start_time": "2021-09-17T21:04:13.910Z"
   },
   {
    "duration": 500,
    "start_time": "2021-09-17T21:04:28.444Z"
   },
   {
    "duration": 392,
    "start_time": "2021-09-17T21:04:37.427Z"
   },
   {
    "duration": 404,
    "start_time": "2021-09-17T21:04:43.379Z"
   },
   {
    "duration": 409,
    "start_time": "2021-09-17T21:05:42.452Z"
   },
   {
    "duration": 423,
    "start_time": "2021-09-17T21:06:03.431Z"
   },
   {
    "duration": 313,
    "start_time": "2021-09-17T21:06:32.862Z"
   },
   {
    "duration": 381,
    "start_time": "2021-09-17T21:06:37.816Z"
   },
   {
    "duration": 642,
    "start_time": "2021-09-17T21:09:30.910Z"
   },
   {
    "duration": 697,
    "start_time": "2021-09-17T21:09:52.606Z"
   },
   {
    "duration": 405,
    "start_time": "2021-09-17T21:11:31.112Z"
   },
   {
    "duration": 341,
    "start_time": "2021-09-17T21:11:36.462Z"
   },
   {
    "duration": 309,
    "start_time": "2021-09-17T21:11:58.468Z"
   },
   {
    "duration": 413,
    "start_time": "2021-09-17T21:12:08.669Z"
   },
   {
    "duration": 417,
    "start_time": "2021-09-17T21:12:28.741Z"
   },
   {
    "duration": 408,
    "start_time": "2021-09-17T21:12:32.516Z"
   },
   {
    "duration": 411,
    "start_time": "2021-09-17T21:12:37.168Z"
   },
   {
    "duration": 526,
    "start_time": "2021-09-17T21:12:43.003Z"
   },
   {
    "duration": 399,
    "start_time": "2021-09-17T21:12:48.564Z"
   },
   {
    "duration": 394,
    "start_time": "2021-09-17T21:12:53.764Z"
   },
   {
    "duration": 386,
    "start_time": "2021-09-17T21:12:58.190Z"
   },
   {
    "duration": 254,
    "start_time": "2021-09-17T21:13:26.761Z"
   },
   {
    "duration": 406,
    "start_time": "2021-09-17T21:13:37.049Z"
   },
   {
    "duration": 402,
    "start_time": "2021-09-17T21:14:28.670Z"
   },
   {
    "duration": 399,
    "start_time": "2021-09-17T21:16:32.497Z"
   },
   {
    "duration": 397,
    "start_time": "2021-09-17T21:16:48.903Z"
   },
   {
    "duration": 835,
    "start_time": "2021-09-17T21:21:10.389Z"
   },
   {
    "duration": 747,
    "start_time": "2021-09-17T21:21:19.220Z"
   },
   {
    "duration": 404,
    "start_time": "2021-09-17T21:21:27.715Z"
   },
   {
    "duration": 782,
    "start_time": "2021-09-17T21:21:47.754Z"
   },
   {
    "duration": 1027,
    "start_time": "2021-09-17T21:22:22.097Z"
   },
   {
    "duration": 351,
    "start_time": "2021-09-17T21:22:47.269Z"
   },
   {
    "duration": 361,
    "start_time": "2021-09-17T21:22:58.534Z"
   },
   {
    "duration": 437,
    "start_time": "2021-09-17T21:23:21.917Z"
   },
   {
    "duration": 401,
    "start_time": "2021-09-17T21:23:52.159Z"
   },
   {
    "duration": 448,
    "start_time": "2021-09-17T21:24:18.018Z"
   },
   {
    "duration": 457,
    "start_time": "2021-09-17T21:24:43.384Z"
   },
   {
    "duration": 447,
    "start_time": "2021-09-17T21:24:52.185Z"
   },
   {
    "duration": 596,
    "start_time": "2021-09-17T21:25:26.577Z"
   },
   {
    "duration": 923,
    "start_time": "2021-09-17T21:26:51.435Z"
   },
   {
    "duration": 890,
    "start_time": "2021-09-17T21:26:58.515Z"
   },
   {
    "duration": 841,
    "start_time": "2021-09-17T21:27:29.563Z"
   },
   {
    "duration": 735,
    "start_time": "2021-09-17T21:27:49.208Z"
   },
   {
    "duration": 407,
    "start_time": "2021-09-17T21:28:10.561Z"
   },
   {
    "duration": 417,
    "start_time": "2021-09-17T21:28:44.170Z"
   },
   {
    "duration": 392,
    "start_time": "2021-09-17T21:29:05.170Z"
   },
   {
    "duration": 404,
    "start_time": "2021-09-17T21:30:17.912Z"
   },
   {
    "duration": 434,
    "start_time": "2021-09-17T21:31:44.747Z"
   },
   {
    "duration": 440,
    "start_time": "2021-09-17T21:32:03.843Z"
   },
   {
    "duration": 428,
    "start_time": "2021-09-17T21:32:57.844Z"
   },
   {
    "duration": 7,
    "start_time": "2021-09-17T21:33:34.532Z"
   },
   {
    "duration": 61,
    "start_time": "2021-09-17T21:33:34.542Z"
   },
   {
    "duration": 15,
    "start_time": "2021-09-17T21:33:34.606Z"
   },
   {
    "duration": 41,
    "start_time": "2021-09-17T21:33:34.624Z"
   },
   {
    "duration": 46,
    "start_time": "2021-09-17T21:33:34.668Z"
   },
   {
    "duration": 5,
    "start_time": "2021-09-17T21:33:34.717Z"
   },
   {
    "duration": 30,
    "start_time": "2021-09-17T21:33:34.726Z"
   },
   {
    "duration": 15,
    "start_time": "2021-09-17T21:33:34.759Z"
   },
   {
    "duration": 15,
    "start_time": "2021-09-17T21:33:34.777Z"
   },
   {
    "duration": 16,
    "start_time": "2021-09-17T21:33:34.795Z"
   },
   {
    "duration": 41,
    "start_time": "2021-09-17T21:33:34.814Z"
   },
   {
    "duration": 12,
    "start_time": "2021-09-17T21:33:34.858Z"
   },
   {
    "duration": 15,
    "start_time": "2021-09-17T21:33:34.872Z"
   },
   {
    "duration": 25,
    "start_time": "2021-09-17T21:33:34.890Z"
   },
   {
    "duration": 39,
    "start_time": "2021-09-17T21:33:34.918Z"
   },
   {
    "duration": 22,
    "start_time": "2021-09-17T21:33:34.960Z"
   },
   {
    "duration": 174,
    "start_time": "2021-09-17T21:33:34.985Z"
   },
   {
    "duration": 770,
    "start_time": "2021-09-17T21:33:35.161Z"
   },
   {
    "duration": 422,
    "start_time": "2021-09-17T21:33:35.936Z"
   },
   {
    "duration": 697,
    "start_time": "2021-09-17T21:33:36.361Z"
   },
   {
    "duration": 14,
    "start_time": "2021-09-17T21:33:37.060Z"
   },
   {
    "duration": 41,
    "start_time": "2021-09-17T21:33:37.076Z"
   },
   {
    "duration": 347,
    "start_time": "2021-09-17T21:33:37.120Z"
   },
   {
    "duration": 31,
    "start_time": "2021-09-17T21:33:37.470Z"
   },
   {
    "duration": 51,
    "start_time": "2021-09-17T21:33:37.503Z"
   },
   {
    "duration": 11,
    "start_time": "2021-09-17T21:33:37.556Z"
   },
   {
    "duration": 89,
    "start_time": "2021-09-17T21:33:37.569Z"
   },
   {
    "duration": 22,
    "start_time": "2021-09-17T21:33:37.660Z"
   },
   {
    "duration": 1273,
    "start_time": "2021-09-17T21:33:37.685Z"
   },
   {
    "duration": 637,
    "start_time": "2021-09-17T21:33:38.960Z"
   },
   {
    "duration": 11,
    "start_time": "2021-09-17T21:33:39.600Z"
   },
   {
    "duration": 579,
    "start_time": "2021-09-17T21:33:39.614Z"
   },
   {
    "duration": 7,
    "start_time": "2021-09-17T21:33:40.195Z"
   },
   {
    "duration": 572,
    "start_time": "2021-09-17T21:33:40.204Z"
   },
   {
    "duration": 14,
    "start_time": "2021-09-17T21:33:40.778Z"
   },
   {
    "duration": 4162,
    "start_time": "2021-09-17T21:33:40.795Z"
   },
   {
    "duration": 245,
    "start_time": "2021-09-17T21:33:44.959Z"
   },
   {
    "duration": 451,
    "start_time": "2021-09-17T21:33:45.206Z"
   },
   {
    "duration": 6,
    "start_time": "2021-09-17T21:33:45.659Z"
   },
   {
    "duration": 326,
    "start_time": "2021-09-17T21:33:45.668Z"
   },
   {
    "duration": 353,
    "start_time": "2021-09-17T21:33:45.996Z"
   },
   {
    "duration": 324,
    "start_time": "2021-09-17T21:33:46.355Z"
   },
   {
    "duration": 337,
    "start_time": "2021-09-17T21:33:46.681Z"
   },
   {
    "duration": 343,
    "start_time": "2021-09-17T21:33:47.020Z"
   },
   {
    "duration": 328,
    "start_time": "2021-09-17T21:33:47.366Z"
   },
   {
    "duration": 322,
    "start_time": "2021-09-17T21:33:47.696Z"
   },
   {
    "duration": 329,
    "start_time": "2021-09-17T21:33:48.020Z"
   },
   {
    "duration": 337,
    "start_time": "2021-09-17T21:33:48.354Z"
   },
   {
    "duration": 10,
    "start_time": "2021-09-17T21:33:48.694Z"
   },
   {
    "duration": 19,
    "start_time": "2021-09-17T21:33:48.707Z"
   },
   {
    "duration": 29,
    "start_time": "2021-09-17T21:33:48.729Z"
   },
   {
    "duration": 31,
    "start_time": "2021-09-17T21:33:48.760Z"
   },
   {
    "duration": 1057,
    "start_time": "2021-09-17T21:34:19.997Z"
   },
   {
    "duration": 582,
    "start_time": "2021-09-17T21:34:36.156Z"
   },
   {
    "duration": 580,
    "start_time": "2021-09-17T21:35:02.667Z"
   },
   {
    "duration": 925,
    "start_time": "2021-09-17T21:35:41.456Z"
   },
   {
    "duration": 272,
    "start_time": "2021-09-17T21:43:28.671Z"
   },
   {
    "duration": 269,
    "start_time": "2021-09-17T21:44:33.912Z"
   },
   {
    "duration": 254,
    "start_time": "2021-09-17T21:45:06.767Z"
   },
   {
    "duration": 7,
    "start_time": "2021-09-17T21:45:57.696Z"
   },
   {
    "duration": 58,
    "start_time": "2021-09-17T21:45:57.706Z"
   },
   {
    "duration": 13,
    "start_time": "2021-09-17T21:45:57.767Z"
   },
   {
    "duration": 19,
    "start_time": "2021-09-17T21:45:57.783Z"
   },
   {
    "duration": 61,
    "start_time": "2021-09-17T21:45:57.805Z"
   },
   {
    "duration": 7,
    "start_time": "2021-09-17T21:45:57.869Z"
   },
   {
    "duration": 10,
    "start_time": "2021-09-17T21:45:57.881Z"
   },
   {
    "duration": 10,
    "start_time": "2021-09-17T21:45:57.894Z"
   },
   {
    "duration": 53,
    "start_time": "2021-09-17T21:45:57.906Z"
   },
   {
    "duration": 15,
    "start_time": "2021-09-17T21:45:57.963Z"
   },
   {
    "duration": 15,
    "start_time": "2021-09-17T21:45:57.982Z"
   },
   {
    "duration": 69,
    "start_time": "2021-09-17T21:45:58.000Z"
   },
   {
    "duration": 11,
    "start_time": "2021-09-17T21:45:58.073Z"
   },
   {
    "duration": 20,
    "start_time": "2021-09-17T21:45:58.087Z"
   },
   {
    "duration": 60,
    "start_time": "2021-09-17T21:45:58.109Z"
   },
   {
    "duration": 24,
    "start_time": "2021-09-17T21:45:58.173Z"
   },
   {
    "duration": 187,
    "start_time": "2021-09-17T21:45:58.200Z"
   },
   {
    "duration": 785,
    "start_time": "2021-09-17T21:45:58.390Z"
   },
   {
    "duration": 429,
    "start_time": "2021-09-17T21:45:59.181Z"
   },
   {
    "duration": 711,
    "start_time": "2021-09-17T21:45:59.613Z"
   },
   {
    "duration": 28,
    "start_time": "2021-09-17T21:46:00.327Z"
   },
   {
    "duration": 36,
    "start_time": "2021-09-17T21:46:00.358Z"
   },
   {
    "duration": 345,
    "start_time": "2021-09-17T21:46:00.397Z"
   },
   {
    "duration": 34,
    "start_time": "2021-09-17T21:46:00.744Z"
   },
   {
    "duration": 35,
    "start_time": "2021-09-17T21:46:00.780Z"
   },
   {
    "duration": 12,
    "start_time": "2021-09-17T21:46:00.818Z"
   },
   {
    "duration": 81,
    "start_time": "2021-09-17T21:46:00.855Z"
   },
   {
    "duration": 27,
    "start_time": "2021-09-17T21:46:00.954Z"
   },
   {
    "duration": 1302,
    "start_time": "2021-09-17T21:46:00.984Z"
   },
   {
    "duration": 559,
    "start_time": "2021-09-17T21:46:02.289Z"
   },
   {
    "duration": 8,
    "start_time": "2021-09-17T21:46:02.851Z"
   },
   {
    "duration": 543,
    "start_time": "2021-09-17T21:46:02.862Z"
   },
   {
    "duration": 8,
    "start_time": "2021-09-17T21:46:03.407Z"
   },
   {
    "duration": 596,
    "start_time": "2021-09-17T21:46:03.417Z"
   },
   {
    "duration": 14,
    "start_time": "2021-09-17T21:46:04.015Z"
   },
   {
    "duration": 4268,
    "start_time": "2021-09-17T21:46:04.032Z"
   },
   {
    "duration": 255,
    "start_time": "2021-09-17T21:46:08.302Z"
   },
   {
    "duration": 941,
    "start_time": "2021-09-17T21:46:08.559Z"
   },
   {
    "duration": 8,
    "start_time": "2021-09-17T21:46:09.503Z"
   },
   {
    "duration": 361,
    "start_time": "2021-09-17T21:46:09.514Z"
   },
   {
    "duration": 343,
    "start_time": "2021-09-17T21:46:09.877Z"
   },
   {
    "duration": 314,
    "start_time": "2021-09-17T21:46:10.222Z"
   },
   {
    "duration": 341,
    "start_time": "2021-09-17T21:46:10.539Z"
   },
   {
    "duration": 329,
    "start_time": "2021-09-17T21:46:10.883Z"
   },
   {
    "duration": 327,
    "start_time": "2021-09-17T21:46:11.214Z"
   },
   {
    "duration": 324,
    "start_time": "2021-09-17T21:46:11.543Z"
   },
   {
    "duration": 321,
    "start_time": "2021-09-17T21:46:11.869Z"
   },
   {
    "duration": 330,
    "start_time": "2021-09-17T21:46:12.193Z"
   },
   {
    "duration": 11,
    "start_time": "2021-09-17T21:46:12.526Z"
   },
   {
    "duration": 9,
    "start_time": "2021-09-17T21:46:12.555Z"
   },
   {
    "duration": 21,
    "start_time": "2021-09-17T21:46:12.566Z"
   },
   {
    "duration": 14,
    "start_time": "2021-09-17T21:46:12.589Z"
   },
   {
    "duration": 2156,
    "start_time": "2021-09-17T21:46:48.820Z"
   },
   {
    "duration": 1007,
    "start_time": "2021-09-17T21:47:03.172Z"
   },
   {
    "duration": 99,
    "start_time": "2021-09-17T22:03:17.529Z"
   },
   {
    "duration": 606,
    "start_time": "2021-09-17T22:03:24.602Z"
   },
   {
    "duration": 275,
    "start_time": "2021-09-17T22:05:55.075Z"
   },
   {
    "duration": 307,
    "start_time": "2021-09-17T22:06:13.179Z"
   },
   {
    "duration": 285,
    "start_time": "2021-09-17T22:06:29.751Z"
   },
   {
    "duration": 765,
    "start_time": "2021-09-17T22:07:29.512Z"
   },
   {
    "duration": 341,
    "start_time": "2021-09-17T22:10:04.678Z"
   },
   {
    "duration": 101,
    "start_time": "2021-09-18T04:28:46.679Z"
   },
   {
    "duration": 282,
    "start_time": "2021-09-18T09:16:10.015Z"
   },
   {
    "duration": 331,
    "start_time": "2021-10-26T20:24:40.806Z"
   },
   {
    "duration": 1563,
    "start_time": "2021-10-26T20:24:46.124Z"
   },
   {
    "duration": 55,
    "start_time": "2021-10-26T20:24:47.690Z"
   },
   {
    "duration": 15,
    "start_time": "2021-10-26T20:24:47.748Z"
   },
   {
    "duration": 22,
    "start_time": "2021-10-26T20:24:47.766Z"
   },
   {
    "duration": 48,
    "start_time": "2021-10-26T20:24:47.791Z"
   },
   {
    "duration": 5,
    "start_time": "2021-10-26T20:24:47.842Z"
   },
   {
    "duration": 6,
    "start_time": "2021-10-26T20:24:47.850Z"
   },
   {
    "duration": 8,
    "start_time": "2021-10-26T20:24:47.861Z"
   },
   {
    "duration": 49,
    "start_time": "2021-10-26T20:24:47.873Z"
   },
   {
    "duration": 11,
    "start_time": "2021-10-26T20:24:47.924Z"
   },
   {
    "duration": 13,
    "start_time": "2021-10-26T20:24:47.937Z"
   },
   {
    "duration": 11,
    "start_time": "2021-10-26T20:24:47.952Z"
   },
   {
    "duration": 10,
    "start_time": "2021-10-26T20:24:47.965Z"
   },
   {
    "duration": 16,
    "start_time": "2021-10-26T20:24:48.023Z"
   },
   {
    "duration": 14,
    "start_time": "2021-10-26T20:24:48.041Z"
   },
   {
    "duration": 23,
    "start_time": "2021-10-26T20:24:48.057Z"
   },
   {
    "duration": 186,
    "start_time": "2021-10-26T20:24:48.082Z"
   },
   {
    "duration": 815,
    "start_time": "2021-10-26T20:24:48.270Z"
   },
   {
    "duration": 410,
    "start_time": "2021-10-26T20:24:49.087Z"
   },
   {
    "duration": 769,
    "start_time": "2021-10-26T20:24:49.499Z"
   },
   {
    "duration": 14,
    "start_time": "2021-10-26T20:24:50.271Z"
   },
   {
    "duration": 54,
    "start_time": "2021-10-26T20:24:50.287Z"
   },
   {
    "duration": 328,
    "start_time": "2021-10-26T20:24:50.345Z"
   },
   {
    "duration": 27,
    "start_time": "2021-10-26T20:24:50.677Z"
   },
   {
    "duration": 37,
    "start_time": "2021-10-26T20:24:50.707Z"
   },
   {
    "duration": 11,
    "start_time": "2021-10-26T20:24:50.747Z"
   },
   {
    "duration": 159,
    "start_time": "2021-10-26T20:24:50.760Z"
   },
   {
    "duration": 23,
    "start_time": "2021-10-26T20:24:50.922Z"
   },
   {
    "duration": 1245,
    "start_time": "2021-10-26T20:24:50.947Z"
   },
   {
    "duration": 572,
    "start_time": "2021-10-26T20:24:52.195Z"
   },
   {
    "duration": 9,
    "start_time": "2021-10-26T20:24:52.769Z"
   },
   {
    "duration": 571,
    "start_time": "2021-10-26T20:24:52.780Z"
   },
   {
    "duration": 8,
    "start_time": "2021-10-26T20:24:53.354Z"
   },
   {
    "duration": 593,
    "start_time": "2021-10-26T20:24:53.364Z"
   },
   {
    "duration": 14,
    "start_time": "2021-10-26T20:24:53.959Z"
   },
   {
    "duration": 4009,
    "start_time": "2021-10-26T20:24:53.976Z"
   },
   {
    "duration": 76,
    "start_time": "2021-10-26T20:24:57.988Z"
   },
   {
    "duration": 338,
    "start_time": "2021-10-26T20:25:21.677Z"
   },
   {
    "duration": 6,
    "start_time": "2021-10-26T20:25:27.169Z"
   },
   {
    "duration": 53,
    "start_time": "2021-10-26T20:25:27.178Z"
   },
   {
    "duration": 12,
    "start_time": "2021-10-26T20:25:27.234Z"
   },
   {
    "duration": 19,
    "start_time": "2021-10-26T20:25:27.249Z"
   },
   {
    "duration": 53,
    "start_time": "2021-10-26T20:25:27.270Z"
   },
   {
    "duration": 5,
    "start_time": "2021-10-26T20:25:27.326Z"
   },
   {
    "duration": 9,
    "start_time": "2021-10-26T20:25:27.334Z"
   },
   {
    "duration": 6,
    "start_time": "2021-10-26T20:25:27.347Z"
   },
   {
    "duration": 6,
    "start_time": "2021-10-26T20:25:27.356Z"
   },
   {
    "duration": 60,
    "start_time": "2021-10-26T20:25:27.364Z"
   },
   {
    "duration": 12,
    "start_time": "2021-10-26T20:25:27.427Z"
   },
   {
    "duration": 11,
    "start_time": "2021-10-26T20:25:27.442Z"
   },
   {
    "duration": 129,
    "start_time": "2021-10-26T20:25:27.456Z"
   },
   {
    "duration": 37,
    "start_time": "2021-10-26T20:25:27.587Z"
   },
   {
    "duration": 15,
    "start_time": "2021-10-26T20:25:27.627Z"
   },
   {
    "duration": 26,
    "start_time": "2021-10-26T20:25:27.645Z"
   },
   {
    "duration": 230,
    "start_time": "2021-10-26T20:25:27.674Z"
   },
   {
    "duration": 590,
    "start_time": "2021-10-26T20:25:27.906Z"
   },
   {
    "duration": 401,
    "start_time": "2021-10-26T20:25:28.498Z"
   },
   {
    "duration": 665,
    "start_time": "2021-10-26T20:25:28.902Z"
   },
   {
    "duration": 14,
    "start_time": "2021-10-26T20:25:29.570Z"
   },
   {
    "duration": 53,
    "start_time": "2021-10-26T20:25:29.586Z"
   },
   {
    "duration": 322,
    "start_time": "2021-10-26T20:25:29.644Z"
   },
   {
    "duration": 25,
    "start_time": "2021-10-26T20:25:29.969Z"
   },
   {
    "duration": 41,
    "start_time": "2021-10-26T20:25:29.997Z"
   },
   {
    "duration": 10,
    "start_time": "2021-10-26T20:25:30.040Z"
   },
   {
    "duration": 93,
    "start_time": "2021-10-26T20:25:30.052Z"
   },
   {
    "duration": 23,
    "start_time": "2021-10-26T20:25:30.147Z"
   },
   {
    "duration": 1250,
    "start_time": "2021-10-26T20:25:30.172Z"
   },
   {
    "duration": 543,
    "start_time": "2021-10-26T20:25:31.424Z"
   },
   {
    "duration": 9,
    "start_time": "2021-10-26T20:25:31.969Z"
   },
   {
    "duration": 581,
    "start_time": "2021-10-26T20:25:31.980Z"
   },
   {
    "duration": 6,
    "start_time": "2021-10-26T20:25:32.564Z"
   },
   {
    "duration": 631,
    "start_time": "2021-10-26T20:25:32.572Z"
   },
   {
    "duration": 23,
    "start_time": "2021-10-26T20:25:33.205Z"
   },
   {
    "duration": 3742,
    "start_time": "2021-10-26T20:25:33.230Z"
   },
   {
    "duration": 82,
    "start_time": "2021-10-26T20:25:36.974Z"
   },
   {
    "duration": 1120,
    "start_time": "2021-10-26T20:25:37.058Z"
   },
   {
    "duration": 15,
    "start_time": "2021-10-26T20:25:38.180Z"
   },
   {
    "duration": 25,
    "start_time": "2021-10-26T20:25:38.197Z"
   },
   {
    "duration": 314,
    "start_time": "2021-10-26T20:25:38.224Z"
   },
   {
    "duration": 327,
    "start_time": "2021-10-26T20:25:38.540Z"
   },
   {
    "duration": 332,
    "start_time": "2021-10-26T20:25:38.869Z"
   },
   {
    "duration": 334,
    "start_time": "2021-10-26T20:25:39.203Z"
   },
   {
    "duration": 330,
    "start_time": "2021-10-26T20:25:39.539Z"
   },
   {
    "duration": 410,
    "start_time": "2021-10-26T20:25:39.871Z"
   },
   {
    "duration": 318,
    "start_time": "2021-10-26T20:25:40.283Z"
   },
   {
    "duration": 323,
    "start_time": "2021-10-26T20:25:40.603Z"
   },
   {
    "duration": 348,
    "start_time": "2021-10-26T20:25:40.928Z"
   },
   {
    "duration": 11,
    "start_time": "2021-10-26T20:25:41.279Z"
   },
   {
    "duration": 32,
    "start_time": "2021-10-26T20:25:41.293Z"
   },
   {
    "duration": 13,
    "start_time": "2021-10-26T20:25:41.328Z"
   },
   {
    "duration": 11,
    "start_time": "2021-10-26T20:25:41.344Z"
   },
   {
    "duration": 1444,
    "start_time": "2021-10-28T15:49:19.565Z"
   },
   {
    "duration": 51,
    "start_time": "2021-10-28T15:49:21.012Z"
   },
   {
    "duration": 18,
    "start_time": "2021-10-28T15:49:21.066Z"
   },
   {
    "duration": 52,
    "start_time": "2021-10-28T15:49:21.087Z"
   },
   {
    "duration": 22,
    "start_time": "2021-10-28T15:49:21.141Z"
   },
   {
    "duration": 5,
    "start_time": "2021-10-28T15:49:21.166Z"
   },
   {
    "duration": 22,
    "start_time": "2021-10-28T15:49:21.173Z"
   },
   {
    "duration": 6,
    "start_time": "2021-10-28T15:49:21.198Z"
   },
   {
    "duration": 6,
    "start_time": "2021-10-28T15:49:21.229Z"
   },
   {
    "duration": 32,
    "start_time": "2021-10-28T15:49:21.237Z"
   },
   {
    "duration": 16,
    "start_time": "2021-10-28T15:49:21.271Z"
   },
   {
    "duration": 20,
    "start_time": "2021-10-28T15:49:21.289Z"
   },
   {
    "duration": 22,
    "start_time": "2021-10-28T15:49:21.311Z"
   },
   {
    "duration": 21,
    "start_time": "2021-10-28T15:49:21.336Z"
   },
   {
    "duration": 21,
    "start_time": "2021-10-28T15:49:21.360Z"
   },
   {
    "duration": 31,
    "start_time": "2021-10-28T15:49:21.384Z"
   },
   {
    "duration": 172,
    "start_time": "2021-10-28T15:49:21.418Z"
   },
   {
    "duration": 611,
    "start_time": "2021-10-28T15:49:21.592Z"
   },
   {
    "duration": 427,
    "start_time": "2021-10-28T15:49:22.205Z"
   },
   {
    "duration": 688,
    "start_time": "2021-10-28T15:49:22.634Z"
   },
   {
    "duration": 14,
    "start_time": "2021-10-28T15:49:23.329Z"
   },
   {
    "duration": 37,
    "start_time": "2021-10-28T15:49:23.345Z"
   },
   {
    "duration": 355,
    "start_time": "2021-10-28T15:49:23.388Z"
   },
   {
    "duration": 27,
    "start_time": "2021-10-28T15:49:23.747Z"
   },
   {
    "duration": 25,
    "start_time": "2021-10-28T15:49:23.777Z"
   },
   {
    "duration": 11,
    "start_time": "2021-10-28T15:49:23.828Z"
   },
   {
    "duration": 162,
    "start_time": "2021-10-28T15:49:23.842Z"
   },
   {
    "duration": 37,
    "start_time": "2021-10-28T15:49:24.007Z"
   },
   {
    "duration": 1301,
    "start_time": "2021-10-28T15:49:24.046Z"
   },
   {
    "duration": 569,
    "start_time": "2021-10-28T15:49:25.350Z"
   },
   {
    "duration": 9,
    "start_time": "2021-10-28T15:49:25.929Z"
   },
   {
    "duration": 540,
    "start_time": "2021-10-28T15:49:25.941Z"
   },
   {
    "duration": 6,
    "start_time": "2021-10-28T15:49:26.484Z"
   },
   {
    "duration": 572,
    "start_time": "2021-10-28T15:49:26.492Z"
   },
   {
    "duration": 15,
    "start_time": "2021-10-28T15:49:27.066Z"
   },
   {
    "duration": 4095,
    "start_time": "2021-10-28T15:49:27.083Z"
   },
   {
    "duration": 83,
    "start_time": "2021-10-28T15:49:31.180Z"
   },
   {
    "duration": 965,
    "start_time": "2021-10-28T15:49:31.265Z"
   },
   {
    "duration": 15,
    "start_time": "2021-10-28T15:49:32.232Z"
   },
   {
    "duration": 10,
    "start_time": "2021-10-28T15:49:32.249Z"
   },
   {
    "duration": 437,
    "start_time": "2021-10-28T15:49:32.261Z"
   },
   {
    "duration": 357,
    "start_time": "2021-10-28T15:49:32.701Z"
   },
   {
    "duration": 334,
    "start_time": "2021-10-28T15:49:33.060Z"
   },
   {
    "duration": 349,
    "start_time": "2021-10-28T15:49:33.396Z"
   },
   {
    "duration": 352,
    "start_time": "2021-10-28T15:49:33.747Z"
   },
   {
    "duration": 338,
    "start_time": "2021-10-28T15:49:34.101Z"
   },
   {
    "duration": 327,
    "start_time": "2021-10-28T15:49:34.443Z"
   },
   {
    "duration": 323,
    "start_time": "2021-10-28T15:49:34.773Z"
   },
   {
    "duration": 340,
    "start_time": "2021-10-28T15:49:35.098Z"
   },
   {
    "duration": 9,
    "start_time": "2021-10-28T15:49:35.441Z"
   },
   {
    "duration": 16,
    "start_time": "2021-10-28T15:49:35.453Z"
   },
   {
    "duration": 13,
    "start_time": "2021-10-28T15:49:35.471Z"
   },
   {
    "duration": 9,
    "start_time": "2021-10-28T15:49:35.486Z"
   }
  ],
  "kernelspec": {
   "display_name": "Python 3 (ipykernel)",
   "language": "python",
   "name": "python3"
  },
  "language_info": {
   "codemirror_mode": {
    "name": "ipython",
    "version": 3
   },
   "file_extension": ".py",
   "mimetype": "text/x-python",
   "name": "python",
   "nbconvert_exporter": "python",
   "pygments_lexer": "ipython3",
   "version": "3.9.7"
  },
  "toc": {
   "base_numbering": 1,
   "nav_menu": {},
   "number_sections": true,
   "sideBar": false,
   "skip_h1_title": true,
   "title_cell": "Содержание",
   "title_sidebar": "Contents",
   "toc_cell": true,
   "toc_position": {
    "height": "calc(100% - 180px)",
    "left": "10px",
    "top": "150px",
    "width": "366.391px"
   },
   "toc_section_display": false,
   "toc_window_display": false
  }
 },
 "nbformat": 4,
 "nbformat_minor": 2
}
