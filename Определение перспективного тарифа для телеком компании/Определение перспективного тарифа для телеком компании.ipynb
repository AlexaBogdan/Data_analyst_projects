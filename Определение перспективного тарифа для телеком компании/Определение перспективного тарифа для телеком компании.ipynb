{
 "cells": [
  {
   "cell_type": "markdown",
   "metadata": {},
   "source": [
    "# Определение перспективного тарифа для телеком компании"
   ]
  },
  {
   "cell_type": "markdown",
   "metadata": {},
   "source": [
    "Компания «Мегалайн» — федерального оператора сотовой связи.\n",
    "\n",
    "Клиентам предлагают два тарифных плана: «Смарт» и «Ультра». Чтобы скорректировать рекламный бюджет, коммерческий департамент хочет понять, какой тариф приносит больше денег.\n",
    "\n",
    "Нам предстоит сделать предварительный анализ тарифов на небольшой выборке клиентов. В нашем распоряжении данные 500 пользователей «Мегалайна»: кто они, откуда, каким тарифом пользуются, сколько звонков и сообщений каждый отправил за 2018 год. \n",
    "\n",
    "Нужно проанализировать поведение клиентов и сделать вывод — какой тариф лучше."
   ]
  },
  {
   "cell_type": "markdown",
   "metadata": {},
   "source": [
    "<h1>Содержание<span class=\"tocSkip\"></span></h1>\n",
    "<div class=\"toc\"><ul class=\"toc-item\"><li><span><a href=\"#Изучение-данных-из-файла\" data-toc-modified-id=\"Изучение-данных-из-файла-1\"><span class=\"toc-item-num\">1&nbsp;&nbsp;</span>Изучение данных из файла</a></span><ul class=\"toc-item\"><li><span><a href=\"#Звонки\" data-toc-modified-id=\"Звонки-1.1\"><span class=\"toc-item-num\">1.1&nbsp;&nbsp;</span>Звонки</a></span></li><li><span><a href=\"#Интернет\" data-toc-modified-id=\"Интернет-1.2\"><span class=\"toc-item-num\">1.2&nbsp;&nbsp;</span>Интернет</a></span></li><li><span><a href=\"#Сообщения\" data-toc-modified-id=\"Сообщения-1.3\"><span class=\"toc-item-num\">1.3&nbsp;&nbsp;</span>Сообщения</a></span></li><li><span><a href=\"#Тариф\" data-toc-modified-id=\"Тариф-1.4\"><span class=\"toc-item-num\">1.4&nbsp;&nbsp;</span>Тариф</a></span></li><li><span><a href=\"#Пользователи\" data-toc-modified-id=\"Пользователи-1.5\"><span class=\"toc-item-num\">1.5&nbsp;&nbsp;</span>Пользователи</a></span></li></ul></li><li><span><a href=\"#Предобработка-данных\" data-toc-modified-id=\"Предобработка-данных-2\"><span class=\"toc-item-num\">2&nbsp;&nbsp;</span>Предобработка данных</a></span></li><li><span><a href=\"#Расчёты-и-добавление-результатов-в-таблицу\" data-toc-modified-id=\"Расчёты-и-добавление-результатов-в-таблицу-3\"><span class=\"toc-item-num\">3&nbsp;&nbsp;</span>Расчёты и добавление результатов в таблицу</a></span><ul class=\"toc-item\"><li><span><a href=\"#Расчет-количества-сделанных-звонков-и-израсходованных-минут-разговора-по-месяцам\" data-toc-modified-id=\"Расчет-количества-сделанных-звонков-и-израсходованных-минут-разговора-по-месяцам-3.1\"><span class=\"toc-item-num\">3.1&nbsp;&nbsp;</span>Расчет количества сделанных звонков и израсходованных минут разговора по месяцам</a></span></li><li><span><a href=\"#Расчет-количества-отправленных-сообщений-по-месяцам\" data-toc-modified-id=\"Расчет-количества-отправленных-сообщений-по-месяцам-3.2\"><span class=\"toc-item-num\">3.2&nbsp;&nbsp;</span>Расчет количества отправленных сообщений по месяцам</a></span></li><li><span><a href=\"#Расчет-объемa-израсходованного-интернет-трафика-по-месяцам\" data-toc-modified-id=\"Расчет-объемa-израсходованного-интернет-трафика-по-месяцам-3.3\"><span class=\"toc-item-num\">3.3&nbsp;&nbsp;</span>Расчет объемa израсходованного интернет-трафика по месяцам</a></span></li><li><span><a href=\"#Объединение-таблиц\" data-toc-modified-id=\"Объединение-таблиц-3.4\"><span class=\"toc-item-num\">3.4&nbsp;&nbsp;</span>Объединение таблиц</a></span></li><li><span><a href=\"#Расчет-количества-израсходованных-минут-по-месяцам\" data-toc-modified-id=\"Расчет-количества-израсходованных-минут-по-месяцам-3.5\"><span class=\"toc-item-num\">3.5&nbsp;&nbsp;</span>Расчет количества израсходованных минут по месяцам</a></span></li><li><span><a href=\"#Расчет-израсходованного-интернет-трафика-по-месяцам\" data-toc-modified-id=\"Расчет-израсходованного-интернет-трафика-по-месяцам-3.6\"><span class=\"toc-item-num\">3.6&nbsp;&nbsp;</span>Расчет израсходованного интернет-трафика по месяцам</a></span></li><li><span><a href=\"#Расчет-количества-отправленных-сообщений-по-месяцам\" data-toc-modified-id=\"Расчет-количества-отправленных-сообщений-по-месяцам-3.7\"><span class=\"toc-item-num\">3.7&nbsp;&nbsp;</span>Расчет количества отправленных сообщений по месяцам</a></span></li><li><span><a href=\"#Расчет-выручки-по-месяцам\" data-toc-modified-id=\"Расчет-выручки-по-месяцам-3.8\"><span class=\"toc-item-num\">3.8&nbsp;&nbsp;</span>Расчет выручки по месяцам</a></span></li></ul></li><li><span><a href=\"#Исследовательский-анализ-данных\" data-toc-modified-id=\"Исследовательский-анализ-данных-4\"><span class=\"toc-item-num\">4&nbsp;&nbsp;</span>Исследовательский анализ данных</a></span><ul class=\"toc-item\"><li><span><a href=\"#Минуты\" data-toc-modified-id=\"Минуты-4.1\"><span class=\"toc-item-num\">4.1&nbsp;&nbsp;</span>Минуты</a></span></li><li><span><a href=\"#Сообщения\" data-toc-modified-id=\"Сообщения-4.2\"><span class=\"toc-item-num\">4.2&nbsp;&nbsp;</span>Сообщения</a></span></li><li><span><a href=\"#Интернет-трафик\" data-toc-modified-id=\"Интернет-трафик-4.3\"><span class=\"toc-item-num\">4.3&nbsp;&nbsp;</span>Интернет-трафик</a></span></li></ul></li><li><span><a href=\"#Гипотезы\" data-toc-modified-id=\"Гипотезы-5\"><span class=\"toc-item-num\">5&nbsp;&nbsp;</span>Гипотезы</a></span></li><li><span><a href=\"#Общий-вывод\" data-toc-modified-id=\"Общий-вывод-6\"><span class=\"toc-item-num\">6&nbsp;&nbsp;</span>Общий вывод</a></span></li></ul></div>"
   ]
  },
  {
   "cell_type": "markdown",
   "metadata": {},
   "source": [
    "## Изучение данных из файла\n",
    "\n",
    "Импортируем билиотеки"
   ]
  },
  {
   "cell_type": "code",
   "execution_count": 1,
   "metadata": {},
   "outputs": [],
   "source": [
    "import pandas as pd\n",
    "import numpy as np\n",
    "from IPython.display import display\n",
    "import seaborn as sns\n",
    "pd.options.display.max_columns = None\n",
    "import matplotlib.pyplot as plt\n",
    "import math as mt\n",
    "from scipy import stats as st"
   ]
  },
  {
   "cell_type": "markdown",
   "metadata": {},
   "source": [
    "У нас 5 баз данных, определим названия и прочитаем их."
   ]
  },
  {
   "cell_type": "code",
   "execution_count": 2,
   "metadata": {},
   "outputs": [],
   "source": [
    "calls = pd.read_csv('/datasets/calls.csv')\n",
    "internet = pd.read_csv('/datasets/internet.csv')\n",
    "messages = pd.read_csv('/datasets/messages.csv')\n",
    "tariffs = pd.read_csv('/datasets/tariffs.csv')\n",
    "users = pd.read_csv('/datasets/users.csv')"
   ]
  },
  {
   "cell_type": "markdown",
   "metadata": {},
   "source": [
    "Теперь начнем рассматривать каждую отдельно:\n",
    "\n",
    "### Звонки"
   ]
  },
  {
   "cell_type": "code",
   "execution_count": 3,
   "metadata": {},
   "outputs": [
    {
     "name": "stdout",
     "output_type": "stream",
     "text": [
      "<class 'pandas.core.frame.DataFrame'>\n",
      "RangeIndex: 202607 entries, 0 to 202606\n",
      "Data columns (total 4 columns):\n",
      "id           202607 non-null object\n",
      "call_date    202607 non-null object\n",
      "duration     202607 non-null float64\n",
      "user_id      202607 non-null int64\n",
      "dtypes: float64(1), int64(1), object(2)\n",
      "memory usage: 6.2+ MB\n"
     ]
    }
   ],
   "source": [
    "calls.info()"
   ]
  },
  {
   "cell_type": "code",
   "execution_count": 4,
   "metadata": {},
   "outputs": [
    {
     "data": {
      "text/html": [
       "<div>\n",
       "<style scoped>\n",
       "    .dataframe tbody tr th:only-of-type {\n",
       "        vertical-align: middle;\n",
       "    }\n",
       "\n",
       "    .dataframe tbody tr th {\n",
       "        vertical-align: top;\n",
       "    }\n",
       "\n",
       "    .dataframe thead th {\n",
       "        text-align: right;\n",
       "    }\n",
       "</style>\n",
       "<table border=\"1\" class=\"dataframe\">\n",
       "  <thead>\n",
       "    <tr style=\"text-align: right;\">\n",
       "      <th></th>\n",
       "      <th>id</th>\n",
       "      <th>call_date</th>\n",
       "      <th>duration</th>\n",
       "      <th>user_id</th>\n",
       "    </tr>\n",
       "  </thead>\n",
       "  <tbody>\n",
       "    <tr>\n",
       "      <td>0</td>\n",
       "      <td>1000_0</td>\n",
       "      <td>2018-07-25</td>\n",
       "      <td>0.00</td>\n",
       "      <td>1000</td>\n",
       "    </tr>\n",
       "    <tr>\n",
       "      <td>1</td>\n",
       "      <td>1000_1</td>\n",
       "      <td>2018-08-17</td>\n",
       "      <td>0.00</td>\n",
       "      <td>1000</td>\n",
       "    </tr>\n",
       "    <tr>\n",
       "      <td>2</td>\n",
       "      <td>1000_2</td>\n",
       "      <td>2018-06-11</td>\n",
       "      <td>2.85</td>\n",
       "      <td>1000</td>\n",
       "    </tr>\n",
       "    <tr>\n",
       "      <td>3</td>\n",
       "      <td>1000_3</td>\n",
       "      <td>2018-09-21</td>\n",
       "      <td>13.80</td>\n",
       "      <td>1000</td>\n",
       "    </tr>\n",
       "    <tr>\n",
       "      <td>4</td>\n",
       "      <td>1000_4</td>\n",
       "      <td>2018-12-15</td>\n",
       "      <td>5.18</td>\n",
       "      <td>1000</td>\n",
       "    </tr>\n",
       "  </tbody>\n",
       "</table>\n",
       "</div>"
      ],
      "text/plain": [
       "       id   call_date  duration  user_id\n",
       "0  1000_0  2018-07-25      0.00     1000\n",
       "1  1000_1  2018-08-17      0.00     1000\n",
       "2  1000_2  2018-06-11      2.85     1000\n",
       "3  1000_3  2018-09-21     13.80     1000\n",
       "4  1000_4  2018-12-15      5.18     1000"
      ]
     },
     "metadata": {},
     "output_type": "display_data"
    }
   ],
   "source": [
    "display(calls.head())"
   ]
  },
  {
   "cell_type": "markdown",
   "metadata": {},
   "source": [
    "- Значения столбца \"duration\" необходимо округлить в большую сторону (по условию задачи)\n",
    "- Пропусков нет"
   ]
  },
  {
   "cell_type": "markdown",
   "metadata": {},
   "source": [
    "### Интернет"
   ]
  },
  {
   "cell_type": "code",
   "execution_count": 5,
   "metadata": {
    "scrolled": true
   },
   "outputs": [
    {
     "name": "stdout",
     "output_type": "stream",
     "text": [
      "<class 'pandas.core.frame.DataFrame'>\n",
      "RangeIndex: 149396 entries, 0 to 149395\n",
      "Data columns (total 5 columns):\n",
      "Unnamed: 0      149396 non-null int64\n",
      "id              149396 non-null object\n",
      "mb_used         149396 non-null float64\n",
      "session_date    149396 non-null object\n",
      "user_id         149396 non-null int64\n",
      "dtypes: float64(1), int64(2), object(2)\n",
      "memory usage: 5.7+ MB\n"
     ]
    }
   ],
   "source": [
    "internet.info()"
   ]
  },
  {
   "cell_type": "code",
   "execution_count": 6,
   "metadata": {
    "scrolled": false
   },
   "outputs": [
    {
     "data": {
      "text/html": [
       "<div>\n",
       "<style scoped>\n",
       "    .dataframe tbody tr th:only-of-type {\n",
       "        vertical-align: middle;\n",
       "    }\n",
       "\n",
       "    .dataframe tbody tr th {\n",
       "        vertical-align: top;\n",
       "    }\n",
       "\n",
       "    .dataframe thead th {\n",
       "        text-align: right;\n",
       "    }\n",
       "</style>\n",
       "<table border=\"1\" class=\"dataframe\">\n",
       "  <thead>\n",
       "    <tr style=\"text-align: right;\">\n",
       "      <th></th>\n",
       "      <th>Unnamed: 0</th>\n",
       "      <th>id</th>\n",
       "      <th>mb_used</th>\n",
       "      <th>session_date</th>\n",
       "      <th>user_id</th>\n",
       "    </tr>\n",
       "  </thead>\n",
       "  <tbody>\n",
       "    <tr>\n",
       "      <td>0</td>\n",
       "      <td>0</td>\n",
       "      <td>1000_0</td>\n",
       "      <td>112.95</td>\n",
       "      <td>2018-11-25</td>\n",
       "      <td>1000</td>\n",
       "    </tr>\n",
       "    <tr>\n",
       "      <td>1</td>\n",
       "      <td>1</td>\n",
       "      <td>1000_1</td>\n",
       "      <td>1052.81</td>\n",
       "      <td>2018-09-07</td>\n",
       "      <td>1000</td>\n",
       "    </tr>\n",
       "    <tr>\n",
       "      <td>2</td>\n",
       "      <td>2</td>\n",
       "      <td>1000_2</td>\n",
       "      <td>1197.26</td>\n",
       "      <td>2018-06-25</td>\n",
       "      <td>1000</td>\n",
       "    </tr>\n",
       "    <tr>\n",
       "      <td>3</td>\n",
       "      <td>3</td>\n",
       "      <td>1000_3</td>\n",
       "      <td>550.27</td>\n",
       "      <td>2018-08-22</td>\n",
       "      <td>1000</td>\n",
       "    </tr>\n",
       "    <tr>\n",
       "      <td>4</td>\n",
       "      <td>4</td>\n",
       "      <td>1000_4</td>\n",
       "      <td>302.56</td>\n",
       "      <td>2018-09-24</td>\n",
       "      <td>1000</td>\n",
       "    </tr>\n",
       "  </tbody>\n",
       "</table>\n",
       "</div>"
      ],
      "text/plain": [
       "   Unnamed: 0      id  mb_used session_date  user_id\n",
       "0           0  1000_0   112.95   2018-11-25     1000\n",
       "1           1  1000_1  1052.81   2018-09-07     1000\n",
       "2           2  1000_2  1197.26   2018-06-25     1000\n",
       "3           3  1000_3   550.27   2018-08-22     1000\n",
       "4           4  1000_4   302.56   2018-09-24     1000"
      ]
     },
     "metadata": {},
     "output_type": "display_data"
    }
   ],
   "source": [
    "display(internet.head())"
   ]
  },
  {
   "cell_type": "code",
   "execution_count": 7,
   "metadata": {},
   "outputs": [
    {
     "data": {
      "text/plain": [
       "Index(['Unnamed: 0', 'id', 'mb_used', 'session_date', 'user_id'], dtype='object')"
      ]
     },
     "execution_count": 7,
     "metadata": {},
     "output_type": "execute_result"
    }
   ],
   "source": [
    "internet.columns"
   ]
  },
  {
   "cell_type": "markdown",
   "metadata": {},
   "source": [
    "- Пропусков нет\n",
    "- Зато есть лишний столбец \"Unnamed: 0\", который судя по всему образовался из индексов - его необходимо удалить."
   ]
  },
  {
   "cell_type": "markdown",
   "metadata": {},
   "source": [
    "### Сообщения"
   ]
  },
  {
   "cell_type": "code",
   "execution_count": 8,
   "metadata": {},
   "outputs": [
    {
     "name": "stdout",
     "output_type": "stream",
     "text": [
      "<class 'pandas.core.frame.DataFrame'>\n",
      "RangeIndex: 123036 entries, 0 to 123035\n",
      "Data columns (total 3 columns):\n",
      "id              123036 non-null object\n",
      "message_date    123036 non-null object\n",
      "user_id         123036 non-null int64\n",
      "dtypes: int64(1), object(2)\n",
      "memory usage: 2.8+ MB\n"
     ]
    }
   ],
   "source": [
    "messages.info()"
   ]
  },
  {
   "cell_type": "code",
   "execution_count": 9,
   "metadata": {
    "scrolled": false
   },
   "outputs": [
    {
     "data": {
      "text/html": [
       "<div>\n",
       "<style scoped>\n",
       "    .dataframe tbody tr th:only-of-type {\n",
       "        vertical-align: middle;\n",
       "    }\n",
       "\n",
       "    .dataframe tbody tr th {\n",
       "        vertical-align: top;\n",
       "    }\n",
       "\n",
       "    .dataframe thead th {\n",
       "        text-align: right;\n",
       "    }\n",
       "</style>\n",
       "<table border=\"1\" class=\"dataframe\">\n",
       "  <thead>\n",
       "    <tr style=\"text-align: right;\">\n",
       "      <th></th>\n",
       "      <th>id</th>\n",
       "      <th>message_date</th>\n",
       "      <th>user_id</th>\n",
       "    </tr>\n",
       "  </thead>\n",
       "  <tbody>\n",
       "    <tr>\n",
       "      <td>0</td>\n",
       "      <td>1000_0</td>\n",
       "      <td>2018-06-27</td>\n",
       "      <td>1000</td>\n",
       "    </tr>\n",
       "    <tr>\n",
       "      <td>1</td>\n",
       "      <td>1000_1</td>\n",
       "      <td>2018-10-08</td>\n",
       "      <td>1000</td>\n",
       "    </tr>\n",
       "    <tr>\n",
       "      <td>2</td>\n",
       "      <td>1000_2</td>\n",
       "      <td>2018-08-04</td>\n",
       "      <td>1000</td>\n",
       "    </tr>\n",
       "    <tr>\n",
       "      <td>3</td>\n",
       "      <td>1000_3</td>\n",
       "      <td>2018-06-16</td>\n",
       "      <td>1000</td>\n",
       "    </tr>\n",
       "    <tr>\n",
       "      <td>4</td>\n",
       "      <td>1000_4</td>\n",
       "      <td>2018-12-05</td>\n",
       "      <td>1000</td>\n",
       "    </tr>\n",
       "  </tbody>\n",
       "</table>\n",
       "</div>"
      ],
      "text/plain": [
       "       id message_date  user_id\n",
       "0  1000_0   2018-06-27     1000\n",
       "1  1000_1   2018-10-08     1000\n",
       "2  1000_2   2018-08-04     1000\n",
       "3  1000_3   2018-06-16     1000\n",
       "4  1000_4   2018-12-05     1000"
      ]
     },
     "metadata": {},
     "output_type": "display_data"
    }
   ],
   "source": [
    "display(messages.head())"
   ]
  },
  {
   "cell_type": "markdown",
   "metadata": {},
   "source": [
    "- Пропусков нет"
   ]
  },
  {
   "cell_type": "markdown",
   "metadata": {},
   "source": [
    "### Тариф"
   ]
  },
  {
   "cell_type": "code",
   "execution_count": 10,
   "metadata": {},
   "outputs": [
    {
     "name": "stdout",
     "output_type": "stream",
     "text": [
      "<class 'pandas.core.frame.DataFrame'>\n",
      "RangeIndex: 2 entries, 0 to 1\n",
      "Data columns (total 8 columns):\n",
      "messages_included        2 non-null int64\n",
      "mb_per_month_included    2 non-null int64\n",
      "minutes_included         2 non-null int64\n",
      "rub_monthly_fee          2 non-null int64\n",
      "rub_per_gb               2 non-null int64\n",
      "rub_per_message          2 non-null int64\n",
      "rub_per_minute           2 non-null int64\n",
      "tariff_name              2 non-null object\n",
      "dtypes: int64(7), object(1)\n",
      "memory usage: 256.0+ bytes\n"
     ]
    }
   ],
   "source": [
    "tariffs.info()"
   ]
  },
  {
   "cell_type": "code",
   "execution_count": 11,
   "metadata": {
    "scrolled": false
   },
   "outputs": [
    {
     "data": {
      "text/html": [
       "<div>\n",
       "<style scoped>\n",
       "    .dataframe tbody tr th:only-of-type {\n",
       "        vertical-align: middle;\n",
       "    }\n",
       "\n",
       "    .dataframe tbody tr th {\n",
       "        vertical-align: top;\n",
       "    }\n",
       "\n",
       "    .dataframe thead th {\n",
       "        text-align: right;\n",
       "    }\n",
       "</style>\n",
       "<table border=\"1\" class=\"dataframe\">\n",
       "  <thead>\n",
       "    <tr style=\"text-align: right;\">\n",
       "      <th></th>\n",
       "      <th>messages_included</th>\n",
       "      <th>mb_per_month_included</th>\n",
       "      <th>minutes_included</th>\n",
       "      <th>rub_monthly_fee</th>\n",
       "      <th>rub_per_gb</th>\n",
       "      <th>rub_per_message</th>\n",
       "      <th>rub_per_minute</th>\n",
       "      <th>tariff_name</th>\n",
       "    </tr>\n",
       "  </thead>\n",
       "  <tbody>\n",
       "    <tr>\n",
       "      <td>0</td>\n",
       "      <td>50</td>\n",
       "      <td>15360</td>\n",
       "      <td>500</td>\n",
       "      <td>550</td>\n",
       "      <td>200</td>\n",
       "      <td>3</td>\n",
       "      <td>3</td>\n",
       "      <td>smart</td>\n",
       "    </tr>\n",
       "    <tr>\n",
       "      <td>1</td>\n",
       "      <td>1000</td>\n",
       "      <td>30720</td>\n",
       "      <td>3000</td>\n",
       "      <td>1950</td>\n",
       "      <td>150</td>\n",
       "      <td>1</td>\n",
       "      <td>1</td>\n",
       "      <td>ultra</td>\n",
       "    </tr>\n",
       "  </tbody>\n",
       "</table>\n",
       "</div>"
      ],
      "text/plain": [
       "   messages_included  mb_per_month_included  minutes_included  \\\n",
       "0                 50                  15360               500   \n",
       "1               1000                  30720              3000   \n",
       "\n",
       "   rub_monthly_fee  rub_per_gb  rub_per_message  rub_per_minute tariff_name  \n",
       "0              550         200                3               3       smart  \n",
       "1             1950         150                1               1       ultra  "
      ]
     },
     "metadata": {},
     "output_type": "display_data"
    }
   ],
   "source": [
    "display(tariffs.head())"
   ]
  },
  {
   "cell_type": "markdown",
   "metadata": {},
   "source": [
    "- Пропусков нет"
   ]
  },
  {
   "cell_type": "markdown",
   "metadata": {},
   "source": [
    "### Пользователи"
   ]
  },
  {
   "cell_type": "code",
   "execution_count": 12,
   "metadata": {},
   "outputs": [
    {
     "name": "stdout",
     "output_type": "stream",
     "text": [
      "<class 'pandas.core.frame.DataFrame'>\n",
      "RangeIndex: 500 entries, 0 to 499\n",
      "Data columns (total 8 columns):\n",
      "user_id       500 non-null int64\n",
      "age           500 non-null int64\n",
      "churn_date    38 non-null object\n",
      "city          500 non-null object\n",
      "first_name    500 non-null object\n",
      "last_name     500 non-null object\n",
      "reg_date      500 non-null object\n",
      "tariff        500 non-null object\n",
      "dtypes: int64(2), object(6)\n",
      "memory usage: 31.4+ KB\n"
     ]
    }
   ],
   "source": [
    "users.info()"
   ]
  },
  {
   "cell_type": "code",
   "execution_count": 13,
   "metadata": {},
   "outputs": [
    {
     "data": {
      "text/html": [
       "<div>\n",
       "<style scoped>\n",
       "    .dataframe tbody tr th:only-of-type {\n",
       "        vertical-align: middle;\n",
       "    }\n",
       "\n",
       "    .dataframe tbody tr th {\n",
       "        vertical-align: top;\n",
       "    }\n",
       "\n",
       "    .dataframe thead th {\n",
       "        text-align: right;\n",
       "    }\n",
       "</style>\n",
       "<table border=\"1\" class=\"dataframe\">\n",
       "  <thead>\n",
       "    <tr style=\"text-align: right;\">\n",
       "      <th></th>\n",
       "      <th>user_id</th>\n",
       "      <th>age</th>\n",
       "      <th>churn_date</th>\n",
       "      <th>city</th>\n",
       "      <th>first_name</th>\n",
       "      <th>last_name</th>\n",
       "      <th>reg_date</th>\n",
       "      <th>tariff</th>\n",
       "    </tr>\n",
       "  </thead>\n",
       "  <tbody>\n",
       "    <tr>\n",
       "      <td>0</td>\n",
       "      <td>1000</td>\n",
       "      <td>52</td>\n",
       "      <td>NaN</td>\n",
       "      <td>Краснодар</td>\n",
       "      <td>Рафаил</td>\n",
       "      <td>Верещагин</td>\n",
       "      <td>2018-05-25</td>\n",
       "      <td>ultra</td>\n",
       "    </tr>\n",
       "    <tr>\n",
       "      <td>1</td>\n",
       "      <td>1001</td>\n",
       "      <td>41</td>\n",
       "      <td>NaN</td>\n",
       "      <td>Москва</td>\n",
       "      <td>Иван</td>\n",
       "      <td>Ежов</td>\n",
       "      <td>2018-11-01</td>\n",
       "      <td>smart</td>\n",
       "    </tr>\n",
       "    <tr>\n",
       "      <td>2</td>\n",
       "      <td>1002</td>\n",
       "      <td>59</td>\n",
       "      <td>NaN</td>\n",
       "      <td>Стерлитамак</td>\n",
       "      <td>Евгений</td>\n",
       "      <td>Абрамович</td>\n",
       "      <td>2018-06-17</td>\n",
       "      <td>smart</td>\n",
       "    </tr>\n",
       "    <tr>\n",
       "      <td>3</td>\n",
       "      <td>1003</td>\n",
       "      <td>23</td>\n",
       "      <td>NaN</td>\n",
       "      <td>Москва</td>\n",
       "      <td>Белла</td>\n",
       "      <td>Белякова</td>\n",
       "      <td>2018-08-17</td>\n",
       "      <td>ultra</td>\n",
       "    </tr>\n",
       "    <tr>\n",
       "      <td>4</td>\n",
       "      <td>1004</td>\n",
       "      <td>68</td>\n",
       "      <td>NaN</td>\n",
       "      <td>Новокузнецк</td>\n",
       "      <td>Татьяна</td>\n",
       "      <td>Авдеенко</td>\n",
       "      <td>2018-05-14</td>\n",
       "      <td>ultra</td>\n",
       "    </tr>\n",
       "  </tbody>\n",
       "</table>\n",
       "</div>"
      ],
      "text/plain": [
       "   user_id  age churn_date         city first_name  last_name    reg_date  \\\n",
       "0     1000   52        NaN    Краснодар     Рафаил  Верещагин  2018-05-25   \n",
       "1     1001   41        NaN       Москва       Иван       Ежов  2018-11-01   \n",
       "2     1002   59        NaN  Стерлитамак    Евгений  Абрамович  2018-06-17   \n",
       "3     1003   23        NaN       Москва      Белла   Белякова  2018-08-17   \n",
       "4     1004   68        NaN  Новокузнецк    Татьяна   Авдеенко  2018-05-14   \n",
       "\n",
       "  tariff  \n",
       "0  ultra  \n",
       "1  smart  \n",
       "2  smart  \n",
       "3  ultra  \n",
       "4  ultra  "
      ]
     },
     "metadata": {},
     "output_type": "display_data"
    }
   ],
   "source": [
    "display(users.head())"
   ]
  },
  {
   "cell_type": "code",
   "execution_count": 14,
   "metadata": {},
   "outputs": [
    {
     "data": {
      "text/plain": [
       "0"
      ]
     },
     "execution_count": 14,
     "metadata": {},
     "output_type": "execute_result"
    }
   ],
   "source": [
    "users.duplicated().sum()"
   ]
  },
  {
   "cell_type": "markdown",
   "metadata": {},
   "source": [
    "- Необходимо заполнить пропуски в столбце \"churn_date\" - для этого можно использовать 0, т.к в данном случае, если нет данных, то это означает, что пользователь не отказывался от тарифа.\n",
    "- Дубликатов нет."
   ]
  },
  {
   "cell_type": "markdown",
   "metadata": {},
   "source": [
    "## Предобработка данных"
   ]
  },
  {
   "cell_type": "markdown",
   "metadata": {},
   "source": [
    "1. округлим данные столбца \"duration\" в большую сторону\n",
    "2. проверим"
   ]
  },
  {
   "cell_type": "code",
   "execution_count": 15,
   "metadata": {
    "scrolled": true
   },
   "outputs": [
    {
     "data": {
      "text/html": [
       "<div>\n",
       "<style scoped>\n",
       "    .dataframe tbody tr th:only-of-type {\n",
       "        vertical-align: middle;\n",
       "    }\n",
       "\n",
       "    .dataframe tbody tr th {\n",
       "        vertical-align: top;\n",
       "    }\n",
       "\n",
       "    .dataframe thead th {\n",
       "        text-align: right;\n",
       "    }\n",
       "</style>\n",
       "<table border=\"1\" class=\"dataframe\">\n",
       "  <thead>\n",
       "    <tr style=\"text-align: right;\">\n",
       "      <th></th>\n",
       "      <th>id</th>\n",
       "      <th>call_date</th>\n",
       "      <th>duration</th>\n",
       "      <th>user_id</th>\n",
       "    </tr>\n",
       "  </thead>\n",
       "  <tbody>\n",
       "    <tr>\n",
       "      <td>0</td>\n",
       "      <td>1000_0</td>\n",
       "      <td>2018-07-25</td>\n",
       "      <td>0</td>\n",
       "      <td>1000</td>\n",
       "    </tr>\n",
       "    <tr>\n",
       "      <td>1</td>\n",
       "      <td>1000_1</td>\n",
       "      <td>2018-08-17</td>\n",
       "      <td>0</td>\n",
       "      <td>1000</td>\n",
       "    </tr>\n",
       "    <tr>\n",
       "      <td>2</td>\n",
       "      <td>1000_2</td>\n",
       "      <td>2018-06-11</td>\n",
       "      <td>3</td>\n",
       "      <td>1000</td>\n",
       "    </tr>\n",
       "    <tr>\n",
       "      <td>3</td>\n",
       "      <td>1000_3</td>\n",
       "      <td>2018-09-21</td>\n",
       "      <td>14</td>\n",
       "      <td>1000</td>\n",
       "    </tr>\n",
       "    <tr>\n",
       "      <td>4</td>\n",
       "      <td>1000_4</td>\n",
       "      <td>2018-12-15</td>\n",
       "      <td>6</td>\n",
       "      <td>1000</td>\n",
       "    </tr>\n",
       "  </tbody>\n",
       "</table>\n",
       "</div>"
      ],
      "text/plain": [
       "       id   call_date  duration  user_id\n",
       "0  1000_0  2018-07-25         0     1000\n",
       "1  1000_1  2018-08-17         0     1000\n",
       "2  1000_2  2018-06-11         3     1000\n",
       "3  1000_3  2018-09-21        14     1000\n",
       "4  1000_4  2018-12-15         6     1000"
      ]
     },
     "metadata": {},
     "output_type": "display_data"
    }
   ],
   "source": [
    "calls['duration'] = calls['duration'].apply(mt.ceil)\n",
    "display(calls.head())"
   ]
  },
  {
   "cell_type": "markdown",
   "metadata": {},
   "source": [
    "Удалим столбец \"Unnamed: 0\" из таблицы internet"
   ]
  },
  {
   "cell_type": "code",
   "execution_count": 16,
   "metadata": {
    "scrolled": true
   },
   "outputs": [
    {
     "data": {
      "text/html": [
       "<div>\n",
       "<style scoped>\n",
       "    .dataframe tbody tr th:only-of-type {\n",
       "        vertical-align: middle;\n",
       "    }\n",
       "\n",
       "    .dataframe tbody tr th {\n",
       "        vertical-align: top;\n",
       "    }\n",
       "\n",
       "    .dataframe thead th {\n",
       "        text-align: right;\n",
       "    }\n",
       "</style>\n",
       "<table border=\"1\" class=\"dataframe\">\n",
       "  <thead>\n",
       "    <tr style=\"text-align: right;\">\n",
       "      <th></th>\n",
       "      <th>id</th>\n",
       "      <th>mb_used</th>\n",
       "      <th>session_date</th>\n",
       "      <th>user_id</th>\n",
       "    </tr>\n",
       "  </thead>\n",
       "  <tbody>\n",
       "    <tr>\n",
       "      <td>0</td>\n",
       "      <td>1000_0</td>\n",
       "      <td>112.95</td>\n",
       "      <td>2018-11-25</td>\n",
       "      <td>1000</td>\n",
       "    </tr>\n",
       "    <tr>\n",
       "      <td>1</td>\n",
       "      <td>1000_1</td>\n",
       "      <td>1052.81</td>\n",
       "      <td>2018-09-07</td>\n",
       "      <td>1000</td>\n",
       "    </tr>\n",
       "    <tr>\n",
       "      <td>2</td>\n",
       "      <td>1000_2</td>\n",
       "      <td>1197.26</td>\n",
       "      <td>2018-06-25</td>\n",
       "      <td>1000</td>\n",
       "    </tr>\n",
       "    <tr>\n",
       "      <td>3</td>\n",
       "      <td>1000_3</td>\n",
       "      <td>550.27</td>\n",
       "      <td>2018-08-22</td>\n",
       "      <td>1000</td>\n",
       "    </tr>\n",
       "    <tr>\n",
       "      <td>4</td>\n",
       "      <td>1000_4</td>\n",
       "      <td>302.56</td>\n",
       "      <td>2018-09-24</td>\n",
       "      <td>1000</td>\n",
       "    </tr>\n",
       "  </tbody>\n",
       "</table>\n",
       "</div>"
      ],
      "text/plain": [
       "       id  mb_used session_date  user_id\n",
       "0  1000_0   112.95   2018-11-25     1000\n",
       "1  1000_1  1052.81   2018-09-07     1000\n",
       "2  1000_2  1197.26   2018-06-25     1000\n",
       "3  1000_3   550.27   2018-08-22     1000\n",
       "4  1000_4   302.56   2018-09-24     1000"
      ]
     },
     "metadata": {},
     "output_type": "display_data"
    }
   ],
   "source": [
    "internet = internet.drop(internet.columns[0], axis=1)\n",
    "display(internet.head())"
   ]
  },
  {
   "cell_type": "markdown",
   "metadata": {},
   "source": [
    "```python\n",
    "\n",
    "internet.drop(\"Unnamed: 0\", axis=1)\n",
    "\n",
    "```"
   ]
  },
  {
   "cell_type": "markdown",
   "metadata": {},
   "source": [
    "Добавим столбец с \"1\", чтобы не потерять смс-ки в messages"
   ]
  },
  {
   "cell_type": "code",
   "execution_count": 17,
   "metadata": {
    "scrolled": false
   },
   "outputs": [
    {
     "data": {
      "text/html": [
       "<div>\n",
       "<style scoped>\n",
       "    .dataframe tbody tr th:only-of-type {\n",
       "        vertical-align: middle;\n",
       "    }\n",
       "\n",
       "    .dataframe tbody tr th {\n",
       "        vertical-align: top;\n",
       "    }\n",
       "\n",
       "    .dataframe thead th {\n",
       "        text-align: right;\n",
       "    }\n",
       "</style>\n",
       "<table border=\"1\" class=\"dataframe\">\n",
       "  <thead>\n",
       "    <tr style=\"text-align: right;\">\n",
       "      <th></th>\n",
       "      <th>id</th>\n",
       "      <th>message_date</th>\n",
       "      <th>user_id</th>\n",
       "      <th>message_count</th>\n",
       "    </tr>\n",
       "  </thead>\n",
       "  <tbody>\n",
       "    <tr>\n",
       "      <td>0</td>\n",
       "      <td>1000_0</td>\n",
       "      <td>2018-06-27</td>\n",
       "      <td>1000</td>\n",
       "      <td>1</td>\n",
       "    </tr>\n",
       "    <tr>\n",
       "      <td>1</td>\n",
       "      <td>1000_1</td>\n",
       "      <td>2018-10-08</td>\n",
       "      <td>1000</td>\n",
       "      <td>1</td>\n",
       "    </tr>\n",
       "    <tr>\n",
       "      <td>2</td>\n",
       "      <td>1000_2</td>\n",
       "      <td>2018-08-04</td>\n",
       "      <td>1000</td>\n",
       "      <td>1</td>\n",
       "    </tr>\n",
       "    <tr>\n",
       "      <td>3</td>\n",
       "      <td>1000_3</td>\n",
       "      <td>2018-06-16</td>\n",
       "      <td>1000</td>\n",
       "      <td>1</td>\n",
       "    </tr>\n",
       "    <tr>\n",
       "      <td>4</td>\n",
       "      <td>1000_4</td>\n",
       "      <td>2018-12-05</td>\n",
       "      <td>1000</td>\n",
       "      <td>1</td>\n",
       "    </tr>\n",
       "  </tbody>\n",
       "</table>\n",
       "</div>"
      ],
      "text/plain": [
       "       id message_date  user_id message_count\n",
       "0  1000_0   2018-06-27     1000             1\n",
       "1  1000_1   2018-10-08     1000             1\n",
       "2  1000_2   2018-08-04     1000             1\n",
       "3  1000_3   2018-06-16     1000             1\n",
       "4  1000_4   2018-12-05     1000             1"
      ]
     },
     "metadata": {},
     "output_type": "display_data"
    }
   ],
   "source": [
    "messages['message_count'] = '1'\n",
    "display(messages.head())"
   ]
  },
  {
   "cell_type": "markdown",
   "metadata": {},
   "source": [
    "Изменим название столбца \"tariff_name\" на \"tariff\" в tariffs, чтобы привести его в соответствие с названием в users"
   ]
  },
  {
   "cell_type": "code",
   "execution_count": 18,
   "metadata": {},
   "outputs": [
    {
     "data": {
      "text/plain": [
       "Index(['messages_included', 'mb_per_month_included', 'minutes_included',\n",
       "       'rub_monthly_fee', 'rub_per_gb', 'rub_per_message', 'rub_per_minute',\n",
       "       'tariff'],\n",
       "      dtype='object')"
      ]
     },
     "execution_count": 18,
     "metadata": {},
     "output_type": "execute_result"
    }
   ],
   "source": [
    "tariffs.columns = ['messages_included', 'mb_per_month_included', 'minutes_included',\n",
    "       'rub_monthly_fee', 'rub_per_gb', 'rub_per_message', 'rub_per_minute',\n",
    "       'tariff']\n",
    "tariffs.columns"
   ]
  },
  {
   "cell_type": "markdown",
   "metadata": {},
   "source": [
    "## Расчёты и добавление результатов в таблицу"
   ]
  },
  {
   "cell_type": "markdown",
   "metadata": {},
   "source": [
    "### Расчет количества сделанных звонков и израсходованных минут разговора по месяцам"
   ]
  },
  {
   "cell_type": "markdown",
   "metadata": {},
   "source": [
    "1. Посчитаем и добавим в таблицу новый столбец \"month\" для удобства фильтрации\n",
    "2. Cгруппируем данные по пользователям и месяцам"
   ]
  },
  {
   "cell_type": "code",
   "execution_count": 19,
   "metadata": {
    "scrolled": false
   },
   "outputs": [
    {
     "data": {
      "text/html": [
       "<div>\n",
       "<style scoped>\n",
       "    .dataframe tbody tr th:only-of-type {\n",
       "        vertical-align: middle;\n",
       "    }\n",
       "\n",
       "    .dataframe tbody tr th {\n",
       "        vertical-align: top;\n",
       "    }\n",
       "\n",
       "    .dataframe thead th {\n",
       "        text-align: right;\n",
       "    }\n",
       "</style>\n",
       "<table border=\"1\" class=\"dataframe\">\n",
       "  <thead>\n",
       "    <tr style=\"text-align: right;\">\n",
       "      <th></th>\n",
       "      <th>call_date</th>\n",
       "      <th>month</th>\n",
       "    </tr>\n",
       "  </thead>\n",
       "  <tbody>\n",
       "    <tr>\n",
       "      <td>0</td>\n",
       "      <td>2018-07-25</td>\n",
       "      <td>7</td>\n",
       "    </tr>\n",
       "    <tr>\n",
       "      <td>1</td>\n",
       "      <td>2018-08-17</td>\n",
       "      <td>8</td>\n",
       "    </tr>\n",
       "    <tr>\n",
       "      <td>2</td>\n",
       "      <td>2018-06-11</td>\n",
       "      <td>6</td>\n",
       "    </tr>\n",
       "    <tr>\n",
       "      <td>3</td>\n",
       "      <td>2018-09-21</td>\n",
       "      <td>9</td>\n",
       "    </tr>\n",
       "    <tr>\n",
       "      <td>4</td>\n",
       "      <td>2018-12-15</td>\n",
       "      <td>12</td>\n",
       "    </tr>\n",
       "  </tbody>\n",
       "</table>\n",
       "</div>"
      ],
      "text/plain": [
       "    call_date  month\n",
       "0  2018-07-25      7\n",
       "1  2018-08-17      8\n",
       "2  2018-06-11      6\n",
       "3  2018-09-21      9\n",
       "4  2018-12-15     12"
      ]
     },
     "metadata": {},
     "output_type": "display_data"
    }
   ],
   "source": [
    "calls['month'] = pd.DatetimeIndex(calls['call_date']).month\n",
    "display(calls.loc[:, ['call_date', 'month']].head())"
   ]
  },
  {
   "cell_type": "code",
   "execution_count": 20,
   "metadata": {
    "scrolled": false
   },
   "outputs": [
    {
     "data": {
      "text/html": [
       "<div>\n",
       "<style scoped>\n",
       "    .dataframe tbody tr th:only-of-type {\n",
       "        vertical-align: middle;\n",
       "    }\n",
       "\n",
       "    .dataframe tbody tr th {\n",
       "        vertical-align: top;\n",
       "    }\n",
       "\n",
       "    .dataframe thead th {\n",
       "        text-align: right;\n",
       "    }\n",
       "</style>\n",
       "<table border=\"1\" class=\"dataframe\">\n",
       "  <thead>\n",
       "    <tr style=\"text-align: right;\">\n",
       "      <th></th>\n",
       "      <th>user_id</th>\n",
       "      <th>month</th>\n",
       "      <th>duration</th>\n",
       "    </tr>\n",
       "  </thead>\n",
       "  <tbody>\n",
       "    <tr>\n",
       "      <td>0</td>\n",
       "      <td>1000</td>\n",
       "      <td>5</td>\n",
       "      <td>159</td>\n",
       "    </tr>\n",
       "    <tr>\n",
       "      <td>1</td>\n",
       "      <td>1000</td>\n",
       "      <td>6</td>\n",
       "      <td>172</td>\n",
       "    </tr>\n",
       "    <tr>\n",
       "      <td>2</td>\n",
       "      <td>1000</td>\n",
       "      <td>7</td>\n",
       "      <td>340</td>\n",
       "    </tr>\n",
       "    <tr>\n",
       "      <td>3</td>\n",
       "      <td>1000</td>\n",
       "      <td>8</td>\n",
       "      <td>408</td>\n",
       "    </tr>\n",
       "    <tr>\n",
       "      <td>4</td>\n",
       "      <td>1000</td>\n",
       "      <td>9</td>\n",
       "      <td>466</td>\n",
       "    </tr>\n",
       "  </tbody>\n",
       "</table>\n",
       "</div>"
      ],
      "text/plain": [
       "   user_id  month  duration\n",
       "0     1000      5       159\n",
       "1     1000      6       172\n",
       "2     1000      7       340\n",
       "3     1000      8       408\n",
       "4     1000      9       466"
      ]
     },
     "metadata": {},
     "output_type": "display_data"
    }
   ],
   "source": [
    "calls_group = calls.groupby(\n",
    "    ['user_id', 'month']).agg(\n",
    "    {'duration' : 'sum'}).reset_index()\n",
    "display(calls_group.head())"
   ]
  },
  {
   "cell_type": "markdown",
   "metadata": {},
   "source": [
    "### Расчет количества отправленных сообщений по месяцам\n",
    "\n",
    "1. Посчитаем и добавим в таблицу новый столбец \"month\" для удобства фильтрации, т.к в базе данных только 2018г., то просто будем выделять месяц через pd.DatetimeIndex()\n",
    "2. Cгруппируем данные по пользователям и месяцам"
   ]
  },
  {
   "cell_type": "code",
   "execution_count": 21,
   "metadata": {
    "scrolled": true
   },
   "outputs": [
    {
     "data": {
      "text/html": [
       "<div>\n",
       "<style scoped>\n",
       "    .dataframe tbody tr th:only-of-type {\n",
       "        vertical-align: middle;\n",
       "    }\n",
       "\n",
       "    .dataframe tbody tr th {\n",
       "        vertical-align: top;\n",
       "    }\n",
       "\n",
       "    .dataframe thead th {\n",
       "        text-align: right;\n",
       "    }\n",
       "</style>\n",
       "<table border=\"1\" class=\"dataframe\">\n",
       "  <thead>\n",
       "    <tr style=\"text-align: right;\">\n",
       "      <th></th>\n",
       "      <th>id</th>\n",
       "      <th>message_date</th>\n",
       "      <th>user_id</th>\n",
       "      <th>message_count</th>\n",
       "      <th>month</th>\n",
       "    </tr>\n",
       "  </thead>\n",
       "  <tbody>\n",
       "    <tr>\n",
       "      <td>0</td>\n",
       "      <td>1000_0</td>\n",
       "      <td>2018-06-27</td>\n",
       "      <td>1000</td>\n",
       "      <td>1</td>\n",
       "      <td>6</td>\n",
       "    </tr>\n",
       "    <tr>\n",
       "      <td>1</td>\n",
       "      <td>1000_1</td>\n",
       "      <td>2018-10-08</td>\n",
       "      <td>1000</td>\n",
       "      <td>1</td>\n",
       "      <td>10</td>\n",
       "    </tr>\n",
       "    <tr>\n",
       "      <td>2</td>\n",
       "      <td>1000_2</td>\n",
       "      <td>2018-08-04</td>\n",
       "      <td>1000</td>\n",
       "      <td>1</td>\n",
       "      <td>8</td>\n",
       "    </tr>\n",
       "    <tr>\n",
       "      <td>3</td>\n",
       "      <td>1000_3</td>\n",
       "      <td>2018-06-16</td>\n",
       "      <td>1000</td>\n",
       "      <td>1</td>\n",
       "      <td>6</td>\n",
       "    </tr>\n",
       "    <tr>\n",
       "      <td>4</td>\n",
       "      <td>1000_4</td>\n",
       "      <td>2018-12-05</td>\n",
       "      <td>1000</td>\n",
       "      <td>1</td>\n",
       "      <td>12</td>\n",
       "    </tr>\n",
       "  </tbody>\n",
       "</table>\n",
       "</div>"
      ],
      "text/plain": [
       "       id message_date  user_id message_count  month\n",
       "0  1000_0   2018-06-27     1000             1      6\n",
       "1  1000_1   2018-10-08     1000             1     10\n",
       "2  1000_2   2018-08-04     1000             1      8\n",
       "3  1000_3   2018-06-16     1000             1      6\n",
       "4  1000_4   2018-12-05     1000             1     12"
      ]
     },
     "metadata": {},
     "output_type": "display_data"
    }
   ],
   "source": [
    "messages['month'] = pd.DatetimeIndex(messages['message_date']).month\n",
    "\n",
    "display(messages.head())"
   ]
  },
  {
   "cell_type": "code",
   "execution_count": 22,
   "metadata": {},
   "outputs": [
    {
     "data": {
      "text/html": [
       "<div>\n",
       "<style scoped>\n",
       "    .dataframe tbody tr th:only-of-type {\n",
       "        vertical-align: middle;\n",
       "    }\n",
       "\n",
       "    .dataframe tbody tr th {\n",
       "        vertical-align: top;\n",
       "    }\n",
       "\n",
       "    .dataframe thead th {\n",
       "        text-align: right;\n",
       "    }\n",
       "</style>\n",
       "<table border=\"1\" class=\"dataframe\">\n",
       "  <thead>\n",
       "    <tr style=\"text-align: right;\">\n",
       "      <th></th>\n",
       "      <th>user_id</th>\n",
       "      <th>month</th>\n",
       "      <th>message_count</th>\n",
       "    </tr>\n",
       "  </thead>\n",
       "  <tbody>\n",
       "    <tr>\n",
       "      <td>0</td>\n",
       "      <td>1000</td>\n",
       "      <td>5</td>\n",
       "      <td>22</td>\n",
       "    </tr>\n",
       "    <tr>\n",
       "      <td>1</td>\n",
       "      <td>1000</td>\n",
       "      <td>6</td>\n",
       "      <td>60</td>\n",
       "    </tr>\n",
       "    <tr>\n",
       "      <td>2</td>\n",
       "      <td>1000</td>\n",
       "      <td>7</td>\n",
       "      <td>75</td>\n",
       "    </tr>\n",
       "    <tr>\n",
       "      <td>3</td>\n",
       "      <td>1000</td>\n",
       "      <td>8</td>\n",
       "      <td>81</td>\n",
       "    </tr>\n",
       "    <tr>\n",
       "      <td>4</td>\n",
       "      <td>1000</td>\n",
       "      <td>9</td>\n",
       "      <td>57</td>\n",
       "    </tr>\n",
       "  </tbody>\n",
       "</table>\n",
       "</div>"
      ],
      "text/plain": [
       "   user_id  month  message_count\n",
       "0     1000      5             22\n",
       "1     1000      6             60\n",
       "2     1000      7             75\n",
       "3     1000      8             81\n",
       "4     1000      9             57"
      ]
     },
     "metadata": {},
     "output_type": "display_data"
    }
   ],
   "source": [
    "messages_group = messages.groupby(\n",
    "    ['user_id', 'month']).agg(\n",
    "    {'message_count' : 'count'}).reset_index()\n",
    "display(messages_group.head())"
   ]
  },
  {
   "cell_type": "markdown",
   "metadata": {},
   "source": [
    "### Расчет объемa израсходованного интернет-трафика по месяцам\n",
    "\n",
    "1. Посчитаем и добавим в таблицу новый столбец \"month\" для удобства фильтрации\n",
    "2. Cгруппируем данные по пользователям и месяцам"
   ]
  },
  {
   "cell_type": "code",
   "execution_count": 23,
   "metadata": {
    "scrolled": true
   },
   "outputs": [
    {
     "data": {
      "text/html": [
       "<div>\n",
       "<style scoped>\n",
       "    .dataframe tbody tr th:only-of-type {\n",
       "        vertical-align: middle;\n",
       "    }\n",
       "\n",
       "    .dataframe tbody tr th {\n",
       "        vertical-align: top;\n",
       "    }\n",
       "\n",
       "    .dataframe thead th {\n",
       "        text-align: right;\n",
       "    }\n",
       "</style>\n",
       "<table border=\"1\" class=\"dataframe\">\n",
       "  <thead>\n",
       "    <tr style=\"text-align: right;\">\n",
       "      <th></th>\n",
       "      <th>session_date</th>\n",
       "      <th>month</th>\n",
       "    </tr>\n",
       "  </thead>\n",
       "  <tbody>\n",
       "    <tr>\n",
       "      <td>0</td>\n",
       "      <td>2018-11-25</td>\n",
       "      <td>11</td>\n",
       "    </tr>\n",
       "    <tr>\n",
       "      <td>1</td>\n",
       "      <td>2018-09-07</td>\n",
       "      <td>9</td>\n",
       "    </tr>\n",
       "    <tr>\n",
       "      <td>2</td>\n",
       "      <td>2018-06-25</td>\n",
       "      <td>6</td>\n",
       "    </tr>\n",
       "    <tr>\n",
       "      <td>3</td>\n",
       "      <td>2018-08-22</td>\n",
       "      <td>8</td>\n",
       "    </tr>\n",
       "    <tr>\n",
       "      <td>4</td>\n",
       "      <td>2018-09-24</td>\n",
       "      <td>9</td>\n",
       "    </tr>\n",
       "  </tbody>\n",
       "</table>\n",
       "</div>"
      ],
      "text/plain": [
       "  session_date  month\n",
       "0   2018-11-25     11\n",
       "1   2018-09-07      9\n",
       "2   2018-06-25      6\n",
       "3   2018-08-22      8\n",
       "4   2018-09-24      9"
      ]
     },
     "metadata": {},
     "output_type": "display_data"
    }
   ],
   "source": [
    "internet['month'] = pd.DatetimeIndex(internet['session_date']).month\n",
    "display(internet.loc[:, ['session_date', 'month']].head())"
   ]
  },
  {
   "cell_type": "code",
   "execution_count": 24,
   "metadata": {},
   "outputs": [
    {
     "data": {
      "text/html": [
       "<div>\n",
       "<style scoped>\n",
       "    .dataframe tbody tr th:only-of-type {\n",
       "        vertical-align: middle;\n",
       "    }\n",
       "\n",
       "    .dataframe tbody tr th {\n",
       "        vertical-align: top;\n",
       "    }\n",
       "\n",
       "    .dataframe thead th {\n",
       "        text-align: right;\n",
       "    }\n",
       "</style>\n",
       "<table border=\"1\" class=\"dataframe\">\n",
       "  <thead>\n",
       "    <tr style=\"text-align: right;\">\n",
       "      <th></th>\n",
       "      <th>user_id</th>\n",
       "      <th>month</th>\n",
       "      <th>mb_used</th>\n",
       "    </tr>\n",
       "  </thead>\n",
       "  <tbody>\n",
       "    <tr>\n",
       "      <td>0</td>\n",
       "      <td>1000</td>\n",
       "      <td>5</td>\n",
       "      <td>2253.49</td>\n",
       "    </tr>\n",
       "    <tr>\n",
       "      <td>1</td>\n",
       "      <td>1000</td>\n",
       "      <td>6</td>\n",
       "      <td>23233.77</td>\n",
       "    </tr>\n",
       "    <tr>\n",
       "      <td>2</td>\n",
       "      <td>1000</td>\n",
       "      <td>7</td>\n",
       "      <td>14003.64</td>\n",
       "    </tr>\n",
       "    <tr>\n",
       "      <td>3</td>\n",
       "      <td>1000</td>\n",
       "      <td>8</td>\n",
       "      <td>14055.93</td>\n",
       "    </tr>\n",
       "    <tr>\n",
       "      <td>4</td>\n",
       "      <td>1000</td>\n",
       "      <td>9</td>\n",
       "      <td>14568.91</td>\n",
       "    </tr>\n",
       "  </tbody>\n",
       "</table>\n",
       "</div>"
      ],
      "text/plain": [
       "   user_id  month   mb_used\n",
       "0     1000      5   2253.49\n",
       "1     1000      6  23233.77\n",
       "2     1000      7  14003.64\n",
       "3     1000      8  14055.93\n",
       "4     1000      9  14568.91"
      ]
     },
     "metadata": {},
     "output_type": "display_data"
    }
   ],
   "source": [
    "internet_group = internet.groupby(\n",
    "    ['user_id', 'month']).agg(\n",
    "    {'mb_used' : 'sum'}).reset_index()\n",
    "display(internet_group.head())"
   ]
  },
  {
   "cell_type": "markdown",
   "metadata": {},
   "source": [
    "Округлим данные столбца \"mb_used\" в большую сторону по условиям задания."
   ]
  },
  {
   "cell_type": "code",
   "execution_count": 25,
   "metadata": {
    "scrolled": false
   },
   "outputs": [
    {
     "data": {
      "text/html": [
       "<div>\n",
       "<style scoped>\n",
       "    .dataframe tbody tr th:only-of-type {\n",
       "        vertical-align: middle;\n",
       "    }\n",
       "\n",
       "    .dataframe tbody tr th {\n",
       "        vertical-align: top;\n",
       "    }\n",
       "\n",
       "    .dataframe thead th {\n",
       "        text-align: right;\n",
       "    }\n",
       "</style>\n",
       "<table border=\"1\" class=\"dataframe\">\n",
       "  <thead>\n",
       "    <tr style=\"text-align: right;\">\n",
       "      <th></th>\n",
       "      <th>user_id</th>\n",
       "      <th>month</th>\n",
       "      <th>mb_used</th>\n",
       "    </tr>\n",
       "  </thead>\n",
       "  <tbody>\n",
       "    <tr>\n",
       "      <td>0</td>\n",
       "      <td>1000</td>\n",
       "      <td>5</td>\n",
       "      <td>2254.0</td>\n",
       "    </tr>\n",
       "    <tr>\n",
       "      <td>1</td>\n",
       "      <td>1000</td>\n",
       "      <td>6</td>\n",
       "      <td>23234.0</td>\n",
       "    </tr>\n",
       "    <tr>\n",
       "      <td>2</td>\n",
       "      <td>1000</td>\n",
       "      <td>7</td>\n",
       "      <td>14004.0</td>\n",
       "    </tr>\n",
       "    <tr>\n",
       "      <td>3</td>\n",
       "      <td>1000</td>\n",
       "      <td>8</td>\n",
       "      <td>14056.0</td>\n",
       "    </tr>\n",
       "    <tr>\n",
       "      <td>4</td>\n",
       "      <td>1000</td>\n",
       "      <td>9</td>\n",
       "      <td>14569.0</td>\n",
       "    </tr>\n",
       "  </tbody>\n",
       "</table>\n",
       "</div>"
      ],
      "text/plain": [
       "   user_id  month  mb_used\n",
       "0     1000      5   2254.0\n",
       "1     1000      6  23234.0\n",
       "2     1000      7  14004.0\n",
       "3     1000      8  14056.0\n",
       "4     1000      9  14569.0"
      ]
     },
     "metadata": {},
     "output_type": "display_data"
    }
   ],
   "source": [
    "internet_group['mb_used'] = np.ceil(internet_group['mb_used'])\n",
    "display(internet_group.head())"
   ]
  },
  {
   "cell_type": "markdown",
   "metadata": {},
   "source": [
    "Создадим новую таблицу из users, т.к нам для решения задачи необходимы только 3 столбца."
   ]
  },
  {
   "cell_type": "code",
   "execution_count": 26,
   "metadata": {},
   "outputs": [
    {
     "data": {
      "text/html": [
       "<div>\n",
       "<style scoped>\n",
       "    .dataframe tbody tr th:only-of-type {\n",
       "        vertical-align: middle;\n",
       "    }\n",
       "\n",
       "    .dataframe tbody tr th {\n",
       "        vertical-align: top;\n",
       "    }\n",
       "\n",
       "    .dataframe thead th {\n",
       "        text-align: right;\n",
       "    }\n",
       "</style>\n",
       "<table border=\"1\" class=\"dataframe\">\n",
       "  <thead>\n",
       "    <tr style=\"text-align: right;\">\n",
       "      <th></th>\n",
       "      <th>user_id</th>\n",
       "      <th>tariff</th>\n",
       "      <th>city</th>\n",
       "    </tr>\n",
       "  </thead>\n",
       "  <tbody>\n",
       "    <tr>\n",
       "      <td>0</td>\n",
       "      <td>1000</td>\n",
       "      <td>ultra</td>\n",
       "      <td>Краснодар</td>\n",
       "    </tr>\n",
       "    <tr>\n",
       "      <td>1</td>\n",
       "      <td>1001</td>\n",
       "      <td>smart</td>\n",
       "      <td>Москва</td>\n",
       "    </tr>\n",
       "    <tr>\n",
       "      <td>2</td>\n",
       "      <td>1002</td>\n",
       "      <td>smart</td>\n",
       "      <td>Стерлитамак</td>\n",
       "    </tr>\n",
       "    <tr>\n",
       "      <td>3</td>\n",
       "      <td>1003</td>\n",
       "      <td>ultra</td>\n",
       "      <td>Москва</td>\n",
       "    </tr>\n",
       "    <tr>\n",
       "      <td>4</td>\n",
       "      <td>1004</td>\n",
       "      <td>ultra</td>\n",
       "      <td>Новокузнецк</td>\n",
       "    </tr>\n",
       "  </tbody>\n",
       "</table>\n",
       "</div>"
      ],
      "text/plain": [
       "   user_id tariff         city\n",
       "0     1000  ultra    Краснодар\n",
       "1     1001  smart       Москва\n",
       "2     1002  smart  Стерлитамак\n",
       "3     1003  ultra       Москва\n",
       "4     1004  ultra  Новокузнецк"
      ]
     },
     "metadata": {},
     "output_type": "display_data"
    }
   ],
   "source": [
    "users_group = users[['user_id', 'tariff', 'city']]\n",
    "display(users_group.head())"
   ]
  },
  {
   "cell_type": "markdown",
   "metadata": {},
   "source": [
    "### Объединение таблиц\n",
    "\n",
    "Создадим новую таблицу из посчитанных, за основу будем выбирать самые длинные таблички"
   ]
  },
  {
   "cell_type": "code",
   "execution_count": 27,
   "metadata": {
    "scrolled": true
   },
   "outputs": [
    {
     "data": {
      "text/html": [
       "<div>\n",
       "<style scoped>\n",
       "    .dataframe tbody tr th:only-of-type {\n",
       "        vertical-align: middle;\n",
       "    }\n",
       "\n",
       "    .dataframe tbody tr th {\n",
       "        vertical-align: top;\n",
       "    }\n",
       "\n",
       "    .dataframe thead th {\n",
       "        text-align: right;\n",
       "    }\n",
       "</style>\n",
       "<table border=\"1\" class=\"dataframe\">\n",
       "  <thead>\n",
       "    <tr style=\"text-align: right;\">\n",
       "      <th></th>\n",
       "      <th>user_id</th>\n",
       "      <th>month</th>\n",
       "      <th>duration</th>\n",
       "      <th>message_count</th>\n",
       "      <th>mb_used</th>\n",
       "    </tr>\n",
       "  </thead>\n",
       "  <tbody>\n",
       "    <tr>\n",
       "      <td>0</td>\n",
       "      <td>1000</td>\n",
       "      <td>5</td>\n",
       "      <td>159</td>\n",
       "      <td>22.0</td>\n",
       "      <td>2254.0</td>\n",
       "    </tr>\n",
       "    <tr>\n",
       "      <td>1</td>\n",
       "      <td>1000</td>\n",
       "      <td>6</td>\n",
       "      <td>172</td>\n",
       "      <td>60.0</td>\n",
       "      <td>23234.0</td>\n",
       "    </tr>\n",
       "    <tr>\n",
       "      <td>2</td>\n",
       "      <td>1000</td>\n",
       "      <td>7</td>\n",
       "      <td>340</td>\n",
       "      <td>75.0</td>\n",
       "      <td>14004.0</td>\n",
       "    </tr>\n",
       "    <tr>\n",
       "      <td>3</td>\n",
       "      <td>1000</td>\n",
       "      <td>8</td>\n",
       "      <td>408</td>\n",
       "      <td>81.0</td>\n",
       "      <td>14056.0</td>\n",
       "    </tr>\n",
       "    <tr>\n",
       "      <td>4</td>\n",
       "      <td>1000</td>\n",
       "      <td>9</td>\n",
       "      <td>466</td>\n",
       "      <td>57.0</td>\n",
       "      <td>14569.0</td>\n",
       "    </tr>\n",
       "  </tbody>\n",
       "</table>\n",
       "</div>"
      ],
      "text/plain": [
       "   user_id  month  duration  message_count  mb_used\n",
       "0     1000      5       159           22.0   2254.0\n",
       "1     1000      6       172           60.0  23234.0\n",
       "2     1000      7       340           75.0  14004.0\n",
       "3     1000      8       408           81.0  14056.0\n",
       "4     1000      9       466           57.0  14569.0"
      ]
     },
     "metadata": {},
     "output_type": "display_data"
    }
   ],
   "source": [
    "group = calls_group.merge(\n",
    "    messages_group,\n",
    "    on=['user_id', 'month'],\n",
    "    how ='left')\n",
    "\n",
    "group = group.merge(internet_group,\n",
    "                    on=['user_id', 'month'],\n",
    "                    how ='left')\n",
    "display(group.head())"
   ]
  },
  {
   "cell_type": "markdown",
   "metadata": {},
   "source": [
    "Дополним group данными из users_group"
   ]
  },
  {
   "cell_type": "code",
   "execution_count": 28,
   "metadata": {
    "scrolled": true
   },
   "outputs": [
    {
     "data": {
      "text/html": [
       "<div>\n",
       "<style scoped>\n",
       "    .dataframe tbody tr th:only-of-type {\n",
       "        vertical-align: middle;\n",
       "    }\n",
       "\n",
       "    .dataframe tbody tr th {\n",
       "        vertical-align: top;\n",
       "    }\n",
       "\n",
       "    .dataframe thead th {\n",
       "        text-align: right;\n",
       "    }\n",
       "</style>\n",
       "<table border=\"1\" class=\"dataframe\">\n",
       "  <thead>\n",
       "    <tr style=\"text-align: right;\">\n",
       "      <th></th>\n",
       "      <th>user_id</th>\n",
       "      <th>month</th>\n",
       "      <th>duration</th>\n",
       "      <th>message_count</th>\n",
       "      <th>mb_used</th>\n",
       "      <th>tariff</th>\n",
       "      <th>city</th>\n",
       "    </tr>\n",
       "  </thead>\n",
       "  <tbody>\n",
       "    <tr>\n",
       "      <td>0</td>\n",
       "      <td>1000</td>\n",
       "      <td>5</td>\n",
       "      <td>159</td>\n",
       "      <td>22.0</td>\n",
       "      <td>2254.0</td>\n",
       "      <td>ultra</td>\n",
       "      <td>Краснодар</td>\n",
       "    </tr>\n",
       "    <tr>\n",
       "      <td>1</td>\n",
       "      <td>1000</td>\n",
       "      <td>6</td>\n",
       "      <td>172</td>\n",
       "      <td>60.0</td>\n",
       "      <td>23234.0</td>\n",
       "      <td>ultra</td>\n",
       "      <td>Краснодар</td>\n",
       "    </tr>\n",
       "    <tr>\n",
       "      <td>2</td>\n",
       "      <td>1000</td>\n",
       "      <td>7</td>\n",
       "      <td>340</td>\n",
       "      <td>75.0</td>\n",
       "      <td>14004.0</td>\n",
       "      <td>ultra</td>\n",
       "      <td>Краснодар</td>\n",
       "    </tr>\n",
       "    <tr>\n",
       "      <td>3</td>\n",
       "      <td>1000</td>\n",
       "      <td>8</td>\n",
       "      <td>408</td>\n",
       "      <td>81.0</td>\n",
       "      <td>14056.0</td>\n",
       "      <td>ultra</td>\n",
       "      <td>Краснодар</td>\n",
       "    </tr>\n",
       "    <tr>\n",
       "      <td>4</td>\n",
       "      <td>1000</td>\n",
       "      <td>9</td>\n",
       "      <td>466</td>\n",
       "      <td>57.0</td>\n",
       "      <td>14569.0</td>\n",
       "      <td>ultra</td>\n",
       "      <td>Краснодар</td>\n",
       "    </tr>\n",
       "  </tbody>\n",
       "</table>\n",
       "</div>"
      ],
      "text/plain": [
       "   user_id  month  duration  message_count  mb_used tariff       city\n",
       "0     1000      5       159           22.0   2254.0  ultra  Краснодар\n",
       "1     1000      6       172           60.0  23234.0  ultra  Краснодар\n",
       "2     1000      7       340           75.0  14004.0  ultra  Краснодар\n",
       "3     1000      8       408           81.0  14056.0  ultra  Краснодар\n",
       "4     1000      9       466           57.0  14569.0  ultra  Краснодар"
      ]
     },
     "metadata": {},
     "output_type": "display_data"
    }
   ],
   "source": [
    "group = group.merge(users_group,\n",
    "                    on='user_id',\n",
    "                    how ='left')\n",
    "display(group.head())"
   ]
  },
  {
   "cell_type": "markdown",
   "metadata": {},
   "source": [
    "Соединим таблицу tariffs с group"
   ]
  },
  {
   "cell_type": "code",
   "execution_count": 29,
   "metadata": {
    "scrolled": true
   },
   "outputs": [
    {
     "data": {
      "text/html": [
       "<div>\n",
       "<style scoped>\n",
       "    .dataframe tbody tr th:only-of-type {\n",
       "        vertical-align: middle;\n",
       "    }\n",
       "\n",
       "    .dataframe tbody tr th {\n",
       "        vertical-align: top;\n",
       "    }\n",
       "\n",
       "    .dataframe thead th {\n",
       "        text-align: right;\n",
       "    }\n",
       "</style>\n",
       "<table border=\"1\" class=\"dataframe\">\n",
       "  <thead>\n",
       "    <tr style=\"text-align: right;\">\n",
       "      <th></th>\n",
       "      <th>user_id</th>\n",
       "      <th>month</th>\n",
       "      <th>duration</th>\n",
       "      <th>message_count</th>\n",
       "      <th>mb_used</th>\n",
       "      <th>tariff</th>\n",
       "      <th>city</th>\n",
       "      <th>messages_included</th>\n",
       "      <th>mb_per_month_included</th>\n",
       "      <th>minutes_included</th>\n",
       "      <th>rub_monthly_fee</th>\n",
       "      <th>rub_per_gb</th>\n",
       "      <th>rub_per_message</th>\n",
       "      <th>rub_per_minute</th>\n",
       "    </tr>\n",
       "  </thead>\n",
       "  <tbody>\n",
       "    <tr>\n",
       "      <td>0</td>\n",
       "      <td>1000</td>\n",
       "      <td>5</td>\n",
       "      <td>159</td>\n",
       "      <td>22.0</td>\n",
       "      <td>2254.0</td>\n",
       "      <td>ultra</td>\n",
       "      <td>Краснодар</td>\n",
       "      <td>1000</td>\n",
       "      <td>30720</td>\n",
       "      <td>3000</td>\n",
       "      <td>1950</td>\n",
       "      <td>150</td>\n",
       "      <td>1</td>\n",
       "      <td>1</td>\n",
       "    </tr>\n",
       "    <tr>\n",
       "      <td>1</td>\n",
       "      <td>1000</td>\n",
       "      <td>6</td>\n",
       "      <td>172</td>\n",
       "      <td>60.0</td>\n",
       "      <td>23234.0</td>\n",
       "      <td>ultra</td>\n",
       "      <td>Краснодар</td>\n",
       "      <td>1000</td>\n",
       "      <td>30720</td>\n",
       "      <td>3000</td>\n",
       "      <td>1950</td>\n",
       "      <td>150</td>\n",
       "      <td>1</td>\n",
       "      <td>1</td>\n",
       "    </tr>\n",
       "    <tr>\n",
       "      <td>2</td>\n",
       "      <td>1000</td>\n",
       "      <td>7</td>\n",
       "      <td>340</td>\n",
       "      <td>75.0</td>\n",
       "      <td>14004.0</td>\n",
       "      <td>ultra</td>\n",
       "      <td>Краснодар</td>\n",
       "      <td>1000</td>\n",
       "      <td>30720</td>\n",
       "      <td>3000</td>\n",
       "      <td>1950</td>\n",
       "      <td>150</td>\n",
       "      <td>1</td>\n",
       "      <td>1</td>\n",
       "    </tr>\n",
       "    <tr>\n",
       "      <td>3</td>\n",
       "      <td>1000</td>\n",
       "      <td>8</td>\n",
       "      <td>408</td>\n",
       "      <td>81.0</td>\n",
       "      <td>14056.0</td>\n",
       "      <td>ultra</td>\n",
       "      <td>Краснодар</td>\n",
       "      <td>1000</td>\n",
       "      <td>30720</td>\n",
       "      <td>3000</td>\n",
       "      <td>1950</td>\n",
       "      <td>150</td>\n",
       "      <td>1</td>\n",
       "      <td>1</td>\n",
       "    </tr>\n",
       "    <tr>\n",
       "      <td>4</td>\n",
       "      <td>1000</td>\n",
       "      <td>9</td>\n",
       "      <td>466</td>\n",
       "      <td>57.0</td>\n",
       "      <td>14569.0</td>\n",
       "      <td>ultra</td>\n",
       "      <td>Краснодар</td>\n",
       "      <td>1000</td>\n",
       "      <td>30720</td>\n",
       "      <td>3000</td>\n",
       "      <td>1950</td>\n",
       "      <td>150</td>\n",
       "      <td>1</td>\n",
       "      <td>1</td>\n",
       "    </tr>\n",
       "  </tbody>\n",
       "</table>\n",
       "</div>"
      ],
      "text/plain": [
       "   user_id  month  duration  message_count  mb_used tariff       city  \\\n",
       "0     1000      5       159           22.0   2254.0  ultra  Краснодар   \n",
       "1     1000      6       172           60.0  23234.0  ultra  Краснодар   \n",
       "2     1000      7       340           75.0  14004.0  ultra  Краснодар   \n",
       "3     1000      8       408           81.0  14056.0  ultra  Краснодар   \n",
       "4     1000      9       466           57.0  14569.0  ultra  Краснодар   \n",
       "\n",
       "   messages_included  mb_per_month_included  minutes_included  \\\n",
       "0               1000                  30720              3000   \n",
       "1               1000                  30720              3000   \n",
       "2               1000                  30720              3000   \n",
       "3               1000                  30720              3000   \n",
       "4               1000                  30720              3000   \n",
       "\n",
       "   rub_monthly_fee  rub_per_gb  rub_per_message  rub_per_minute  \n",
       "0             1950         150                1               1  \n",
       "1             1950         150                1               1  \n",
       "2             1950         150                1               1  \n",
       "3             1950         150                1               1  \n",
       "4             1950         150                1               1  "
      ]
     },
     "metadata": {},
     "output_type": "display_data"
    }
   ],
   "source": [
    "group = group.merge(tariffs,\n",
    "                    on='tariff',\n",
    "                    how ='left')\n",
    "display(group.head())"
   ]
  },
  {
   "cell_type": "code",
   "execution_count": 30,
   "metadata": {},
   "outputs": [
    {
     "data": {
      "text/plain": [
       "492"
      ]
     },
     "execution_count": 30,
     "metadata": {},
     "output_type": "execute_result"
    }
   ],
   "source": [
    "group.user_id.nunique()"
   ]
  },
  {
   "cell_type": "markdown",
   "metadata": {},
   "source": [
    "### Расчет количества израсходованных минут по месяцам\n",
    "\n",
    "- напишем функцию для расчета\n",
    "- создадим новый столбец"
   ]
  },
  {
   "cell_type": "code",
   "execution_count": 31,
   "metadata": {},
   "outputs": [],
   "source": [
    "def minuts_count(row_values):\n",
    "    result_min = row_values['duration'] - row_values['minutes_included']\n",
    "    result_min = result_min * row_values['rub_per_minute']\n",
    "    if result_min > 0: return result_min\n",
    "    return 0   "
   ]
  },
  {
   "cell_type": "code",
   "execution_count": 32,
   "metadata": {
    "scrolled": true
   },
   "outputs": [
    {
     "data": {
      "text/html": [
       "<div>\n",
       "<style scoped>\n",
       "    .dataframe tbody tr th:only-of-type {\n",
       "        vertical-align: middle;\n",
       "    }\n",
       "\n",
       "    .dataframe tbody tr th {\n",
       "        vertical-align: top;\n",
       "    }\n",
       "\n",
       "    .dataframe thead th {\n",
       "        text-align: right;\n",
       "    }\n",
       "</style>\n",
       "<table border=\"1\" class=\"dataframe\">\n",
       "  <thead>\n",
       "    <tr style=\"text-align: right;\">\n",
       "      <th></th>\n",
       "      <th>user_id</th>\n",
       "      <th>month</th>\n",
       "      <th>duration</th>\n",
       "      <th>message_count</th>\n",
       "      <th>mb_used</th>\n",
       "      <th>tariff</th>\n",
       "      <th>city</th>\n",
       "      <th>messages_included</th>\n",
       "      <th>mb_per_month_included</th>\n",
       "      <th>minutes_included</th>\n",
       "      <th>rub_monthly_fee</th>\n",
       "      <th>rub_per_gb</th>\n",
       "      <th>rub_per_message</th>\n",
       "      <th>rub_per_minute</th>\n",
       "      <th>minuts_count</th>\n",
       "    </tr>\n",
       "  </thead>\n",
       "  <tbody>\n",
       "    <tr>\n",
       "      <td>32</td>\n",
       "      <td>1005</td>\n",
       "      <td>3</td>\n",
       "      <td>606</td>\n",
       "      <td>56.0</td>\n",
       "      <td>11105.0</td>\n",
       "      <td>smart</td>\n",
       "      <td>Набережные Челны</td>\n",
       "      <td>50</td>\n",
       "      <td>15360</td>\n",
       "      <td>500</td>\n",
       "      <td>550</td>\n",
       "      <td>200</td>\n",
       "      <td>3</td>\n",
       "      <td>3</td>\n",
       "      <td>318</td>\n",
       "    </tr>\n",
       "    <tr>\n",
       "      <td>33</td>\n",
       "      <td>1005</td>\n",
       "      <td>4</td>\n",
       "      <td>712</td>\n",
       "      <td>41.0</td>\n",
       "      <td>9352.0</td>\n",
       "      <td>smart</td>\n",
       "      <td>Набережные Челны</td>\n",
       "      <td>50</td>\n",
       "      <td>15360</td>\n",
       "      <td>500</td>\n",
       "      <td>550</td>\n",
       "      <td>200</td>\n",
       "      <td>3</td>\n",
       "      <td>3</td>\n",
       "      <td>636</td>\n",
       "    </tr>\n",
       "    <tr>\n",
       "      <td>34</td>\n",
       "      <td>1005</td>\n",
       "      <td>5</td>\n",
       "      <td>595</td>\n",
       "      <td>42.0</td>\n",
       "      <td>7866.0</td>\n",
       "      <td>smart</td>\n",
       "      <td>Набережные Челны</td>\n",
       "      <td>50</td>\n",
       "      <td>15360</td>\n",
       "      <td>500</td>\n",
       "      <td>550</td>\n",
       "      <td>200</td>\n",
       "      <td>3</td>\n",
       "      <td>3</td>\n",
       "      <td>285</td>\n",
       "    </tr>\n",
       "    <tr>\n",
       "      <td>35</td>\n",
       "      <td>1005</td>\n",
       "      <td>6</td>\n",
       "      <td>612</td>\n",
       "      <td>47.0</td>\n",
       "      <td>9864.0</td>\n",
       "      <td>smart</td>\n",
       "      <td>Набережные Челны</td>\n",
       "      <td>50</td>\n",
       "      <td>15360</td>\n",
       "      <td>500</td>\n",
       "      <td>550</td>\n",
       "      <td>200</td>\n",
       "      <td>3</td>\n",
       "      <td>3</td>\n",
       "      <td>336</td>\n",
       "    </tr>\n",
       "    <tr>\n",
       "      <td>36</td>\n",
       "      <td>1005</td>\n",
       "      <td>7</td>\n",
       "      <td>569</td>\n",
       "      <td>56.0</td>\n",
       "      <td>7695.0</td>\n",
       "      <td>smart</td>\n",
       "      <td>Набережные Челны</td>\n",
       "      <td>50</td>\n",
       "      <td>15360</td>\n",
       "      <td>500</td>\n",
       "      <td>550</td>\n",
       "      <td>200</td>\n",
       "      <td>3</td>\n",
       "      <td>3</td>\n",
       "      <td>207</td>\n",
       "    </tr>\n",
       "  </tbody>\n",
       "</table>\n",
       "</div>"
      ],
      "text/plain": [
       "    user_id  month  duration  message_count  mb_used tariff              city  \\\n",
       "32     1005      3       606           56.0  11105.0  smart  Набережные Челны   \n",
       "33     1005      4       712           41.0   9352.0  smart  Набережные Челны   \n",
       "34     1005      5       595           42.0   7866.0  smart  Набережные Челны   \n",
       "35     1005      6       612           47.0   9864.0  smart  Набережные Челны   \n",
       "36     1005      7       569           56.0   7695.0  smart  Набережные Челны   \n",
       "\n",
       "    messages_included  mb_per_month_included  minutes_included  \\\n",
       "32                 50                  15360               500   \n",
       "33                 50                  15360               500   \n",
       "34                 50                  15360               500   \n",
       "35                 50                  15360               500   \n",
       "36                 50                  15360               500   \n",
       "\n",
       "    rub_monthly_fee  rub_per_gb  rub_per_message  rub_per_minute  minuts_count  \n",
       "32              550         200                3               3           318  \n",
       "33              550         200                3               3           636  \n",
       "34              550         200                3               3           285  \n",
       "35              550         200                3               3           336  \n",
       "36              550         200                3               3           207  "
      ]
     },
     "metadata": {},
     "output_type": "display_data"
    }
   ],
   "source": [
    "group['minuts_count'] = group.apply(minuts_count, axis = 1)\n",
    "display(group.query('minuts_count > 0').head())"
   ]
  },
  {
   "cell_type": "markdown",
   "metadata": {},
   "source": [
    "### Расчет израсходованного интернет-трафика по месяцам\n",
    "\n",
    "- напишем функцию для расчета\n",
    "- создадим новый столбец"
   ]
  },
  {
   "cell_type": "code",
   "execution_count": 33,
   "metadata": {},
   "outputs": [],
   "source": [
    "def mb_count(row_values):\n",
    "    result_mb = row_values['mb_used'] - row_values['mb_per_month_included']\n",
    "    result_mb = result_mb / 1024\n",
    "    result_gb = result_mb * row_values['rub_per_gb']\n",
    "    if result_gb > 0: return result_gb\n",
    "    return 0 "
   ]
  },
  {
   "cell_type": "code",
   "execution_count": 34,
   "metadata": {},
   "outputs": [
    {
     "data": {
      "text/html": [
       "<div>\n",
       "<style scoped>\n",
       "    .dataframe tbody tr th:only-of-type {\n",
       "        vertical-align: middle;\n",
       "    }\n",
       "\n",
       "    .dataframe tbody tr th {\n",
       "        vertical-align: top;\n",
       "    }\n",
       "\n",
       "    .dataframe thead th {\n",
       "        text-align: right;\n",
       "    }\n",
       "</style>\n",
       "<table border=\"1\" class=\"dataframe\">\n",
       "  <thead>\n",
       "    <tr style=\"text-align: right;\">\n",
       "      <th></th>\n",
       "      <th>user_id</th>\n",
       "      <th>month</th>\n",
       "      <th>duration</th>\n",
       "      <th>message_count</th>\n",
       "      <th>mb_used</th>\n",
       "      <th>tariff</th>\n",
       "      <th>city</th>\n",
       "      <th>messages_included</th>\n",
       "      <th>mb_per_month_included</th>\n",
       "      <th>minutes_included</th>\n",
       "      <th>rub_monthly_fee</th>\n",
       "      <th>rub_per_gb</th>\n",
       "      <th>rub_per_message</th>\n",
       "      <th>rub_per_minute</th>\n",
       "      <th>minuts_count</th>\n",
       "      <th>mb_count</th>\n",
       "    </tr>\n",
       "  </thead>\n",
       "  <tbody>\n",
       "    <tr>\n",
       "      <td>8</td>\n",
       "      <td>1001</td>\n",
       "      <td>11</td>\n",
       "      <td>430</td>\n",
       "      <td>nan</td>\n",
       "      <td>18430.0</td>\n",
       "      <td>smart</td>\n",
       "      <td>Москва</td>\n",
       "      <td>50</td>\n",
       "      <td>15360</td>\n",
       "      <td>500</td>\n",
       "      <td>550</td>\n",
       "      <td>200</td>\n",
       "      <td>3</td>\n",
       "      <td>3</td>\n",
       "      <td>0</td>\n",
       "      <td>599.6</td>\n",
       "    </tr>\n",
       "    <tr>\n",
       "      <td>11</td>\n",
       "      <td>1002</td>\n",
       "      <td>7</td>\n",
       "      <td>214</td>\n",
       "      <td>11.0</td>\n",
       "      <td>17581.0</td>\n",
       "      <td>smart</td>\n",
       "      <td>Стерлитамак</td>\n",
       "      <td>50</td>\n",
       "      <td>15360</td>\n",
       "      <td>500</td>\n",
       "      <td>550</td>\n",
       "      <td>200</td>\n",
       "      <td>3</td>\n",
       "      <td>3</td>\n",
       "      <td>0</td>\n",
       "      <td>433.8</td>\n",
       "    </tr>\n",
       "    <tr>\n",
       "      <td>12</td>\n",
       "      <td>1002</td>\n",
       "      <td>8</td>\n",
       "      <td>289</td>\n",
       "      <td>13.0</td>\n",
       "      <td>20320.0</td>\n",
       "      <td>smart</td>\n",
       "      <td>Стерлитамак</td>\n",
       "      <td>50</td>\n",
       "      <td>15360</td>\n",
       "      <td>500</td>\n",
       "      <td>550</td>\n",
       "      <td>200</td>\n",
       "      <td>3</td>\n",
       "      <td>3</td>\n",
       "      <td>0</td>\n",
       "      <td>968.8</td>\n",
       "    </tr>\n",
       "    <tr>\n",
       "      <td>13</td>\n",
       "      <td>1002</td>\n",
       "      <td>9</td>\n",
       "      <td>206</td>\n",
       "      <td>4.0</td>\n",
       "      <td>16692.0</td>\n",
       "      <td>smart</td>\n",
       "      <td>Стерлитамак</td>\n",
       "      <td>50</td>\n",
       "      <td>15360</td>\n",
       "      <td>500</td>\n",
       "      <td>550</td>\n",
       "      <td>200</td>\n",
       "      <td>3</td>\n",
       "      <td>3</td>\n",
       "      <td>0</td>\n",
       "      <td>260.2</td>\n",
       "    </tr>\n",
       "    <tr>\n",
       "      <td>15</td>\n",
       "      <td>1002</td>\n",
       "      <td>11</td>\n",
       "      <td>243</td>\n",
       "      <td>16.0</td>\n",
       "      <td>18588.0</td>\n",
       "      <td>smart</td>\n",
       "      <td>Стерлитамак</td>\n",
       "      <td>50</td>\n",
       "      <td>15360</td>\n",
       "      <td>500</td>\n",
       "      <td>550</td>\n",
       "      <td>200</td>\n",
       "      <td>3</td>\n",
       "      <td>3</td>\n",
       "      <td>0</td>\n",
       "      <td>630.5</td>\n",
       "    </tr>\n",
       "  </tbody>\n",
       "</table>\n",
       "</div>"
      ],
      "text/plain": [
       "    user_id  month  duration  message_count  mb_used tariff         city  \\\n",
       "8      1001     11       430            nan  18430.0  smart       Москва   \n",
       "11     1002      7       214           11.0  17581.0  smart  Стерлитамак   \n",
       "12     1002      8       289           13.0  20320.0  smart  Стерлитамак   \n",
       "13     1002      9       206            4.0  16692.0  smart  Стерлитамак   \n",
       "15     1002     11       243           16.0  18588.0  smart  Стерлитамак   \n",
       "\n",
       "    messages_included  mb_per_month_included  minutes_included  \\\n",
       "8                  50                  15360               500   \n",
       "11                 50                  15360               500   \n",
       "12                 50                  15360               500   \n",
       "13                 50                  15360               500   \n",
       "15                 50                  15360               500   \n",
       "\n",
       "    rub_monthly_fee  rub_per_gb  rub_per_message  rub_per_minute  \\\n",
       "8               550         200                3               3   \n",
       "11              550         200                3               3   \n",
       "12              550         200                3               3   \n",
       "13              550         200                3               3   \n",
       "15              550         200                3               3   \n",
       "\n",
       "    minuts_count  mb_count  \n",
       "8              0     599.6  \n",
       "11             0     433.8  \n",
       "12             0     968.8  \n",
       "13             0     260.2  \n",
       "15             0     630.5  "
      ]
     },
     "metadata": {},
     "output_type": "display_data"
    }
   ],
   "source": [
    "pd.options.display.float_format = '{:.1f}'.format\n",
    "group['mb_count'] = group.apply(mb_count, axis = 1)\n",
    "display(group.query('mb_count > 0').head())"
   ]
  },
  {
   "cell_type": "markdown",
   "metadata": {},
   "source": [
    "### Расчет количества отправленных сообщений по месяцам\n",
    "\n",
    "- напишем функцию для расчета\n",
    "- создадим новый столбец"
   ]
  },
  {
   "cell_type": "code",
   "execution_count": 35,
   "metadata": {},
   "outputs": [],
   "source": [
    "def mes_count(row_values):\n",
    "    result_mes = row_values['message_count'] - row_values['messages_included']\n",
    "    result_mes = result_mes * row_values['rub_per_minute']\n",
    "    if result_mes > 0: return result_mes\n",
    "    return 0"
   ]
  },
  {
   "cell_type": "code",
   "execution_count": 36,
   "metadata": {
    "scrolled": true
   },
   "outputs": [
    {
     "data": {
      "text/html": [
       "<div>\n",
       "<style scoped>\n",
       "    .dataframe tbody tr th:only-of-type {\n",
       "        vertical-align: middle;\n",
       "    }\n",
       "\n",
       "    .dataframe tbody tr th {\n",
       "        vertical-align: top;\n",
       "    }\n",
       "\n",
       "    .dataframe thead th {\n",
       "        text-align: right;\n",
       "    }\n",
       "</style>\n",
       "<table border=\"1\" class=\"dataframe\">\n",
       "  <thead>\n",
       "    <tr style=\"text-align: right;\">\n",
       "      <th></th>\n",
       "      <th>user_id</th>\n",
       "      <th>month</th>\n",
       "      <th>duration</th>\n",
       "      <th>message_count</th>\n",
       "      <th>mb_used</th>\n",
       "      <th>tariff</th>\n",
       "      <th>city</th>\n",
       "      <th>messages_included</th>\n",
       "      <th>mb_per_month_included</th>\n",
       "      <th>minutes_included</th>\n",
       "      <th>rub_monthly_fee</th>\n",
       "      <th>rub_per_gb</th>\n",
       "      <th>rub_per_message</th>\n",
       "      <th>rub_per_minute</th>\n",
       "      <th>minuts_count</th>\n",
       "      <th>mb_count</th>\n",
       "      <th>mes_count</th>\n",
       "    </tr>\n",
       "  </thead>\n",
       "  <tbody>\n",
       "    <tr>\n",
       "      <td>32</td>\n",
       "      <td>1005</td>\n",
       "      <td>3</td>\n",
       "      <td>606</td>\n",
       "      <td>56.0</td>\n",
       "      <td>11105.0</td>\n",
       "      <td>smart</td>\n",
       "      <td>Набережные Челны</td>\n",
       "      <td>50</td>\n",
       "      <td>15360</td>\n",
       "      <td>500</td>\n",
       "      <td>550</td>\n",
       "      <td>200</td>\n",
       "      <td>3</td>\n",
       "      <td>3</td>\n",
       "      <td>318</td>\n",
       "      <td>0.0</td>\n",
       "      <td>18.0</td>\n",
       "    </tr>\n",
       "    <tr>\n",
       "      <td>36</td>\n",
       "      <td>1005</td>\n",
       "      <td>7</td>\n",
       "      <td>569</td>\n",
       "      <td>56.0</td>\n",
       "      <td>7695.0</td>\n",
       "      <td>smart</td>\n",
       "      <td>Набережные Челны</td>\n",
       "      <td>50</td>\n",
       "      <td>15360</td>\n",
       "      <td>500</td>\n",
       "      <td>550</td>\n",
       "      <td>200</td>\n",
       "      <td>3</td>\n",
       "      <td>3</td>\n",
       "      <td>207</td>\n",
       "      <td>0.0</td>\n",
       "      <td>18.0</td>\n",
       "    </tr>\n",
       "    <tr>\n",
       "      <td>37</td>\n",
       "      <td>1005</td>\n",
       "      <td>8</td>\n",
       "      <td>619</td>\n",
       "      <td>64.0</td>\n",
       "      <td>7544.0</td>\n",
       "      <td>smart</td>\n",
       "      <td>Набережные Челны</td>\n",
       "      <td>50</td>\n",
       "      <td>15360</td>\n",
       "      <td>500</td>\n",
       "      <td>550</td>\n",
       "      <td>200</td>\n",
       "      <td>3</td>\n",
       "      <td>3</td>\n",
       "      <td>357</td>\n",
       "      <td>0.0</td>\n",
       "      <td>42.0</td>\n",
       "    </tr>\n",
       "    <tr>\n",
       "      <td>38</td>\n",
       "      <td>1005</td>\n",
       "      <td>9</td>\n",
       "      <td>479</td>\n",
       "      <td>52.0</td>\n",
       "      <td>7017.0</td>\n",
       "      <td>smart</td>\n",
       "      <td>Набережные Челны</td>\n",
       "      <td>50</td>\n",
       "      <td>15360</td>\n",
       "      <td>500</td>\n",
       "      <td>550</td>\n",
       "      <td>200</td>\n",
       "      <td>3</td>\n",
       "      <td>3</td>\n",
       "      <td>0</td>\n",
       "      <td>0.0</td>\n",
       "      <td>6.0</td>\n",
       "    </tr>\n",
       "    <tr>\n",
       "      <td>40</td>\n",
       "      <td>1005</td>\n",
       "      <td>11</td>\n",
       "      <td>547</td>\n",
       "      <td>51.0</td>\n",
       "      <td>12667.0</td>\n",
       "      <td>smart</td>\n",
       "      <td>Набережные Челны</td>\n",
       "      <td>50</td>\n",
       "      <td>15360</td>\n",
       "      <td>500</td>\n",
       "      <td>550</td>\n",
       "      <td>200</td>\n",
       "      <td>3</td>\n",
       "      <td>3</td>\n",
       "      <td>141</td>\n",
       "      <td>0.0</td>\n",
       "      <td>3.0</td>\n",
       "    </tr>\n",
       "  </tbody>\n",
       "</table>\n",
       "</div>"
      ],
      "text/plain": [
       "    user_id  month  duration  message_count  mb_used tariff              city  \\\n",
       "32     1005      3       606           56.0  11105.0  smart  Набережные Челны   \n",
       "36     1005      7       569           56.0   7695.0  smart  Набережные Челны   \n",
       "37     1005      8       619           64.0   7544.0  smart  Набережные Челны   \n",
       "38     1005      9       479           52.0   7017.0  smart  Набережные Челны   \n",
       "40     1005     11       547           51.0  12667.0  smart  Набережные Челны   \n",
       "\n",
       "    messages_included  mb_per_month_included  minutes_included  \\\n",
       "32                 50                  15360               500   \n",
       "36                 50                  15360               500   \n",
       "37                 50                  15360               500   \n",
       "38                 50                  15360               500   \n",
       "40                 50                  15360               500   \n",
       "\n",
       "    rub_monthly_fee  rub_per_gb  rub_per_message  rub_per_minute  \\\n",
       "32              550         200                3               3   \n",
       "36              550         200                3               3   \n",
       "37              550         200                3               3   \n",
       "38              550         200                3               3   \n",
       "40              550         200                3               3   \n",
       "\n",
       "    minuts_count  mb_count  mes_count  \n",
       "32           318       0.0       18.0  \n",
       "36           207       0.0       18.0  \n",
       "37           357       0.0       42.0  \n",
       "38             0       0.0        6.0  \n",
       "40           141       0.0        3.0  "
      ]
     },
     "metadata": {},
     "output_type": "display_data"
    }
   ],
   "source": [
    "group['mes_count'] = group.apply(mes_count, axis = 1)\n",
    "display(group.query('mes_count > 0').head())"
   ]
  },
  {
   "cell_type": "markdown",
   "metadata": {},
   "source": [
    "### Расчет выручки по месяцам\n",
    "\n",
    "- посчитаем выручку по месяцам\n",
    "- добавим новый столбец\n",
    "- визуально проверим получившиеся данные"
   ]
  },
  {
   "cell_type": "code",
   "execution_count": 37,
   "metadata": {},
   "outputs": [],
   "source": [
    "def tot_count(row_values):\n",
    "    result_tot = row_values['minuts_count'] + row_values['mb_count']\n",
    "    result_tot = result_tot + row_values['mes_count'] + row_values['rub_monthly_fee']\n",
    "    return result_tot"
   ]
  },
  {
   "cell_type": "code",
   "execution_count": 38,
   "metadata": {
    "scrolled": true
   },
   "outputs": [
    {
     "data": {
      "text/html": [
       "<div>\n",
       "<style scoped>\n",
       "    .dataframe tbody tr th:only-of-type {\n",
       "        vertical-align: middle;\n",
       "    }\n",
       "\n",
       "    .dataframe tbody tr th {\n",
       "        vertical-align: top;\n",
       "    }\n",
       "\n",
       "    .dataframe thead th {\n",
       "        text-align: right;\n",
       "    }\n",
       "</style>\n",
       "<table border=\"1\" class=\"dataframe\">\n",
       "  <thead>\n",
       "    <tr style=\"text-align: right;\">\n",
       "      <th></th>\n",
       "      <th>user_id</th>\n",
       "      <th>month</th>\n",
       "      <th>duration</th>\n",
       "      <th>message_count</th>\n",
       "      <th>mb_used</th>\n",
       "      <th>tariff</th>\n",
       "      <th>city</th>\n",
       "      <th>messages_included</th>\n",
       "      <th>mb_per_month_included</th>\n",
       "      <th>minutes_included</th>\n",
       "      <th>rub_monthly_fee</th>\n",
       "      <th>rub_per_gb</th>\n",
       "      <th>rub_per_message</th>\n",
       "      <th>rub_per_minute</th>\n",
       "      <th>minuts_count</th>\n",
       "      <th>mb_count</th>\n",
       "      <th>mes_count</th>\n",
       "      <th>tot_count</th>\n",
       "    </tr>\n",
       "  </thead>\n",
       "  <tbody>\n",
       "    <tr>\n",
       "      <td>8</td>\n",
       "      <td>1001</td>\n",
       "      <td>11</td>\n",
       "      <td>430</td>\n",
       "      <td>nan</td>\n",
       "      <td>18430.0</td>\n",
       "      <td>smart</td>\n",
       "      <td>Москва</td>\n",
       "      <td>50</td>\n",
       "      <td>15360</td>\n",
       "      <td>500</td>\n",
       "      <td>550</td>\n",
       "      <td>200</td>\n",
       "      <td>3</td>\n",
       "      <td>3</td>\n",
       "      <td>0</td>\n",
       "      <td>599.6</td>\n",
       "      <td>0.0</td>\n",
       "      <td>1149.6</td>\n",
       "    </tr>\n",
       "    <tr>\n",
       "      <td>11</td>\n",
       "      <td>1002</td>\n",
       "      <td>7</td>\n",
       "      <td>214</td>\n",
       "      <td>11.0</td>\n",
       "      <td>17581.0</td>\n",
       "      <td>smart</td>\n",
       "      <td>Стерлитамак</td>\n",
       "      <td>50</td>\n",
       "      <td>15360</td>\n",
       "      <td>500</td>\n",
       "      <td>550</td>\n",
       "      <td>200</td>\n",
       "      <td>3</td>\n",
       "      <td>3</td>\n",
       "      <td>0</td>\n",
       "      <td>433.8</td>\n",
       "      <td>0.0</td>\n",
       "      <td>983.8</td>\n",
       "    </tr>\n",
       "    <tr>\n",
       "      <td>12</td>\n",
       "      <td>1002</td>\n",
       "      <td>8</td>\n",
       "      <td>289</td>\n",
       "      <td>13.0</td>\n",
       "      <td>20320.0</td>\n",
       "      <td>smart</td>\n",
       "      <td>Стерлитамак</td>\n",
       "      <td>50</td>\n",
       "      <td>15360</td>\n",
       "      <td>500</td>\n",
       "      <td>550</td>\n",
       "      <td>200</td>\n",
       "      <td>3</td>\n",
       "      <td>3</td>\n",
       "      <td>0</td>\n",
       "      <td>968.8</td>\n",
       "      <td>0.0</td>\n",
       "      <td>1518.8</td>\n",
       "    </tr>\n",
       "    <tr>\n",
       "      <td>13</td>\n",
       "      <td>1002</td>\n",
       "      <td>9</td>\n",
       "      <td>206</td>\n",
       "      <td>4.0</td>\n",
       "      <td>16692.0</td>\n",
       "      <td>smart</td>\n",
       "      <td>Стерлитамак</td>\n",
       "      <td>50</td>\n",
       "      <td>15360</td>\n",
       "      <td>500</td>\n",
       "      <td>550</td>\n",
       "      <td>200</td>\n",
       "      <td>3</td>\n",
       "      <td>3</td>\n",
       "      <td>0</td>\n",
       "      <td>260.2</td>\n",
       "      <td>0.0</td>\n",
       "      <td>810.2</td>\n",
       "    </tr>\n",
       "    <tr>\n",
       "      <td>15</td>\n",
       "      <td>1002</td>\n",
       "      <td>11</td>\n",
       "      <td>243</td>\n",
       "      <td>16.0</td>\n",
       "      <td>18588.0</td>\n",
       "      <td>smart</td>\n",
       "      <td>Стерлитамак</td>\n",
       "      <td>50</td>\n",
       "      <td>15360</td>\n",
       "      <td>500</td>\n",
       "      <td>550</td>\n",
       "      <td>200</td>\n",
       "      <td>3</td>\n",
       "      <td>3</td>\n",
       "      <td>0</td>\n",
       "      <td>630.5</td>\n",
       "      <td>0.0</td>\n",
       "      <td>1180.5</td>\n",
       "    </tr>\n",
       "    <tr>\n",
       "      <td>16</td>\n",
       "      <td>1002</td>\n",
       "      <td>12</td>\n",
       "      <td>236</td>\n",
       "      <td>12.0</td>\n",
       "      <td>18114.0</td>\n",
       "      <td>smart</td>\n",
       "      <td>Стерлитамак</td>\n",
       "      <td>50</td>\n",
       "      <td>15360</td>\n",
       "      <td>500</td>\n",
       "      <td>550</td>\n",
       "      <td>200</td>\n",
       "      <td>3</td>\n",
       "      <td>3</td>\n",
       "      <td>0</td>\n",
       "      <td>537.9</td>\n",
       "      <td>0.0</td>\n",
       "      <td>1087.9</td>\n",
       "    </tr>\n",
       "    <tr>\n",
       "      <td>32</td>\n",
       "      <td>1005</td>\n",
       "      <td>3</td>\n",
       "      <td>606</td>\n",
       "      <td>56.0</td>\n",
       "      <td>11105.0</td>\n",
       "      <td>smart</td>\n",
       "      <td>Набережные Челны</td>\n",
       "      <td>50</td>\n",
       "      <td>15360</td>\n",
       "      <td>500</td>\n",
       "      <td>550</td>\n",
       "      <td>200</td>\n",
       "      <td>3</td>\n",
       "      <td>3</td>\n",
       "      <td>318</td>\n",
       "      <td>0.0</td>\n",
       "      <td>18.0</td>\n",
       "      <td>886.0</td>\n",
       "    </tr>\n",
       "    <tr>\n",
       "      <td>33</td>\n",
       "      <td>1005</td>\n",
       "      <td>4</td>\n",
       "      <td>712</td>\n",
       "      <td>41.0</td>\n",
       "      <td>9352.0</td>\n",
       "      <td>smart</td>\n",
       "      <td>Набережные Челны</td>\n",
       "      <td>50</td>\n",
       "      <td>15360</td>\n",
       "      <td>500</td>\n",
       "      <td>550</td>\n",
       "      <td>200</td>\n",
       "      <td>3</td>\n",
       "      <td>3</td>\n",
       "      <td>636</td>\n",
       "      <td>0.0</td>\n",
       "      <td>0.0</td>\n",
       "      <td>1186.0</td>\n",
       "    </tr>\n",
       "    <tr>\n",
       "      <td>34</td>\n",
       "      <td>1005</td>\n",
       "      <td>5</td>\n",
       "      <td>595</td>\n",
       "      <td>42.0</td>\n",
       "      <td>7866.0</td>\n",
       "      <td>smart</td>\n",
       "      <td>Набережные Челны</td>\n",
       "      <td>50</td>\n",
       "      <td>15360</td>\n",
       "      <td>500</td>\n",
       "      <td>550</td>\n",
       "      <td>200</td>\n",
       "      <td>3</td>\n",
       "      <td>3</td>\n",
       "      <td>285</td>\n",
       "      <td>0.0</td>\n",
       "      <td>0.0</td>\n",
       "      <td>835.0</td>\n",
       "    </tr>\n",
       "    <tr>\n",
       "      <td>35</td>\n",
       "      <td>1005</td>\n",
       "      <td>6</td>\n",
       "      <td>612</td>\n",
       "      <td>47.0</td>\n",
       "      <td>9864.0</td>\n",
       "      <td>smart</td>\n",
       "      <td>Набережные Челны</td>\n",
       "      <td>50</td>\n",
       "      <td>15360</td>\n",
       "      <td>500</td>\n",
       "      <td>550</td>\n",
       "      <td>200</td>\n",
       "      <td>3</td>\n",
       "      <td>3</td>\n",
       "      <td>336</td>\n",
       "      <td>0.0</td>\n",
       "      <td>0.0</td>\n",
       "      <td>886.0</td>\n",
       "    </tr>\n",
       "    <tr>\n",
       "      <td>36</td>\n",
       "      <td>1005</td>\n",
       "      <td>7</td>\n",
       "      <td>569</td>\n",
       "      <td>56.0</td>\n",
       "      <td>7695.0</td>\n",
       "      <td>smart</td>\n",
       "      <td>Набережные Челны</td>\n",
       "      <td>50</td>\n",
       "      <td>15360</td>\n",
       "      <td>500</td>\n",
       "      <td>550</td>\n",
       "      <td>200</td>\n",
       "      <td>3</td>\n",
       "      <td>3</td>\n",
       "      <td>207</td>\n",
       "      <td>0.0</td>\n",
       "      <td>18.0</td>\n",
       "      <td>775.0</td>\n",
       "    </tr>\n",
       "    <tr>\n",
       "      <td>37</td>\n",
       "      <td>1005</td>\n",
       "      <td>8</td>\n",
       "      <td>619</td>\n",
       "      <td>64.0</td>\n",
       "      <td>7544.0</td>\n",
       "      <td>smart</td>\n",
       "      <td>Набережные Челны</td>\n",
       "      <td>50</td>\n",
       "      <td>15360</td>\n",
       "      <td>500</td>\n",
       "      <td>550</td>\n",
       "      <td>200</td>\n",
       "      <td>3</td>\n",
       "      <td>3</td>\n",
       "      <td>357</td>\n",
       "      <td>0.0</td>\n",
       "      <td>42.0</td>\n",
       "      <td>949.0</td>\n",
       "    </tr>\n",
       "    <tr>\n",
       "      <td>38</td>\n",
       "      <td>1005</td>\n",
       "      <td>9</td>\n",
       "      <td>479</td>\n",
       "      <td>52.0</td>\n",
       "      <td>7017.0</td>\n",
       "      <td>smart</td>\n",
       "      <td>Набережные Челны</td>\n",
       "      <td>50</td>\n",
       "      <td>15360</td>\n",
       "      <td>500</td>\n",
       "      <td>550</td>\n",
       "      <td>200</td>\n",
       "      <td>3</td>\n",
       "      <td>3</td>\n",
       "      <td>0</td>\n",
       "      <td>0.0</td>\n",
       "      <td>6.0</td>\n",
       "      <td>556.0</td>\n",
       "    </tr>\n",
       "    <tr>\n",
       "      <td>39</td>\n",
       "      <td>1005</td>\n",
       "      <td>10</td>\n",
       "      <td>723</td>\n",
       "      <td>44.0</td>\n",
       "      <td>7801.0</td>\n",
       "      <td>smart</td>\n",
       "      <td>Набережные Челны</td>\n",
       "      <td>50</td>\n",
       "      <td>15360</td>\n",
       "      <td>500</td>\n",
       "      <td>550</td>\n",
       "      <td>200</td>\n",
       "      <td>3</td>\n",
       "      <td>3</td>\n",
       "      <td>669</td>\n",
       "      <td>0.0</td>\n",
       "      <td>0.0</td>\n",
       "      <td>1219.0</td>\n",
       "    </tr>\n",
       "    <tr>\n",
       "      <td>40</td>\n",
       "      <td>1005</td>\n",
       "      <td>11</td>\n",
       "      <td>547</td>\n",
       "      <td>51.0</td>\n",
       "      <td>12667.0</td>\n",
       "      <td>smart</td>\n",
       "      <td>Набережные Челны</td>\n",
       "      <td>50</td>\n",
       "      <td>15360</td>\n",
       "      <td>500</td>\n",
       "      <td>550</td>\n",
       "      <td>200</td>\n",
       "      <td>3</td>\n",
       "      <td>3</td>\n",
       "      <td>141</td>\n",
       "      <td>0.0</td>\n",
       "      <td>3.0</td>\n",
       "      <td>694.0</td>\n",
       "    </tr>\n",
       "  </tbody>\n",
       "</table>\n",
       "</div>"
      ],
      "text/plain": [
       "    user_id  month  duration  message_count  mb_used tariff              city  \\\n",
       "8      1001     11       430            nan  18430.0  smart            Москва   \n",
       "11     1002      7       214           11.0  17581.0  smart       Стерлитамак   \n",
       "12     1002      8       289           13.0  20320.0  smart       Стерлитамак   \n",
       "13     1002      9       206            4.0  16692.0  smart       Стерлитамак   \n",
       "15     1002     11       243           16.0  18588.0  smart       Стерлитамак   \n",
       "16     1002     12       236           12.0  18114.0  smart       Стерлитамак   \n",
       "32     1005      3       606           56.0  11105.0  smart  Набережные Челны   \n",
       "33     1005      4       712           41.0   9352.0  smart  Набережные Челны   \n",
       "34     1005      5       595           42.0   7866.0  smart  Набережные Челны   \n",
       "35     1005      6       612           47.0   9864.0  smart  Набережные Челны   \n",
       "36     1005      7       569           56.0   7695.0  smart  Набережные Челны   \n",
       "37     1005      8       619           64.0   7544.0  smart  Набережные Челны   \n",
       "38     1005      9       479           52.0   7017.0  smart  Набережные Челны   \n",
       "39     1005     10       723           44.0   7801.0  smart  Набережные Челны   \n",
       "40     1005     11       547           51.0  12667.0  smart  Набережные Челны   \n",
       "\n",
       "    messages_included  mb_per_month_included  minutes_included  \\\n",
       "8                  50                  15360               500   \n",
       "11                 50                  15360               500   \n",
       "12                 50                  15360               500   \n",
       "13                 50                  15360               500   \n",
       "15                 50                  15360               500   \n",
       "16                 50                  15360               500   \n",
       "32                 50                  15360               500   \n",
       "33                 50                  15360               500   \n",
       "34                 50                  15360               500   \n",
       "35                 50                  15360               500   \n",
       "36                 50                  15360               500   \n",
       "37                 50                  15360               500   \n",
       "38                 50                  15360               500   \n",
       "39                 50                  15360               500   \n",
       "40                 50                  15360               500   \n",
       "\n",
       "    rub_monthly_fee  rub_per_gb  rub_per_message  rub_per_minute  \\\n",
       "8               550         200                3               3   \n",
       "11              550         200                3               3   \n",
       "12              550         200                3               3   \n",
       "13              550         200                3               3   \n",
       "15              550         200                3               3   \n",
       "16              550         200                3               3   \n",
       "32              550         200                3               3   \n",
       "33              550         200                3               3   \n",
       "34              550         200                3               3   \n",
       "35              550         200                3               3   \n",
       "36              550         200                3               3   \n",
       "37              550         200                3               3   \n",
       "38              550         200                3               3   \n",
       "39              550         200                3               3   \n",
       "40              550         200                3               3   \n",
       "\n",
       "    minuts_count  mb_count  mes_count  tot_count  \n",
       "8              0     599.6        0.0     1149.6  \n",
       "11             0     433.8        0.0      983.8  \n",
       "12             0     968.8        0.0     1518.8  \n",
       "13             0     260.2        0.0      810.2  \n",
       "15             0     630.5        0.0     1180.5  \n",
       "16             0     537.9        0.0     1087.9  \n",
       "32           318       0.0       18.0      886.0  \n",
       "33           636       0.0        0.0     1186.0  \n",
       "34           285       0.0        0.0      835.0  \n",
       "35           336       0.0        0.0      886.0  \n",
       "36           207       0.0       18.0      775.0  \n",
       "37           357       0.0       42.0      949.0  \n",
       "38             0       0.0        6.0      556.0  \n",
       "39           669       0.0        0.0     1219.0  \n",
       "40           141       0.0        3.0      694.0  "
      ]
     },
     "metadata": {},
     "output_type": "display_data"
    }
   ],
   "source": [
    "group['tot_count'] = group.apply(tot_count, axis = 1)\n",
    "display(group.query('minuts_count > 0 or mb_count > 0 or mes_count > 0').head(15))"
   ]
  },
  {
   "cell_type": "code",
   "execution_count": 39,
   "metadata": {
    "scrolled": true
   },
   "outputs": [
    {
     "data": {
      "text/plain": [
       "count   3174.0\n",
       "mean    1479.9\n",
       "std      784.8\n",
       "min      550.0\n",
       "25%      690.3\n",
       "50%     1535.5\n",
       "75%     1950.0\n",
       "max     6699.9\n",
       "Name: tot_count, dtype: float64"
      ]
     },
     "execution_count": 39,
     "metadata": {},
     "output_type": "execute_result"
    }
   ],
   "source": [
    "group['tot_count'].describe()"
   ]
  },
  {
   "cell_type": "markdown",
   "metadata": {},
   "source": [
    "## Исследовательский анализ данных\n",
    "\n",
    "### Минуты\n",
    "\n",
    "Рассчитаем среднее количество минут в месяц:\n",
    "- всего\n",
    "- тариф smart\n",
    "- тариф ultra"
   ]
  },
  {
   "cell_type": "code",
   "execution_count": 40,
   "metadata": {
    "scrolled": false
   },
   "outputs": [
    {
     "name": "stdout",
     "output_type": "stream",
     "text": [
      "Среднее количество минут в месяц: 456.93\n",
      "Среднее количество минут для тарифа smart в месяц: 419.06\n",
      "Среднее количество минут для тарифа ultra в месяц: 545.45\n"
     ]
    }
   ],
   "source": [
    "print('Среднее количество минут в месяц: {:.2f}'.format(group['duration'].mean()))\n",
    "print('Среднее количество минут для тарифа smart в месяц: {:.2f}'.format(group[group['tariff'] == 'smart']['duration'].mean()))\n",
    "print('Среднее количество минут для тарифа ultra в месяц: {:.2f}'.format(group[group['tariff'] == 'ultra']['duration'].mean()))"
   ]
  },
  {
   "cell_type": "markdown",
   "metadata": {},
   "source": [
    "Рассчитаем дисперсию для количества минут в месяц:\n",
    "\n",
    "- всего\n",
    "- тариф smart\n",
    "- тариф ultra"
   ]
  },
  {
   "cell_type": "code",
   "execution_count": 41,
   "metadata": {},
   "outputs": [
    {
     "name": "stdout",
     "output_type": "stream",
     "text": [
      "Дисперсия для количества минут в месяц: 56641.03\n",
      "Дисперсия для количества минут для тарифа smart в месяц: 35828.07\n",
      "Дисперсия для количества минут для тарифа ultra в месяц: 94104.36\n"
     ]
    }
   ],
   "source": [
    "var_tot_min = np.var(group['duration'])\n",
    "var_smart_min = np.var(group[group['tariff'] == 'smart']['duration'])\n",
    "var_ultra_min = np.var(group[group['tariff'] == 'ultra']['duration'])\n",
    "\n",
    "print('Дисперсия для количества минут в месяц: {:.2f}'.format(var_tot_min))\n",
    "print('Дисперсия для количества минут для тарифа smart в месяц: {:.2f}'.format(var_smart_min))\n",
    "print('Дисперсия для количества минут для тарифа ultra в месяц: {:.2f}'.format(var_ultra_min))"
   ]
  },
  {
   "cell_type": "markdown",
   "metadata": {},
   "source": [
    "Рассчитаем стандартное отклонение для количества минут в месяц:\n",
    "\n",
    "- всего\n",
    "- тариф smart\n",
    "- тариф ultra"
   ]
  },
  {
   "cell_type": "code",
   "execution_count": 42,
   "metadata": {},
   "outputs": [
    {
     "name": "stdout",
     "output_type": "stream",
     "text": [
      "Стандартное отклонение для количества минут в месяц: 237.99\n",
      "Стандартное отклонение для количества минут для тарифа smart в месяц: 189.28\n",
      "Стандартное отклонение для количества минут для тарифа ultra в месяц: 306.76\n"
     ]
    }
   ],
   "source": [
    "st_dev_tot_min = np.std(group['duration'])\n",
    "st_dev_smart_min = np.std(group[group['tariff'] == 'smart']['duration'])\n",
    "st_dev_ultra_min = np.std(group[group['tariff'] == 'ultra']['duration'])\n",
    "\n",
    "print('Стандартное отклонение для количества минут в месяц: {:.2f}'.format(st_dev_tot_min))\n",
    "print('Стандартное отклонение для количества минут для тарифа smart в месяц: {:.2f}'.format(st_dev_smart_min))\n",
    "print('Стандартное отклонение для количества минут для тарифа ultra в месяц: {:.2f}'.format(st_dev_ultra_min))"
   ]
  },
  {
   "cell_type": "code",
   "execution_count": 43,
   "metadata": {},
   "outputs": [
    {
     "data": {
      "text/html": [
       "<div>\n",
       "<style scoped>\n",
       "    .dataframe tbody tr th:only-of-type {\n",
       "        vertical-align: middle;\n",
       "    }\n",
       "\n",
       "    .dataframe tbody tr th {\n",
       "        vertical-align: top;\n",
       "    }\n",
       "\n",
       "    .dataframe thead th {\n",
       "        text-align: right;\n",
       "    }\n",
       "</style>\n",
       "<table border=\"1\" class=\"dataframe\">\n",
       "  <thead>\n",
       "    <tr style=\"text-align: right;\">\n",
       "      <th></th>\n",
       "      <th>Среднее</th>\n",
       "      <th>Дисперсия</th>\n",
       "      <th>Станд.отклонение</th>\n",
       "    </tr>\n",
       "    <tr>\n",
       "      <th>tariff</th>\n",
       "      <th></th>\n",
       "      <th></th>\n",
       "      <th></th>\n",
       "    </tr>\n",
       "  </thead>\n",
       "  <tbody>\n",
       "    <tr>\n",
       "      <td>smart</td>\n",
       "      <td>419.1</td>\n",
       "      <td>35844.2</td>\n",
       "      <td>189.3</td>\n",
       "    </tr>\n",
       "    <tr>\n",
       "      <td>ultra</td>\n",
       "      <td>545.5</td>\n",
       "      <td>94203.4</td>\n",
       "      <td>306.9</td>\n",
       "    </tr>\n",
       "  </tbody>\n",
       "</table>\n",
       "</div>"
      ],
      "text/plain": [
       "        Среднее  Дисперсия  Станд.отклонение\n",
       "tariff                                      \n",
       "smart     419.1    35844.2             189.3\n",
       "ultra     545.5    94203.4             306.9"
      ]
     },
     "execution_count": 43,
     "metadata": {},
     "output_type": "execute_result"
    }
   ],
   "source": [
    "tab = pd.pivot_table(group,\n",
    "               index=['tariff'],\n",
    "               values = ['duration'],\n",
    "               aggfunc = [np.mean, np.var, np.std])\n",
    "\n",
    "tab.columns=['Среднее', 'Дисперсия', 'Станд.отклонение']\n",
    "tab"
   ]
  },
  {
   "cell_type": "code",
   "execution_count": 44,
   "metadata": {},
   "outputs": [],
   "source": [
    "def var0(x):\n",
    "    return np.var(x, ddof=1)"
   ]
  },
  {
   "cell_type": "code",
   "execution_count": 45,
   "metadata": {},
   "outputs": [
    {
     "data": {
      "text/html": [
       "<div>\n",
       "<style scoped>\n",
       "    .dataframe tbody tr th:only-of-type {\n",
       "        vertical-align: middle;\n",
       "    }\n",
       "\n",
       "    .dataframe tbody tr th {\n",
       "        vertical-align: top;\n",
       "    }\n",
       "\n",
       "    .dataframe thead th {\n",
       "        text-align: right;\n",
       "    }\n",
       "</style>\n",
       "<table border=\"1\" class=\"dataframe\">\n",
       "  <thead>\n",
       "    <tr style=\"text-align: right;\">\n",
       "      <th></th>\n",
       "      <th>duration</th>\n",
       "    </tr>\n",
       "    <tr>\n",
       "      <th>tariff</th>\n",
       "      <th></th>\n",
       "    </tr>\n",
       "  </thead>\n",
       "  <tbody>\n",
       "    <tr>\n",
       "      <td>smart</td>\n",
       "      <td>35844.2</td>\n",
       "    </tr>\n",
       "    <tr>\n",
       "      <td>ultra</td>\n",
       "      <td>94203.4</td>\n",
       "    </tr>\n",
       "  </tbody>\n",
       "</table>\n",
       "</div>"
      ],
      "text/plain": [
       "        duration\n",
       "tariff          \n",
       "smart    35844.2\n",
       "ultra    94203.4"
      ]
     },
     "execution_count": 45,
     "metadata": {},
     "output_type": "execute_result"
    }
   ],
   "source": [
    "pd.pivot_table(group,\n",
    "               index=['tariff'],\n",
    "               values = ['duration'],\n",
    "               aggfunc = var0)"
   ]
  },
  {
   "cell_type": "markdown",
   "metadata": {},
   "source": [
    "Проверим:"
   ]
  },
  {
   "cell_type": "code",
   "execution_count": 46,
   "metadata": {},
   "outputs": [],
   "source": [
    "import math"
   ]
  },
  {
   "cell_type": "code",
   "execution_count": 47,
   "metadata": {},
   "outputs": [
    {
     "name": "stdout",
     "output_type": "stream",
     "text": [
      "237.99377031405805\n",
      "237.99377031405805\n"
     ]
    }
   ],
   "source": [
    "print(math.sqrt(var_tot_min))\n",
    "print(st_dev_tot_min)"
   ]
  },
  {
   "cell_type": "markdown",
   "metadata": {},
   "source": [
    "Построим гистограммы:"
   ]
  },
  {
   "cell_type": "code",
   "execution_count": 48,
   "metadata": {},
   "outputs": [
    {
     "data": {
      "image/png": "[encoded data removed]",
      "text/plain": [
       "<Figure size 432x288 with 1 Axes>"
      ]
     },
     "metadata": {
      "needs_background": "light"
     },
     "output_type": "display_data"
    }
   ],
   "source": [
    "h = group['duration'].hist()\n",
    "fig = h.get_figure()\n",
    "plt.axvline(500, color = 'r')\n",
    "plt.xlabel('Количество минут')\n",
    "plt.ylabel('Частота')\n",
    "plt.text(520,500,'Лимит 500 мин')\n",
    "plt.title('Количество израсходованных минут в месяц');"
   ]
  },
  {
   "cell_type": "code",
   "execution_count": 49,
   "metadata": {
    "scrolled": false
   },
   "outputs": [
    {
     "data": {
      "image/png": "[encoded data removed]",
      "text/plain": [
       "<Figure size 432x288 with 1 Axes>"
      ]
     },
     "metadata": {
      "needs_background": "light"
     },
     "output_type": "display_data"
    }
   ],
   "source": [
    "j = (group[group['tariff'] == 'smart']['duration']).hist()\n",
    "fig = j.get_figure()\n",
    "plt.axvline(500, color = 'r')\n",
    "plt.xlabel('Количество минут')\n",
    "plt.ylabel('Частота')\n",
    "plt.text(520,150,'Лимит 500 мин')\n",
    "plt.title('Количество израсходованных минут для тарифа smart в месяц');"
   ]
  },
  {
   "cell_type": "code",
   "execution_count": 50,
   "metadata": {
    "scrolled": false
   },
   "outputs": [
    {
     "data": {
      "image/png": "[encoded data removed]",
      "text/plain": [
       "<Figure size 432x288 with 1 Axes>"
      ]
     },
     "metadata": {
      "needs_background": "light"
     },
     "output_type": "display_data"
    }
   ],
   "source": [
    "k = (group[group['tariff'] == 'ultra']['duration']).hist()\n",
    "fig = k.get_figure()\n",
    "plt.xlabel('Количество минут')\n",
    "plt.ylabel('Частота')\n",
    "plt.title('Количество израсходованных минут для тарифа ultra в месяц');"
   ]
  },
  {
   "cell_type": "markdown",
   "metadata": {},
   "source": [
    "**Вывод:**\n",
    "- Тип распеределния всех графиков нормальный, со скошенностью вправо.\n",
    "- В среднем пользователи тратят в месяц: 456.93 минут.\n",
    "- Пользователи тарифа smart в месяц в среднем говорят: 419.06 минут.\n",
    "- А пользующиеся тарифом ultra в среднем расходуют в месяц: 545.45 минут.\n",
    "- Визуально четко определяем, что пользователи тарифа smart, довольно часто выходят за пределы своего лимита в 500 минут, а использующие тариф ultra свой лимит в 3000 минут не превышают вовсе.\n",
    "- Также, сравнивая графики пользователей каждого тарифа можно сказать, что использующие тариф ultra, в целом, более разговорчивые, нежели в тарифе smart."
   ]
  },
  {
   "cell_type": "markdown",
   "metadata": {},
   "source": [
    "### Сообщения\n",
    "\n",
    "Рассчитаем среднее количество сообщений в месяц:\n",
    "- всего\n",
    "- тариф smart\n",
    "- тариф ultra"
   ]
  },
  {
   "cell_type": "code",
   "execution_count": 51,
   "metadata": {},
   "outputs": [
    {
     "name": "stdout",
     "output_type": "stream",
     "text": [
      "Среднее количество сообщений в месяц: 45.13\n",
      "Среднее количество сообщений для тарифа smart в месяц: 38.75\n",
      "Среднее количество сообщений для тарифа ultra в месяц: 61.20\n"
     ]
    }
   ],
   "source": [
    "print('Среднее количество сообщений в месяц: {:.2f}'.format(group['message_count'].mean()))\n",
    "print('Среднее количество сообщений для тарифа smart в месяц: {:.2f}'.format(group[group['tariff'] == 'smart']['message_count'].mean()))\n",
    "print('Среднее количество сообщений для тарифа ultra в месяц: {:.2f}'.format(group[group['tariff'] == 'ultra']['message_count'].mean()))"
   ]
  },
  {
   "cell_type": "markdown",
   "metadata": {},
   "source": [
    "Рассчитаем дисперсию для количества сообщений в месяц:\n",
    "- всего\n",
    "- тариф smart\n",
    "- тариф ultra"
   ]
  },
  {
   "cell_type": "code",
   "execution_count": 52,
   "metadata": {},
   "outputs": [
    {
     "name": "stdout",
     "output_type": "stream",
     "text": [
      "Дисперсия для количества сообщений в месяц: 1185.07\n",
      "Дисперсия для количества сообщений для тарифа smart в месяц: 718.80\n",
      "Дисперсия для количества сообщений для тарифа ultra в месяц: 1996.95\n"
     ]
    }
   ],
   "source": [
    "var_tot_mes = np.var(group['message_count'])\n",
    "var_smart_mes = np.var(group[group['tariff'] == 'smart']['message_count'])\n",
    "var_ultra_mes = np.var(group[group['tariff'] == 'ultra']['message_count'])\n",
    "\n",
    "print('Дисперсия для количества сообщений в месяц: {:.2f}'.format(var_tot_mes))\n",
    "print('Дисперсия для количества сообщений для тарифа smart в месяц: {:.2f}'.format(var_smart_mes))\n",
    "print('Дисперсия для количества сообщений для тарифа ultra в месяц: {:.2f}'.format(var_ultra_mes))"
   ]
  },
  {
   "cell_type": "markdown",
   "metadata": {},
   "source": [
    "Рассчитаем стандартное отклонение для количества сообщений в месяц:\n",
    "\n",
    "- всего\n",
    "- тариф smart\n",
    "- тариф ultra"
   ]
  },
  {
   "cell_type": "code",
   "execution_count": 53,
   "metadata": {},
   "outputs": [
    {
     "name": "stdout",
     "output_type": "stream",
     "text": [
      "Стандартное отклонение для количества сообщений в месяц: 34.42\n",
      "Стандартное отклонение для количества сообщений для тарифа smart в месяц: 26.81\n",
      "Стандартное отклонение для количества сообщений для тарифа ultra в месяц: 44.69\n"
     ]
    }
   ],
   "source": [
    "st_dev_tot_mes = np.std(group['message_count'])\n",
    "st_dev_smart_mes = np.std(group[group['tariff'] == 'smart']['message_count'])\n",
    "st_dev_ultra_mes = np.std(group[group['tariff'] == 'ultra']['message_count'])\n",
    "\n",
    "print('Стандартное отклонение для количества сообщений в месяц: {:.2f}'.format(st_dev_tot_mes))\n",
    "print('Стандартное отклонение для количества сообщений для тарифа smart в месяц: {:.2f}'.format(st_dev_smart_mes))\n",
    "print('Стандартное отклонение для количества сообщений для тарифа ultra в месяц: {:.2f}'.format(st_dev_ultra_mes))"
   ]
  },
  {
   "cell_type": "markdown",
   "metadata": {},
   "source": [
    "Построим гистограммы:"
   ]
  },
  {
   "cell_type": "code",
   "execution_count": 54,
   "metadata": {
    "scrolled": true
   },
   "outputs": [
    {
     "data": {
      "image/png": "[encoded data removed]",
      "text/plain": [
       "<Figure size 432x288 with 1 Axes>"
      ]
     },
     "metadata": {
      "needs_background": "light"
     },
     "output_type": "display_data"
    }
   ],
   "source": [
    "h = group['message_count'].hist()\n",
    "fig = h.get_figure()\n",
    "plt.axvline(50, color = 'r')\n",
    "plt.xlabel('Количество сообщений')\n",
    "plt.ylabel('Частота')\n",
    "plt.text(52,640,'Лимит 50 смс')\n",
    "plt.title('Количество отправленных сообщений в месяц');"
   ]
  },
  {
   "cell_type": "code",
   "execution_count": 55,
   "metadata": {
    "scrolled": false
   },
   "outputs": [
    {
     "data": {
      "image/png": "[encoded data removed]",
      "text/plain": [
       "<Figure size 432x288 with 1 Axes>"
      ]
     },
     "metadata": {
      "needs_background": "light"
     },
     "output_type": "display_data"
    }
   ],
   "source": [
    "j = (group[group['tariff'] == 'smart']['message_count']).hist()\n",
    "fig = j.get_figure()\n",
    "plt.axvline(50, color = 'r')\n",
    "plt.xlabel('Количество сообщений')\n",
    "plt.ylabel('Частота')\n",
    "plt.text(52,350,'Лимит 50 смс')\n",
    "plt.title('Количество отправленных сообщений для тарифа smart в месяц');"
   ]
  },
  {
   "cell_type": "code",
   "execution_count": 56,
   "metadata": {
    "scrolled": false
   },
   "outputs": [
    {
     "data": {
      "image/png": "[encoded data removed]",
      "text/plain": [
       "<Figure size 432x288 with 1 Axes>"
      ]
     },
     "metadata": {
      "needs_background": "light"
     },
     "output_type": "display_data"
    }
   ],
   "source": [
    "k = (group[group['tariff'] == 'ultra']['message_count']).hist()\n",
    "fig = k.get_figure()\n",
    "plt.xlabel('Количество сообщений')\n",
    "plt.ylabel('Частота')\n",
    "plt.title('Количество отправленных сообщений для тарифа ultra в месяц');"
   ]
  },
  {
   "cell_type": "markdown",
   "metadata": {},
   "source": [
    "**Вывод:**\n",
    "- тип распределения - нормальное с пиком возле 0 значений и скошенностью вправо.\n",
    "- среднее количество сообщений в месяц 45.13.\n",
    "- пользователи тарифа smart в месяц в среднем пишут 38.75 смс.\n",
    "- те, кто использует тариф ultra в среднем отсылают в месяц 61.20 смс.\n",
    "- снова на графиках видим, что пользователи тарифа smart, часто выходят за пределы своего лимита в 50 смс, а использующие тариф ultra лимит в 1000 смс не превышают.\n",
    "- также, по графикам, можно сказать, что использующие тариф ultra, более разговорчивые, нежели в тарифе smart."
   ]
  },
  {
   "cell_type": "markdown",
   "metadata": {},
   "source": [
    "### Интернет-трафик\n",
    "\n",
    "Рассчитаем среднее количество интернет-трафика в месяц:\n",
    "- всего\n",
    "- тариф smart\n",
    "- тариф ultra"
   ]
  },
  {
   "cell_type": "code",
   "execution_count": 57,
   "metadata": {},
   "outputs": [
    {
     "name": "stdout",
     "output_type": "stream",
     "text": [
      "Среднее количество интернет-трафика (Гб) в месяц: 16.84\n",
      "Среднее количество интернет-трафика (Гб) для тарифа smart в месяц: 15.84\n",
      "Среднее количество интернет-трафика (Гб) для тарифа ultra в месяц: 19.21\n"
     ]
    }
   ],
   "source": [
    "print('Среднее количество интернет-трафика (Гб) в месяц: {:.2f}'.format((group['mb_used'].mean() / 1024)))\n",
    "print('Среднее количество интернет-трафика (Гб) для тарифа smart в месяц: {:.2f}'.format((group[group['tariff'] == 'smart']['mb_used'].mean() / 1024)))\n",
    "print('Среднее количество интернет-трафика (Гб) для тарифа ultra в месяц: {:.2f}'.format((group[group['tariff'] == 'ultra']['mb_used'].mean() / 1024)))"
   ]
  },
  {
   "cell_type": "markdown",
   "metadata": {},
   "source": [
    "Рассчитаем дисперсию для объема интернет-трафика в месяц:\n",
    "\n",
    "- всего\n",
    "- тариф smart\n",
    "- тариф ultra"
   ]
  },
  {
   "cell_type": "code",
   "execution_count": 58,
   "metadata": {},
   "outputs": [
    {
     "name": "stdout",
     "output_type": "stream",
     "text": [
      "Дисперсия для количества интернет-трафика (Гб) в месяц: 53.65\n",
      "Дисперсия для количества интернет-трафика (Гб) для тарифа smart в месяц: 32.82\n",
      "Дисперсия для количества интернет-трафика (Гб) для тарифа ultra в месяц: 94.86\n"
     ]
    }
   ],
   "source": [
    "var_tot_mb = np.var((group['mb_used']) / 1024)\n",
    "var_smart_mb = np.var((group[group['tariff'] == 'smart']['mb_used']) / 1024)\n",
    "var_ultra_mb = np.var((group[group['tariff'] == 'ultra']['mb_used']) / 1024)\n",
    "\n",
    "print('Дисперсия для количества интернет-трафика (Гб) в месяц: {:.2f}'.format(var_tot_mb))\n",
    "print('Дисперсия для количества интернет-трафика (Гб) для тарифа smart в месяц: {:.2f}'.format(var_smart_mb))\n",
    "print('Дисперсия для количества интернет-трафика (Гб) для тарифа ultra в месяц: {:.2f}'.format(var_ultra_mb))"
   ]
  },
  {
   "cell_type": "markdown",
   "metadata": {},
   "source": [
    "Рассчитаем стандартное отклонение для объема интернет-трафика в месяц:\n",
    "\n",
    "- всего\n",
    "- тариф smart\n",
    "- тариф ultra"
   ]
  },
  {
   "cell_type": "code",
   "execution_count": 59,
   "metadata": {},
   "outputs": [
    {
     "name": "stdout",
     "output_type": "stream",
     "text": [
      "Стандартное отклонение для интернет-трафика (Гб) в месяц: 7.32\n",
      "Стандартное отклонение для интернет-трафика (Гб) для тарифа smart в месяц: 5.73\n",
      "Стандартное отклонение для интернет-трафика (Гб) для тарифа ultra в месяц: 9.74\n"
     ]
    }
   ],
   "source": [
    "st_dev_tot_mb = np.std((group['mb_used']) / 1024)\n",
    "st_dev_smart_mb = np.std((group[group['tariff'] == 'smart']['mb_used']) / 1024)\n",
    "st_dev_ultra_mb = np.std((group[group['tariff'] == 'ultra']['mb_used']) / 1024)\n",
    "\n",
    "print('Стандартное отклонение для интернет-трафика (Гб) в месяц: {:.2f}'.format(st_dev_tot_mb))\n",
    "print('Стандартное отклонение для интернет-трафика (Гб) для тарифа smart в месяц: {:.2f}'.format(st_dev_smart_mb))\n",
    "print('Стандартное отклонение для интернет-трафика (Гб) для тарифа ultra в месяц: {:.2f}'.format(st_dev_ultra_mb))"
   ]
  },
  {
   "cell_type": "markdown",
   "metadata": {},
   "source": [
    "Построим гистограммы:"
   ]
  },
  {
   "cell_type": "code",
   "execution_count": 60,
   "metadata": {
    "scrolled": true
   },
   "outputs": [
    {
     "data": {
      "image/png": "[encoded data removed]",
      "text/plain": [
       "<Figure size 432x288 with 1 Axes>"
      ]
     },
     "metadata": {
      "needs_background": "light"
     },
     "output_type": "display_data"
    }
   ],
   "source": [
    "h = group['mb_used'].hist()\n",
    "fig = h.get_figure()\n",
    "plt.axvline(30720, color = 'r')\n",
    "plt.axvline(15360, color = 'r')\n",
    "plt.xlabel('Объем интернет-трафика, мб')\n",
    "plt.ylabel('Частота')\n",
    "plt.text(31000,400,'Лимит 30 гб (ultra)')\n",
    "plt.text(16000,500,'Лимит 15 гб (smart)')\n",
    "plt.title('Объем израсходованного интернет-трафика в месяц');"
   ]
  },
  {
   "cell_type": "code",
   "execution_count": 61,
   "metadata": {
    "scrolled": false
   },
   "outputs": [
    {
     "data": {
      "image/png": "[encoded data removed]",
      "text/plain": [
       "<Figure size 432x288 with 1 Axes>"
      ]
     },
     "metadata": {
      "needs_background": "light"
     },
     "output_type": "display_data"
    }
   ],
   "source": [
    "j = (group[group['tariff'] == 'smart']['mb_used']).hist()\n",
    "fig = j.get_figure()\n",
    "plt.axvline(15360, color = 'r')\n",
    "plt.xlabel('Объем интернет-трафика, мб')\n",
    "plt.ylabel('Частота')\n",
    "plt.text(16000,320,'Лимит 15 гб (smart)')\n",
    "plt.title('Объем израсходованного интернет-трафика для тарифа smart в месяц');"
   ]
  },
  {
   "cell_type": "code",
   "execution_count": 62,
   "metadata": {
    "scrolled": true
   },
   "outputs": [
    {
     "data": {
      "image/png": "[encoded data removed]",
      "text/plain": [
       "<Figure size 432x288 with 1 Axes>"
      ]
     },
     "metadata": {
      "needs_background": "light"
     },
     "output_type": "display_data"
    }
   ],
   "source": [
    "k = (group[group['tariff'] == 'ultra']['mb_used']).hist()\n",
    "fig = k.get_figure()\n",
    "plt.axvline(30720, color = 'r')\n",
    "plt.xlabel('Объем интернет-трафика, мб')\n",
    "plt.ylabel('Частота')\n",
    "plt.text(31000,110,'Лимит 30 гб (ultra)')\n",
    "plt.title('Объем израсходованного интернет-трафика для тарифа ultra в месяц');"
   ]
  },
  {
   "cell_type": "markdown",
   "metadata": {},
   "source": [
    "**Вывод:**\n",
    "- тип распределения - нормальное с пиком возле 0 значений и скошенностью вправо.\n",
    "- среднее количество потребляемого интернет-трафика в месяц 16.84 Гб.\n",
    "- пользователи тарифа smart в среднем в месяц тратят 15.84 Гб.\n",
    "- а интернет-трафик для пользователей тарифа ultra в среднем, в месяц 19.21 Гб.\n",
    "- на графиках видим, что пользователи тарифа smart, очень часто выходят за пределы своего лимита в 15 Гб, даже среднее использование выше этой цифры.\n",
    "- использующие тариф ultra лимит в 30 Гб в основном не превышают, однако далеко не всем его хватает, в отличии от звонков и смс-ок.\n",
    "- также, по графикам, можно сказать, что использующие тариф ultra, в отличие от звонков и смс не намного отличаются от пользователей тарифа smart в своем желании интернет-серфинга."
   ]
  },
  {
   "cell_type": "markdown",
   "metadata": {},
   "source": [
    "## Гипотезы"
   ]
  },
  {
   "cell_type": "markdown",
   "metadata": {},
   "source": [
    "1. Формулируем первую гипотезу о различиях средней выручки пользователей разных тарифов. Т.к нам важно какое именно различие (чтобы выбрать лучший тариф), то сформулируем односторонние гипотезы:\n",
    "- **нулевая гипотеза:** средняя выручка пользователей тарифов «Ультра» и «Смарт» равна.\n",
    "- **альтернативная гипотеза:** средняя выручка пользователей тарифов «Ультра» больше чем «Смарт».\n",
    "\n",
    "Выберем критический уровень статистической значимости  0.05, как общепринятое пороговое значение."
   ]
  },
  {
   "cell_type": "code",
   "execution_count": 63,
   "metadata": {},
   "outputs": [
    {
     "name": "stdout",
     "output_type": "stream",
     "text": [
      "p-значение: 7.826383019657623e-293\n",
      "Отвергаем нулевую гипотезу\n"
     ]
    }
   ],
   "source": [
    "alpha = 0.05\n",
    "smart_1 = group[group['tariff'] == 'smart']['tot_count']\n",
    "ultra_1 = group[group['tariff'] == 'ultra']['tot_count']\n",
    "\n",
    "results = st.ttest_ind(smart_1, ultra_1, equal_var = False)\n",
    "\n",
    "print('p-значение:', results.pvalue)\n",
    "\n",
    "if results.pvalue / 2 < alpha and ultra_1.mean() > smart_1.mean():\n",
    "    print(\"Отвергаем нулевую гипотезу\")\n",
    "else:\n",
    "    print(\"Не получилось отвергнуть нулевую гипотезу\")"
   ]
  },
  {
   "cell_type": "markdown",
   "metadata": {},
   "source": [
    "**Вывод:**\n",
    "По расчетам мы отвергли нулевую гипотезу, а это значит, что скорее всего средняя выручка пользователей тарифа «Ультра» в среднем больше, чем тарифа «Смарт»."
   ]
  },
  {
   "cell_type": "markdown",
   "metadata": {},
   "source": [
    "2. Формулируем вторую гипотезу о различиях средней выручки пользователей из Москвы и из других регионов, можем использовать двусторонние гипотезы, т.к не важно, какие именно различия. Также выберем критический уровень статистической значимости, как общепринятое пороговое значение  0.05.\n",
    "- **нулевая гипотеза:** средняя выручка пользователей из Москвы и из других регионов равна.\n",
    "- **альтернативная гипотеза:** средняя выручка пользователей из Москвы отличается от выручки пользователей из других регионов.  \n",
    "\n",
    "\n",
    "- посмотрим для пользователей тарифа \"Смарт\"\n",
    "- затем для тарифа \"Ультра\""
   ]
  },
  {
   "cell_type": "code",
   "execution_count": 64,
   "metadata": {},
   "outputs": [
    {
     "name": "stdout",
     "output_type": "stream",
     "text": [
      "p-значение: 0.13146563139081302\n",
      "Не получилось отвергнуть нулевую гипотезу\n"
     ]
    }
   ],
   "source": [
    "alpha = 0.05\n",
    "\n",
    "smart_2 = group[(group['tariff'] == 'smart') & (group['city'] == 'Москва')]['tot_count']\n",
    "ultra_2 = group[(group['tariff'] == 'smart') & (group['city'] != 'Москва')]['tot_count']\n",
    "\n",
    "results = st.ttest_ind(smart_2, ultra_2, equal_var = False)\n",
    "\n",
    "print('p-значение:', results.pvalue)\n",
    "\n",
    "if results.pvalue < alpha:\n",
    "    print(\"Отвергаем нулевую гипотезу\")\n",
    "else:\n",
    "    print(\"Не получилось отвергнуть нулевую гипотезу\")"
   ]
  },
  {
   "cell_type": "code",
   "execution_count": 65,
   "metadata": {},
   "outputs": [
    {
     "name": "stdout",
     "output_type": "stream",
     "text": [
      "p-значение: 0.8981867611303502\n",
      "Не получилось отвергнуть нулевую гипотезу\n"
     ]
    }
   ],
   "source": [
    "alpha = 0.05\n",
    "\n",
    "smart_3 = group[(group['tariff'] == 'ultra') & (group['city'] == 'Москва')]['tot_count']\n",
    "ultra_3 = group[(group['tariff'] == 'ultra') & (group['city'] != 'Москва')]['tot_count']\n",
    "\n",
    "results = st.ttest_ind(smart_3, ultra_3, equal_var = False)\n",
    "\n",
    "print('p-значение:', results.pvalue)\n",
    "\n",
    "if results.pvalue < alpha:\n",
    "    print(\"Отвергаем нулевую гипотезу\")\n",
    "else:\n",
    "    print(\"Не получилось отвергнуть нулевую гипотезу\")"
   ]
  },
  {
   "cell_type": "markdown",
   "metadata": {},
   "source": [
    "**Вывод:** у нас не получилось отвергнуть нулевую гипотезу в обоих случаях, поэтому можно сделать вывод, что скорей всего, средняя выручка пользователей не зависит от региона."
   ]
  },
  {
   "cell_type": "markdown",
   "metadata": {},
   "source": [
    "## Общий вывод"
   ]
  },
  {
   "cell_type": "markdown",
   "metadata": {},
   "source": [
    "На основании проведенного исследования можно сказать, что:\n",
    "-  пользователи тарифа smart, довольно часто выходят за пределы своих лимитов в разговорах и отправке смс.\n",
    "- использующие тариф ultra лимиты по звонкам и смс-кам не превышают.\n",
    "- в целом, сравнивая пользователей каждого тарифа, можно сказать, что использующие тариф ultra, в основном, более разговорчивые, нежели в тарифе smart.\n",
    "\n",
    "Однако в использовании интернет-трафика картина иная:\n",
    "\n",
    "- пользователи обоих тарифов довольно часто превышают свои лимиты гигабайтов.\n",
    "- в среднем, можно сказать, что люди активно пользуются интернетом в независимости от тарифа.\n",
    "\n",
    "Также, мы проверили две гипотезы о средней выручке:\n",
    "\n",
    "1.\tпо расчетам мы отвергли нулевую гипотезу (средняя выручка пользователей из Москвы и из других регионов равна), а это значит, что скорее всего средняя выручка пользователей тарифа ultra больше, чем тарифа smart.\n",
    "2.\tу нас не получилось отвергнуть нулевую гипотезу (средняя выручка пользователей из Москвы и из других регионов равна) для обоих тарифов, поэтому можно сделать вывод, что скорей всего, средняя выручка пользователей не зависит от региона.\n",
    "\n",
    "Также стоит отметить, что мы получили хороший материал для работы, в данных почти не было пропусков и ошибок.\n",
    "\n",
    "**Вывод:** на основании проведенного исследования можно сказать, что тариф ultra для компании более выгодный, причем в основном из-за потребляемого интернет-трафика, т.к пользователи довольно часто превышают лимит в 30 Гб."
   ]
  }
 ],
 "metadata": {
  "ExecuteTimeLog": [
   {
    "duration": 338,
    "start_time": "2021-09-04T11:19:27.974Z"
   },
   {
    "duration": 1258,
    "start_time": "2021-09-04T11:19:35.036Z"
   },
   {
    "duration": 102,
    "start_time": "2021-09-04T11:19:36.297Z"
   },
   {
    "duration": -2001,
    "start_time": "2021-09-04T11:19:38.403Z"
   },
   {
    "duration": 6,
    "start_time": "2021-09-04T11:20:12.743Z"
   },
   {
    "duration": 484,
    "start_time": "2021-09-04T11:20:12.752Z"
   },
   {
    "duration": 24,
    "start_time": "2021-09-04T11:20:13.239Z"
   },
   {
    "duration": 13,
    "start_time": "2021-09-04T11:22:19.552Z"
   },
   {
    "duration": 8,
    "start_time": "2021-09-04T11:22:30.822Z"
   },
   {
    "duration": 13,
    "start_time": "2021-09-04T11:23:14.401Z"
   },
   {
    "duration": 9,
    "start_time": "2021-09-04T11:23:23.507Z"
   },
   {
    "duration": 19,
    "start_time": "2021-09-04T11:23:47.048Z"
   },
   {
    "duration": 11,
    "start_time": "2021-09-04T11:24:08.342Z"
   },
   {
    "duration": 9,
    "start_time": "2021-09-04T11:24:25.405Z"
   },
   {
    "duration": 20,
    "start_time": "2021-09-04T11:24:58.396Z"
   },
   {
    "duration": 8,
    "start_time": "2021-09-04T11:25:19.754Z"
   },
   {
    "duration": 7,
    "start_time": "2021-09-04T11:25:57.937Z"
   },
   {
    "duration": 12,
    "start_time": "2021-09-04T11:26:13.191Z"
   },
   {
    "duration": 7,
    "start_time": "2021-09-04T11:27:04.551Z"
   },
   {
    "duration": 15,
    "start_time": "2021-09-04T11:27:07.372Z"
   },
   {
    "duration": 349,
    "start_time": "2021-09-05T09:47:21.776Z"
   },
   {
    "duration": 177,
    "start_time": "2021-09-05T09:48:00.427Z"
   },
   {
    "duration": 1121,
    "start_time": "2021-09-05T09:48:08.490Z"
   },
   {
    "duration": 415,
    "start_time": "2021-09-05T09:48:09.613Z"
   },
   {
    "duration": 21,
    "start_time": "2021-09-05T09:48:10.030Z"
   },
   {
    "duration": 11,
    "start_time": "2021-09-05T09:48:10.053Z"
   },
   {
    "duration": 16,
    "start_time": "2021-09-05T09:48:10.066Z"
   },
   {
    "duration": 7,
    "start_time": "2021-09-05T09:48:10.084Z"
   },
   {
    "duration": 14,
    "start_time": "2021-09-05T09:48:10.093Z"
   },
   {
    "duration": 7,
    "start_time": "2021-09-05T09:48:10.109Z"
   },
   {
    "duration": 6,
    "start_time": "2021-09-05T09:48:10.119Z"
   },
   {
    "duration": 9,
    "start_time": "2021-09-05T09:48:10.126Z"
   },
   {
    "duration": 7,
    "start_time": "2021-09-05T09:48:10.137Z"
   },
   {
    "duration": 41,
    "start_time": "2021-09-05T09:48:10.145Z"
   },
   {
    "duration": 241,
    "start_time": "2021-09-05T09:48:10.188Z"
   },
   {
    "duration": 64,
    "start_time": "2021-09-05T09:49:16.986Z"
   },
   {
    "duration": 55,
    "start_time": "2021-09-05T09:50:26.025Z"
   },
   {
    "duration": 6,
    "start_time": "2021-09-05T10:01:04.804Z"
   },
   {
    "duration": 38,
    "start_time": "2021-09-05T10:05:20.979Z"
   },
   {
    "duration": 27,
    "start_time": "2021-09-05T10:06:13.095Z"
   },
   {
    "duration": 28,
    "start_time": "2021-09-05T10:06:32.993Z"
   },
   {
    "duration": 30,
    "start_time": "2021-09-05T10:06:48.186Z"
   },
   {
    "duration": 703,
    "start_time": "2021-09-05T10:10:53.893Z"
   },
   {
    "duration": 30,
    "start_time": "2021-09-05T10:11:34.025Z"
   },
   {
    "duration": 36,
    "start_time": "2021-09-05T10:12:00.642Z"
   },
   {
    "duration": 30,
    "start_time": "2021-09-05T10:12:49.976Z"
   },
   {
    "duration": 49,
    "start_time": "2021-09-05T10:13:01.782Z"
   },
   {
    "duration": 760,
    "start_time": "2021-09-05T10:13:38.573Z"
   },
   {
    "duration": 63,
    "start_time": "2021-09-05T10:14:02.363Z"
   },
   {
    "duration": 9,
    "start_time": "2021-09-05T10:21:58.788Z"
   },
   {
    "duration": 9,
    "start_time": "2021-09-05T10:22:08.255Z"
   },
   {
    "duration": 7,
    "start_time": "2021-09-05T10:22:14.691Z"
   },
   {
    "duration": 5,
    "start_time": "2021-09-05T10:22:30.515Z"
   },
   {
    "duration": 4,
    "start_time": "2021-09-05T10:23:17.600Z"
   },
   {
    "duration": 5,
    "start_time": "2021-09-05T10:23:18.878Z"
   },
   {
    "duration": 5,
    "start_time": "2021-09-05T10:24:17.216Z"
   },
   {
    "duration": 392,
    "start_time": "2021-09-05T10:24:17.223Z"
   },
   {
    "duration": 19,
    "start_time": "2021-09-05T10:24:17.617Z"
   },
   {
    "duration": 7,
    "start_time": "2021-09-05T10:24:17.638Z"
   },
   {
    "duration": 17,
    "start_time": "2021-09-05T10:24:17.647Z"
   },
   {
    "duration": 7,
    "start_time": "2021-09-05T10:24:17.666Z"
   },
   {
    "duration": 22,
    "start_time": "2021-09-05T10:24:17.674Z"
   },
   {
    "duration": 8,
    "start_time": "2021-09-05T10:24:17.698Z"
   },
   {
    "duration": 16,
    "start_time": "2021-09-05T10:24:17.708Z"
   },
   {
    "duration": 9,
    "start_time": "2021-09-05T10:24:17.725Z"
   },
   {
    "duration": 9,
    "start_time": "2021-09-05T10:24:17.735Z"
   },
   {
    "duration": 11,
    "start_time": "2021-09-05T10:24:17.746Z"
   },
   {
    "duration": 6,
    "start_time": "2021-09-05T10:24:17.759Z"
   },
   {
    "duration": 82,
    "start_time": "2021-09-05T10:24:17.767Z"
   },
   {
    "duration": 5,
    "start_time": "2021-09-05T10:24:17.850Z"
   },
   {
    "duration": 56,
    "start_time": "2021-09-05T10:30:42.354Z"
   },
   {
    "duration": 33,
    "start_time": "2021-09-05T10:38:09.107Z"
   },
   {
    "duration": 76,
    "start_time": "2021-09-05T10:41:30.863Z"
   },
   {
    "duration": 60,
    "start_time": "2021-09-05T10:41:50.458Z"
   },
   {
    "duration": 66,
    "start_time": "2021-09-05T10:42:09.520Z"
   },
   {
    "duration": 49,
    "start_time": "2021-09-05T10:42:34.965Z"
   },
   {
    "duration": 41,
    "start_time": "2021-09-05T10:43:27.338Z"
   },
   {
    "duration": 47,
    "start_time": "2021-09-05T10:44:02.083Z"
   },
   {
    "duration": 48,
    "start_time": "2021-09-05T10:44:08.579Z"
   },
   {
    "duration": 22,
    "start_time": "2021-09-05T10:47:14.313Z"
   },
   {
    "duration": 38,
    "start_time": "2021-09-05T10:54:41.252Z"
   },
   {
    "duration": 43,
    "start_time": "2021-09-05T10:56:14.904Z"
   },
   {
    "duration": 4288,
    "start_time": "2021-09-05T10:57:58.029Z"
   },
   {
    "duration": 36,
    "start_time": "2021-09-05T11:00:01.142Z"
   },
   {
    "duration": 284,
    "start_time": "2021-09-05T11:00:22.466Z"
   },
   {
    "duration": 20,
    "start_time": "2021-09-05T11:00:43.315Z"
   },
   {
    "duration": 22,
    "start_time": "2021-09-05T11:02:15.367Z"
   },
   {
    "duration": 14,
    "start_time": "2021-09-05T11:14:59.427Z"
   },
   {
    "duration": 11,
    "start_time": "2021-09-05T11:15:40.566Z"
   },
   {
    "duration": 11,
    "start_time": "2021-09-05T11:16:12.094Z"
   },
   {
    "duration": 19,
    "start_time": "2021-09-05T11:17:17.970Z"
   },
   {
    "duration": 14,
    "start_time": "2021-09-05T11:18:20.776Z"
   },
   {
    "duration": 18,
    "start_time": "2021-09-05T11:18:49.374Z"
   },
   {
    "duration": 15,
    "start_time": "2021-09-05T11:36:10.791Z"
   },
   {
    "duration": 19,
    "start_time": "2021-09-05T11:36:26.083Z"
   },
   {
    "duration": 11,
    "start_time": "2021-09-05T11:36:32.803Z"
   },
   {
    "duration": 11,
    "start_time": "2021-09-05T11:36:53.441Z"
   },
   {
    "duration": 11,
    "start_time": "2021-09-05T11:37:02.738Z"
   },
   {
    "duration": 16,
    "start_time": "2021-09-05T11:37:24.417Z"
   },
   {
    "duration": 19,
    "start_time": "2021-09-05T11:37:29.889Z"
   },
   {
    "duration": 10,
    "start_time": "2021-09-05T11:37:34.359Z"
   },
   {
    "duration": 12,
    "start_time": "2021-09-05T12:47:49.261Z"
   },
   {
    "duration": 18,
    "start_time": "2021-09-05T12:47:56.801Z"
   },
   {
    "duration": 16,
    "start_time": "2021-09-05T12:48:05.910Z"
   },
   {
    "duration": 12,
    "start_time": "2021-09-05T12:49:50.562Z"
   },
   {
    "duration": 8,
    "start_time": "2021-09-05T12:53:21.107Z"
   },
   {
    "duration": 8,
    "start_time": "2021-09-05T13:06:17.631Z"
   },
   {
    "duration": 175,
    "start_time": "2021-09-05T13:06:32.453Z"
   },
   {
    "duration": 205,
    "start_time": "2021-09-05T13:07:36.655Z"
   },
   {
    "duration": 4,
    "start_time": "2021-09-05T13:07:41.133Z"
   },
   {
    "duration": 184,
    "start_time": "2021-09-05T13:08:19.339Z"
   },
   {
    "duration": 12,
    "start_time": "2021-09-05T13:10:24.459Z"
   },
   {
    "duration": 28,
    "start_time": "2021-09-05T13:12:03.935Z"
   },
   {
    "duration": 17,
    "start_time": "2021-09-05T13:12:29.887Z"
   },
   {
    "duration": 10,
    "start_time": "2021-09-05T13:12:52.022Z"
   },
   {
    "duration": 6,
    "start_time": "2021-09-05T13:13:00.734Z"
   },
   {
    "duration": 409,
    "start_time": "2021-09-05T13:13:00.742Z"
   },
   {
    "duration": 23,
    "start_time": "2021-09-05T13:13:01.153Z"
   },
   {
    "duration": 26,
    "start_time": "2021-09-05T13:13:01.177Z"
   },
   {
    "duration": 39,
    "start_time": "2021-09-05T13:13:01.204Z"
   },
   {
    "duration": 11,
    "start_time": "2021-09-05T13:13:01.245Z"
   },
   {
    "duration": 36,
    "start_time": "2021-09-05T13:13:01.257Z"
   },
   {
    "duration": 34,
    "start_time": "2021-09-05T13:13:01.295Z"
   },
   {
    "duration": 54,
    "start_time": "2021-09-05T13:13:01.331Z"
   },
   {
    "duration": 31,
    "start_time": "2021-09-05T13:13:01.387Z"
   },
   {
    "duration": 24,
    "start_time": "2021-09-05T13:13:01.420Z"
   },
   {
    "duration": 39,
    "start_time": "2021-09-05T13:13:01.446Z"
   },
   {
    "duration": 41,
    "start_time": "2021-09-05T13:13:01.487Z"
   },
   {
    "duration": 25,
    "start_time": "2021-09-05T13:13:01.530Z"
   },
   {
    "duration": 91,
    "start_time": "2021-09-05T13:13:01.558Z"
   },
   {
    "duration": 22,
    "start_time": "2021-09-05T13:13:01.651Z"
   },
   {
    "duration": 65,
    "start_time": "2021-09-05T13:13:01.675Z"
   },
   {
    "duration": 31,
    "start_time": "2021-09-05T13:13:01.742Z"
   },
   {
    "duration": 41,
    "start_time": "2021-09-05T13:13:01.775Z"
   },
   {
    "duration": 20,
    "start_time": "2021-09-05T13:13:01.818Z"
   },
   {
    "duration": 63,
    "start_time": "2021-09-05T13:13:01.840Z"
   },
   {
    "duration": 16,
    "start_time": "2021-09-05T13:13:01.905Z"
   },
   {
    "duration": 17,
    "start_time": "2021-09-05T13:13:01.925Z"
   },
   {
    "duration": 4,
    "start_time": "2021-09-05T13:13:28.114Z"
   },
   {
    "duration": 380,
    "start_time": "2021-09-05T13:13:28.120Z"
   },
   {
    "duration": 19,
    "start_time": "2021-09-05T13:13:28.502Z"
   },
   {
    "duration": 13,
    "start_time": "2021-09-05T13:13:28.522Z"
   },
   {
    "duration": 21,
    "start_time": "2021-09-05T13:13:28.537Z"
   },
   {
    "duration": 7,
    "start_time": "2021-09-05T13:13:28.559Z"
   },
   {
    "duration": 20,
    "start_time": "2021-09-05T13:13:28.567Z"
   },
   {
    "duration": 21,
    "start_time": "2021-09-05T13:13:28.589Z"
   },
   {
    "duration": 16,
    "start_time": "2021-09-05T13:13:28.612Z"
   },
   {
    "duration": 18,
    "start_time": "2021-09-05T13:13:28.629Z"
   },
   {
    "duration": 23,
    "start_time": "2021-09-05T13:13:28.648Z"
   },
   {
    "duration": 12,
    "start_time": "2021-09-05T13:13:28.672Z"
   },
   {
    "duration": 17,
    "start_time": "2021-09-05T13:13:28.686Z"
   },
   {
    "duration": 10,
    "start_time": "2021-09-05T13:13:28.704Z"
   },
   {
    "duration": 69,
    "start_time": "2021-09-05T13:13:28.716Z"
   },
   {
    "duration": 8,
    "start_time": "2021-09-05T13:13:28.786Z"
   },
   {
    "duration": 77,
    "start_time": "2021-09-05T13:13:28.795Z"
   },
   {
    "duration": 22,
    "start_time": "2021-09-05T13:13:28.874Z"
   },
   {
    "duration": 37,
    "start_time": "2021-09-05T13:13:28.897Z"
   },
   {
    "duration": 20,
    "start_time": "2021-09-05T13:13:28.936Z"
   },
   {
    "duration": 64,
    "start_time": "2021-09-05T13:13:28.958Z"
   },
   {
    "duration": 16,
    "start_time": "2021-09-05T13:13:29.024Z"
   },
   {
    "duration": 7,
    "start_time": "2021-09-05T13:13:29.043Z"
   },
   {
    "duration": 15,
    "start_time": "2021-09-05T13:14:49.605Z"
   },
   {
    "duration": 5,
    "start_time": "2021-09-05T13:15:33.404Z"
   },
   {
    "duration": 434,
    "start_time": "2021-09-05T13:15:33.411Z"
   },
   {
    "duration": 20,
    "start_time": "2021-09-05T13:15:33.847Z"
   },
   {
    "duration": 27,
    "start_time": "2021-09-05T13:15:33.869Z"
   },
   {
    "duration": 23,
    "start_time": "2021-09-05T13:15:33.898Z"
   },
   {
    "duration": 9,
    "start_time": "2021-09-05T13:15:33.923Z"
   },
   {
    "duration": 6,
    "start_time": "2021-09-05T13:15:33.933Z"
   },
   {
    "duration": 13,
    "start_time": "2021-09-05T13:15:33.942Z"
   },
   {
    "duration": 6,
    "start_time": "2021-09-05T13:15:33.957Z"
   },
   {
    "duration": 24,
    "start_time": "2021-09-05T13:15:33.965Z"
   },
   {
    "duration": 10,
    "start_time": "2021-09-05T13:15:33.990Z"
   },
   {
    "duration": 8,
    "start_time": "2021-09-05T13:15:34.001Z"
   },
   {
    "duration": 10,
    "start_time": "2021-09-05T13:15:34.010Z"
   },
   {
    "duration": 6,
    "start_time": "2021-09-05T13:15:34.022Z"
   },
   {
    "duration": 91,
    "start_time": "2021-09-05T13:15:34.030Z"
   },
   {
    "duration": 13,
    "start_time": "2021-09-05T13:15:34.123Z"
   },
   {
    "duration": 71,
    "start_time": "2021-09-05T13:15:34.137Z"
   },
   {
    "duration": 19,
    "start_time": "2021-09-05T13:15:34.210Z"
   },
   {
    "duration": 35,
    "start_time": "2021-09-05T13:15:34.230Z"
   },
   {
    "duration": 18,
    "start_time": "2021-09-05T13:15:34.285Z"
   },
   {
    "duration": 44,
    "start_time": "2021-09-05T13:15:34.304Z"
   },
   {
    "duration": 41,
    "start_time": "2021-09-05T13:15:34.350Z"
   },
   {
    "duration": 8,
    "start_time": "2021-09-05T13:15:34.394Z"
   },
   {
    "duration": 9,
    "start_time": "2021-09-05T13:18:52.677Z"
   },
   {
    "duration": 5,
    "start_time": "2021-09-05T13:19:31.431Z"
   },
   {
    "duration": 407,
    "start_time": "2021-09-05T13:19:31.438Z"
   },
   {
    "duration": 20,
    "start_time": "2021-09-05T13:19:31.847Z"
   },
   {
    "duration": 9,
    "start_time": "2021-09-05T13:19:31.869Z"
   },
   {
    "duration": 21,
    "start_time": "2021-09-05T13:19:31.879Z"
   },
   {
    "duration": 8,
    "start_time": "2021-09-05T13:19:31.901Z"
   },
   {
    "duration": 7,
    "start_time": "2021-09-05T13:19:31.911Z"
   },
   {
    "duration": 18,
    "start_time": "2021-09-05T13:19:31.921Z"
   },
   {
    "duration": 13,
    "start_time": "2021-09-05T13:19:31.941Z"
   },
   {
    "duration": 11,
    "start_time": "2021-09-05T13:19:31.956Z"
   },
   {
    "duration": 21,
    "start_time": "2021-09-05T13:19:31.968Z"
   },
   {
    "duration": 11,
    "start_time": "2021-09-05T13:19:31.990Z"
   },
   {
    "duration": 12,
    "start_time": "2021-09-05T13:19:32.003Z"
   },
   {
    "duration": 21,
    "start_time": "2021-09-05T13:19:32.017Z"
   },
   {
    "duration": 68,
    "start_time": "2021-09-05T13:19:32.040Z"
   },
   {
    "duration": 12,
    "start_time": "2021-09-05T13:19:32.110Z"
   },
   {
    "duration": 70,
    "start_time": "2021-09-05T13:19:32.124Z"
   },
   {
    "duration": 17,
    "start_time": "2021-09-05T13:19:32.195Z"
   },
   {
    "duration": 34,
    "start_time": "2021-09-05T13:19:32.214Z"
   },
   {
    "duration": 40,
    "start_time": "2021-09-05T13:19:32.249Z"
   },
   {
    "duration": 44,
    "start_time": "2021-09-05T13:19:32.291Z"
   },
   {
    "duration": 16,
    "start_time": "2021-09-05T13:19:32.337Z"
   },
   {
    "duration": 30,
    "start_time": "2021-09-05T13:19:32.356Z"
   },
   {
    "duration": 7,
    "start_time": "2021-09-05T13:33:16.739Z"
   },
   {
    "duration": 5,
    "start_time": "2021-09-05T13:35:13.197Z"
   },
   {
    "duration": 36,
    "start_time": "2021-09-05T13:35:50.751Z"
   },
   {
    "duration": 19,
    "start_time": "2021-09-05T13:36:05.026Z"
   },
   {
    "duration": 5,
    "start_time": "2021-09-05T13:36:46.225Z"
   },
   {
    "duration": 439,
    "start_time": "2021-09-05T13:36:46.232Z"
   },
   {
    "duration": 20,
    "start_time": "2021-09-05T13:36:46.673Z"
   },
   {
    "duration": 15,
    "start_time": "2021-09-05T13:36:46.695Z"
   },
   {
    "duration": 21,
    "start_time": "2021-09-05T13:36:46.712Z"
   },
   {
    "duration": 8,
    "start_time": "2021-09-05T13:36:46.735Z"
   },
   {
    "duration": 16,
    "start_time": "2021-09-05T13:36:46.745Z"
   },
   {
    "duration": 32,
    "start_time": "2021-09-05T13:36:46.762Z"
   },
   {
    "duration": 13,
    "start_time": "2021-09-05T13:36:46.796Z"
   },
   {
    "duration": 22,
    "start_time": "2021-09-05T13:36:46.810Z"
   },
   {
    "duration": 21,
    "start_time": "2021-09-05T13:36:46.833Z"
   },
   {
    "duration": 19,
    "start_time": "2021-09-05T13:36:46.855Z"
   },
   {
    "duration": 14,
    "start_time": "2021-09-05T13:36:46.875Z"
   },
   {
    "duration": 11,
    "start_time": "2021-09-05T13:36:46.891Z"
   },
   {
    "duration": 64,
    "start_time": "2021-09-05T13:36:46.903Z"
   },
   {
    "duration": 24,
    "start_time": "2021-09-05T13:36:46.969Z"
   },
   {
    "duration": 67,
    "start_time": "2021-09-05T13:36:46.994Z"
   },
   {
    "duration": 24,
    "start_time": "2021-09-05T13:36:47.062Z"
   },
   {
    "duration": 36,
    "start_time": "2021-09-05T13:36:47.088Z"
   },
   {
    "duration": 26,
    "start_time": "2021-09-05T13:36:47.126Z"
   },
   {
    "duration": 54,
    "start_time": "2021-09-05T13:36:47.154Z"
   },
   {
    "duration": 14,
    "start_time": "2021-09-05T13:36:47.210Z"
   },
   {
    "duration": 17,
    "start_time": "2021-09-05T13:36:47.226Z"
   },
   {
    "duration": 16,
    "start_time": "2021-09-05T13:47:09.584Z"
   },
   {
    "duration": 17,
    "start_time": "2021-09-05T13:48:53.060Z"
   },
   {
    "duration": 41,
    "start_time": "2021-09-05T14:05:28.839Z"
   },
   {
    "duration": 5,
    "start_time": "2021-09-05T14:05:42.130Z"
   },
   {
    "duration": 437,
    "start_time": "2021-09-05T14:05:42.137Z"
   },
   {
    "duration": 20,
    "start_time": "2021-09-05T14:05:42.576Z"
   },
   {
    "duration": 7,
    "start_time": "2021-09-05T14:05:42.598Z"
   },
   {
    "duration": 18,
    "start_time": "2021-09-05T14:05:42.606Z"
   },
   {
    "duration": 8,
    "start_time": "2021-09-05T14:05:42.625Z"
   },
   {
    "duration": 7,
    "start_time": "2021-09-05T14:05:42.634Z"
   },
   {
    "duration": 16,
    "start_time": "2021-09-05T14:05:42.643Z"
   },
   {
    "duration": 6,
    "start_time": "2021-09-05T14:05:42.684Z"
   },
   {
    "duration": 8,
    "start_time": "2021-09-05T14:05:42.692Z"
   },
   {
    "duration": 9,
    "start_time": "2021-09-05T14:05:42.702Z"
   },
   {
    "duration": 7,
    "start_time": "2021-09-05T14:05:42.712Z"
   },
   {
    "duration": 11,
    "start_time": "2021-09-05T14:05:42.721Z"
   },
   {
    "duration": 7,
    "start_time": "2021-09-05T14:05:42.734Z"
   },
   {
    "duration": 98,
    "start_time": "2021-09-05T14:05:42.743Z"
   },
   {
    "duration": 13,
    "start_time": "2021-09-05T14:05:42.842Z"
   },
   {
    "duration": 4296,
    "start_time": "2021-09-05T14:05:42.857Z"
   },
   {
    "duration": -1299,
    "start_time": "2021-09-05T14:05:48.454Z"
   },
   {
    "duration": -1302,
    "start_time": "2021-09-05T14:05:48.457Z"
   },
   {
    "duration": -1307,
    "start_time": "2021-09-05T14:05:48.463Z"
   },
   {
    "duration": -1309,
    "start_time": "2021-09-05T14:05:48.466Z"
   },
   {
    "duration": -1313,
    "start_time": "2021-09-05T14:05:48.471Z"
   },
   {
    "duration": -1316,
    "start_time": "2021-09-05T14:05:48.475Z"
   },
   {
    "duration": -1318,
    "start_time": "2021-09-05T14:05:48.478Z"
   },
   {
    "duration": -1319,
    "start_time": "2021-09-05T14:05:48.480Z"
   },
   {
    "duration": 36,
    "start_time": "2021-09-05T14:06:15.211Z"
   },
   {
    "duration": 4,
    "start_time": "2021-09-05T14:07:50.029Z"
   },
   {
    "duration": 174,
    "start_time": "2021-09-05T14:08:12.693Z"
   },
   {
    "duration": 11,
    "start_time": "2021-09-05T14:08:25.109Z"
   },
   {
    "duration": 7,
    "start_time": "2021-09-05T14:08:30.310Z"
   },
   {
    "duration": 443,
    "start_time": "2021-09-05T14:08:30.319Z"
   },
   {
    "duration": 20,
    "start_time": "2021-09-05T14:08:30.764Z"
   },
   {
    "duration": 14,
    "start_time": "2021-09-05T14:08:30.786Z"
   },
   {
    "duration": 26,
    "start_time": "2021-09-05T14:08:30.802Z"
   },
   {
    "duration": 8,
    "start_time": "2021-09-05T14:08:30.830Z"
   },
   {
    "duration": 12,
    "start_time": "2021-09-05T14:08:30.839Z"
   },
   {
    "duration": 17,
    "start_time": "2021-09-05T14:08:30.853Z"
   },
   {
    "duration": 14,
    "start_time": "2021-09-05T14:08:30.873Z"
   },
   {
    "duration": 13,
    "start_time": "2021-09-05T14:08:30.889Z"
   },
   {
    "duration": 16,
    "start_time": "2021-09-05T14:08:30.904Z"
   },
   {
    "duration": 9,
    "start_time": "2021-09-05T14:08:30.921Z"
   },
   {
    "duration": 14,
    "start_time": "2021-09-05T14:08:30.932Z"
   },
   {
    "duration": 16,
    "start_time": "2021-09-05T14:08:30.947Z"
   },
   {
    "duration": 75,
    "start_time": "2021-09-05T14:08:30.965Z"
   },
   {
    "duration": 13,
    "start_time": "2021-09-05T14:08:31.042Z"
   },
   {
    "duration": 14,
    "start_time": "2021-09-05T14:08:31.056Z"
   },
   {
    "duration": 68,
    "start_time": "2021-09-05T14:08:31.072Z"
   },
   {
    "duration": 17,
    "start_time": "2021-09-05T14:08:31.141Z"
   },
   {
    "duration": 51,
    "start_time": "2021-09-05T14:08:31.160Z"
   },
   {
    "duration": 26,
    "start_time": "2021-09-05T14:08:31.213Z"
   },
   {
    "duration": 63,
    "start_time": "2021-09-05T14:08:31.240Z"
   },
   {
    "duration": 14,
    "start_time": "2021-09-05T14:08:31.305Z"
   },
   {
    "duration": 18,
    "start_time": "2021-09-05T14:08:31.321Z"
   },
   {
    "duration": 18,
    "start_time": "2021-09-05T14:08:31.341Z"
   },
   {
    "duration": 11,
    "start_time": "2021-09-05T14:16:59.927Z"
   },
   {
    "duration": 16,
    "start_time": "2021-09-05T14:18:56.023Z"
   },
   {
    "duration": 4,
    "start_time": "2021-09-05T14:20:08.222Z"
   },
   {
    "duration": 5,
    "start_time": "2021-09-05T14:21:25.970Z"
   },
   {
    "duration": 206,
    "start_time": "2021-09-05T14:21:33.838Z"
   },
   {
    "duration": 187,
    "start_time": "2021-09-05T14:21:45.588Z"
   },
   {
    "duration": 7,
    "start_time": "2021-09-05T14:22:15.839Z"
   },
   {
    "duration": 5,
    "start_time": "2021-09-05T14:23:01.456Z"
   },
   {
    "duration": 19,
    "start_time": "2021-09-05T14:25:57.865Z"
   },
   {
    "duration": 7,
    "start_time": "2021-09-05T14:26:28.305Z"
   },
   {
    "duration": 13,
    "start_time": "2021-09-05T14:30:58.580Z"
   },
   {
    "duration": 14,
    "start_time": "2021-09-05T14:36:08.248Z"
   },
   {
    "duration": 7,
    "start_time": "2021-09-05T14:36:24.281Z"
   },
   {
    "duration": 9,
    "start_time": "2021-09-05T14:39:28.790Z"
   },
   {
    "duration": 16,
    "start_time": "2021-09-05T14:44:06.010Z"
   },
   {
    "duration": 29,
    "start_time": "2021-09-05T14:46:42.420Z"
   },
   {
    "duration": 33,
    "start_time": "2021-09-05T14:47:22.401Z"
   },
   {
    "duration": 5,
    "start_time": "2021-09-05T14:47:36.637Z"
   },
   {
    "duration": 423,
    "start_time": "2021-09-05T14:47:36.644Z"
   },
   {
    "duration": 20,
    "start_time": "2021-09-05T14:47:37.069Z"
   },
   {
    "duration": 7,
    "start_time": "2021-09-05T14:47:37.091Z"
   },
   {
    "duration": 21,
    "start_time": "2021-09-05T14:47:37.099Z"
   },
   {
    "duration": 8,
    "start_time": "2021-09-05T14:47:37.121Z"
   },
   {
    "duration": 6,
    "start_time": "2021-09-05T14:47:37.130Z"
   },
   {
    "duration": 14,
    "start_time": "2021-09-05T14:47:37.138Z"
   },
   {
    "duration": 30,
    "start_time": "2021-09-05T14:47:37.155Z"
   },
   {
    "duration": 6,
    "start_time": "2021-09-05T14:47:37.187Z"
   },
   {
    "duration": 10,
    "start_time": "2021-09-05T14:47:37.194Z"
   },
   {
    "duration": 9,
    "start_time": "2021-09-05T14:47:37.205Z"
   },
   {
    "duration": 11,
    "start_time": "2021-09-05T14:47:37.215Z"
   },
   {
    "duration": 10,
    "start_time": "2021-09-05T14:47:37.227Z"
   },
   {
    "duration": 87,
    "start_time": "2021-09-05T14:47:37.238Z"
   },
   {
    "duration": 13,
    "start_time": "2021-09-05T14:47:37.327Z"
   },
   {
    "duration": 10,
    "start_time": "2021-09-05T14:47:37.341Z"
   },
   {
    "duration": 76,
    "start_time": "2021-09-05T14:47:37.352Z"
   },
   {
    "duration": 17,
    "start_time": "2021-09-05T14:47:37.430Z"
   },
   {
    "duration": 51,
    "start_time": "2021-09-05T14:47:37.448Z"
   },
   {
    "duration": 24,
    "start_time": "2021-09-05T14:47:37.501Z"
   },
   {
    "duration": 60,
    "start_time": "2021-09-05T14:47:37.526Z"
   },
   {
    "duration": 15,
    "start_time": "2021-09-05T14:47:37.588Z"
   },
   {
    "duration": 7,
    "start_time": "2021-09-05T14:47:37.605Z"
   },
   {
    "duration": 25,
    "start_time": "2021-09-05T14:47:37.613Z"
   },
   {
    "duration": 28,
    "start_time": "2021-09-05T14:47:37.639Z"
   },
   {
    "duration": 182,
    "start_time": "2021-09-05T14:50:54.484Z"
   },
   {
    "duration": 5,
    "start_time": "2021-09-05T14:51:09.918Z"
   },
   {
    "duration": 435,
    "start_time": "2021-09-05T14:51:09.925Z"
   },
   {
    "duration": 19,
    "start_time": "2021-09-05T14:51:10.362Z"
   },
   {
    "duration": 7,
    "start_time": "2021-09-05T14:51:10.383Z"
   },
   {
    "duration": 21,
    "start_time": "2021-09-05T14:51:10.392Z"
   },
   {
    "duration": 7,
    "start_time": "2021-09-05T14:51:10.415Z"
   },
   {
    "duration": 5,
    "start_time": "2021-09-05T14:51:10.424Z"
   },
   {
    "duration": 14,
    "start_time": "2021-09-05T14:51:10.432Z"
   },
   {
    "duration": 6,
    "start_time": "2021-09-05T14:51:10.448Z"
   },
   {
    "duration": 32,
    "start_time": "2021-09-05T14:51:10.456Z"
   },
   {
    "duration": 8,
    "start_time": "2021-09-05T14:51:10.489Z"
   },
   {
    "duration": 9,
    "start_time": "2021-09-05T14:51:10.498Z"
   },
   {
    "duration": 10,
    "start_time": "2021-09-05T14:51:10.509Z"
   },
   {
    "duration": 11,
    "start_time": "2021-09-05T14:51:10.521Z"
   },
   {
    "duration": 80,
    "start_time": "2021-09-05T14:51:10.534Z"
   },
   {
    "duration": 13,
    "start_time": "2021-09-05T14:51:10.615Z"
   },
   {
    "duration": 10,
    "start_time": "2021-09-05T14:51:10.630Z"
   },
   {
    "duration": 72,
    "start_time": "2021-09-05T14:51:10.642Z"
   },
   {
    "duration": 17,
    "start_time": "2021-09-05T14:51:10.716Z"
   },
   {
    "duration": 52,
    "start_time": "2021-09-05T14:51:10.734Z"
   },
   {
    "duration": 25,
    "start_time": "2021-09-05T14:51:10.787Z"
   },
   {
    "duration": 42,
    "start_time": "2021-09-05T14:51:10.813Z"
   },
   {
    "duration": 35,
    "start_time": "2021-09-05T14:51:10.857Z"
   },
   {
    "duration": 8,
    "start_time": "2021-09-05T14:51:10.893Z"
   },
   {
    "duration": 17,
    "start_time": "2021-09-05T14:51:10.902Z"
   },
   {
    "duration": 174,
    "start_time": "2021-09-05T14:51:10.921Z"
   },
   {
    "duration": -1324,
    "start_time": "2021-09-05T14:51:12.421Z"
   },
   {
    "duration": 7,
    "start_time": "2021-09-05T14:51:47.461Z"
   },
   {
    "duration": 7,
    "start_time": "2021-09-05T14:52:32.908Z"
   },
   {
    "duration": 5,
    "start_time": "2021-09-05T14:53:28.833Z"
   },
   {
    "duration": 14,
    "start_time": "2021-09-05T14:54:07.647Z"
   },
   {
    "duration": 13,
    "start_time": "2021-09-05T14:54:30.199Z"
   },
   {
    "duration": 5,
    "start_time": "2021-09-05T14:55:38.421Z"
   },
   {
    "duration": 422,
    "start_time": "2021-09-05T14:55:38.428Z"
   },
   {
    "duration": 20,
    "start_time": "2021-09-05T14:55:38.852Z"
   },
   {
    "duration": 7,
    "start_time": "2021-09-05T14:55:38.874Z"
   },
   {
    "duration": 20,
    "start_time": "2021-09-05T14:55:38.882Z"
   },
   {
    "duration": 8,
    "start_time": "2021-09-05T14:55:38.903Z"
   },
   {
    "duration": 5,
    "start_time": "2021-09-05T14:55:38.913Z"
   },
   {
    "duration": 14,
    "start_time": "2021-09-05T14:55:38.920Z"
   },
   {
    "duration": 6,
    "start_time": "2021-09-05T14:55:38.937Z"
   },
   {
    "duration": 7,
    "start_time": "2021-09-05T14:55:38.945Z"
   },
   {
    "duration": 34,
    "start_time": "2021-09-05T14:55:38.953Z"
   },
   {
    "duration": 8,
    "start_time": "2021-09-05T14:55:38.988Z"
   },
   {
    "duration": 10,
    "start_time": "2021-09-05T14:55:38.998Z"
   },
   {
    "duration": 8,
    "start_time": "2021-09-05T14:55:39.010Z"
   },
   {
    "duration": 83,
    "start_time": "2021-09-05T14:55:39.019Z"
   },
   {
    "duration": 13,
    "start_time": "2021-09-05T14:55:39.104Z"
   },
   {
    "duration": 12,
    "start_time": "2021-09-05T14:55:39.118Z"
   },
   {
    "duration": 72,
    "start_time": "2021-09-05T14:55:39.131Z"
   },
   {
    "duration": 18,
    "start_time": "2021-09-05T14:55:39.205Z"
   },
   {
    "duration": 38,
    "start_time": "2021-09-05T14:55:39.225Z"
   },
   {
    "duration": 44,
    "start_time": "2021-09-05T14:55:39.264Z"
   },
   {
    "duration": 43,
    "start_time": "2021-09-05T14:55:39.310Z"
   },
   {
    "duration": 35,
    "start_time": "2021-09-05T14:55:39.355Z"
   },
   {
    "duration": 7,
    "start_time": "2021-09-05T14:55:39.392Z"
   },
   {
    "duration": 18,
    "start_time": "2021-09-05T14:55:39.401Z"
   },
   {
    "duration": 7,
    "start_time": "2021-09-05T14:55:39.420Z"
   },
   {
    "duration": 12,
    "start_time": "2021-09-05T14:55:39.430Z"
   },
   {
    "duration": 4,
    "start_time": "2021-09-05T14:59:19.667Z"
   },
   {
    "duration": 3,
    "start_time": "2021-09-05T15:03:06.377Z"
   },
   {
    "duration": 4,
    "start_time": "2021-09-05T15:03:23.285Z"
   },
   {
    "duration": 5,
    "start_time": "2021-09-05T15:05:37.822Z"
   },
   {
    "duration": 392,
    "start_time": "2021-09-05T15:05:37.829Z"
   },
   {
    "duration": 20,
    "start_time": "2021-09-05T15:05:38.223Z"
   },
   {
    "duration": 7,
    "start_time": "2021-09-05T15:05:38.245Z"
   },
   {
    "duration": 22,
    "start_time": "2021-09-05T15:05:38.253Z"
   },
   {
    "duration": 8,
    "start_time": "2021-09-05T15:05:38.276Z"
   },
   {
    "duration": 7,
    "start_time": "2021-09-05T15:05:38.285Z"
   },
   {
    "duration": 20,
    "start_time": "2021-09-05T15:05:38.294Z"
   },
   {
    "duration": 12,
    "start_time": "2021-09-05T15:05:38.315Z"
   },
   {
    "duration": 16,
    "start_time": "2021-09-05T15:05:38.329Z"
   },
   {
    "duration": 13,
    "start_time": "2021-09-05T15:05:38.346Z"
   },
   {
    "duration": 13,
    "start_time": "2021-09-05T15:05:38.360Z"
   },
   {
    "duration": 17,
    "start_time": "2021-09-05T15:05:38.374Z"
   },
   {
    "duration": 18,
    "start_time": "2021-09-05T15:05:38.392Z"
   },
   {
    "duration": 71,
    "start_time": "2021-09-05T15:05:38.411Z"
   },
   {
    "duration": 13,
    "start_time": "2021-09-05T15:05:38.485Z"
   },
   {
    "duration": 14,
    "start_time": "2021-09-05T15:05:38.499Z"
   },
   {
    "duration": 11,
    "start_time": "2021-09-05T15:05:38.515Z"
   },
   {
    "duration": 72,
    "start_time": "2021-09-05T15:05:38.527Z"
   },
   {
    "duration": 17,
    "start_time": "2021-09-05T15:05:38.601Z"
   },
   {
    "duration": 35,
    "start_time": "2021-09-05T15:05:38.620Z"
   },
   {
    "duration": 49,
    "start_time": "2021-09-05T15:05:38.656Z"
   },
   {
    "duration": 43,
    "start_time": "2021-09-05T15:05:38.708Z"
   },
   {
    "duration": 16,
    "start_time": "2021-09-05T15:05:38.752Z"
   },
   {
    "duration": 9,
    "start_time": "2021-09-05T15:05:38.785Z"
   },
   {
    "duration": 22,
    "start_time": "2021-09-05T15:05:38.796Z"
   },
   {
    "duration": 8,
    "start_time": "2021-09-05T15:05:38.820Z"
   },
   {
    "duration": 13,
    "start_time": "2021-09-05T15:05:38.830Z"
   },
   {
    "duration": 16,
    "start_time": "2021-09-05T15:07:21.777Z"
   },
   {
    "duration": 9,
    "start_time": "2021-09-05T15:10:23.369Z"
   },
   {
    "duration": 7,
    "start_time": "2021-09-05T15:11:44.141Z"
   },
   {
    "duration": 26,
    "start_time": "2021-09-05T15:24:23.333Z"
   },
   {
    "duration": 570,
    "start_time": "2021-09-05T15:25:45.036Z"
   },
   {
    "duration": 25,
    "start_time": "2021-09-05T15:25:56.165Z"
   },
   {
    "duration": 29,
    "start_time": "2021-09-05T15:26:14.571Z"
   },
   {
    "duration": 9,
    "start_time": "2021-09-05T15:28:12.004Z"
   },
   {
    "duration": 23,
    "start_time": "2021-09-05T15:28:50.057Z"
   },
   {
    "duration": 5,
    "start_time": "2021-09-05T15:29:41.259Z"
   },
   {
    "duration": 433,
    "start_time": "2021-09-05T15:29:41.265Z"
   },
   {
    "duration": 19,
    "start_time": "2021-09-05T15:29:41.700Z"
   },
   {
    "duration": 6,
    "start_time": "2021-09-05T15:29:41.721Z"
   },
   {
    "duration": 17,
    "start_time": "2021-09-05T15:29:41.730Z"
   },
   {
    "duration": 7,
    "start_time": "2021-09-05T15:29:41.749Z"
   },
   {
    "duration": 6,
    "start_time": "2021-09-05T15:29:41.757Z"
   },
   {
    "duration": 31,
    "start_time": "2021-09-05T15:29:41.765Z"
   },
   {
    "duration": 6,
    "start_time": "2021-09-05T15:29:41.799Z"
   },
   {
    "duration": 7,
    "start_time": "2021-09-05T15:29:41.807Z"
   },
   {
    "duration": 10,
    "start_time": "2021-09-05T15:29:41.815Z"
   },
   {
    "duration": 7,
    "start_time": "2021-09-05T15:29:41.826Z"
   },
   {
    "duration": 10,
    "start_time": "2021-09-05T15:29:41.835Z"
   },
   {
    "duration": 7,
    "start_time": "2021-09-05T15:29:41.847Z"
   },
   {
    "duration": 90,
    "start_time": "2021-09-05T15:29:41.855Z"
   },
   {
    "duration": 14,
    "start_time": "2021-09-05T15:29:41.946Z"
   },
   {
    "duration": 26,
    "start_time": "2021-09-05T15:29:41.961Z"
   },
   {
    "duration": 9,
    "start_time": "2021-09-05T15:29:41.988Z"
   },
   {
    "duration": 57,
    "start_time": "2021-09-05T15:29:41.999Z"
   },
   {
    "duration": 33,
    "start_time": "2021-09-05T15:29:42.058Z"
   },
   {
    "duration": 34,
    "start_time": "2021-09-05T15:29:42.093Z"
   },
   {
    "duration": 24,
    "start_time": "2021-09-05T15:29:42.129Z"
   },
   {
    "duration": 62,
    "start_time": "2021-09-05T15:29:42.154Z"
   },
   {
    "duration": 15,
    "start_time": "2021-09-05T15:29:42.218Z"
   },
   {
    "duration": 8,
    "start_time": "2021-09-05T15:29:42.235Z"
   },
   {
    "duration": 8,
    "start_time": "2021-09-05T15:29:42.245Z"
   },
   {
    "duration": 39,
    "start_time": "2021-09-05T15:29:42.256Z"
   },
   {
    "duration": 11,
    "start_time": "2021-09-05T15:29:42.296Z"
   },
   {
    "duration": 14,
    "start_time": "2021-09-05T15:29:42.309Z"
   },
   {
    "duration": 4,
    "start_time": "2021-09-05T15:49:59.992Z"
   },
   {
    "duration": 80,
    "start_time": "2021-09-05T15:50:02.996Z"
   },
   {
    "duration": 77,
    "start_time": "2021-09-05T15:50:13.743Z"
   },
   {
    "duration": 81,
    "start_time": "2021-09-05T15:50:33.675Z"
   },
   {
    "duration": 58,
    "start_time": "2021-09-05T15:52:26.048Z"
   },
   {
    "duration": 84,
    "start_time": "2021-09-05T15:52:33.493Z"
   },
   {
    "duration": 81,
    "start_time": "2021-09-05T15:52:50.078Z"
   },
   {
    "duration": 86,
    "start_time": "2021-09-05T15:53:17.669Z"
   },
   {
    "duration": 82,
    "start_time": "2021-09-05T15:56:15.999Z"
   },
   {
    "duration": 80,
    "start_time": "2021-09-05T15:56:29.433Z"
   },
   {
    "duration": 80,
    "start_time": "2021-09-05T15:59:14.483Z"
   },
   {
    "duration": 3,
    "start_time": "2021-09-05T16:01:30.308Z"
   },
   {
    "duration": 80,
    "start_time": "2021-09-05T16:01:33.041Z"
   },
   {
    "duration": 3,
    "start_time": "2021-09-05T16:01:48.611Z"
   },
   {
    "duration": 83,
    "start_time": "2021-09-05T16:02:23.688Z"
   },
   {
    "duration": 3,
    "start_time": "2021-09-05T16:05:11.432Z"
   },
   {
    "duration": 92,
    "start_time": "2021-09-05T16:05:14.951Z"
   },
   {
    "duration": 3,
    "start_time": "2021-09-05T16:09:07.019Z"
   },
   {
    "duration": 99,
    "start_time": "2021-09-05T16:09:44.824Z"
   },
   {
    "duration": 5,
    "start_time": "2021-09-05T16:11:55.153Z"
   },
   {
    "duration": 403,
    "start_time": "2021-09-05T16:11:55.160Z"
   },
   {
    "duration": 18,
    "start_time": "2021-09-05T16:11:55.565Z"
   },
   {
    "duration": 7,
    "start_time": "2021-09-05T16:11:55.585Z"
   },
   {
    "duration": 18,
    "start_time": "2021-09-05T16:11:55.594Z"
   },
   {
    "duration": 7,
    "start_time": "2021-09-05T16:11:55.614Z"
   },
   {
    "duration": 5,
    "start_time": "2021-09-05T16:11:55.623Z"
   },
   {
    "duration": 15,
    "start_time": "2021-09-05T16:11:55.630Z"
   },
   {
    "duration": 6,
    "start_time": "2021-09-05T16:11:55.647Z"
   },
   {
    "duration": 31,
    "start_time": "2021-09-05T16:11:55.654Z"
   },
   {
    "duration": 7,
    "start_time": "2021-09-05T16:11:55.687Z"
   },
   {
    "duration": 8,
    "start_time": "2021-09-05T16:11:55.695Z"
   },
   {
    "duration": 10,
    "start_time": "2021-09-05T16:11:55.705Z"
   },
   {
    "duration": 11,
    "start_time": "2021-09-05T16:11:55.717Z"
   },
   {
    "duration": 90,
    "start_time": "2021-09-05T16:11:55.730Z"
   },
   {
    "duration": 14,
    "start_time": "2021-09-05T16:11:55.822Z"
   },
   {
    "duration": 11,
    "start_time": "2021-09-05T16:11:55.838Z"
   },
   {
    "duration": 6,
    "start_time": "2021-09-05T16:11:55.850Z"
   },
   {
    "duration": 61,
    "start_time": "2021-09-05T16:11:55.885Z"
   },
   {
    "duration": 16,
    "start_time": "2021-09-05T16:11:55.948Z"
   },
   {
    "duration": 50,
    "start_time": "2021-09-05T16:11:55.966Z"
   },
   {
    "duration": 24,
    "start_time": "2021-09-05T16:11:56.018Z"
   },
   {
    "duration": 58,
    "start_time": "2021-09-05T16:11:56.043Z"
   },
   {
    "duration": 15,
    "start_time": "2021-09-05T16:11:56.103Z"
   },
   {
    "duration": 8,
    "start_time": "2021-09-05T16:11:56.119Z"
   },
   {
    "duration": 10,
    "start_time": "2021-09-05T16:11:56.128Z"
   },
   {
    "duration": 17,
    "start_time": "2021-09-05T16:11:56.140Z"
   },
   {
    "duration": 36,
    "start_time": "2021-09-05T16:11:56.158Z"
   },
   {
    "duration": 15,
    "start_time": "2021-09-05T16:11:56.195Z"
   },
   {
    "duration": 4,
    "start_time": "2021-09-05T16:11:56.211Z"
   },
   {
    "duration": 109,
    "start_time": "2021-09-05T16:11:56.216Z"
   },
   {
    "duration": 2,
    "start_time": "2021-09-05T16:11:56.327Z"
   },
   {
    "duration": 91,
    "start_time": "2021-09-05T16:11:56.331Z"
   },
   {
    "duration": 3,
    "start_time": "2021-09-05T16:11:56.424Z"
   },
   {
    "duration": 93,
    "start_time": "2021-09-05T16:11:56.428Z"
   },
   {
    "duration": 2,
    "start_time": "2021-09-05T16:11:56.523Z"
   },
   {
    "duration": 108,
    "start_time": "2021-09-05T16:11:56.526Z"
   },
   {
    "duration": 96,
    "start_time": "2021-09-05T16:13:38.955Z"
   },
   {
    "duration": 103,
    "start_time": "2021-09-05T16:14:39.121Z"
   },
   {
    "duration": 102,
    "start_time": "2021-09-05T16:14:56.508Z"
   },
   {
    "duration": 83,
    "start_time": "2021-09-05T16:17:02.638Z"
   },
   {
    "duration": 103,
    "start_time": "2021-09-05T16:17:12.848Z"
   },
   {
    "duration": 655,
    "start_time": "2021-09-06T09:02:44.300Z"
   },
   {
    "duration": 1521,
    "start_time": "2021-09-06T09:02:53.367Z"
   },
   {
    "duration": 537,
    "start_time": "2021-09-06T09:02:54.891Z"
   },
   {
    "duration": 27,
    "start_time": "2021-09-06T09:02:55.431Z"
   },
   {
    "duration": 21,
    "start_time": "2021-09-06T09:02:55.460Z"
   },
   {
    "duration": 22,
    "start_time": "2021-09-06T09:02:55.484Z"
   },
   {
    "duration": 13,
    "start_time": "2021-09-06T09:02:55.508Z"
   },
   {
    "duration": 43,
    "start_time": "2021-09-06T09:02:55.523Z"
   },
   {
    "duration": 24,
    "start_time": "2021-09-06T09:02:55.571Z"
   },
   {
    "duration": 9,
    "start_time": "2021-09-06T09:02:55.598Z"
   },
   {
    "duration": 12,
    "start_time": "2021-09-06T09:02:55.609Z"
   },
   {
    "duration": 46,
    "start_time": "2021-09-06T09:02:55.623Z"
   },
   {
    "duration": 10,
    "start_time": "2021-09-06T09:02:55.672Z"
   },
   {
    "duration": 21,
    "start_time": "2021-09-06T09:02:55.683Z"
   },
   {
    "duration": 12,
    "start_time": "2021-09-06T09:02:55.707Z"
   },
   {
    "duration": 140,
    "start_time": "2021-09-06T09:02:55.722Z"
   },
   {
    "duration": 22,
    "start_time": "2021-09-06T09:02:55.864Z"
   },
   {
    "duration": 16,
    "start_time": "2021-09-06T09:02:55.888Z"
   },
   {
    "duration": 9,
    "start_time": "2021-09-06T09:02:55.907Z"
   },
   {
    "duration": 129,
    "start_time": "2021-09-06T09:02:55.918Z"
   },
   {
    "duration": 34,
    "start_time": "2021-09-06T09:02:56.049Z"
   },
   {
    "duration": 53,
    "start_time": "2021-09-06T09:02:56.086Z"
   },
   {
    "duration": 36,
    "start_time": "2021-09-06T09:02:56.163Z"
   },
   {
    "duration": 97,
    "start_time": "2021-09-06T09:02:56.204Z"
   },
   {
    "duration": 23,
    "start_time": "2021-09-06T09:02:56.304Z"
   },
   {
    "duration": 12,
    "start_time": "2021-09-06T09:02:56.330Z"
   },
   {
    "duration": 29,
    "start_time": "2021-09-06T09:02:56.344Z"
   },
   {
    "duration": 25,
    "start_time": "2021-09-06T09:02:56.377Z"
   },
   {
    "duration": 18,
    "start_time": "2021-09-06T09:02:56.404Z"
   },
   {
    "duration": 55,
    "start_time": "2021-09-06T09:02:56.425Z"
   },
   {
    "duration": 5,
    "start_time": "2021-09-06T09:02:56.482Z"
   },
   {
    "duration": 173,
    "start_time": "2021-09-06T09:02:56.490Z"
   },
   {
    "duration": 5,
    "start_time": "2021-09-06T09:02:56.666Z"
   },
   {
    "duration": 160,
    "start_time": "2021-09-06T09:02:56.673Z"
   },
   {
    "duration": 4,
    "start_time": "2021-09-06T09:02:56.835Z"
   },
   {
    "duration": 166,
    "start_time": "2021-09-06T09:02:56.842Z"
   },
   {
    "duration": 4,
    "start_time": "2021-09-06T09:02:57.010Z"
   },
   {
    "duration": 190,
    "start_time": "2021-09-06T09:02:57.017Z"
   },
   {
    "duration": 2641,
    "start_time": "2021-09-06T09:02:57.210Z"
   },
   {
    "duration": 2565,
    "start_time": "2021-09-06T09:03:37.114Z"
   },
   {
    "duration": 7,
    "start_time": "2021-09-06T09:03:46.178Z"
   },
   {
    "duration": 575,
    "start_time": "2021-09-06T09:03:46.188Z"
   },
   {
    "duration": 27,
    "start_time": "2021-09-06T09:03:46.766Z"
   },
   {
    "duration": 23,
    "start_time": "2021-09-06T09:03:46.796Z"
   },
   {
    "duration": 41,
    "start_time": "2021-09-06T09:03:46.821Z"
   },
   {
    "duration": 11,
    "start_time": "2021-09-06T09:03:46.864Z"
   },
   {
    "duration": 25,
    "start_time": "2021-09-06T09:03:46.878Z"
   },
   {
    "duration": 35,
    "start_time": "2021-09-06T09:03:46.906Z"
   },
   {
    "duration": 25,
    "start_time": "2021-09-06T09:03:46.944Z"
   },
   {
    "duration": 27,
    "start_time": "2021-09-06T09:03:46.971Z"
   },
   {
    "duration": 24,
    "start_time": "2021-09-06T09:03:47.000Z"
   },
   {
    "duration": 28,
    "start_time": "2021-09-06T09:03:47.026Z"
   },
   {
    "duration": 37,
    "start_time": "2021-09-06T09:03:47.056Z"
   },
   {
    "duration": 14,
    "start_time": "2021-09-06T09:03:47.095Z"
   },
   {
    "duration": 92,
    "start_time": "2021-09-06T09:03:47.112Z"
   },
   {
    "duration": 18,
    "start_time": "2021-09-06T09:03:47.207Z"
   },
   {
    "duration": 37,
    "start_time": "2021-09-06T09:03:47.227Z"
   },
   {
    "duration": 8,
    "start_time": "2021-09-06T09:03:47.267Z"
   },
   {
    "duration": 102,
    "start_time": "2021-09-06T09:03:47.277Z"
   },
   {
    "duration": 25,
    "start_time": "2021-09-06T09:03:47.382Z"
   },
   {
    "duration": 76,
    "start_time": "2021-09-06T09:03:47.409Z"
   },
   {
    "duration": 47,
    "start_time": "2021-09-06T09:03:47.488Z"
   },
   {
    "duration": 79,
    "start_time": "2021-09-06T09:03:47.562Z"
   },
   {
    "duration": 34,
    "start_time": "2021-09-06T09:03:47.644Z"
   },
   {
    "duration": 11,
    "start_time": "2021-09-06T09:03:47.681Z"
   },
   {
    "duration": 14,
    "start_time": "2021-09-06T09:03:47.694Z"
   },
   {
    "duration": 53,
    "start_time": "2021-09-06T09:03:47.711Z"
   },
   {
    "duration": 20,
    "start_time": "2021-09-06T09:03:47.766Z"
   },
   {
    "duration": 23,
    "start_time": "2021-09-06T09:03:47.789Z"
   },
   {
    "duration": 4,
    "start_time": "2021-09-06T09:03:47.814Z"
   },
   {
    "duration": 188,
    "start_time": "2021-09-06T09:03:47.821Z"
   },
   {
    "duration": 4,
    "start_time": "2021-09-06T09:03:48.011Z"
   },
   {
    "duration": 150,
    "start_time": "2021-09-06T09:03:48.017Z"
   },
   {
    "duration": 4,
    "start_time": "2021-09-06T09:03:48.169Z"
   },
   {
    "duration": 167,
    "start_time": "2021-09-06T09:03:48.175Z"
   },
   {
    "duration": 3,
    "start_time": "2021-09-06T09:03:48.345Z"
   },
   {
    "duration": 182,
    "start_time": "2021-09-06T09:03:48.361Z"
   },
   {
    "duration": 2558,
    "start_time": "2021-09-06T09:03:48.545Z"
   },
   {
    "duration": 7,
    "start_time": "2021-09-06T09:04:22.975Z"
   },
   {
    "duration": 567,
    "start_time": "2021-09-06T09:04:22.986Z"
   },
   {
    "duration": 28,
    "start_time": "2021-09-06T09:04:23.557Z"
   },
   {
    "duration": 12,
    "start_time": "2021-09-06T09:04:23.589Z"
   },
   {
    "duration": 28,
    "start_time": "2021-09-06T09:04:23.604Z"
   },
   {
    "duration": 13,
    "start_time": "2021-09-06T09:04:23.663Z"
   },
   {
    "duration": 10,
    "start_time": "2021-09-06T09:04:23.679Z"
   },
   {
    "duration": 21,
    "start_time": "2021-09-06T09:04:23.694Z"
   },
   {
    "duration": 51,
    "start_time": "2021-09-06T09:04:23.719Z"
   },
   {
    "duration": 11,
    "start_time": "2021-09-06T09:04:23.773Z"
   },
   {
    "duration": 134,
    "start_time": "2021-09-06T09:04:23.787Z"
   },
   {
    "duration": 12,
    "start_time": "2021-09-06T09:04:23.924Z"
   },
   {
    "duration": 38,
    "start_time": "2021-09-06T09:04:23.939Z"
   },
   {
    "duration": 9,
    "start_time": "2021-09-06T09:04:23.980Z"
   },
   {
    "duration": 117,
    "start_time": "2021-09-06T09:04:23.991Z"
   },
   {
    "duration": 18,
    "start_time": "2021-09-06T09:04:24.111Z"
   },
   {
    "duration": 34,
    "start_time": "2021-09-06T09:04:24.132Z"
   },
   {
    "duration": 6,
    "start_time": "2021-09-06T09:04:24.169Z"
   },
   {
    "duration": 96,
    "start_time": "2021-09-06T09:04:24.177Z"
   },
   {
    "duration": 25,
    "start_time": "2021-09-06T09:04:24.276Z"
   },
   {
    "duration": 72,
    "start_time": "2021-09-06T09:04:24.303Z"
   },
   {
    "duration": 34,
    "start_time": "2021-09-06T09:04:24.377Z"
   },
   {
    "duration": 77,
    "start_time": "2021-09-06T09:04:24.415Z"
   },
   {
    "duration": 22,
    "start_time": "2021-09-06T09:04:24.495Z"
   },
   {
    "duration": 12,
    "start_time": "2021-09-06T09:04:24.519Z"
   },
   {
    "duration": 38,
    "start_time": "2021-09-06T09:04:24.533Z"
   },
   {
    "duration": 31,
    "start_time": "2021-09-06T09:04:24.574Z"
   },
   {
    "duration": 24,
    "start_time": "2021-09-06T09:04:24.609Z"
   },
   {
    "duration": 24,
    "start_time": "2021-09-06T09:04:24.662Z"
   },
   {
    "duration": 4,
    "start_time": "2021-09-06T09:04:24.688Z"
   },
   {
    "duration": 162,
    "start_time": "2021-09-06T09:04:24.694Z"
   },
   {
    "duration": 4,
    "start_time": "2021-09-06T09:04:24.862Z"
   },
   {
    "duration": 150,
    "start_time": "2021-09-06T09:04:24.869Z"
   },
   {
    "duration": 4,
    "start_time": "2021-09-06T09:04:25.021Z"
   },
   {
    "duration": 148,
    "start_time": "2021-09-06T09:04:25.028Z"
   },
   {
    "duration": 4,
    "start_time": "2021-09-06T09:04:25.179Z"
   },
   {
    "duration": 187,
    "start_time": "2021-09-06T09:04:25.185Z"
   },
   {
    "duration": 3196,
    "start_time": "2021-09-06T09:04:25.375Z"
   },
   {
    "duration": 2926,
    "start_time": "2021-09-06T09:04:57.381Z"
   },
   {
    "duration": 4,
    "start_time": "2021-09-06T09:06:10.802Z"
   },
   {
    "duration": 541,
    "start_time": "2021-09-06T09:06:10.812Z"
   },
   {
    "duration": 28,
    "start_time": "2021-09-06T09:06:11.355Z"
   },
   {
    "duration": 14,
    "start_time": "2021-09-06T09:06:11.387Z"
   },
   {
    "duration": 23,
    "start_time": "2021-09-06T09:06:11.405Z"
   },
   {
    "duration": 12,
    "start_time": "2021-09-06T09:06:11.462Z"
   },
   {
    "duration": 19,
    "start_time": "2021-09-06T09:06:11.476Z"
   },
   {
    "duration": 27,
    "start_time": "2021-09-06T09:06:11.498Z"
   },
   {
    "duration": 10,
    "start_time": "2021-09-06T09:06:11.529Z"
   },
   {
    "duration": 27,
    "start_time": "2021-09-06T09:06:11.541Z"
   },
   {
    "duration": 16,
    "start_time": "2021-09-06T09:06:11.571Z"
   },
   {
    "duration": 16,
    "start_time": "2021-09-06T09:06:11.589Z"
   },
   {
    "duration": 17,
    "start_time": "2021-09-06T09:06:11.608Z"
   },
   {
    "duration": 41,
    "start_time": "2021-09-06T09:06:11.628Z"
   },
   {
    "duration": 107,
    "start_time": "2021-09-06T09:06:11.672Z"
   },
   {
    "duration": 20,
    "start_time": "2021-09-06T09:06:11.782Z"
   },
   {
    "duration": 16,
    "start_time": "2021-09-06T09:06:11.804Z"
   },
   {
    "duration": 10,
    "start_time": "2021-09-06T09:06:11.823Z"
   },
   {
    "duration": 108,
    "start_time": "2021-09-06T09:06:11.835Z"
   },
   {
    "duration": 40,
    "start_time": "2021-09-06T09:06:11.945Z"
   },
   {
    "duration": 75,
    "start_time": "2021-09-06T09:06:11.987Z"
   },
   {
    "duration": 36,
    "start_time": "2021-09-06T09:06:12.064Z"
   },
   {
    "duration": 79,
    "start_time": "2021-09-06T09:06:12.103Z"
   },
   {
    "duration": 24,
    "start_time": "2021-09-06T09:06:12.187Z"
   },
   {
    "duration": 12,
    "start_time": "2021-09-06T09:06:12.214Z"
   },
   {
    "duration": 40,
    "start_time": "2021-09-06T09:06:12.228Z"
   },
   {
    "duration": 25,
    "start_time": "2021-09-06T09:06:12.270Z"
   },
   {
    "duration": 18,
    "start_time": "2021-09-06T09:06:12.298Z"
   },
   {
    "duration": 59,
    "start_time": "2021-09-06T09:06:12.318Z"
   },
   {
    "duration": 5,
    "start_time": "2021-09-06T09:06:12.379Z"
   },
   {
    "duration": 155,
    "start_time": "2021-09-06T09:06:12.386Z"
   },
   {
    "duration": 4,
    "start_time": "2021-09-06T09:06:12.544Z"
   },
   {
    "duration": 145,
    "start_time": "2021-09-06T09:06:12.562Z"
   },
   {
    "duration": 4,
    "start_time": "2021-09-06T09:06:12.710Z"
   },
   {
    "duration": 155,
    "start_time": "2021-09-06T09:06:12.716Z"
   },
   {
    "duration": 4,
    "start_time": "2021-09-06T09:06:12.873Z"
   },
   {
    "duration": 188,
    "start_time": "2021-09-06T09:06:12.879Z"
   },
   {
    "duration": 3002,
    "start_time": "2021-09-06T09:06:13.070Z"
   },
   {
    "duration": 2912,
    "start_time": "2021-09-06T09:06:53.391Z"
   },
   {
    "duration": 3079,
    "start_time": "2021-09-06T09:08:24.940Z"
   },
   {
    "duration": 4,
    "start_time": "2021-09-06T09:08:36.449Z"
   },
   {
    "duration": 524,
    "start_time": "2021-09-06T09:08:36.456Z"
   },
   {
    "duration": 26,
    "start_time": "2021-09-06T09:08:36.984Z"
   },
   {
    "duration": 25,
    "start_time": "2021-09-06T09:08:37.013Z"
   },
   {
    "duration": 25,
    "start_time": "2021-09-06T09:08:37.040Z"
   },
   {
    "duration": 11,
    "start_time": "2021-09-06T09:08:37.067Z"
   },
   {
    "duration": 6,
    "start_time": "2021-09-06T09:08:37.081Z"
   },
   {
    "duration": 24,
    "start_time": "2021-09-06T09:08:37.090Z"
   },
   {
    "duration": 9,
    "start_time": "2021-09-06T09:08:37.116Z"
   },
   {
    "duration": 9,
    "start_time": "2021-09-06T09:08:37.161Z"
   },
   {
    "duration": 15,
    "start_time": "2021-09-06T09:08:37.173Z"
   },
   {
    "duration": 11,
    "start_time": "2021-09-06T09:08:37.190Z"
   },
   {
    "duration": 16,
    "start_time": "2021-09-06T09:08:37.203Z"
   },
   {
    "duration": 41,
    "start_time": "2021-09-06T09:08:37.222Z"
   },
   {
    "duration": 108,
    "start_time": "2021-09-06T09:08:37.266Z"
   },
   {
    "duration": 18,
    "start_time": "2021-09-06T09:08:37.377Z"
   },
   {
    "duration": 14,
    "start_time": "2021-09-06T09:08:37.398Z"
   },
   {
    "duration": 9,
    "start_time": "2021-09-06T09:08:37.415Z"
   },
   {
    "duration": 82,
    "start_time": "2021-09-06T09:08:37.461Z"
   },
   {
    "duration": 38,
    "start_time": "2021-09-06T09:08:37.545Z"
   },
   {
    "duration": 52,
    "start_time": "2021-09-06T09:08:37.585Z"
   },
   {
    "duration": 54,
    "start_time": "2021-09-06T09:08:37.640Z"
   },
   {
    "duration": 81,
    "start_time": "2021-09-06T09:08:37.696Z"
   },
   {
    "duration": 22,
    "start_time": "2021-09-06T09:08:37.780Z"
   },
   {
    "duration": 12,
    "start_time": "2021-09-06T09:08:37.805Z"
   },
   {
    "duration": 45,
    "start_time": "2021-09-06T09:08:37.820Z"
   },
   {
    "duration": 25,
    "start_time": "2021-09-06T09:08:37.868Z"
   },
   {
    "duration": 18,
    "start_time": "2021-09-06T09:08:37.895Z"
   },
   {
    "duration": 55,
    "start_time": "2021-09-06T09:08:37.915Z"
   },
   {
    "duration": 4,
    "start_time": "2021-09-06T09:08:37.972Z"
   },
   {
    "duration": 150,
    "start_time": "2021-09-06T09:08:37.978Z"
   },
   {
    "duration": 4,
    "start_time": "2021-09-06T09:08:38.131Z"
   },
   {
    "duration": 157,
    "start_time": "2021-09-06T09:08:38.137Z"
   },
   {
    "duration": 4,
    "start_time": "2021-09-06T09:08:38.297Z"
   },
   {
    "duration": 161,
    "start_time": "2021-09-06T09:08:38.303Z"
   },
   {
    "duration": 4,
    "start_time": "2021-09-06T09:08:38.467Z"
   },
   {
    "duration": 190,
    "start_time": "2021-09-06T09:08:38.473Z"
   },
   {
    "duration": 2941,
    "start_time": "2021-09-06T09:08:38.665Z"
   },
   {
    "duration": 4,
    "start_time": "2021-09-06T09:09:07.040Z"
   },
   {
    "duration": 570,
    "start_time": "2021-09-06T09:09:07.047Z"
   },
   {
    "duration": 26,
    "start_time": "2021-09-06T09:09:07.620Z"
   },
   {
    "duration": 12,
    "start_time": "2021-09-06T09:09:07.649Z"
   },
   {
    "duration": 35,
    "start_time": "2021-09-06T09:09:07.663Z"
   },
   {
    "duration": 10,
    "start_time": "2021-09-06T09:09:07.701Z"
   },
   {
    "duration": 8,
    "start_time": "2021-09-06T09:09:07.715Z"
   },
   {
    "duration": 36,
    "start_time": "2021-09-06T09:09:07.727Z"
   },
   {
    "duration": 10,
    "start_time": "2021-09-06T09:09:07.767Z"
   },
   {
    "duration": 15,
    "start_time": "2021-09-06T09:09:07.780Z"
   },
   {
    "duration": 25,
    "start_time": "2021-09-06T09:09:07.797Z"
   },
   {
    "duration": 14,
    "start_time": "2021-09-06T09:09:07.824Z"
   },
   {
    "duration": 15,
    "start_time": "2021-09-06T09:09:07.862Z"
   },
   {
    "duration": 17,
    "start_time": "2021-09-06T09:09:07.880Z"
   },
   {
    "duration": 116,
    "start_time": "2021-09-06T09:09:07.899Z"
   },
   {
    "duration": 18,
    "start_time": "2021-09-06T09:09:08.018Z"
   },
   {
    "duration": 34,
    "start_time": "2021-09-06T09:09:08.039Z"
   },
   {
    "duration": 13,
    "start_time": "2021-09-06T09:09:08.076Z"
   },
   {
    "duration": 106,
    "start_time": "2021-09-06T09:09:08.093Z"
   },
   {
    "duration": 25,
    "start_time": "2021-09-06T09:09:08.202Z"
   },
   {
    "duration": 69,
    "start_time": "2021-09-06T09:09:08.230Z"
   },
   {
    "duration": 33,
    "start_time": "2021-09-06T09:09:08.301Z"
   },
   {
    "duration": 82,
    "start_time": "2021-09-06T09:09:08.337Z"
   },
   {
    "duration": 41,
    "start_time": "2021-09-06T09:09:08.421Z"
   },
   {
    "duration": 12,
    "start_time": "2021-09-06T09:09:08.464Z"
   },
   {
    "duration": 28,
    "start_time": "2021-09-06T09:09:08.478Z"
   },
   {
    "duration": 32,
    "start_time": "2021-09-06T09:09:08.509Z"
   },
   {
    "duration": 36,
    "start_time": "2021-09-06T09:09:08.543Z"
   },
   {
    "duration": 24,
    "start_time": "2021-09-06T09:09:08.581Z"
   },
   {
    "duration": 4,
    "start_time": "2021-09-06T09:09:08.607Z"
   },
   {
    "duration": 171,
    "start_time": "2021-09-06T09:09:08.613Z"
   },
   {
    "duration": 4,
    "start_time": "2021-09-06T09:09:08.786Z"
   },
   {
    "duration": 156,
    "start_time": "2021-09-06T09:09:08.792Z"
   },
   {
    "duration": 11,
    "start_time": "2021-09-06T09:09:08.950Z"
   },
   {
    "duration": 148,
    "start_time": "2021-09-06T09:09:08.964Z"
   },
   {
    "duration": 3,
    "start_time": "2021-09-06T09:09:09.115Z"
   },
   {
    "duration": 196,
    "start_time": "2021-09-06T09:09:09.120Z"
   },
   {
    "duration": 3066,
    "start_time": "2021-09-06T09:09:09.318Z"
   },
   {
    "duration": 405,
    "start_time": "2021-09-06T14:23:49.970Z"
   },
   {
    "duration": 392,
    "start_time": "2021-09-06T14:24:43.005Z"
   },
   {
    "duration": 387,
    "start_time": "2021-09-06T14:25:07.382Z"
   },
   {
    "duration": 376,
    "start_time": "2021-09-06T14:27:06.515Z"
   },
   {
    "duration": 11,
    "start_time": "2021-09-06T14:27:23.728Z"
   },
   {
    "duration": 11,
    "start_time": "2021-09-06T14:29:01.477Z"
   },
   {
    "duration": 162,
    "start_time": "2021-09-06T14:29:30.531Z"
   },
   {
    "duration": 10,
    "start_time": "2021-09-06T14:29:39.444Z"
   },
   {
    "duration": 719,
    "start_time": "2021-09-06T14:32:11.406Z"
   },
   {
    "duration": 1050,
    "start_time": "2021-09-06T14:34:28.663Z"
   },
   {
    "duration": 674,
    "start_time": "2021-09-06T14:57:28.159Z"
   },
   {
    "duration": 664,
    "start_time": "2021-09-06T14:57:37.025Z"
   },
   {
    "duration": 408,
    "start_time": "2021-09-06T14:58:05.641Z"
   },
   {
    "duration": 1103,
    "start_time": "2021-09-06T15:06:51.030Z"
   },
   {
    "duration": 598,
    "start_time": "2021-09-06T15:07:17.091Z"
   },
   {
    "duration": 593,
    "start_time": "2021-09-06T15:08:22.346Z"
   },
   {
    "duration": 357,
    "start_time": "2021-09-06T15:17:12.471Z"
   },
   {
    "duration": 5,
    "start_time": "2021-09-06T15:17:48.053Z"
   },
   {
    "duration": 522,
    "start_time": "2021-09-06T15:17:48.062Z"
   },
   {
    "duration": 29,
    "start_time": "2021-09-06T15:17:48.587Z"
   },
   {
    "duration": 13,
    "start_time": "2021-09-06T15:17:48.621Z"
   },
   {
    "duration": 36,
    "start_time": "2021-09-06T15:17:48.637Z"
   },
   {
    "duration": 11,
    "start_time": "2021-09-06T15:17:48.676Z"
   },
   {
    "duration": 8,
    "start_time": "2021-09-06T15:17:48.689Z"
   },
   {
    "duration": 25,
    "start_time": "2021-09-06T15:17:48.698Z"
   },
   {
    "duration": 39,
    "start_time": "2021-09-06T15:17:48.725Z"
   },
   {
    "duration": 9,
    "start_time": "2021-09-06T15:17:48.768Z"
   },
   {
    "duration": 12,
    "start_time": "2021-09-06T15:17:48.780Z"
   },
   {
    "duration": 10,
    "start_time": "2021-09-06T15:17:48.795Z"
   },
   {
    "duration": 54,
    "start_time": "2021-09-06T15:17:48.808Z"
   },
   {
    "duration": 10,
    "start_time": "2021-09-06T15:17:48.864Z"
   },
   {
    "duration": 114,
    "start_time": "2021-09-06T15:17:48.876Z"
   },
   {
    "duration": 18,
    "start_time": "2021-09-06T15:17:48.993Z"
   },
   {
    "duration": 15,
    "start_time": "2021-09-06T15:17:49.014Z"
   },
   {
    "duration": 35,
    "start_time": "2021-09-06T15:17:49.032Z"
   },
   {
    "duration": 94,
    "start_time": "2021-09-06T15:17:49.070Z"
   },
   {
    "duration": 27,
    "start_time": "2021-09-06T15:17:49.167Z"
   },
   {
    "duration": 70,
    "start_time": "2021-09-06T15:17:49.197Z"
   },
   {
    "duration": 35,
    "start_time": "2021-09-06T15:17:49.270Z"
   },
   {
    "duration": 76,
    "start_time": "2021-09-06T15:17:49.307Z"
   },
   {
    "duration": 22,
    "start_time": "2021-09-06T15:17:49.385Z"
   },
   {
    "duration": 12,
    "start_time": "2021-09-06T15:17:49.409Z"
   },
   {
    "duration": 43,
    "start_time": "2021-09-06T15:17:49.423Z"
   },
   {
    "duration": 26,
    "start_time": "2021-09-06T15:17:49.469Z"
   },
   {
    "duration": 17,
    "start_time": "2021-09-06T15:17:49.500Z"
   },
   {
    "duration": 54,
    "start_time": "2021-09-06T15:17:49.519Z"
   },
   {
    "duration": 4,
    "start_time": "2021-09-06T15:17:49.576Z"
   },
   {
    "duration": 146,
    "start_time": "2021-09-06T15:17:49.582Z"
   },
   {
    "duration": 4,
    "start_time": "2021-09-06T15:17:49.730Z"
   },
   {
    "duration": 153,
    "start_time": "2021-09-06T15:17:49.736Z"
   },
   {
    "duration": 3,
    "start_time": "2021-09-06T15:17:49.892Z"
   },
   {
    "duration": 152,
    "start_time": "2021-09-06T15:17:49.897Z"
   },
   {
    "duration": 12,
    "start_time": "2021-09-06T15:17:50.051Z"
   },
   {
    "duration": 190,
    "start_time": "2021-09-06T15:17:50.066Z"
   },
   {
    "duration": 9,
    "start_time": "2021-09-06T15:17:50.262Z"
   },
   {
    "duration": 334,
    "start_time": "2021-09-06T15:17:50.273Z"
   },
   {
    "duration": -118,
    "start_time": "2021-09-06T15:17:50.728Z"
   },
   {
    "duration": -120,
    "start_time": "2021-09-06T15:17:50.732Z"
   },
   {
    "duration": 1102,
    "start_time": "2021-09-06T15:17:58.317Z"
   },
   {
    "duration": 1202,
    "start_time": "2021-09-06T15:18:17.982Z"
   },
   {
    "duration": 1047,
    "start_time": "2021-09-06T15:18:39.517Z"
   },
   {
    "duration": 4858,
    "start_time": "2021-09-06T15:19:00.733Z"
   },
   {
    "duration": 581,
    "start_time": "2021-09-06T15:19:46.446Z"
   },
   {
    "duration": 1878,
    "start_time": "2021-09-06T15:24:30.356Z"
   },
   {
    "duration": 15255,
    "start_time": "2021-09-06T15:27:06.300Z"
   },
   {
    "duration": 328,
    "start_time": "2021-09-06T15:44:55.739Z"
   },
   {
    "duration": 23,
    "start_time": "2021-09-06T15:45:08.653Z"
   },
   {
    "duration": 424,
    "start_time": "2021-09-06T15:45:17.368Z"
   },
   {
    "duration": 338,
    "start_time": "2021-09-06T15:46:55.513Z"
   },
   {
    "duration": 377,
    "start_time": "2021-09-06T15:47:01.650Z"
   },
   {
    "duration": 364,
    "start_time": "2021-09-06T15:47:09.284Z"
   },
   {
    "duration": 328,
    "start_time": "2021-09-06T15:47:26.960Z"
   },
   {
    "duration": 230,
    "start_time": "2021-09-06T15:47:57.631Z"
   },
   {
    "duration": 234,
    "start_time": "2021-09-06T15:48:58.955Z"
   },
   {
    "duration": 365,
    "start_time": "2021-09-06T15:49:09.035Z"
   },
   {
    "duration": 232,
    "start_time": "2021-09-06T15:49:14.646Z"
   },
   {
    "duration": 11,
    "start_time": "2021-09-06T16:07:05.916Z"
   },
   {
    "duration": 5,
    "start_time": "2021-09-06T16:07:12.356Z"
   },
   {
    "duration": 543,
    "start_time": "2021-09-06T16:07:12.364Z"
   },
   {
    "duration": 25,
    "start_time": "2021-09-06T16:07:12.910Z"
   },
   {
    "duration": 12,
    "start_time": "2021-09-06T16:07:12.938Z"
   },
   {
    "duration": 27,
    "start_time": "2021-09-06T16:07:12.953Z"
   },
   {
    "duration": 11,
    "start_time": "2021-09-06T16:07:12.983Z"
   },
   {
    "duration": 8,
    "start_time": "2021-09-06T16:07:12.996Z"
   },
   {
    "duration": 20,
    "start_time": "2021-09-06T16:07:13.007Z"
   },
   {
    "duration": 34,
    "start_time": "2021-09-06T16:07:13.030Z"
   },
   {
    "duration": 11,
    "start_time": "2021-09-06T16:07:13.067Z"
   },
   {
    "duration": 16,
    "start_time": "2021-09-06T16:07:13.081Z"
   },
   {
    "duration": 9,
    "start_time": "2021-09-06T16:07:13.100Z"
   },
   {
    "duration": 52,
    "start_time": "2021-09-06T16:07:13.112Z"
   },
   {
    "duration": 15,
    "start_time": "2021-09-06T16:07:13.166Z"
   },
   {
    "duration": 107,
    "start_time": "2021-09-06T16:07:13.183Z"
   },
   {
    "duration": 19,
    "start_time": "2021-09-06T16:07:13.293Z"
   },
   {
    "duration": 13,
    "start_time": "2021-09-06T16:07:13.315Z"
   },
   {
    "duration": 32,
    "start_time": "2021-09-06T16:07:13.331Z"
   },
   {
    "duration": 97,
    "start_time": "2021-09-06T16:07:13.366Z"
   },
   {
    "duration": 26,
    "start_time": "2021-09-06T16:07:13.466Z"
   },
   {
    "duration": 71,
    "start_time": "2021-09-06T16:07:13.495Z"
   },
   {
    "duration": 35,
    "start_time": "2021-09-06T16:07:13.569Z"
   },
   {
    "duration": 83,
    "start_time": "2021-09-06T16:07:13.610Z"
   },
   {
    "duration": 23,
    "start_time": "2021-09-06T16:07:13.696Z"
   },
   {
    "duration": 40,
    "start_time": "2021-09-06T16:07:13.722Z"
   },
   {
    "duration": 12,
    "start_time": "2021-09-06T16:07:13.764Z"
   },
   {
    "duration": 26,
    "start_time": "2021-09-06T16:07:13.779Z"
   },
   {
    "duration": 19,
    "start_time": "2021-09-06T16:07:13.808Z"
   },
   {
    "duration": 23,
    "start_time": "2021-09-06T16:07:13.862Z"
   },
   {
    "duration": 4,
    "start_time": "2021-09-06T16:07:13.888Z"
   },
   {
    "duration": 160,
    "start_time": "2021-09-06T16:07:13.894Z"
   },
   {
    "duration": 5,
    "start_time": "2021-09-06T16:07:14.057Z"
   },
   {
    "duration": 150,
    "start_time": "2021-09-06T16:07:14.065Z"
   },
   {
    "duration": 4,
    "start_time": "2021-09-06T16:07:14.218Z"
   },
   {
    "duration": 176,
    "start_time": "2021-09-06T16:07:14.224Z"
   },
   {
    "duration": 4,
    "start_time": "2021-09-06T16:07:14.402Z"
   },
   {
    "duration": 188,
    "start_time": "2021-09-06T16:07:14.410Z"
   },
   {
    "duration": 11,
    "start_time": "2021-09-06T16:07:14.601Z"
   },
   {
    "duration": 11,
    "start_time": "2021-09-06T16:07:39.823Z"
   },
   {
    "duration": 12,
    "start_time": "2021-09-06T16:07:44.293Z"
   },
   {
    "duration": 124,
    "start_time": "2021-09-06T16:09:12.591Z"
   },
   {
    "duration": 4,
    "start_time": "2021-09-06T16:09:44.168Z"
   },
   {
    "duration": 552,
    "start_time": "2021-09-06T16:09:44.174Z"
   },
   {
    "duration": 26,
    "start_time": "2021-09-06T16:09:44.728Z"
   },
   {
    "duration": 11,
    "start_time": "2021-09-06T16:09:44.756Z"
   },
   {
    "duration": 29,
    "start_time": "2021-09-06T16:09:44.770Z"
   },
   {
    "duration": 11,
    "start_time": "2021-09-06T16:09:44.801Z"
   },
   {
    "duration": 7,
    "start_time": "2021-09-06T16:09:44.815Z"
   },
   {
    "duration": 50,
    "start_time": "2021-09-06T16:09:44.826Z"
   },
   {
    "duration": 11,
    "start_time": "2021-09-06T16:09:44.879Z"
   },
   {
    "duration": 20,
    "start_time": "2021-09-06T16:09:44.893Z"
   },
   {
    "duration": 17,
    "start_time": "2021-09-06T16:09:44.915Z"
   },
   {
    "duration": 33,
    "start_time": "2021-09-06T16:09:44.934Z"
   },
   {
    "duration": 18,
    "start_time": "2021-09-06T16:09:44.969Z"
   },
   {
    "duration": 13,
    "start_time": "2021-09-06T16:09:44.989Z"
   },
   {
    "duration": 122,
    "start_time": "2021-09-06T16:09:45.005Z"
   },
   {
    "duration": 34,
    "start_time": "2021-09-06T16:09:45.130Z"
   },
   {
    "duration": 19,
    "start_time": "2021-09-06T16:09:45.167Z"
   },
   {
    "duration": 7,
    "start_time": "2021-09-06T16:09:45.189Z"
   },
   {
    "duration": 106,
    "start_time": "2021-09-06T16:09:45.199Z"
   },
   {
    "duration": 27,
    "start_time": "2021-09-06T16:09:45.308Z"
   },
   {
    "duration": 72,
    "start_time": "2021-09-06T16:09:45.338Z"
   },
   {
    "duration": 51,
    "start_time": "2021-09-06T16:09:45.412Z"
   },
   {
    "duration": 62,
    "start_time": "2021-09-06T16:09:45.468Z"
   },
   {
    "duration": 43,
    "start_time": "2021-09-06T16:09:45.533Z"
   },
   {
    "duration": 15,
    "start_time": "2021-09-06T16:09:45.579Z"
   },
   {
    "duration": 22,
    "start_time": "2021-09-06T16:09:45.597Z"
   },
   {
    "duration": 49,
    "start_time": "2021-09-06T16:09:45.621Z"
   },
   {
    "duration": 20,
    "start_time": "2021-09-06T16:09:45.673Z"
   },
   {
    "duration": 23,
    "start_time": "2021-09-06T16:09:45.696Z"
   },
   {
    "duration": 4,
    "start_time": "2021-09-06T16:09:45.722Z"
   },
   {
    "duration": 177,
    "start_time": "2021-09-06T16:09:45.728Z"
   },
   {
    "duration": 4,
    "start_time": "2021-09-06T16:09:45.907Z"
   },
   {
    "duration": 160,
    "start_time": "2021-09-06T16:09:45.915Z"
   },
   {
    "duration": 5,
    "start_time": "2021-09-06T16:09:46.078Z"
   },
   {
    "duration": 188,
    "start_time": "2021-09-06T16:09:46.086Z"
   },
   {
    "duration": 5,
    "start_time": "2021-09-06T16:09:46.277Z"
   },
   {
    "duration": 201,
    "start_time": "2021-09-06T16:09:46.286Z"
   },
   {
    "duration": 104,
    "start_time": "2021-09-06T16:09:46.490Z"
   },
   {
    "duration": 100,
    "start_time": "2021-09-06T16:09:56.078Z"
   },
   {
    "duration": 12,
    "start_time": "2021-09-06T16:10:17.934Z"
   },
   {
    "duration": 11,
    "start_time": "2021-09-06T16:12:49.864Z"
   },
   {
    "duration": 14,
    "start_time": "2021-09-06T16:14:26.662Z"
   },
   {
    "duration": 12,
    "start_time": "2021-09-06T16:16:12.427Z"
   },
   {
    "duration": 6,
    "start_time": "2021-09-06T16:24:34.180Z"
   },
   {
    "duration": 13,
    "start_time": "2021-09-06T16:28:42.955Z"
   },
   {
    "duration": 12,
    "start_time": "2021-09-06T16:32:04.542Z"
   },
   {
    "duration": 12,
    "start_time": "2021-09-06T19:01:21.964Z"
   },
   {
    "duration": 13,
    "start_time": "2021-09-06T19:01:24.881Z"
   },
   {
    "duration": 12,
    "start_time": "2021-09-06T19:02:23.259Z"
   },
   {
    "duration": 12,
    "start_time": "2021-09-06T19:04:06.827Z"
   },
   {
    "duration": 13,
    "start_time": "2021-09-06T19:04:43.064Z"
   },
   {
    "duration": 331,
    "start_time": "2021-09-06T19:12:26.990Z"
   },
   {
    "duration": 5,
    "start_time": "2021-09-06T19:12:45.935Z"
   },
   {
    "duration": 582,
    "start_time": "2021-09-06T19:12:45.943Z"
   },
   {
    "duration": 26,
    "start_time": "2021-09-06T19:12:46.528Z"
   },
   {
    "duration": 11,
    "start_time": "2021-09-06T19:12:46.557Z"
   },
   {
    "duration": 23,
    "start_time": "2021-09-06T19:12:46.570Z"
   },
   {
    "duration": 10,
    "start_time": "2021-09-06T19:12:46.596Z"
   },
   {
    "duration": 6,
    "start_time": "2021-09-06T19:12:46.610Z"
   },
   {
    "duration": 52,
    "start_time": "2021-09-06T19:12:46.619Z"
   },
   {
    "duration": 10,
    "start_time": "2021-09-06T19:12:46.674Z"
   },
   {
    "duration": 10,
    "start_time": "2021-09-06T19:12:46.686Z"
   },
   {
    "duration": 14,
    "start_time": "2021-09-06T19:12:46.698Z"
   },
   {
    "duration": 23,
    "start_time": "2021-09-06T19:12:46.715Z"
   },
   {
    "duration": 34,
    "start_time": "2021-09-06T19:12:46.740Z"
   },
   {
    "duration": 10,
    "start_time": "2021-09-06T19:12:46.777Z"
   },
   {
    "duration": 112,
    "start_time": "2021-09-06T19:12:46.789Z"
   },
   {
    "duration": 18,
    "start_time": "2021-09-06T19:12:46.904Z"
   },
   {
    "duration": 38,
    "start_time": "2021-09-06T19:12:46.924Z"
   },
   {
    "duration": 6,
    "start_time": "2021-09-06T19:12:46.964Z"
   },
   {
    "duration": 93,
    "start_time": "2021-09-06T19:12:46.975Z"
   },
   {
    "duration": 27,
    "start_time": "2021-09-06T19:12:47.071Z"
   },
   {
    "duration": 77,
    "start_time": "2021-09-06T19:12:47.100Z"
   },
   {
    "duration": 36,
    "start_time": "2021-09-06T19:12:47.180Z"
   },
   {
    "duration": 88,
    "start_time": "2021-09-06T19:12:47.219Z"
   },
   {
    "duration": 25,
    "start_time": "2021-09-06T19:12:47.310Z"
   },
   {
    "duration": 36,
    "start_time": "2021-09-06T19:12:47.338Z"
   },
   {
    "duration": 14,
    "start_time": "2021-09-06T19:12:47.378Z"
   },
   {
    "duration": 32,
    "start_time": "2021-09-06T19:12:47.394Z"
   },
   {
    "duration": 19,
    "start_time": "2021-09-06T19:12:47.462Z"
   },
   {
    "duration": 26,
    "start_time": "2021-09-06T19:12:47.484Z"
   },
   {
    "duration": 4,
    "start_time": "2021-09-06T19:12:47.512Z"
   },
   {
    "duration": 172,
    "start_time": "2021-09-06T19:12:47.518Z"
   },
   {
    "duration": 4,
    "start_time": "2021-09-06T19:12:47.692Z"
   },
   {
    "duration": 155,
    "start_time": "2021-09-06T19:12:47.699Z"
   },
   {
    "duration": 4,
    "start_time": "2021-09-06T19:12:47.861Z"
   },
   {
    "duration": 143,
    "start_time": "2021-09-06T19:12:47.867Z"
   },
   {
    "duration": 4,
    "start_time": "2021-09-06T19:12:48.012Z"
   },
   {
    "duration": 182,
    "start_time": "2021-09-06T19:12:48.018Z"
   },
   {
    "duration": 11,
    "start_time": "2021-09-06T19:12:48.202Z"
   },
   {
    "duration": 11,
    "start_time": "2021-09-06T19:12:48.215Z"
   },
   {
    "duration": 40,
    "start_time": "2021-09-06T19:12:48.229Z"
   },
   {
    "duration": 342,
    "start_time": "2021-09-06T19:12:48.271Z"
   },
   {
    "duration": -664,
    "start_time": "2021-09-06T19:12:49.280Z"
   },
   {
    "duration": -683,
    "start_time": "2021-09-06T19:12:49.300Z"
   },
   {
    "duration": -685,
    "start_time": "2021-09-06T19:12:49.304Z"
   },
   {
    "duration": -689,
    "start_time": "2021-09-06T19:12:49.309Z"
   },
   {
    "duration": -699,
    "start_time": "2021-09-06T19:12:49.320Z"
   },
   {
    "duration": -701,
    "start_time": "2021-09-06T19:12:49.324Z"
   },
   {
    "duration": 6,
    "start_time": "2021-09-06T19:13:43.564Z"
   },
   {
    "duration": 12,
    "start_time": "2021-09-06T19:14:52.106Z"
   },
   {
    "duration": 5,
    "start_time": "2021-09-06T19:22:00.896Z"
   },
   {
    "duration": 531,
    "start_time": "2021-09-06T19:22:00.903Z"
   },
   {
    "duration": 26,
    "start_time": "2021-09-06T19:22:01.437Z"
   },
   {
    "duration": 20,
    "start_time": "2021-09-06T19:22:01.466Z"
   },
   {
    "duration": 28,
    "start_time": "2021-09-06T19:22:01.489Z"
   },
   {
    "duration": 11,
    "start_time": "2021-09-06T19:22:01.519Z"
   },
   {
    "duration": 29,
    "start_time": "2021-09-06T19:22:01.533Z"
   },
   {
    "duration": 29,
    "start_time": "2021-09-06T19:22:01.565Z"
   },
   {
    "duration": 20,
    "start_time": "2021-09-06T19:22:01.596Z"
   },
   {
    "duration": 13,
    "start_time": "2021-09-06T19:22:01.619Z"
   },
   {
    "duration": 34,
    "start_time": "2021-09-06T19:22:01.634Z"
   },
   {
    "duration": 22,
    "start_time": "2021-09-06T19:22:01.671Z"
   },
   {
    "duration": 35,
    "start_time": "2021-09-06T19:22:01.696Z"
   },
   {
    "duration": 14,
    "start_time": "2021-09-06T19:22:01.733Z"
   },
   {
    "duration": 104,
    "start_time": "2021-09-06T19:22:01.750Z"
   },
   {
    "duration": 19,
    "start_time": "2021-09-06T19:22:01.857Z"
   },
   {
    "duration": 12,
    "start_time": "2021-09-06T19:22:01.878Z"
   },
   {
    "duration": 12,
    "start_time": "2021-09-06T19:22:01.893Z"
   },
   {
    "duration": 112,
    "start_time": "2021-09-06T19:22:01.910Z"
   },
   {
    "duration": 36,
    "start_time": "2021-09-06T19:22:02.026Z"
   },
   {
    "duration": 52,
    "start_time": "2021-09-06T19:22:02.064Z"
   },
   {
    "duration": 60,
    "start_time": "2021-09-06T19:22:02.118Z"
   },
   {
    "duration": 62,
    "start_time": "2021-09-06T19:22:02.180Z"
   },
   {
    "duration": 35,
    "start_time": "2021-09-06T19:22:02.245Z"
   },
   {
    "duration": 13,
    "start_time": "2021-09-06T19:22:02.283Z"
   },
   {
    "duration": 33,
    "start_time": "2021-09-06T19:22:02.299Z"
   },
   {
    "duration": 45,
    "start_time": "2021-09-06T19:22:02.334Z"
   },
   {
    "duration": 19,
    "start_time": "2021-09-06T19:22:02.382Z"
   },
   {
    "duration": 23,
    "start_time": "2021-09-06T19:22:02.404Z"
   },
   {
    "duration": 34,
    "start_time": "2021-09-06T19:22:02.429Z"
   },
   {
    "duration": 169,
    "start_time": "2021-09-06T19:22:02.466Z"
   },
   {
    "duration": 5,
    "start_time": "2021-09-06T19:22:02.637Z"
   },
   {
    "duration": 160,
    "start_time": "2021-09-06T19:22:02.644Z"
   },
   {
    "duration": 4,
    "start_time": "2021-09-06T19:22:02.807Z"
   },
   {
    "duration": 162,
    "start_time": "2021-09-06T19:22:02.814Z"
   },
   {
    "duration": 4,
    "start_time": "2021-09-06T19:22:02.979Z"
   },
   {
    "duration": 207,
    "start_time": "2021-09-06T19:22:02.985Z"
   },
   {
    "duration": 10,
    "start_time": "2021-09-06T19:22:03.194Z"
   },
   {
    "duration": 16,
    "start_time": "2021-09-06T19:22:03.207Z"
   },
   {
    "duration": 14,
    "start_time": "2021-09-06T19:22:03.226Z"
   },
   {
    "duration": 15,
    "start_time": "2021-09-06T19:22:03.242Z"
   },
   {
    "duration": 19,
    "start_time": "2021-09-06T19:22:03.260Z"
   },
   {
    "duration": 15,
    "start_time": "2021-09-06T19:22:03.281Z"
   },
   {
    "duration": 22,
    "start_time": "2021-09-06T19:22:03.298Z"
   },
   {
    "duration": 16,
    "start_time": "2021-09-06T19:22:03.322Z"
   },
   {
    "duration": 13,
    "start_time": "2021-09-06T19:22:03.341Z"
   },
   {
    "duration": 31,
    "start_time": "2021-09-06T19:22:03.357Z"
   },
   {
    "duration": 334,
    "start_time": "2021-09-06T19:42:26.629Z"
   },
   {
    "duration": 345,
    "start_time": "2021-09-06T19:48:00.406Z"
   },
   {
    "duration": 345,
    "start_time": "2021-09-06T19:52:43.101Z"
   },
   {
    "duration": 852,
    "start_time": "2021-09-06T19:56:51.392Z"
   },
   {
    "duration": 20619,
    "start_time": "2021-09-06T19:57:13.591Z"
   },
   {
    "duration": 352,
    "start_time": "2021-09-06T19:59:28.786Z"
   },
   {
    "duration": 350,
    "start_time": "2021-09-06T19:59:58.693Z"
   },
   {
    "duration": 362,
    "start_time": "2021-09-06T20:00:08.469Z"
   },
   {
    "duration": 352,
    "start_time": "2021-09-06T20:00:15.561Z"
   },
   {
    "duration": 352,
    "start_time": "2021-09-06T20:00:21.184Z"
   },
   {
    "duration": 336,
    "start_time": "2021-09-06T20:00:24.550Z"
   },
   {
    "duration": 388,
    "start_time": "2021-09-06T20:00:29.349Z"
   },
   {
    "duration": 21,
    "start_time": "2021-09-06T20:01:32.575Z"
   },
   {
    "duration": 15,
    "start_time": "2021-09-06T20:01:51.046Z"
   },
   {
    "duration": 7,
    "start_time": "2021-09-06T20:05:43.200Z"
   },
   {
    "duration": 6,
    "start_time": "2021-09-06T20:06:18.302Z"
   },
   {
    "duration": 347,
    "start_time": "2021-09-06T20:08:28.143Z"
   },
   {
    "duration": 640,
    "start_time": "2021-09-06T20:08:46.589Z"
   },
   {
    "duration": 367,
    "start_time": "2021-09-06T20:08:50.494Z"
   },
   {
    "duration": 340,
    "start_time": "2021-09-06T20:10:29.568Z"
   },
   {
    "duration": 371,
    "start_time": "2021-09-06T20:11:26.021Z"
   },
   {
    "duration": 329,
    "start_time": "2021-09-06T20:12:05.787Z"
   },
   {
    "duration": 5,
    "start_time": "2021-09-06T20:15:44.184Z"
   },
   {
    "duration": 566,
    "start_time": "2021-09-06T20:15:44.192Z"
   },
   {
    "duration": 27,
    "start_time": "2021-09-06T20:15:44.761Z"
   },
   {
    "duration": 12,
    "start_time": "2021-09-06T20:15:44.791Z"
   },
   {
    "duration": 27,
    "start_time": "2021-09-06T20:15:44.805Z"
   },
   {
    "duration": 12,
    "start_time": "2021-09-06T20:15:44.862Z"
   },
   {
    "duration": 12,
    "start_time": "2021-09-06T20:15:44.877Z"
   },
   {
    "duration": 22,
    "start_time": "2021-09-06T20:15:44.892Z"
   },
   {
    "duration": 10,
    "start_time": "2021-09-06T20:15:44.919Z"
   },
   {
    "duration": 9,
    "start_time": "2021-09-06T20:15:44.962Z"
   },
   {
    "duration": 15,
    "start_time": "2021-09-06T20:15:44.975Z"
   },
   {
    "duration": 12,
    "start_time": "2021-09-06T20:15:44.993Z"
   },
   {
    "duration": 30,
    "start_time": "2021-09-06T20:15:45.008Z"
   },
   {
    "duration": 12,
    "start_time": "2021-09-06T20:15:45.063Z"
   },
   {
    "duration": 134,
    "start_time": "2021-09-06T20:15:45.078Z"
   },
   {
    "duration": 47,
    "start_time": "2021-09-06T20:15:45.215Z"
   },
   {
    "duration": 14,
    "start_time": "2021-09-06T20:15:45.265Z"
   },
   {
    "duration": 10,
    "start_time": "2021-09-06T20:15:45.281Z"
   },
   {
    "duration": 117,
    "start_time": "2021-09-06T20:15:45.293Z"
   },
   {
    "duration": 25,
    "start_time": "2021-09-06T20:15:45.412Z"
   },
   {
    "duration": 59,
    "start_time": "2021-09-06T20:15:45.440Z"
   },
   {
    "duration": 34,
    "start_time": "2021-09-06T20:15:45.502Z"
   },
   {
    "duration": 67,
    "start_time": "2021-09-06T20:15:45.539Z"
   },
   {
    "duration": 23,
    "start_time": "2021-09-06T20:15:45.608Z"
   },
   {
    "duration": 18,
    "start_time": "2021-09-06T20:15:45.633Z"
   },
   {
    "duration": 27,
    "start_time": "2021-09-06T20:15:45.653Z"
   },
   {
    "duration": 31,
    "start_time": "2021-09-06T20:15:45.685Z"
   },
   {
    "duration": 18,
    "start_time": "2021-09-06T20:15:45.719Z"
   },
   {
    "duration": 25,
    "start_time": "2021-09-06T20:15:45.739Z"
   },
   {
    "duration": 8,
    "start_time": "2021-09-06T20:15:45.767Z"
   },
   {
    "duration": 146,
    "start_time": "2021-09-06T20:15:45.778Z"
   },
   {
    "duration": 5,
    "start_time": "2021-09-06T20:15:45.927Z"
   },
   {
    "duration": 284,
    "start_time": "2021-09-06T20:15:45.934Z"
   },
   {
    "duration": 4,
    "start_time": "2021-09-06T20:15:46.221Z"
   },
   {
    "duration": 172,
    "start_time": "2021-09-06T20:15:46.228Z"
   },
   {
    "duration": 4,
    "start_time": "2021-09-06T20:15:46.403Z"
   },
   {
    "duration": 195,
    "start_time": "2021-09-06T20:15:46.410Z"
   },
   {
    "duration": 11,
    "start_time": "2021-09-06T20:15:46.607Z"
   },
   {
    "duration": 11,
    "start_time": "2021-09-06T20:15:46.620Z"
   },
   {
    "duration": 36,
    "start_time": "2021-09-06T20:15:46.633Z"
   },
   {
    "duration": 4,
    "start_time": "2021-09-06T20:15:46.671Z"
   },
   {
    "duration": 352,
    "start_time": "2021-09-06T20:15:46.678Z"
   },
   {
    "duration": 349,
    "start_time": "2021-09-06T20:15:47.033Z"
   },
   {
    "duration": 383,
    "start_time": "2021-09-06T20:15:47.384Z"
   },
   {
    "duration": 11,
    "start_time": "2021-09-06T20:15:47.769Z"
   },
   {
    "duration": 14,
    "start_time": "2021-09-06T20:15:47.783Z"
   },
   {
    "duration": 13,
    "start_time": "2021-09-06T20:15:47.801Z"
   },
   {
    "duration": 391,
    "start_time": "2021-09-06T20:15:47.817Z"
   },
   {
    "duration": 387,
    "start_time": "2021-09-06T20:15:48.211Z"
   },
   {
    "duration": 367,
    "start_time": "2021-09-06T20:15:48.601Z"
   },
   {
    "duration": 11,
    "start_time": "2021-09-06T20:15:48.970Z"
   },
   {
    "duration": 19,
    "start_time": "2021-09-06T20:15:48.984Z"
   },
   {
    "duration": 11,
    "start_time": "2021-09-06T20:15:49.007Z"
   },
   {
    "duration": 360,
    "start_time": "2021-09-06T20:15:49.021Z"
   },
   {
    "duration": 369,
    "start_time": "2021-09-06T20:15:49.383Z"
   },
   {
    "duration": 359,
    "start_time": "2021-09-06T20:15:49.762Z"
   },
   {
    "duration": 658,
    "start_time": "2021-09-06T20:19:34.038Z"
   },
   {
    "duration": 375,
    "start_time": "2021-09-06T20:20:21.447Z"
   },
   {
    "duration": 682,
    "start_time": "2021-09-06T20:20:55.498Z"
   },
   {
    "duration": 366,
    "start_time": "2021-09-06T20:21:06.626Z"
   },
   {
    "duration": 365,
    "start_time": "2021-09-06T20:21:44.425Z"
   },
   {
    "duration": 366,
    "start_time": "2021-09-06T20:22:03.370Z"
   },
   {
    "duration": 493,
    "start_time": "2021-09-06T20:23:52.947Z"
   },
   {
    "duration": 505,
    "start_time": "2021-09-06T20:24:27.261Z"
   },
   {
    "duration": 454,
    "start_time": "2021-09-06T20:24:39.388Z"
   },
   {
    "duration": 492,
    "start_time": "2021-09-06T20:25:08.798Z"
   },
   {
    "duration": 437,
    "start_time": "2021-09-06T20:25:30.653Z"
   },
   {
    "duration": 495,
    "start_time": "2021-09-06T20:28:14.320Z"
   },
   {
    "duration": 368,
    "start_time": "2021-09-06T20:28:42.214Z"
   },
   {
    "duration": 490,
    "start_time": "2021-09-06T20:28:58.130Z"
   },
   {
    "duration": 423,
    "start_time": "2021-09-06T20:29:23.398Z"
   },
   {
    "duration": 446,
    "start_time": "2021-09-06T20:29:44.776Z"
   },
   {
    "duration": 474,
    "start_time": "2021-09-06T20:30:08.535Z"
   },
   {
    "duration": 458,
    "start_time": "2021-09-06T20:30:24.822Z"
   },
   {
    "duration": 345,
    "start_time": "2021-09-06T20:31:56.210Z"
   },
   {
    "duration": 459,
    "start_time": "2021-09-06T20:32:43.871Z"
   },
   {
    "duration": 467,
    "start_time": "2021-09-06T20:33:06.271Z"
   },
   {
    "duration": 450,
    "start_time": "2021-09-06T20:33:18.728Z"
   },
   {
    "duration": 1291,
    "start_time": "2021-09-08T11:16:32.960Z"
   },
   {
    "duration": 436,
    "start_time": "2021-09-08T11:16:34.253Z"
   },
   {
    "duration": 25,
    "start_time": "2021-09-08T11:16:34.691Z"
   },
   {
    "duration": 11,
    "start_time": "2021-09-08T11:16:34.718Z"
   },
   {
    "duration": 19,
    "start_time": "2021-09-08T11:16:34.731Z"
   },
   {
    "duration": 27,
    "start_time": "2021-09-08T11:16:34.751Z"
   },
   {
    "duration": 7,
    "start_time": "2021-09-08T11:16:34.780Z"
   },
   {
    "duration": 17,
    "start_time": "2021-09-08T11:16:34.789Z"
   },
   {
    "duration": 11,
    "start_time": "2021-09-08T11:16:34.809Z"
   },
   {
    "duration": 9,
    "start_time": "2021-09-08T11:16:34.822Z"
   },
   {
    "duration": 11,
    "start_time": "2021-09-08T11:16:34.833Z"
   },
   {
    "duration": 7,
    "start_time": "2021-09-08T11:16:34.878Z"
   },
   {
    "duration": 20,
    "start_time": "2021-09-08T11:16:34.887Z"
   },
   {
    "duration": 11,
    "start_time": "2021-09-08T11:16:34.909Z"
   },
   {
    "duration": 93,
    "start_time": "2021-09-08T11:16:34.922Z"
   },
   {
    "duration": 14,
    "start_time": "2021-09-08T11:16:35.017Z"
   },
   {
    "duration": 17,
    "start_time": "2021-09-08T11:16:35.033Z"
   },
   {
    "duration": 8,
    "start_time": "2021-09-08T11:16:35.052Z"
   },
   {
    "duration": 65,
    "start_time": "2021-09-08T11:16:35.077Z"
   },
   {
    "duration": 34,
    "start_time": "2021-09-08T11:16:35.144Z"
   },
   {
    "duration": 41,
    "start_time": "2021-09-08T11:16:35.180Z"
   },
   {
    "duration": 27,
    "start_time": "2021-09-08T11:16:35.223Z"
   },
   {
    "duration": 70,
    "start_time": "2021-09-08T11:16:35.254Z"
   },
   {
    "duration": 18,
    "start_time": "2021-09-08T11:16:35.326Z"
   },
   {
    "duration": 9,
    "start_time": "2021-09-08T11:16:35.346Z"
   },
   {
    "duration": 8,
    "start_time": "2021-09-08T11:16:35.377Z"
   },
   {
    "duration": 24,
    "start_time": "2021-09-08T11:16:35.387Z"
   },
   {
    "duration": 13,
    "start_time": "2021-09-08T11:16:35.412Z"
   },
   {
    "duration": 16,
    "start_time": "2021-09-08T11:16:35.427Z"
   },
   {
    "duration": 32,
    "start_time": "2021-09-08T11:16:35.445Z"
   },
   {
    "duration": 102,
    "start_time": "2021-09-08T11:16:35.479Z"
   },
   {
    "duration": 3,
    "start_time": "2021-09-08T11:16:35.583Z"
   },
   {
    "duration": 110,
    "start_time": "2021-09-08T11:16:35.588Z"
   },
   {
    "duration": 3,
    "start_time": "2021-09-08T11:16:35.699Z"
   },
   {
    "duration": 102,
    "start_time": "2021-09-08T11:16:35.704Z"
   },
   {
    "duration": 3,
    "start_time": "2021-09-08T11:16:35.808Z"
   },
   {
    "duration": 127,
    "start_time": "2021-09-08T11:16:35.813Z"
   },
   {
    "duration": 8,
    "start_time": "2021-09-08T11:16:35.942Z"
   },
   {
    "duration": 26,
    "start_time": "2021-09-08T11:16:35.952Z"
   },
   {
    "duration": 10,
    "start_time": "2021-09-08T11:16:35.980Z"
   },
   {
    "duration": 13,
    "start_time": "2021-09-08T11:16:35.992Z"
   },
   {
    "duration": 308,
    "start_time": "2021-09-08T11:16:36.007Z"
   },
   {
    "duration": 306,
    "start_time": "2021-09-08T11:16:36.318Z"
   },
   {
    "duration": 228,
    "start_time": "2021-09-08T11:16:36.626Z"
   },
   {
    "duration": 20,
    "start_time": "2021-09-08T11:16:36.857Z"
   },
   {
    "duration": 9,
    "start_time": "2021-09-08T11:16:36.879Z"
   },
   {
    "duration": 9,
    "start_time": "2021-09-08T11:16:36.890Z"
   },
   {
    "duration": 316,
    "start_time": "2021-09-08T11:16:36.900Z"
   },
   {
    "duration": 330,
    "start_time": "2021-09-08T11:16:37.218Z"
   },
   {
    "duration": 209,
    "start_time": "2021-09-08T11:16:37.551Z"
   },
   {
    "duration": 20,
    "start_time": "2021-09-08T11:16:37.762Z"
   },
   {
    "duration": 8,
    "start_time": "2021-09-08T11:16:37.784Z"
   },
   {
    "duration": 9,
    "start_time": "2021-09-08T11:16:37.794Z"
   },
   {
    "duration": 396,
    "start_time": "2021-09-08T11:16:37.804Z"
   },
   {
    "duration": 324,
    "start_time": "2021-09-08T11:16:38.202Z"
   },
   {
    "duration": 326,
    "start_time": "2021-09-08T11:16:38.529Z"
   },
   {
    "duration": 304,
    "start_time": "2021-09-08T11:27:02.403Z"
   },
   {
    "duration": 304,
    "start_time": "2021-09-08T11:27:17.000Z"
   },
   {
    "duration": 309,
    "start_time": "2021-09-08T11:27:36.312Z"
   },
   {
    "duration": 345,
    "start_time": "2021-09-08T11:27:50.682Z"
   },
   {
    "duration": 372,
    "start_time": "2021-09-08T11:28:01.351Z"
   },
   {
    "duration": 360,
    "start_time": "2021-09-08T11:28:26.341Z"
   },
   {
    "duration": 342,
    "start_time": "2021-09-08T11:28:37.365Z"
   },
   {
    "duration": 353,
    "start_time": "2021-09-08T11:28:44.053Z"
   },
   {
    "duration": 412,
    "start_time": "2021-09-08T11:29:30.202Z"
   },
   {
    "duration": 328,
    "start_time": "2021-09-08T11:29:37.074Z"
   },
   {
    "duration": 314,
    "start_time": "2021-09-08T11:30:15.728Z"
   },
   {
    "duration": 305,
    "start_time": "2021-09-08T11:30:23.925Z"
   },
   {
    "duration": 330,
    "start_time": "2021-09-08T11:30:35.168Z"
   },
   {
    "duration": 402,
    "start_time": "2021-09-08T11:31:50.465Z"
   },
   {
    "duration": 330,
    "start_time": "2021-09-08T11:32:03.058Z"
   },
   {
    "duration": 304,
    "start_time": "2021-09-08T11:32:11.632Z"
   },
   {
    "duration": 338,
    "start_time": "2021-09-08T11:32:20.852Z"
   },
   {
    "duration": 336,
    "start_time": "2021-09-08T11:32:25.364Z"
   },
   {
    "duration": 295,
    "start_time": "2021-09-08T11:38:19.929Z"
   },
   {
    "duration": 457,
    "start_time": "2021-09-08T11:38:43.879Z"
   },
   {
    "duration": 363,
    "start_time": "2021-09-08T15:05:21.089Z"
   },
   {
    "duration": 348,
    "start_time": "2021-09-08T15:05:31.319Z"
   },
   {
    "duration": 345,
    "start_time": "2021-09-08T15:06:05.892Z"
   },
   {
    "duration": 373,
    "start_time": "2021-09-08T15:06:16.062Z"
   },
   {
    "duration": 10,
    "start_time": "2021-09-08T15:37:38.324Z"
   },
   {
    "duration": 10,
    "start_time": "2021-09-08T15:38:36.988Z"
   },
   {
    "duration": 11,
    "start_time": "2021-09-08T15:40:00.108Z"
   },
   {
    "duration": 12,
    "start_time": "2021-09-08T15:40:42.594Z"
   },
   {
    "duration": 355,
    "start_time": "2021-09-08T15:41:08.771Z"
   },
   {
    "duration": 361,
    "start_time": "2021-09-08T15:48:59.034Z"
   },
   {
    "duration": 383,
    "start_time": "2021-09-08T15:49:09.252Z"
   },
   {
    "duration": 380,
    "start_time": "2021-09-08T15:49:18.052Z"
   },
   {
    "duration": 321,
    "start_time": "2021-09-08T15:49:40.507Z"
   },
   {
    "duration": 435,
    "start_time": "2021-09-08T15:50:07.346Z"
   },
   {
    "duration": 419,
    "start_time": "2021-09-08T15:50:37.712Z"
   },
   {
    "duration": 6,
    "start_time": "2021-09-08T16:28:57.680Z"
   },
   {
    "duration": 92,
    "start_time": "2021-09-08T16:36:10.248Z"
   },
   {
    "duration": 12,
    "start_time": "2021-09-08T16:37:22.984Z"
   },
   {
    "duration": 11,
    "start_time": "2021-09-08T16:45:43.989Z"
   },
   {
    "duration": 12,
    "start_time": "2021-09-08T17:01:10.613Z"
   },
   {
    "duration": 12,
    "start_time": "2021-09-08T17:01:18.139Z"
   },
   {
    "duration": 13,
    "start_time": "2021-09-08T17:05:49.069Z"
   },
   {
    "duration": 3,
    "start_time": "2021-09-08T17:05:54.659Z"
   },
   {
    "duration": 450,
    "start_time": "2021-09-08T17:05:54.664Z"
   },
   {
    "duration": 20,
    "start_time": "2021-09-08T17:05:55.116Z"
   },
   {
    "duration": 7,
    "start_time": "2021-09-08T17:05:55.138Z"
   },
   {
    "duration": 18,
    "start_time": "2021-09-08T17:05:55.147Z"
   },
   {
    "duration": 8,
    "start_time": "2021-09-08T17:05:55.167Z"
   },
   {
    "duration": 4,
    "start_time": "2021-09-08T17:05:55.186Z"
   },
   {
    "duration": 15,
    "start_time": "2021-09-08T17:05:55.192Z"
   },
   {
    "duration": 7,
    "start_time": "2021-09-08T17:05:55.209Z"
   },
   {
    "duration": 5,
    "start_time": "2021-09-08T17:05:55.218Z"
   },
   {
    "duration": 12,
    "start_time": "2021-09-08T17:05:55.225Z"
   },
   {
    "duration": 9,
    "start_time": "2021-09-08T17:05:55.239Z"
   },
   {
    "duration": 40,
    "start_time": "2021-09-08T17:05:55.250Z"
   },
   {
    "duration": 10,
    "start_time": "2021-09-08T17:05:55.292Z"
   },
   {
    "duration": 80,
    "start_time": "2021-09-08T17:05:55.304Z"
   },
   {
    "duration": 13,
    "start_time": "2021-09-08T17:05:55.386Z"
   },
   {
    "duration": 13,
    "start_time": "2021-09-08T17:05:55.400Z"
   },
   {
    "duration": 6,
    "start_time": "2021-09-08T17:05:55.415Z"
   },
   {
    "duration": 84,
    "start_time": "2021-09-08T17:05:55.424Z"
   },
   {
    "duration": 19,
    "start_time": "2021-09-08T17:05:55.511Z"
   },
   {
    "duration": 58,
    "start_time": "2021-09-08T17:05:55.532Z"
   },
   {
    "duration": 26,
    "start_time": "2021-09-08T17:05:55.591Z"
   },
   {
    "duration": 67,
    "start_time": "2021-09-08T17:05:55.619Z"
   },
   {
    "duration": 16,
    "start_time": "2021-09-08T17:05:55.688Z"
   },
   {
    "duration": 8,
    "start_time": "2021-09-08T17:05:55.706Z"
   },
   {
    "duration": 13,
    "start_time": "2021-09-08T17:05:55.716Z"
   },
   {
    "duration": 16,
    "start_time": "2021-09-08T17:05:55.731Z"
   },
   {
    "duration": 30,
    "start_time": "2021-09-08T17:05:55.749Z"
   },
   {
    "duration": 21,
    "start_time": "2021-09-08T17:05:55.781Z"
   },
   {
    "duration": 3,
    "start_time": "2021-09-08T17:05:55.804Z"
   },
   {
    "duration": 102,
    "start_time": "2021-09-08T17:05:55.808Z"
   },
   {
    "duration": 3,
    "start_time": "2021-09-08T17:05:55.912Z"
   },
   {
    "duration": 100,
    "start_time": "2021-09-08T17:05:55.916Z"
   },
   {
    "duration": 3,
    "start_time": "2021-09-08T17:05:56.018Z"
   },
   {
    "duration": 99,
    "start_time": "2021-09-08T17:05:56.022Z"
   },
   {
    "duration": 3,
    "start_time": "2021-09-08T17:05:56.122Z"
   },
   {
    "duration": 120,
    "start_time": "2021-09-08T17:05:56.126Z"
   },
   {
    "duration": 8,
    "start_time": "2021-09-08T17:05:56.247Z"
   },
   {
    "duration": 29,
    "start_time": "2021-09-08T17:05:56.256Z"
   },
   {
    "duration": 9,
    "start_time": "2021-09-08T17:05:56.287Z"
   },
   {
    "duration": 4,
    "start_time": "2021-09-08T17:05:56.298Z"
   },
   {
    "duration": 307,
    "start_time": "2021-09-08T17:05:56.304Z"
   },
   {
    "duration": 306,
    "start_time": "2021-09-08T17:05:56.612Z"
   },
   {
    "duration": 209,
    "start_time": "2021-09-08T17:05:56.919Z"
   },
   {
    "duration": 8,
    "start_time": "2021-09-08T17:05:57.129Z"
   },
   {
    "duration": 11,
    "start_time": "2021-09-08T17:05:57.139Z"
   },
   {
    "duration": 32,
    "start_time": "2021-09-08T17:05:57.153Z"
   },
   {
    "duration": 336,
    "start_time": "2021-09-08T17:05:57.187Z"
   },
   {
    "duration": 319,
    "start_time": "2021-09-08T17:05:57.524Z"
   },
   {
    "duration": 202,
    "start_time": "2021-09-08T17:05:57.844Z"
   },
   {
    "duration": 8,
    "start_time": "2021-09-08T17:05:58.048Z"
   },
   {
    "duration": 26,
    "start_time": "2021-09-08T17:05:58.058Z"
   },
   {
    "duration": 10,
    "start_time": "2021-09-08T17:05:58.086Z"
   },
   {
    "duration": 330,
    "start_time": "2021-09-08T17:05:58.097Z"
   },
   {
    "duration": 345,
    "start_time": "2021-09-08T17:05:58.431Z"
   },
   {
    "duration": 346,
    "start_time": "2021-09-08T17:05:58.778Z"
   },
   {
    "duration": 8,
    "start_time": "2021-09-08T17:05:59.126Z"
   },
   {
    "duration": 10,
    "start_time": "2021-09-08T17:05:59.135Z"
   },
   {
    "duration": 36,
    "start_time": "2021-09-08T17:05:59.147Z"
   },
   {
    "duration": 9,
    "start_time": "2021-09-08T17:36:01.634Z"
   },
   {
    "duration": 10,
    "start_time": "2021-09-08T17:37:13.913Z"
   },
   {
    "duration": 3,
    "start_time": "2021-09-08T17:43:22.070Z"
   },
   {
    "duration": 435,
    "start_time": "2021-09-08T17:43:22.075Z"
   },
   {
    "duration": 20,
    "start_time": "2021-09-08T17:43:22.512Z"
   },
   {
    "duration": 12,
    "start_time": "2021-09-08T17:43:22.534Z"
   },
   {
    "duration": 26,
    "start_time": "2021-09-08T17:43:22.548Z"
   },
   {
    "duration": 8,
    "start_time": "2021-09-08T17:43:22.576Z"
   },
   {
    "duration": 7,
    "start_time": "2021-09-08T17:43:22.586Z"
   },
   {
    "duration": 25,
    "start_time": "2021-09-08T17:43:22.594Z"
   },
   {
    "duration": 10,
    "start_time": "2021-09-08T17:43:22.621Z"
   },
   {
    "duration": 15,
    "start_time": "2021-09-08T17:43:22.632Z"
   },
   {
    "duration": 11,
    "start_time": "2021-09-08T17:43:22.649Z"
   },
   {
    "duration": 19,
    "start_time": "2021-09-08T17:43:22.662Z"
   },
   {
    "duration": 23,
    "start_time": "2021-09-08T17:43:22.683Z"
   },
   {
    "duration": 11,
    "start_time": "2021-09-08T17:43:22.708Z"
   },
   {
    "duration": 69,
    "start_time": "2021-09-08T17:43:22.721Z"
   },
   {
    "duration": 13,
    "start_time": "2021-09-08T17:43:22.793Z"
   },
   {
    "duration": 11,
    "start_time": "2021-09-08T17:43:22.808Z"
   },
   {
    "duration": 11,
    "start_time": "2021-09-08T17:43:22.821Z"
   },
   {
    "duration": 84,
    "start_time": "2021-09-08T17:43:22.835Z"
   },
   {
    "duration": 19,
    "start_time": "2021-09-08T17:43:22.922Z"
   },
   {
    "duration": 49,
    "start_time": "2021-09-08T17:43:22.942Z"
   },
   {
    "duration": 25,
    "start_time": "2021-09-08T17:43:22.993Z"
   },
   {
    "duration": 61,
    "start_time": "2021-09-08T17:43:23.020Z"
   },
   {
    "duration": 15,
    "start_time": "2021-09-08T17:43:23.082Z"
   },
   {
    "duration": 8,
    "start_time": "2021-09-08T17:43:23.099Z"
   },
   {
    "duration": 17,
    "start_time": "2021-09-08T17:43:23.109Z"
   },
   {
    "duration": 31,
    "start_time": "2021-09-08T17:43:23.127Z"
   },
   {
    "duration": 21,
    "start_time": "2021-09-08T17:43:23.160Z"
   },
   {
    "duration": 14,
    "start_time": "2021-09-08T17:43:23.182Z"
   },
   {
    "duration": 3,
    "start_time": "2021-09-08T17:43:23.198Z"
   },
   {
    "duration": 112,
    "start_time": "2021-09-08T17:43:23.202Z"
   },
   {
    "duration": 2,
    "start_time": "2021-09-08T17:43:23.316Z"
   },
   {
    "duration": 94,
    "start_time": "2021-09-08T17:43:23.320Z"
   },
   {
    "duration": 3,
    "start_time": "2021-09-08T17:43:23.415Z"
   },
   {
    "duration": 104,
    "start_time": "2021-09-08T17:43:23.420Z"
   },
   {
    "duration": 3,
    "start_time": "2021-09-08T17:43:23.526Z"
   },
   {
    "duration": 124,
    "start_time": "2021-09-08T17:43:23.530Z"
   },
   {
    "duration": 8,
    "start_time": "2021-09-08T17:43:23.655Z"
   },
   {
    "duration": 27,
    "start_time": "2021-09-08T17:43:23.664Z"
   },
   {
    "duration": 12,
    "start_time": "2021-09-08T17:43:23.692Z"
   },
   {
    "duration": 16,
    "start_time": "2021-09-08T17:43:23.706Z"
   },
   {
    "duration": 297,
    "start_time": "2021-09-08T17:43:23.724Z"
   },
   {
    "duration": 381,
    "start_time": "2021-09-08T17:43:24.023Z"
   },
   {
    "duration": 212,
    "start_time": "2021-09-08T17:43:24.406Z"
   },
   {
    "duration": 8,
    "start_time": "2021-09-08T17:43:24.620Z"
   },
   {
    "duration": 11,
    "start_time": "2021-09-08T17:43:24.629Z"
   },
   {
    "duration": 9,
    "start_time": "2021-09-08T17:43:24.642Z"
   },
   {
    "duration": 335,
    "start_time": "2021-09-08T17:43:24.652Z"
   },
   {
    "duration": 315,
    "start_time": "2021-09-08T17:43:24.989Z"
   },
   {
    "duration": 5,
    "start_time": "2021-09-08T17:43:26.619Z"
   },
   {
    "duration": 400,
    "start_time": "2021-09-08T17:43:26.626Z"
   },
   {
    "duration": 20,
    "start_time": "2021-09-08T17:43:27.027Z"
   },
   {
    "duration": 7,
    "start_time": "2021-09-08T17:43:27.049Z"
   },
   {
    "duration": 20,
    "start_time": "2021-09-08T17:43:27.058Z"
   },
   {
    "duration": 7,
    "start_time": "2021-09-08T17:43:27.080Z"
   },
   {
    "duration": 5,
    "start_time": "2021-09-08T17:43:27.089Z"
   },
   {
    "duration": 16,
    "start_time": "2021-09-08T17:43:27.095Z"
   },
   {
    "duration": 6,
    "start_time": "2021-09-08T17:43:27.113Z"
   },
   {
    "duration": 7,
    "start_time": "2021-09-08T17:43:27.121Z"
   },
   {
    "duration": 13,
    "start_time": "2021-09-08T17:43:27.130Z"
   },
   {
    "duration": 45,
    "start_time": "2021-09-08T17:43:27.145Z"
   },
   {
    "duration": 16,
    "start_time": "2021-09-08T17:43:27.192Z"
   },
   {
    "duration": 12,
    "start_time": "2021-09-08T17:43:27.209Z"
   },
   {
    "duration": 68,
    "start_time": "2021-09-08T17:43:27.229Z"
   },
   {
    "duration": 11,
    "start_time": "2021-09-08T17:43:27.299Z"
   },
   {
    "duration": 20,
    "start_time": "2021-09-08T17:43:27.312Z"
   },
   {
    "duration": 9,
    "start_time": "2021-09-08T17:43:27.334Z"
   },
   {
    "duration": 75,
    "start_time": "2021-09-08T17:43:27.345Z"
   },
   {
    "duration": 18,
    "start_time": "2021-09-08T17:43:27.421Z"
   },
   {
    "duration": 49,
    "start_time": "2021-09-08T17:43:27.441Z"
   },
   {
    "duration": 25,
    "start_time": "2021-09-08T17:43:27.492Z"
   },
   {
    "duration": 61,
    "start_time": "2021-09-08T17:43:27.519Z"
   },
   {
    "duration": 16,
    "start_time": "2021-09-08T17:43:27.582Z"
   },
   {
    "duration": 8,
    "start_time": "2021-09-08T17:43:27.600Z"
   },
   {
    "duration": 12,
    "start_time": "2021-09-08T17:43:27.610Z"
   },
   {
    "duration": 19,
    "start_time": "2021-09-08T17:43:27.624Z"
   },
   {
    "duration": 37,
    "start_time": "2021-09-08T17:43:27.645Z"
   },
   {
    "duration": 15,
    "start_time": "2021-09-08T17:43:27.684Z"
   },
   {
    "duration": 3,
    "start_time": "2021-09-08T17:43:27.700Z"
   },
   {
    "duration": 103,
    "start_time": "2021-09-08T17:43:27.705Z"
   },
   {
    "duration": 3,
    "start_time": "2021-09-08T17:43:27.809Z"
   },
   {
    "duration": 98,
    "start_time": "2021-09-08T17:43:27.814Z"
   },
   {
    "duration": 3,
    "start_time": "2021-09-08T17:43:27.914Z"
   },
   {
    "duration": 96,
    "start_time": "2021-09-08T17:43:27.918Z"
   },
   {
    "duration": 3,
    "start_time": "2021-09-08T17:43:28.016Z"
   },
   {
    "duration": 115,
    "start_time": "2021-09-08T17:43:28.020Z"
   },
   {
    "duration": 7,
    "start_time": "2021-09-08T17:43:28.137Z"
   },
   {
    "duration": 10,
    "start_time": "2021-09-08T17:43:28.146Z"
   },
   {
    "duration": 24,
    "start_time": "2021-09-08T17:43:28.158Z"
   },
   {
    "duration": 3,
    "start_time": "2021-09-08T17:43:28.184Z"
   },
   {
    "duration": 305,
    "start_time": "2021-09-08T17:43:28.189Z"
   },
   {
    "duration": 311,
    "start_time": "2021-09-08T17:43:28.496Z"
   },
   {
    "duration": 200,
    "start_time": "2021-09-08T17:43:28.808Z"
   },
   {
    "duration": 7,
    "start_time": "2021-09-08T17:43:29.010Z"
   },
   {
    "duration": 8,
    "start_time": "2021-09-08T17:43:29.019Z"
   },
   {
    "duration": 8,
    "start_time": "2021-09-08T17:43:29.028Z"
   },
   {
    "duration": 406,
    "start_time": "2021-09-08T17:43:29.037Z"
   },
   {
    "duration": 357,
    "start_time": "2021-09-08T17:43:29.444Z"
   },
   {
    "duration": 192,
    "start_time": "2021-09-08T17:43:29.802Z"
   },
   {
    "duration": 7,
    "start_time": "2021-09-08T17:43:29.996Z"
   },
   {
    "duration": 21,
    "start_time": "2021-09-08T17:43:30.005Z"
   },
   {
    "duration": 23,
    "start_time": "2021-09-08T17:43:30.027Z"
   },
   {
    "duration": 332,
    "start_time": "2021-09-08T17:43:30.052Z"
   },
   {
    "duration": 322,
    "start_time": "2021-09-08T17:43:30.385Z"
   },
   {
    "duration": 301,
    "start_time": "2021-09-08T17:43:30.709Z"
   },
   {
    "duration": 11,
    "start_time": "2021-09-08T17:43:31.012Z"
   },
   {
    "duration": 38,
    "start_time": "2021-09-08T17:43:31.024Z"
   },
   {
    "duration": 12,
    "start_time": "2021-09-08T17:43:31.064Z"
   },
   {
    "duration": 1048,
    "start_time": "2021-09-08T18:22:31.229Z"
   },
   {
    "duration": 388,
    "start_time": "2021-09-08T18:22:32.279Z"
   },
   {
    "duration": 20,
    "start_time": "2021-09-08T18:22:32.669Z"
   },
   {
    "duration": 10,
    "start_time": "2021-09-08T18:22:32.691Z"
   },
   {
    "duration": 16,
    "start_time": "2021-09-08T18:22:32.703Z"
   },
   {
    "duration": 7,
    "start_time": "2021-09-08T18:22:32.721Z"
   },
   {
    "duration": 5,
    "start_time": "2021-09-08T18:22:32.730Z"
   },
   {
    "duration": 16,
    "start_time": "2021-09-08T18:22:32.737Z"
   },
   {
    "duration": 35,
    "start_time": "2021-09-08T18:22:32.756Z"
   },
   {
    "duration": 8,
    "start_time": "2021-09-08T18:22:32.793Z"
   },
   {
    "duration": 8,
    "start_time": "2021-09-08T18:22:32.802Z"
   },
   {
    "duration": 8,
    "start_time": "2021-09-08T18:22:32.812Z"
   },
   {
    "duration": 9,
    "start_time": "2021-09-08T18:22:32.822Z"
   },
   {
    "duration": 8,
    "start_time": "2021-09-08T18:22:32.833Z"
   },
   {
    "duration": 98,
    "start_time": "2021-09-08T18:22:32.843Z"
   },
   {
    "duration": 13,
    "start_time": "2021-09-08T18:22:32.943Z"
   },
   {
    "duration": 12,
    "start_time": "2021-09-08T18:22:32.958Z"
   },
   {
    "duration": 16,
    "start_time": "2021-09-08T18:22:32.971Z"
   },
   {
    "duration": 61,
    "start_time": "2021-09-08T18:22:32.988Z"
   },
   {
    "duration": 35,
    "start_time": "2021-09-08T18:22:33.050Z"
   },
   {
    "duration": 34,
    "start_time": "2021-09-08T18:22:33.087Z"
   },
   {
    "duration": 23,
    "start_time": "2021-09-08T18:22:33.123Z"
   },
   {
    "duration": 57,
    "start_time": "2021-09-08T18:22:33.147Z"
   },
   {
    "duration": 15,
    "start_time": "2021-09-08T18:22:33.205Z"
   },
   {
    "duration": 7,
    "start_time": "2021-09-08T18:22:33.221Z"
   },
   {
    "duration": 9,
    "start_time": "2021-09-08T18:22:33.230Z"
   },
   {
    "duration": 44,
    "start_time": "2021-09-08T18:22:33.244Z"
   },
   {
    "duration": 16,
    "start_time": "2021-09-08T18:22:33.290Z"
   },
   {
    "duration": 19,
    "start_time": "2021-09-08T18:22:33.308Z"
   },
   {
    "duration": 3,
    "start_time": "2021-09-08T18:22:33.329Z"
   },
   {
    "duration": 110,
    "start_time": "2021-09-08T18:22:33.334Z"
   },
   {
    "duration": 3,
    "start_time": "2021-09-08T18:22:33.445Z"
   },
   {
    "duration": 86,
    "start_time": "2021-09-08T18:22:33.449Z"
   },
   {
    "duration": 3,
    "start_time": "2021-09-08T18:22:33.536Z"
   },
   {
    "duration": 91,
    "start_time": "2021-09-08T18:22:33.541Z"
   },
   {
    "duration": 4,
    "start_time": "2021-09-08T18:22:33.634Z"
   },
   {
    "duration": 114,
    "start_time": "2021-09-08T18:22:33.640Z"
   },
   {
    "duration": 8,
    "start_time": "2021-09-08T18:22:33.756Z"
   },
   {
    "duration": 22,
    "start_time": "2021-09-08T18:22:33.766Z"
   },
   {
    "duration": 9,
    "start_time": "2021-09-08T18:22:33.790Z"
   },
   {
    "duration": 3,
    "start_time": "2021-09-08T18:22:33.800Z"
   },
   {
    "duration": 312,
    "start_time": "2021-09-08T18:22:33.805Z"
   },
   {
    "duration": 296,
    "start_time": "2021-09-08T18:22:34.119Z"
   },
   {
    "duration": 213,
    "start_time": "2021-09-08T18:22:34.416Z"
   },
   {
    "duration": 8,
    "start_time": "2021-09-08T18:22:34.630Z"
   },
   {
    "duration": 7,
    "start_time": "2021-09-08T18:22:34.640Z"
   },
   {
    "duration": 7,
    "start_time": "2021-09-08T18:22:34.649Z"
   },
   {
    "duration": 341,
    "start_time": "2021-09-08T18:22:34.657Z"
   },
   {
    "duration": 330,
    "start_time": "2021-09-08T18:22:34.999Z"
   },
   {
    "duration": 194,
    "start_time": "2021-09-08T18:22:35.330Z"
   },
   {
    "duration": 7,
    "start_time": "2021-09-08T18:22:35.526Z"
   },
   {
    "duration": 21,
    "start_time": "2021-09-08T18:22:35.535Z"
   },
   {
    "duration": 16,
    "start_time": "2021-09-08T18:22:35.558Z"
   },
   {
    "duration": 350,
    "start_time": "2021-09-08T18:22:35.575Z"
   },
   {
    "duration": 308,
    "start_time": "2021-09-08T18:22:35.926Z"
   },
   {
    "duration": 298,
    "start_time": "2021-09-08T18:22:36.236Z"
   },
   {
    "duration": 8,
    "start_time": "2021-09-08T18:22:36.536Z"
   },
   {
    "duration": 10,
    "start_time": "2021-09-08T18:22:36.546Z"
   },
   {
    "duration": 30,
    "start_time": "2021-09-08T18:22:36.557Z"
   },
   {
    "duration": 5,
    "start_time": "2021-09-08T18:29:20.119Z"
   },
   {
    "duration": 7,
    "start_time": "2021-09-08T18:31:02.853Z"
   },
   {
    "duration": 17,
    "start_time": "2021-09-08T18:33:20.265Z"
   },
   {
    "duration": 9,
    "start_time": "2021-09-08T19:16:51.328Z"
   },
   {
    "duration": 52,
    "start_time": "2021-09-08T19:19:11.858Z"
   },
   {
    "duration": 3,
    "start_time": "2021-09-08T19:19:35.727Z"
   },
   {
    "duration": 4,
    "start_time": "2021-09-08T19:19:39.128Z"
   },
   {
    "duration": 409,
    "start_time": "2021-09-08T19:19:39.134Z"
   },
   {
    "duration": 20,
    "start_time": "2021-09-08T19:19:39.545Z"
   },
   {
    "duration": 7,
    "start_time": "2021-09-08T19:19:39.567Z"
   },
   {
    "duration": 17,
    "start_time": "2021-09-08T19:19:39.576Z"
   },
   {
    "duration": 8,
    "start_time": "2021-09-08T19:19:39.595Z"
   },
   {
    "duration": 10,
    "start_time": "2021-09-08T19:19:39.605Z"
   },
   {
    "duration": 15,
    "start_time": "2021-09-08T19:19:39.617Z"
   },
   {
    "duration": 10,
    "start_time": "2021-09-08T19:19:39.634Z"
   },
   {
    "duration": 32,
    "start_time": "2021-09-08T19:19:39.646Z"
   },
   {
    "duration": 10,
    "start_time": "2021-09-08T19:19:39.679Z"
   },
   {
    "duration": 7,
    "start_time": "2021-09-08T19:19:39.691Z"
   },
   {
    "duration": 10,
    "start_time": "2021-09-08T19:19:39.700Z"
   },
   {
    "duration": 7,
    "start_time": "2021-09-08T19:19:39.712Z"
   },
   {
    "duration": 89,
    "start_time": "2021-09-08T19:19:39.720Z"
   },
   {
    "duration": 12,
    "start_time": "2021-09-08T19:19:39.810Z"
   },
   {
    "duration": 12,
    "start_time": "2021-09-08T19:19:39.824Z"
   },
   {
    "duration": 5,
    "start_time": "2021-09-08T19:19:39.837Z"
   },
   {
    "duration": 81,
    "start_time": "2021-09-08T19:19:39.846Z"
   },
   {
    "duration": 17,
    "start_time": "2021-09-08T19:19:39.930Z"
   },
   {
    "duration": 49,
    "start_time": "2021-09-08T19:19:39.949Z"
   },
   {
    "duration": 25,
    "start_time": "2021-09-08T19:19:39.999Z"
   },
   {
    "duration": 65,
    "start_time": "2021-09-08T19:19:40.026Z"
   },
   {
    "duration": 15,
    "start_time": "2021-09-08T19:19:40.092Z"
   },
   {
    "duration": 10,
    "start_time": "2021-09-08T19:19:40.109Z"
   },
   {
    "duration": 10,
    "start_time": "2021-09-08T19:19:40.121Z"
   },
   {
    "duration": 22,
    "start_time": "2021-09-08T19:19:40.132Z"
   },
   {
    "duration": 30,
    "start_time": "2021-09-08T19:19:40.155Z"
   },
   {
    "duration": 14,
    "start_time": "2021-09-08T19:19:40.187Z"
   },
   {
    "duration": 4,
    "start_time": "2021-09-08T19:19:40.202Z"
   },
   {
    "duration": 10,
    "start_time": "2021-09-08T19:19:40.208Z"
   },
   {
    "duration": 101,
    "start_time": "2021-09-08T19:19:40.220Z"
   },
   {
    "duration": 3,
    "start_time": "2021-09-08T19:19:40.323Z"
   },
   {
    "duration": 93,
    "start_time": "2021-09-08T19:19:40.327Z"
   },
   {
    "duration": 3,
    "start_time": "2021-09-08T19:19:40.421Z"
   },
   {
    "duration": 101,
    "start_time": "2021-09-08T19:19:40.426Z"
   },
   {
    "duration": 3,
    "start_time": "2021-09-08T19:19:40.528Z"
   },
   {
    "duration": 121,
    "start_time": "2021-09-08T19:19:40.533Z"
   },
   {
    "duration": 7,
    "start_time": "2021-09-08T19:19:40.656Z"
   },
   {
    "duration": 21,
    "start_time": "2021-09-08T19:19:40.665Z"
   },
   {
    "duration": 15,
    "start_time": "2021-09-08T19:19:40.688Z"
   },
   {
    "duration": 8,
    "start_time": "2021-09-08T19:19:40.704Z"
   },
   {
    "duration": 13,
    "start_time": "2021-09-08T19:19:40.714Z"
   },
   {
    "duration": 287,
    "start_time": "2021-09-08T19:19:40.729Z"
   },
   {
    "duration": 292,
    "start_time": "2021-09-08T19:19:41.019Z"
   },
   {
    "duration": 197,
    "start_time": "2021-09-08T19:19:41.313Z"
   },
   {
    "duration": 8,
    "start_time": "2021-09-08T19:19:41.511Z"
   },
   {
    "duration": 15,
    "start_time": "2021-09-08T19:19:41.521Z"
   },
   {
    "duration": 16,
    "start_time": "2021-09-08T19:19:41.538Z"
   },
   {
    "duration": 351,
    "start_time": "2021-09-08T19:19:41.556Z"
   },
   {
    "duration": 355,
    "start_time": "2021-09-08T19:19:41.909Z"
   },
   {
    "duration": 275,
    "start_time": "2021-09-08T19:19:42.266Z"
   },
   {
    "duration": 9,
    "start_time": "2021-09-08T19:19:42.543Z"
   },
   {
    "duration": 24,
    "start_time": "2021-09-08T19:19:42.553Z"
   },
   {
    "duration": 10,
    "start_time": "2021-09-08T19:19:42.581Z"
   },
   {
    "duration": 306,
    "start_time": "2021-09-08T19:19:42.593Z"
   },
   {
    "duration": 310,
    "start_time": "2021-09-08T19:19:42.901Z"
   },
   {
    "duration": 297,
    "start_time": "2021-09-08T19:19:43.212Z"
   },
   {
    "duration": 9,
    "start_time": "2021-09-08T19:19:43.510Z"
   },
   {
    "duration": 11,
    "start_time": "2021-09-08T19:19:43.521Z"
   },
   {
    "duration": 14,
    "start_time": "2021-09-08T19:19:43.533Z"
   },
   {
    "duration": 355,
    "start_time": "2021-09-08T19:31:51.426Z"
   },
   {
    "duration": 307,
    "start_time": "2021-09-08T19:32:13.310Z"
   },
   {
    "duration": 270,
    "start_time": "2021-09-08T19:32:22.439Z"
   },
   {
    "duration": 268,
    "start_time": "2021-09-08T19:32:31.037Z"
   },
   {
    "duration": 277,
    "start_time": "2021-09-08T19:34:51.728Z"
   },
   {
    "duration": 954,
    "start_time": "2021-09-08T19:35:12.582Z"
   },
   {
    "duration": 14,
    "start_time": "2021-09-08T19:35:27.751Z"
   },
   {
    "duration": 265,
    "start_time": "2021-09-08T19:36:58.917Z"
   },
   {
    "duration": 27,
    "start_time": "2021-09-08T19:37:09.215Z"
   },
   {
    "duration": 4,
    "start_time": "2021-09-08T19:37:27.458Z"
   },
   {
    "duration": 453,
    "start_time": "2021-09-08T19:37:27.463Z"
   },
   {
    "duration": 22,
    "start_time": "2021-09-08T19:37:27.918Z"
   },
   {
    "duration": 8,
    "start_time": "2021-09-08T19:37:27.942Z"
   },
   {
    "duration": 19,
    "start_time": "2021-09-08T19:37:27.951Z"
   },
   {
    "duration": 9,
    "start_time": "2021-09-08T19:37:27.972Z"
   },
   {
    "duration": 41,
    "start_time": "2021-09-08T19:37:27.984Z"
   },
   {
    "duration": 22,
    "start_time": "2021-09-08T19:37:28.027Z"
   },
   {
    "duration": 9,
    "start_time": "2021-09-08T19:37:28.051Z"
   },
   {
    "duration": 12,
    "start_time": "2021-09-08T19:37:28.062Z"
   },
   {
    "duration": 16,
    "start_time": "2021-09-08T19:37:28.076Z"
   },
   {
    "duration": 16,
    "start_time": "2021-09-08T19:37:28.094Z"
   },
   {
    "duration": 23,
    "start_time": "2021-09-08T19:37:28.111Z"
   },
   {
    "duration": 14,
    "start_time": "2021-09-08T19:37:28.135Z"
   },
   {
    "duration": 70,
    "start_time": "2021-09-08T19:37:28.150Z"
   },
   {
    "duration": 12,
    "start_time": "2021-09-08T19:37:28.222Z"
   },
   {
    "duration": 20,
    "start_time": "2021-09-08T19:37:28.235Z"
   },
   {
    "duration": 29,
    "start_time": "2021-09-08T19:37:28.256Z"
   },
   {
    "duration": 70,
    "start_time": "2021-09-08T19:37:28.288Z"
   },
   {
    "duration": 20,
    "start_time": "2021-09-08T19:37:28.360Z"
   },
   {
    "duration": 51,
    "start_time": "2021-09-08T19:37:28.382Z"
   },
   {
    "duration": 27,
    "start_time": "2021-09-08T19:37:28.435Z"
   },
   {
    "duration": 52,
    "start_time": "2021-09-08T19:37:28.464Z"
   },
   {
    "duration": 16,
    "start_time": "2021-09-08T19:37:28.518Z"
   },
   {
    "duration": 11,
    "start_time": "2021-09-08T19:37:28.536Z"
   },
   {
    "duration": 31,
    "start_time": "2021-09-08T19:37:28.549Z"
   },
   {
    "duration": 30,
    "start_time": "2021-09-08T19:37:28.582Z"
   },
   {
    "duration": 22,
    "start_time": "2021-09-08T19:37:28.614Z"
   },
   {
    "duration": 21,
    "start_time": "2021-09-08T19:37:28.637Z"
   },
   {
    "duration": 5,
    "start_time": "2021-09-08T19:37:28.660Z"
   },
   {
    "duration": 20,
    "start_time": "2021-09-08T19:37:28.666Z"
   },
   {
    "duration": 96,
    "start_time": "2021-09-08T19:37:28.687Z"
   },
   {
    "duration": 3,
    "start_time": "2021-09-08T19:37:28.785Z"
   },
   {
    "duration": 104,
    "start_time": "2021-09-08T19:37:28.789Z"
   },
   {
    "duration": 3,
    "start_time": "2021-09-08T19:37:28.895Z"
   },
   {
    "duration": 104,
    "start_time": "2021-09-08T19:37:28.899Z"
   },
   {
    "duration": 3,
    "start_time": "2021-09-08T19:37:29.005Z"
   },
   {
    "duration": 133,
    "start_time": "2021-09-08T19:37:29.009Z"
   },
   {
    "duration": 9,
    "start_time": "2021-09-08T19:37:29.144Z"
   },
   {
    "duration": 24,
    "start_time": "2021-09-08T19:37:29.155Z"
   },
   {
    "duration": 22,
    "start_time": "2021-09-08T19:37:29.181Z"
   },
   {
    "duration": 36,
    "start_time": "2021-09-08T19:37:29.205Z"
   },
   {
    "duration": 40,
    "start_time": "2021-09-08T19:37:29.243Z"
   },
   {
    "duration": 15,
    "start_time": "2021-09-08T19:37:29.285Z"
   },
   {
    "duration": 305,
    "start_time": "2021-09-08T19:37:29.302Z"
   },
   {
    "duration": 315,
    "start_time": "2021-09-08T19:37:29.609Z"
   },
   {
    "duration": 203,
    "start_time": "2021-09-08T19:37:29.926Z"
   },
   {
    "duration": 9,
    "start_time": "2021-09-08T19:37:30.130Z"
   },
   {
    "duration": 31,
    "start_time": "2021-09-08T19:37:30.140Z"
   },
   {
    "duration": 27,
    "start_time": "2021-09-08T19:37:30.173Z"
   },
   {
    "duration": 300,
    "start_time": "2021-09-08T19:37:30.202Z"
   },
   {
    "duration": 318,
    "start_time": "2021-09-08T19:37:30.504Z"
   },
   {
    "duration": 199,
    "start_time": "2021-09-08T19:37:30.824Z"
   },
   {
    "duration": 8,
    "start_time": "2021-09-08T19:37:31.025Z"
   },
   {
    "duration": 36,
    "start_time": "2021-09-08T19:37:31.038Z"
   },
   {
    "duration": 30,
    "start_time": "2021-09-08T19:37:31.077Z"
   },
   {
    "duration": 393,
    "start_time": "2021-09-08T19:37:31.109Z"
   },
   {
    "duration": 321,
    "start_time": "2021-09-08T19:37:31.503Z"
   },
   {
    "duration": 325,
    "start_time": "2021-09-08T19:37:31.826Z"
   },
   {
    "duration": 9,
    "start_time": "2021-09-08T19:37:32.153Z"
   },
   {
    "duration": 25,
    "start_time": "2021-09-08T19:37:32.164Z"
   },
   {
    "duration": 32,
    "start_time": "2021-09-08T19:37:32.191Z"
   },
   {
    "duration": 23,
    "start_time": "2021-09-08T19:48:13.680Z"
   },
   {
    "duration": 25,
    "start_time": "2021-09-08T19:48:18.645Z"
   },
   {
    "duration": 27,
    "start_time": "2021-09-08T19:53:31.874Z"
   },
   {
    "duration": 25,
    "start_time": "2021-09-08T20:11:34.085Z"
   },
   {
    "duration": 25,
    "start_time": "2021-09-08T20:11:45.195Z"
   },
   {
    "duration": 8,
    "start_time": "2021-09-08T20:18:16.849Z"
   },
   {
    "duration": 8998,
    "start_time": "2021-09-11T11:06:25.713Z"
   },
   {
    "duration": 394,
    "start_time": "2021-09-11T11:06:34.719Z"
   },
   {
    "duration": 22,
    "start_time": "2021-09-11T11:06:35.115Z"
   },
   {
    "duration": 20,
    "start_time": "2021-09-11T11:06:35.138Z"
   },
   {
    "duration": 21,
    "start_time": "2021-09-11T11:06:35.163Z"
   },
   {
    "duration": 7,
    "start_time": "2021-09-11T11:06:35.186Z"
   },
   {
    "duration": 7,
    "start_time": "2021-09-11T11:06:35.195Z"
   },
   {
    "duration": 15,
    "start_time": "2021-09-11T11:06:35.203Z"
   },
   {
    "duration": 8,
    "start_time": "2021-09-11T11:06:35.220Z"
   },
   {
    "duration": 8,
    "start_time": "2021-09-11T11:06:35.230Z"
   },
   {
    "duration": 15,
    "start_time": "2021-09-11T11:06:35.239Z"
   },
   {
    "duration": 29,
    "start_time": "2021-09-11T11:06:35.256Z"
   },
   {
    "duration": 10,
    "start_time": "2021-09-11T11:06:35.289Z"
   },
   {
    "duration": 8,
    "start_time": "2021-09-11T11:06:35.301Z"
   },
   {
    "duration": 87,
    "start_time": "2021-09-11T11:06:35.311Z"
   },
   {
    "duration": 13,
    "start_time": "2021-09-11T11:06:35.399Z"
   },
   {
    "duration": 10,
    "start_time": "2021-09-11T11:06:35.414Z"
   },
   {
    "duration": 3,
    "start_time": "2021-09-11T11:06:35.426Z"
   },
   {
    "duration": 80,
    "start_time": "2021-09-11T11:06:35.430Z"
   },
   {
    "duration": 21,
    "start_time": "2021-09-11T11:06:35.511Z"
   },
   {
    "duration": 34,
    "start_time": "2021-09-11T11:06:35.533Z"
   },
   {
    "duration": 25,
    "start_time": "2021-09-11T11:06:35.585Z"
   },
   {
    "duration": 43,
    "start_time": "2021-09-11T11:06:35.611Z"
   },
   {
    "duration": 34,
    "start_time": "2021-09-11T11:06:35.656Z"
   },
   {
    "duration": 7,
    "start_time": "2021-09-11T11:06:35.692Z"
   },
   {
    "duration": 24,
    "start_time": "2021-09-11T11:06:35.700Z"
   },
   {
    "duration": 24,
    "start_time": "2021-09-11T11:06:35.727Z"
   },
   {
    "duration": 12,
    "start_time": "2021-09-11T11:06:35.754Z"
   },
   {
    "duration": 21,
    "start_time": "2021-09-11T11:06:35.767Z"
   },
   {
    "duration": 15,
    "start_time": "2021-09-11T11:06:35.790Z"
   },
   {
    "duration": 23,
    "start_time": "2021-09-11T11:06:35.807Z"
   },
   {
    "duration": 98,
    "start_time": "2021-09-11T11:06:35.835Z"
   },
   {
    "duration": 4,
    "start_time": "2021-09-11T11:06:35.934Z"
   },
   {
    "duration": 93,
    "start_time": "2021-09-11T11:06:35.940Z"
   },
   {
    "duration": 3,
    "start_time": "2021-09-11T11:06:36.034Z"
   },
   {
    "duration": 94,
    "start_time": "2021-09-11T11:06:36.038Z"
   },
   {
    "duration": 3,
    "start_time": "2021-09-11T11:06:36.134Z"
   },
   {
    "duration": 110,
    "start_time": "2021-09-11T11:06:36.138Z"
   },
   {
    "duration": 7,
    "start_time": "2021-09-11T11:06:36.250Z"
   },
   {
    "duration": 8,
    "start_time": "2021-09-11T11:06:36.258Z"
   },
   {
    "duration": 23,
    "start_time": "2021-09-11T11:06:36.267Z"
   },
   {
    "duration": 12,
    "start_time": "2021-09-11T11:06:36.291Z"
   },
   {
    "duration": 25,
    "start_time": "2021-09-11T11:06:36.305Z"
   },
   {
    "duration": 3,
    "start_time": "2021-09-11T11:06:36.332Z"
   },
   {
    "duration": 33,
    "start_time": "2021-09-11T11:06:36.336Z"
   },
   {
    "duration": 2,
    "start_time": "2021-09-11T11:06:36.371Z"
   },
   {
    "duration": 10,
    "start_time": "2021-09-11T11:06:36.374Z"
   },
   {
    "duration": 320,
    "start_time": "2021-09-11T11:06:36.385Z"
   },
   {
    "duration": 311,
    "start_time": "2021-09-11T11:06:36.706Z"
   },
   {
    "duration": 203,
    "start_time": "2021-09-11T11:06:37.018Z"
   },
   {
    "duration": 7,
    "start_time": "2021-09-11T11:06:37.223Z"
   },
   {
    "duration": 7,
    "start_time": "2021-09-11T11:06:37.231Z"
   },
   {
    "duration": 8,
    "start_time": "2021-09-11T11:06:37.239Z"
   },
   {
    "duration": 350,
    "start_time": "2021-09-11T11:06:37.248Z"
   },
   {
    "duration": 325,
    "start_time": "2021-09-11T11:06:37.599Z"
   },
   {
    "duration": 202,
    "start_time": "2021-09-11T11:06:37.925Z"
   },
   {
    "duration": 8,
    "start_time": "2021-09-11T11:06:38.128Z"
   },
   {
    "duration": 16,
    "start_time": "2021-09-11T11:06:38.137Z"
   },
   {
    "duration": 8,
    "start_time": "2021-09-11T11:06:38.155Z"
   },
   {
    "duration": 360,
    "start_time": "2021-09-11T11:06:38.164Z"
   },
   {
    "duration": 308,
    "start_time": "2021-09-11T11:06:38.526Z"
   },
   {
    "duration": 302,
    "start_time": "2021-09-11T11:06:38.836Z"
   },
   {
    "duration": 10,
    "start_time": "2021-09-11T11:06:39.140Z"
   },
   {
    "duration": 11,
    "start_time": "2021-09-11T11:06:39.151Z"
   },
   {
    "duration": 27,
    "start_time": "2021-09-11T11:06:39.164Z"
   }
  ],
  "kernelspec": {
   "display_name": "Python 3 (ipykernel)",
   "language": "python",
   "name": "python3"
  },
  "language_info": {
   "codemirror_mode": {
    "name": "ipython",
    "version": 3
   },
   "file_extension": ".py",
   "mimetype": "text/x-python",
   "name": "python",
   "nbconvert_exporter": "python",
   "pygments_lexer": "ipython3",
   "version": "3.9.7"
  },
  "toc": {
   "base_numbering": 1,
   "nav_menu": {
    "height": "238px",
    "width": "343px"
   },
   "number_sections": true,
   "sideBar": false,
   "skip_h1_title": true,
   "title_cell": "Содержание",
   "title_sidebar": "Contents",
   "toc_cell": true,
   "toc_position": {
    "height": "calc(100% - 180px)",
    "left": "10px",
    "top": "150px",
    "width": "165px"
   },
   "toc_section_display": true,
   "toc_window_display": false
  }
 },
 "nbformat": 4,
 "nbformat_minor": 2
}
