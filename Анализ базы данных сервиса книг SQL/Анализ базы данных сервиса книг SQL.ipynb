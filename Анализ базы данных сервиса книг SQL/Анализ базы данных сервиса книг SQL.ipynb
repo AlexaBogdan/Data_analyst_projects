{
 "cells": [
  {
   "cell_type": "markdown",
   "metadata": {},
   "source": [
    "# Проект по SQL\n",
    "Коронавирус застал мир врасплох, изменив привычный порядок вещей. В свободное время жители городов больше не выходят на улицу, не посещают кафе и торговые центры. Зато стало больше времени для книг. Это заметили стартаперы — и бросились создавать приложения для тех, кто любит читать.\n",
    "\n",
    "Наша компания решила быть на волне и купила крупный сервис для чтения книг по подписке. Наша первая задача как аналитика — проанализировать базу данных. В ней — информация о книгах, издательствах, авторах, а также пользовательские обзоры книг. Эти данные помогут сформулировать ценностное предложение для нового продукта."
   ]
  },
  {
   "cell_type": "markdown",
   "metadata": {
    "toc": true
   },
   "source": [
    "<h1>Содержание<span class=\"tocSkip\"></span></h1>\n",
    "<div class=\"toc\"><ul class=\"toc-item\"><li><span><a href=\"#Импорт-библиотек-и-данных\" data-toc-modified-id=\"Импорт-библиотек-и-данных-1\"><span class=\"toc-item-num\">1&nbsp;&nbsp;</span>Импорт библиотек и данных</a></span></li><li><span><a href=\"#Описание-данных\" data-toc-modified-id=\"Описание-данных-2\"><span class=\"toc-item-num\">2&nbsp;&nbsp;</span>Описание данных</a></span></li><li><span><a href=\"#Анализ-данных-и-расчёты\" data-toc-modified-id=\"Анализ-данных-и-расчёты-3\"><span class=\"toc-item-num\">3&nbsp;&nbsp;</span>Анализ данных и расчёты</a></span><ul class=\"toc-item\"><li><span><a href=\"#Посчитайте,-сколько-книг-вышло-после-1-января-2000-года\" data-toc-modified-id=\"Посчитайте,-сколько-книг-вышло-после-1-января-2000-года-3.1\"><span class=\"toc-item-num\">3.1&nbsp;&nbsp;</span>Посчитайте, сколько книг вышло после 1 января 2000 года</a></span></li><li><span><a href=\"#Для-каждой-книги-посчитайте-количество-обзоров-и-среднюю-оценку\" data-toc-modified-id=\"Для-каждой-книги-посчитайте-количество-обзоров-и-среднюю-оценку-3.2\"><span class=\"toc-item-num\">3.2&nbsp;&nbsp;</span>Для каждой книги посчитайте количество обзоров и среднюю оценку</a></span></li><li><span><a href=\"#Определите-издательство,-которое-выпустило-наибольшее-число-книг-толще-50-страниц\" data-toc-modified-id=\"Определите-издательство,-которое-выпустило-наибольшее-число-книг-толще-50-страниц-3.3\"><span class=\"toc-item-num\">3.3&nbsp;&nbsp;</span>Определите издательство, которое выпустило наибольшее число книг толще 50 страниц</a></span></li><li><span><a href=\"#Определите-автора-с-самой-высокой-средней-оценкой-книг\" data-toc-modified-id=\"Определите-автора-с-самой-высокой-средней-оценкой-книг-3.4\"><span class=\"toc-item-num\">3.4&nbsp;&nbsp;</span>Определите автора с самой высокой средней оценкой книг</a></span></li><li><span><a href=\"#Посчитайте-среднее-количество-обзоров-от-пользователей,-которые-поставили-больше-50-оценок\" data-toc-modified-id=\"Посчитайте-среднее-количество-обзоров-от-пользователей,-которые-поставили-больше-50-оценок-3.5\"><span class=\"toc-item-num\">3.5&nbsp;&nbsp;</span>Посчитайте среднее количество обзоров от пользователей, которые поставили больше 50 оценок</a></span></li></ul></li><li><span><a href=\"#Вывод\" data-toc-modified-id=\"Вывод-4\"><span class=\"toc-item-num\">4&nbsp;&nbsp;</span>Вывод</a></span></li></ul></div>"
   ]
  },
  {
   "cell_type": "markdown",
   "metadata": {},
   "source": [
    "## Импорт библиотек и данных"
   ]
  },
  {
   "cell_type": "code",
   "execution_count": 122,
   "metadata": {},
   "outputs": [],
   "source": [
    "import pandas as pd\n",
    "from sqlalchemy import create_engine"
   ]
  },
  {
   "cell_type": "code",
   "execution_count": 123,
   "metadata": {},
   "outputs": [],
   "source": [
    "# устанавливаем параметры\n",
    "db_config = {'user': 'praktikum_student', # имя пользователя\n",
    "             'pwd': 'Sdf4$2;d-d30pp', # пароль\n",
    "             'host': 'rc1b-wcoijxj3yxfsf3fs.mdb.yandexcloud.net',\n",
    "             'port': 6432, # порт подключения\n",
    "             'db': 'data-analyst-final-project-db'} # название базы данных\n",
    "\n",
    "connection_string = 'postgresql://{}:{}@{}:{}/{}'.format(db_config['user'],\n",
    "                                                         db_config['pwd'],\n",
    "                                                         db_config['host'],\n",
    "                                                         db_config['port'],\n",
    "                                                         db_config['db'])\n",
    "# сохраняем коннектор\n",
    "engine = create_engine(connection_string, connect_args={'sslmode':'require'}) "
   ]
  },
  {
   "cell_type": "code",
   "execution_count": 124,
   "metadata": {},
   "outputs": [],
   "source": [
    "def read_sql(SQL):\n",
    "    '''Функция передает запрос SQL методу read_sql() pandas.\n",
    "    '''\n",
    "    return pd.io.sql.read_sql(SQL, con = engine)"
   ]
  },
  {
   "cell_type": "markdown",
   "metadata": {},
   "source": [
    "## Описание данных"
   ]
  },
  {
   "cell_type": "code",
   "execution_count": 125,
   "metadata": {},
   "outputs": [
    {
     "data": {
      "text/html": [
       "<div>\n",
       "<style scoped>\n",
       "    .dataframe tbody tr th:only-of-type {\n",
       "        vertical-align: middle;\n",
       "    }\n",
       "\n",
       "    .dataframe tbody tr th {\n",
       "        vertical-align: top;\n",
       "    }\n",
       "\n",
       "    .dataframe thead th {\n",
       "        text-align: right;\n",
       "    }\n",
       "</style>\n",
       "<table border=\"1\" class=\"dataframe\">\n",
       "  <thead>\n",
       "    <tr style=\"text-align: right;\">\n",
       "      <th></th>\n",
       "      <th>book_id</th>\n",
       "      <th>author_id</th>\n",
       "      <th>title</th>\n",
       "      <th>num_pages</th>\n",
       "      <th>publication_date</th>\n",
       "      <th>publisher_id</th>\n",
       "    </tr>\n",
       "  </thead>\n",
       "  <tbody>\n",
       "    <tr>\n",
       "      <td>0</td>\n",
       "      <td>1</td>\n",
       "      <td>546</td>\n",
       "      <td>'Salem's Lot</td>\n",
       "      <td>594</td>\n",
       "      <td>2005-11-01</td>\n",
       "      <td>93</td>\n",
       "    </tr>\n",
       "    <tr>\n",
       "      <td>1</td>\n",
       "      <td>2</td>\n",
       "      <td>465</td>\n",
       "      <td>1 000 Places to See Before You Die</td>\n",
       "      <td>992</td>\n",
       "      <td>2003-05-22</td>\n",
       "      <td>336</td>\n",
       "    </tr>\n",
       "    <tr>\n",
       "      <td>2</td>\n",
       "      <td>3</td>\n",
       "      <td>407</td>\n",
       "      <td>13 Little Blue Envelopes (Little Blue Envelope...</td>\n",
       "      <td>322</td>\n",
       "      <td>2010-12-21</td>\n",
       "      <td>135</td>\n",
       "    </tr>\n",
       "    <tr>\n",
       "      <td>3</td>\n",
       "      <td>4</td>\n",
       "      <td>82</td>\n",
       "      <td>1491: New Revelations of the Americas Before C...</td>\n",
       "      <td>541</td>\n",
       "      <td>2006-10-10</td>\n",
       "      <td>309</td>\n",
       "    </tr>\n",
       "    <tr>\n",
       "      <td>4</td>\n",
       "      <td>5</td>\n",
       "      <td>125</td>\n",
       "      <td>1776</td>\n",
       "      <td>386</td>\n",
       "      <td>2006-07-04</td>\n",
       "      <td>268</td>\n",
       "    </tr>\n",
       "  </tbody>\n",
       "</table>\n",
       "</div>"
      ],
      "text/plain": [
       "   book_id  author_id                                              title  \\\n",
       "0        1        546                                       'Salem's Lot   \n",
       "1        2        465                 1 000 Places to See Before You Die   \n",
       "2        3        407  13 Little Blue Envelopes (Little Blue Envelope...   \n",
       "3        4         82  1491: New Revelations of the Americas Before C...   \n",
       "4        5        125                                               1776   \n",
       "\n",
       "   num_pages publication_date  publisher_id  \n",
       "0        594       2005-11-01            93  \n",
       "1        992       2003-05-22           336  \n",
       "2        322       2010-12-21           135  \n",
       "3        541       2006-10-10           309  \n",
       "4        386       2006-07-04           268  "
      ]
     },
     "execution_count": 125,
     "metadata": {},
     "output_type": "execute_result"
    }
   ],
   "source": [
    "SQL = 'SELECT * FROM books LIMIT 5'\n",
    "read_sql(SQL)"
   ]
  },
  {
   "cell_type": "markdown",
   "metadata": {},
   "source": [
    "Таблица books\n",
    "\n",
    "Содержит данные о книгах:\n",
    "-\t`book_id` — идентификатор книги;\n",
    "-\t`author_id` — идентификатор автора;\n",
    "-\t`title` — название книги;\n",
    "-\t`num_pages` — количество страниц;\n",
    "-\t`publication_date` — дата публикации книги;\n",
    "-\t`publisher_id` — идентификатор издателя."
   ]
  },
  {
   "cell_type": "code",
   "execution_count": 126,
   "metadata": {},
   "outputs": [
    {
     "data": {
      "text/html": [
       "<div>\n",
       "<style scoped>\n",
       "    .dataframe tbody tr th:only-of-type {\n",
       "        vertical-align: middle;\n",
       "    }\n",
       "\n",
       "    .dataframe tbody tr th {\n",
       "        vertical-align: top;\n",
       "    }\n",
       "\n",
       "    .dataframe thead th {\n",
       "        text-align: right;\n",
       "    }\n",
       "</style>\n",
       "<table border=\"1\" class=\"dataframe\">\n",
       "  <thead>\n",
       "    <tr style=\"text-align: right;\">\n",
       "      <th></th>\n",
       "      <th>author_id</th>\n",
       "      <th>author</th>\n",
       "    </tr>\n",
       "  </thead>\n",
       "  <tbody>\n",
       "    <tr>\n",
       "      <td>0</td>\n",
       "      <td>1</td>\n",
       "      <td>A.S. Byatt</td>\n",
       "    </tr>\n",
       "    <tr>\n",
       "      <td>1</td>\n",
       "      <td>2</td>\n",
       "      <td>Aesop/Laura Harris/Laura Gibbs</td>\n",
       "    </tr>\n",
       "    <tr>\n",
       "      <td>2</td>\n",
       "      <td>3</td>\n",
       "      <td>Agatha Christie</td>\n",
       "    </tr>\n",
       "    <tr>\n",
       "      <td>3</td>\n",
       "      <td>4</td>\n",
       "      <td>Alan Brennert</td>\n",
       "    </tr>\n",
       "    <tr>\n",
       "      <td>4</td>\n",
       "      <td>5</td>\n",
       "      <td>Alan Moore/David   Lloyd</td>\n",
       "    </tr>\n",
       "  </tbody>\n",
       "</table>\n",
       "</div>"
      ],
      "text/plain": [
       "   author_id                          author\n",
       "0          1                      A.S. Byatt\n",
       "1          2  Aesop/Laura Harris/Laura Gibbs\n",
       "2          3                 Agatha Christie\n",
       "3          4                   Alan Brennert\n",
       "4          5        Alan Moore/David   Lloyd"
      ]
     },
     "execution_count": 126,
     "metadata": {},
     "output_type": "execute_result"
    }
   ],
   "source": [
    "SQL = 'SELECT * FROM authors LIMIT 5'\n",
    "read_sql(SQL)"
   ]
  },
  {
   "cell_type": "markdown",
   "metadata": {},
   "source": [
    "Таблица authors\n",
    "\n",
    "Содержит данные об авторах:\n",
    "-\t`author_id` — идентификатор автора;\n",
    "-\t`author` — имя автора."
   ]
  },
  {
   "cell_type": "code",
   "execution_count": 127,
   "metadata": {},
   "outputs": [
    {
     "data": {
      "text/html": [
       "<div>\n",
       "<style scoped>\n",
       "    .dataframe tbody tr th:only-of-type {\n",
       "        vertical-align: middle;\n",
       "    }\n",
       "\n",
       "    .dataframe tbody tr th {\n",
       "        vertical-align: top;\n",
       "    }\n",
       "\n",
       "    .dataframe thead th {\n",
       "        text-align: right;\n",
       "    }\n",
       "</style>\n",
       "<table border=\"1\" class=\"dataframe\">\n",
       "  <thead>\n",
       "    <tr style=\"text-align: right;\">\n",
       "      <th></th>\n",
       "      <th>publisher_id</th>\n",
       "      <th>publisher</th>\n",
       "    </tr>\n",
       "  </thead>\n",
       "  <tbody>\n",
       "    <tr>\n",
       "      <td>0</td>\n",
       "      <td>1</td>\n",
       "      <td>Ace</td>\n",
       "    </tr>\n",
       "    <tr>\n",
       "      <td>1</td>\n",
       "      <td>2</td>\n",
       "      <td>Ace Book</td>\n",
       "    </tr>\n",
       "    <tr>\n",
       "      <td>2</td>\n",
       "      <td>3</td>\n",
       "      <td>Ace Books</td>\n",
       "    </tr>\n",
       "    <tr>\n",
       "      <td>3</td>\n",
       "      <td>4</td>\n",
       "      <td>Ace Hardcover</td>\n",
       "    </tr>\n",
       "    <tr>\n",
       "      <td>4</td>\n",
       "      <td>5</td>\n",
       "      <td>Addison Wesley Publishing Company</td>\n",
       "    </tr>\n",
       "  </tbody>\n",
       "</table>\n",
       "</div>"
      ],
      "text/plain": [
       "   publisher_id                          publisher\n",
       "0             1                                Ace\n",
       "1             2                           Ace Book\n",
       "2             3                          Ace Books\n",
       "3             4                      Ace Hardcover\n",
       "4             5  Addison Wesley Publishing Company"
      ]
     },
     "execution_count": 127,
     "metadata": {},
     "output_type": "execute_result"
    }
   ],
   "source": [
    "SQL = 'SELECT * FROM publishers LIMIT 5'\n",
    "read_sql(SQL)"
   ]
  },
  {
   "cell_type": "markdown",
   "metadata": {},
   "source": [
    "Таблица publishers\n",
    "\n",
    "Содержит данные об издательствах:\n",
    "-\t`publisher_id` — идентификатор издательства;\n",
    "-\t`publisher` — название издательства;"
   ]
  },
  {
   "cell_type": "code",
   "execution_count": 128,
   "metadata": {},
   "outputs": [
    {
     "data": {
      "text/html": [
       "<div>\n",
       "<style scoped>\n",
       "    .dataframe tbody tr th:only-of-type {\n",
       "        vertical-align: middle;\n",
       "    }\n",
       "\n",
       "    .dataframe tbody tr th {\n",
       "        vertical-align: top;\n",
       "    }\n",
       "\n",
       "    .dataframe thead th {\n",
       "        text-align: right;\n",
       "    }\n",
       "</style>\n",
       "<table border=\"1\" class=\"dataframe\">\n",
       "  <thead>\n",
       "    <tr style=\"text-align: right;\">\n",
       "      <th></th>\n",
       "      <th>rating_id</th>\n",
       "      <th>book_id</th>\n",
       "      <th>username</th>\n",
       "      <th>rating</th>\n",
       "    </tr>\n",
       "  </thead>\n",
       "  <tbody>\n",
       "    <tr>\n",
       "      <td>0</td>\n",
       "      <td>1</td>\n",
       "      <td>1</td>\n",
       "      <td>ryanfranco</td>\n",
       "      <td>4</td>\n",
       "    </tr>\n",
       "    <tr>\n",
       "      <td>1</td>\n",
       "      <td>2</td>\n",
       "      <td>1</td>\n",
       "      <td>grantpatricia</td>\n",
       "      <td>2</td>\n",
       "    </tr>\n",
       "    <tr>\n",
       "      <td>2</td>\n",
       "      <td>3</td>\n",
       "      <td>1</td>\n",
       "      <td>brandtandrea</td>\n",
       "      <td>5</td>\n",
       "    </tr>\n",
       "    <tr>\n",
       "      <td>3</td>\n",
       "      <td>4</td>\n",
       "      <td>2</td>\n",
       "      <td>lorichen</td>\n",
       "      <td>3</td>\n",
       "    </tr>\n",
       "    <tr>\n",
       "      <td>4</td>\n",
       "      <td>5</td>\n",
       "      <td>2</td>\n",
       "      <td>mariokeller</td>\n",
       "      <td>2</td>\n",
       "    </tr>\n",
       "  </tbody>\n",
       "</table>\n",
       "</div>"
      ],
      "text/plain": [
       "   rating_id  book_id       username  rating\n",
       "0          1        1     ryanfranco       4\n",
       "1          2        1  grantpatricia       2\n",
       "2          3        1   brandtandrea       5\n",
       "3          4        2       lorichen       3\n",
       "4          5        2    mariokeller       2"
      ]
     },
     "execution_count": 128,
     "metadata": {},
     "output_type": "execute_result"
    }
   ],
   "source": [
    "SQL = 'SELECT * FROM ratings LIMIT 5'\n",
    "read_sql(SQL)"
   ]
  },
  {
   "cell_type": "markdown",
   "metadata": {},
   "source": [
    "Таблица ratings\n",
    "\n",
    "Содержит данные о пользовательских оценках книг:\n",
    "-\t`rating_id` — идентификатор оценки;\n",
    "-\t`book_id` — идентификатор книги;\n",
    "-\t`username` — имя пользователя, оставившего оценку;\n",
    "- `rating` — оценка книги."
   ]
  },
  {
   "cell_type": "code",
   "execution_count": 129,
   "metadata": {},
   "outputs": [
    {
     "data": {
      "text/html": [
       "<div>\n",
       "<style scoped>\n",
       "    .dataframe tbody tr th:only-of-type {\n",
       "        vertical-align: middle;\n",
       "    }\n",
       "\n",
       "    .dataframe tbody tr th {\n",
       "        vertical-align: top;\n",
       "    }\n",
       "\n",
       "    .dataframe thead th {\n",
       "        text-align: right;\n",
       "    }\n",
       "</style>\n",
       "<table border=\"1\" class=\"dataframe\">\n",
       "  <thead>\n",
       "    <tr style=\"text-align: right;\">\n",
       "      <th></th>\n",
       "      <th>review_id</th>\n",
       "      <th>book_id</th>\n",
       "      <th>username</th>\n",
       "      <th>text</th>\n",
       "    </tr>\n",
       "  </thead>\n",
       "  <tbody>\n",
       "    <tr>\n",
       "      <td>0</td>\n",
       "      <td>1</td>\n",
       "      <td>1</td>\n",
       "      <td>brandtandrea</td>\n",
       "      <td>Mention society tell send professor analysis. ...</td>\n",
       "    </tr>\n",
       "    <tr>\n",
       "      <td>1</td>\n",
       "      <td>2</td>\n",
       "      <td>1</td>\n",
       "      <td>ryanfranco</td>\n",
       "      <td>Foot glass pretty audience hit themselves. Amo...</td>\n",
       "    </tr>\n",
       "    <tr>\n",
       "      <td>2</td>\n",
       "      <td>3</td>\n",
       "      <td>2</td>\n",
       "      <td>lorichen</td>\n",
       "      <td>Listen treat keep worry. Miss husband tax but ...</td>\n",
       "    </tr>\n",
       "    <tr>\n",
       "      <td>3</td>\n",
       "      <td>4</td>\n",
       "      <td>3</td>\n",
       "      <td>johnsonamanda</td>\n",
       "      <td>Finally month interesting blue could nature cu...</td>\n",
       "    </tr>\n",
       "    <tr>\n",
       "      <td>4</td>\n",
       "      <td>5</td>\n",
       "      <td>3</td>\n",
       "      <td>scotttamara</td>\n",
       "      <td>Nation purpose heavy give wait song will. List...</td>\n",
       "    </tr>\n",
       "  </tbody>\n",
       "</table>\n",
       "</div>"
      ],
      "text/plain": [
       "   review_id  book_id       username  \\\n",
       "0          1        1   brandtandrea   \n",
       "1          2        1     ryanfranco   \n",
       "2          3        2       lorichen   \n",
       "3          4        3  johnsonamanda   \n",
       "4          5        3    scotttamara   \n",
       "\n",
       "                                                text  \n",
       "0  Mention society tell send professor analysis. ...  \n",
       "1  Foot glass pretty audience hit themselves. Amo...  \n",
       "2  Listen treat keep worry. Miss husband tax but ...  \n",
       "3  Finally month interesting blue could nature cu...  \n",
       "4  Nation purpose heavy give wait song will. List...  "
      ]
     },
     "execution_count": 129,
     "metadata": {},
     "output_type": "execute_result"
    }
   ],
   "source": [
    "SQL = 'SELECT * FROM reviews LIMIT 5'\n",
    "read_sql(SQL)"
   ]
  },
  {
   "cell_type": "markdown",
   "metadata": {},
   "source": [
    "Таблица reviews\n",
    "\n",
    "Содержит данные о пользовательских обзорах:\n",
    "-\t`review_id` — идентификатор обзора;\n",
    "-\t`book_id` — идентификатор книги;\n",
    "-\t`username` — имя автора обзора;\n",
    "-\t`text` — текст обзора.\n",
    "\n",
    "**Вывод:** все таблицы загружены, отображаются корректно."
   ]
  },
  {
   "cell_type": "markdown",
   "metadata": {},
   "source": [
    "## Анализ данных и расчёты\n",
    "\n",
    "Нам необходимо выполнить следующие задания:\n",
    "-\tПосчитайте, сколько книг вышло после 1 января 2000 года;\n",
    "-\tДля каждой книги посчитайте количество обзоров и среднюю оценку;\n",
    "-\tОпределите издательство, которое выпустило наибольшее число книг толще 50 страниц — так вы исключите из анализа брошюры;\n",
    "-\tОпределите автора с самой высокой средней оценкой книг — учитывайте только книги с 50 и более оценками;\n",
    "-\tПосчитайте среднее количество обзоров от пользователей, которые поставили больше 50 оценок.\n",
    "\n",
    "### Посчитайте, сколько книг вышло после 1 января 2000 года"
   ]
  },
  {
   "cell_type": "code",
   "execution_count": 130,
   "metadata": {},
   "outputs": [
    {
     "data": {
      "text/html": [
       "<div>\n",
       "<style scoped>\n",
       "    .dataframe tbody tr th:only-of-type {\n",
       "        vertical-align: middle;\n",
       "    }\n",
       "\n",
       "    .dataframe tbody tr th {\n",
       "        vertical-align: top;\n",
       "    }\n",
       "\n",
       "    .dataframe thead th {\n",
       "        text-align: right;\n",
       "    }\n",
       "</style>\n",
       "<table border=\"1\" class=\"dataframe\">\n",
       "  <thead>\n",
       "    <tr style=\"text-align: right;\">\n",
       "      <th></th>\n",
       "      <th>books_cnt</th>\n",
       "    </tr>\n",
       "  </thead>\n",
       "  <tbody>\n",
       "    <tr>\n",
       "      <td>0</td>\n",
       "      <td>819</td>\n",
       "    </tr>\n",
       "  </tbody>\n",
       "</table>\n",
       "</div>"
      ],
      "text/plain": [
       "   books_cnt\n",
       "0        819"
      ]
     },
     "execution_count": 130,
     "metadata": {},
     "output_type": "execute_result"
    }
   ],
   "source": [
    "read_sql('''\n",
    "SELECT\n",
    "    COUNT(DISTINCT book_id) AS books_cnt \n",
    "FROM\n",
    "    books \n",
    "WHERE\n",
    "    publication_date > '2000-01-01'\n",
    "''')"
   ]
  },
  {
   "cell_type": "markdown",
   "metadata": {},
   "source": [
    "После 1 января 2000 года вышло 819 книг.\n",
    "\n",
    "### Для каждой книги посчитайте количество обзоров и среднюю оценку\n",
    "\n",
    "Нам необходимо соединить таблицы `reviews` и `ratings`, произвести расчеты, для удобства визуализации присоединим также таблицу `books` с названиями произведений:"
   ]
  },
  {
   "cell_type": "code",
   "execution_count": 131,
   "metadata": {},
   "outputs": [
    {
     "data": {
      "text/html": [
       "<div>\n",
       "<style scoped>\n",
       "    .dataframe tbody tr th:only-of-type {\n",
       "        vertical-align: middle;\n",
       "    }\n",
       "\n",
       "    .dataframe tbody tr th {\n",
       "        vertical-align: top;\n",
       "    }\n",
       "\n",
       "    .dataframe thead th {\n",
       "        text-align: right;\n",
       "    }\n",
       "</style>\n",
       "<table border=\"1\" class=\"dataframe\">\n",
       "  <thead>\n",
       "    <tr style=\"text-align: right;\">\n",
       "      <th></th>\n",
       "      <th>book_id</th>\n",
       "      <th>title</th>\n",
       "      <th>review_count</th>\n",
       "      <th>avg_rating</th>\n",
       "    </tr>\n",
       "  </thead>\n",
       "  <tbody>\n",
       "    <tr>\n",
       "      <td>0</td>\n",
       "      <td>948</td>\n",
       "      <td>Twilight (Twilight  #1)</td>\n",
       "      <td>7</td>\n",
       "      <td>3.662500</td>\n",
       "    </tr>\n",
       "    <tr>\n",
       "      <td>1</td>\n",
       "      <td>302</td>\n",
       "      <td>Harry Potter and the Prisoner of Azkaban (Harr...</td>\n",
       "      <td>6</td>\n",
       "      <td>4.414634</td>\n",
       "    </tr>\n",
       "    <tr>\n",
       "      <td>2</td>\n",
       "      <td>299</td>\n",
       "      <td>Harry Potter and the Chamber of Secrets (Harry...</td>\n",
       "      <td>6</td>\n",
       "      <td>4.287500</td>\n",
       "    </tr>\n",
       "    <tr>\n",
       "      <td>3</td>\n",
       "      <td>656</td>\n",
       "      <td>The Book Thief</td>\n",
       "      <td>6</td>\n",
       "      <td>4.264151</td>\n",
       "    </tr>\n",
       "    <tr>\n",
       "      <td>4</td>\n",
       "      <td>734</td>\n",
       "      <td>The Glass Castle</td>\n",
       "      <td>6</td>\n",
       "      <td>4.206897</td>\n",
       "    </tr>\n",
       "    <tr>\n",
       "      <td>5</td>\n",
       "      <td>497</td>\n",
       "      <td>Outlander (Outlander  #1)</td>\n",
       "      <td>6</td>\n",
       "      <td>4.125000</td>\n",
       "    </tr>\n",
       "    <tr>\n",
       "      <td>6</td>\n",
       "      <td>750</td>\n",
       "      <td>The Hobbit  or There and Back Again</td>\n",
       "      <td>6</td>\n",
       "      <td>4.125000</td>\n",
       "    </tr>\n",
       "    <tr>\n",
       "      <td>7</td>\n",
       "      <td>695</td>\n",
       "      <td>The Curious Incident of the Dog in the Night-Time</td>\n",
       "      <td>6</td>\n",
       "      <td>4.081081</td>\n",
       "    </tr>\n",
       "    <tr>\n",
       "      <td>8</td>\n",
       "      <td>779</td>\n",
       "      <td>The Lightning Thief (Percy Jackson and the Oly...</td>\n",
       "      <td>6</td>\n",
       "      <td>4.080645</td>\n",
       "    </tr>\n",
       "    <tr>\n",
       "      <td>9</td>\n",
       "      <td>963</td>\n",
       "      <td>Water for Elephants</td>\n",
       "      <td>6</td>\n",
       "      <td>3.977273</td>\n",
       "    </tr>\n",
       "  </tbody>\n",
       "</table>\n",
       "</div>"
      ],
      "text/plain": [
       "   book_id                                              title  review_count  \\\n",
       "0      948                            Twilight (Twilight  #1)             7   \n",
       "1      302  Harry Potter and the Prisoner of Azkaban (Harr...             6   \n",
       "2      299  Harry Potter and the Chamber of Secrets (Harry...             6   \n",
       "3      656                                     The Book Thief             6   \n",
       "4      734                                   The Glass Castle             6   \n",
       "5      497                          Outlander (Outlander  #1)             6   \n",
       "6      750                The Hobbit  or There and Back Again             6   \n",
       "7      695  The Curious Incident of the Dog in the Night-Time             6   \n",
       "8      779  The Lightning Thief (Percy Jackson and the Oly...             6   \n",
       "9      963                                Water for Elephants             6   \n",
       "\n",
       "   avg_rating  \n",
       "0    3.662500  \n",
       "1    4.414634  \n",
       "2    4.287500  \n",
       "3    4.264151  \n",
       "4    4.206897  \n",
       "5    4.125000  \n",
       "6    4.125000  \n",
       "7    4.081081  \n",
       "8    4.080645  \n",
       "9    3.977273  "
      ]
     },
     "execution_count": 131,
     "metadata": {},
     "output_type": "execute_result"
    }
   ],
   "source": [
    "read_sql('''\n",
    "SELECT\n",
    "    reviews.book_id,\n",
    "    books.title AS title,\n",
    "    COUNT(DISTINCT(review_id)) AS review_count,\n",
    "    AVG(rating) AS avg_rating\n",
    "FROM\n",
    "    ratings\n",
    "    LEFT JOIN reviews ON reviews.book_id = ratings.book_id\n",
    "    LEFT JOIN books ON books.book_id = ratings.book_id\n",
    "GROUP BY\n",
    "    reviews.book_id,\n",
    "    books.title\n",
    "ORDER BY\n",
    "    review_count DESC,\n",
    "    avg_rating DESC\n",
    "    LIMIT 10\n",
    "''')"
   ]
  },
  {
   "cell_type": "markdown",
   "metadata": {},
   "source": [
    "По количеству обзоров лидер \"Сумерки\", однако средняя оценка этой книги - довольно \"средняя\" - 3,7.\n",
    "\n",
    "Мы отфильтровали список по двум параметрам (обзоры и средняя оценка), получили список топ-10 книг. На 2 и 3 месте - книги о Гарри Поттере."
   ]
  },
  {
   "cell_type": "markdown",
   "metadata": {},
   "source": [
    "### Определите издательство, которое выпустило наибольшее число книг толще 50 страниц\n",
    "\n",
    "Соединим таблицы `books` и `publishers`, посчитаем количество выпущенных книг и выведем топ-3 издательства:"
   ]
  },
  {
   "cell_type": "code",
   "execution_count": 132,
   "metadata": {
    "scrolled": true
   },
   "outputs": [
    {
     "data": {
      "text/html": [
       "<div>\n",
       "<style scoped>\n",
       "    .dataframe tbody tr th:only-of-type {\n",
       "        vertical-align: middle;\n",
       "    }\n",
       "\n",
       "    .dataframe tbody tr th {\n",
       "        vertical-align: top;\n",
       "    }\n",
       "\n",
       "    .dataframe thead th {\n",
       "        text-align: right;\n",
       "    }\n",
       "</style>\n",
       "<table border=\"1\" class=\"dataframe\">\n",
       "  <thead>\n",
       "    <tr style=\"text-align: right;\">\n",
       "      <th></th>\n",
       "      <th>publisher</th>\n",
       "      <th>book_count</th>\n",
       "    </tr>\n",
       "  </thead>\n",
       "  <tbody>\n",
       "    <tr>\n",
       "      <td>0</td>\n",
       "      <td>Penguin Books</td>\n",
       "      <td>42</td>\n",
       "    </tr>\n",
       "    <tr>\n",
       "      <td>1</td>\n",
       "      <td>Vintage</td>\n",
       "      <td>31</td>\n",
       "    </tr>\n",
       "    <tr>\n",
       "      <td>2</td>\n",
       "      <td>Grand Central Publishing</td>\n",
       "      <td>25</td>\n",
       "    </tr>\n",
       "  </tbody>\n",
       "</table>\n",
       "</div>"
      ],
      "text/plain": [
       "                  publisher  book_count\n",
       "0             Penguin Books          42\n",
       "1                   Vintage          31\n",
       "2  Grand Central Publishing          25"
      ]
     },
     "execution_count": 132,
     "metadata": {},
     "output_type": "execute_result"
    }
   ],
   "source": [
    "read_sql('''\n",
    "SELECT\n",
    "    publishers.publisher, \n",
    "    COUNT(book_id) AS book_count\n",
    "FROM \n",
    "    books \n",
    "    INNER JOIN publishers ON publishers.publisher_id=books.publisher_id\n",
    "WHERE \n",
    "    num_pages > 50 \n",
    "GROUP BY \n",
    "    publishers.publisher_id \n",
    "ORDER BY \n",
    "    book_count DESC \n",
    "    LIMIT 3\n",
    "''')"
   ]
  },
  {
   "cell_type": "markdown",
   "metadata": {},
   "source": [
    "- на 1 месте `Penguin Books` - 42 книги\n",
    "- на 2 месте `Vintage` - 31 книга\n",
    "- на 3 месте `Grand Central Publishing` - 25 книг"
   ]
  },
  {
   "cell_type": "markdown",
   "metadata": {},
   "source": [
    "### Определите автора с самой высокой средней оценкой книг\n",
    "\n",
    "Посмотрим топ-5 авторов с самой высокой средней оценкой:"
   ]
  },
  {
   "cell_type": "code",
   "execution_count": 133,
   "metadata": {
    "scrolled": true
   },
   "outputs": [
    {
     "data": {
      "text/html": [
       "<div>\n",
       "<style scoped>\n",
       "    .dataframe tbody tr th:only-of-type {\n",
       "        vertical-align: middle;\n",
       "    }\n",
       "\n",
       "    .dataframe tbody tr th {\n",
       "        vertical-align: top;\n",
       "    }\n",
       "\n",
       "    .dataframe thead th {\n",
       "        text-align: right;\n",
       "    }\n",
       "</style>\n",
       "<table border=\"1\" class=\"dataframe\">\n",
       "  <thead>\n",
       "    <tr style=\"text-align: right;\">\n",
       "      <th></th>\n",
       "      <th>author</th>\n",
       "      <th>rating</th>\n",
       "    </tr>\n",
       "  </thead>\n",
       "  <tbody>\n",
       "    <tr>\n",
       "      <td>0</td>\n",
       "      <td>J.K. Rowling/Mary GrandPré</td>\n",
       "      <td>4.283844</td>\n",
       "    </tr>\n",
       "    <tr>\n",
       "      <td>1</td>\n",
       "      <td>Markus Zusak/Cao Xuân Việt Khương</td>\n",
       "      <td>4.264151</td>\n",
       "    </tr>\n",
       "    <tr>\n",
       "      <td>2</td>\n",
       "      <td>J.R.R. Tolkien</td>\n",
       "      <td>4.258446</td>\n",
       "    </tr>\n",
       "    <tr>\n",
       "      <td>3</td>\n",
       "      <td>Louisa May Alcott</td>\n",
       "      <td>4.192308</td>\n",
       "    </tr>\n",
       "    <tr>\n",
       "      <td>4</td>\n",
       "      <td>Rick Riordan</td>\n",
       "      <td>4.080645</td>\n",
       "    </tr>\n",
       "  </tbody>\n",
       "</table>\n",
       "</div>"
      ],
      "text/plain": [
       "                              author    rating\n",
       "0         J.K. Rowling/Mary GrandPré  4.283844\n",
       "1  Markus Zusak/Cao Xuân Việt Khương  4.264151\n",
       "2                     J.R.R. Tolkien  4.258446\n",
       "3                  Louisa May Alcott  4.192308\n",
       "4                       Rick Riordan  4.080645"
      ]
     },
     "execution_count": 133,
     "metadata": {},
     "output_type": "execute_result"
    }
   ],
   "source": [
    "read_sql('''\n",
    "WITH top_author AS\n",
    "    (SELECT\n",
    "        book_id,\n",
    "        COUNT(rating_id) AS count,\n",
    "        AVG(ratings.rating) AS avg_rating\n",
    "    FROM\n",
    "        ratings\n",
    "    GROUP BY\n",
    "        book_id\n",
    "    HAVING\n",
    "        COUNT(rating_id) >= 50)\n",
    "        \n",
    "SELECT\n",
    "    authors.author,\n",
    "    AVG(top_author.avg_rating) AS rating\n",
    "FROM\n",
    "    books\n",
    "    INNER JOIN authors ON authors.author_id = books.author_id\n",
    "    INNER JOIN top_author ON top_author.book_id = books.book_id\n",
    "GROUP BY\n",
    "    authors.author,\n",
    "    authors.author_id\n",
    "ORDER BY\n",
    "    rating DESC\n",
    "    LIMIT 5\n",
    "''')"
   ]
  },
  {
   "cell_type": "markdown",
   "metadata": {},
   "source": [
    "- На 1 месте писательница `J.K. Rowling` - автор книг о Гарри Поттере - перекликается с рейтингом книг (входят в топ-3).\n",
    "- на 2 месте `Markus Zusak` - автор \"Книжный вор\" (топ 4 нашего списка)\n",
    "- на 3 месте `J.R.R. Tolkien` - автор \"Властелина колец\" и \"Хоббит: туда и обратно\" (топ 7 из нашего списка)"
   ]
  },
  {
   "cell_type": "markdown",
   "metadata": {},
   "source": [
    "### Посчитайте среднее количество обзоров от пользователей, которые поставили больше 50 оценок"
   ]
  },
  {
   "cell_type": "code",
   "execution_count": 134,
   "metadata": {},
   "outputs": [
    {
     "data": {
      "text/html": [
       "<div>\n",
       "<style scoped>\n",
       "    .dataframe tbody tr th:only-of-type {\n",
       "        vertical-align: middle;\n",
       "    }\n",
       "\n",
       "    .dataframe tbody tr th {\n",
       "        vertical-align: top;\n",
       "    }\n",
       "\n",
       "    .dataframe thead th {\n",
       "        text-align: right;\n",
       "    }\n",
       "</style>\n",
       "<table border=\"1\" class=\"dataframe\">\n",
       "  <thead>\n",
       "    <tr style=\"text-align: right;\">\n",
       "      <th></th>\n",
       "      <th>avg_count</th>\n",
       "    </tr>\n",
       "  </thead>\n",
       "  <tbody>\n",
       "    <tr>\n",
       "      <td>0</td>\n",
       "      <td>24.333333</td>\n",
       "    </tr>\n",
       "  </tbody>\n",
       "</table>\n",
       "</div>"
      ],
      "text/plain": [
       "   avg_count\n",
       "0  24.333333"
      ]
     },
     "execution_count": 134,
     "metadata": {},
     "output_type": "execute_result"
    }
   ],
   "source": [
    "read_sql('''\n",
    "SELECT\n",
    "    AVG(reviews_num) AS avg_count\n",
    "FROM\n",
    "    (SELECT\n",
    "        COUNT(review_id) AS reviews_num\n",
    "    FROM\n",
    "        reviews\n",
    "        INNER JOIN\n",
    "        (SELECT\n",
    "            username,\n",
    "            COUNT (rating_id) AS ratings_num\n",
    "        FROM\n",
    "            ratings\n",
    "        GROUP BY\n",
    "            username\n",
    "        HAVING COUNT (rating_id) > 50 ) AS ratings_users ON ratings_users.username = reviews.username\n",
    "    GROUP BY\n",
    "        reviews.username) AS reviews_num\n",
    "''')"
   ]
  },
  {
   "cell_type": "markdown",
   "metadata": {},
   "source": [
    "Пользователи, которые поставили больше 50 оценок, в среднем делают 24 обзора."
   ]
  },
  {
   "cell_type": "markdown",
   "metadata": {},
   "source": [
    "## Вывод\n",
    "\n",
    "- После 1 января 2000 года вышло `819 книг`.\n",
    "- По количеству обзоров лидирует произведение `\"Сумерки\"`, средняя оценка этой книги - 3,7.\n",
    "- Наибольшее число книг толще 50 страниц выпустило издательство `Penguin Books` - 42 книги.\n",
    "- Автор с самой высокой средней оценкой книг - `J.K. Rowling` - 4,28.\n",
    "- Среднее количество обзоров от пользователей, которые поставили больше 50 оценок - `24 обзора`."
   ]
  }
 ],
 "metadata": {
  "ExecuteTimeLog": [
   {
    "duration": 861,
    "start_time": "2022-02-03T07:14:30.354Z"
   },
   {
    "duration": 110,
    "start_time": "2022-02-03T07:16:46.881Z"
   },
   {
    "duration": 46,
    "start_time": "2022-02-03T07:17:32.193Z"
   },
   {
    "duration": 5,
    "start_time": "2022-02-03T07:18:20.316Z"
   },
   {
    "duration": 4,
    "start_time": "2022-02-03T07:25:11.414Z"
   },
   {
    "duration": 800,
    "start_time": "2022-02-03T07:25:47.813Z"
   },
   {
    "duration": 3,
    "start_time": "2022-02-03T07:26:07.696Z"
   },
   {
    "duration": 10,
    "start_time": "2022-02-03T07:26:07.701Z"
   },
   {
    "duration": 9,
    "start_time": "2022-02-03T07:26:07.713Z"
   },
   {
    "duration": 579,
    "start_time": "2022-02-03T07:26:07.724Z"
   },
   {
    "duration": 4,
    "start_time": "2022-02-03T07:26:32.748Z"
   },
   {
    "duration": 279,
    "start_time": "2022-02-03T07:26:50.385Z"
   },
   {
    "duration": 67,
    "start_time": "2022-02-03T07:29:25.234Z"
   },
   {
    "duration": 62,
    "start_time": "2022-02-03T07:30:21.455Z"
   },
   {
    "duration": 69,
    "start_time": "2022-02-03T07:31:09.588Z"
   },
   {
    "duration": 70,
    "start_time": "2022-02-03T07:32:01.633Z"
   },
   {
    "duration": 66,
    "start_time": "2022-02-03T07:43:32.232Z"
   },
   {
    "duration": 65,
    "start_time": "2022-02-03T07:43:41.162Z"
   },
   {
    "duration": 65,
    "start_time": "2022-02-03T08:14:42.657Z"
   },
   {
    "duration": 682,
    "start_time": "2022-02-03T08:15:40.274Z"
   },
   {
    "duration": 78,
    "start_time": "2022-02-03T08:16:06.972Z"
   },
   {
    "duration": 77,
    "start_time": "2022-02-03T08:24:30.482Z"
   },
   {
    "duration": 78,
    "start_time": "2022-02-03T08:26:51.057Z"
   },
   {
    "duration": 4,
    "start_time": "2022-02-03T08:26:55.605Z"
   },
   {
    "duration": 14,
    "start_time": "2022-02-03T08:26:55.611Z"
   },
   {
    "duration": 13,
    "start_time": "2022-02-03T08:26:55.628Z"
   },
   {
    "duration": 212,
    "start_time": "2022-02-03T08:26:55.673Z"
   },
   {
    "duration": 63,
    "start_time": "2022-02-03T08:26:55.888Z"
   },
   {
    "duration": 65,
    "start_time": "2022-02-03T08:26:55.955Z"
   },
   {
    "duration": 64,
    "start_time": "2022-02-03T08:26:56.023Z"
   },
   {
    "duration": 66,
    "start_time": "2022-02-03T08:26:56.090Z"
   },
   {
    "duration": 62,
    "start_time": "2022-02-03T08:26:56.158Z"
   },
   {
    "duration": 75,
    "start_time": "2022-02-03T08:26:56.222Z"
   },
   {
    "duration": 96,
    "start_time": "2022-02-03T08:26:56.299Z"
   },
   {
    "duration": 73,
    "start_time": "2022-02-03T08:29:01.749Z"
   },
   {
    "duration": 646,
    "start_time": "2022-02-03T08:30:06.601Z"
   },
   {
    "duration": 627,
    "start_time": "2022-02-03T08:30:27.008Z"
   },
   {
    "duration": 628,
    "start_time": "2022-02-03T08:31:14.554Z"
   },
   {
    "duration": 83,
    "start_time": "2022-02-03T08:34:48.410Z"
   },
   {
    "duration": 640,
    "start_time": "2022-02-03T08:37:38.612Z"
   },
   {
    "duration": 82,
    "start_time": "2022-02-03T08:38:01.621Z"
   },
   {
    "duration": 87,
    "start_time": "2022-02-03T08:38:25.387Z"
   },
   {
    "duration": 282,
    "start_time": "2022-02-03T08:47:13.520Z"
   },
   {
    "duration": 108,
    "start_time": "2022-02-03T08:47:24.848Z"
   },
   {
    "duration": 66,
    "start_time": "2022-02-03T08:47:36.729Z"
   },
   {
    "duration": 682,
    "start_time": "2022-02-03T08:51:59.499Z"
   },
   {
    "duration": 60,
    "start_time": "2022-02-03T08:52:27.808Z"
   },
   {
    "duration": 96,
    "start_time": "2022-02-03T09:25:14.256Z"
   },
   {
    "duration": 66,
    "start_time": "2022-02-03T09:33:52.889Z"
   },
   {
    "duration": 65,
    "start_time": "2022-02-03T09:34:41.124Z"
   },
   {
    "duration": 924,
    "start_time": "2022-02-03T09:49:38.118Z"
   },
   {
    "duration": 65,
    "start_time": "2022-02-03T09:50:41.128Z"
   },
   {
    "duration": 65,
    "start_time": "2022-02-03T09:56:32.537Z"
   },
   {
    "duration": 65,
    "start_time": "2022-02-03T10:07:15.953Z"
   },
   {
    "duration": 62,
    "start_time": "2022-02-03T10:09:31.906Z"
   },
   {
    "duration": 82,
    "start_time": "2022-02-03T10:18:54.924Z"
   },
   {
    "duration": 721,
    "start_time": "2022-02-03T10:19:17.490Z"
   },
   {
    "duration": 80,
    "start_time": "2022-02-03T10:19:55.041Z"
   },
   {
    "duration": 78,
    "start_time": "2022-02-03T10:20:39.630Z"
   },
   {
    "duration": 3,
    "start_time": "2022-02-03T10:21:43.336Z"
   },
   {
    "duration": 11,
    "start_time": "2022-02-03T10:21:43.342Z"
   },
   {
    "duration": 5,
    "start_time": "2022-02-03T10:21:43.356Z"
   },
   {
    "duration": 248,
    "start_time": "2022-02-03T10:21:43.364Z"
   },
   {
    "duration": 69,
    "start_time": "2022-02-03T10:21:43.614Z"
   },
   {
    "duration": 64,
    "start_time": "2022-02-03T10:21:43.686Z"
   },
   {
    "duration": 73,
    "start_time": "2022-02-03T10:21:43.753Z"
   },
   {
    "duration": 73,
    "start_time": "2022-02-03T10:21:43.829Z"
   },
   {
    "duration": 64,
    "start_time": "2022-02-03T10:21:43.904Z"
   },
   {
    "duration": 89,
    "start_time": "2022-02-03T10:21:43.973Z"
   },
   {
    "duration": 71,
    "start_time": "2022-02-03T10:21:44.065Z"
   },
   {
    "duration": 74,
    "start_time": "2022-02-03T10:21:44.138Z"
   },
   {
    "duration": 70,
    "start_time": "2022-02-03T10:21:44.214Z"
   },
   {
    "duration": 697,
    "start_time": "2022-02-03T17:12:18.993Z"
   },
   {
    "duration": 32,
    "start_time": "2022-02-03T17:12:19.692Z"
   },
   {
    "duration": 4,
    "start_time": "2022-02-03T17:12:19.726Z"
   },
   {
    "duration": 275,
    "start_time": "2022-02-03T17:12:19.732Z"
   },
   {
    "duration": 76,
    "start_time": "2022-02-03T17:12:20.010Z"
   },
   {
    "duration": 75,
    "start_time": "2022-02-03T17:12:20.088Z"
   },
   {
    "duration": 77,
    "start_time": "2022-02-03T17:12:20.165Z"
   },
   {
    "duration": 76,
    "start_time": "2022-02-03T17:12:20.245Z"
   },
   {
    "duration": 74,
    "start_time": "2022-02-03T17:12:20.323Z"
   },
   {
    "duration": 92,
    "start_time": "2022-02-03T17:12:20.400Z"
   },
   {
    "duration": 77,
    "start_time": "2022-02-03T17:12:20.493Z"
   },
   {
    "duration": 78,
    "start_time": "2022-02-03T17:12:20.573Z"
   },
   {
    "duration": 78,
    "start_time": "2022-02-03T17:12:20.653Z"
   },
   {
    "duration": 119,
    "start_time": "2022-02-03T17:14:05.834Z"
   },
   {
    "duration": 336,
    "start_time": "2022-02-03T17:38:58.979Z"
   },
   {
    "duration": 842,
    "start_time": "2022-02-03T17:39:05.279Z"
   },
   {
    "duration": 50,
    "start_time": "2022-02-03T17:39:06.124Z"
   },
   {
    "duration": 3,
    "start_time": "2022-02-03T17:39:06.177Z"
   },
   {
    "duration": 243,
    "start_time": "2022-02-03T17:39:06.183Z"
   },
   {
    "duration": 65,
    "start_time": "2022-02-03T17:39:06.429Z"
   },
   {
    "duration": 66,
    "start_time": "2022-02-03T17:39:06.496Z"
   },
   {
    "duration": 67,
    "start_time": "2022-02-03T17:39:06.565Z"
   },
   {
    "duration": 68,
    "start_time": "2022-02-03T17:39:06.636Z"
   },
   {
    "duration": 64,
    "start_time": "2022-02-03T17:39:06.707Z"
   },
   {
    "duration": 705,
    "start_time": "2022-02-03T17:39:06.773Z"
   },
   {
    "duration": -447,
    "start_time": "2022-02-03T17:39:07.928Z"
   },
   {
    "duration": -450,
    "start_time": "2022-02-03T17:39:07.932Z"
   },
   {
    "duration": -452,
    "start_time": "2022-02-03T17:39:07.936Z"
   },
   {
    "duration": 645,
    "start_time": "2022-02-03T17:39:21.295Z"
   },
   {
    "duration": 672,
    "start_time": "2022-02-03T17:39:43.902Z"
   },
   {
    "duration": 75,
    "start_time": "2022-02-03T17:40:07.310Z"
   },
   {
    "duration": 89,
    "start_time": "2022-02-03T17:40:15.812Z"
   },
   {
    "duration": 100,
    "start_time": "2022-02-03T17:41:02.146Z"
   },
   {
    "duration": 122,
    "start_time": "2022-02-03T17:41:23.027Z"
   },
   {
    "duration": 122,
    "start_time": "2022-02-03T17:41:31.617Z"
   },
   {
    "duration": 84,
    "start_time": "2022-02-03T17:42:28.600Z"
   },
   {
    "duration": 83,
    "start_time": "2022-02-03T17:42:49.668Z"
   },
   {
    "duration": 107,
    "start_time": "2022-02-03T17:43:23.194Z"
   },
   {
    "duration": 97,
    "start_time": "2022-02-03T17:44:13.474Z"
   },
   {
    "duration": 645,
    "start_time": "2022-02-03T17:46:21.611Z"
   },
   {
    "duration": 110,
    "start_time": "2022-02-03T17:48:39.728Z"
   },
   {
    "duration": 1063,
    "start_time": "2022-02-03T17:50:09.374Z"
   },
   {
    "duration": 206,
    "start_time": "2022-02-03T17:50:23.086Z"
   },
   {
    "duration": 131,
    "start_time": "2022-02-03T17:50:38.879Z"
   },
   {
    "duration": 110,
    "start_time": "2022-02-03T17:51:09.347Z"
   },
   {
    "duration": 114,
    "start_time": "2022-02-03T17:54:45.258Z"
   },
   {
    "duration": 4,
    "start_time": "2022-02-03T17:54:48.997Z"
   },
   {
    "duration": 9,
    "start_time": "2022-02-03T17:54:49.003Z"
   },
   {
    "duration": 9,
    "start_time": "2022-02-03T17:54:49.015Z"
   },
   {
    "duration": 209,
    "start_time": "2022-02-03T17:54:49.027Z"
   },
   {
    "duration": 61,
    "start_time": "2022-02-03T17:54:49.239Z"
   },
   {
    "duration": 60,
    "start_time": "2022-02-03T17:54:49.302Z"
   },
   {
    "duration": 61,
    "start_time": "2022-02-03T17:54:49.365Z"
   },
   {
    "duration": 62,
    "start_time": "2022-02-03T17:54:49.429Z"
   },
   {
    "duration": 60,
    "start_time": "2022-02-03T17:54:49.495Z"
   },
   {
    "duration": 104,
    "start_time": "2022-02-03T17:54:49.557Z"
   },
   {
    "duration": 60,
    "start_time": "2022-02-03T17:54:49.664Z"
   },
   {
    "duration": 64,
    "start_time": "2022-02-03T17:54:49.726Z"
   },
   {
    "duration": 61,
    "start_time": "2022-02-03T17:54:49.792Z"
   },
   {
    "duration": 98,
    "start_time": "2022-02-03T17:55:40.734Z"
   },
   {
    "duration": 3,
    "start_time": "2022-02-03T17:55:48.435Z"
   },
   {
    "duration": 6,
    "start_time": "2022-02-03T17:55:48.441Z"
   },
   {
    "duration": 5,
    "start_time": "2022-02-03T17:55:48.450Z"
   },
   {
    "duration": 210,
    "start_time": "2022-02-03T17:55:48.458Z"
   },
   {
    "duration": 61,
    "start_time": "2022-02-03T17:55:48.670Z"
   },
   {
    "duration": 62,
    "start_time": "2022-02-03T17:55:48.734Z"
   },
   {
    "duration": 63,
    "start_time": "2022-02-03T17:55:48.800Z"
   },
   {
    "duration": 71,
    "start_time": "2022-02-03T17:55:48.866Z"
   },
   {
    "duration": 60,
    "start_time": "2022-02-03T17:55:48.940Z"
   },
   {
    "duration": 91,
    "start_time": "2022-02-03T17:55:49.002Z"
   },
   {
    "duration": 62,
    "start_time": "2022-02-03T17:55:49.095Z"
   },
   {
    "duration": 65,
    "start_time": "2022-02-03T17:55:49.159Z"
   },
   {
    "duration": 62,
    "start_time": "2022-02-03T17:55:49.226Z"
   },
   {
    "duration": 3,
    "start_time": "2022-02-03T17:57:31.713Z"
   },
   {
    "duration": 4,
    "start_time": "2022-02-03T17:57:47.913Z"
   },
   {
    "duration": 4,
    "start_time": "2022-02-03T17:58:01.592Z"
   },
   {
    "duration": 94,
    "start_time": "2022-02-03T17:58:01.606Z"
   },
   {
    "duration": 23,
    "start_time": "2022-02-03T17:58:01.704Z"
   },
   {
    "duration": 287,
    "start_time": "2022-02-03T17:58:01.731Z"
   },
   {
    "duration": 66,
    "start_time": "2022-02-03T17:58:02.021Z"
   },
   {
    "duration": 66,
    "start_time": "2022-02-03T17:58:02.090Z"
   },
   {
    "duration": 69,
    "start_time": "2022-02-03T17:58:02.158Z"
   },
   {
    "duration": 68,
    "start_time": "2022-02-03T17:58:02.229Z"
   },
   {
    "duration": 64,
    "start_time": "2022-02-03T17:58:02.300Z"
   },
   {
    "duration": 3,
    "start_time": "2022-02-03T17:58:02.367Z"
   },
   {
    "duration": 289,
    "start_time": "2022-02-03T17:58:02.373Z"
   },
   {
    "duration": -459,
    "start_time": "2022-02-03T17:58:03.124Z"
   },
   {
    "duration": -461,
    "start_time": "2022-02-03T17:58:03.128Z"
   },
   {
    "duration": -462,
    "start_time": "2022-02-03T17:58:03.131Z"
   },
   {
    "duration": 4,
    "start_time": "2022-02-03T17:58:25.344Z"
   },
   {
    "duration": 269,
    "start_time": "2022-02-03T17:58:34.151Z"
   },
   {
    "duration": 277,
    "start_time": "2022-02-03T17:59:43.028Z"
   },
   {
    "duration": 299,
    "start_time": "2022-02-03T18:02:07.267Z"
   },
   {
    "duration": 297,
    "start_time": "2022-02-03T18:02:57.201Z"
   },
   {
    "duration": 287,
    "start_time": "2022-02-03T18:03:17.976Z"
   },
   {
    "duration": 3,
    "start_time": "2022-02-03T18:03:41.869Z"
   },
   {
    "duration": 7,
    "start_time": "2022-02-03T18:03:41.875Z"
   },
   {
    "duration": 9,
    "start_time": "2022-02-03T18:03:41.885Z"
   },
   {
    "duration": 221,
    "start_time": "2022-02-03T18:03:41.897Z"
   },
   {
    "duration": 65,
    "start_time": "2022-02-03T18:03:42.121Z"
   },
   {
    "duration": 64,
    "start_time": "2022-02-03T18:03:42.189Z"
   },
   {
    "duration": 70,
    "start_time": "2022-02-03T18:03:42.256Z"
   },
   {
    "duration": 66,
    "start_time": "2022-02-03T18:03:42.329Z"
   },
   {
    "duration": 69,
    "start_time": "2022-02-03T18:03:42.399Z"
   },
   {
    "duration": 822,
    "start_time": "2022-02-03T18:03:42.470Z"
   },
   {
    "duration": -475,
    "start_time": "2022-02-03T18:03:43.769Z"
   },
   {
    "duration": -480,
    "start_time": "2022-02-03T18:03:43.775Z"
   },
   {
    "duration": -484,
    "start_time": "2022-02-03T18:03:43.781Z"
   },
   {
    "duration": -486,
    "start_time": "2022-02-03T18:03:43.784Z"
   },
   {
    "duration": 638,
    "start_time": "2022-02-03T18:04:37.613Z"
   },
   {
    "duration": 656,
    "start_time": "2022-02-03T18:04:58.169Z"
   },
   {
    "duration": 97,
    "start_time": "2022-02-03T18:05:25.780Z"
   },
   {
    "duration": 3,
    "start_time": "2022-02-03T18:06:01.962Z"
   },
   {
    "duration": 8,
    "start_time": "2022-02-03T18:06:01.969Z"
   },
   {
    "duration": 11,
    "start_time": "2022-02-03T18:06:01.981Z"
   },
   {
    "duration": 238,
    "start_time": "2022-02-03T18:06:01.995Z"
   },
   {
    "duration": 67,
    "start_time": "2022-02-03T18:06:02.236Z"
   },
   {
    "duration": 67,
    "start_time": "2022-02-03T18:06:02.305Z"
   },
   {
    "duration": 66,
    "start_time": "2022-02-03T18:06:02.374Z"
   },
   {
    "duration": 110,
    "start_time": "2022-02-03T18:06:02.443Z"
   },
   {
    "duration": 141,
    "start_time": "2022-02-03T18:06:02.556Z"
   },
   {
    "duration": 100,
    "start_time": "2022-02-03T18:06:02.699Z"
   },
   {
    "duration": 87,
    "start_time": "2022-02-03T18:06:02.801Z"
   },
   {
    "duration": 67,
    "start_time": "2022-02-03T18:06:02.890Z"
   },
   {
    "duration": 69,
    "start_time": "2022-02-03T18:06:02.959Z"
   },
   {
    "duration": 67,
    "start_time": "2022-02-03T18:06:03.031Z"
   },
   {
    "duration": 112,
    "start_time": "2022-02-03T18:11:32.824Z"
   },
   {
    "duration": 100,
    "start_time": "2022-02-03T18:14:15.232Z"
   },
   {
    "duration": 70,
    "start_time": "2022-02-03T18:14:21.432Z"
   },
   {
    "duration": 83,
    "start_time": "2022-02-03T18:16:31.650Z"
   },
   {
    "duration": 3,
    "start_time": "2022-02-03T18:23:27.168Z"
   },
   {
    "duration": 7,
    "start_time": "2022-02-03T18:23:27.177Z"
   },
   {
    "duration": 5,
    "start_time": "2022-02-03T18:23:27.187Z"
   },
   {
    "duration": 218,
    "start_time": "2022-02-03T18:23:27.195Z"
   },
   {
    "duration": 64,
    "start_time": "2022-02-03T18:23:27.415Z"
   },
   {
    "duration": 64,
    "start_time": "2022-02-03T18:23:27.482Z"
   },
   {
    "duration": 65,
    "start_time": "2022-02-03T18:23:27.549Z"
   },
   {
    "duration": 65,
    "start_time": "2022-02-03T18:23:27.617Z"
   },
   {
    "duration": 63,
    "start_time": "2022-02-03T18:23:27.686Z"
   },
   {
    "duration": 83,
    "start_time": "2022-02-03T18:23:27.752Z"
   },
   {
    "duration": 63,
    "start_time": "2022-02-03T18:23:27.838Z"
   },
   {
    "duration": 66,
    "start_time": "2022-02-03T18:23:27.904Z"
   },
   {
    "duration": 65,
    "start_time": "2022-02-03T18:23:27.972Z"
   },
   {
    "duration": 110,
    "start_time": "2022-02-03T18:23:41.367Z"
   },
   {
    "duration": 84,
    "start_time": "2022-02-03T18:23:45.229Z"
   },
   {
    "duration": 4,
    "start_time": "2022-02-03T18:23:49.468Z"
   },
   {
    "duration": 7,
    "start_time": "2022-02-03T18:23:49.474Z"
   },
   {
    "duration": 5,
    "start_time": "2022-02-03T18:23:49.484Z"
   },
   {
    "duration": 209,
    "start_time": "2022-02-03T18:23:49.492Z"
   },
   {
    "duration": 62,
    "start_time": "2022-02-03T18:23:49.704Z"
   },
   {
    "duration": 62,
    "start_time": "2022-02-03T18:23:49.768Z"
   },
   {
    "duration": 61,
    "start_time": "2022-02-03T18:23:49.833Z"
   },
   {
    "duration": 63,
    "start_time": "2022-02-03T18:23:49.898Z"
   },
   {
    "duration": 60,
    "start_time": "2022-02-03T18:23:49.963Z"
   },
   {
    "duration": 80,
    "start_time": "2022-02-03T18:23:50.026Z"
   },
   {
    "duration": 62,
    "start_time": "2022-02-03T18:23:50.108Z"
   },
   {
    "duration": 64,
    "start_time": "2022-02-03T18:23:50.172Z"
   },
   {
    "duration": 62,
    "start_time": "2022-02-03T18:23:50.239Z"
   }
  ],
  "kernelspec": {
   "display_name": "Python 3 (ipykernel)",
   "language": "python",
   "name": "python3"
  },
  "language_info": {
   "codemirror_mode": {
    "name": "ipython",
    "version": 3
   },
   "file_extension": ".py",
   "mimetype": "text/x-python",
   "name": "python",
   "nbconvert_exporter": "python",
   "pygments_lexer": "ipython3",
   "version": "3.9.7"
  },
  "toc": {
   "base_numbering": 1,
   "nav_menu": {},
   "number_sections": true,
   "sideBar": false,
   "skip_h1_title": true,
   "title_cell": "Содержание",
   "title_sidebar": "",
   "toc_cell": true,
   "toc_position": {},
   "toc_section_display": false,
   "toc_window_display": false
  }
 },
 "nbformat": 4,
 "nbformat_minor": 2
}
