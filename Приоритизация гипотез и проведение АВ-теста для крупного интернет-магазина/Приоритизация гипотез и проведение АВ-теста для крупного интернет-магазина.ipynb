{
 "cells": [
  {
   "cell_type": "markdown",
   "metadata": {},
   "source": [
    "# Приоритизация гипотез и проведение А/В-теста для крупного интернет-магазина\n",
    "\n",
    "Я аналитик крупного интернет-магазина. Вместе с отделом маркетинга мы подготовили список гипотез для увеличения выручки.\n",
    "\n",
    "Приоритизируем гипотезы, запустим A/B-тест и проанализируем результаты."
   ]
  },
  {
   "cell_type": "markdown",
   "metadata": {
    "toc": true
   },
   "source": [
    "<h1>Содержание<span class=\"tocSkip\"></span></h1>\n",
    "<div class=\"toc\"><ul class=\"toc-item\"><li><span><a href=\"#Изучение-данных-из-файла\" data-toc-modified-id=\"Изучение-данных-из-файла-1\"><span class=\"toc-item-num\">1&nbsp;&nbsp;</span>Изучение данных из файла</a></span><ul class=\"toc-item\"><li><span><a href=\"#Импорт-библиотек-и-изучение-данных-из-файла\" data-toc-modified-id=\"Импорт-библиотек-и-изучение-данных-из-файла-1.1\"><span class=\"toc-item-num\">1.1&nbsp;&nbsp;</span>Импорт библиотек и изучение данных из файла</a></span></li><li><span><a href=\"#Предобработка-данных\" data-toc-modified-id=\"Предобработка-данных-1.2\"><span class=\"toc-item-num\">1.2&nbsp;&nbsp;</span>Предобработка данных</a></span></li></ul></li><li><span><a href=\"#Приоритизация-гипотез\" data-toc-modified-id=\"Приоритизация-гипотез-2\"><span class=\"toc-item-num\">2&nbsp;&nbsp;</span>Приоритизация гипотез</a></span><ul class=\"toc-item\"><li><span><a href=\"#Применение-фреймворка-ICE-для-приоритизации-гипотез.\" data-toc-modified-id=\"Применение-фреймворка-ICE-для-приоритизации-гипотез.-2.1\"><span class=\"toc-item-num\">2.1&nbsp;&nbsp;</span>Применение фреймворка ICE для приоритизации гипотез.</a></span></li><li><span><a href=\"#Применение-фреймворка-RICE-для-приоритизации-гипотез.\" data-toc-modified-id=\"Применение-фреймворка-RICE-для-приоритизации-гипотез.-2.2\"><span class=\"toc-item-num\">2.2&nbsp;&nbsp;</span>Применение фреймворка RICE для приоритизации гипотез.</a></span></li></ul></li><li><span><a href=\"#Анализ-A/B-теста\" data-toc-modified-id=\"Анализ-A/B-теста-3\"><span class=\"toc-item-num\">3&nbsp;&nbsp;</span>Анализ A/B-теста</a></span><ul class=\"toc-item\"><li><span><a href=\"#Построение-графика-кумулятивной-выручки-по-группам.\" data-toc-modified-id=\"Построение-графика-кумулятивной-выручки-по-группам.-3.1\"><span class=\"toc-item-num\">3.1&nbsp;&nbsp;</span>Построение графика кумулятивной выручки по группам.</a></span></li><li><span><a href=\"#Построение-графика-кумулятивного-среднего-чека-по-группам.\" data-toc-modified-id=\"Построение-графика-кумулятивного-среднего-чека-по-группам.-3.2\"><span class=\"toc-item-num\">3.2&nbsp;&nbsp;</span>Построение графика кумулятивного среднего чека по группам.</a></span></li><li><span><a href=\"#Построение-графика-относительного-изменения-кумулятивного-среднего-чека-группы-B-к-группе-A.\" data-toc-modified-id=\"Построение-графика-относительного-изменения-кумулятивного-среднего-чека-группы-B-к-группе-A.-3.3\"><span class=\"toc-item-num\">3.3&nbsp;&nbsp;</span>Построение графика относительного изменения кумулятивного среднего чека группы B к группе A.</a></span></li><li><span><a href=\"#Построение-графика-кумулятивной-конверсии-по-группам.\" data-toc-modified-id=\"Построение-графика-кумулятивной-конверсии-по-группам.-3.4\"><span class=\"toc-item-num\">3.4&nbsp;&nbsp;</span>Построение графика кумулятивной конверсии по группам.</a></span></li><li><span><a href=\"#Построение-графика-относительного-изменения-кумулятивной-конверсии-группы-B-к-группе-A.\" data-toc-modified-id=\"Построение-графика-относительного-изменения-кумулятивной-конверсии-группы-B-к-группе-A.-3.5\"><span class=\"toc-item-num\">3.5&nbsp;&nbsp;</span>Построение графика относительного изменения кумулятивной конверсии группы B к группе A.</a></span></li><li><span><a href=\"#Построение-точечного-графика-количества-заказов-по-пользователям.\" data-toc-modified-id=\"Построение-точечного-графика-количества-заказов-по-пользователям.-3.6\"><span class=\"toc-item-num\">3.6&nbsp;&nbsp;</span>Построение точечного графика количества заказов по пользователям.</a></span></li><li><span><a href=\"#Расчёт:-95-й-и-99-й-перцентили-количества-заказов-на-пользователя.\" data-toc-modified-id=\"Расчёт:-95-й-и-99-й-перцентили-количества-заказов-на-пользователя.-3.7\"><span class=\"toc-item-num\">3.7&nbsp;&nbsp;</span>Расчёт: 95-й и 99-й перцентили количества заказов на пользователя.</a></span></li><li><span><a href=\"#Построение-точечного-графика-стоимостей-заказов.\" data-toc-modified-id=\"Построение-точечного-графика-стоимостей-заказов.-3.8\"><span class=\"toc-item-num\">3.8&nbsp;&nbsp;</span>Построение точечного графика стоимостей заказов.</a></span></li><li><span><a href=\"#Расчёт:-95-й-и-99-й-перцентили-стоимости-заказов.\" data-toc-modified-id=\"Расчёт:-95-й-и-99-й-перцентили-стоимости-заказов.-3.9\"><span class=\"toc-item-num\">3.9&nbsp;&nbsp;</span>Расчёт: 95-й и 99-й перцентили стоимости заказов.</a></span></li><li><span><a href=\"#Расчёт-статистической-значимости-различий-в-конверсии-между-группами-по-«сырым»-данным.\" data-toc-modified-id=\"Расчёт-статистической-значимости-различий-в-конверсии-между-группами-по-«сырым»-данным.-3.10\"><span class=\"toc-item-num\">3.10&nbsp;&nbsp;</span>Расчёт статистической значимости различий в конверсии между группами по «сырым» данным.</a></span></li><li><span><a href=\"#Расчёт-статистической-значимости-различий-в-среднем-чеке-заказа-между-группами-по-«сырым»-данным.\" data-toc-modified-id=\"Расчёт-статистической-значимости-различий-в-среднем-чеке-заказа-между-группами-по-«сырым»-данным.-3.11\"><span class=\"toc-item-num\">3.11&nbsp;&nbsp;</span>Расчёт статистической значимости различий в среднем чеке заказа между группами по «сырым» данным.</a></span></li><li><span><a href=\"#Расчёт-статистической-значимости-различий-в-конверсии-между-группами-по-«очищенным»-данным.\" data-toc-modified-id=\"Расчёт-статистической-значимости-различий-в-конверсии-между-группами-по-«очищенным»-данным.-3.12\"><span class=\"toc-item-num\">3.12&nbsp;&nbsp;</span>Расчёт статистической значимости различий в конверсии между группами по «очищенным» данным.</a></span></li><li><span><a href=\"#Расчёт-статистической-значимости-различий-в-среднем-чеке-заказа-между-группами-по-«очищенным»-данным.\" data-toc-modified-id=\"Расчёт-статистической-значимости-различий-в-среднем-чеке-заказа-между-группами-по-«очищенным»-данным.-3.13\"><span class=\"toc-item-num\">3.13&nbsp;&nbsp;</span>Расчёт статистической значимости различий в среднем чеке заказа между группами по «очищенным» данным.</a></span></li></ul></li><li><span><a href=\"#Вывод\" data-toc-modified-id=\"Вывод-4\"><span class=\"toc-item-num\">4&nbsp;&nbsp;</span>Вывод</a></span></li></ul></div>"
   ]
  },
  {
   "cell_type": "markdown",
   "metadata": {},
   "source": [
    "## Изучение данных из файла\n",
    "\n",
    "### Импорт библиотек и изучение данных из файла \n",
    "\n",
    "Импортируем библиотеки"
   ]
  },
  {
   "cell_type": "code",
   "execution_count": 150,
   "metadata": {},
   "outputs": [],
   "source": [
    "import pandas as pd\n",
    "import datetime as dt\n",
    "import scipy.stats as stats\n",
    "import numpy as np\n",
    "import matplotlib.pyplot as plt\n",
    "pd.set_option('display.max_columns', None)\n",
    "pd.options.display.max_colwidth = 150\n",
    "from pandas.plotting import register_matplotlib_converters\n",
    "register_matplotlib_converters()"
   ]
  },
  {
   "cell_type": "markdown",
   "metadata": {},
   "source": [
    "В файле /datasets/hypothesis.csv 9 гипотез по увеличению выручки интернет-магазина с указанными параметрами Reach, Impact, Confidence, Effort."
   ]
  },
  {
   "cell_type": "code",
   "execution_count": 151,
   "metadata": {
    "scrolled": true
   },
   "outputs": [
    {
     "data": {
      "text/html": [
       "<div>\n",
       "<style scoped>\n",
       "    .dataframe tbody tr th:only-of-type {\n",
       "        vertical-align: middle;\n",
       "    }\n",
       "\n",
       "    .dataframe tbody tr th {\n",
       "        vertical-align: top;\n",
       "    }\n",
       "\n",
       "    .dataframe thead th {\n",
       "        text-align: right;\n",
       "    }\n",
       "</style>\n",
       "<table border=\"1\" class=\"dataframe\">\n",
       "  <thead>\n",
       "    <tr style=\"text-align: right;\">\n",
       "      <th></th>\n",
       "      <th>Hypothesis</th>\n",
       "      <th>Reach</th>\n",
       "      <th>Impact</th>\n",
       "      <th>Confidence</th>\n",
       "      <th>Efforts</th>\n",
       "    </tr>\n",
       "  </thead>\n",
       "  <tbody>\n",
       "    <tr>\n",
       "      <td>0</td>\n",
       "      <td>Добавить два новых канала привлечения трафика, что позволит привлекать на 30% больше пользователей</td>\n",
       "      <td>3</td>\n",
       "      <td>10</td>\n",
       "      <td>8</td>\n",
       "      <td>6</td>\n",
       "    </tr>\n",
       "    <tr>\n",
       "      <td>1</td>\n",
       "      <td>Запустить собственную службу доставки, что сократит срок доставки заказов</td>\n",
       "      <td>2</td>\n",
       "      <td>5</td>\n",
       "      <td>4</td>\n",
       "      <td>10</td>\n",
       "    </tr>\n",
       "    <tr>\n",
       "      <td>2</td>\n",
       "      <td>Добавить блоки рекомендаций товаров на сайт интернет магазина, чтобы повысить конверсию и средний чек заказа</td>\n",
       "      <td>8</td>\n",
       "      <td>3</td>\n",
       "      <td>7</td>\n",
       "      <td>3</td>\n",
       "    </tr>\n",
       "    <tr>\n",
       "      <td>3</td>\n",
       "      <td>Изменить структура категорий, что увеличит конверсию, т.к. пользователи быстрее найдут нужный товар</td>\n",
       "      <td>8</td>\n",
       "      <td>3</td>\n",
       "      <td>3</td>\n",
       "      <td>8</td>\n",
       "    </tr>\n",
       "    <tr>\n",
       "      <td>4</td>\n",
       "      <td>Изменить цвет фона главной страницы, чтобы увеличить вовлеченность пользователей</td>\n",
       "      <td>3</td>\n",
       "      <td>1</td>\n",
       "      <td>1</td>\n",
       "      <td>1</td>\n",
       "    </tr>\n",
       "    <tr>\n",
       "      <td>5</td>\n",
       "      <td>Добавить страницу отзывов клиентов о магазине, что позволит увеличить количество заказов</td>\n",
       "      <td>3</td>\n",
       "      <td>2</td>\n",
       "      <td>2</td>\n",
       "      <td>3</td>\n",
       "    </tr>\n",
       "    <tr>\n",
       "      <td>6</td>\n",
       "      <td>Показать на главной странице баннеры с актуальными акциями и распродажами, чтобы увеличить конверсию</td>\n",
       "      <td>5</td>\n",
       "      <td>3</td>\n",
       "      <td>8</td>\n",
       "      <td>3</td>\n",
       "    </tr>\n",
       "    <tr>\n",
       "      <td>7</td>\n",
       "      <td>Добавить форму подписки на все основные страницы, чтобы собрать базу клиентов для email-рассылок</td>\n",
       "      <td>10</td>\n",
       "      <td>7</td>\n",
       "      <td>8</td>\n",
       "      <td>5</td>\n",
       "    </tr>\n",
       "    <tr>\n",
       "      <td>8</td>\n",
       "      <td>Запустить акцию, дающую скидку на товар в день рождения</td>\n",
       "      <td>1</td>\n",
       "      <td>9</td>\n",
       "      <td>9</td>\n",
       "      <td>5</td>\n",
       "    </tr>\n",
       "  </tbody>\n",
       "</table>\n",
       "</div>"
      ],
      "text/plain": [
       "                                                                                                     Hypothesis  \\\n",
       "0            Добавить два новых канала привлечения трафика, что позволит привлекать на 30% больше пользователей   \n",
       "1                                     Запустить собственную службу доставки, что сократит срок доставки заказов   \n",
       "2  Добавить блоки рекомендаций товаров на сайт интернет магазина, чтобы повысить конверсию и средний чек заказа   \n",
       "3           Изменить структура категорий, что увеличит конверсию, т.к. пользователи быстрее найдут нужный товар   \n",
       "4                              Изменить цвет фона главной страницы, чтобы увеличить вовлеченность пользователей   \n",
       "5                      Добавить страницу отзывов клиентов о магазине, что позволит увеличить количество заказов   \n",
       "6          Показать на главной странице баннеры с актуальными акциями и распродажами, чтобы увеличить конверсию   \n",
       "7              Добавить форму подписки на все основные страницы, чтобы собрать базу клиентов для email-рассылок   \n",
       "8                                                       Запустить акцию, дающую скидку на товар в день рождения   \n",
       "\n",
       "   Reach  Impact  Confidence  Efforts  \n",
       "0      3      10           8        6  \n",
       "1      2       5           4       10  \n",
       "2      8       3           7        3  \n",
       "3      8       3           3        8  \n",
       "4      3       1           1        1  \n",
       "5      3       2           2        3  \n",
       "6      5       3           8        3  \n",
       "7     10       7           8        5  \n",
       "8      1       9           9        5  "
      ]
     },
     "execution_count": 151,
     "metadata": {},
     "output_type": "execute_result"
    }
   ],
   "source": [
    "data = pd.read_csv('/datasets/hypothesis.csv')\n",
    "data"
   ]
  },
  {
   "cell_type": "code",
   "execution_count": 152,
   "metadata": {},
   "outputs": [
    {
     "name": "stdout",
     "output_type": "stream",
     "text": [
      "<class 'pandas.core.frame.DataFrame'>\n",
      "RangeIndex: 9 entries, 0 to 8\n",
      "Data columns (total 5 columns):\n",
      "Hypothesis    9 non-null object\n",
      "Reach         9 non-null int64\n",
      "Impact        9 non-null int64\n",
      "Confidence    9 non-null int64\n",
      "Efforts       9 non-null int64\n",
      "dtypes: int64(4), object(1)\n",
      "memory usage: 488.0+ bytes\n"
     ]
    }
   ],
   "source": [
    "data.info()"
   ]
  },
  {
   "cell_type": "markdown",
   "metadata": {},
   "source": [
    "Данные полные, пропусков нет, дубликатов нет."
   ]
  },
  {
   "cell_type": "markdown",
   "metadata": {},
   "source": [
    "Далее\n",
    "Мы провели A/B-тест и получили результаты, которые описаны файлах /datasets/orders.csv и /datasets/visitors.csv."
   ]
  },
  {
   "cell_type": "code",
   "execution_count": 153,
   "metadata": {},
   "outputs": [
    {
     "data": {
      "text/html": [
       "<div>\n",
       "<style scoped>\n",
       "    .dataframe tbody tr th:only-of-type {\n",
       "        vertical-align: middle;\n",
       "    }\n",
       "\n",
       "    .dataframe tbody tr th {\n",
       "        vertical-align: top;\n",
       "    }\n",
       "\n",
       "    .dataframe thead th {\n",
       "        text-align: right;\n",
       "    }\n",
       "</style>\n",
       "<table border=\"1\" class=\"dataframe\">\n",
       "  <thead>\n",
       "    <tr style=\"text-align: right;\">\n",
       "      <th></th>\n",
       "      <th>transactionId</th>\n",
       "      <th>visitorId</th>\n",
       "      <th>date</th>\n",
       "      <th>revenue</th>\n",
       "      <th>group</th>\n",
       "    </tr>\n",
       "  </thead>\n",
       "  <tbody>\n",
       "    <tr>\n",
       "      <td>0</td>\n",
       "      <td>3667963787</td>\n",
       "      <td>3312258926</td>\n",
       "      <td>2019-08-15</td>\n",
       "      <td>1650</td>\n",
       "      <td>B</td>\n",
       "    </tr>\n",
       "    <tr>\n",
       "      <td>1</td>\n",
       "      <td>2804400009</td>\n",
       "      <td>3642806036</td>\n",
       "      <td>2019-08-15</td>\n",
       "      <td>730</td>\n",
       "      <td>B</td>\n",
       "    </tr>\n",
       "    <tr>\n",
       "      <td>2</td>\n",
       "      <td>2961555356</td>\n",
       "      <td>4069496402</td>\n",
       "      <td>2019-08-15</td>\n",
       "      <td>400</td>\n",
       "      <td>A</td>\n",
       "    </tr>\n",
       "    <tr>\n",
       "      <td>3</td>\n",
       "      <td>3797467345</td>\n",
       "      <td>1196621759</td>\n",
       "      <td>2019-08-15</td>\n",
       "      <td>9759</td>\n",
       "      <td>B</td>\n",
       "    </tr>\n",
       "    <tr>\n",
       "      <td>4</td>\n",
       "      <td>2282983706</td>\n",
       "      <td>2322279887</td>\n",
       "      <td>2019-08-15</td>\n",
       "      <td>2308</td>\n",
       "      <td>B</td>\n",
       "    </tr>\n",
       "  </tbody>\n",
       "</table>\n",
       "</div>"
      ],
      "text/plain": [
       "   transactionId   visitorId        date  revenue group\n",
       "0     3667963787  3312258926  2019-08-15     1650     B\n",
       "1     2804400009  3642806036  2019-08-15      730     B\n",
       "2     2961555356  4069496402  2019-08-15      400     A\n",
       "3     3797467345  1196621759  2019-08-15     9759     B\n",
       "4     2282983706  2322279887  2019-08-15     2308     B"
      ]
     },
     "execution_count": 153,
     "metadata": {},
     "output_type": "execute_result"
    }
   ],
   "source": [
    "orders = pd.read_csv('/datasets/orders.csv')\n",
    "orders.head()"
   ]
  },
  {
   "cell_type": "code",
   "execution_count": 154,
   "metadata": {},
   "outputs": [
    {
     "name": "stdout",
     "output_type": "stream",
     "text": [
      "<class 'pandas.core.frame.DataFrame'>\n",
      "RangeIndex: 1197 entries, 0 to 1196\n",
      "Data columns (total 5 columns):\n",
      "transactionId    1197 non-null int64\n",
      "visitorId        1197 non-null int64\n",
      "date             1197 non-null object\n",
      "revenue          1197 non-null int64\n",
      "group            1197 non-null object\n",
      "dtypes: int64(3), object(2)\n",
      "memory usage: 46.9+ KB\n"
     ]
    }
   ],
   "source": [
    "orders.info()"
   ]
  },
  {
   "cell_type": "markdown",
   "metadata": {},
   "source": [
    "Пропусков нет, однако необходимо изменить формат даты."
   ]
  },
  {
   "cell_type": "code",
   "execution_count": 155,
   "metadata": {},
   "outputs": [
    {
     "data": {
      "text/plain": [
       "0"
      ]
     },
     "execution_count": 155,
     "metadata": {},
     "output_type": "execute_result"
    }
   ],
   "source": [
    "orders.duplicated().sum()"
   ]
  },
  {
   "cell_type": "markdown",
   "metadata": {},
   "source": [
    "Дубликатов нет."
   ]
  },
  {
   "cell_type": "code",
   "execution_count": 156,
   "metadata": {},
   "outputs": [
    {
     "data": {
      "text/html": [
       "<div>\n",
       "<style scoped>\n",
       "    .dataframe tbody tr th:only-of-type {\n",
       "        vertical-align: middle;\n",
       "    }\n",
       "\n",
       "    .dataframe tbody tr th {\n",
       "        vertical-align: top;\n",
       "    }\n",
       "\n",
       "    .dataframe thead th {\n",
       "        text-align: right;\n",
       "    }\n",
       "</style>\n",
       "<table border=\"1\" class=\"dataframe\">\n",
       "  <thead>\n",
       "    <tr style=\"text-align: right;\">\n",
       "      <th></th>\n",
       "      <th>date</th>\n",
       "      <th>group</th>\n",
       "      <th>visitors</th>\n",
       "    </tr>\n",
       "  </thead>\n",
       "  <tbody>\n",
       "    <tr>\n",
       "      <td>0</td>\n",
       "      <td>2019-08-01</td>\n",
       "      <td>A</td>\n",
       "      <td>719</td>\n",
       "    </tr>\n",
       "    <tr>\n",
       "      <td>1</td>\n",
       "      <td>2019-08-02</td>\n",
       "      <td>A</td>\n",
       "      <td>619</td>\n",
       "    </tr>\n",
       "    <tr>\n",
       "      <td>2</td>\n",
       "      <td>2019-08-03</td>\n",
       "      <td>A</td>\n",
       "      <td>507</td>\n",
       "    </tr>\n",
       "    <tr>\n",
       "      <td>3</td>\n",
       "      <td>2019-08-04</td>\n",
       "      <td>A</td>\n",
       "      <td>717</td>\n",
       "    </tr>\n",
       "    <tr>\n",
       "      <td>4</td>\n",
       "      <td>2019-08-05</td>\n",
       "      <td>A</td>\n",
       "      <td>756</td>\n",
       "    </tr>\n",
       "  </tbody>\n",
       "</table>\n",
       "</div>"
      ],
      "text/plain": [
       "         date group  visitors\n",
       "0  2019-08-01     A       719\n",
       "1  2019-08-02     A       619\n",
       "2  2019-08-03     A       507\n",
       "3  2019-08-04     A       717\n",
       "4  2019-08-05     A       756"
      ]
     },
     "execution_count": 156,
     "metadata": {},
     "output_type": "execute_result"
    }
   ],
   "source": [
    "visitors = pd.read_csv('/datasets/visitors.csv')\n",
    "visitors.head()"
   ]
  },
  {
   "cell_type": "code",
   "execution_count": 157,
   "metadata": {},
   "outputs": [
    {
     "name": "stdout",
     "output_type": "stream",
     "text": [
      "<class 'pandas.core.frame.DataFrame'>\n",
      "RangeIndex: 62 entries, 0 to 61\n",
      "Data columns (total 3 columns):\n",
      "date        62 non-null object\n",
      "group       62 non-null object\n",
      "visitors    62 non-null int64\n",
      "dtypes: int64(1), object(2)\n",
      "memory usage: 1.6+ KB\n"
     ]
    }
   ],
   "source": [
    "visitors.info()"
   ]
  },
  {
   "cell_type": "markdown",
   "metadata": {},
   "source": [
    "Пропусков нет, необходимо изменить формат даты."
   ]
  },
  {
   "cell_type": "code",
   "execution_count": 158,
   "metadata": {},
   "outputs": [
    {
     "data": {
      "text/plain": [
       "0"
      ]
     },
     "execution_count": 158,
     "metadata": {},
     "output_type": "execute_result"
    }
   ],
   "source": [
    "visitors.duplicated().sum()"
   ]
  },
  {
   "cell_type": "markdown",
   "metadata": {},
   "source": [
    "Дубликатов нет."
   ]
  },
  {
   "cell_type": "markdown",
   "metadata": {},
   "source": [
    "Проверим:\n",
    "- количество визитов в группах\n",
    "- количество заказов в группах\n",
    "- не попали ли одни и те же пользователи в обе группы"
   ]
  },
  {
   "cell_type": "code",
   "execution_count": 159,
   "metadata": {},
   "outputs": [
    {
     "name": "stdout",
     "output_type": "stream",
     "text": [
      "Визитов в группе А: 18736\n",
      "Визитов в группе В: 18916\n",
      "Заказов в группе А: 557\n",
      "Заказов в группе В: 640\n"
     ]
    }
   ],
   "source": [
    "a_visitors = visitors.query('group == \"A\"')['visitors'].sum()\n",
    "b_visitors = visitors.query('group == \"B\"')['visitors'].sum()\n",
    "\n",
    "a_orders = orders.query('group == \"A\"').shape[0]\n",
    "b_orders = orders.query('group == \"B\"').shape[0]\n",
    "\n",
    "\n",
    "print('Визитов в группе А:', a_visitors)\n",
    "print('Визитов в группе В:', b_visitors)\n",
    "print('Заказов в группе А:', a_orders)\n",
    "print('Заказов в группе В:', b_orders)"
   ]
  },
  {
   "cell_type": "code",
   "execution_count": 160,
   "metadata": {},
   "outputs": [
    {
     "name": "stdout",
     "output_type": "stream",
     "text": [
      "Количество пользователей, попавших в обе группы: 58 чел.\n"
     ]
    }
   ],
   "source": [
    "a_visitors_un = orders[orders['group']=='A']['visitorId']\n",
    "b_visitors_un = orders[orders['group']=='B']['visitorId']\n",
    "\n",
    "ab_visitors_un = (orders.loc[orders['visitorId']\n",
    "                    .isin(a_visitors_un) & orders['visitorId']\n",
    "                    .isin(b_visitors_un),'visitorId'].unique())\n",
    "\n",
    "print('Количество пользователей, попавших в обе группы:', len(ab_visitors_un), 'чел.')"
   ]
  },
  {
   "cell_type": "markdown",
   "metadata": {},
   "source": [
    "Количество визитов в группах различается, больше того - 58 человек попали в обе группы. В реальном проекте тест следовало бы остановить и поднять вопрос о качестве данных. В нашем учебном проекте мы проигнорируем этот момент."
   ]
  },
  {
   "cell_type": "markdown",
   "metadata": {},
   "source": [
    "### Предобработка данных\n",
    "\n",
    "Изименение типа данных:"
   ]
  },
  {
   "cell_type": "code",
   "execution_count": 161,
   "metadata": {},
   "outputs": [
    {
     "name": "stdout",
     "output_type": "stream",
     "text": [
      "<class 'pandas.core.frame.DataFrame'>\n",
      "RangeIndex: 1197 entries, 0 to 1196\n",
      "Data columns (total 5 columns):\n",
      "transactionId    1197 non-null int64\n",
      "visitorId        1197 non-null int64\n",
      "date             1197 non-null datetime64[ns]\n",
      "revenue          1197 non-null int64\n",
      "group            1197 non-null object\n",
      "dtypes: datetime64[ns](1), int64(3), object(1)\n",
      "memory usage: 46.9+ KB\n"
     ]
    }
   ],
   "source": [
    "orders['date'] = orders['date'].map(lambda x: dt.datetime.strptime(x, '%Y-%m-%d'))\n",
    "orders.info()"
   ]
  },
  {
   "cell_type": "code",
   "execution_count": 162,
   "metadata": {},
   "outputs": [
    {
     "name": "stdout",
     "output_type": "stream",
     "text": [
      "<class 'pandas.core.frame.DataFrame'>\n",
      "RangeIndex: 62 entries, 0 to 61\n",
      "Data columns (total 3 columns):\n",
      "date        62 non-null datetime64[ns]\n",
      "group       62 non-null object\n",
      "visitors    62 non-null int64\n",
      "dtypes: datetime64[ns](1), int64(1), object(1)\n",
      "memory usage: 1.6+ KB\n"
     ]
    }
   ],
   "source": [
    "visitors['date'] = visitors['date'].map(lambda x: dt.datetime.strptime(x, '%Y-%m-%d'))\n",
    "visitors.info()"
   ]
  },
  {
   "cell_type": "markdown",
   "metadata": {},
   "source": [
    "**Вывод:** Данные хорошие: пропусков и дубликатов нет. Типы данных в столбцах с датами успешно изменены на datetime64[ns]."
   ]
  },
  {
   "cell_type": "markdown",
   "metadata": {},
   "source": [
    "## Приоритизация гипотез\n",
    "\n",
    "### Применение фреймворка ICE для приоритизации гипотез."
   ]
  },
  {
   "cell_type": "code",
   "execution_count": 163,
   "metadata": {},
   "outputs": [
    {
     "data": {
      "text/html": [
       "<div>\n",
       "<style scoped>\n",
       "    .dataframe tbody tr th:only-of-type {\n",
       "        vertical-align: middle;\n",
       "    }\n",
       "\n",
       "    .dataframe tbody tr th {\n",
       "        vertical-align: top;\n",
       "    }\n",
       "\n",
       "    .dataframe thead th {\n",
       "        text-align: right;\n",
       "    }\n",
       "</style>\n",
       "<table border=\"1\" class=\"dataframe\">\n",
       "  <thead>\n",
       "    <tr style=\"text-align: right;\">\n",
       "      <th></th>\n",
       "      <th>number_1</th>\n",
       "      <th>Hypothesis_I</th>\n",
       "      <th>ICE</th>\n",
       "    </tr>\n",
       "  </thead>\n",
       "  <tbody>\n",
       "    <tr>\n",
       "      <td>0</td>\n",
       "      <td>8</td>\n",
       "      <td>Запустить акцию, дающую скидку на товар в день рождения</td>\n",
       "      <td>16.20</td>\n",
       "    </tr>\n",
       "    <tr>\n",
       "      <td>1</td>\n",
       "      <td>0</td>\n",
       "      <td>Добавить два новых канала привлечения трафика, что позволит привлекать на 30% больше пользователей</td>\n",
       "      <td>13.33</td>\n",
       "    </tr>\n",
       "    <tr>\n",
       "      <td>2</td>\n",
       "      <td>7</td>\n",
       "      <td>Добавить форму подписки на все основные страницы, чтобы собрать базу клиентов для email-рассылок</td>\n",
       "      <td>11.20</td>\n",
       "    </tr>\n",
       "    <tr>\n",
       "      <td>3</td>\n",
       "      <td>6</td>\n",
       "      <td>Показать на главной странице баннеры с актуальными акциями и распродажами, чтобы увеличить конверсию</td>\n",
       "      <td>8.00</td>\n",
       "    </tr>\n",
       "    <tr>\n",
       "      <td>4</td>\n",
       "      <td>2</td>\n",
       "      <td>Добавить блоки рекомендаций товаров на сайт интернет магазина, чтобы повысить конверсию и средний чек заказа</td>\n",
       "      <td>7.00</td>\n",
       "    </tr>\n",
       "    <tr>\n",
       "      <td>5</td>\n",
       "      <td>1</td>\n",
       "      <td>Запустить собственную службу доставки, что сократит срок доставки заказов</td>\n",
       "      <td>2.00</td>\n",
       "    </tr>\n",
       "    <tr>\n",
       "      <td>6</td>\n",
       "      <td>5</td>\n",
       "      <td>Добавить страницу отзывов клиентов о магазине, что позволит увеличить количество заказов</td>\n",
       "      <td>1.33</td>\n",
       "    </tr>\n",
       "    <tr>\n",
       "      <td>7</td>\n",
       "      <td>3</td>\n",
       "      <td>Изменить структура категорий, что увеличит конверсию, т.к. пользователи быстрее найдут нужный товар</td>\n",
       "      <td>1.12</td>\n",
       "    </tr>\n",
       "    <tr>\n",
       "      <td>8</td>\n",
       "      <td>4</td>\n",
       "      <td>Изменить цвет фона главной страницы, чтобы увеличить вовлеченность пользователей</td>\n",
       "      <td>1.00</td>\n",
       "    </tr>\n",
       "  </tbody>\n",
       "</table>\n",
       "</div>"
      ],
      "text/plain": [
       "   number_1  \\\n",
       "0         8   \n",
       "1         0   \n",
       "2         7   \n",
       "3         6   \n",
       "4         2   \n",
       "5         1   \n",
       "6         5   \n",
       "7         3   \n",
       "8         4   \n",
       "\n",
       "                                                                                                   Hypothesis_I  \\\n",
       "0                                                       Запустить акцию, дающую скидку на товар в день рождения   \n",
       "1            Добавить два новых канала привлечения трафика, что позволит привлекать на 30% больше пользователей   \n",
       "2              Добавить форму подписки на все основные страницы, чтобы собрать базу клиентов для email-рассылок   \n",
       "3          Показать на главной странице баннеры с актуальными акциями и распродажами, чтобы увеличить конверсию   \n",
       "4  Добавить блоки рекомендаций товаров на сайт интернет магазина, чтобы повысить конверсию и средний чек заказа   \n",
       "5                                     Запустить собственную службу доставки, что сократит срок доставки заказов   \n",
       "6                      Добавить страницу отзывов клиентов о магазине, что позволит увеличить количество заказов   \n",
       "7           Изменить структура категорий, что увеличит конверсию, т.к. пользователи быстрее найдут нужный товар   \n",
       "8                              Изменить цвет фона главной страницы, чтобы увеличить вовлеченность пользователей   \n",
       "\n",
       "     ICE  \n",
       "0  16.20  \n",
       "1  13.33  \n",
       "2  11.20  \n",
       "3   8.00  \n",
       "4   7.00  \n",
       "5   2.00  \n",
       "6   1.33  \n",
       "7   1.12  \n",
       "8   1.00  "
      ]
     },
     "execution_count": 163,
     "metadata": {},
     "output_type": "execute_result"
    }
   ],
   "source": [
    "data['ICE'] = (data['Impact'] * data['Confidence'] / data['Efforts']).round(2)\n",
    "data_ISE = data[['Hypothesis', 'ICE']].copy().sort_values(by='ICE', ascending=False).reset_index()\n",
    "data_ISE.columns = ['number_1', 'Hypothesis_I', 'ICE']\n",
    "data_ISE"
   ]
  },
  {
   "cell_type": "markdown",
   "metadata": {},
   "source": [
    "Наиболее перспективные гипотезы:\n",
    "- 8 - Запустить акцию, дающую скидку на товар в день рождения,\n",
    "- 0 - Добавить два новых канала привлечения трафика, что позволит привлекать на 30% больше пользователей,\n",
    "- 7 - Добавить форму подписки на все основные страницы, чтобы собрать базу клиентов для email-рассылок,\n",
    "- 6 - Показать на главной странице баннеры с актуальными акциями и распродажами, чтобы увеличить конверсию."
   ]
  },
  {
   "cell_type": "markdown",
   "metadata": {},
   "source": [
    "### Применение фреймворка RICE для приоритизации гипотез. "
   ]
  },
  {
   "cell_type": "code",
   "execution_count": 164,
   "metadata": {},
   "outputs": [
    {
     "data": {
      "text/html": [
       "<div>\n",
       "<style scoped>\n",
       "    .dataframe tbody tr th:only-of-type {\n",
       "        vertical-align: middle;\n",
       "    }\n",
       "\n",
       "    .dataframe tbody tr th {\n",
       "        vertical-align: top;\n",
       "    }\n",
       "\n",
       "    .dataframe thead th {\n",
       "        text-align: right;\n",
       "    }\n",
       "</style>\n",
       "<table border=\"1\" class=\"dataframe\">\n",
       "  <thead>\n",
       "    <tr style=\"text-align: right;\">\n",
       "      <th></th>\n",
       "      <th>number_2</th>\n",
       "      <th>Hypothesis_R</th>\n",
       "      <th>RICE</th>\n",
       "    </tr>\n",
       "  </thead>\n",
       "  <tbody>\n",
       "    <tr>\n",
       "      <td>0</td>\n",
       "      <td>7</td>\n",
       "      <td>Добавить форму подписки на все основные страницы, чтобы собрать базу клиентов для email-рассылок</td>\n",
       "      <td>112.0</td>\n",
       "    </tr>\n",
       "    <tr>\n",
       "      <td>1</td>\n",
       "      <td>2</td>\n",
       "      <td>Добавить блоки рекомендаций товаров на сайт интернет магазина, чтобы повысить конверсию и средний чек заказа</td>\n",
       "      <td>56.0</td>\n",
       "    </tr>\n",
       "    <tr>\n",
       "      <td>2</td>\n",
       "      <td>0</td>\n",
       "      <td>Добавить два новых канала привлечения трафика, что позволит привлекать на 30% больше пользователей</td>\n",
       "      <td>40.0</td>\n",
       "    </tr>\n",
       "    <tr>\n",
       "      <td>3</td>\n",
       "      <td>6</td>\n",
       "      <td>Показать на главной странице баннеры с актуальными акциями и распродажами, чтобы увеличить конверсию</td>\n",
       "      <td>40.0</td>\n",
       "    </tr>\n",
       "    <tr>\n",
       "      <td>4</td>\n",
       "      <td>8</td>\n",
       "      <td>Запустить акцию, дающую скидку на товар в день рождения</td>\n",
       "      <td>16.2</td>\n",
       "    </tr>\n",
       "    <tr>\n",
       "      <td>5</td>\n",
       "      <td>3</td>\n",
       "      <td>Изменить структура категорий, что увеличит конверсию, т.к. пользователи быстрее найдут нужный товар</td>\n",
       "      <td>9.0</td>\n",
       "    </tr>\n",
       "    <tr>\n",
       "      <td>6</td>\n",
       "      <td>1</td>\n",
       "      <td>Запустить собственную службу доставки, что сократит срок доставки заказов</td>\n",
       "      <td>4.0</td>\n",
       "    </tr>\n",
       "    <tr>\n",
       "      <td>7</td>\n",
       "      <td>5</td>\n",
       "      <td>Добавить страницу отзывов клиентов о магазине, что позволит увеличить количество заказов</td>\n",
       "      <td>4.0</td>\n",
       "    </tr>\n",
       "    <tr>\n",
       "      <td>8</td>\n",
       "      <td>4</td>\n",
       "      <td>Изменить цвет фона главной страницы, чтобы увеличить вовлеченность пользователей</td>\n",
       "      <td>3.0</td>\n",
       "    </tr>\n",
       "  </tbody>\n",
       "</table>\n",
       "</div>"
      ],
      "text/plain": [
       "   number_2  \\\n",
       "0         7   \n",
       "1         2   \n",
       "2         0   \n",
       "3         6   \n",
       "4         8   \n",
       "5         3   \n",
       "6         1   \n",
       "7         5   \n",
       "8         4   \n",
       "\n",
       "                                                                                                   Hypothesis_R  \\\n",
       "0              Добавить форму подписки на все основные страницы, чтобы собрать базу клиентов для email-рассылок   \n",
       "1  Добавить блоки рекомендаций товаров на сайт интернет магазина, чтобы повысить конверсию и средний чек заказа   \n",
       "2            Добавить два новых канала привлечения трафика, что позволит привлекать на 30% больше пользователей   \n",
       "3          Показать на главной странице баннеры с актуальными акциями и распродажами, чтобы увеличить конверсию   \n",
       "4                                                       Запустить акцию, дающую скидку на товар в день рождения   \n",
       "5           Изменить структура категорий, что увеличит конверсию, т.к. пользователи быстрее найдут нужный товар   \n",
       "6                                     Запустить собственную службу доставки, что сократит срок доставки заказов   \n",
       "7                      Добавить страницу отзывов клиентов о магазине, что позволит увеличить количество заказов   \n",
       "8                              Изменить цвет фона главной страницы, чтобы увеличить вовлеченность пользователей   \n",
       "\n",
       "    RICE  \n",
       "0  112.0  \n",
       "1   56.0  \n",
       "2   40.0  \n",
       "3   40.0  \n",
       "4   16.2  \n",
       "5    9.0  \n",
       "6    4.0  \n",
       "7    4.0  \n",
       "8    3.0  "
      ]
     },
     "execution_count": 164,
     "metadata": {},
     "output_type": "execute_result"
    }
   ],
   "source": [
    "data['RICE'] = (data['Reach'] * data['Impact'] * data['Confidence']) / data['Efforts']\n",
    "\n",
    "data_RISE = data[['Hypothesis', 'RICE']].copy().sort_values(by='RICE', ascending=False).reset_index()\n",
    "data_RISE.columns = ['number_2', 'Hypothesis_R', 'RICE']\n",
    "data_RISE"
   ]
  },
  {
   "cell_type": "markdown",
   "metadata": {},
   "source": [
    "Наиболее перспективные гипотезы: \n",
    "- 7 - Добавить форму подписки на все основные страницы, чтобы собрать базу клиентов для email-рассылок, \n",
    "- 2 - Добавить блоки рекомендаций товаров на сайт интернет магазина, чтобы повысить конверсию и средний чек заказа, \n",
    "- 0 - Добавить два новых канала привлечения трафика, что позволит привлекать на 30% больше пользователей, \n",
    "- 6 - Показать на главной странице баннеры с актуальными акциями и распродажами, чтобы увеличить конверсию."
   ]
  },
  {
   "cell_type": "code",
   "execution_count": 165,
   "metadata": {
    "scrolled": false
   },
   "outputs": [
    {
     "data": {
      "text/html": [
       "<div>\n",
       "<style scoped>\n",
       "    .dataframe tbody tr th:only-of-type {\n",
       "        vertical-align: middle;\n",
       "    }\n",
       "\n",
       "    .dataframe tbody tr th {\n",
       "        vertical-align: top;\n",
       "    }\n",
       "\n",
       "    .dataframe thead th {\n",
       "        text-align: right;\n",
       "    }\n",
       "</style>\n",
       "<table border=\"1\" class=\"dataframe\">\n",
       "  <thead>\n",
       "    <tr style=\"text-align: right;\">\n",
       "      <th></th>\n",
       "      <th>number_1</th>\n",
       "      <th>Hypothesis_I</th>\n",
       "      <th>ICE</th>\n",
       "      <th>number_2</th>\n",
       "      <th>Hypothesis_R</th>\n",
       "      <th>RICE</th>\n",
       "    </tr>\n",
       "  </thead>\n",
       "  <tbody>\n",
       "    <tr>\n",
       "      <td>0</td>\n",
       "      <td>8</td>\n",
       "      <td>Запустить акцию, дающую скидку на товар в день рождения</td>\n",
       "      <td>16.20</td>\n",
       "      <td>7</td>\n",
       "      <td>Добавить форму подписки на все основные страницы, чтобы собрать базу клиентов для email-рассылок</td>\n",
       "      <td>112.0</td>\n",
       "    </tr>\n",
       "    <tr>\n",
       "      <td>1</td>\n",
       "      <td>0</td>\n",
       "      <td>Добавить два новых канала привлечения трафика, что позволит привлекать на 30% больше пользователей</td>\n",
       "      <td>13.33</td>\n",
       "      <td>2</td>\n",
       "      <td>Добавить блоки рекомендаций товаров на сайт интернет магазина, чтобы повысить конверсию и средний чек заказа</td>\n",
       "      <td>56.0</td>\n",
       "    </tr>\n",
       "    <tr>\n",
       "      <td>2</td>\n",
       "      <td>7</td>\n",
       "      <td>Добавить форму подписки на все основные страницы, чтобы собрать базу клиентов для email-рассылок</td>\n",
       "      <td>11.20</td>\n",
       "      <td>0</td>\n",
       "      <td>Добавить два новых канала привлечения трафика, что позволит привлекать на 30% больше пользователей</td>\n",
       "      <td>40.0</td>\n",
       "    </tr>\n",
       "    <tr>\n",
       "      <td>3</td>\n",
       "      <td>6</td>\n",
       "      <td>Показать на главной странице баннеры с актуальными акциями и распродажами, чтобы увеличить конверсию</td>\n",
       "      <td>8.00</td>\n",
       "      <td>6</td>\n",
       "      <td>Показать на главной странице баннеры с актуальными акциями и распродажами, чтобы увеличить конверсию</td>\n",
       "      <td>40.0</td>\n",
       "    </tr>\n",
       "    <tr>\n",
       "      <td>4</td>\n",
       "      <td>2</td>\n",
       "      <td>Добавить блоки рекомендаций товаров на сайт интернет магазина, чтобы повысить конверсию и средний чек заказа</td>\n",
       "      <td>7.00</td>\n",
       "      <td>8</td>\n",
       "      <td>Запустить акцию, дающую скидку на товар в день рождения</td>\n",
       "      <td>16.2</td>\n",
       "    </tr>\n",
       "    <tr>\n",
       "      <td>5</td>\n",
       "      <td>1</td>\n",
       "      <td>Запустить собственную службу доставки, что сократит срок доставки заказов</td>\n",
       "      <td>2.00</td>\n",
       "      <td>3</td>\n",
       "      <td>Изменить структура категорий, что увеличит конверсию, т.к. пользователи быстрее найдут нужный товар</td>\n",
       "      <td>9.0</td>\n",
       "    </tr>\n",
       "    <tr>\n",
       "      <td>6</td>\n",
       "      <td>5</td>\n",
       "      <td>Добавить страницу отзывов клиентов о магазине, что позволит увеличить количество заказов</td>\n",
       "      <td>1.33</td>\n",
       "      <td>1</td>\n",
       "      <td>Запустить собственную службу доставки, что сократит срок доставки заказов</td>\n",
       "      <td>4.0</td>\n",
       "    </tr>\n",
       "    <tr>\n",
       "      <td>7</td>\n",
       "      <td>3</td>\n",
       "      <td>Изменить структура категорий, что увеличит конверсию, т.к. пользователи быстрее найдут нужный товар</td>\n",
       "      <td>1.12</td>\n",
       "      <td>5</td>\n",
       "      <td>Добавить страницу отзывов клиентов о магазине, что позволит увеличить количество заказов</td>\n",
       "      <td>4.0</td>\n",
       "    </tr>\n",
       "    <tr>\n",
       "      <td>8</td>\n",
       "      <td>4</td>\n",
       "      <td>Изменить цвет фона главной страницы, чтобы увеличить вовлеченность пользователей</td>\n",
       "      <td>1.00</td>\n",
       "      <td>4</td>\n",
       "      <td>Изменить цвет фона главной страницы, чтобы увеличить вовлеченность пользователей</td>\n",
       "      <td>3.0</td>\n",
       "    </tr>\n",
       "  </tbody>\n",
       "</table>\n",
       "</div>"
      ],
      "text/plain": [
       "   number_1  \\\n",
       "0         8   \n",
       "1         0   \n",
       "2         7   \n",
       "3         6   \n",
       "4         2   \n",
       "5         1   \n",
       "6         5   \n",
       "7         3   \n",
       "8         4   \n",
       "\n",
       "                                                                                                   Hypothesis_I  \\\n",
       "0                                                       Запустить акцию, дающую скидку на товар в день рождения   \n",
       "1            Добавить два новых канала привлечения трафика, что позволит привлекать на 30% больше пользователей   \n",
       "2              Добавить форму подписки на все основные страницы, чтобы собрать базу клиентов для email-рассылок   \n",
       "3          Показать на главной странице баннеры с актуальными акциями и распродажами, чтобы увеличить конверсию   \n",
       "4  Добавить блоки рекомендаций товаров на сайт интернет магазина, чтобы повысить конверсию и средний чек заказа   \n",
       "5                                     Запустить собственную службу доставки, что сократит срок доставки заказов   \n",
       "6                      Добавить страницу отзывов клиентов о магазине, что позволит увеличить количество заказов   \n",
       "7           Изменить структура категорий, что увеличит конверсию, т.к. пользователи быстрее найдут нужный товар   \n",
       "8                              Изменить цвет фона главной страницы, чтобы увеличить вовлеченность пользователей   \n",
       "\n",
       "     ICE  number_2  \\\n",
       "0  16.20         7   \n",
       "1  13.33         2   \n",
       "2  11.20         0   \n",
       "3   8.00         6   \n",
       "4   7.00         8   \n",
       "5   2.00         3   \n",
       "6   1.33         1   \n",
       "7   1.12         5   \n",
       "8   1.00         4   \n",
       "\n",
       "                                                                                                   Hypothesis_R  \\\n",
       "0              Добавить форму подписки на все основные страницы, чтобы собрать базу клиентов для email-рассылок   \n",
       "1  Добавить блоки рекомендаций товаров на сайт интернет магазина, чтобы повысить конверсию и средний чек заказа   \n",
       "2            Добавить два новых канала привлечения трафика, что позволит привлекать на 30% больше пользователей   \n",
       "3          Показать на главной странице баннеры с актуальными акциями и распродажами, чтобы увеличить конверсию   \n",
       "4                                                       Запустить акцию, дающую скидку на товар в день рождения   \n",
       "5           Изменить структура категорий, что увеличит конверсию, т.к. пользователи быстрее найдут нужный товар   \n",
       "6                                     Запустить собственную службу доставки, что сократит срок доставки заказов   \n",
       "7                      Добавить страницу отзывов клиентов о магазине, что позволит увеличить количество заказов   \n",
       "8                              Изменить цвет фона главной страницы, чтобы увеличить вовлеченность пользователей   \n",
       "\n",
       "    RICE  \n",
       "0  112.0  \n",
       "1   56.0  \n",
       "2   40.0  \n",
       "3   40.0  \n",
       "4   16.2  \n",
       "5    9.0  \n",
       "6    4.0  \n",
       "7    4.0  \n",
       "8    3.0  "
      ]
     },
     "execution_count": 165,
     "metadata": {},
     "output_type": "execute_result"
    }
   ],
   "source": [
    "data_new = data_ISE.merge(data_RISE, left_index=True, right_index=True)\n",
    "data_new"
   ]
  },
  {
   "cell_type": "markdown",
   "metadata": {},
   "source": [
    "**Вывод:** Перспективность гипотез сильно меняется в зависимости от используемого метода, однако, выбор сделать необходимо.\n",
    "- Учитывая, что гипотезы 2 и 8 присутствуют только в одном из наборов, то их мы рассматривать не будем.\n",
    "\n",
    "Поскольку суть приоритизации в том, чтобы выбрать самую перспективную гипотезу, то рассмотрим метод RICE, как более важный, т.к. в нем учитывается охват пользователей, по нему явный лидер - гипотеза 7.\n",
    "\n",
    "гипотеза 7, в отличие от 6 и 0 имеет больший охват пользователей и больше их затронет, а по стоимости не слишком дорогая, поэтому выберем её."
   ]
  },
  {
   "cell_type": "markdown",
   "metadata": {},
   "source": [
    "## Анализ A/B-теста\n",
    "\n",
    "### Построение графика кумулятивной выручки по группам.\n",
    "\n",
    "Выведем первые 5 строк таблицы orders:"
   ]
  },
  {
   "cell_type": "code",
   "execution_count": 166,
   "metadata": {
    "scrolled": true
   },
   "outputs": [
    {
     "data": {
      "text/html": [
       "<div>\n",
       "<style scoped>\n",
       "    .dataframe tbody tr th:only-of-type {\n",
       "        vertical-align: middle;\n",
       "    }\n",
       "\n",
       "    .dataframe tbody tr th {\n",
       "        vertical-align: top;\n",
       "    }\n",
       "\n",
       "    .dataframe thead th {\n",
       "        text-align: right;\n",
       "    }\n",
       "</style>\n",
       "<table border=\"1\" class=\"dataframe\">\n",
       "  <thead>\n",
       "    <tr style=\"text-align: right;\">\n",
       "      <th></th>\n",
       "      <th>transactionId</th>\n",
       "      <th>visitorId</th>\n",
       "      <th>date</th>\n",
       "      <th>revenue</th>\n",
       "      <th>group</th>\n",
       "    </tr>\n",
       "  </thead>\n",
       "  <tbody>\n",
       "    <tr>\n",
       "      <td>0</td>\n",
       "      <td>3667963787</td>\n",
       "      <td>3312258926</td>\n",
       "      <td>2019-08-15</td>\n",
       "      <td>1650</td>\n",
       "      <td>B</td>\n",
       "    </tr>\n",
       "    <tr>\n",
       "      <td>1</td>\n",
       "      <td>2804400009</td>\n",
       "      <td>3642806036</td>\n",
       "      <td>2019-08-15</td>\n",
       "      <td>730</td>\n",
       "      <td>B</td>\n",
       "    </tr>\n",
       "    <tr>\n",
       "      <td>2</td>\n",
       "      <td>2961555356</td>\n",
       "      <td>4069496402</td>\n",
       "      <td>2019-08-15</td>\n",
       "      <td>400</td>\n",
       "      <td>A</td>\n",
       "    </tr>\n",
       "    <tr>\n",
       "      <td>3</td>\n",
       "      <td>3797467345</td>\n",
       "      <td>1196621759</td>\n",
       "      <td>2019-08-15</td>\n",
       "      <td>9759</td>\n",
       "      <td>B</td>\n",
       "    </tr>\n",
       "    <tr>\n",
       "      <td>4</td>\n",
       "      <td>2282983706</td>\n",
       "      <td>2322279887</td>\n",
       "      <td>2019-08-15</td>\n",
       "      <td>2308</td>\n",
       "      <td>B</td>\n",
       "    </tr>\n",
       "  </tbody>\n",
       "</table>\n",
       "</div>"
      ],
      "text/plain": [
       "   transactionId   visitorId       date  revenue group\n",
       "0     3667963787  3312258926 2019-08-15     1650     B\n",
       "1     2804400009  3642806036 2019-08-15      730     B\n",
       "2     2961555356  4069496402 2019-08-15      400     A\n",
       "3     3797467345  1196621759 2019-08-15     9759     B\n",
       "4     2282983706  2322279887 2019-08-15     2308     B"
      ]
     },
     "execution_count": 166,
     "metadata": {},
     "output_type": "execute_result"
    }
   ],
   "source": [
    "orders.head()"
   ]
  },
  {
   "cell_type": "markdown",
   "metadata": {},
   "source": [
    "Выведем первые 5 строк таблицы visitors:"
   ]
  },
  {
   "cell_type": "code",
   "execution_count": 167,
   "metadata": {},
   "outputs": [
    {
     "data": {
      "text/html": [
       "<div>\n",
       "<style scoped>\n",
       "    .dataframe tbody tr th:only-of-type {\n",
       "        vertical-align: middle;\n",
       "    }\n",
       "\n",
       "    .dataframe tbody tr th {\n",
       "        vertical-align: top;\n",
       "    }\n",
       "\n",
       "    .dataframe thead th {\n",
       "        text-align: right;\n",
       "    }\n",
       "</style>\n",
       "<table border=\"1\" class=\"dataframe\">\n",
       "  <thead>\n",
       "    <tr style=\"text-align: right;\">\n",
       "      <th></th>\n",
       "      <th>date</th>\n",
       "      <th>group</th>\n",
       "      <th>visitors</th>\n",
       "    </tr>\n",
       "  </thead>\n",
       "  <tbody>\n",
       "    <tr>\n",
       "      <td>0</td>\n",
       "      <td>2019-08-01</td>\n",
       "      <td>A</td>\n",
       "      <td>719</td>\n",
       "    </tr>\n",
       "    <tr>\n",
       "      <td>1</td>\n",
       "      <td>2019-08-02</td>\n",
       "      <td>A</td>\n",
       "      <td>619</td>\n",
       "    </tr>\n",
       "    <tr>\n",
       "      <td>2</td>\n",
       "      <td>2019-08-03</td>\n",
       "      <td>A</td>\n",
       "      <td>507</td>\n",
       "    </tr>\n",
       "    <tr>\n",
       "      <td>3</td>\n",
       "      <td>2019-08-04</td>\n",
       "      <td>A</td>\n",
       "      <td>717</td>\n",
       "    </tr>\n",
       "    <tr>\n",
       "      <td>4</td>\n",
       "      <td>2019-08-05</td>\n",
       "      <td>A</td>\n",
       "      <td>756</td>\n",
       "    </tr>\n",
       "  </tbody>\n",
       "</table>\n",
       "</div>"
      ],
      "text/plain": [
       "        date group  visitors\n",
       "0 2019-08-01     A       719\n",
       "1 2019-08-02     A       619\n",
       "2 2019-08-03     A       507\n",
       "3 2019-08-04     A       717\n",
       "4 2019-08-05     A       756"
      ]
     },
     "execution_count": 167,
     "metadata": {},
     "output_type": "execute_result"
    }
   ],
   "source": [
    "visitors.head()"
   ]
  },
  {
   "cell_type": "markdown",
   "metadata": {},
   "source": [
    "Cоздаем массив уникальных пар значений дат и групп теста"
   ]
  },
  {
   "cell_type": "code",
   "execution_count": 168,
   "metadata": {
    "scrolled": true
   },
   "outputs": [
    {
     "data": {
      "text/html": [
       "<div>\n",
       "<style scoped>\n",
       "    .dataframe tbody tr th:only-of-type {\n",
       "        vertical-align: middle;\n",
       "    }\n",
       "\n",
       "    .dataframe tbody tr th {\n",
       "        vertical-align: top;\n",
       "    }\n",
       "\n",
       "    .dataframe thead th {\n",
       "        text-align: right;\n",
       "    }\n",
       "</style>\n",
       "<table border=\"1\" class=\"dataframe\">\n",
       "  <thead>\n",
       "    <tr style=\"text-align: right;\">\n",
       "      <th></th>\n",
       "      <th>date</th>\n",
       "      <th>group</th>\n",
       "    </tr>\n",
       "  </thead>\n",
       "  <tbody>\n",
       "    <tr>\n",
       "      <td>0</td>\n",
       "      <td>2019-08-15</td>\n",
       "      <td>B</td>\n",
       "    </tr>\n",
       "    <tr>\n",
       "      <td>2</td>\n",
       "      <td>2019-08-15</td>\n",
       "      <td>A</td>\n",
       "    </tr>\n",
       "    <tr>\n",
       "      <td>45</td>\n",
       "      <td>2019-08-16</td>\n",
       "      <td>A</td>\n",
       "    </tr>\n",
       "    <tr>\n",
       "      <td>47</td>\n",
       "      <td>2019-08-16</td>\n",
       "      <td>B</td>\n",
       "    </tr>\n",
       "    <tr>\n",
       "      <td>55</td>\n",
       "      <td>2019-08-01</td>\n",
       "      <td>A</td>\n",
       "    </tr>\n",
       "  </tbody>\n",
       "</table>\n",
       "</div>"
      ],
      "text/plain": [
       "         date group\n",
       "0  2019-08-15     B\n",
       "2  2019-08-15     A\n",
       "45 2019-08-16     A\n",
       "47 2019-08-16     B\n",
       "55 2019-08-01     A"
      ]
     },
     "execution_count": 168,
     "metadata": {},
     "output_type": "execute_result"
    }
   ],
   "source": [
    "datesGroups = orders[['date','group']].drop_duplicates()\n",
    "datesGroups.head()"
   ]
  },
  {
   "cell_type": "markdown",
   "metadata": {},
   "source": [
    "Агрегируем значения:\n",
    "- Вычислим максимальную дату.\n",
    "- Для группы тоже рассчитаем максимум, и хотя она будет определённой, сделаем это, чтобы столбец 'group' не пропал из итогового вывода.\n",
    "- Найдём число уникальных ID заказов и пользователей.\n",
    "- Подсчитаем сумму средних чеков."
   ]
  },
  {
   "cell_type": "code",
   "execution_count": 169,
   "metadata": {},
   "outputs": [
    {
     "data": {
      "text/html": [
       "<div>\n",
       "<style scoped>\n",
       "    .dataframe tbody tr th:only-of-type {\n",
       "        vertical-align: middle;\n",
       "    }\n",
       "\n",
       "    .dataframe tbody tr th {\n",
       "        vertical-align: top;\n",
       "    }\n",
       "\n",
       "    .dataframe thead th {\n",
       "        text-align: right;\n",
       "    }\n",
       "</style>\n",
       "<table border=\"1\" class=\"dataframe\">\n",
       "  <thead>\n",
       "    <tr style=\"text-align: right;\">\n",
       "      <th></th>\n",
       "      <th>date</th>\n",
       "      <th>group</th>\n",
       "      <th>transactionId</th>\n",
       "      <th>visitorId</th>\n",
       "      <th>revenue</th>\n",
       "    </tr>\n",
       "  </thead>\n",
       "  <tbody>\n",
       "    <tr>\n",
       "      <td>55</td>\n",
       "      <td>2019-08-01</td>\n",
       "      <td>A</td>\n",
       "      <td>24</td>\n",
       "      <td>20</td>\n",
       "      <td>148579</td>\n",
       "    </tr>\n",
       "    <tr>\n",
       "      <td>66</td>\n",
       "      <td>2019-08-01</td>\n",
       "      <td>B</td>\n",
       "      <td>21</td>\n",
       "      <td>20</td>\n",
       "      <td>101217</td>\n",
       "    </tr>\n",
       "    <tr>\n",
       "      <td>175</td>\n",
       "      <td>2019-08-02</td>\n",
       "      <td>A</td>\n",
       "      <td>44</td>\n",
       "      <td>38</td>\n",
       "      <td>242401</td>\n",
       "    </tr>\n",
       "    <tr>\n",
       "      <td>173</td>\n",
       "      <td>2019-08-02</td>\n",
       "      <td>B</td>\n",
       "      <td>45</td>\n",
       "      <td>43</td>\n",
       "      <td>266748</td>\n",
       "    </tr>\n",
       "    <tr>\n",
       "      <td>291</td>\n",
       "      <td>2019-08-03</td>\n",
       "      <td>A</td>\n",
       "      <td>68</td>\n",
       "      <td>62</td>\n",
       "      <td>354874</td>\n",
       "    </tr>\n",
       "  </tbody>\n",
       "</table>\n",
       "</div>"
      ],
      "text/plain": [
       "          date group  transactionId  visitorId  revenue\n",
       "55  2019-08-01     A             24         20   148579\n",
       "66  2019-08-01     B             21         20   101217\n",
       "175 2019-08-02     A             44         38   242401\n",
       "173 2019-08-02     B             45         43   266748\n",
       "291 2019-08-03     A             68         62   354874"
      ]
     },
     "execution_count": 169,
     "metadata": {},
     "output_type": "execute_result"
    }
   ],
   "source": [
    "ordersAggregated = datesGroups.apply(lambda x: orders[np.logical_and(orders['date'] <= x['date'], orders['group'] == x['group'])].agg({'date' : 'max', 'group' : 'max', 'transactionId' : pd.Series.nunique, 'visitorId' : pd.Series.nunique, 'revenue' : 'sum'}), axis=1).sort_values(by=['date','group'])\n",
    "\n",
    "ordersAggregated.head()"
   ]
  },
  {
   "cell_type": "markdown",
   "metadata": {},
   "source": [
    "Аналогично получим агрегированные кумулятивные по дням данные о посетителях интернет-магазина:"
   ]
  },
  {
   "cell_type": "code",
   "execution_count": 170,
   "metadata": {},
   "outputs": [
    {
     "data": {
      "text/html": [
       "<div>\n",
       "<style scoped>\n",
       "    .dataframe tbody tr th:only-of-type {\n",
       "        vertical-align: middle;\n",
       "    }\n",
       "\n",
       "    .dataframe tbody tr th {\n",
       "        vertical-align: top;\n",
       "    }\n",
       "\n",
       "    .dataframe thead th {\n",
       "        text-align: right;\n",
       "    }\n",
       "</style>\n",
       "<table border=\"1\" class=\"dataframe\">\n",
       "  <thead>\n",
       "    <tr style=\"text-align: right;\">\n",
       "      <th></th>\n",
       "      <th>date</th>\n",
       "      <th>group</th>\n",
       "      <th>visitors</th>\n",
       "    </tr>\n",
       "  </thead>\n",
       "  <tbody>\n",
       "    <tr>\n",
       "      <td>55</td>\n",
       "      <td>2019-08-01</td>\n",
       "      <td>A</td>\n",
       "      <td>719</td>\n",
       "    </tr>\n",
       "    <tr>\n",
       "      <td>66</td>\n",
       "      <td>2019-08-01</td>\n",
       "      <td>B</td>\n",
       "      <td>713</td>\n",
       "    </tr>\n",
       "    <tr>\n",
       "      <td>175</td>\n",
       "      <td>2019-08-02</td>\n",
       "      <td>A</td>\n",
       "      <td>1338</td>\n",
       "    </tr>\n",
       "    <tr>\n",
       "      <td>173</td>\n",
       "      <td>2019-08-02</td>\n",
       "      <td>B</td>\n",
       "      <td>1294</td>\n",
       "    </tr>\n",
       "    <tr>\n",
       "      <td>291</td>\n",
       "      <td>2019-08-03</td>\n",
       "      <td>A</td>\n",
       "      <td>1845</td>\n",
       "    </tr>\n",
       "  </tbody>\n",
       "</table>\n",
       "</div>"
      ],
      "text/plain": [
       "          date group  visitors\n",
       "55  2019-08-01     A       719\n",
       "66  2019-08-01     B       713\n",
       "175 2019-08-02     A      1338\n",
       "173 2019-08-02     B      1294\n",
       "291 2019-08-03     A      1845"
      ]
     },
     "execution_count": 170,
     "metadata": {},
     "output_type": "execute_result"
    }
   ],
   "source": [
    "visitorsAggregated = datesGroups.apply(lambda x: visitors[np.logical_and(visitors['date'] <= x['date'], visitors['group'] == x['group'])].agg({'date' : 'max', 'group' : 'max', 'visitors' : 'sum'}), axis=1).sort_values(by=['date','group'])\n",
    "visitorsAggregated.head()"
   ]
  },
  {
   "cell_type": "markdown",
   "metadata": {},
   "source": [
    "Объединим обе таблицы в одну с понятными названиями столбцов:"
   ]
  },
  {
   "cell_type": "code",
   "execution_count": 171,
   "metadata": {
    "scrolled": true
   },
   "outputs": [
    {
     "data": {
      "text/html": [
       "<div>\n",
       "<style scoped>\n",
       "    .dataframe tbody tr th:only-of-type {\n",
       "        vertical-align: middle;\n",
       "    }\n",
       "\n",
       "    .dataframe tbody tr th {\n",
       "        vertical-align: top;\n",
       "    }\n",
       "\n",
       "    .dataframe thead th {\n",
       "        text-align: right;\n",
       "    }\n",
       "</style>\n",
       "<table border=\"1\" class=\"dataframe\">\n",
       "  <thead>\n",
       "    <tr style=\"text-align: right;\">\n",
       "      <th></th>\n",
       "      <th>date</th>\n",
       "      <th>group</th>\n",
       "      <th>orders</th>\n",
       "      <th>buyers</th>\n",
       "      <th>revenue</th>\n",
       "      <th>visitors</th>\n",
       "    </tr>\n",
       "  </thead>\n",
       "  <tbody>\n",
       "    <tr>\n",
       "      <td>0</td>\n",
       "      <td>2019-08-01</td>\n",
       "      <td>A</td>\n",
       "      <td>24</td>\n",
       "      <td>20</td>\n",
       "      <td>148579</td>\n",
       "      <td>719</td>\n",
       "    </tr>\n",
       "    <tr>\n",
       "      <td>1</td>\n",
       "      <td>2019-08-01</td>\n",
       "      <td>B</td>\n",
       "      <td>21</td>\n",
       "      <td>20</td>\n",
       "      <td>101217</td>\n",
       "      <td>713</td>\n",
       "    </tr>\n",
       "    <tr>\n",
       "      <td>2</td>\n",
       "      <td>2019-08-02</td>\n",
       "      <td>A</td>\n",
       "      <td>44</td>\n",
       "      <td>38</td>\n",
       "      <td>242401</td>\n",
       "      <td>1338</td>\n",
       "    </tr>\n",
       "    <tr>\n",
       "      <td>3</td>\n",
       "      <td>2019-08-02</td>\n",
       "      <td>B</td>\n",
       "      <td>45</td>\n",
       "      <td>43</td>\n",
       "      <td>266748</td>\n",
       "      <td>1294</td>\n",
       "    </tr>\n",
       "    <tr>\n",
       "      <td>4</td>\n",
       "      <td>2019-08-03</td>\n",
       "      <td>A</td>\n",
       "      <td>68</td>\n",
       "      <td>62</td>\n",
       "      <td>354874</td>\n",
       "      <td>1845</td>\n",
       "    </tr>\n",
       "  </tbody>\n",
       "</table>\n",
       "</div>"
      ],
      "text/plain": [
       "        date group  orders  buyers  revenue  visitors\n",
       "0 2019-08-01     A      24      20   148579       719\n",
       "1 2019-08-01     B      21      20   101217       713\n",
       "2 2019-08-02     A      44      38   242401      1338\n",
       "3 2019-08-02     B      45      43   266748      1294\n",
       "4 2019-08-03     A      68      62   354874      1845"
      ]
     },
     "execution_count": 171,
     "metadata": {},
     "output_type": "execute_result"
    }
   ],
   "source": [
    "cumulativeData = ordersAggregated.merge(visitorsAggregated, left_on=['date', 'group'], right_on=['date', 'group'])\n",
    "cumulativeData.columns = ['date', 'group', 'orders', 'buyers', 'revenue', 'visitors']\n",
    "\n",
    "cumulativeData.head()"
   ]
  },
  {
   "cell_type": "markdown",
   "metadata": {},
   "source": [
    "Соберем датафрейм с кумулятивным количеством заказов и кумулятивной выручкой по дням в группе А"
   ]
  },
  {
   "cell_type": "code",
   "execution_count": 172,
   "metadata": {},
   "outputs": [],
   "source": [
    "cumulativeRevenueA = cumulativeData[cumulativeData['group']=='A'][['date','revenue', 'orders']]"
   ]
  },
  {
   "cell_type": "markdown",
   "metadata": {},
   "source": [
    "Соберем датафрейм с кумулятивным количеством заказов и кумулятивной выручкой по дням в группе B"
   ]
  },
  {
   "cell_type": "code",
   "execution_count": 173,
   "metadata": {},
   "outputs": [],
   "source": [
    "cumulativeRevenueB = cumulativeData[cumulativeData['group']=='B'][['date','revenue', 'orders']]"
   ]
  },
  {
   "cell_type": "markdown",
   "metadata": {},
   "source": [
    "Построим графики кумулятивной выручки по дням и группам A/B-тестирования:"
   ]
  },
  {
   "cell_type": "code",
   "execution_count": 174,
   "metadata": {
    "scrolled": false
   },
   "outputs": [
    {
     "data": {
      "image/png": "[encoded data removed]",
      "text/plain": [
       "<Figure size 432x288 with 1 Axes>"
      ]
     },
     "metadata": {
      "needs_background": "light"
     },
     "output_type": "display_data"
    }
   ],
   "source": [
    "plt.plot(cumulativeRevenueA['date'], cumulativeRevenueA['revenue'], label='A')\n",
    "plt.plot(cumulativeRevenueB['date'], cumulativeRevenueB['revenue'], label='B')\n",
    "plt.xticks(rotation=45)\n",
    "plt.title(\"Кумулятивная выручка по дням и группам A/B-тестирования\")\n",
    "plt.xlabel('Дата')\n",
    "plt.ylabel('Выручка')\n",
    "plt.annotate('скачок', xy=('2019-08-17', 2800000), xytext=('2019-08-10', 3500000),\n",
    "            arrowprops=dict(facecolor='g'))\n",
    "plt.annotate('отрыв', xy=('2019-08-05', 800000), xytext=('2019-08-05', 2000000),\n",
    "            arrowprops=dict(facecolor='g'))\n",
    "plt.legend();"
   ]
  },
  {
   "cell_type": "markdown",
   "metadata": {},
   "source": [
    "**Вывод:** Выручка почти равномерно увеличивается в течение всего теста в обеих группах. Это хорошо.\n",
    "\n",
    "Графики выручки обеих групп в нескольких точках резко растут. Это может сигнализировать о всплесках числа заказов, либо о появлении очень дорогих заказов в выборке, особенно выделяется рост у группы В. "
   ]
  },
  {
   "cell_type": "markdown",
   "metadata": {},
   "source": [
    "### Построение графика кумулятивного среднего чека по группам.\n",
    "\n",
    "Построим графики среднего чека по группам — разделим кумулятивную выручку на кумулятивное число заказов:"
   ]
  },
  {
   "cell_type": "code",
   "execution_count": 175,
   "metadata": {
    "scrolled": true
   },
   "outputs": [
    {
     "data": {
      "image/png": "[encoded data removed]",
      "text/plain": [
       "<Figure size 432x288 with 1 Axes>"
      ]
     },
     "metadata": {
      "needs_background": "light"
     },
     "output_type": "display_data"
    }
   ],
   "source": [
    "plt.plot(cumulativeRevenueA['date'], cumulativeRevenueA['revenue']/cumulativeRevenueA['orders'], label='A')\n",
    "plt.plot(cumulativeRevenueB['date'], cumulativeRevenueB['revenue']/cumulativeRevenueB['orders'], label='B')\n",
    "plt.xticks(rotation=45)\n",
    "plt.title(\"Кумулятивный средний чек по группам A/B-тестирования\")\n",
    "plt.xlabel('Дата')\n",
    "plt.ylabel('Средний чек')\n",
    "plt.annotate('всплеск', xy=('2019-08-17', 7300), xytext=('2019-08-09', 8000),\n",
    "            arrowprops=dict(facecolor='r'))\n",
    "plt.legend();"
   ]
  },
  {
   "cell_type": "markdown",
   "metadata": {},
   "source": [
    "**Вывод:**\n",
    "- Средний чек становится более-менее равномерным ближе к концу теста: немного повышается для группы A и продолжает падать для группы B.\n",
    "- Возможно, в группу B в середине теста попали крупные заказы (резкий всплеск на графике).\n",
    "- На данном этапе, можно сказать, что нужно больше данных, чтобы прийти к реальному среднему чеку и установиться на его уровне. Также необходимо провести дополнительные исследования данных."
   ]
  },
  {
   "cell_type": "markdown",
   "metadata": {},
   "source": [
    "### Построение графика относительного изменения кумулятивного среднего чека группы B к группе A.\n",
    "\n",
    "Собираем данные в одном датафрейме:"
   ]
  },
  {
   "cell_type": "code",
   "execution_count": 176,
   "metadata": {},
   "outputs": [
    {
     "data": {
      "text/html": [
       "<div>\n",
       "<style scoped>\n",
       "    .dataframe tbody tr th:only-of-type {\n",
       "        vertical-align: middle;\n",
       "    }\n",
       "\n",
       "    .dataframe tbody tr th {\n",
       "        vertical-align: top;\n",
       "    }\n",
       "\n",
       "    .dataframe thead th {\n",
       "        text-align: right;\n",
       "    }\n",
       "</style>\n",
       "<table border=\"1\" class=\"dataframe\">\n",
       "  <thead>\n",
       "    <tr style=\"text-align: right;\">\n",
       "      <th></th>\n",
       "      <th>date</th>\n",
       "      <th>revenueA</th>\n",
       "      <th>ordersA</th>\n",
       "      <th>revenueB</th>\n",
       "      <th>ordersB</th>\n",
       "    </tr>\n",
       "  </thead>\n",
       "  <tbody>\n",
       "    <tr>\n",
       "      <td>0</td>\n",
       "      <td>2019-08-01</td>\n",
       "      <td>148579</td>\n",
       "      <td>24</td>\n",
       "      <td>101217</td>\n",
       "      <td>21</td>\n",
       "    </tr>\n",
       "    <tr>\n",
       "      <td>1</td>\n",
       "      <td>2019-08-02</td>\n",
       "      <td>242401</td>\n",
       "      <td>44</td>\n",
       "      <td>266748</td>\n",
       "      <td>45</td>\n",
       "    </tr>\n",
       "    <tr>\n",
       "      <td>2</td>\n",
       "      <td>2019-08-03</td>\n",
       "      <td>354874</td>\n",
       "      <td>68</td>\n",
       "      <td>380996</td>\n",
       "      <td>61</td>\n",
       "    </tr>\n",
       "    <tr>\n",
       "      <td>3</td>\n",
       "      <td>2019-08-04</td>\n",
       "      <td>425699</td>\n",
       "      <td>84</td>\n",
       "      <td>489567</td>\n",
       "      <td>78</td>\n",
       "    </tr>\n",
       "    <tr>\n",
       "      <td>4</td>\n",
       "      <td>2019-08-05</td>\n",
       "      <td>549917</td>\n",
       "      <td>109</td>\n",
       "      <td>581995</td>\n",
       "      <td>101</td>\n",
       "    </tr>\n",
       "  </tbody>\n",
       "</table>\n",
       "</div>"
      ],
      "text/plain": [
       "        date  revenueA  ordersA  revenueB  ordersB\n",
       "0 2019-08-01    148579       24    101217       21\n",
       "1 2019-08-02    242401       44    266748       45\n",
       "2 2019-08-03    354874       68    380996       61\n",
       "3 2019-08-04    425699       84    489567       78\n",
       "4 2019-08-05    549917      109    581995      101"
      ]
     },
     "execution_count": 176,
     "metadata": {},
     "output_type": "execute_result"
    }
   ],
   "source": [
    "mergedCumulativeRevenue = cumulativeRevenueA.merge(cumulativeRevenueB, left_on='date', right_on='date', how='left', suffixes=['A', 'B'])\n",
    "mergedCumulativeRevenue.head()"
   ]
  },
  {
   "cell_type": "markdown",
   "metadata": {},
   "source": [
    "Построим график относительного различия для среднего чека. Добавим горизонтальную ось методом axhline()"
   ]
  },
  {
   "cell_type": "code",
   "execution_count": 212,
   "metadata": {},
   "outputs": [
    {
     "data": {
      "image/png": "[encoded data removed]",
      "text/plain": [
       "<Figure size 432x288 with 1 Axes>"
      ]
     },
     "metadata": {
      "needs_background": "light"
     },
     "output_type": "display_data"
    }
   ],
   "source": [
    "plt.plot(mergedCumulativeRevenue['date'], (mergedCumulativeRevenue['revenueB']/mergedCumulativeRevenue['ordersB'])/(mergedCumulativeRevenue['revenueA']/mergedCumulativeRevenue['ordersA'])-1)\n",
    "plt.xticks(rotation=45)\n",
    "plt.axis([\"2019-08-01\", '2019-09-01', -0.6, 0.6])\n",
    "plt.title(\"Относительное изменение кумулятивного среднего чека группы B к группе A\")\n",
    "plt.xlabel('Дата')\n",
    "plt.ylabel('Относительное изменение кумулятивного среднего')\n",
    "plt.annotate('скачок', xy=('2019-08-18', 0.03), xytext=('2019-08-21', -0.2),\n",
    "            arrowprops=dict(facecolor='r'))\n",
    "plt.annotate('скачок', xy=('2019-08-05', 0.12), xytext=('2019-08-03', -0.1),\n",
    "            arrowprops=dict(facecolor='r'))\n",
    "plt.axhline(y=0, color='black', linestyle='--');"
   ]
  },
  {
   "cell_type": "markdown",
   "metadata": {},
   "source": [
    "**Вывод:**\n",
    "- Прирост группы В больше чем группы А примерно на 30% \n",
    "- В нескольких точках график различия между сегментами резко «скачет», данные необходимо исследовать на наличие крупных заказов и выбросов.\n",
    "\n",
    "Возможно, прирост группы В объясняется наличием выбросов и аномальных значений."
   ]
  },
  {
   "cell_type": "markdown",
   "metadata": {},
   "source": [
    "### Построение графика кумулятивной конверсии по группам.\n",
    "\n",
    "Рассчитаем кумулятивную конверсию:"
   ]
  },
  {
   "cell_type": "code",
   "execution_count": 178,
   "metadata": {},
   "outputs": [
    {
     "data": {
      "text/html": [
       "<div>\n",
       "<style scoped>\n",
       "    .dataframe tbody tr th:only-of-type {\n",
       "        vertical-align: middle;\n",
       "    }\n",
       "\n",
       "    .dataframe tbody tr th {\n",
       "        vertical-align: top;\n",
       "    }\n",
       "\n",
       "    .dataframe thead th {\n",
       "        text-align: right;\n",
       "    }\n",
       "</style>\n",
       "<table border=\"1\" class=\"dataframe\">\n",
       "  <thead>\n",
       "    <tr style=\"text-align: right;\">\n",
       "      <th></th>\n",
       "      <th>date</th>\n",
       "      <th>group</th>\n",
       "      <th>orders</th>\n",
       "      <th>buyers</th>\n",
       "      <th>revenue</th>\n",
       "      <th>visitors</th>\n",
       "      <th>conversion</th>\n",
       "    </tr>\n",
       "  </thead>\n",
       "  <tbody>\n",
       "    <tr>\n",
       "      <td>0</td>\n",
       "      <td>2019-08-01</td>\n",
       "      <td>A</td>\n",
       "      <td>24</td>\n",
       "      <td>20</td>\n",
       "      <td>148579</td>\n",
       "      <td>719</td>\n",
       "      <td>0.033380</td>\n",
       "    </tr>\n",
       "    <tr>\n",
       "      <td>1</td>\n",
       "      <td>2019-08-01</td>\n",
       "      <td>B</td>\n",
       "      <td>21</td>\n",
       "      <td>20</td>\n",
       "      <td>101217</td>\n",
       "      <td>713</td>\n",
       "      <td>0.029453</td>\n",
       "    </tr>\n",
       "    <tr>\n",
       "      <td>2</td>\n",
       "      <td>2019-08-02</td>\n",
       "      <td>A</td>\n",
       "      <td>44</td>\n",
       "      <td>38</td>\n",
       "      <td>242401</td>\n",
       "      <td>1338</td>\n",
       "      <td>0.032885</td>\n",
       "    </tr>\n",
       "    <tr>\n",
       "      <td>3</td>\n",
       "      <td>2019-08-02</td>\n",
       "      <td>B</td>\n",
       "      <td>45</td>\n",
       "      <td>43</td>\n",
       "      <td>266748</td>\n",
       "      <td>1294</td>\n",
       "      <td>0.034776</td>\n",
       "    </tr>\n",
       "    <tr>\n",
       "      <td>4</td>\n",
       "      <td>2019-08-03</td>\n",
       "      <td>A</td>\n",
       "      <td>68</td>\n",
       "      <td>62</td>\n",
       "      <td>354874</td>\n",
       "      <td>1845</td>\n",
       "      <td>0.036856</td>\n",
       "    </tr>\n",
       "  </tbody>\n",
       "</table>\n",
       "</div>"
      ],
      "text/plain": [
       "        date group  orders  buyers  revenue  visitors  conversion\n",
       "0 2019-08-01     A      24      20   148579       719    0.033380\n",
       "1 2019-08-01     B      21      20   101217       713    0.029453\n",
       "2 2019-08-02     A      44      38   242401      1338    0.032885\n",
       "3 2019-08-02     B      45      43   266748      1294    0.034776\n",
       "4 2019-08-03     A      68      62   354874      1845    0.036856"
      ]
     },
     "execution_count": 178,
     "metadata": {},
     "output_type": "execute_result"
    }
   ],
   "source": [
    "cumulativeData['conversion'] = cumulativeData['orders']/cumulativeData['visitors']\n",
    "cumulativeData.head()"
   ]
  },
  {
   "cell_type": "markdown",
   "metadata": {},
   "source": [
    "Выберем данные по группе A:"
   ]
  },
  {
   "cell_type": "code",
   "execution_count": 179,
   "metadata": {},
   "outputs": [
    {
     "data": {
      "text/html": [
       "<div>\n",
       "<style scoped>\n",
       "    .dataframe tbody tr th:only-of-type {\n",
       "        vertical-align: middle;\n",
       "    }\n",
       "\n",
       "    .dataframe tbody tr th {\n",
       "        vertical-align: top;\n",
       "    }\n",
       "\n",
       "    .dataframe thead th {\n",
       "        text-align: right;\n",
       "    }\n",
       "</style>\n",
       "<table border=\"1\" class=\"dataframe\">\n",
       "  <thead>\n",
       "    <tr style=\"text-align: right;\">\n",
       "      <th></th>\n",
       "      <th>date</th>\n",
       "      <th>group</th>\n",
       "      <th>orders</th>\n",
       "      <th>buyers</th>\n",
       "      <th>revenue</th>\n",
       "      <th>visitors</th>\n",
       "      <th>conversion</th>\n",
       "    </tr>\n",
       "  </thead>\n",
       "  <tbody>\n",
       "    <tr>\n",
       "      <td>0</td>\n",
       "      <td>2019-08-01</td>\n",
       "      <td>A</td>\n",
       "      <td>24</td>\n",
       "      <td>20</td>\n",
       "      <td>148579</td>\n",
       "      <td>719</td>\n",
       "      <td>0.033380</td>\n",
       "    </tr>\n",
       "    <tr>\n",
       "      <td>2</td>\n",
       "      <td>2019-08-02</td>\n",
       "      <td>A</td>\n",
       "      <td>44</td>\n",
       "      <td>38</td>\n",
       "      <td>242401</td>\n",
       "      <td>1338</td>\n",
       "      <td>0.032885</td>\n",
       "    </tr>\n",
       "    <tr>\n",
       "      <td>4</td>\n",
       "      <td>2019-08-03</td>\n",
       "      <td>A</td>\n",
       "      <td>68</td>\n",
       "      <td>62</td>\n",
       "      <td>354874</td>\n",
       "      <td>1845</td>\n",
       "      <td>0.036856</td>\n",
       "    </tr>\n",
       "    <tr>\n",
       "      <td>6</td>\n",
       "      <td>2019-08-04</td>\n",
       "      <td>A</td>\n",
       "      <td>84</td>\n",
       "      <td>77</td>\n",
       "      <td>425699</td>\n",
       "      <td>2562</td>\n",
       "      <td>0.032787</td>\n",
       "    </tr>\n",
       "    <tr>\n",
       "      <td>8</td>\n",
       "      <td>2019-08-05</td>\n",
       "      <td>A</td>\n",
       "      <td>109</td>\n",
       "      <td>100</td>\n",
       "      <td>549917</td>\n",
       "      <td>3318</td>\n",
       "      <td>0.032851</td>\n",
       "    </tr>\n",
       "  </tbody>\n",
       "</table>\n",
       "</div>"
      ],
      "text/plain": [
       "        date group  orders  buyers  revenue  visitors  conversion\n",
       "0 2019-08-01     A      24      20   148579       719    0.033380\n",
       "2 2019-08-02     A      44      38   242401      1338    0.032885\n",
       "4 2019-08-03     A      68      62   354874      1845    0.036856\n",
       "6 2019-08-04     A      84      77   425699      2562    0.032787\n",
       "8 2019-08-05     A     109     100   549917      3318    0.032851"
      ]
     },
     "execution_count": 179,
     "metadata": {},
     "output_type": "execute_result"
    }
   ],
   "source": [
    "cumulativeDataA = cumulativeData[cumulativeData['group']=='A']\n",
    "cumulativeDataA.head()"
   ]
  },
  {
   "cell_type": "markdown",
   "metadata": {},
   "source": [
    "Выберем данные по группе В:"
   ]
  },
  {
   "cell_type": "code",
   "execution_count": 180,
   "metadata": {},
   "outputs": [
    {
     "data": {
      "text/html": [
       "<div>\n",
       "<style scoped>\n",
       "    .dataframe tbody tr th:only-of-type {\n",
       "        vertical-align: middle;\n",
       "    }\n",
       "\n",
       "    .dataframe tbody tr th {\n",
       "        vertical-align: top;\n",
       "    }\n",
       "\n",
       "    .dataframe thead th {\n",
       "        text-align: right;\n",
       "    }\n",
       "</style>\n",
       "<table border=\"1\" class=\"dataframe\">\n",
       "  <thead>\n",
       "    <tr style=\"text-align: right;\">\n",
       "      <th></th>\n",
       "      <th>date</th>\n",
       "      <th>group</th>\n",
       "      <th>orders</th>\n",
       "      <th>buyers</th>\n",
       "      <th>revenue</th>\n",
       "      <th>visitors</th>\n",
       "      <th>conversion</th>\n",
       "    </tr>\n",
       "  </thead>\n",
       "  <tbody>\n",
       "    <tr>\n",
       "      <td>1</td>\n",
       "      <td>2019-08-01</td>\n",
       "      <td>B</td>\n",
       "      <td>21</td>\n",
       "      <td>20</td>\n",
       "      <td>101217</td>\n",
       "      <td>713</td>\n",
       "      <td>0.029453</td>\n",
       "    </tr>\n",
       "    <tr>\n",
       "      <td>3</td>\n",
       "      <td>2019-08-02</td>\n",
       "      <td>B</td>\n",
       "      <td>45</td>\n",
       "      <td>43</td>\n",
       "      <td>266748</td>\n",
       "      <td>1294</td>\n",
       "      <td>0.034776</td>\n",
       "    </tr>\n",
       "    <tr>\n",
       "      <td>5</td>\n",
       "      <td>2019-08-03</td>\n",
       "      <td>B</td>\n",
       "      <td>61</td>\n",
       "      <td>59</td>\n",
       "      <td>380996</td>\n",
       "      <td>1803</td>\n",
       "      <td>0.033833</td>\n",
       "    </tr>\n",
       "    <tr>\n",
       "      <td>7</td>\n",
       "      <td>2019-08-04</td>\n",
       "      <td>B</td>\n",
       "      <td>78</td>\n",
       "      <td>75</td>\n",
       "      <td>489567</td>\n",
       "      <td>2573</td>\n",
       "      <td>0.030315</td>\n",
       "    </tr>\n",
       "    <tr>\n",
       "      <td>9</td>\n",
       "      <td>2019-08-05</td>\n",
       "      <td>B</td>\n",
       "      <td>101</td>\n",
       "      <td>98</td>\n",
       "      <td>581995</td>\n",
       "      <td>3280</td>\n",
       "      <td>0.030793</td>\n",
       "    </tr>\n",
       "  </tbody>\n",
       "</table>\n",
       "</div>"
      ],
      "text/plain": [
       "        date group  orders  buyers  revenue  visitors  conversion\n",
       "1 2019-08-01     B      21      20   101217       713    0.029453\n",
       "3 2019-08-02     B      45      43   266748      1294    0.034776\n",
       "5 2019-08-03     B      61      59   380996      1803    0.033833\n",
       "7 2019-08-04     B      78      75   489567      2573    0.030315\n",
       "9 2019-08-05     B     101      98   581995      3280    0.030793"
      ]
     },
     "execution_count": 180,
     "metadata": {},
     "output_type": "execute_result"
    }
   ],
   "source": [
    "cumulativeDataB = cumulativeData[cumulativeData['group']=='B']\n",
    "cumulativeDataB.head()"
   ]
  },
  {
   "cell_type": "markdown",
   "metadata": {},
   "source": [
    "Построим графики:"
   ]
  },
  {
   "cell_type": "code",
   "execution_count": 181,
   "metadata": {},
   "outputs": [
    {
     "data": {
      "image/png": "[encoded data removed]",
      "text/plain": [
       "<Figure size 432x288 with 1 Axes>"
      ]
     },
     "metadata": {
      "needs_background": "light"
     },
     "output_type": "display_data"
    }
   ],
   "source": [
    "plt.plot(cumulativeDataA['date'], cumulativeDataA['conversion'], label='A')\n",
    "plt.plot(cumulativeDataB['date'], cumulativeDataB['conversion'], label='B')\n",
    "plt.xticks(rotation=45)\n",
    "plt.axis([\"2019-08-01\", '2019-09-01', 0, 0.05])\n",
    "plt.title(\"Кумулятивная конверсия по группам\")\n",
    "plt.xlabel('Дата')\n",
    "plt.ylabel('Кумулятивная конверсия')\n",
    "plt.legend();"
   ]
  },
  {
   "cell_type": "markdown",
   "metadata": {},
   "source": [
    "**Вывод:**\n",
    "- В начале теста сегмент А имел немного большую конверсию, однако затем снизился и зафиксировался примерно около одного значения.\n",
    "- В начале теста сегмент В имел немного меньшую конверсию, затем увеличился и постепенно выровнялся в положении выше сегмента А.\n",
    "\n",
    "Мы увеличили масштаб, чтобы было видно, что абсолютное значения колебания в начале и в конце теста не слишком большое: от 2,5% до 4%."
   ]
  },
  {
   "cell_type": "markdown",
   "metadata": {},
   "source": [
    "### Построение графика относительного изменения кумулятивной конверсии группы B к группе A.\n",
    "\n",
    "Объединим таблицы:"
   ]
  },
  {
   "cell_type": "code",
   "execution_count": 182,
   "metadata": {},
   "outputs": [
    {
     "data": {
      "text/html": [
       "<div>\n",
       "<style scoped>\n",
       "    .dataframe tbody tr th:only-of-type {\n",
       "        vertical-align: middle;\n",
       "    }\n",
       "\n",
       "    .dataframe tbody tr th {\n",
       "        vertical-align: top;\n",
       "    }\n",
       "\n",
       "    .dataframe thead th {\n",
       "        text-align: right;\n",
       "    }\n",
       "</style>\n",
       "<table border=\"1\" class=\"dataframe\">\n",
       "  <thead>\n",
       "    <tr style=\"text-align: right;\">\n",
       "      <th></th>\n",
       "      <th>date</th>\n",
       "      <th>conversionA</th>\n",
       "      <th>conversionB</th>\n",
       "    </tr>\n",
       "  </thead>\n",
       "  <tbody>\n",
       "    <tr>\n",
       "      <td>0</td>\n",
       "      <td>2019-08-01</td>\n",
       "      <td>0.033380</td>\n",
       "      <td>0.029453</td>\n",
       "    </tr>\n",
       "    <tr>\n",
       "      <td>1</td>\n",
       "      <td>2019-08-02</td>\n",
       "      <td>0.032885</td>\n",
       "      <td>0.034776</td>\n",
       "    </tr>\n",
       "    <tr>\n",
       "      <td>2</td>\n",
       "      <td>2019-08-03</td>\n",
       "      <td>0.036856</td>\n",
       "      <td>0.033833</td>\n",
       "    </tr>\n",
       "    <tr>\n",
       "      <td>3</td>\n",
       "      <td>2019-08-04</td>\n",
       "      <td>0.032787</td>\n",
       "      <td>0.030315</td>\n",
       "    </tr>\n",
       "    <tr>\n",
       "      <td>4</td>\n",
       "      <td>2019-08-05</td>\n",
       "      <td>0.032851</td>\n",
       "      <td>0.030793</td>\n",
       "    </tr>\n",
       "  </tbody>\n",
       "</table>\n",
       "</div>"
      ],
      "text/plain": [
       "        date  conversionA  conversionB\n",
       "0 2019-08-01     0.033380     0.029453\n",
       "1 2019-08-02     0.032885     0.034776\n",
       "2 2019-08-03     0.036856     0.033833\n",
       "3 2019-08-04     0.032787     0.030315\n",
       "4 2019-08-05     0.032851     0.030793"
      ]
     },
     "execution_count": 182,
     "metadata": {},
     "output_type": "execute_result"
    }
   ],
   "source": [
    "mergedCumulativeConversions = cumulativeDataA[['date','conversion']].merge(cumulativeDataB[['date','conversion']], left_on='date', right_on='date', how='left', suffixes=['A', 'B'])\n",
    "mergedCumulativeConversions.head()"
   ]
  },
  {
   "cell_type": "markdown",
   "metadata": {},
   "source": [
    "Построим график относительного различия кумулятивных конверсий:"
   ]
  },
  {
   "cell_type": "code",
   "execution_count": 183,
   "metadata": {},
   "outputs": [
    {
     "data": {
      "image/png": "[encoded data removed]",
      "text/plain": [
       "<Figure size 432x288 with 1 Axes>"
      ]
     },
     "metadata": {
      "needs_background": "light"
     },
     "output_type": "display_data"
    }
   ],
   "source": [
    "plt.plot(mergedCumulativeConversions['date'], mergedCumulativeConversions['conversionB']/mergedCumulativeConversions['conversionA']-1, label=\"Относительный прирост конверсии группы B относительно группы A\")\n",
    "plt.xticks(rotation=45)\n",
    "plt.axhline(y=0, color='black', linestyle='--')\n",
    "plt.axhline(y=0.12, color='grey', linestyle='--')\n",
    "plt.axis([\"2019-08-01\", '2019-09-01', -0.6, 0.6])\n",
    "plt.xlabel('Дата')\n",
    "plt.ylabel('Относительное изменение кумулятивной конверсии')\n",
    "plt.title(\"Относительный прирост конверсии группы В относительно группы А\");"
   ]
  },
  {
   "cell_type": "markdown",
   "metadata": {},
   "source": [
    "**Вывод:**\n",
    "- В начале теста группа B проигрывала группе A, затем вырвалась вперёд больше чем на 10%.\n",
    "- Потом её конверсия немного упала, но в конце, возможно снова начинает рост.\n",
    "- В целом отношение конверсии ещё не установилось, и сейчас делать какие-либо выводы по тесту нельзя. \n",
    "- Необходимо проанализировать аномалии, возможно, они изменят картину."
   ]
  },
  {
   "cell_type": "markdown",
   "metadata": {},
   "source": [
    "### Построение точечного графика количества заказов по пользователям.\n",
    "\n",
    "Подсчитаем количество заказов по пользователям и посмотрим на результат:"
   ]
  },
  {
   "cell_type": "code",
   "execution_count": 184,
   "metadata": {},
   "outputs": [
    {
     "data": {
      "text/html": [
       "<div>\n",
       "<style scoped>\n",
       "    .dataframe tbody tr th:only-of-type {\n",
       "        vertical-align: middle;\n",
       "    }\n",
       "\n",
       "    .dataframe tbody tr th {\n",
       "        vertical-align: top;\n",
       "    }\n",
       "\n",
       "    .dataframe thead th {\n",
       "        text-align: right;\n",
       "    }\n",
       "</style>\n",
       "<table border=\"1\" class=\"dataframe\">\n",
       "  <thead>\n",
       "    <tr style=\"text-align: right;\">\n",
       "      <th></th>\n",
       "      <th>userId</th>\n",
       "      <th>orders</th>\n",
       "    </tr>\n",
       "  </thead>\n",
       "  <tbody>\n",
       "    <tr>\n",
       "      <td>1023</td>\n",
       "      <td>4256040402</td>\n",
       "      <td>11</td>\n",
       "    </tr>\n",
       "    <tr>\n",
       "      <td>591</td>\n",
       "      <td>2458001652</td>\n",
       "      <td>11</td>\n",
       "    </tr>\n",
       "    <tr>\n",
       "      <td>569</td>\n",
       "      <td>2378935119</td>\n",
       "      <td>9</td>\n",
       "    </tr>\n",
       "    <tr>\n",
       "      <td>487</td>\n",
       "      <td>2038680547</td>\n",
       "      <td>8</td>\n",
       "    </tr>\n",
       "    <tr>\n",
       "      <td>44</td>\n",
       "      <td>199603092</td>\n",
       "      <td>5</td>\n",
       "    </tr>\n",
       "    <tr>\n",
       "      <td>744</td>\n",
       "      <td>3062433592</td>\n",
       "      <td>5</td>\n",
       "    </tr>\n",
       "    <tr>\n",
       "      <td>55</td>\n",
       "      <td>237748145</td>\n",
       "      <td>5</td>\n",
       "    </tr>\n",
       "    <tr>\n",
       "      <td>917</td>\n",
       "      <td>3803269165</td>\n",
       "      <td>5</td>\n",
       "    </tr>\n",
       "    <tr>\n",
       "      <td>299</td>\n",
       "      <td>1230306981</td>\n",
       "      <td>5</td>\n",
       "    </tr>\n",
       "    <tr>\n",
       "      <td>897</td>\n",
       "      <td>3717692402</td>\n",
       "      <td>5</td>\n",
       "    </tr>\n",
       "  </tbody>\n",
       "</table>\n",
       "</div>"
      ],
      "text/plain": [
       "          userId  orders\n",
       "1023  4256040402      11\n",
       "591   2458001652      11\n",
       "569   2378935119       9\n",
       "487   2038680547       8\n",
       "44     199603092       5\n",
       "744   3062433592       5\n",
       "55     237748145       5\n",
       "917   3803269165       5\n",
       "299   1230306981       5\n",
       "897   3717692402       5"
      ]
     },
     "execution_count": 184,
     "metadata": {},
     "output_type": "execute_result"
    }
   ],
   "source": [
    "ordersByUsers = (\n",
    "    orders.drop(['group', 'revenue', 'date'], axis=1)\n",
    "    .groupby('visitorId', as_index=False)\n",
    "    .agg({'transactionId': pd.Series.nunique})\n",
    ")\n",
    "\n",
    "ordersByUsers.columns = ['userId', 'orders']\n",
    "\n",
    "ordersByUsers.sort_values(by='orders', ascending=False).head(10)"
   ]
  },
  {
   "cell_type": "markdown",
   "metadata": {},
   "source": [
    "Есть пользователи, которые совершали 5, 8, 9 и 11 заказов."
   ]
  },
  {
   "cell_type": "markdown",
   "metadata": {},
   "source": [
    "Построим точечную диаграмму числа заказов на одного пользователя:"
   ]
  },
  {
   "cell_type": "code",
   "execution_count": 185,
   "metadata": {},
   "outputs": [
    {
     "data": {
      "image/png": "[encoded data removed]",
      "text/plain": [
       "<Figure size 432x288 with 1 Axes>"
      ]
     },
     "metadata": {
      "needs_background": "light"
     },
     "output_type": "display_data"
    }
   ],
   "source": [
    "x_values = pd.Series(range(0,len(ordersByUsers)))\n",
    "\n",
    "plt.scatter(x_values, ordersByUsers['orders'])\n",
    "plt.xlabel('Дата')\n",
    "plt.ylabel('Количество заказов')\n",
    "plt.title(\"Количество заказов на одного пользователя\");"
   ]
  },
  {
   "cell_type": "markdown",
   "metadata": {},
   "source": [
    "**Вывод:**\n",
    "- много пользователей с 1-3 заказами.\n",
    "- точная доля таких заказов не ясна — непонятно, считать их аномалиями или нет."
   ]
  },
  {
   "cell_type": "markdown",
   "metadata": {},
   "source": [
    "### Расчёт: 95-й и 99-й перцентили количества заказов на пользователя.\n",
    "\n",
    "Посчитаем выборочные перцентили количества заказов на одного пользователя:"
   ]
  },
  {
   "cell_type": "code",
   "execution_count": 186,
   "metadata": {},
   "outputs": [
    {
     "data": {
      "text/plain": [
       "array([2., 4.])"
      ]
     },
     "execution_count": 186,
     "metadata": {},
     "output_type": "execute_result"
    }
   ],
   "source": [
    "np.percentile(ordersByUsers['orders'], [95, 99])"
   ]
  },
  {
   "cell_type": "markdown",
   "metadata": {},
   "source": [
    "**Вывод:**\n",
    "- Не более 5% пользователей оформляли больше чем 2 заказа.\n",
    "- 1% пользователей заказывали более 4 раз.\n",
    "\n",
    "Учитывая график и расчет перцинтилей, считаю правильным выбрать до 3 заказов на одного пользователя, так мы отсечем выбросы и максимально сохраним данные."
   ]
  },
  {
   "cell_type": "markdown",
   "metadata": {},
   "source": [
    "### Построение точечного графика стоимостей заказов.\n",
    "\n",
    "Отсортируем выручку по убыванию:"
   ]
  },
  {
   "cell_type": "code",
   "execution_count": 187,
   "metadata": {
    "scrolled": true
   },
   "outputs": [
    {
     "data": {
      "text/html": [
       "<div>\n",
       "<style scoped>\n",
       "    .dataframe tbody tr th:only-of-type {\n",
       "        vertical-align: middle;\n",
       "    }\n",
       "\n",
       "    .dataframe tbody tr th {\n",
       "        vertical-align: top;\n",
       "    }\n",
       "\n",
       "    .dataframe thead th {\n",
       "        text-align: right;\n",
       "    }\n",
       "</style>\n",
       "<table border=\"1\" class=\"dataframe\">\n",
       "  <thead>\n",
       "    <tr style=\"text-align: right;\">\n",
       "      <th></th>\n",
       "      <th>transactionId</th>\n",
       "      <th>visitorId</th>\n",
       "      <th>date</th>\n",
       "      <th>revenue</th>\n",
       "      <th>group</th>\n",
       "    </tr>\n",
       "  </thead>\n",
       "  <tbody>\n",
       "    <tr>\n",
       "      <td>425</td>\n",
       "      <td>590470918</td>\n",
       "      <td>1920142716</td>\n",
       "      <td>2019-08-19</td>\n",
       "      <td>1294500</td>\n",
       "      <td>B</td>\n",
       "    </tr>\n",
       "    <tr>\n",
       "      <td>1196</td>\n",
       "      <td>3936777065</td>\n",
       "      <td>2108080724</td>\n",
       "      <td>2019-08-15</td>\n",
       "      <td>202740</td>\n",
       "      <td>B</td>\n",
       "    </tr>\n",
       "    <tr>\n",
       "      <td>858</td>\n",
       "      <td>192721366</td>\n",
       "      <td>1316129916</td>\n",
       "      <td>2019-08-27</td>\n",
       "      <td>93940</td>\n",
       "      <td>A</td>\n",
       "    </tr>\n",
       "    <tr>\n",
       "      <td>1136</td>\n",
       "      <td>666610489</td>\n",
       "      <td>1307669133</td>\n",
       "      <td>2019-08-13</td>\n",
       "      <td>92550</td>\n",
       "      <td>A</td>\n",
       "    </tr>\n",
       "    <tr>\n",
       "      <td>744</td>\n",
       "      <td>3668308183</td>\n",
       "      <td>888512513</td>\n",
       "      <td>2019-08-27</td>\n",
       "      <td>86620</td>\n",
       "      <td>B</td>\n",
       "    </tr>\n",
       "    <tr>\n",
       "      <td>682</td>\n",
       "      <td>1216533772</td>\n",
       "      <td>4266935830</td>\n",
       "      <td>2019-08-29</td>\n",
       "      <td>78990</td>\n",
       "      <td>B</td>\n",
       "    </tr>\n",
       "    <tr>\n",
       "      <td>662</td>\n",
       "      <td>1811671147</td>\n",
       "      <td>4266935830</td>\n",
       "      <td>2019-08-29</td>\n",
       "      <td>78990</td>\n",
       "      <td>A</td>\n",
       "    </tr>\n",
       "    <tr>\n",
       "      <td>743</td>\n",
       "      <td>3603576309</td>\n",
       "      <td>4133034833</td>\n",
       "      <td>2019-08-09</td>\n",
       "      <td>67990</td>\n",
       "      <td>A</td>\n",
       "    </tr>\n",
       "    <tr>\n",
       "      <td>1103</td>\n",
       "      <td>1348774318</td>\n",
       "      <td>1164614297</td>\n",
       "      <td>2019-08-12</td>\n",
       "      <td>66350</td>\n",
       "      <td>A</td>\n",
       "    </tr>\n",
       "    <tr>\n",
       "      <td>1099</td>\n",
       "      <td>316924019</td>\n",
       "      <td>148427295</td>\n",
       "      <td>2019-08-12</td>\n",
       "      <td>65710</td>\n",
       "      <td>A</td>\n",
       "    </tr>\n",
       "  </tbody>\n",
       "</table>\n",
       "</div>"
      ],
      "text/plain": [
       "      transactionId   visitorId       date  revenue group\n",
       "425       590470918  1920142716 2019-08-19  1294500     B\n",
       "1196     3936777065  2108080724 2019-08-15   202740     B\n",
       "858       192721366  1316129916 2019-08-27    93940     A\n",
       "1136      666610489  1307669133 2019-08-13    92550     A\n",
       "744      3668308183   888512513 2019-08-27    86620     B\n",
       "682      1216533772  4266935830 2019-08-29    78990     B\n",
       "662      1811671147  4266935830 2019-08-29    78990     A\n",
       "743      3603576309  4133034833 2019-08-09    67990     A\n",
       "1103     1348774318  1164614297 2019-08-12    66350     A\n",
       "1099      316924019   148427295 2019-08-12    65710     A"
      ]
     },
     "execution_count": 187,
     "metadata": {},
     "output_type": "execute_result"
    }
   ],
   "source": [
    "orders.sort_values(by='revenue', ascending=False).head(10)"
   ]
  },
  {
   "cell_type": "markdown",
   "metadata": {},
   "source": [
    "Построим точечную диаграмму распределения выручки:"
   ]
  },
  {
   "cell_type": "code",
   "execution_count": 188,
   "metadata": {
    "scrolled": true
   },
   "outputs": [
    {
     "data": {
      "image/png": "[encoded data removed]",
      "text/plain": [
       "<Figure size 432x288 with 1 Axes>"
      ]
     },
     "metadata": {
      "needs_background": "light"
     },
     "output_type": "display_data"
    }
   ],
   "source": [
    "x_values = pd.Series(range(0, len(orders['revenue'])))\n",
    "\n",
    "plt.scatter(x_values, orders['revenue'])\n",
    "plt.xlabel('Дата')\n",
    "plt.ylabel('Выручка')\n",
    "plt.title(\"Распределение выручки\");"
   ]
  },
  {
   "cell_type": "markdown",
   "metadata": {},
   "source": [
    "**Вывод:**\n",
    "- судя по графику и сортировке - большинство заказов укладываются в сумму до 100 000\n",
    "- есть единичные выбросы: 202 740 и 1 294 500 - на фоне большинства сумм они выглядят аномально.\n",
    "\n",
    "Вероятно, это аномальные заказы из группы В, которые мы видели на графике \"Относительное изменение кумулятивного среднего чека группы B к группе A\"."
   ]
  },
  {
   "cell_type": "markdown",
   "metadata": {},
   "source": [
    "### Расчёт: 95-й и 99-й перцентили стоимости заказов.\n",
    "\n",
    "Посчитаем 95-й и 99-й выборочные перцентили выручки с заказов по пользователям методом np.percentile()"
   ]
  },
  {
   "cell_type": "code",
   "execution_count": 189,
   "metadata": {},
   "outputs": [
    {
     "data": {
      "text/plain": [
       "array([28000. , 58233.2])"
      ]
     },
     "execution_count": 189,
     "metadata": {},
     "output_type": "execute_result"
    }
   ],
   "source": [
    "np.percentile(orders['revenue'], [95, 99])"
   ]
  },
  {
   "cell_type": "markdown",
   "metadata": {},
   "source": [
    "**Вывод:**\n",
    "\n",
    "- Не более 5% пользователей сделали покупки на 28 000.\n",
    "- не больше 1% пользователей заказывали дороже 58 233.2.\n",
    "\n",
    "Учитывая график и расчет перцинтилей, считаю правильным выбрать сумму до 30 000 (для ровного счета), так мы отсечем выбросы и максимально сохраним данные."
   ]
  },
  {
   "cell_type": "markdown",
   "metadata": {},
   "source": [
    "### Расчёт статистической значимости различий в конверсии между группами по «сырым» данным. \n",
    "\n",
    "Посчитаем количество пользователей в выбранную дату в группе А и в группе В, переименуем столбцы в 'date', 'visitorsPerDate' соответственно группе."
   ]
  },
  {
   "cell_type": "code",
   "execution_count": 190,
   "metadata": {},
   "outputs": [
    {
     "name": "stdout",
     "output_type": "stream",
     "text": [
      "Группа А         date  visitorsPerDateA\n",
      "0 2019-08-01               719\n",
      "1 2019-08-02               619\n",
      "2 2019-08-03               507\n",
      "3 2019-08-04               717\n",
      "4 2019-08-05               756\n",
      "\n",
      "Группа В          date  visitorsPerDateB\n",
      "31 2019-08-01               713\n",
      "32 2019-08-02               581\n",
      "33 2019-08-03               509\n",
      "34 2019-08-04               770\n",
      "35 2019-08-05               707\n"
     ]
    }
   ],
   "source": [
    "visitorsADaily = visitors[visitors['group'] == 'A'][['date', 'visitors']]\n",
    "visitorsADaily.columns = ['date', 'visitorsPerDateA']\n",
    "\n",
    "visitorsBDaily = visitors[visitors['group'] == 'B'][['date', 'visitors']]\n",
    "visitorsBDaily.columns = ['date', 'visitorsPerDateB']\n",
    "\n",
    "print('Группа А', visitorsADaily.head())\n",
    "print()\n",
    "print('Группа В', visitorsBDaily.head())"
   ]
  },
  {
   "cell_type": "markdown",
   "metadata": {},
   "source": [
    "Посчитаем количество пользователей до выбранной даты включительно в группе A и в группе В, переименуем столбцы в 'date', 'visitorsCummulative' соответствующие группе."
   ]
  },
  {
   "cell_type": "code",
   "execution_count": 191,
   "metadata": {},
   "outputs": [
    {
     "name": "stdout",
     "output_type": "stream",
     "text": [
      "Группа А         date  visitorsCummulativeA\n",
      "0 2019-08-01                   719\n",
      "1 2019-08-02                  1338\n",
      "2 2019-08-03                  1845\n",
      "3 2019-08-04                  2562\n",
      "4 2019-08-05                  3318\n",
      "\n",
      "Группа В          date  visitorsCummulativeB\n",
      "31 2019-08-01                   713\n",
      "32 2019-08-02                  1294\n",
      "33 2019-08-03                  1803\n",
      "34 2019-08-04                  2573\n",
      "35 2019-08-05                  3280\n"
     ]
    }
   ],
   "source": [
    "visitorsACummulative = visitorsADaily.apply(\n",
    "    lambda x: visitorsADaily[visitorsADaily['date'] <= x['date']].agg(\n",
    "        {'date': 'max', 'visitorsPerDateA': 'sum'}\n",
    "    ),\n",
    "    axis=1,\n",
    ")\n",
    "visitorsACummulative.columns = ['date', 'visitorsCummulativeA']\n",
    "\n",
    "visitorsBCummulative = visitorsBDaily.apply(\n",
    "    lambda x: visitorsBDaily[visitorsBDaily['date'] <= x['date']].agg(\n",
    "        {'date': 'max', 'visitorsPerDateB': 'sum'}\n",
    "    ),\n",
    "    axis=1,\n",
    ")\n",
    "visitorsBCummulative.columns = ['date', 'visitorsCummulativeB']\n",
    "\n",
    "print('Группа А', visitorsACummulative.head())\n",
    "print()\n",
    "print('Группа В', visitorsBCummulative.head())"
   ]
  },
  {
   "cell_type": "markdown",
   "metadata": {},
   "source": [
    "Посчитаем:\n",
    "- количество заказов в выбранную дату в группе A и в группе В;\n",
    "- суммарная выручка в выбранную дату в группе A и в группе В;\n",
    "- переименуем столбцы в 'date', 'ordersPerDate', 'revenuePerDate' соответствующие группе."
   ]
  },
  {
   "cell_type": "code",
   "execution_count": 192,
   "metadata": {},
   "outputs": [
    {
     "name": "stdout",
     "output_type": "stream",
     "text": [
      "Группа А         date  ordersPerDateA  revenuePerDateA\n",
      "0 2019-08-01              24           148579\n",
      "1 2019-08-02              20            93822\n",
      "2 2019-08-03              24           112473\n",
      "3 2019-08-04              16            70825\n",
      "4 2019-08-05              25           124218\n",
      "\n",
      "Группа В         date  ordersPerDateB  revenuePerDateB\n",
      "0 2019-08-01              21           101217\n",
      "1 2019-08-02              24           165531\n",
      "2 2019-08-03              16           114248\n",
      "3 2019-08-04              17           108571\n",
      "4 2019-08-05              23            92428\n"
     ]
    }
   ],
   "source": [
    "ordersADaily = (\n",
    "    orders[orders['group'] == 'A'][['date', 'transactionId', 'visitorId', 'revenue']]\n",
    "    .groupby('date', as_index=False)\n",
    "    .agg({'transactionId': pd.Series.nunique, 'revenue': 'sum'})\n",
    ")\n",
    "ordersADaily.columns = ['date', 'ordersPerDateA', 'revenuePerDateA']\n",
    "\n",
    "ordersBDaily = (\n",
    "    orders[orders['group'] == 'B'][['date', 'transactionId', 'visitorId', 'revenue']]\n",
    "    .groupby('date', as_index=False)\n",
    "    .agg({'transactionId': pd.Series.nunique, 'revenue': 'sum'})\n",
    ")\n",
    "ordersBDaily.columns = ['date', 'ordersPerDateB', 'revenuePerDateB']\n",
    "\n",
    "print('Группа А', ordersADaily.head())\n",
    "print()\n",
    "print('Группа В', ordersBDaily.head())"
   ]
  },
  {
   "cell_type": "markdown",
   "metadata": {},
   "source": [
    "Посчитаем:\n",
    "- суммарное число заказов до выбранной даты включительно в группе A и в группе В;\n",
    "- суммарная выручка до выбранной даты включительно в группе A и в группе В;\n",
    "- переименуем столбцы в 'date', 'ordersCummulative', 'revenueCummulative' соответствующие группе."
   ]
  },
  {
   "cell_type": "code",
   "execution_count": 193,
   "metadata": {},
   "outputs": [
    {
     "name": "stdout",
     "output_type": "stream",
     "text": [
      "Группа А         date  ordersCummulativeA  revenueCummulativeA\n",
      "0 2019-08-01                  24               148579\n",
      "1 2019-08-02                  44               242401\n",
      "2 2019-08-03                  68               354874\n",
      "3 2019-08-04                  84               425699\n",
      "4 2019-08-05                 109               549917\n",
      "\n",
      "Группа В         date  ordersCummulativeB  revenueCummulativeB\n",
      "0 2019-08-01                  21               101217\n",
      "1 2019-08-02                  45               266748\n",
      "2 2019-08-03                  61               380996\n",
      "3 2019-08-04                  78               489567\n",
      "4 2019-08-05                 101               581995\n"
     ]
    }
   ],
   "source": [
    "ordersACummulative = ordersADaily.apply(\n",
    "    lambda x: ordersADaily[ordersADaily['date'] <= x['date']].agg(\n",
    "        {'date': 'max', 'ordersPerDateA': 'sum', 'revenuePerDateA': 'sum'}\n",
    "    ),\n",
    "    axis=1,\n",
    ").sort_values(by=['date'])\n",
    "ordersACummulative.columns = [\n",
    "    'date',\n",
    "    'ordersCummulativeA',\n",
    "    'revenueCummulativeA',\n",
    "]\n",
    "\n",
    "ordersBCummulative = ordersBDaily.apply(\n",
    "    lambda x: ordersBDaily[ordersBDaily['date'] <= x['date']].agg(\n",
    "        {'date': 'max', 'ordersPerDateB': 'sum', 'revenuePerDateB': 'sum'}\n",
    "    ),\n",
    "    axis=1,\n",
    ").sort_values(by=['date'])\n",
    "ordersBCummulative.columns = [\n",
    "    'date',\n",
    "    'ordersCummulativeB',\n",
    "    'revenueCummulativeB',\n",
    "]\n",
    "\n",
    "print('Группа А', ordersACummulative.head())\n",
    "print()\n",
    "print('Группа В', ordersBCummulative.head())"
   ]
  },
  {
   "cell_type": "markdown",
   "metadata": {},
   "source": [
    "Соединим полученные данные в таблицу df методом merge() и выведем первые 5 строк:"
   ]
  },
  {
   "cell_type": "code",
   "execution_count": 194,
   "metadata": {},
   "outputs": [
    {
     "data": {
      "text/html": [
       "<div>\n",
       "<style scoped>\n",
       "    .dataframe tbody tr th:only-of-type {\n",
       "        vertical-align: middle;\n",
       "    }\n",
       "\n",
       "    .dataframe tbody tr th {\n",
       "        vertical-align: top;\n",
       "    }\n",
       "\n",
       "    .dataframe thead th {\n",
       "        text-align: right;\n",
       "    }\n",
       "</style>\n",
       "<table border=\"1\" class=\"dataframe\">\n",
       "  <thead>\n",
       "    <tr style=\"text-align: right;\">\n",
       "      <th></th>\n",
       "      <th>date</th>\n",
       "      <th>ordersPerDateA</th>\n",
       "      <th>revenuePerDateA</th>\n",
       "      <th>ordersPerDateB</th>\n",
       "      <th>revenuePerDateB</th>\n",
       "      <th>ordersCummulativeA</th>\n",
       "      <th>revenueCummulativeA</th>\n",
       "      <th>ordersCummulativeB</th>\n",
       "      <th>revenueCummulativeB</th>\n",
       "      <th>visitorsPerDateA</th>\n",
       "      <th>visitorsPerDateB</th>\n",
       "      <th>visitorsCummulativeA</th>\n",
       "      <th>visitorsCummulativeB</th>\n",
       "    </tr>\n",
       "  </thead>\n",
       "  <tbody>\n",
       "    <tr>\n",
       "      <td>0</td>\n",
       "      <td>2019-08-01</td>\n",
       "      <td>24</td>\n",
       "      <td>148579</td>\n",
       "      <td>21</td>\n",
       "      <td>101217</td>\n",
       "      <td>24</td>\n",
       "      <td>148579</td>\n",
       "      <td>21</td>\n",
       "      <td>101217</td>\n",
       "      <td>719</td>\n",
       "      <td>713</td>\n",
       "      <td>719</td>\n",
       "      <td>713</td>\n",
       "    </tr>\n",
       "    <tr>\n",
       "      <td>1</td>\n",
       "      <td>2019-08-02</td>\n",
       "      <td>20</td>\n",
       "      <td>93822</td>\n",
       "      <td>24</td>\n",
       "      <td>165531</td>\n",
       "      <td>44</td>\n",
       "      <td>242401</td>\n",
       "      <td>45</td>\n",
       "      <td>266748</td>\n",
       "      <td>619</td>\n",
       "      <td>581</td>\n",
       "      <td>1338</td>\n",
       "      <td>1294</td>\n",
       "    </tr>\n",
       "    <tr>\n",
       "      <td>2</td>\n",
       "      <td>2019-08-03</td>\n",
       "      <td>24</td>\n",
       "      <td>112473</td>\n",
       "      <td>16</td>\n",
       "      <td>114248</td>\n",
       "      <td>68</td>\n",
       "      <td>354874</td>\n",
       "      <td>61</td>\n",
       "      <td>380996</td>\n",
       "      <td>507</td>\n",
       "      <td>509</td>\n",
       "      <td>1845</td>\n",
       "      <td>1803</td>\n",
       "    </tr>\n",
       "    <tr>\n",
       "      <td>3</td>\n",
       "      <td>2019-08-04</td>\n",
       "      <td>16</td>\n",
       "      <td>70825</td>\n",
       "      <td>17</td>\n",
       "      <td>108571</td>\n",
       "      <td>84</td>\n",
       "      <td>425699</td>\n",
       "      <td>78</td>\n",
       "      <td>489567</td>\n",
       "      <td>717</td>\n",
       "      <td>770</td>\n",
       "      <td>2562</td>\n",
       "      <td>2573</td>\n",
       "    </tr>\n",
       "    <tr>\n",
       "      <td>4</td>\n",
       "      <td>2019-08-05</td>\n",
       "      <td>25</td>\n",
       "      <td>124218</td>\n",
       "      <td>23</td>\n",
       "      <td>92428</td>\n",
       "      <td>109</td>\n",
       "      <td>549917</td>\n",
       "      <td>101</td>\n",
       "      <td>581995</td>\n",
       "      <td>756</td>\n",
       "      <td>707</td>\n",
       "      <td>3318</td>\n",
       "      <td>3280</td>\n",
       "    </tr>\n",
       "  </tbody>\n",
       "</table>\n",
       "</div>"
      ],
      "text/plain": [
       "        date  ordersPerDateA  revenuePerDateA  ordersPerDateB  \\\n",
       "0 2019-08-01              24           148579              21   \n",
       "1 2019-08-02              20            93822              24   \n",
       "2 2019-08-03              24           112473              16   \n",
       "3 2019-08-04              16            70825              17   \n",
       "4 2019-08-05              25           124218              23   \n",
       "\n",
       "   revenuePerDateB  ordersCummulativeA  revenueCummulativeA  \\\n",
       "0           101217                  24               148579   \n",
       "1           165531                  44               242401   \n",
       "2           114248                  68               354874   \n",
       "3           108571                  84               425699   \n",
       "4            92428                 109               549917   \n",
       "\n",
       "   ordersCummulativeB  revenueCummulativeB  visitorsPerDateA  \\\n",
       "0                  21               101217               719   \n",
       "1                  45               266748               619   \n",
       "2                  61               380996               507   \n",
       "3                  78               489567               717   \n",
       "4                 101               581995               756   \n",
       "\n",
       "   visitorsPerDateB  visitorsCummulativeA  visitorsCummulativeB  \n",
       "0               713                   719                   713  \n",
       "1               581                  1338                  1294  \n",
       "2               509                  1845                  1803  \n",
       "3               770                  2562                  2573  \n",
       "4               707                  3318                  3280  "
      ]
     },
     "execution_count": 194,
     "metadata": {},
     "output_type": "execute_result"
    }
   ],
   "source": [
    "df = (\n",
    "    ordersADaily.merge(\n",
    "        ordersBDaily, left_on='date', right_on='date', how='left'\n",
    "    )\n",
    "    .merge(ordersACummulative, left_on='date', right_on='date', how='left')\n",
    "    .merge(ordersBCummulative, left_on='date', right_on='date', how='left')\n",
    "    .merge(visitorsADaily, left_on='date', right_on='date', how='left')\n",
    "    .merge(visitorsBDaily, left_on='date', right_on='date', how='left')\n",
    "    .merge(visitorsACummulative, left_on='date', right_on='date', how='left')\n",
    "    .merge(visitorsBCummulative, left_on='date', right_on='date', how='left')\n",
    ")\n",
    "df.head()"
   ]
  },
  {
   "cell_type": "markdown",
   "metadata": {},
   "source": [
    "Создадим переменные ordersByUsersA и ordersByUsersB со столбцами 'userId', 'orders'. В них для пользователей, которые заказывали хотя бы 1 раз, укажем число совершённых заказов."
   ]
  },
  {
   "cell_type": "code",
   "execution_count": 195,
   "metadata": {},
   "outputs": [
    {
     "name": "stdout",
     "output_type": "stream",
     "text": [
      "Группа А    visitorId  orders\n",
      "0    8300375       1\n",
      "1   11685486       1\n",
      "2   54447517       1\n",
      "3   66685450       1\n",
      "4   78758296       1\n",
      "\n",
      "Группа В    visitorId  orders\n",
      "0    5114589       1\n",
      "1    6958315       1\n",
      "2    8300375       1\n",
      "3   39475350       1\n",
      "4   47206413       1\n"
     ]
    }
   ],
   "source": [
    "ordersByUsersA = (\n",
    "    orders[orders['group'] == 'A']\n",
    "    .groupby('visitorId', as_index=False)\n",
    "    .agg({'transactionId': pd.Series.nunique})\n",
    ")\n",
    "ordersByUsersA.columns = ['visitorId', 'orders']\n",
    "\n",
    "ordersByUsersB = (\n",
    "    orders[orders['group'] == 'B']\n",
    "    .groupby('visitorId', as_index=False)\n",
    "    .agg({'transactionId': pd.Series.nunique})\n",
    ")\n",
    "ordersByUsersB.columns = ['visitorId', 'orders']\n",
    "print('Группа А', ordersByUsersA.head())\n",
    "print()\n",
    "print('Группа В', ordersByUsersB.head())"
   ]
  },
  {
   "cell_type": "markdown",
   "metadata": {},
   "source": [
    "Распределим данные заказов по пользователям, где каждому пользователю будет соответствовать количество его заказов или \"0\", если заказов не было:"
   ]
  },
  {
   "cell_type": "code",
   "execution_count": 196,
   "metadata": {},
   "outputs": [
    {
     "name": "stdout",
     "output_type": "stream",
     "text": [
      "Группа А 0    1\n",
      "1    1\n",
      "2    1\n",
      "3    1\n",
      "4    1\n",
      "Name: orders, dtype: int64\n",
      "\n",
      "Группа В 0    1\n",
      "1    1\n",
      "2    1\n",
      "3    1\n",
      "4    1\n",
      "Name: orders, dtype: int64\n"
     ]
    }
   ],
   "source": [
    "sampleA = pd.concat([ordersByUsersA['orders'],pd.Series(0, index=np.arange(df['visitorsPerDateA'].sum() - len(ordersByUsersA['orders'])), name='orders')],axis=0)\n",
    "\n",
    "sampleB = pd.concat([ordersByUsersB['orders'],pd.Series(0, index=np.arange(df['visitorsPerDateB'].sum() - len(ordersByUsersB['orders'])), name='orders')],axis=0)\n",
    "\n",
    "print('Группа А', sampleA.head())\n",
    "print()\n",
    "print('Группа В', sampleB.head())"
   ]
  },
  {
   "cell_type": "markdown",
   "metadata": {},
   "source": [
    "Теперь данные готовы:\n",
    "- Применим критерий Манна-Уитни и отформатируем p-value, округлив его до трёх знаков после запятой.\n",
    "- Выведем относительный прирост конверсии группы B, округлив его до трёх знаков после запятой.\n",
    "\n",
    "Сформулируем гипотезы:\n",
    "\n",
    "- H0 гипотеза: статистически значимых различий в конверсии между группами нет\n",
    "- H1 гипотеза: статистически значимые различия в конверсии между группами есть"
   ]
  },
  {
   "cell_type": "code",
   "execution_count": 226,
   "metadata": {
    "scrolled": true
   },
   "outputs": [
    {
     "name": "stdout",
     "output_type": "stream",
     "text": [
      "0.017 p-value\n",
      "0.138 Относительный прирост конверсии группы B\n"
     ]
    }
   ],
   "source": [
    "print(\"{0:.3f}\".format(stats.mannwhitneyu(sampleA, sampleB, alternative='two-sided')[1]), 'p-value')\n",
    "\n",
    "print(\"{0:.3f}\".format(sampleB.mean() / sampleA.mean() - 1), 'Относительный прирост конверсии группы B')"
   ]
  },
  {
   "cell_type": "markdown",
   "metadata": {},
   "source": [
    "p-value = 0.017 < 0.05.\n",
    "- Значит, нулевую гипотезу о том, что статистически значимых различий в конверсии между группами нет, *отвергаем*.\n",
    "\n",
    "- относительный прирост группы B равен 13,8%\n",
    "\n",
    "**Вывод:**\n",
    "- можно сказать, что различия в конверсии между группами статистически значимы\n",
    "- относительный прирост конверсии группы В значительно выше группы А (на 13,8%)"
   ]
  },
  {
   "cell_type": "markdown",
   "metadata": {},
   "source": [
    "### Расчёт статистической значимости различий в среднем чеке заказа между группами по «сырым» данным.\n",
    "\n",
    "Сформулируем гипотезы:\n",
    "\n",
    "- H0 гипотеза: статистически значимых различий в среднем чеке между группами нет\n",
    "- H1 гипотеза: статистически значимые различия в среднем чеке между группами есть"
   ]
  },
  {
   "cell_type": "code",
   "execution_count": 225,
   "metadata": {
    "scrolled": true
   },
   "outputs": [
    {
     "name": "stdout",
     "output_type": "stream",
     "text": [
      "0.729 p-value\n",
      "0.259 Относительные различия средних чеков между группами\n"
     ]
    }
   ],
   "source": [
    "print('{0:.3f}'.format(stats.mannwhitneyu(orders[orders['group']=='A']['revenue'], orders[orders['group']=='B']['revenue'], alternative='two-sided')[1]), 'p-value')\n",
    "print('{0:.3f}'.format(orders[orders['group']=='B']['revenue'].mean()/orders[orders['group']=='A']['revenue'].mean()-1), 'Относительные различия средних чеков между группами')"
   ]
  },
  {
   "cell_type": "markdown",
   "metadata": {},
   "source": [
    "p-value = 0.729 > 0.05.\n",
    "\n",
    "- Значит, нулевую гипотезу о том, что статистически значимых различий в среднем чеке между группами нет, *не отвергаем*.\n",
    "\n",
    "- Средний чек группы B значительно больше (на 25,9%)\n",
    "\n",
    "**Вывод:**\n",
    "\n",
    "- можно сказать, что различия в среднем чеке между группами статистически не значимы\n",
    "\n",
    "- средний чек группы В значительно выше среднего чека группы А (на 25,9%)"
   ]
  },
  {
   "cell_type": "markdown",
   "metadata": {},
   "source": [
    "### Расчёт статистической значимости различий в конверсии между группами по «очищенным» данным.\n",
    "\n",
    "Примем за аномальных пользователей тех, кто совершил от 3 заказов или совершил заказ дороже 30 000 рублей. Так мы уберём от 1% до 5% пользователей с наибольшим числом заказов и 5% пользователей с дорогими заказами."
   ]
  },
  {
   "cell_type": "code",
   "execution_count": 199,
   "metadata": {},
   "outputs": [
    {
     "name": "stdout",
     "output_type": "stream",
     "text": [
      "1099    148427295\n",
      "18      199603092\n",
      "928     204675465\n",
      "23      237748145\n",
      "684     358944393\n",
      "Name: visitorId, dtype: int64\n",
      "Всего (57,) аномальных пользователей.\n"
     ]
    }
   ],
   "source": [
    "usersWithManyOrders = pd.concat(\n",
    "    [\n",
    "        ordersByUsersA[ordersByUsersA['orders'] > 3]['visitorId'],\n",
    "        ordersByUsersB[ordersByUsersB['orders'] > 3]['visitorId'],\n",
    "    ],\n",
    "    axis=0,\n",
    ")\n",
    "usersWithExpensiveOrders = orders[orders['revenue'] > 30000]['visitorId']\n",
    "abnormalUsers = (\n",
    "    pd.concat([usersWithManyOrders, usersWithExpensiveOrders], axis=0)\n",
    "    .drop_duplicates()\n",
    "    .sort_values()\n",
    ")\n",
    "print(abnormalUsers.head(5))\n",
    "print('Всего', abnormalUsers.shape, 'аномальных пользователей.')"
   ]
  },
  {
   "cell_type": "markdown",
   "metadata": {},
   "source": [
    "Узнаем, как их действия повлияли на результаты теста:\n",
    "- Сначала подготовим выборки количества заказов по пользователям по группам теста:"
   ]
  },
  {
   "cell_type": "code",
   "execution_count": 200,
   "metadata": {},
   "outputs": [
    {
     "name": "stdout",
     "output_type": "stream",
     "text": [
      "Группа А 0    1\n",
      "1    1\n",
      "2    1\n",
      "3    1\n",
      "4    1\n",
      "Name: orders, dtype: int64\n",
      "\n",
      "Группа В 0    1\n",
      "1    1\n",
      "2    1\n",
      "3    1\n",
      "4    1\n",
      "Name: orders, dtype: int64\n"
     ]
    }
   ],
   "source": [
    "sampleAFiltered = pd.concat(\n",
    "    [\n",
    "        ordersByUsersA[\n",
    "            np.logical_not(ordersByUsersA['visitorId'].isin(abnormalUsers))\n",
    "        ]['orders'],\n",
    "        pd.Series(\n",
    "            0,\n",
    "            index=np.arange(\n",
    "                df['visitorsPerDateA'].sum() - len(ordersByUsersA['orders'])\n",
    "            ),\n",
    "            name='orders',\n",
    "        ),\n",
    "    ],\n",
    "    axis=0,\n",
    ")\n",
    "\n",
    "sampleBFiltered = pd.concat(\n",
    "    [\n",
    "        ordersByUsersB[\n",
    "            np.logical_not(ordersByUsersB['visitorId'].isin(abnormalUsers))\n",
    "        ]['orders'],\n",
    "        pd.Series(\n",
    "            0,\n",
    "            index=np.arange(\n",
    "                df['visitorsPerDateB'].sum() - len(ordersByUsersB['orders'])\n",
    "            ),\n",
    "            name='orders',\n",
    "        ),\n",
    "    ],\n",
    "    axis=0,\n",
    ")\n",
    "\n",
    "print('Группа А', sampleAFiltered.head())\n",
    "print()\n",
    "print('Группа В', sampleBFiltered.head())"
   ]
  },
  {
   "cell_type": "markdown",
   "metadata": {},
   "source": [
    "Применим статистический критерий Манна-Уитни к полученным выборкам:\n",
    "\n",
    "Сформулируем гипотезы:\n",
    "\n",
    "- H0 гипотеза: статистически значимых различий в конверсии между группами нет\n",
    "- H1 гипотеза: статистически значимые различия в конверсии между группами есть"
   ]
  },
  {
   "cell_type": "code",
   "execution_count": 224,
   "metadata": {},
   "outputs": [
    {
     "name": "stdout",
     "output_type": "stream",
     "text": [
      "0.018 p-value\n",
      "0.148 Относительный прирост конверсии группы B\n"
     ]
    }
   ],
   "source": [
    "print('{0:.3f}'.format(stats.mannwhitneyu(sampleAFiltered, sampleBFiltered, alternative='two-sided')[1]), 'p-value')\n",
    "print('{0:.3f}'.format(sampleBFiltered.mean()/sampleAFiltered.mean()-1), 'Относительный прирост конверсии группы B')"
   ]
  },
  {
   "cell_type": "markdown",
   "metadata": {},
   "source": [
    "p-value = 0.018 < 0.05.\n",
    "\n",
    "- Значит, нулевую гипотезу о том, что статистически значимых различий в конверсии между группами нет, отвергаем.\n",
    "\n",
    "- относительный прирост группы B равен 14,8%\n",
    "\n",
    "**Вывод:**\n",
    "\n",
    "Результаты по конверсии практически не изменились.\n",
    "- можно сказать, что различия в конверсии между группами статистически значимы\n",
    "- относительный прирост конверсии группы В значительно выше группы А (на 13,8%)"
   ]
  },
  {
   "cell_type": "markdown",
   "metadata": {},
   "source": [
    "### Расчёт статистической значимости различий в среднем чеке заказа между группами по «очищенным» данным.\n",
    "\n",
    "Сформулируем гипотезы:\n",
    "\n",
    "- H0 гипотеза: статистически значимых различий в среднем чеке между группами нет\n",
    "- H1 гипотеза: статистически значимые различия в среднем чеке между группами есть"
   ]
  },
  {
   "cell_type": "code",
   "execution_count": 202,
   "metadata": {},
   "outputs": [
    {
     "name": "stdout",
     "output_type": "stream",
     "text": [
      "0.958 p-value\n",
      "-0.020 Относительные различия средних чеков между группами\n"
     ]
    }
   ],
   "source": [
    "print(\n",
    "    '{0:.3f}'.format(\n",
    "        stats.mannwhitneyu(\n",
    "            orders[\n",
    "                np.logical_and(\n",
    "                    orders['group'] == 'A',\n",
    "                    np.logical_not(orders['visitorId'].isin(abnormalUsers)),\n",
    "                )\n",
    "            ]['revenue'],\n",
    "            orders[\n",
    "                np.logical_and(\n",
    "                    orders['group'] == 'B',\n",
    "                    np.logical_not(orders['visitorId'].isin(abnormalUsers)),\n",
    "                )\n",
    "            ]['revenue'],\n",
    "        alternative = 'two-sided')[1]\n",
    "    ), 'p-value'\n",
    ")\n",
    "\n",
    "print(\n",
    "    \"{0:.3f}\".format(\n",
    "        orders[\n",
    "            np.logical_and(\n",
    "                orders['group'] == 'B',\n",
    "                np.logical_not(orders['visitorId'].isin(abnormalUsers)),\n",
    "            )\n",
    "        ]['revenue'].mean()\n",
    "        / orders[\n",
    "            np.logical_and(\n",
    "                orders['group'] == 'A',\n",
    "                np.logical_not(orders['visitorId'].isin(abnormalUsers)),\n",
    "            )\n",
    "        ]['revenue'].mean()\n",
    "        - 1\n",
    "    ), 'Относительные различия средних чеков между группами'\n",
    ")"
   ]
  },
  {
   "cell_type": "markdown",
   "metadata": {},
   "source": [
    "p-value = 0.958 > 0.05.\n",
    "\n",
    "Значит, нулевую гипотезу о том, что статистически значимых различий в среднем чеке между группами нет, не отвергаем.\n",
    "\n",
    "Средний чек группы B несколько ниже чем в группе А (на 2%)\n",
    "\n",
    "*Результаты по среднему чеку изменились из-за исключения выбросов*\n",
    "\n",
    "**Вывод:**\n",
    "\n",
    "- можно сказать, что различия в среднем чеке между группами статистически не значимы\n",
    "- однако, средний чек группы В значительно упал по значению относительно среднего чека группы А (с разницей почти в 30%)\n",
    "\n",
    "**Общий вывод:** На основании проведенного исследования можно сделать вывод, что выбросы и аномалии значительно влияют на результаты А/В-теста."
   ]
  },
  {
   "cell_type": "markdown",
   "metadata": {},
   "source": [
    "## Вывод\n",
    "\n",
    "Данные хорошие: пропусков и дубликатов нет. Типы данных в столбцах с датами успешно изменены на datetime64[ns]. Выявлено 58 чел., которые есть в обеих группах - игнорируем.\n",
    "- При применении фреймворка ICE для приоритизации гипотез. Наиболее перспективные гипотезы:\n",
    "    - 8 - Запустить акцию, дающую скидку на товар в день рождения,\n",
    "    - 0 - Добавить два новых канала привлечения трафика, что позволит привлекать на 30% больше пользователей,\n",
    "    - 7 - Добавить форму подписки на все основные страницы, чтобы собрать базу клиентов для email-рассылок,\n",
    "    - 6 - Показать на главной странице баннеры с актуальными акциями и распродажами, чтобы увеличить конверсию.\n",
    "    \n",
    "- При применении фреймворка  RICE для приоритизации гипотез. Наиболее перспективные гипотезы:\n",
    "    - 7 - Добавить форму подписки на все основные страницы, чтобы собрать базу клиентов для email-рассылок, \n",
    "    - 2 - Добавить блоки рекомендаций товаров на сайт интернет магазина, чтобы повысить конверсию и средний чек заказа, \n",
    "    - 0 - Добавить два новых канала привлечения трафика, что позволит привлекать на 30% больше пользователей, \n",
    "    - 6 - Показать на главной странице баннеры с актуальными акциями и распродажами, чтобы увеличить конверсию.\n",
    "\n",
    "Перспективность гипотез сильно меняется в зависимости от используемого метода. Учитывая, что гипотезы 2 и 8 присутствуют только в одном из наборов, то их мы рассматривать не будем.\n",
    "Гипотеза 7, в отличие от 6 и 0 имеет больший охват пользователей и больше их затронет, а по стоимости не слишком дорогая, поэтому выбираем её.\n",
    "\n",
    "**Победа гипотезы 7:** \"Добавить форму подписки на все основные страницы, чтобы собрать базу клиентов для email-рассылок\" **даст продукту:**\n",
    "   - доказанный рост конверсии, а это значит, количество заказов вырастет.\n",
    "   - средний чек остался прежним, значит, привлеченные покупатели, как минимум, покупают столько же в среднем, а значит, увеличив их количество - мы увеличим выручку.\n",
    "   - в будущем можно изучить рассылку и возможно, еще больше увеличить приток клиентов.\n",
    "\n",
    "**Анализ A/B-теста**\n",
    "1.\tПо графику кумулятивной выручки по группам, выручка почти равномерно увеличивается в течение всего теста в обеих группах. Это хорошо. Графики выручки обеих групп в нескольких точках резко растут. Это может сигнализировать о всплесках числа заказов, либо о появлении очень дорогих заказов в выборке, особенно выделяется рост у группы В.\n",
    "\n",
    "2.\tПо графику кумулятивного среднего чека по группам, средний чек становится более-менее равномерным ближе к концу теста:\n",
    "- немного повышается для группы A и продолжает падать для группы B.\n",
    "- В группу B в середине теста попали крупные заказы (резкий всплеск на графике).\n",
    "\n",
    "3.\tПо графику относительного изменения кумулятивного среднего чека группы B к группе A:\n",
    "- Прирост группы В больше, чем группы А примерно на 30%\n",
    "- В нескольких точках график различия между сегментами резко «скачет» - наличие крупных заказов и выбросов.\n",
    "\n",
    "4.\tПо графику кумулятивной конверсии по группам:\n",
    "- В начале теста сегмент А имел немного большую конверсию, однако затем снизился и зафиксировался примерно около одного значения.\n",
    "- В начале теста сегмент В имел немного меньшую конверсию, затем увеличился и постепенно выровнялся в положении выше сегмента А.\n",
    "Мы увеличили масштаб, чтобы было видно, что абсолютное значения колебания в начале и в конце теста не слишком большое: от 2,5% до 4%.\n",
    "\n",
    "5.\tПо графику относительного изменения кумулятивной конверсии группы B к группе A:\n",
    "- В начале теста группа B проигрывала группе A, затем вырвалась вперёд больше чем на 10%, потом её конверсия немного упала, но в конце, возможно снова начинает рост.\n",
    "\n",
    "6.\tПо точечному графику количества заказов по пользователям:\n",
    "- много пользователей с 1-3 заказами.\n",
    "\n",
    "7.\t95-й и 99-й перцентили количества заказов на пользователя:\n",
    "- Не более 5% пользователей оформляли больше, чем 2 заказа и только 1% пользователей заказывали более 4 раз.\n",
    "Учитывая график и расчет перцинтилей, считаю правильным выбрать до 3 заказов на одного пользователя, так мы отсечем выбросы и максимально сохраним данные.\n",
    "\n",
    "8.\tПо точечному графику стоимостей заказов:\n",
    "- по графику и сортировке - большинство заказов укладываются в сумму до 100 000\n",
    "- есть единичные выбросы: 202 740 и 1 294 500 - на фоне большинства сумм они выглядят аномально - это заказы из группы В, которые мы видели на графике \"Относительное изменение кумулятивного среднего чека группы B к группе A\".\n",
    "\n",
    "9.\t95-й и 99-й перцентили стоимости заказов:\n",
    "- Не более 5% пользователей сделали покупки на 28 000, не больше 1% пользователей заказывали дороже 58 233.2.\n",
    "Учитывая график и расчет перцинтилей, считаю правильным выбрать сумму до 30 000 (для ровного счета), так мы отсечем выбросы и максимально сохраним данные.\n",
    "\n",
    "10.\tСтатистическая значимость различий в конверсии между группами по «сырым» данным:\n",
    "p-value = 0.017 < 0.05.\n",
    "\n",
    "Нулевую гипотезу о том, что статистически значимых различий в конверсии между группами нет, *отвергаем*.\n",
    "\n",
    "относительный прирост группы B равен 13,8%\n",
    "\n",
    "можно сказать, что различия в конверсии между группами статистически *значимы*\n",
    "\n",
    "относительный прирост конверсии группы В значительно выше группы А (на 13,8%)\n",
    "\n",
    "11.\tСтатистическая значимость различий в среднем чеке заказа между группами по «сырым» данным:\n",
    "p-value = 0.729 > 0.05.\n",
    "Нулевую гипотезу о том, что статистически значимых различий в среднем чеке между группами нет, *не отвергаем*.\n",
    "\n",
    "Средний чек группы B значительно больше (на 25,9%)\n",
    "\n",
    "можно сказать, что различия в среднем чеке между группами статистически *не значимы*\n",
    "\n",
    "средний чек группы В значительно выше среднего чека группы А (на 25,9%)\n",
    "\n",
    "12.\tСтатистическая значимость различий в конверсии между группами по «очищенным» данным:\n",
    "p-value = 0.018 < 0.05.\n",
    "Нулевую гипотезу о том, что статистически значимых различий в конверсии между группами нет, *отвергаем*.\n",
    "\n",
    "относительный прирост группы B равен 14,8%\n",
    "\n",
    "*Результаты по конверсии практически не изменились.*\n",
    "\n",
    "можно сказать, что различия в конверсии между группами статистически *значимы*\n",
    "\n",
    "относительный прирост конверсии группы В значительно выше группы А (на 13,8%)\n",
    "\n",
    "13.\tСтатистическая значимость различий в среднем чеке заказа между группами по «очищенным» данным:\n",
    "p-value = 0.958 > 0.05.\n",
    "\n",
    "Нулевую гипотезу о том, что статистически значимых различий в среднем чеке между группами нет, *не отвергаем.*\n",
    "\n",
    "Средний чек группы B несколько ниже, чем в группе А (на 2%)\n",
    "\n",
    "*Результаты по среднему чеку изменились из-за исключения выбросов*\n",
    "\n",
    "можно сказать, что различия в среднем чеке между группами статистически *не значимы*\n",
    "\n",
    "однако, средний чек группы В значительно упал по значению относительно среднего чека группы А (с разницей почти в 30%)\n",
    "\n",
    "**Общий вывод:** \n",
    "- На основании проведенного исследования можно сделать вывод, что выбросы и аномалии значительно влияют на результаты А/В-теста.\n",
    "- Учитывая все произведенные вычисления и полученные результаты, можно сделать вывод, что А/В-тест можно остановить и зафиксировать победу группы В, т.к есть статистически значимые различия в конверсии между двумя группами, они подтверждены.\n",
    "\n",
    "Можно переходить к тестированию следующей гипотезы."
   ]
  }
 ],
 "metadata": {
  "ExecuteTimeLog": [
   {
    "duration": 3,
    "start_time": "2021-11-03T11:37:36.169Z"
   },
   {
    "duration": 2,
    "start_time": "2021-11-03T11:37:38.911Z"
   },
   {
    "duration": 2,
    "start_time": "2021-11-03T11:37:41.589Z"
   },
   {
    "duration": 533,
    "start_time": "2021-11-03T12:14:52.219Z"
   },
   {
    "duration": 1666,
    "start_time": "2021-11-03T12:15:23.211Z"
   },
   {
    "duration": 28,
    "start_time": "2021-11-03T12:15:40.398Z"
   },
   {
    "duration": 6,
    "start_time": "2021-11-03T12:18:55.195Z"
   },
   {
    "duration": 43,
    "start_time": "2021-11-03T12:21:57.689Z"
   },
   {
    "duration": 40,
    "start_time": "2021-11-03T12:22:09.071Z"
   },
   {
    "duration": 6,
    "start_time": "2021-11-03T12:22:26.149Z"
   },
   {
    "duration": 6,
    "start_time": "2021-11-03T12:23:24.261Z"
   },
   {
    "duration": 21,
    "start_time": "2021-11-03T12:24:20.896Z"
   },
   {
    "duration": 6,
    "start_time": "2021-11-03T12:24:55.423Z"
   },
   {
    "duration": 6,
    "start_time": "2021-11-03T12:26:26.233Z"
   },
   {
    "duration": 185,
    "start_time": "2021-11-03T12:29:00.523Z"
   },
   {
    "duration": 20,
    "start_time": "2021-11-03T12:29:13.796Z"
   },
   {
    "duration": 3,
    "start_time": "2021-11-03T12:33:59.882Z"
   },
   {
    "duration": 23,
    "start_time": "2021-11-03T12:33:59.888Z"
   },
   {
    "duration": 5,
    "start_time": "2021-11-03T12:33:59.913Z"
   },
   {
    "duration": 41,
    "start_time": "2021-11-03T12:33:59.920Z"
   },
   {
    "duration": 6,
    "start_time": "2021-11-03T12:33:59.963Z"
   },
   {
    "duration": 5,
    "start_time": "2021-11-03T12:33:59.971Z"
   },
   {
    "duration": 20,
    "start_time": "2021-11-03T12:33:59.978Z"
   },
   {
    "duration": 12,
    "start_time": "2021-11-03T12:33:59.999Z"
   },
   {
    "duration": 13,
    "start_time": "2021-11-03T12:34:00.012Z"
   },
   {
    "duration": 16,
    "start_time": "2021-11-03T12:34:00.026Z"
   },
   {
    "duration": 21,
    "start_time": "2021-11-03T12:34:40.073Z"
   },
   {
    "duration": 736,
    "start_time": "2021-11-03T12:37:53.492Z"
   },
   {
    "duration": -1610,
    "start_time": "2021-11-03T12:37:55.840Z"
   },
   {
    "duration": -1619,
    "start_time": "2021-11-03T12:37:55.850Z"
   },
   {
    "duration": -1621,
    "start_time": "2021-11-03T12:37:55.853Z"
   },
   {
    "duration": -1623,
    "start_time": "2021-11-03T12:37:55.856Z"
   },
   {
    "duration": -1625,
    "start_time": "2021-11-03T12:37:55.859Z"
   },
   {
    "duration": -1627,
    "start_time": "2021-11-03T12:37:55.862Z"
   },
   {
    "duration": -1628,
    "start_time": "2021-11-03T12:37:55.864Z"
   },
   {
    "duration": -1629,
    "start_time": "2021-11-03T12:37:55.866Z"
   },
   {
    "duration": -1635,
    "start_time": "2021-11-03T12:37:55.873Z"
   },
   {
    "duration": 184,
    "start_time": "2021-11-03T12:38:44.287Z"
   },
   {
    "duration": 183,
    "start_time": "2021-11-03T12:38:48.159Z"
   },
   {
    "duration": 194,
    "start_time": "2021-11-03T12:39:22.341Z"
   },
   {
    "duration": 3,
    "start_time": "2021-11-03T12:39:45.800Z"
   },
   {
    "duration": 3,
    "start_time": "2021-11-03T12:39:50.353Z"
   },
   {
    "duration": 26,
    "start_time": "2021-11-03T12:39:50.358Z"
   },
   {
    "duration": 7,
    "start_time": "2021-11-03T12:39:50.386Z"
   },
   {
    "duration": 42,
    "start_time": "2021-11-03T12:39:50.395Z"
   },
   {
    "duration": 5,
    "start_time": "2021-11-03T12:39:50.439Z"
   },
   {
    "duration": 9,
    "start_time": "2021-11-03T12:39:50.446Z"
   },
   {
    "duration": 22,
    "start_time": "2021-11-03T12:39:50.457Z"
   },
   {
    "duration": 5,
    "start_time": "2021-11-03T12:39:50.481Z"
   },
   {
    "duration": 9,
    "start_time": "2021-11-03T12:39:50.488Z"
   },
   {
    "duration": 12,
    "start_time": "2021-11-03T12:39:50.498Z"
   },
   {
    "duration": 22,
    "start_time": "2021-11-03T12:40:16.883Z"
   },
   {
    "duration": 2,
    "start_time": "2021-11-03T12:40:21.893Z"
   },
   {
    "duration": 28,
    "start_time": "2021-11-03T12:40:21.897Z"
   },
   {
    "duration": 10,
    "start_time": "2021-11-03T12:40:21.927Z"
   },
   {
    "duration": 47,
    "start_time": "2021-11-03T12:40:21.939Z"
   },
   {
    "duration": 6,
    "start_time": "2021-11-03T12:40:21.988Z"
   },
   {
    "duration": 14,
    "start_time": "2021-11-03T12:40:21.996Z"
   },
   {
    "duration": 22,
    "start_time": "2021-11-03T12:40:22.013Z"
   },
   {
    "duration": 17,
    "start_time": "2021-11-03T12:40:22.037Z"
   },
   {
    "duration": 10,
    "start_time": "2021-11-03T12:40:22.055Z"
   },
   {
    "duration": 10,
    "start_time": "2021-11-03T12:40:22.067Z"
   },
   {
    "duration": 4346,
    "start_time": "2021-11-03T12:41:25.479Z"
   },
   {
    "duration": 13,
    "start_time": "2021-11-03T12:41:57.383Z"
   },
   {
    "duration": 8,
    "start_time": "2021-11-03T13:05:06.026Z"
   },
   {
    "duration": 6,
    "start_time": "2021-11-03T13:05:40.073Z"
   },
   {
    "duration": 11,
    "start_time": "2021-11-03T13:05:53.567Z"
   },
   {
    "duration": 10,
    "start_time": "2021-11-03T13:05:59.503Z"
   },
   {
    "duration": 61,
    "start_time": "2021-11-03T13:07:13.059Z"
   },
   {
    "duration": 296,
    "start_time": "2021-11-03T13:07:23.555Z"
   },
   {
    "duration": 1688,
    "start_time": "2021-11-03T13:07:41.710Z"
   },
   {
    "duration": 303,
    "start_time": "2021-11-03T13:07:54.620Z"
   },
   {
    "duration": 305,
    "start_time": "2021-11-03T13:08:06.446Z"
   },
   {
    "duration": 422,
    "start_time": "2021-11-03T13:08:13.859Z"
   },
   {
    "duration": 302,
    "start_time": "2021-11-03T13:09:53.101Z"
   },
   {
    "duration": 324,
    "start_time": "2021-11-03T13:11:24.625Z"
   },
   {
    "duration": 3,
    "start_time": "2021-11-03T13:12:27.760Z"
   },
   {
    "duration": 20,
    "start_time": "2021-11-03T13:12:27.769Z"
   },
   {
    "duration": 9,
    "start_time": "2021-11-03T13:12:27.791Z"
   },
   {
    "duration": 40,
    "start_time": "2021-11-03T13:12:27.802Z"
   },
   {
    "duration": 5,
    "start_time": "2021-11-03T13:12:27.844Z"
   },
   {
    "duration": 8,
    "start_time": "2021-11-03T13:12:27.850Z"
   },
   {
    "duration": 20,
    "start_time": "2021-11-03T13:12:27.859Z"
   },
   {
    "duration": 10,
    "start_time": "2021-11-03T13:12:27.880Z"
   },
   {
    "duration": 7,
    "start_time": "2021-11-03T13:12:27.891Z"
   },
   {
    "duration": 887,
    "start_time": "2021-11-03T13:12:27.900Z"
   },
   {
    "duration": -1661,
    "start_time": "2021-11-03T13:12:30.450Z"
   },
   {
    "duration": -1665,
    "start_time": "2021-11-03T13:12:30.454Z"
   },
   {
    "duration": -1669,
    "start_time": "2021-11-03T13:12:30.459Z"
   },
   {
    "duration": -1671,
    "start_time": "2021-11-03T13:12:30.462Z"
   },
   {
    "duration": -1673,
    "start_time": "2021-11-03T13:12:30.465Z"
   },
   {
    "duration": 769,
    "start_time": "2021-11-03T13:12:52.451Z"
   },
   {
    "duration": 3,
    "start_time": "2021-11-03T13:13:43.816Z"
   },
   {
    "duration": 22,
    "start_time": "2021-11-03T13:13:43.821Z"
   },
   {
    "duration": 7,
    "start_time": "2021-11-03T13:13:43.845Z"
   },
   {
    "duration": 40,
    "start_time": "2021-11-03T13:13:43.853Z"
   },
   {
    "duration": 5,
    "start_time": "2021-11-03T13:13:43.895Z"
   },
   {
    "duration": 8,
    "start_time": "2021-11-03T13:13:43.902Z"
   },
   {
    "duration": 19,
    "start_time": "2021-11-03T13:13:43.912Z"
   },
   {
    "duration": 5,
    "start_time": "2021-11-03T13:13:43.933Z"
   },
   {
    "duration": 6,
    "start_time": "2021-11-03T13:13:43.940Z"
   },
   {
    "duration": 783,
    "start_time": "2021-11-03T13:13:43.947Z"
   },
   {
    "duration": -1686,
    "start_time": "2021-11-03T13:13:46.418Z"
   },
   {
    "duration": -1687,
    "start_time": "2021-11-03T13:13:46.420Z"
   },
   {
    "duration": -1689,
    "start_time": "2021-11-03T13:13:46.423Z"
   },
   {
    "duration": -1692,
    "start_time": "2021-11-03T13:13:46.427Z"
   },
   {
    "duration": -1699,
    "start_time": "2021-11-03T13:13:46.435Z"
   },
   {
    "duration": 13,
    "start_time": "2021-11-03T13:14:44.663Z"
   },
   {
    "duration": 805,
    "start_time": "2021-11-03T13:14:57.652Z"
   },
   {
    "duration": 2,
    "start_time": "2021-11-03T13:15:29.041Z"
   },
   {
    "duration": 29,
    "start_time": "2021-11-03T13:15:29.046Z"
   },
   {
    "duration": 14,
    "start_time": "2021-11-03T13:15:29.077Z"
   },
   {
    "duration": 41,
    "start_time": "2021-11-03T13:15:29.093Z"
   },
   {
    "duration": 6,
    "start_time": "2021-11-03T13:15:29.136Z"
   },
   {
    "duration": 8,
    "start_time": "2021-11-03T13:15:29.143Z"
   },
   {
    "duration": 20,
    "start_time": "2021-11-03T13:15:29.152Z"
   },
   {
    "duration": 9,
    "start_time": "2021-11-03T13:15:29.174Z"
   },
   {
    "duration": 7,
    "start_time": "2021-11-03T13:15:29.185Z"
   },
   {
    "duration": 15,
    "start_time": "2021-11-03T13:15:29.194Z"
   },
   {
    "duration": 17,
    "start_time": "2021-11-03T13:15:29.211Z"
   },
   {
    "duration": 18,
    "start_time": "2021-11-03T13:15:29.230Z"
   },
   {
    "duration": 7,
    "start_time": "2021-11-03T13:15:29.249Z"
   },
   {
    "duration": 14,
    "start_time": "2021-11-03T13:15:29.258Z"
   },
   {
    "duration": 220,
    "start_time": "2021-11-03T13:15:29.274Z"
   },
   {
    "duration": 202,
    "start_time": "2021-11-03T13:15:54.867Z"
   },
   {
    "duration": 778,
    "start_time": "2021-11-03T13:18:36.147Z"
   },
   {
    "duration": 3,
    "start_time": "2021-11-03T13:19:51.845Z"
   },
   {
    "duration": 32,
    "start_time": "2021-11-03T13:19:51.850Z"
   },
   {
    "duration": 19,
    "start_time": "2021-11-03T13:19:51.885Z"
   },
   {
    "duration": 47,
    "start_time": "2021-11-03T13:19:51.906Z"
   },
   {
    "duration": 6,
    "start_time": "2021-11-03T13:19:51.955Z"
   },
   {
    "duration": 8,
    "start_time": "2021-11-03T13:19:51.962Z"
   },
   {
    "duration": 19,
    "start_time": "2021-11-03T13:19:51.972Z"
   },
   {
    "duration": 10,
    "start_time": "2021-11-03T13:19:51.993Z"
   },
   {
    "duration": 8,
    "start_time": "2021-11-03T13:19:52.004Z"
   },
   {
    "duration": 19,
    "start_time": "2021-11-03T13:19:52.014Z"
   },
   {
    "duration": 16,
    "start_time": "2021-11-03T13:19:52.034Z"
   },
   {
    "duration": 19,
    "start_time": "2021-11-03T13:19:52.051Z"
   },
   {
    "duration": 14,
    "start_time": "2021-11-03T13:19:52.071Z"
   },
   {
    "duration": 8,
    "start_time": "2021-11-03T13:19:52.087Z"
   },
   {
    "duration": 15,
    "start_time": "2021-11-03T13:19:52.097Z"
   },
   {
    "duration": 207,
    "start_time": "2021-11-03T13:19:52.113Z"
   },
   {
    "duration": 8,
    "start_time": "2021-11-03T13:27:05.133Z"
   },
   {
    "duration": 173,
    "start_time": "2021-11-03T13:27:31.648Z"
   },
   {
    "duration": 13,
    "start_time": "2021-11-03T13:28:30.101Z"
   },
   {
    "duration": 13,
    "start_time": "2021-11-03T13:28:38.995Z"
   },
   {
    "duration": 5,
    "start_time": "2021-11-03T13:30:28.492Z"
   },
   {
    "duration": 56,
    "start_time": "2021-11-03T13:30:49.540Z"
   },
   {
    "duration": 379,
    "start_time": "2021-11-03T13:31:14.333Z"
   },
   {
    "duration": 348,
    "start_time": "2021-11-03T13:31:18.735Z"
   },
   {
    "duration": 5,
    "start_time": "2021-11-03T13:31:29.358Z"
   },
   {
    "duration": 200,
    "start_time": "2021-11-03T13:31:31.702Z"
   },
   {
    "duration": 212,
    "start_time": "2021-11-03T13:32:26.459Z"
   },
   {
    "duration": 184,
    "start_time": "2021-11-03T13:33:31.913Z"
   },
   {
    "duration": 248,
    "start_time": "2021-11-03T13:33:44.151Z"
   },
   {
    "duration": 309,
    "start_time": "2021-11-03T17:39:22.954Z"
   },
   {
    "duration": 826,
    "start_time": "2021-11-03T17:39:32.662Z"
   },
   {
    "duration": 32,
    "start_time": "2021-11-03T17:39:33.491Z"
   },
   {
    "duration": 9,
    "start_time": "2021-11-03T17:39:33.526Z"
   },
   {
    "duration": 70,
    "start_time": "2021-11-03T17:39:33.537Z"
   },
   {
    "duration": 9,
    "start_time": "2021-11-03T17:39:33.610Z"
   },
   {
    "duration": 8,
    "start_time": "2021-11-03T17:39:33.621Z"
   },
   {
    "duration": 37,
    "start_time": "2021-11-03T17:39:33.632Z"
   },
   {
    "duration": 9,
    "start_time": "2021-11-03T17:39:33.674Z"
   },
   {
    "duration": 8,
    "start_time": "2021-11-03T17:39:33.686Z"
   },
   {
    "duration": 37,
    "start_time": "2021-11-03T17:39:33.696Z"
   },
   {
    "duration": 10,
    "start_time": "2021-11-03T17:39:33.735Z"
   },
   {
    "duration": 22,
    "start_time": "2021-11-03T17:39:33.747Z"
   },
   {
    "duration": 17,
    "start_time": "2021-11-03T17:39:33.772Z"
   },
   {
    "duration": 12,
    "start_time": "2021-11-03T17:39:33.823Z"
   },
   {
    "duration": 10,
    "start_time": "2021-11-03T17:39:33.837Z"
   },
   {
    "duration": 18,
    "start_time": "2021-11-03T17:39:33.850Z"
   },
   {
    "duration": 388,
    "start_time": "2021-11-03T17:39:33.871Z"
   },
   {
    "duration": 295,
    "start_time": "2021-11-03T17:39:34.261Z"
   },
   {
    "duration": 18,
    "start_time": "2021-11-03T17:39:34.558Z"
   },
   {
    "duration": 8,
    "start_time": "2021-11-03T17:39:34.579Z"
   },
   {
    "duration": 7,
    "start_time": "2021-11-03T17:39:34.622Z"
   },
   {
    "duration": 352,
    "start_time": "2021-11-03T17:39:34.632Z"
   },
   {
    "duration": 328,
    "start_time": "2021-11-03T17:39:34.989Z"
   },
   {
    "duration": 21,
    "start_time": "2021-11-03T17:39:35.323Z"
   },
   {
    "duration": 17,
    "start_time": "2021-11-03T17:39:48.151Z"
   },
   {
    "duration": 379,
    "start_time": "2021-11-03T17:40:39.064Z"
   },
   {
    "duration": 450,
    "start_time": "2021-11-03T17:40:43.276Z"
   },
   {
    "duration": 408,
    "start_time": "2021-11-03T17:41:20.515Z"
   },
   {
    "duration": 22,
    "start_time": "2021-11-03T17:55:39.046Z"
   },
   {
    "duration": 15,
    "start_time": "2021-11-03T17:55:50.473Z"
   },
   {
    "duration": 6,
    "start_time": "2021-11-03T17:56:23.948Z"
   },
   {
    "duration": 5,
    "start_time": "2021-11-03T17:56:33.325Z"
   },
   {
    "duration": 87,
    "start_time": "2021-11-03T17:57:00.428Z"
   },
   {
    "duration": 21,
    "start_time": "2021-11-03T17:57:12.764Z"
   },
   {
    "duration": 15,
    "start_time": "2021-11-03T17:57:22.094Z"
   },
   {
    "duration": 15,
    "start_time": "2021-11-03T17:57:35.850Z"
   },
   {
    "duration": 338,
    "start_time": "2021-11-03T17:57:59.129Z"
   },
   {
    "duration": 308,
    "start_time": "2021-11-03T17:58:04.701Z"
   },
   {
    "duration": 331,
    "start_time": "2021-11-03T17:58:15.905Z"
   },
   {
    "duration": 307,
    "start_time": "2021-11-03T17:59:51.964Z"
   },
   {
    "duration": 324,
    "start_time": "2021-11-03T18:00:06.689Z"
   },
   {
    "duration": 325,
    "start_time": "2021-11-03T18:00:20.282Z"
   },
   {
    "duration": 298,
    "start_time": "2021-11-03T18:07:12.838Z"
   },
   {
    "duration": 23,
    "start_time": "2021-11-03T18:14:37.488Z"
   },
   {
    "duration": 20,
    "start_time": "2021-11-03T18:14:48.576Z"
   },
   {
    "duration": 444,
    "start_time": "2021-11-03T18:15:01.505Z"
   },
   {
    "duration": 559,
    "start_time": "2021-11-03T18:15:14.175Z"
   },
   {
    "duration": 493,
    "start_time": "2021-11-03T18:15:40.047Z"
   },
   {
    "duration": 428,
    "start_time": "2021-11-03T18:17:04.130Z"
   },
   {
    "duration": 428,
    "start_time": "2021-11-03T18:17:11.464Z"
   },
   {
    "duration": 426,
    "start_time": "2021-11-03T18:17:33.560Z"
   },
   {
    "duration": 421,
    "start_time": "2021-11-03T18:17:39.647Z"
   },
   {
    "duration": 442,
    "start_time": "2021-11-03T18:18:08.253Z"
   },
   {
    "duration": 448,
    "start_time": "2021-11-03T18:18:15.669Z"
   },
   {
    "duration": 403,
    "start_time": "2021-11-03T18:19:07.907Z"
   },
   {
    "duration": 572,
    "start_time": "2021-11-03T18:19:26.786Z"
   },
   {
    "duration": 421,
    "start_time": "2021-11-03T18:20:18.612Z"
   },
   {
    "duration": 417,
    "start_time": "2021-11-03T18:26:16.071Z"
   },
   {
    "duration": 510,
    "start_time": "2021-11-03T18:26:38.229Z"
   },
   {
    "duration": 395,
    "start_time": "2021-11-03T18:27:04.156Z"
   },
   {
    "duration": 430,
    "start_time": "2021-11-03T18:27:11.709Z"
   },
   {
    "duration": 538,
    "start_time": "2021-11-03T18:27:18.284Z"
   },
   {
    "duration": 540,
    "start_time": "2021-11-03T18:27:36.885Z"
   },
   {
    "duration": 537,
    "start_time": "2021-11-03T18:27:41.891Z"
   },
   {
    "duration": 410,
    "start_time": "2021-11-03T18:27:54.105Z"
   },
   {
    "duration": 291,
    "start_time": "2021-11-03T18:33:42.986Z"
   },
   {
    "duration": 265,
    "start_time": "2021-11-03T18:34:50.431Z"
   },
   {
    "duration": 4,
    "start_time": "2021-11-03T18:34:58.829Z"
   },
   {
    "duration": 29,
    "start_time": "2021-11-03T18:34:58.836Z"
   },
   {
    "duration": 9,
    "start_time": "2021-11-03T18:34:58.868Z"
   },
   {
    "duration": 46,
    "start_time": "2021-11-03T18:34:58.880Z"
   },
   {
    "duration": 8,
    "start_time": "2021-11-03T18:34:58.929Z"
   },
   {
    "duration": 10,
    "start_time": "2021-11-03T18:34:58.939Z"
   },
   {
    "duration": 25,
    "start_time": "2021-11-03T18:34:58.952Z"
   },
   {
    "duration": 44,
    "start_time": "2021-11-03T18:34:58.980Z"
   },
   {
    "duration": 7,
    "start_time": "2021-11-03T18:34:59.026Z"
   },
   {
    "duration": 25,
    "start_time": "2021-11-03T18:34:59.036Z"
   },
   {
    "duration": 10,
    "start_time": "2021-11-03T18:34:59.064Z"
   },
   {
    "duration": 57,
    "start_time": "2021-11-03T18:34:59.077Z"
   },
   {
    "duration": 16,
    "start_time": "2021-11-03T18:34:59.137Z"
   },
   {
    "duration": 18,
    "start_time": "2021-11-03T18:34:59.156Z"
   },
   {
    "duration": 48,
    "start_time": "2021-11-03T18:34:59.176Z"
   },
   {
    "duration": 17,
    "start_time": "2021-11-03T18:34:59.227Z"
   },
   {
    "duration": 367,
    "start_time": "2021-11-03T18:34:59.247Z"
   },
   {
    "duration": 306,
    "start_time": "2021-11-03T18:34:59.616Z"
   },
   {
    "duration": 19,
    "start_time": "2021-11-03T18:34:59.928Z"
   },
   {
    "duration": 7,
    "start_time": "2021-11-03T18:34:59.951Z"
   },
   {
    "duration": 10,
    "start_time": "2021-11-03T18:34:59.961Z"
   },
   {
    "duration": 357,
    "start_time": "2021-11-03T18:34:59.974Z"
   },
   {
    "duration": 378,
    "start_time": "2021-11-03T18:35:00.333Z"
   },
   {
    "duration": 21,
    "start_time": "2021-11-03T18:35:00.714Z"
   },
   {
    "duration": 396,
    "start_time": "2021-11-03T18:35:00.738Z"
   },
   {
    "duration": 17,
    "start_time": "2021-11-03T18:35:01.137Z"
   },
   {
    "duration": 31,
    "start_time": "2021-11-03T18:35:01.157Z"
   },
   {
    "duration": 40,
    "start_time": "2021-11-03T18:35:01.191Z"
   },
   {
    "duration": 312,
    "start_time": "2021-11-03T18:35:01.234Z"
   },
   {
    "duration": 21,
    "start_time": "2021-11-03T18:35:01.549Z"
   },
   {
    "duration": 543,
    "start_time": "2021-11-03T18:35:01.572Z"
   },
   {
    "duration": 261,
    "start_time": "2021-11-03T18:35:02.117Z"
   },
   {
    "duration": 189,
    "start_time": "2021-11-03T18:35:33.396Z"
   },
   {
    "duration": 365,
    "start_time": "2021-11-03T18:38:28.531Z"
   },
   {
    "duration": 356,
    "start_time": "2021-11-03T18:38:34.627Z"
   },
   {
    "duration": 370,
    "start_time": "2021-11-03T18:39:18.730Z"
   },
   {
    "duration": 7,
    "start_time": "2021-11-03T18:42:28.802Z"
   },
   {
    "duration": 15,
    "start_time": "2021-11-03T18:54:04.117Z"
   },
   {
    "duration": 423,
    "start_time": "2021-11-03T18:54:15.702Z"
   },
   {
    "duration": 425,
    "start_time": "2021-11-03T18:54:23.711Z"
   },
   {
    "duration": 7,
    "start_time": "2021-11-03T19:01:41.234Z"
   },
   {
    "duration": 727,
    "start_time": "2021-11-04T10:23:47.323Z"
   },
   {
    "duration": 24,
    "start_time": "2021-11-04T10:23:48.051Z"
   },
   {
    "duration": 6,
    "start_time": "2021-11-04T10:23:48.077Z"
   },
   {
    "duration": 61,
    "start_time": "2021-11-04T10:23:48.085Z"
   },
   {
    "duration": 5,
    "start_time": "2021-11-04T10:23:48.148Z"
   },
   {
    "duration": 18,
    "start_time": "2021-11-04T10:23:48.155Z"
   },
   {
    "duration": 25,
    "start_time": "2021-11-04T10:23:48.174Z"
   },
   {
    "duration": 8,
    "start_time": "2021-11-04T10:23:48.202Z"
   },
   {
    "duration": 11,
    "start_time": "2021-11-04T10:23:48.213Z"
   },
   {
    "duration": 21,
    "start_time": "2021-11-04T10:23:48.226Z"
   },
   {
    "duration": 16,
    "start_time": "2021-11-04T10:23:48.248Z"
   },
   {
    "duration": 16,
    "start_time": "2021-11-04T10:23:48.266Z"
   },
   {
    "duration": 33,
    "start_time": "2021-11-04T10:23:48.284Z"
   },
   {
    "duration": 10,
    "start_time": "2021-11-04T10:23:48.323Z"
   },
   {
    "duration": 11,
    "start_time": "2021-11-04T10:23:48.335Z"
   },
   {
    "duration": 13,
    "start_time": "2021-11-04T10:23:48.348Z"
   },
   {
    "duration": 276,
    "start_time": "2021-11-04T10:23:48.363Z"
   },
   {
    "duration": 205,
    "start_time": "2021-11-04T10:23:48.641Z"
   },
   {
    "duration": 13,
    "start_time": "2021-11-04T10:23:48.847Z"
   },
   {
    "duration": 10,
    "start_time": "2021-11-04T10:23:48.862Z"
   },
   {
    "duration": 10,
    "start_time": "2021-11-04T10:23:48.874Z"
   },
   {
    "duration": 245,
    "start_time": "2021-11-04T10:23:48.886Z"
   },
   {
    "duration": 222,
    "start_time": "2021-11-04T10:23:49.134Z"
   },
   {
    "duration": 17,
    "start_time": "2021-11-04T10:23:49.358Z"
   },
   {
    "duration": 346,
    "start_time": "2021-11-04T10:23:49.377Z"
   },
   {
    "duration": 12,
    "start_time": "2021-11-04T10:23:49.725Z"
   },
   {
    "duration": 18,
    "start_time": "2021-11-04T10:23:49.738Z"
   },
   {
    "duration": 22,
    "start_time": "2021-11-04T10:23:49.757Z"
   },
   {
    "duration": 257,
    "start_time": "2021-11-04T10:23:49.780Z"
   },
   {
    "duration": 14,
    "start_time": "2021-11-04T10:23:50.038Z"
   },
   {
    "duration": 330,
    "start_time": "2021-11-04T10:23:50.054Z"
   },
   {
    "duration": 123,
    "start_time": "2021-11-04T10:23:50.386Z"
   },
   {
    "duration": 310,
    "start_time": "2021-11-04T10:23:50.511Z"
   },
   {
    "duration": 6,
    "start_time": "2021-11-04T10:23:50.823Z"
   },
   {
    "duration": 23,
    "start_time": "2021-11-04T10:23:50.831Z"
   },
   {
    "duration": 301,
    "start_time": "2021-11-04T10:23:50.855Z"
   },
   {
    "duration": 5,
    "start_time": "2021-11-04T10:23:51.158Z"
   },
   {
    "duration": 429,
    "start_time": "2021-11-04T10:27:40.464Z"
   },
   {
    "duration": 145,
    "start_time": "2021-11-04T10:28:46.817Z"
   },
   {
    "duration": 146,
    "start_time": "2021-11-04T10:29:51.690Z"
   },
   {
    "duration": 134,
    "start_time": "2021-11-04T10:30:03.796Z"
   },
   {
    "duration": 9176,
    "start_time": "2021-11-04T10:35:10.601Z"
   },
   {
    "duration": 9639,
    "start_time": "2021-11-04T10:36:51.952Z"
   },
   {
    "duration": 3,
    "start_time": "2021-11-04T10:37:06.352Z"
   },
   {
    "duration": 22,
    "start_time": "2021-11-04T10:37:06.359Z"
   },
   {
    "duration": 13,
    "start_time": "2021-11-04T10:37:06.383Z"
   },
   {
    "duration": 55,
    "start_time": "2021-11-04T10:37:06.398Z"
   },
   {
    "duration": 6,
    "start_time": "2021-11-04T10:37:06.455Z"
   },
   {
    "duration": 8,
    "start_time": "2021-11-04T10:37:06.462Z"
   },
   {
    "duration": 23,
    "start_time": "2021-11-04T10:37:06.472Z"
   },
   {
    "duration": 6,
    "start_time": "2021-11-04T10:37:06.496Z"
   },
   {
    "duration": 19,
    "start_time": "2021-11-04T10:37:06.504Z"
   },
   {
    "duration": 18,
    "start_time": "2021-11-04T10:37:06.526Z"
   },
   {
    "duration": 11,
    "start_time": "2021-11-04T10:37:06.546Z"
   },
   {
    "duration": 11,
    "start_time": "2021-11-04T10:37:06.559Z"
   },
   {
    "duration": 30,
    "start_time": "2021-11-04T10:37:06.572Z"
   },
   {
    "duration": 14,
    "start_time": "2021-11-04T10:37:06.604Z"
   },
   {
    "duration": 14,
    "start_time": "2021-11-04T10:37:06.620Z"
   },
   {
    "duration": 13,
    "start_time": "2021-11-04T10:37:06.636Z"
   },
   {
    "duration": 257,
    "start_time": "2021-11-04T10:37:06.651Z"
   },
   {
    "duration": 189,
    "start_time": "2021-11-04T10:37:06.912Z"
   },
   {
    "duration": 22,
    "start_time": "2021-11-04T10:37:07.103Z"
   },
   {
    "duration": 5,
    "start_time": "2021-11-04T10:37:07.126Z"
   },
   {
    "duration": 10,
    "start_time": "2021-11-04T10:37:07.133Z"
   },
   {
    "duration": 236,
    "start_time": "2021-11-04T10:37:07.144Z"
   },
   {
    "duration": 217,
    "start_time": "2021-11-04T10:37:07.382Z"
   },
   {
    "duration": 23,
    "start_time": "2021-11-04T10:37:07.601Z"
   },
   {
    "duration": 324,
    "start_time": "2021-11-04T10:37:07.626Z"
   },
   {
    "duration": 10,
    "start_time": "2021-11-04T10:37:07.952Z"
   },
   {
    "duration": 19,
    "start_time": "2021-11-04T10:37:07.963Z"
   },
   {
    "duration": 23,
    "start_time": "2021-11-04T10:37:07.986Z"
   },
   {
    "duration": 228,
    "start_time": "2021-11-04T10:37:08.012Z"
   },
   {
    "duration": 16,
    "start_time": "2021-11-04T10:37:08.242Z"
   },
   {
    "duration": 383,
    "start_time": "2021-11-04T10:37:08.260Z"
   },
   {
    "duration": 170,
    "start_time": "2021-11-04T10:37:08.645Z"
   },
   {
    "duration": 312,
    "start_time": "2021-11-04T10:37:08.818Z"
   },
   {
    "duration": 5,
    "start_time": "2021-11-04T10:37:09.131Z"
   },
   {
    "duration": 29,
    "start_time": "2021-11-04T10:37:09.137Z"
   },
   {
    "duration": 359,
    "start_time": "2021-11-04T10:37:09.168Z"
   },
   {
    "duration": 5,
    "start_time": "2021-11-04T10:37:09.529Z"
   },
   {
    "duration": 142,
    "start_time": "2021-11-04T10:37:09.536Z"
   },
   {
    "duration": 9490,
    "start_time": "2021-11-04T10:37:09.680Z"
   },
   {
    "duration": 6,
    "start_time": "2021-11-04T10:41:44.456Z"
   },
   {
    "duration": 138,
    "start_time": "2021-11-04T10:41:47.920Z"
   },
   {
    "duration": 8830,
    "start_time": "2021-11-04T10:41:52.787Z"
   },
   {
    "duration": 3,
    "start_time": "2021-11-04T10:49:15.929Z"
   },
   {
    "duration": 22,
    "start_time": "2021-11-04T10:49:15.936Z"
   },
   {
    "duration": 5,
    "start_time": "2021-11-04T10:49:15.960Z"
   },
   {
    "duration": 75,
    "start_time": "2021-11-04T10:49:15.967Z"
   },
   {
    "duration": 6,
    "start_time": "2021-11-04T10:49:16.044Z"
   },
   {
    "duration": 18,
    "start_time": "2021-11-04T10:49:16.052Z"
   },
   {
    "duration": 26,
    "start_time": "2021-11-04T10:49:16.072Z"
   },
   {
    "duration": 9,
    "start_time": "2021-11-04T10:49:16.100Z"
   },
   {
    "duration": 14,
    "start_time": "2021-11-04T10:49:16.112Z"
   },
   {
    "duration": 31,
    "start_time": "2021-11-04T10:49:16.129Z"
   },
   {
    "duration": 7,
    "start_time": "2021-11-04T10:49:16.162Z"
   },
   {
    "duration": 13,
    "start_time": "2021-11-04T10:49:16.171Z"
   },
   {
    "duration": 29,
    "start_time": "2021-11-04T10:49:16.186Z"
   },
   {
    "duration": 15,
    "start_time": "2021-11-04T10:49:16.218Z"
   },
   {
    "duration": 15,
    "start_time": "2021-11-04T10:49:16.235Z"
   },
   {
    "duration": 18,
    "start_time": "2021-11-04T10:49:16.252Z"
   },
   {
    "duration": 250,
    "start_time": "2021-11-04T10:49:16.272Z"
   },
   {
    "duration": 191,
    "start_time": "2021-11-04T10:49:16.523Z"
   },
   {
    "duration": 17,
    "start_time": "2021-11-04T10:49:16.716Z"
   },
   {
    "duration": 26,
    "start_time": "2021-11-04T10:49:16.735Z"
   },
   {
    "duration": 22,
    "start_time": "2021-11-04T10:49:16.763Z"
   },
   {
    "duration": 225,
    "start_time": "2021-11-04T10:49:16.787Z"
   },
   {
    "duration": 219,
    "start_time": "2021-11-04T10:49:17.015Z"
   },
   {
    "duration": 13,
    "start_time": "2021-11-04T10:49:17.236Z"
   },
   {
    "duration": 316,
    "start_time": "2021-11-04T10:49:17.250Z"
   },
   {
    "duration": 11,
    "start_time": "2021-11-04T10:49:17.568Z"
   },
   {
    "duration": 29,
    "start_time": "2021-11-04T10:49:17.580Z"
   },
   {
    "duration": 16,
    "start_time": "2021-11-04T10:49:17.613Z"
   },
   {
    "duration": 222,
    "start_time": "2021-11-04T10:49:17.631Z"
   },
   {
    "duration": 15,
    "start_time": "2021-11-04T10:49:17.855Z"
   },
   {
    "duration": 361,
    "start_time": "2021-11-04T10:49:17.872Z"
   },
   {
    "duration": 144,
    "start_time": "2021-11-04T10:49:18.234Z"
   },
   {
    "duration": 337,
    "start_time": "2021-11-04T10:49:18.379Z"
   },
   {
    "duration": 6,
    "start_time": "2021-11-04T10:49:18.718Z"
   },
   {
    "duration": 13,
    "start_time": "2021-11-04T10:49:18.726Z"
   },
   {
    "duration": 308,
    "start_time": "2021-11-04T10:49:18.741Z"
   },
   {
    "duration": 4,
    "start_time": "2021-11-04T10:49:19.051Z"
   },
   {
    "duration": 15,
    "start_time": "2021-11-04T10:49:19.057Z"
   },
   {
    "duration": 136,
    "start_time": "2021-11-04T10:49:19.073Z"
   },
   {
    "duration": 360,
    "start_time": "2021-11-04T10:49:19.212Z"
   },
   {
    "duration": -2390,
    "start_time": "2021-11-04T10:49:21.964Z"
   },
   {
    "duration": -2394,
    "start_time": "2021-11-04T10:49:21.969Z"
   },
   {
    "duration": -2397,
    "start_time": "2021-11-04T10:49:21.973Z"
   },
   {
    "duration": -2401,
    "start_time": "2021-11-04T10:49:21.978Z"
   },
   {
    "duration": 27,
    "start_time": "2021-11-04T10:51:35.113Z"
   },
   {
    "duration": 4,
    "start_time": "2021-11-04T10:51:46.416Z"
   },
   {
    "duration": 31,
    "start_time": "2021-11-04T10:51:46.422Z"
   },
   {
    "duration": 28,
    "start_time": "2021-11-04T10:51:46.456Z"
   },
   {
    "duration": 52,
    "start_time": "2021-11-04T10:51:46.486Z"
   },
   {
    "duration": 9,
    "start_time": "2021-11-04T10:51:46.539Z"
   },
   {
    "duration": 19,
    "start_time": "2021-11-04T10:51:46.549Z"
   },
   {
    "duration": 20,
    "start_time": "2021-11-04T10:51:46.570Z"
   },
   {
    "duration": 11,
    "start_time": "2021-11-04T10:51:46.593Z"
   },
   {
    "duration": 17,
    "start_time": "2021-11-04T10:51:46.607Z"
   },
   {
    "duration": 19,
    "start_time": "2021-11-04T10:51:46.626Z"
   },
   {
    "duration": 15,
    "start_time": "2021-11-04T10:51:46.647Z"
   },
   {
    "duration": 14,
    "start_time": "2021-11-04T10:51:46.663Z"
   },
   {
    "duration": 20,
    "start_time": "2021-11-04T10:51:46.678Z"
   },
   {
    "duration": 15,
    "start_time": "2021-11-04T10:51:46.700Z"
   },
   {
    "duration": 15,
    "start_time": "2021-11-04T10:51:46.718Z"
   },
   {
    "duration": 11,
    "start_time": "2021-11-04T10:51:46.735Z"
   },
   {
    "duration": 274,
    "start_time": "2021-11-04T10:51:46.748Z"
   },
   {
    "duration": 182,
    "start_time": "2021-11-04T10:51:47.024Z"
   },
   {
    "duration": 19,
    "start_time": "2021-11-04T10:51:47.209Z"
   },
   {
    "duration": 26,
    "start_time": "2021-11-04T10:51:47.230Z"
   },
   {
    "duration": 14,
    "start_time": "2021-11-04T10:51:47.258Z"
   },
   {
    "duration": 214,
    "start_time": "2021-11-04T10:51:47.273Z"
   },
   {
    "duration": 273,
    "start_time": "2021-11-04T10:51:47.491Z"
   },
   {
    "duration": 13,
    "start_time": "2021-11-04T10:51:47.766Z"
   },
   {
    "duration": 346,
    "start_time": "2021-11-04T10:51:47.781Z"
   },
   {
    "duration": 11,
    "start_time": "2021-11-04T10:51:48.129Z"
   },
   {
    "duration": 12,
    "start_time": "2021-11-04T10:51:48.141Z"
   },
   {
    "duration": 12,
    "start_time": "2021-11-04T10:51:48.155Z"
   },
   {
    "duration": 230,
    "start_time": "2021-11-04T10:51:48.169Z"
   },
   {
    "duration": 26,
    "start_time": "2021-11-04T10:51:48.400Z"
   },
   {
    "duration": 318,
    "start_time": "2021-11-04T10:51:48.428Z"
   },
   {
    "duration": 126,
    "start_time": "2021-11-04T10:51:48.748Z"
   },
   {
    "duration": 293,
    "start_time": "2021-11-04T10:51:48.876Z"
   },
   {
    "duration": 5,
    "start_time": "2021-11-04T10:51:49.170Z"
   },
   {
    "duration": 36,
    "start_time": "2021-11-04T10:51:49.177Z"
   },
   {
    "duration": 306,
    "start_time": "2021-11-04T10:51:49.216Z"
   },
   {
    "duration": 5,
    "start_time": "2021-11-04T10:51:49.524Z"
   },
   {
    "duration": 23,
    "start_time": "2021-11-04T10:51:49.530Z"
   },
   {
    "duration": 135,
    "start_time": "2021-11-04T10:51:49.555Z"
   },
   {
    "duration": 46,
    "start_time": "2021-11-04T10:51:49.691Z"
   },
   {
    "duration": 131,
    "start_time": "2021-11-04T10:51:49.739Z"
   },
   {
    "duration": 43,
    "start_time": "2021-11-04T10:51:49.872Z"
   },
   {
    "duration": 165,
    "start_time": "2021-11-04T10:51:49.920Z"
   },
   {
    "duration": 10031,
    "start_time": "2021-11-04T10:51:50.088Z"
   },
   {
    "duration": 12,
    "start_time": "2021-11-04T10:55:06.366Z"
   },
   {
    "duration": 131,
    "start_time": "2021-11-04T10:57:39.683Z"
   },
   {
    "duration": 39,
    "start_time": "2021-11-04T11:00:30.811Z"
   },
   {
    "duration": 137,
    "start_time": "2021-11-04T11:03:05.976Z"
   },
   {
    "duration": 3,
    "start_time": "2021-11-04T11:05:36.386Z"
   },
   {
    "duration": 30,
    "start_time": "2021-11-04T11:05:36.394Z"
   },
   {
    "duration": 7,
    "start_time": "2021-11-04T11:05:36.426Z"
   },
   {
    "duration": 53,
    "start_time": "2021-11-04T11:05:36.435Z"
   },
   {
    "duration": 9,
    "start_time": "2021-11-04T11:05:36.491Z"
   },
   {
    "duration": 19,
    "start_time": "2021-11-04T11:05:36.501Z"
   },
   {
    "duration": 21,
    "start_time": "2021-11-04T11:05:36.522Z"
   },
   {
    "duration": 11,
    "start_time": "2021-11-04T11:05:36.545Z"
   },
   {
    "duration": 13,
    "start_time": "2021-11-04T11:05:36.558Z"
   },
   {
    "duration": 20,
    "start_time": "2021-11-04T11:05:36.574Z"
   },
   {
    "duration": 20,
    "start_time": "2021-11-04T11:05:36.597Z"
   },
   {
    "duration": 16,
    "start_time": "2021-11-04T11:05:36.620Z"
   },
   {
    "duration": 24,
    "start_time": "2021-11-04T11:05:36.638Z"
   },
   {
    "duration": 16,
    "start_time": "2021-11-04T11:05:36.664Z"
   },
   {
    "duration": 24,
    "start_time": "2021-11-04T11:05:36.682Z"
   },
   {
    "duration": 21,
    "start_time": "2021-11-04T11:05:36.709Z"
   },
   {
    "duration": 251,
    "start_time": "2021-11-04T11:05:36.732Z"
   },
   {
    "duration": 194,
    "start_time": "2021-11-04T11:05:36.984Z"
   },
   {
    "duration": 26,
    "start_time": "2021-11-04T11:05:37.180Z"
   },
   {
    "duration": 7,
    "start_time": "2021-11-04T11:05:37.209Z"
   },
   {
    "duration": 27,
    "start_time": "2021-11-04T11:05:37.218Z"
   },
   {
    "duration": 224,
    "start_time": "2021-11-04T11:05:37.247Z"
   },
   {
    "duration": 219,
    "start_time": "2021-11-04T11:05:37.473Z"
   },
   {
    "duration": 22,
    "start_time": "2021-11-04T11:05:37.694Z"
   },
   {
    "duration": 326,
    "start_time": "2021-11-04T11:05:37.718Z"
   },
   {
    "duration": 10,
    "start_time": "2021-11-04T11:05:38.046Z"
   },
   {
    "duration": 21,
    "start_time": "2021-11-04T11:05:38.058Z"
   },
   {
    "duration": 24,
    "start_time": "2021-11-04T11:05:38.083Z"
   },
   {
    "duration": 205,
    "start_time": "2021-11-04T11:05:38.111Z"
   },
   {
    "duration": 15,
    "start_time": "2021-11-04T11:05:38.319Z"
   },
   {
    "duration": 397,
    "start_time": "2021-11-04T11:05:38.335Z"
   },
   {
    "duration": 143,
    "start_time": "2021-11-04T11:05:38.734Z"
   },
   {
    "duration": 352,
    "start_time": "2021-11-04T11:05:38.879Z"
   },
   {
    "duration": 4,
    "start_time": "2021-11-04T11:05:39.233Z"
   },
   {
    "duration": 31,
    "start_time": "2021-11-04T11:05:39.239Z"
   },
   {
    "duration": 3,
    "start_time": "2021-11-04T11:06:09.145Z"
   },
   {
    "duration": 31,
    "start_time": "2021-11-04T11:06:09.152Z"
   },
   {
    "duration": 8,
    "start_time": "2021-11-04T11:06:09.185Z"
   },
   {
    "duration": 62,
    "start_time": "2021-11-04T11:06:09.196Z"
   },
   {
    "duration": 11,
    "start_time": "2021-11-04T11:06:09.260Z"
   },
   {
    "duration": 20,
    "start_time": "2021-11-04T11:06:09.272Z"
   },
   {
    "duration": 30,
    "start_time": "2021-11-04T11:06:09.294Z"
   },
   {
    "duration": 22,
    "start_time": "2021-11-04T11:06:09.326Z"
   },
   {
    "duration": 13,
    "start_time": "2021-11-04T11:06:09.351Z"
   },
   {
    "duration": 26,
    "start_time": "2021-11-04T11:06:09.367Z"
   },
   {
    "duration": 29,
    "start_time": "2021-11-04T11:06:09.395Z"
   },
   {
    "duration": 14,
    "start_time": "2021-11-04T11:06:09.426Z"
   },
   {
    "duration": 21,
    "start_time": "2021-11-04T11:06:09.441Z"
   },
   {
    "duration": 16,
    "start_time": "2021-11-04T11:06:09.464Z"
   },
   {
    "duration": 19,
    "start_time": "2021-11-04T11:06:09.482Z"
   },
   {
    "duration": 21,
    "start_time": "2021-11-04T11:06:09.503Z"
   },
   {
    "duration": 230,
    "start_time": "2021-11-04T11:06:09.526Z"
   },
   {
    "duration": 195,
    "start_time": "2021-11-04T11:06:09.758Z"
   },
   {
    "duration": 12,
    "start_time": "2021-11-04T11:06:09.955Z"
   },
   {
    "duration": 7,
    "start_time": "2021-11-04T11:06:09.969Z"
   },
   {
    "duration": 8,
    "start_time": "2021-11-04T11:06:09.978Z"
   },
   {
    "duration": 216,
    "start_time": "2021-11-04T11:06:10.007Z"
   },
   {
    "duration": 217,
    "start_time": "2021-11-04T11:06:10.226Z"
   },
   {
    "duration": 13,
    "start_time": "2021-11-04T11:06:10.447Z"
   },
   {
    "duration": 376,
    "start_time": "2021-11-04T11:06:10.462Z"
   },
   {
    "duration": 11,
    "start_time": "2021-11-04T11:06:10.840Z"
   },
   {
    "duration": 12,
    "start_time": "2021-11-04T11:06:10.852Z"
   },
   {
    "duration": 11,
    "start_time": "2021-11-04T11:06:10.866Z"
   },
   {
    "duration": 222,
    "start_time": "2021-11-04T11:06:10.879Z"
   },
   {
    "duration": 19,
    "start_time": "2021-11-04T11:06:11.102Z"
   },
   {
    "duration": 323,
    "start_time": "2021-11-04T11:06:11.123Z"
   },
   {
    "duration": 123,
    "start_time": "2021-11-04T11:06:11.447Z"
   },
   {
    "duration": 299,
    "start_time": "2021-11-04T11:06:11.571Z"
   },
   {
    "duration": 4,
    "start_time": "2021-11-04T11:06:11.872Z"
   },
   {
    "duration": 15,
    "start_time": "2021-11-04T11:06:11.878Z"
   },
   {
    "duration": 332,
    "start_time": "2021-11-04T11:06:11.894Z"
   },
   {
    "duration": 5,
    "start_time": "2021-11-04T11:06:12.229Z"
   },
   {
    "duration": 28,
    "start_time": "2021-11-04T11:06:12.236Z"
   },
   {
    "duration": 202,
    "start_time": "2021-11-04T11:06:12.265Z"
   },
   {
    "duration": 39,
    "start_time": "2021-11-04T11:06:12.469Z"
   },
   {
    "duration": 167,
    "start_time": "2021-11-04T11:06:12.510Z"
   },
   {
    "duration": 53,
    "start_time": "2021-11-04T11:06:12.679Z"
   },
   {
    "duration": 141,
    "start_time": "2021-11-04T11:06:12.733Z"
   },
   {
    "duration": 8722,
    "start_time": "2021-11-04T11:06:12.876Z"
   },
   {
    "duration": 33,
    "start_time": "2021-11-04T11:08:22.162Z"
   },
   {
    "duration": 339,
    "start_time": "2021-11-04T11:10:12.718Z"
   },
   {
    "duration": 398,
    "start_time": "2021-11-04T11:10:45.561Z"
   },
   {
    "duration": 22,
    "start_time": "2021-11-04T11:10:45.960Z"
   },
   {
    "duration": 16,
    "start_time": "2021-11-04T11:10:45.984Z"
   },
   {
    "duration": 45,
    "start_time": "2021-11-04T11:10:46.002Z"
   },
   {
    "duration": 10,
    "start_time": "2021-11-04T11:10:46.049Z"
   },
   {
    "duration": 12,
    "start_time": "2021-11-04T11:10:46.061Z"
   },
   {
    "duration": 21,
    "start_time": "2021-11-04T11:10:46.075Z"
   },
   {
    "duration": 5,
    "start_time": "2021-11-04T11:10:46.099Z"
   },
   {
    "duration": 33,
    "start_time": "2021-11-04T11:10:46.107Z"
   },
   {
    "duration": 30,
    "start_time": "2021-11-04T11:10:46.142Z"
   },
   {
    "duration": 12,
    "start_time": "2021-11-04T11:10:46.174Z"
   },
   {
    "duration": 35,
    "start_time": "2021-11-04T11:10:46.188Z"
   },
   {
    "duration": 12,
    "start_time": "2021-11-04T11:10:46.225Z"
   },
   {
    "duration": 24,
    "start_time": "2021-11-04T11:10:46.238Z"
   },
   {
    "duration": 29,
    "start_time": "2021-11-04T11:10:46.264Z"
   },
   {
    "duration": 25,
    "start_time": "2021-11-04T11:10:46.295Z"
   },
   {
    "duration": 237,
    "start_time": "2021-11-04T11:10:46.322Z"
   },
   {
    "duration": 182,
    "start_time": "2021-11-04T11:10:46.561Z"
   },
   {
    "duration": 13,
    "start_time": "2021-11-04T11:10:46.744Z"
   },
   {
    "duration": 7,
    "start_time": "2021-11-04T11:10:46.758Z"
   },
   {
    "duration": 8,
    "start_time": "2021-11-04T11:10:46.767Z"
   },
   {
    "duration": 230,
    "start_time": "2021-11-04T11:10:46.776Z"
   },
   {
    "duration": 237,
    "start_time": "2021-11-04T11:10:47.012Z"
   },
   {
    "duration": 12,
    "start_time": "2021-11-04T11:10:47.251Z"
   },
   {
    "duration": 336,
    "start_time": "2021-11-04T11:10:47.264Z"
   },
   {
    "duration": 17,
    "start_time": "2021-11-04T11:10:47.602Z"
   },
   {
    "duration": 12,
    "start_time": "2021-11-04T11:10:47.622Z"
   },
   {
    "duration": 19,
    "start_time": "2021-11-04T11:10:47.636Z"
   },
   {
    "duration": 207,
    "start_time": "2021-11-04T11:10:47.656Z"
   },
   {
    "duration": 13,
    "start_time": "2021-11-04T11:10:47.864Z"
   },
   {
    "duration": 357,
    "start_time": "2021-11-04T11:10:47.879Z"
   },
   {
    "duration": 123,
    "start_time": "2021-11-04T11:10:48.237Z"
   },
   {
    "duration": 495,
    "start_time": "2021-11-04T11:10:48.362Z"
   },
   {
    "duration": 5,
    "start_time": "2021-11-04T11:10:48.858Z"
   },
   {
    "duration": 16,
    "start_time": "2021-11-04T11:10:48.864Z"
   },
   {
    "duration": 350,
    "start_time": "2021-11-04T11:10:48.881Z"
   },
   {
    "duration": 5,
    "start_time": "2021-11-04T11:10:49.233Z"
   },
   {
    "duration": 47,
    "start_time": "2021-11-04T11:10:49.240Z"
   },
   {
    "duration": 151,
    "start_time": "2021-11-04T11:10:49.289Z"
   },
   {
    "duration": 75,
    "start_time": "2021-11-04T11:10:49.442Z"
   },
   {
    "duration": 142,
    "start_time": "2021-11-04T11:10:49.520Z"
   },
   {
    "duration": 64,
    "start_time": "2021-11-04T11:10:49.664Z"
   },
   {
    "duration": 181,
    "start_time": "2021-11-04T11:10:49.729Z"
   },
   {
    "duration": 14,
    "start_time": "2021-11-04T11:10:49.913Z"
   },
   {
    "duration": 13,
    "start_time": "2021-11-04T11:13:43.405Z"
   },
   {
    "duration": 35,
    "start_time": "2021-11-04T11:13:57.163Z"
   },
   {
    "duration": 9,
    "start_time": "2021-11-04T11:16:04.894Z"
   },
   {
    "duration": 7,
    "start_time": "2021-11-04T11:18:14.060Z"
   },
   {
    "duration": 13,
    "start_time": "2021-11-04T11:27:09.826Z"
   },
   {
    "duration": 11,
    "start_time": "2021-11-04T11:54:44.087Z"
   },
   {
    "duration": 11,
    "start_time": "2021-11-04T11:54:59.276Z"
   },
   {
    "duration": 14,
    "start_time": "2021-11-04T11:55:18.415Z"
   },
   {
    "duration": 14,
    "start_time": "2021-11-04T11:56:12.114Z"
   },
   {
    "duration": 8785,
    "start_time": "2021-11-04T11:58:13.182Z"
   },
   {
    "duration": 9927,
    "start_time": "2021-11-04T11:59:06.839Z"
   },
   {
    "duration": 12,
    "start_time": "2021-11-04T11:59:39.288Z"
   },
   {
    "duration": 8,
    "start_time": "2021-11-04T12:00:56.067Z"
   },
   {
    "duration": 8728,
    "start_time": "2021-11-04T12:04:02.548Z"
   },
   {
    "duration": 19,
    "start_time": "2021-11-04T12:04:43.601Z"
   },
   {
    "duration": 3,
    "start_time": "2021-11-04T12:12:14.941Z"
   },
   {
    "duration": 21,
    "start_time": "2021-11-04T12:12:14.949Z"
   },
   {
    "duration": 6,
    "start_time": "2021-11-04T12:12:14.972Z"
   },
   {
    "duration": 57,
    "start_time": "2021-11-04T12:12:14.980Z"
   },
   {
    "duration": 6,
    "start_time": "2021-11-04T12:12:15.040Z"
   },
   {
    "duration": 15,
    "start_time": "2021-11-04T12:12:15.047Z"
   },
   {
    "duration": 20,
    "start_time": "2021-11-04T12:12:15.064Z"
   },
   {
    "duration": 10,
    "start_time": "2021-11-04T12:12:15.086Z"
   },
   {
    "duration": 11,
    "start_time": "2021-11-04T12:12:15.097Z"
   },
   {
    "duration": 23,
    "start_time": "2021-11-04T12:12:15.113Z"
   },
   {
    "duration": 7,
    "start_time": "2021-11-04T12:12:15.139Z"
   },
   {
    "duration": 13,
    "start_time": "2021-11-04T12:12:15.147Z"
   },
   {
    "duration": 55,
    "start_time": "2021-11-04T12:12:15.162Z"
   },
   {
    "duration": 18,
    "start_time": "2021-11-04T12:12:15.219Z"
   },
   {
    "duration": 12,
    "start_time": "2021-11-04T12:12:15.239Z"
   },
   {
    "duration": 16,
    "start_time": "2021-11-04T12:12:15.253Z"
   },
   {
    "duration": 265,
    "start_time": "2021-11-04T12:12:15.271Z"
   },
   {
    "duration": 171,
    "start_time": "2021-11-04T12:12:15.537Z"
   },
   {
    "duration": 17,
    "start_time": "2021-11-04T12:12:15.710Z"
   },
   {
    "duration": 12,
    "start_time": "2021-11-04T12:12:15.729Z"
   },
   {
    "duration": 15,
    "start_time": "2021-11-04T12:12:15.742Z"
   },
   {
    "duration": 221,
    "start_time": "2021-11-04T12:12:15.759Z"
   },
   {
    "duration": 232,
    "start_time": "2021-11-04T12:12:15.982Z"
   },
   {
    "duration": 15,
    "start_time": "2021-11-04T12:12:16.217Z"
   },
   {
    "duration": 310,
    "start_time": "2021-11-04T12:12:16.234Z"
   },
   {
    "duration": 10,
    "start_time": "2021-11-04T12:12:16.546Z"
   },
   {
    "duration": 16,
    "start_time": "2021-11-04T12:12:16.560Z"
   },
   {
    "duration": 27,
    "start_time": "2021-11-04T12:12:16.578Z"
   },
   {
    "duration": 221,
    "start_time": "2021-11-04T12:12:16.609Z"
   },
   {
    "duration": 15,
    "start_time": "2021-11-04T12:12:16.831Z"
   },
   {
    "duration": 329,
    "start_time": "2021-11-04T12:12:16.848Z"
   },
   {
    "duration": 116,
    "start_time": "2021-11-04T12:12:17.178Z"
   },
   {
    "duration": 302,
    "start_time": "2021-11-04T12:12:17.296Z"
   },
   {
    "duration": 11,
    "start_time": "2021-11-04T12:12:17.599Z"
   },
   {
    "duration": 22,
    "start_time": "2021-11-04T12:12:17.613Z"
   },
   {
    "duration": 291,
    "start_time": "2021-11-04T12:12:17.637Z"
   },
   {
    "duration": 6,
    "start_time": "2021-11-04T12:12:17.930Z"
   },
   {
    "duration": 16,
    "start_time": "2021-11-04T12:12:17.938Z"
   },
   {
    "duration": 160,
    "start_time": "2021-11-04T12:12:17.956Z"
   },
   {
    "duration": 33,
    "start_time": "2021-11-04T12:12:18.119Z"
   },
   {
    "duration": 171,
    "start_time": "2021-11-04T12:12:18.153Z"
   },
   {
    "duration": 36,
    "start_time": "2021-11-04T12:12:18.326Z"
   },
   {
    "duration": 176,
    "start_time": "2021-11-04T12:12:18.364Z"
   },
   {
    "duration": 8,
    "start_time": "2021-11-04T12:12:18.542Z"
   },
   {
    "duration": 8,
    "start_time": "2021-11-04T12:12:18.551Z"
   },
   {
    "duration": 10,
    "start_time": "2021-11-04T12:12:18.561Z"
   },
   {
    "duration": 45,
    "start_time": "2021-11-04T12:12:18.573Z"
   },
   {
    "duration": 36,
    "start_time": "2021-11-04T12:12:18.621Z"
   },
   {
    "duration": 9,
    "start_time": "2021-11-04T12:12:18.659Z"
   },
   {
    "duration": 15,
    "start_time": "2021-11-04T12:12:18.670Z"
   },
   {
    "duration": 305,
    "start_time": "2021-11-04T12:22:57.716Z"
   },
   {
    "duration": 366,
    "start_time": "2021-11-04T12:23:07.370Z"
   },
   {
    "duration": 3,
    "start_time": "2021-11-04T12:44:45.261Z"
   },
   {
    "duration": 27,
    "start_time": "2021-11-04T12:44:45.268Z"
   },
   {
    "duration": 13,
    "start_time": "2021-11-04T12:44:45.298Z"
   },
   {
    "duration": 54,
    "start_time": "2021-11-04T12:44:45.314Z"
   },
   {
    "duration": 6,
    "start_time": "2021-11-04T12:44:45.371Z"
   },
   {
    "duration": 12,
    "start_time": "2021-11-04T12:44:45.379Z"
   },
   {
    "duration": 31,
    "start_time": "2021-11-04T12:44:45.392Z"
   },
   {
    "duration": 16,
    "start_time": "2021-11-04T12:44:45.424Z"
   },
   {
    "duration": 10,
    "start_time": "2021-11-04T12:44:45.443Z"
   },
   {
    "duration": 22,
    "start_time": "2021-11-04T12:44:45.456Z"
   },
   {
    "duration": 20,
    "start_time": "2021-11-04T12:44:45.480Z"
   },
   {
    "duration": 15,
    "start_time": "2021-11-04T12:44:45.508Z"
   },
   {
    "duration": 11,
    "start_time": "2021-11-04T12:44:45.524Z"
   },
   {
    "duration": 13,
    "start_time": "2021-11-04T12:44:45.536Z"
   },
   {
    "duration": 9,
    "start_time": "2021-11-04T12:44:45.550Z"
   },
   {
    "duration": 18,
    "start_time": "2021-11-04T12:44:45.560Z"
   },
   {
    "duration": 274,
    "start_time": "2021-11-04T12:44:45.580Z"
   },
   {
    "duration": 195,
    "start_time": "2021-11-04T12:44:45.856Z"
   },
   {
    "duration": 14,
    "start_time": "2021-11-04T12:44:46.053Z"
   },
   {
    "duration": 11,
    "start_time": "2021-11-04T12:44:46.069Z"
   },
   {
    "duration": 16,
    "start_time": "2021-11-04T12:44:46.081Z"
   },
   {
    "duration": 344,
    "start_time": "2021-11-04T12:44:46.107Z"
   },
   {
    "duration": 236,
    "start_time": "2021-11-04T12:44:46.453Z"
   },
   {
    "duration": 18,
    "start_time": "2021-11-04T12:44:46.692Z"
   },
   {
    "duration": 344,
    "start_time": "2021-11-04T12:44:46.712Z"
   },
   {
    "duration": 12,
    "start_time": "2021-11-04T12:44:47.058Z"
   },
   {
    "duration": 15,
    "start_time": "2021-11-04T12:44:47.072Z"
   },
   {
    "duration": 27,
    "start_time": "2021-11-04T12:44:47.089Z"
   },
   {
    "duration": 224,
    "start_time": "2021-11-04T12:44:47.118Z"
   },
   {
    "duration": 15,
    "start_time": "2021-11-04T12:44:47.344Z"
   },
   {
    "duration": 375,
    "start_time": "2021-11-04T12:44:47.361Z"
   },
   {
    "duration": 131,
    "start_time": "2021-11-04T12:44:47.737Z"
   },
   {
    "duration": 292,
    "start_time": "2021-11-04T12:44:47.870Z"
   },
   {
    "duration": 5,
    "start_time": "2021-11-04T12:44:48.163Z"
   },
   {
    "duration": 13,
    "start_time": "2021-11-04T12:44:48.170Z"
   },
   {
    "duration": 349,
    "start_time": "2021-11-04T12:44:48.185Z"
   },
   {
    "duration": 5,
    "start_time": "2021-11-04T12:44:48.536Z"
   },
   {
    "duration": 16,
    "start_time": "2021-11-04T12:44:48.543Z"
   },
   {
    "duration": 140,
    "start_time": "2021-11-04T12:44:48.560Z"
   },
   {
    "duration": 36,
    "start_time": "2021-11-04T12:44:48.708Z"
   },
   {
    "duration": 148,
    "start_time": "2021-11-04T12:44:48.746Z"
   },
   {
    "duration": 40,
    "start_time": "2021-11-04T12:44:48.906Z"
   },
   {
    "duration": 149,
    "start_time": "2021-11-04T12:44:48.947Z"
   },
   {
    "duration": 18,
    "start_time": "2021-11-04T12:44:49.099Z"
   },
   {
    "duration": 16,
    "start_time": "2021-11-04T12:44:49.120Z"
   },
   {
    "duration": 10,
    "start_time": "2021-11-04T12:44:49.138Z"
   },
   {
    "duration": 22,
    "start_time": "2021-11-04T12:44:49.150Z"
   },
   {
    "duration": 37,
    "start_time": "2021-11-04T12:44:49.174Z"
   },
   {
    "duration": 23,
    "start_time": "2021-11-04T12:44:49.213Z"
   },
   {
    "duration": 32,
    "start_time": "2021-11-04T12:44:49.238Z"
   },
   {
    "duration": 1592,
    "start_time": "2021-11-04T16:03:30.203Z"
   },
   {
    "duration": 27,
    "start_time": "2021-11-04T16:03:31.798Z"
   },
   {
    "duration": 14,
    "start_time": "2021-11-04T16:03:31.829Z"
   },
   {
    "duration": 48,
    "start_time": "2021-11-04T16:03:31.846Z"
   },
   {
    "duration": 13,
    "start_time": "2021-11-04T16:03:31.896Z"
   },
   {
    "duration": 11,
    "start_time": "2021-11-04T16:03:31.911Z"
   },
   {
    "duration": 23,
    "start_time": "2021-11-04T16:03:31.925Z"
   },
   {
    "duration": 31,
    "start_time": "2021-11-04T16:03:31.952Z"
   },
   {
    "duration": 15,
    "start_time": "2021-11-04T16:03:31.987Z"
   },
   {
    "duration": 45,
    "start_time": "2021-11-04T16:03:32.005Z"
   },
   {
    "duration": 33,
    "start_time": "2021-11-04T16:03:32.053Z"
   },
   {
    "duration": 21,
    "start_time": "2021-11-04T16:03:32.088Z"
   },
   {
    "duration": 24,
    "start_time": "2021-11-04T16:03:32.112Z"
   },
   {
    "duration": 22,
    "start_time": "2021-11-04T16:03:32.139Z"
   },
   {
    "duration": 24,
    "start_time": "2021-11-04T16:03:32.164Z"
   },
   {
    "duration": 15,
    "start_time": "2021-11-04T16:03:32.191Z"
   },
   {
    "duration": 283,
    "start_time": "2021-11-04T16:03:32.209Z"
   },
   {
    "duration": 225,
    "start_time": "2021-11-04T16:03:32.494Z"
   },
   {
    "duration": 18,
    "start_time": "2021-11-04T16:03:32.721Z"
   },
   {
    "duration": 10,
    "start_time": "2021-11-04T16:03:32.741Z"
   },
   {
    "duration": 29,
    "start_time": "2021-11-04T16:03:32.753Z"
   },
   {
    "duration": 391,
    "start_time": "2021-11-04T16:03:32.784Z"
   },
   {
    "duration": 359,
    "start_time": "2021-11-04T16:03:33.180Z"
   },
   {
    "duration": 15,
    "start_time": "2021-11-04T16:03:33.542Z"
   },
   {
    "duration": 848,
    "start_time": "2021-11-04T16:03:33.560Z"
   },
   {
    "duration": -39,
    "start_time": "2021-11-04T16:03:34.449Z"
   },
   {
    "duration": -41,
    "start_time": "2021-11-04T16:03:34.453Z"
   },
   {
    "duration": -42,
    "start_time": "2021-11-04T16:03:34.456Z"
   },
   {
    "duration": -44,
    "start_time": "2021-11-04T16:03:34.459Z"
   },
   {
    "duration": -47,
    "start_time": "2021-11-04T16:03:34.463Z"
   },
   {
    "duration": -50,
    "start_time": "2021-11-04T16:03:34.467Z"
   },
   {
    "duration": -51,
    "start_time": "2021-11-04T16:03:34.470Z"
   },
   {
    "duration": -54,
    "start_time": "2021-11-04T16:03:34.474Z"
   },
   {
    "duration": -57,
    "start_time": "2021-11-04T16:03:34.478Z"
   },
   {
    "duration": -65,
    "start_time": "2021-11-04T16:03:34.487Z"
   },
   {
    "duration": -67,
    "start_time": "2021-11-04T16:03:34.491Z"
   },
   {
    "duration": -136,
    "start_time": "2021-11-04T16:03:34.561Z"
   },
   {
    "duration": -139,
    "start_time": "2021-11-04T16:03:34.565Z"
   },
   {
    "duration": -178,
    "start_time": "2021-11-04T16:03:34.605Z"
   },
   {
    "duration": -180,
    "start_time": "2021-11-04T16:03:34.609Z"
   },
   {
    "duration": -182,
    "start_time": "2021-11-04T16:03:34.612Z"
   },
   {
    "duration": -184,
    "start_time": "2021-11-04T16:03:34.615Z"
   },
   {
    "duration": -186,
    "start_time": "2021-11-04T16:03:34.619Z"
   },
   {
    "duration": -188,
    "start_time": "2021-11-04T16:03:34.622Z"
   },
   {
    "duration": -190,
    "start_time": "2021-11-04T16:03:34.626Z"
   },
   {
    "duration": -192,
    "start_time": "2021-11-04T16:03:34.629Z"
   },
   {
    "duration": -150,
    "start_time": "2021-11-04T16:03:34.632Z"
   },
   {
    "duration": -153,
    "start_time": "2021-11-04T16:03:34.636Z"
   },
   {
    "duration": -154,
    "start_time": "2021-11-04T16:03:34.639Z"
   },
   {
    "duration": -155,
    "start_time": "2021-11-04T16:03:34.642Z"
   },
   {
    "duration": 1161,
    "start_time": "2021-11-04T16:51:59.761Z"
   },
   {
    "duration": 33,
    "start_time": "2021-11-04T16:52:00.923Z"
   },
   {
    "duration": 9,
    "start_time": "2021-11-04T16:52:00.959Z"
   },
   {
    "duration": 49,
    "start_time": "2021-11-04T16:52:00.971Z"
   },
   {
    "duration": 10,
    "start_time": "2021-11-04T16:52:01.022Z"
   },
   {
    "duration": 11,
    "start_time": "2021-11-04T16:52:01.034Z"
   },
   {
    "duration": 28,
    "start_time": "2021-11-04T16:52:01.047Z"
   },
   {
    "duration": 11,
    "start_time": "2021-11-04T16:52:01.078Z"
   },
   {
    "duration": 14,
    "start_time": "2021-11-04T16:52:01.091Z"
   },
   {
    "duration": 36,
    "start_time": "2021-11-04T16:52:01.107Z"
   },
   {
    "duration": 18,
    "start_time": "2021-11-04T16:52:01.146Z"
   },
   {
    "duration": 22,
    "start_time": "2021-11-04T16:52:01.166Z"
   },
   {
    "duration": 32,
    "start_time": "2021-11-04T16:52:01.190Z"
   },
   {
    "duration": 22,
    "start_time": "2021-11-04T16:52:01.224Z"
   },
   {
    "duration": 37,
    "start_time": "2021-11-04T16:52:01.248Z"
   },
   {
    "duration": 23,
    "start_time": "2021-11-04T16:52:01.287Z"
   },
   {
    "duration": 222,
    "start_time": "2021-11-04T16:52:01.312Z"
   },
   {
    "duration": 176,
    "start_time": "2021-11-04T16:52:01.536Z"
   },
   {
    "duration": 18,
    "start_time": "2021-11-04T16:52:01.715Z"
   },
   {
    "duration": 28,
    "start_time": "2021-11-04T16:52:01.736Z"
   },
   {
    "duration": 27,
    "start_time": "2021-11-04T16:52:01.766Z"
   },
   {
    "duration": 231,
    "start_time": "2021-11-04T16:52:01.794Z"
   },
   {
    "duration": 219,
    "start_time": "2021-11-04T16:52:02.029Z"
   },
   {
    "duration": 22,
    "start_time": "2021-11-04T16:52:02.251Z"
   },
   {
    "duration": 300,
    "start_time": "2021-11-04T16:52:02.275Z"
   },
   {
    "duration": 12,
    "start_time": "2021-11-04T16:52:02.577Z"
   },
   {
    "duration": 14,
    "start_time": "2021-11-04T16:52:02.591Z"
   },
   {
    "duration": 12,
    "start_time": "2021-11-04T16:52:02.607Z"
   },
   {
    "duration": 221,
    "start_time": "2021-11-04T16:52:02.621Z"
   },
   {
    "duration": 25,
    "start_time": "2021-11-04T16:52:02.844Z"
   },
   {
    "duration": 321,
    "start_time": "2021-11-04T16:52:02.871Z"
   },
   {
    "duration": 114,
    "start_time": "2021-11-04T16:52:03.194Z"
   },
   {
    "duration": 279,
    "start_time": "2021-11-04T16:52:03.310Z"
   },
   {
    "duration": 5,
    "start_time": "2021-11-04T16:52:03.591Z"
   },
   {
    "duration": 14,
    "start_time": "2021-11-04T16:52:03.597Z"
   },
   {
    "duration": 279,
    "start_time": "2021-11-04T16:52:03.613Z"
   },
   {
    "duration": 5,
    "start_time": "2021-11-04T16:52:03.894Z"
   },
   {
    "duration": 15,
    "start_time": "2021-11-04T16:52:03.900Z"
   },
   {
    "duration": 129,
    "start_time": "2021-11-04T16:52:03.917Z"
   },
   {
    "duration": 53,
    "start_time": "2021-11-04T16:52:04.048Z"
   },
   {
    "duration": 128,
    "start_time": "2021-11-04T16:52:04.103Z"
   },
   {
    "duration": 49,
    "start_time": "2021-11-04T16:52:04.233Z"
   },
   {
    "duration": 125,
    "start_time": "2021-11-04T16:52:04.283Z"
   },
   {
    "duration": 9,
    "start_time": "2021-11-04T16:52:04.410Z"
   },
   {
    "duration": 10,
    "start_time": "2021-11-04T16:52:04.421Z"
   },
   {
    "duration": 36,
    "start_time": "2021-11-04T16:52:04.433Z"
   },
   {
    "duration": 10,
    "start_time": "2021-11-04T16:52:04.471Z"
   },
   {
    "duration": 12,
    "start_time": "2021-11-04T16:52:04.483Z"
   },
   {
    "duration": 7,
    "start_time": "2021-11-04T16:52:04.497Z"
   },
   {
    "duration": 13,
    "start_time": "2021-11-04T16:52:04.506Z"
   },
   {
    "duration": 88,
    "start_time": "2021-11-04T16:54:14.670Z"
   },
   {
    "duration": 3,
    "start_time": "2021-11-04T16:54:21.853Z"
   },
   {
    "duration": 25,
    "start_time": "2021-11-04T16:54:21.859Z"
   },
   {
    "duration": 8,
    "start_time": "2021-11-04T16:54:21.886Z"
   },
   {
    "duration": 44,
    "start_time": "2021-11-04T16:54:21.896Z"
   },
   {
    "duration": 6,
    "start_time": "2021-11-04T16:54:21.943Z"
   },
   {
    "duration": 8,
    "start_time": "2021-11-04T16:54:21.951Z"
   },
   {
    "duration": 22,
    "start_time": "2021-11-04T16:54:21.961Z"
   },
   {
    "duration": 7,
    "start_time": "2021-11-04T16:54:21.984Z"
   },
   {
    "duration": 6,
    "start_time": "2021-11-04T16:54:21.994Z"
   },
   {
    "duration": 17,
    "start_time": "2021-11-04T16:54:22.002Z"
   },
   {
    "duration": 10,
    "start_time": "2021-11-04T16:54:22.020Z"
   },
   {
    "duration": 32,
    "start_time": "2021-11-04T16:54:22.031Z"
   },
   {
    "duration": 11,
    "start_time": "2021-11-04T16:54:22.065Z"
   },
   {
    "duration": 16,
    "start_time": "2021-11-04T16:54:22.078Z"
   },
   {
    "duration": 12,
    "start_time": "2021-11-04T16:54:22.096Z"
   },
   {
    "duration": 14,
    "start_time": "2021-11-04T16:54:22.109Z"
   },
   {
    "duration": 235,
    "start_time": "2021-11-04T16:54:22.125Z"
   },
   {
    "duration": 162,
    "start_time": "2021-11-04T16:54:22.362Z"
   },
   {
    "duration": 12,
    "start_time": "2021-11-04T16:54:22.525Z"
   },
   {
    "duration": 28,
    "start_time": "2021-11-04T16:54:22.539Z"
   },
   {
    "duration": 8,
    "start_time": "2021-11-04T16:54:22.569Z"
   },
   {
    "duration": 285,
    "start_time": "2021-11-04T16:54:22.578Z"
   },
   {
    "duration": 208,
    "start_time": "2021-11-04T16:54:22.865Z"
   },
   {
    "duration": 12,
    "start_time": "2021-11-04T16:54:23.078Z"
   },
   {
    "duration": 379,
    "start_time": "2021-11-04T16:54:23.093Z"
   },
   {
    "duration": 13,
    "start_time": "2021-11-04T16:54:23.475Z"
   },
   {
    "duration": 14,
    "start_time": "2021-11-04T16:54:23.491Z"
   },
   {
    "duration": 17,
    "start_time": "2021-11-04T16:54:23.507Z"
   },
   {
    "duration": 211,
    "start_time": "2021-11-04T16:54:23.525Z"
   },
   {
    "duration": 25,
    "start_time": "2021-11-04T16:54:23.738Z"
   },
   {
    "duration": 304,
    "start_time": "2021-11-04T16:54:23.765Z"
   },
   {
    "duration": 123,
    "start_time": "2021-11-04T16:54:24.071Z"
   },
   {
    "duration": 251,
    "start_time": "2021-11-04T16:54:24.196Z"
   },
   {
    "duration": 15,
    "start_time": "2021-11-04T16:54:24.449Z"
   },
   {
    "duration": 12,
    "start_time": "2021-11-04T16:54:24.466Z"
   },
   {
    "duration": 279,
    "start_time": "2021-11-04T16:54:24.479Z"
   },
   {
    "duration": 4,
    "start_time": "2021-11-04T16:54:24.764Z"
   },
   {
    "duration": 14,
    "start_time": "2021-11-04T16:54:24.769Z"
   },
   {
    "duration": 131,
    "start_time": "2021-11-04T16:54:24.785Z"
   },
   {
    "duration": 45,
    "start_time": "2021-11-04T16:54:24.918Z"
   },
   {
    "duration": 126,
    "start_time": "2021-11-04T16:54:24.965Z"
   },
   {
    "duration": 29,
    "start_time": "2021-11-04T16:54:25.093Z"
   },
   {
    "duration": 129,
    "start_time": "2021-11-04T16:54:25.124Z"
   },
   {
    "duration": 9,
    "start_time": "2021-11-04T16:54:25.263Z"
   },
   {
    "duration": 8,
    "start_time": "2021-11-04T16:54:25.273Z"
   },
   {
    "duration": 11,
    "start_time": "2021-11-04T16:54:25.283Z"
   },
   {
    "duration": 10,
    "start_time": "2021-11-04T16:54:25.296Z"
   },
   {
    "duration": 13,
    "start_time": "2021-11-04T16:54:25.308Z"
   },
   {
    "duration": 47,
    "start_time": "2021-11-04T16:54:25.323Z"
   },
   {
    "duration": 16,
    "start_time": "2021-11-04T16:54:25.372Z"
   },
   {
    "duration": 211,
    "start_time": "2021-11-04T17:15:11.208Z"
   },
   {
    "duration": 3,
    "start_time": "2021-11-04T17:22:36.085Z"
   },
   {
    "duration": 39,
    "start_time": "2021-11-04T17:22:36.090Z"
   },
   {
    "duration": 26,
    "start_time": "2021-11-04T17:22:36.131Z"
   },
   {
    "duration": 48,
    "start_time": "2021-11-04T17:22:36.159Z"
   },
   {
    "duration": 13,
    "start_time": "2021-11-04T17:22:36.209Z"
   },
   {
    "duration": 12,
    "start_time": "2021-11-04T17:22:36.224Z"
   },
   {
    "duration": 25,
    "start_time": "2021-11-04T17:22:36.239Z"
   },
   {
    "duration": 7,
    "start_time": "2021-11-04T17:22:36.267Z"
   },
   {
    "duration": 18,
    "start_time": "2021-11-04T17:22:36.277Z"
   },
   {
    "duration": 25,
    "start_time": "2021-11-04T17:22:36.298Z"
   },
   {
    "duration": 20,
    "start_time": "2021-11-04T17:22:36.325Z"
   },
   {
    "duration": 14,
    "start_time": "2021-11-04T17:22:36.363Z"
   },
   {
    "duration": 13,
    "start_time": "2021-11-04T17:22:36.379Z"
   },
   {
    "duration": 16,
    "start_time": "2021-11-04T17:22:36.394Z"
   },
   {
    "duration": 20,
    "start_time": "2021-11-04T17:22:36.411Z"
   },
   {
    "duration": 29,
    "start_time": "2021-11-04T17:22:36.433Z"
   },
   {
    "duration": 243,
    "start_time": "2021-11-04T17:22:36.465Z"
   },
   {
    "duration": 180,
    "start_time": "2021-11-04T17:22:36.710Z"
   },
   {
    "duration": 18,
    "start_time": "2021-11-04T17:22:36.893Z"
   },
   {
    "duration": 22,
    "start_time": "2021-11-04T17:22:36.913Z"
   },
   {
    "duration": 16,
    "start_time": "2021-11-04T17:22:36.936Z"
   },
   {
    "duration": 227,
    "start_time": "2021-11-04T17:22:36.954Z"
   },
   {
    "duration": 223,
    "start_time": "2021-11-04T17:22:37.183Z"
   },
   {
    "duration": 13,
    "start_time": "2021-11-04T17:22:37.409Z"
   },
   {
    "duration": 379,
    "start_time": "2021-11-04T17:22:37.424Z"
   },
   {
    "duration": 11,
    "start_time": "2021-11-04T17:22:37.805Z"
   },
   {
    "duration": 18,
    "start_time": "2021-11-04T17:22:37.818Z"
   },
   {
    "duration": 25,
    "start_time": "2021-11-04T17:22:37.838Z"
   },
   {
    "duration": 295,
    "start_time": "2021-11-04T17:22:37.865Z"
   },
   {
    "duration": 14,
    "start_time": "2021-11-04T17:22:38.162Z"
   },
   {
    "duration": 325,
    "start_time": "2021-11-04T17:22:38.178Z"
   },
   {
    "duration": 183,
    "start_time": "2021-11-04T17:22:38.505Z"
   },
   {
    "duration": 386,
    "start_time": "2021-11-04T17:22:38.690Z"
   },
   {
    "duration": 6,
    "start_time": "2021-11-04T17:22:39.078Z"
   },
   {
    "duration": 22,
    "start_time": "2021-11-04T17:22:39.086Z"
   },
   {
    "duration": 290,
    "start_time": "2021-11-04T17:22:39.110Z"
   },
   {
    "duration": 4,
    "start_time": "2021-11-04T17:22:39.402Z"
   },
   {
    "duration": 30,
    "start_time": "2021-11-04T17:22:39.408Z"
   },
   {
    "duration": 127,
    "start_time": "2021-11-04T17:22:39.440Z"
   },
   {
    "duration": 46,
    "start_time": "2021-11-04T17:22:39.568Z"
   },
   {
    "duration": 129,
    "start_time": "2021-11-04T17:22:39.616Z"
   },
   {
    "duration": 56,
    "start_time": "2021-11-04T17:22:39.746Z"
   },
   {
    "duration": 160,
    "start_time": "2021-11-04T17:22:39.804Z"
   },
   {
    "duration": 11,
    "start_time": "2021-11-04T17:22:39.966Z"
   },
   {
    "duration": 37,
    "start_time": "2021-11-04T17:22:39.979Z"
   },
   {
    "duration": 15,
    "start_time": "2021-11-04T17:22:40.018Z"
   },
   {
    "duration": 26,
    "start_time": "2021-11-04T17:22:40.035Z"
   },
   {
    "duration": 24,
    "start_time": "2021-11-04T17:22:40.063Z"
   },
   {
    "duration": 8,
    "start_time": "2021-11-04T17:22:40.089Z"
   },
   {
    "duration": 16,
    "start_time": "2021-11-04T17:22:40.099Z"
   },
   {
    "duration": 3,
    "start_time": "2021-11-04T17:22:51.915Z"
   },
   {
    "duration": 26,
    "start_time": "2021-11-04T17:22:51.920Z"
   },
   {
    "duration": 7,
    "start_time": "2021-11-04T17:22:51.948Z"
   },
   {
    "duration": 46,
    "start_time": "2021-11-04T17:22:51.957Z"
   },
   {
    "duration": 5,
    "start_time": "2021-11-04T17:22:52.005Z"
   },
   {
    "duration": 12,
    "start_time": "2021-11-04T17:22:52.012Z"
   },
   {
    "duration": 22,
    "start_time": "2021-11-04T17:22:52.026Z"
   },
   {
    "duration": 8,
    "start_time": "2021-11-04T17:22:52.050Z"
   },
   {
    "duration": 7,
    "start_time": "2021-11-04T17:22:52.060Z"
   },
   {
    "duration": 17,
    "start_time": "2021-11-04T17:22:52.069Z"
   },
   {
    "duration": 9,
    "start_time": "2021-11-04T17:22:52.088Z"
   },
   {
    "duration": 14,
    "start_time": "2021-11-04T17:22:52.099Z"
   },
   {
    "duration": 17,
    "start_time": "2021-11-04T17:22:52.115Z"
   },
   {
    "duration": 36,
    "start_time": "2021-11-04T17:22:52.133Z"
   },
   {
    "duration": 11,
    "start_time": "2021-11-04T17:22:52.171Z"
   },
   {
    "duration": 16,
    "start_time": "2021-11-04T17:22:52.184Z"
   },
   {
    "duration": 228,
    "start_time": "2021-11-04T17:22:52.201Z"
   },
   {
    "duration": 172,
    "start_time": "2021-11-04T17:22:52.431Z"
   },
   {
    "duration": 14,
    "start_time": "2021-11-04T17:22:52.606Z"
   },
   {
    "duration": 7,
    "start_time": "2021-11-04T17:22:52.622Z"
   },
   {
    "duration": 8,
    "start_time": "2021-11-04T17:22:52.631Z"
   },
   {
    "duration": 331,
    "start_time": "2021-11-04T17:22:52.641Z"
   },
   {
    "duration": 211,
    "start_time": "2021-11-04T17:22:52.974Z"
   },
   {
    "duration": 12,
    "start_time": "2021-11-04T17:22:53.186Z"
   },
   {
    "duration": 308,
    "start_time": "2021-11-04T17:22:53.200Z"
   },
   {
    "duration": 11,
    "start_time": "2021-11-04T17:22:53.509Z"
   },
   {
    "duration": 11,
    "start_time": "2021-11-04T17:22:53.522Z"
   },
   {
    "duration": 29,
    "start_time": "2021-11-04T17:22:53.535Z"
   },
   {
    "duration": 212,
    "start_time": "2021-11-04T17:22:53.567Z"
   },
   {
    "duration": 17,
    "start_time": "2021-11-04T17:22:53.782Z"
   },
   {
    "duration": 306,
    "start_time": "2021-11-04T17:22:53.801Z"
   },
   {
    "duration": 121,
    "start_time": "2021-11-04T17:22:54.109Z"
   },
   {
    "duration": 317,
    "start_time": "2021-11-04T17:22:54.232Z"
   },
   {
    "duration": 12,
    "start_time": "2021-11-04T17:22:54.551Z"
   },
   {
    "duration": 11,
    "start_time": "2021-11-04T17:22:54.566Z"
   },
   {
    "duration": 410,
    "start_time": "2021-11-04T17:22:54.579Z"
   },
   {
    "duration": 5,
    "start_time": "2021-11-04T17:22:54.991Z"
   },
   {
    "duration": 14,
    "start_time": "2021-11-04T17:22:54.998Z"
   },
   {
    "duration": 188,
    "start_time": "2021-11-04T17:22:55.015Z"
   },
   {
    "duration": 41,
    "start_time": "2021-11-04T17:22:55.206Z"
   },
   {
    "duration": 209,
    "start_time": "2021-11-04T17:22:55.249Z"
   },
   {
    "duration": 46,
    "start_time": "2021-11-04T17:22:55.464Z"
   },
   {
    "duration": 211,
    "start_time": "2021-11-04T17:22:55.512Z"
   },
   {
    "duration": 11,
    "start_time": "2021-11-04T17:22:55.725Z"
   },
   {
    "duration": 28,
    "start_time": "2021-11-04T17:22:55.738Z"
   },
   {
    "duration": 11,
    "start_time": "2021-11-04T17:22:55.768Z"
   },
   {
    "duration": 11,
    "start_time": "2021-11-04T17:22:55.781Z"
   },
   {
    "duration": 13,
    "start_time": "2021-11-04T17:22:55.793Z"
   },
   {
    "duration": 11,
    "start_time": "2021-11-04T17:22:55.807Z"
   },
   {
    "duration": 48,
    "start_time": "2021-11-04T17:22:55.819Z"
   },
   {
    "duration": 1468,
    "start_time": "2021-11-05T07:32:14.123Z"
   },
   {
    "duration": 32,
    "start_time": "2021-11-05T07:32:15.594Z"
   },
   {
    "duration": 10,
    "start_time": "2021-11-05T07:32:15.629Z"
   },
   {
    "duration": 47,
    "start_time": "2021-11-05T07:32:15.642Z"
   },
   {
    "duration": 7,
    "start_time": "2021-11-05T07:32:15.692Z"
   },
   {
    "duration": 11,
    "start_time": "2021-11-05T07:32:15.702Z"
   },
   {
    "duration": 25,
    "start_time": "2021-11-05T07:32:15.715Z"
   },
   {
    "duration": 9,
    "start_time": "2021-11-05T07:32:15.742Z"
   },
   {
    "duration": 7,
    "start_time": "2021-11-05T07:32:15.755Z"
   },
   {
    "duration": 25,
    "start_time": "2021-11-05T07:32:15.765Z"
   },
   {
    "duration": 38,
    "start_time": "2021-11-05T07:32:15.793Z"
   },
   {
    "duration": 16,
    "start_time": "2021-11-05T07:32:15.833Z"
   },
   {
    "duration": 15,
    "start_time": "2021-11-05T07:32:15.852Z"
   },
   {
    "duration": 13,
    "start_time": "2021-11-05T07:32:15.870Z"
   },
   {
    "duration": 12,
    "start_time": "2021-11-05T07:32:15.922Z"
   },
   {
    "duration": 18,
    "start_time": "2021-11-05T07:32:15.936Z"
   },
   {
    "duration": 379,
    "start_time": "2021-11-05T07:32:15.956Z"
   },
   {
    "duration": 294,
    "start_time": "2021-11-05T07:32:16.338Z"
   },
   {
    "duration": 18,
    "start_time": "2021-11-05T07:32:16.635Z"
   },
   {
    "duration": 9,
    "start_time": "2021-11-05T07:32:16.656Z"
   },
   {
    "duration": 23,
    "start_time": "2021-11-05T07:32:16.667Z"
   },
   {
    "duration": 393,
    "start_time": "2021-11-05T07:32:16.692Z"
   },
   {
    "duration": 355,
    "start_time": "2021-11-05T07:32:17.088Z"
   },
   {
    "duration": 18,
    "start_time": "2021-11-05T07:32:17.447Z"
   },
   {
    "duration": 542,
    "start_time": "2021-11-05T07:32:17.468Z"
   },
   {
    "duration": 16,
    "start_time": "2021-11-05T07:32:18.021Z"
   },
   {
    "duration": 15,
    "start_time": "2021-11-05T07:32:18.043Z"
   },
   {
    "duration": 16,
    "start_time": "2021-11-05T07:32:18.061Z"
   },
   {
    "duration": 355,
    "start_time": "2021-11-05T07:32:18.080Z"
   },
   {
    "duration": 20,
    "start_time": "2021-11-05T07:32:18.438Z"
   },
   {
    "duration": 469,
    "start_time": "2021-11-05T07:32:18.461Z"
   },
   {
    "duration": 221,
    "start_time": "2021-11-05T07:32:18.933Z"
   },
   {
    "duration": 369,
    "start_time": "2021-11-05T07:32:19.156Z"
   },
   {
    "duration": 7,
    "start_time": "2021-11-05T07:32:19.527Z"
   },
   {
    "duration": 19,
    "start_time": "2021-11-05T07:32:19.536Z"
   },
   {
    "duration": 381,
    "start_time": "2021-11-05T07:32:19.557Z"
   },
   {
    "duration": 7,
    "start_time": "2021-11-05T07:32:19.940Z"
   },
   {
    "duration": 19,
    "start_time": "2021-11-05T07:32:19.950Z"
   },
   {
    "duration": 230,
    "start_time": "2021-11-05T07:32:19.972Z"
   },
   {
    "duration": 57,
    "start_time": "2021-11-05T07:32:20.205Z"
   },
   {
    "duration": 240,
    "start_time": "2021-11-05T07:32:20.265Z"
   },
   {
    "duration": 51,
    "start_time": "2021-11-05T07:32:20.523Z"
   },
   {
    "duration": 265,
    "start_time": "2021-11-05T07:32:20.576Z"
   },
   {
    "duration": 11,
    "start_time": "2021-11-05T07:32:20.843Z"
   },
   {
    "duration": 36,
    "start_time": "2021-11-05T07:32:20.856Z"
   },
   {
    "duration": 28,
    "start_time": "2021-11-05T07:32:20.895Z"
   },
   {
    "duration": 16,
    "start_time": "2021-11-05T07:32:20.925Z"
   },
   {
    "duration": 35,
    "start_time": "2021-11-05T07:32:20.943Z"
   },
   {
    "duration": 11,
    "start_time": "2021-11-05T07:32:20.980Z"
   },
   {
    "duration": 43,
    "start_time": "2021-11-05T07:32:20.994Z"
   },
   {
    "duration": 1413,
    "start_time": "2021-11-05T07:42:42.172Z"
   },
   {
    "duration": 32,
    "start_time": "2021-11-05T07:42:43.587Z"
   },
   {
    "duration": 10,
    "start_time": "2021-11-05T07:42:43.622Z"
   },
   {
    "duration": 54,
    "start_time": "2021-11-05T07:42:43.635Z"
   },
   {
    "duration": 8,
    "start_time": "2021-11-05T07:42:43.691Z"
   },
   {
    "duration": 12,
    "start_time": "2021-11-05T07:42:43.702Z"
   },
   {
    "duration": 24,
    "start_time": "2021-11-05T07:42:43.717Z"
   },
   {
    "duration": 8,
    "start_time": "2021-11-05T07:42:43.745Z"
   },
   {
    "duration": 8,
    "start_time": "2021-11-05T07:42:43.756Z"
   },
   {
    "duration": 24,
    "start_time": "2021-11-05T07:42:43.767Z"
   },
   {
    "duration": 36,
    "start_time": "2021-11-05T07:42:43.794Z"
   },
   {
    "duration": 19,
    "start_time": "2021-11-05T07:42:43.832Z"
   },
   {
    "duration": 15,
    "start_time": "2021-11-05T07:42:43.854Z"
   },
   {
    "duration": 52,
    "start_time": "2021-11-05T07:42:43.871Z"
   },
   {
    "duration": 11,
    "start_time": "2021-11-05T07:42:43.925Z"
   },
   {
    "duration": 17,
    "start_time": "2021-11-05T07:42:43.938Z"
   },
   {
    "duration": 377,
    "start_time": "2021-11-05T07:42:43.957Z"
   },
   {
    "duration": 292,
    "start_time": "2021-11-05T07:42:44.337Z"
   },
   {
    "duration": 18,
    "start_time": "2021-11-05T07:42:44.632Z"
   },
   {
    "duration": 10,
    "start_time": "2021-11-05T07:42:44.652Z"
   },
   {
    "duration": 9,
    "start_time": "2021-11-05T07:42:44.664Z"
   },
   {
    "duration": 381,
    "start_time": "2021-11-05T07:42:44.675Z"
   },
   {
    "duration": 358,
    "start_time": "2021-11-05T07:42:45.064Z"
   },
   {
    "duration": 17,
    "start_time": "2021-11-05T07:42:45.425Z"
   },
   {
    "duration": 410,
    "start_time": "2021-11-05T07:42:45.444Z"
   },
   {
    "duration": 17,
    "start_time": "2021-11-05T07:42:45.857Z"
   },
   {
    "duration": 16,
    "start_time": "2021-11-05T07:42:45.876Z"
   },
   {
    "duration": 41,
    "start_time": "2021-11-05T07:42:45.894Z"
   },
   {
    "duration": 346,
    "start_time": "2021-11-05T07:42:45.938Z"
   },
   {
    "duration": 21,
    "start_time": "2021-11-05T07:42:46.287Z"
   },
   {
    "duration": 435,
    "start_time": "2021-11-05T07:42:46.323Z"
   },
   {
    "duration": 211,
    "start_time": "2021-11-05T07:42:46.761Z"
   },
   {
    "duration": 429,
    "start_time": "2021-11-05T07:42:46.975Z"
   },
   {
    "duration": 6,
    "start_time": "2021-11-05T07:42:47.407Z"
   },
   {
    "duration": 15,
    "start_time": "2021-11-05T07:42:47.423Z"
   },
   {
    "duration": 390,
    "start_time": "2021-11-05T07:42:47.441Z"
   },
   {
    "duration": 6,
    "start_time": "2021-11-05T07:42:47.834Z"
   },
   {
    "duration": 17,
    "start_time": "2021-11-05T07:42:47.843Z"
   },
   {
    "duration": 220,
    "start_time": "2021-11-05T07:42:47.863Z"
   },
   {
    "duration": 64,
    "start_time": "2021-11-05T07:42:48.085Z"
   },
   {
    "duration": 228,
    "start_time": "2021-11-05T07:42:48.152Z"
   },
   {
    "duration": 88,
    "start_time": "2021-11-05T07:42:48.385Z"
   },
   {
    "duration": 232,
    "start_time": "2021-11-05T07:42:48.476Z"
   },
   {
    "duration": 17,
    "start_time": "2021-11-05T07:42:48.711Z"
   },
   {
    "duration": 12,
    "start_time": "2021-11-05T07:42:48.731Z"
   },
   {
    "duration": 15,
    "start_time": "2021-11-05T07:42:48.745Z"
   },
   {
    "duration": 16,
    "start_time": "2021-11-05T07:42:48.762Z"
   },
   {
    "duration": 52,
    "start_time": "2021-11-05T07:42:48.781Z"
   },
   {
    "duration": 10,
    "start_time": "2021-11-05T07:42:48.836Z"
   },
   {
    "duration": 21,
    "start_time": "2021-11-05T07:42:48.848Z"
   },
   {
    "duration": 1103,
    "start_time": "2021-11-05T09:07:46.831Z"
   },
   {
    "duration": 24,
    "start_time": "2021-11-05T09:07:47.936Z"
   },
   {
    "duration": 6,
    "start_time": "2021-11-05T09:07:47.962Z"
   },
   {
    "duration": 44,
    "start_time": "2021-11-05T09:07:47.970Z"
   },
   {
    "duration": 6,
    "start_time": "2021-11-05T09:07:48.015Z"
   },
   {
    "duration": 7,
    "start_time": "2021-11-05T09:07:48.023Z"
   },
   {
    "duration": 21,
    "start_time": "2021-11-05T09:07:48.031Z"
   },
   {
    "duration": 6,
    "start_time": "2021-11-05T09:07:48.055Z"
   },
   {
    "duration": 8,
    "start_time": "2021-11-05T09:07:48.063Z"
   },
   {
    "duration": 19,
    "start_time": "2021-11-05T09:07:48.074Z"
   },
   {
    "duration": 8,
    "start_time": "2021-11-05T09:07:48.095Z"
   },
   {
    "duration": 16,
    "start_time": "2021-11-05T09:07:48.105Z"
   },
   {
    "duration": 8,
    "start_time": "2021-11-05T09:07:48.122Z"
   },
   {
    "duration": 48,
    "start_time": "2021-11-05T09:07:48.132Z"
   },
   {
    "duration": 10,
    "start_time": "2021-11-05T09:07:48.183Z"
   },
   {
    "duration": 9,
    "start_time": "2021-11-05T09:07:48.195Z"
   },
   {
    "duration": 7,
    "start_time": "2021-11-05T09:07:48.205Z"
   },
   {
    "duration": 12,
    "start_time": "2021-11-05T09:07:48.213Z"
   },
   {
    "duration": 253,
    "start_time": "2021-11-05T09:07:48.227Z"
   },
   {
    "duration": 163,
    "start_time": "2021-11-05T09:07:48.482Z"
   },
   {
    "duration": 22,
    "start_time": "2021-11-05T09:07:48.647Z"
   },
   {
    "duration": 9,
    "start_time": "2021-11-05T09:07:48.673Z"
   },
   {
    "duration": 5,
    "start_time": "2021-11-05T09:07:48.686Z"
   },
   {
    "duration": 236,
    "start_time": "2021-11-05T09:07:48.693Z"
   },
   {
    "duration": 242,
    "start_time": "2021-11-05T09:07:48.930Z"
   },
   {
    "duration": 15,
    "start_time": "2021-11-05T09:07:49.176Z"
   },
   {
    "duration": 318,
    "start_time": "2021-11-05T09:07:49.193Z"
   },
   {
    "duration": 10,
    "start_time": "2021-11-05T09:07:49.512Z"
   },
   {
    "duration": 15,
    "start_time": "2021-11-05T09:07:49.523Z"
   },
   {
    "duration": 27,
    "start_time": "2021-11-05T09:07:49.540Z"
   },
   {
    "duration": 217,
    "start_time": "2021-11-05T09:07:49.571Z"
   },
   {
    "duration": 13,
    "start_time": "2021-11-05T09:07:49.790Z"
   },
   {
    "duration": 305,
    "start_time": "2021-11-05T09:07:49.804Z"
   },
   {
    "duration": 119,
    "start_time": "2021-11-05T09:07:50.111Z"
   },
   {
    "duration": 305,
    "start_time": "2021-11-05T09:07:50.232Z"
   },
   {
    "duration": 5,
    "start_time": "2021-11-05T09:07:50.539Z"
   },
   {
    "duration": 24,
    "start_time": "2021-11-05T09:07:50.545Z"
   },
   {
    "duration": 296,
    "start_time": "2021-11-05T09:07:50.572Z"
   },
   {
    "duration": 8,
    "start_time": "2021-11-05T09:07:50.871Z"
   },
   {
    "duration": 12,
    "start_time": "2021-11-05T09:07:50.881Z"
   },
   {
    "duration": 129,
    "start_time": "2021-11-05T09:07:50.895Z"
   },
   {
    "duration": 39,
    "start_time": "2021-11-05T09:07:51.026Z"
   },
   {
    "duration": 134,
    "start_time": "2021-11-05T09:07:51.071Z"
   },
   {
    "duration": 30,
    "start_time": "2021-11-05T09:07:51.206Z"
   },
   {
    "duration": 148,
    "start_time": "2021-11-05T09:07:51.237Z"
   },
   {
    "duration": 10,
    "start_time": "2021-11-05T09:07:51.386Z"
   },
   {
    "duration": 20,
    "start_time": "2021-11-05T09:07:51.398Z"
   },
   {
    "duration": 20,
    "start_time": "2021-11-05T09:07:51.420Z"
   },
   {
    "duration": 9,
    "start_time": "2021-11-05T09:07:51.441Z"
   },
   {
    "duration": 15,
    "start_time": "2021-11-05T09:07:51.473Z"
   },
   {
    "duration": 30,
    "start_time": "2021-11-05T09:07:51.490Z"
   },
   {
    "duration": 18,
    "start_time": "2021-11-05T09:07:51.522Z"
   },
   {
    "duration": 8,
    "start_time": "2021-11-05T09:20:48.731Z"
   },
   {
    "duration": 12,
    "start_time": "2021-11-05T09:21:03.287Z"
   },
   {
    "duration": 14,
    "start_time": "2021-11-05T09:21:45.383Z"
   },
   {
    "duration": 333,
    "start_time": "2021-11-05T09:22:49.940Z"
   },
   {
    "duration": 13,
    "start_time": "2021-11-05T09:25:13.950Z"
   },
   {
    "duration": 14,
    "start_time": "2021-11-05T09:27:54.613Z"
   },
   {
    "duration": 13,
    "start_time": "2021-11-05T09:28:12.526Z"
   },
   {
    "duration": 13,
    "start_time": "2021-11-05T09:28:29.108Z"
   },
   {
    "duration": 16,
    "start_time": "2021-11-05T09:29:37.970Z"
   },
   {
    "duration": 13,
    "start_time": "2021-11-05T09:30:41.526Z"
   },
   {
    "duration": 13,
    "start_time": "2021-11-05T09:31:16.911Z"
   },
   {
    "duration": 15,
    "start_time": "2021-11-05T09:34:32.511Z"
   },
   {
    "duration": 11,
    "start_time": "2021-11-05T09:34:58.289Z"
   },
   {
    "duration": 242,
    "start_time": "2021-11-05T09:35:10.969Z"
   },
   {
    "duration": 236,
    "start_time": "2021-11-05T09:35:24.065Z"
   },
   {
    "duration": 246,
    "start_time": "2021-11-05T09:38:04.501Z"
   },
   {
    "duration": 12,
    "start_time": "2021-11-05T09:38:20.305Z"
   },
   {
    "duration": 15,
    "start_time": "2021-11-05T09:41:02.801Z"
   },
   {
    "duration": 245,
    "start_time": "2021-11-05T09:49:54.222Z"
   },
   {
    "duration": 13,
    "start_time": "2021-11-05T09:50:07.221Z"
   },
   {
    "duration": 14,
    "start_time": "2021-11-05T09:50:31.300Z"
   },
   {
    "duration": 13,
    "start_time": "2021-11-05T09:50:40.779Z"
   },
   {
    "duration": 14,
    "start_time": "2021-11-05T09:51:05.556Z"
   },
   {
    "duration": 19,
    "start_time": "2021-11-05T09:51:10.965Z"
   },
   {
    "duration": 13,
    "start_time": "2021-11-05T09:51:20.413Z"
   },
   {
    "duration": 255,
    "start_time": "2021-11-05T09:51:35.649Z"
   },
   {
    "duration": 256,
    "start_time": "2021-11-05T09:52:20.787Z"
   },
   {
    "duration": 244,
    "start_time": "2021-11-05T09:52:32.575Z"
   },
   {
    "duration": 239,
    "start_time": "2021-11-05T09:52:47.703Z"
   },
   {
    "duration": 258,
    "start_time": "2021-11-05T09:53:01.915Z"
   },
   {
    "duration": 10,
    "start_time": "2021-11-05T09:53:16.804Z"
   },
   {
    "duration": 615,
    "start_time": "2021-11-05T09:57:53.771Z"
   },
   {
    "duration": 13,
    "start_time": "2021-11-05T09:58:22.741Z"
   },
   {
    "duration": 3,
    "start_time": "2021-11-05T10:04:31.928Z"
   },
   {
    "duration": 32,
    "start_time": "2021-11-05T10:04:31.933Z"
   },
   {
    "duration": 12,
    "start_time": "2021-11-05T10:04:31.968Z"
   },
   {
    "duration": 45,
    "start_time": "2021-11-05T10:04:31.982Z"
   },
   {
    "duration": 6,
    "start_time": "2021-11-05T10:04:32.028Z"
   },
   {
    "duration": 10,
    "start_time": "2021-11-05T10:04:32.036Z"
   },
   {
    "duration": 23,
    "start_time": "2021-11-05T10:04:32.048Z"
   },
   {
    "duration": 10,
    "start_time": "2021-11-05T10:04:32.075Z"
   },
   {
    "duration": 8,
    "start_time": "2021-11-05T10:04:32.086Z"
   },
   {
    "duration": 17,
    "start_time": "2021-11-05T10:04:32.095Z"
   },
   {
    "duration": 14,
    "start_time": "2021-11-05T10:04:32.113Z"
   },
   {
    "duration": 49,
    "start_time": "2021-11-05T10:04:32.129Z"
   },
   {
    "duration": 8,
    "start_time": "2021-11-05T10:04:32.180Z"
   },
   {
    "duration": 14,
    "start_time": "2021-11-05T10:04:32.189Z"
   },
   {
    "duration": 18,
    "start_time": "2021-11-05T10:04:32.204Z"
   },
   {
    "duration": 44,
    "start_time": "2021-11-05T10:04:32.223Z"
   },
   {
    "duration": 12,
    "start_time": "2021-11-05T10:04:32.270Z"
   },
   {
    "duration": 7,
    "start_time": "2021-11-05T10:04:32.284Z"
   },
   {
    "duration": 13,
    "start_time": "2021-11-05T10:04:32.295Z"
   },
   {
    "duration": 249,
    "start_time": "2021-11-05T10:04:32.310Z"
   },
   {
    "duration": 181,
    "start_time": "2021-11-05T10:04:32.560Z"
   },
   {
    "duration": 23,
    "start_time": "2021-11-05T10:04:32.743Z"
   },
   {
    "duration": 9,
    "start_time": "2021-11-05T10:04:32.768Z"
   },
   {
    "duration": 10,
    "start_time": "2021-11-05T10:04:32.779Z"
   },
   {
    "duration": 227,
    "start_time": "2021-11-05T10:04:32.791Z"
   },
   {
    "duration": 217,
    "start_time": "2021-11-05T10:04:33.020Z"
   },
   {
    "duration": 11,
    "start_time": "2021-11-05T10:04:33.239Z"
   },
   {
    "duration": 365,
    "start_time": "2021-11-05T10:04:33.264Z"
   },
   {
    "duration": 10,
    "start_time": "2021-11-05T10:04:33.631Z"
   },
   {
    "duration": 30,
    "start_time": "2021-11-05T10:04:33.643Z"
   },
   {
    "duration": 11,
    "start_time": "2021-11-05T10:04:33.676Z"
   },
   {
    "duration": 226,
    "start_time": "2021-11-05T10:04:33.689Z"
   },
   {
    "duration": 13,
    "start_time": "2021-11-05T10:04:33.917Z"
   },
   {
    "duration": 361,
    "start_time": "2021-11-05T10:04:33.932Z"
   },
   {
    "duration": 102,
    "start_time": "2021-11-05T10:04:34.295Z"
   },
   {
    "duration": 305,
    "start_time": "2021-11-05T10:04:34.399Z"
   },
   {
    "duration": 5,
    "start_time": "2021-11-05T10:04:34.705Z"
   },
   {
    "duration": 13,
    "start_time": "2021-11-05T10:04:34.712Z"
   },
   {
    "duration": 366,
    "start_time": "2021-11-05T10:04:34.727Z"
   },
   {
    "duration": 4,
    "start_time": "2021-11-05T10:04:35.095Z"
   },
   {
    "duration": 14,
    "start_time": "2021-11-05T10:04:35.101Z"
   },
   {
    "duration": 137,
    "start_time": "2021-11-05T10:04:35.117Z"
   },
   {
    "duration": 42,
    "start_time": "2021-11-05T10:04:35.256Z"
   },
   {
    "duration": 147,
    "start_time": "2021-11-05T10:04:35.300Z"
   },
   {
    "duration": 51,
    "start_time": "2021-11-05T10:04:35.449Z"
   },
   {
    "duration": 134,
    "start_time": "2021-11-05T10:04:35.502Z"
   },
   {
    "duration": 7,
    "start_time": "2021-11-05T10:04:35.638Z"
   },
   {
    "duration": 24,
    "start_time": "2021-11-05T10:04:35.647Z"
   },
   {
    "duration": 15,
    "start_time": "2021-11-05T10:04:35.673Z"
   },
   {
    "duration": 10,
    "start_time": "2021-11-05T10:04:35.690Z"
   },
   {
    "duration": 11,
    "start_time": "2021-11-05T10:04:35.702Z"
   },
   {
    "duration": 14,
    "start_time": "2021-11-05T10:04:35.715Z"
   },
   {
    "duration": 50,
    "start_time": "2021-11-05T10:04:35.731Z"
   },
   {
    "duration": 300,
    "start_time": "2021-11-05T10:06:46.908Z"
   },
   {
    "duration": 177,
    "start_time": "2021-11-05T10:08:10.281Z"
   },
   {
    "duration": 306,
    "start_time": "2021-11-05T10:08:23.562Z"
   },
   {
    "duration": 293,
    "start_time": "2021-11-05T10:09:18.261Z"
   },
   {
    "duration": 367,
    "start_time": "2021-11-05T10:09:33.549Z"
   },
   {
    "duration": 236,
    "start_time": "2021-11-05T10:09:47.790Z"
   },
   {
    "duration": 247,
    "start_time": "2021-11-05T10:09:53.947Z"
   },
   {
    "duration": 250,
    "start_time": "2021-11-05T10:10:00.996Z"
   },
   {
    "duration": 288,
    "start_time": "2021-11-05T10:10:14.290Z"
   },
   {
    "duration": 245,
    "start_time": "2021-11-05T10:10:56.595Z"
   },
   {
    "duration": 14,
    "start_time": "2021-11-05T10:25:24.530Z"
   },
   {
    "duration": 4,
    "start_time": "2021-11-05T10:39:45.782Z"
   },
   {
    "duration": 22,
    "start_time": "2021-11-05T10:39:45.790Z"
   },
   {
    "duration": 9,
    "start_time": "2021-11-05T10:39:45.814Z"
   },
   {
    "duration": 44,
    "start_time": "2021-11-05T10:39:45.825Z"
   },
   {
    "duration": 5,
    "start_time": "2021-11-05T10:39:45.871Z"
   },
   {
    "duration": 9,
    "start_time": "2021-11-05T10:39:45.878Z"
   },
   {
    "duration": 21,
    "start_time": "2021-11-05T10:39:45.888Z"
   },
   {
    "duration": 11,
    "start_time": "2021-11-05T10:39:45.911Z"
   },
   {
    "duration": 6,
    "start_time": "2021-11-05T10:39:45.925Z"
   },
   {
    "duration": 41,
    "start_time": "2021-11-05T10:39:45.934Z"
   },
   {
    "duration": 16,
    "start_time": "2021-11-05T10:39:45.977Z"
   },
   {
    "duration": 18,
    "start_time": "2021-11-05T10:39:45.995Z"
   },
   {
    "duration": 48,
    "start_time": "2021-11-05T10:39:46.015Z"
   },
   {
    "duration": 14,
    "start_time": "2021-11-05T10:39:46.065Z"
   },
   {
    "duration": 18,
    "start_time": "2021-11-05T10:39:46.081Z"
   },
   {
    "duration": 15,
    "start_time": "2021-11-05T10:39:46.101Z"
   },
   {
    "duration": 10,
    "start_time": "2021-11-05T10:39:46.118Z"
   },
   {
    "duration": 36,
    "start_time": "2021-11-05T10:39:46.129Z"
   },
   {
    "duration": 13,
    "start_time": "2021-11-05T10:39:46.167Z"
   },
   {
    "duration": 225,
    "start_time": "2021-11-05T10:39:46.182Z"
   },
   {
    "duration": 166,
    "start_time": "2021-11-05T10:39:46.409Z"
   },
   {
    "duration": 13,
    "start_time": "2021-11-05T10:39:46.577Z"
   },
   {
    "duration": 6,
    "start_time": "2021-11-05T10:39:46.592Z"
   },
   {
    "duration": 6,
    "start_time": "2021-11-05T10:39:46.601Z"
   },
   {
    "duration": 299,
    "start_time": "2021-11-05T10:39:46.609Z"
   },
   {
    "duration": 247,
    "start_time": "2021-11-05T10:39:46.909Z"
   },
   {
    "duration": 13,
    "start_time": "2021-11-05T10:39:47.158Z"
   },
   {
    "duration": 434,
    "start_time": "2021-11-05T10:39:47.173Z"
   },
   {
    "duration": 10,
    "start_time": "2021-11-05T10:39:47.609Z"
   },
   {
    "duration": 15,
    "start_time": "2021-11-05T10:39:47.621Z"
   },
   {
    "duration": 29,
    "start_time": "2021-11-05T10:39:47.637Z"
   },
   {
    "duration": 204,
    "start_time": "2021-11-05T10:39:47.668Z"
   },
   {
    "duration": 14,
    "start_time": "2021-11-05T10:39:47.874Z"
   },
   {
    "duration": 304,
    "start_time": "2021-11-05T10:39:47.890Z"
   },
   {
    "duration": 118,
    "start_time": "2021-11-05T10:39:48.196Z"
   },
   {
    "duration": 282,
    "start_time": "2021-11-05T10:39:48.316Z"
   },
   {
    "duration": 5,
    "start_time": "2021-11-05T10:39:48.600Z"
   },
   {
    "duration": 14,
    "start_time": "2021-11-05T10:39:48.607Z"
   },
   {
    "duration": 342,
    "start_time": "2021-11-05T10:39:48.623Z"
   },
   {
    "duration": 5,
    "start_time": "2021-11-05T10:39:48.967Z"
   },
   {
    "duration": 15,
    "start_time": "2021-11-05T10:39:48.974Z"
   },
   {
    "duration": 129,
    "start_time": "2021-11-05T10:39:48.991Z"
   },
   {
    "duration": 44,
    "start_time": "2021-11-05T10:39:49.122Z"
   },
   {
    "duration": 129,
    "start_time": "2021-11-05T10:39:49.168Z"
   },
   {
    "duration": 39,
    "start_time": "2021-11-05T10:39:49.299Z"
   },
   {
    "duration": 150,
    "start_time": "2021-11-05T10:39:49.340Z"
   },
   {
    "duration": 8,
    "start_time": "2021-11-05T10:39:49.492Z"
   },
   {
    "duration": 9,
    "start_time": "2021-11-05T10:39:49.501Z"
   },
   {
    "duration": 9,
    "start_time": "2021-11-05T10:39:49.512Z"
   },
   {
    "duration": 9,
    "start_time": "2021-11-05T10:39:49.523Z"
   },
   {
    "duration": 32,
    "start_time": "2021-11-05T10:39:49.533Z"
   },
   {
    "duration": 7,
    "start_time": "2021-11-05T10:39:49.567Z"
   },
   {
    "duration": 14,
    "start_time": "2021-11-05T10:39:49.576Z"
   },
   {
    "duration": 336,
    "start_time": "2021-11-05T10:43:43.988Z"
   },
   {
    "duration": 394,
    "start_time": "2021-11-05T10:43:53.433Z"
   },
   {
    "duration": 342,
    "start_time": "2021-11-05T10:44:01.010Z"
   },
   {
    "duration": 373,
    "start_time": "2021-11-05T10:44:06.737Z"
   },
   {
    "duration": 334,
    "start_time": "2021-11-05T10:44:13.305Z"
   },
   {
    "duration": 339,
    "start_time": "2021-11-05T10:44:20.272Z"
   },
   {
    "duration": 378,
    "start_time": "2021-11-05T10:44:49.624Z"
   },
   {
    "duration": 488,
    "start_time": "2021-11-05T10:45:35.142Z"
   },
   {
    "duration": 410,
    "start_time": "2021-11-05T10:45:48.358Z"
   },
   {
    "duration": 386,
    "start_time": "2021-11-05T10:46:01.096Z"
   },
   {
    "duration": 8,
    "start_time": "2021-11-05T10:48:34.483Z"
   },
   {
    "duration": 9,
    "start_time": "2021-11-05T10:48:59.119Z"
   },
   {
    "duration": 253,
    "start_time": "2021-11-05T10:49:03.514Z"
   },
   {
    "duration": 8,
    "start_time": "2021-11-05T10:49:10.258Z"
   },
   {
    "duration": 94,
    "start_time": "2021-11-05T10:50:13.061Z"
   },
   {
    "duration": 773,
    "start_time": "2021-11-05T10:50:21.247Z"
   },
   {
    "duration": 83,
    "start_time": "2021-11-05T10:50:46.678Z"
   },
   {
    "duration": 85,
    "start_time": "2021-11-05T10:51:05.180Z"
   },
   {
    "duration": 7,
    "start_time": "2021-11-05T10:51:14.715Z"
   },
   {
    "duration": 642,
    "start_time": "2021-11-05T10:51:30.195Z"
   },
   {
    "duration": 7,
    "start_time": "2021-11-05T10:52:00.619Z"
   },
   {
    "duration": 7,
    "start_time": "2021-11-05T10:52:21.083Z"
   },
   {
    "duration": 11,
    "start_time": "2021-11-05T10:53:30.270Z"
   },
   {
    "duration": 7,
    "start_time": "2021-11-05T10:54:05.515Z"
   }
  ],
  "kernelspec": {
   "display_name": "Python 3 (ipykernel)",
   "language": "python",
   "name": "python3"
  },
  "language_info": {
   "codemirror_mode": {
    "name": "ipython",
    "version": 3
   },
   "file_extension": ".py",
   "mimetype": "text/x-python",
   "name": "python",
   "nbconvert_exporter": "python",
   "pygments_lexer": "ipython3",
   "version": "3.9.7"
  },
  "toc": {
   "base_numbering": 1,
   "nav_menu": {},
   "number_sections": true,
   "sideBar": false,
   "skip_h1_title": true,
   "title_cell": "Содержание",
   "title_sidebar": "Contents",
   "toc_cell": true,
   "toc_position": {},
   "toc_section_display": false,
   "toc_window_display": false
  }
 },
 "nbformat": 4,
 "nbformat_minor": 2
}
